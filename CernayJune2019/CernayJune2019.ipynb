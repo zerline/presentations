{
 "cells": [
  {
   "cell_type": "markdown",
   "metadata": {
    "slideshow": {
     "slide_type": "slide"
    }
   },
   "source": [
    "# Widgets for Sage : _Sage Combinat  Widgets_ & _Francy_\n",
    "Cernay, 18th June 2019"
   ]
  },
  {
   "cell_type": "markdown",
   "metadata": {
    "slideshow": {
     "slide_type": "slide"
    }
   },
   "source": [
    "# Sage Combinat Widgets\n",
    "Representing combinatorial objects interactively"
   ]
  },
  {
   "cell_type": "code",
   "execution_count": 1,
   "metadata": {
    "slideshow": {
     "slide_type": "subslide"
    }
   },
   "outputs": [
    {
     "data": {
      "application/vnd.jupyter.widget-view+json": {
       "model_id": "b02102f5e090413cb1c43eb7d8781295",
       "version_major": 2,
       "version_minor": 0
      },
      "text/plain": [
       "HTML(value=\"<style>.widget-text INPUT {border-collapse: collapse !important}\\n.gridbutton {margin:0; padding:0…"
      ]
     },
     "metadata": {},
     "output_type": "display_data"
    },
    {
     "data": {
      "application/vnd.jupyter.widget-view+json": {
       "model_id": "465ce807b20742539fa916cbce0b0306",
       "version_major": 2,
       "version_minor": 0
      },
      "text/plain": [
       "GridViewWidget(value=[[1, 2, 3, 6, 13], [4, 9, 10], [5, 12, 14], [7], [8], [11], [15]], children=(HBox(childre…"
      ]
     },
     "metadata": {},
     "output_type": "display_data"
    }
   ],
   "source": [
    "from sage_combinat_widgets import *\n",
    "t = StandardTableaux(15).random_element()\n",
    "wt = GridViewWidget(t)\n",
    "wt"
   ]
  },
  {
   "cell_type": "code",
   "execution_count": 2,
   "metadata": {
    "slideshow": {
     "slide_type": "fragment"
    }
   },
   "outputs": [
    {
     "data": {
      "text/plain": [
       "┌────┬────┬────┬───┬────┐\n",
       "│ 1  │ 2  │ 3  │ 6 │ 13 │\n",
       "├────┼────┼────┼───┴────┘\n",
       "│ 4  │ 9  │ 10 │\n",
       "├────┼────┼────┤\n",
       "│ 5  │ 12 │ 14 │\n",
       "├────┼────┴────┘\n",
       "│ 7  │\n",
       "├────┤\n",
       "│ 8  │\n",
       "├────┤\n",
       "│ 11 │\n",
       "├────┤\n",
       "│ 15 │\n",
       "└────┘"
      ]
     },
     "execution_count": 2,
     "metadata": {},
     "output_type": "execute_result"
    }
   ],
   "source": [
    "%display unicode_art\n",
    "wt.value"
   ]
  },
  {
   "cell_type": "markdown",
   "metadata": {
    "slideshow": {
     "slide_type": "slide"
    }
   },
   "source": [
    "## Configuring cells\n",
    "\n"
   ]
  },
  {
   "cell_type": "code",
   "execution_count": 3,
   "metadata": {
    "slideshow": {
     "slide_type": "fragment"
    }
   },
   "outputs": [
    {
     "data": {
      "application/vnd.jupyter.widget-view+json": {
       "model_id": "db92d69f6c1f450fbe0ac23846194edb",
       "version_major": 2,
       "version_minor": 0
      },
      "text/plain": [
       "GridViewWidget(value=[7, 4, 2, 1] / [2, 1, 1], children=(HBox(children=(AddableButtonCell(value=False, descrip…"
      ]
     },
     "metadata": {},
     "output_type": "display_data"
    }
   ],
   "source": [
    "from sage_combinat_widgets.grid_view_widget import ButtonCell, AddableButtonCell\n",
    "\n",
    "GridViewWidget(SkewPartition([[7, 4, 2, 1],[2, 1, 1]]), \n",
    "               cell_widget_classes=[ButtonCell],\n",
    "               addable_widget_class=AddableButtonCell,\n",
    "               display_convention='fr')"
   ]
  },
  {
   "cell_type": "code",
   "execution_count": 4,
   "metadata": {
    "slideshow": {
     "slide_type": "subslide"
    }
   },
   "outputs": [],
   "source": [
    "from sage.graphs.generators.families import AztecDiamondGraph\n",
    "g = AztecDiamondGraph(8)"
   ]
  },
  {
   "cell_type": "code",
   "execution_count": 5,
   "metadata": {
    "slideshow": {
     "slide_type": "fragment"
    }
   },
   "outputs": [
    {
     "data": {
      "text/html": [
       "<style>\n",
       ".b1 {background-color: green}\n",
       ".b2 {background-color: blue}\n",
       ".b3 {background-color: red}\n",
       ".b4 {background-color: yellow}\n",
       "</style>"
      ],
      "text/plain": [
       "<IPython.core.display.HTML object>"
      ]
     },
     "metadata": {},
     "output_type": "display_data"
    }
   ],
   "source": [
    "%%html\n",
    "<style>\n",
    ".b1 {background-color: green}\n",
    ".b2 {background-color: blue}\n",
    ".b3 {background-color: red}\n",
    ".b4 {background-color: yellow}\n",
    "</style>"
   ]
  },
  {
   "cell_type": "code",
   "execution_count": 6,
   "metadata": {
    "slideshow": {
     "slide_type": "fragment"
    }
   },
   "outputs": [
    {
     "data": {
      "application/vnd.jupyter.widget-view+json": {
       "model_id": "a2909f5839f54fe19e69879a7a965159",
       "version_major": 2,
       "version_minor": 0
      },
      "text/plain": [
       "GridViewWidget(value=Aztec Diamond graph of order 8, children=(HBox(children=(BlankCell(value='', disabled=Tru…"
      ]
     },
     "metadata": {},
     "output_type": "display_data"
    }
   ],
   "source": [
    "from sage_combinat_widgets import GridViewWidget, styled_push_button\n",
    "from ipywidgets import Layout\n",
    "smallblyt = Layout(width='12px',height='12px', margin='0', padding='0')\n",
    "Button1 = styled_push_button(disabled=True, style_name='b1')\n",
    "Button2 = styled_push_button(disabled=True, style_name='b2')\n",
    "Button3 = styled_push_button(disabled=True, style_name='b3')\n",
    "Button4 = styled_push_button(disabled=True, style_name='b4')\n",
    "GridViewWidget(g, cell_layout=smallblyt,\n",
    "            cell_widget_classes=[Button1, Button2, Button3, Button4],\n",
    "            cell_widget_class_index = lambda pos:(((1+pos[0])%4 + (2-pos[1])%2)%4)\n",
    "            )"
   ]
  },
  {
   "cell_type": "markdown",
   "metadata": {
    "slideshow": {
     "slide_type": "slide"
    }
   },
   "source": [
    "## As building block for interactive applications"
   ]
  },
  {
   "cell_type": "code",
   "execution_count": 7,
   "metadata": {
    "slideshow": {
     "slide_type": "fragment"
    }
   },
   "outputs": [
    {
     "data": {
      "application/vnd.jupyter.widget-view+json": {
       "model_id": "e9f52b021ba4414d85f946941b1ece78",
       "version_major": 2,
       "version_minor": 0
      },
      "text/plain": [
       "Interactive function <function f at 0x7f1951aa0d08> with 1 widget\n",
       "  p: GridViewWidget(value=[2, 1], children=(…"
      ]
     },
     "metadata": {},
     "output_type": "display_data"
    }
   ],
   "source": [
    "%display unicode_art\n",
    "from sage_combinat_widgets.grid_view_widget import PartitionGridViewWidget\n",
    "p_input = PartitionGridViewWidget(Partition([2,1]))\n",
    "@interact\n",
    "def f(p = p_input):\n",
    "    return Tableau(p.hook_lengths())"
   ]
  },
  {
   "cell_type": "markdown",
   "metadata": {
    "slideshow": {
     "slide_type": "subslide"
    }
   },
   "source": [
    "As a more advanced application, we build a mini application for interactively exploring products of Schur functions:"
   ]
  },
  {
   "cell_type": "code",
   "execution_count": 8,
   "metadata": {
    "slideshow": {
     "slide_type": "fragment"
    }
   },
   "outputs": [
    {
     "data": {
      "application/vnd.jupyter.widget-view+json": {
       "model_id": "8aa2d3790a754d5ba7a854028457d13c",
       "version_major": 2,
       "version_minor": 0
      },
      "text/plain": [
       "Interactive function <function f at 0x7f195184b9d8> with 2 widgets\n",
       "  la: GridViewWidget(value=[2, 1], children…"
      ]
     },
     "metadata": {},
     "output_type": "display_data"
    }
   ],
   "source": [
    "S = SymmetricFunctions(QQ)\n",
    "s = S.s()\n",
    "la_input = PartitionGridViewWidget(Partition([2,1]))\n",
    "mu_input = PartitionGridViewWidget(Partition([2,1]))\n",
    "@interact\n",
    "def f(la = la_input, mu = mu_input):\n",
    "    return s[la] * s[mu]"
   ]
  },
  {
   "cell_type": "markdown",
   "metadata": {
    "slideshow": {
     "slide_type": "subslide"
    }
   },
   "source": [
    "_**NB : sage-combinat-widgets can also be used as components in complex layouts, like for example in the Sage Explorer**_"
   ]
  },
  {
   "cell_type": "markdown",
   "metadata": {
    "slideshow": {
     "slide_type": "slide"
    }
   },
   "source": [
    "## Adapters"
   ]
  },
  {
   "cell_type": "markdown",
   "metadata": {
    "slideshow": {
     "slide_type": "fragment"
    }
   },
   "source": [
    "We _may_ need to define such methods:\n",
    "\n",
    "- `compute_cells(obj)` that builds the cells as a _position to value_ dictionary \n",
    "- mathematical cell content to widget cell content as `cell_to_display(val)`\n",
    "- the reverse as `display_to_cell(disp_val)` (for dealing with various types) \n",
    "- accessors as `get_cell(pos)`, `set_cell(pos, val)`\n",
    "- operations like adding/removing a cell as `add_cell`/`remove_cell`, adding a row as `add_row`, and more\n",
    "\n",
    "_All modification operations should return a new Sage object_"
   ]
  },
  {
   "cell_type": "markdown",
   "metadata": {
    "slideshow": {
     "slide_type": "subslide"
    }
   },
   "source": [
    "## Create your own"
   ]
  },
  {
   "cell_type": "code",
   "execution_count": 9,
   "metadata": {
    "slideshow": {
     "slide_type": "subslide"
    }
   },
   "outputs": [
    {
     "data": {
      "application/vnd.jupyter.widget-view+json": {
       "model_id": "f478709977d2422c89a9a6bb9039a92b",
       "version_major": 2,
       "version_minor": 0
      },
      "text/plain": [
       "GridViewWidget(value=[2, 3, 4, 5, 1], children=(HBox(children=(TextCell(value='2', continuous_update=False, la…"
      ]
     },
     "metadata": {},
     "output_type": "display_data"
    }
   ],
   "source": [
    "from sage.combinat.permutation import *\n",
    "from sage_widget_adapters.generic_grid_view_adapter import GridViewAdapter # Base adapter\n",
    "\n",
    "class PermutationGridViewAdapter(GridViewAdapter):\n",
    "    objclass = Permutation\n",
    "    celltype = Integer\n",
    "    cellzero = 0\n",
    "\n",
    "    @staticmethod\n",
    "    def compute_cells(obj):\n",
    "        return {(0,i):obj[i] for i in range(len(obj))}\n",
    "\n",
    "pa = PermutationGridViewAdapter()\n",
    "\n",
    "from sage_combinat_widgets import GridViewWidget, BlankButton\n",
    "p0 = Permutation([2,3,4,5,1])\n",
    "wp = GridViewWidget(p0, pa)\n",
    "wp"
   ]
  },
  {
   "cell_type": "markdown",
   "metadata": {
    "slideshow": {
     "slide_type": "subslide"
    }
   },
   "source": [
    "### We can configure actions on our push buttons."
   ]
  },
  {
   "cell_type": "code",
   "execution_count": 10,
   "metadata": {
    "slideshow": {
     "slide_type": "fragment"
    }
   },
   "outputs": [
    {
     "data": {
      "application/vnd.jupyter.widget-view+json": {
       "model_id": "3309a62a2a7b4bf098bedf3a2c88b2f2",
       "version_major": 2,
       "version_minor": 0
      },
      "text/plain": [
       "HBox(children=(GridViewWidget(value=[2, 3, 4, 5, 1], children=(HBox(children=(TextCell(value='2', continuous_u…"
      ]
     },
     "metadata": {},
     "output_type": "display_data"
    }
   ],
   "source": [
    "from ipywidgets import Button, HBox, Layout\n",
    "blyt = Layout(width='30px', height='30px')\n",
    "b1 = Button(description='+', layout=blyt)\n",
    "b2 = Button(description='-', layout=blyt)\n",
    "def move(b):\n",
    "    wp.value = p0 * wp.value\n",
    "b1.on_click(move)\n",
    "def back(b):\n",
    "    wp.pop_value()\n",
    "b2.on_click(back)\n",
    "b0 = BlankButton() # just a spacer\n",
    "HBox([wp,b0,b2,b1])"
   ]
  },
  {
   "cell_type": "markdown",
   "metadata": {
    "slideshow": {
     "slide_type": "slide"
    }
   },
   "source": [
    "## You can contribute better examples!"
   ]
  },
  {
   "cell_type": "markdown",
   "metadata": {
    "slideshow": {
     "slide_type": "fragment"
    }
   },
   "source": [
    "$ pip install sage-combinat-widgets _# needs Sage and Jupyter_\n",
    "\n",
    "http://github.com/sagemath/sage-combinat-widgets\n",
    "\n",
    "<odile.benassy@u-psud.fr>"
   ]
  },
  {
   "cell_type": "markdown",
   "metadata": {
    "slideshow": {
     "slide_type": "slide"
    }
   },
   "source": [
    "# Francy"
   ]
  },
  {
   "cell_type": "markdown",
   "metadata": {
    "slideshow": {
     "slide_type": "fragment"
    }
   },
   "source": [
    "- A GAP/Javascript library by Manuel Machado Martins\n",
    "\n",
    "https://github.com/gap-packages\n",
    "\n",
    "- in GAP language, encodes graphs, charts .. into JSON strings\n",
    "\n",
    "- sends JSON to Jupyter\n",
    "\n",
    "- with dedicated Javascript adapters, use various JS libraries to display the graph (or chart ..)\n",
    "\n",
    "- currently D3, GraphViz and Vis"
   ]
  },
  {
   "cell_type": "markdown",
   "metadata": {},
   "source": [
    "I currently contribute a Jupyter widget written in Python3, usable with Jupyter kernels based on Py3 (such as Sage kernels)\n",
    "\n",
    "https://github.com/zerline/francy-widget/"
   ]
  },
  {
   "cell_type": "markdown",
   "metadata": {
    "slideshow": {
     "slide_type": "slide"
    }
   },
   "source": [
    "## S4"
   ]
  },
  {
   "cell_type": "code",
   "execution_count": 11,
   "metadata": {
    "slideshow": {
     "slide_type": "fragment"
    }
   },
   "outputs": [
    {
     "data": {
      "image/png": "[encoded data removed]",
      "text/plain": [
       "Graphics object consisting of 67 graphics primitives"
      ]
     },
     "execution_count": 11,
     "metadata": {},
     "output_type": "execute_result"
    }
   ],
   "source": [
    "S4 = SymmetricGroup(4)\n",
    "N = S4.subgroups()\n",
    "P = Poset((N, lambda h,k: h.is_subgroup(k)))\n",
    "P.plot(label_elements=False, vertex_shape= 'H', vertex_size = 600, vertex_color = 'white')"
   ]
  },
  {
   "cell_type": "code",
   "execution_count": 12,
   "metadata": {
    "slideshow": {
     "slide_type": "fragment"
    }
   },
   "outputs": [],
   "source": [
    "D = P.hasse_diagram()\n",
    "import networkx\n",
    "G7 = networkx.Graph()\n",
    "G7.add_edges_from([(e[0], e[1]) for e in D.edges()])"
   ]
  },
  {
   "cell_type": "markdown",
   "metadata": {
    "slideshow": {
     "slide_type": "subslide"
    }
   },
   "source": [
    "For specific layout options, we write a function called _node__options_ , that should return an _options_ dictionary. In our case:\n",
    "- Normal subgroups will be highlighted with a diamond shaped node\n",
    "- Conjugacy classes will be grouped in the final layout"
   ]
  },
  {
   "cell_type": "code",
   "execution_count": 13,
   "metadata": {
    "slideshow": {
     "slide_type": "subslide"
    }
   },
   "outputs": [],
   "source": [
    "# Conjugality classes\n",
    "conjugates = {}\n",
    "conjugacy_class = {}\n",
    "for count,c in enumerate(S4._gap_().ConjugacyClassesSubgroups()):\n",
    "    cl = int(count + 1)\n",
    "    conjugates[cl] = []\n",
    "    for s in c.List():\n",
    "        conjugates[cl].append(S4.subgroup(gap_group=s))\n",
    "        conjugacy_class[S4.subgroup(gap_group=s)] = cl\n",
    "\n",
    "def node_options(n):\n",
    "    options = {}\n",
    "    options['layer'] = - conjugacy_class[n]\n",
    "    if n.is_normal():\n",
    "        options['type'] = 'diamond'       \n",
    "    else:\n",
    "        options['type'] = 'circle'        \n",
    "    if n.cardinality() == 24:\n",
    "        options['title'] = 'G'\n",
    "        options['conjugate'] = 0\n",
    "    else:\n",
    "        options['title'] = str(conjugacy_class[n])\n",
    "        options['conjugate'] = conjugacy_class[n]\n",
    "    return options"
   ]
  },
  {
   "cell_type": "code",
   "execution_count": 14,
   "metadata": {
    "slideshow": {
     "slide_type": "subslide"
    }
   },
   "outputs": [
    {
     "data": {
      "application/vnd.francy+json": "{\"version\": \"1.1.3\", \"mime\": \"application/vnd.francy+json\", \"canvas\": {\"id\": \"c4ca4238a0b923820dcc509a6f75849b\", \"title\": \"S4\", \"width\": 800.0, \"height\": 600.0, \"zoomToFit\": true, \"texTypesetting\": false, \"graph\": {\"id\": \"c4ca4238a0b923820dcc509a6f75849b_graph48\", \"simulation\": true, \"collapsed\": true, \"drag\": false, \"showNeighbours\": false, \"nodes\": {\"c4ca4238a0b923820dcc509a6f75849b_node49\": {\"id\": \"c4ca4238a0b923820dcc509a6f75849b_node49\", \"x\": 0, \"y\": 0, \"type\": \"diamond\", \"size\": 10, \"title\": \"1\", \"conjugate\": 1, \"color\": \"\", \"highlight\": true, \"layer\": -1, \"parent\": \"\", \"menus\": {}, \"messages\": {}, \"callbacks\": {}}, \"c4ca4238a0b923820dcc509a6f75849b_node50\": {\"id\": \"c4ca4238a0b923820dcc509a6f75849b_node50\", \"x\": 0, \"y\": 0, \"type\": \"circle\", \"size\": 10, \"title\": \"3\", \"conjugate\": 3, \"color\": \"\", \"highlight\": true, \"layer\": -3, \"parent\": \"\", \"menus\": {}, \"messages\": {}, \"callbacks\": {}}, \"c4ca4238a0b923820dcc509a6f75849b_node51\": {\"id\": \"c4ca4238a0b923820dcc509a6f75849b_node51\", \"x\": 0, \"y\": 0, \"type\": \"circle\", \"size\": 10, \"title\": \"3\", \"conjugate\": 3, \"color\": \"\", \"highlight\": true, \"layer\": -3, \"parent\": \"\", \"menus\": {}, \"messages\": {}, \"callbacks\": {}}, \"c4ca4238a0b923820dcc509a6f75849b_node52\": {\"id\": \"c4ca4238a0b923820dcc509a6f75849b_node52\", \"x\": 0, \"y\": 0, \"type\": \"circle\", \"size\": 10, \"title\": \"4\", \"conjugate\": 4, \"color\": \"\", \"highlight\": true, \"layer\": -4, \"parent\": \"\", \"menus\": {}, \"messages\": {}, \"callbacks\": {}}, \"c4ca4238a0b923820dcc509a6f75849b_node53\": {\"id\": \"c4ca4238a0b923820dcc509a6f75849b_node53\", \"x\": 0, \"y\": 0, \"type\": \"circle\", \"size\": 10, \"title\": \"3\", \"conjugate\": 3, \"color\": \"\", \"highlight\": true, \"layer\": -3, \"parent\": \"\", \"menus\": {}, \"messages\": {}, \"callbacks\": {}}, \"c4ca4238a0b923820dcc509a6f75849b_node54\": {\"id\": \"c4ca4238a0b923820dcc509a6f75849b_node54\", \"x\": 0, \"y\": 0, \"type\": \"circle\", \"size\": 10, \"title\": \"3\", \"conjugate\": 3, \"color\": \"\", \"highlight\": true, \"layer\": -3, \"parent\": \"\", \"menus\": {}, \"messages\": {}, \"callbacks\": {}}, \"c4ca4238a0b923820dcc509a6f75849b_node55\": {\"id\": \"c4ca4238a0b923820dcc509a6f75849b_node55\", \"x\": 0, \"y\": 0, \"type\": \"circle\", \"size\": 10, \"title\": \"2\", \"conjugate\": 2, \"color\": \"\", \"highlight\": true, \"layer\": -2, \"parent\": \"\", \"menus\": {}, \"messages\": {}, \"callbacks\": {}}, \"c4ca4238a0b923820dcc509a6f75849b_node56\": {\"id\": \"c4ca4238a0b923820dcc509a6f75849b_node56\", \"x\": 0, \"y\": 0, \"type\": \"circle\", \"size\": 10, \"title\": \"4\", \"conjugate\": 4, \"color\": \"\", \"highlight\": true, \"layer\": -4, \"parent\": \"\", \"menus\": {}, \"messages\": {}, \"callbacks\": {}}, \"c4ca4238a0b923820dcc509a6f75849b_node57\": {\"id\": \"c4ca4238a0b923820dcc509a6f75849b_node57\", \"x\": 0, \"y\": 0, \"type\": \"circle\", \"size\": 10, \"title\": \"4\", \"conjugate\": 4, \"color\": \"\", \"highlight\": true, \"layer\": -4, \"parent\": \"\", \"menus\": {}, \"messages\": {}, \"callbacks\": {}}, \"c4ca4238a0b923820dcc509a6f75849b_node58\": {\"id\": \"c4ca4238a0b923820dcc509a6f75849b_node58\", \"x\": 0, \"y\": 0, \"type\": \"circle\", \"size\": 10, \"title\": \"3\", \"conjugate\": 3, \"color\": \"\", \"highlight\": true, \"layer\": -3, \"parent\": \"\", \"menus\": {}, \"messages\": {}, \"callbacks\": {}}, \"c4ca4238a0b923820dcc509a6f75849b_node59\": {\"id\": \"c4ca4238a0b923820dcc509a6f75849b_node59\", \"x\": 0, \"y\": 0, \"type\": \"circle\", \"size\": 10, \"title\": \"4\", \"conjugate\": 4, \"color\": \"\", \"highlight\": true, \"layer\": -4, \"parent\": \"\", \"menus\": {}, \"messages\": {}, \"callbacks\": {}}, \"c4ca4238a0b923820dcc509a6f75849b_node60\": {\"id\": \"c4ca4238a0b923820dcc509a6f75849b_node60\", \"x\": 0, \"y\": 0, \"type\": \"circle\", \"size\": 10, \"title\": \"2\", \"conjugate\": 2, \"color\": \"\", \"highlight\": true, \"layer\": -2, \"parent\": \"\", \"menus\": {}, \"messages\": {}, \"callbacks\": {}}, \"c4ca4238a0b923820dcc509a6f75849b_node61\": {\"id\": \"c4ca4238a0b923820dcc509a6f75849b_node61\", \"x\": 0, \"y\": 0, \"type\": \"circle\", \"size\": 10, \"title\": \"3\", \"conjugate\": 3, \"color\": \"\", \"highlight\": true, \"layer\": -3, \"parent\": \"\", \"menus\": {}, \"messages\": {}, \"callbacks\": {}}, \"c4ca4238a0b923820dcc509a6f75849b_node62\": {\"id\": \"c4ca4238a0b923820dcc509a6f75849b_node62\", \"x\": 0, \"y\": 0, \"type\": \"circle\", \"size\": 10, \"title\": \"2\", \"conjugate\": 2, \"color\": \"\", \"highlight\": true, \"layer\": -2, \"parent\": \"\", \"menus\": {}, \"messages\": {}, \"callbacks\": {}}, \"c4ca4238a0b923820dcc509a6f75849b_node63\": {\"id\": \"c4ca4238a0b923820dcc509a6f75849b_node63\", \"x\": 0, \"y\": 0, \"type\": \"circle\", \"size\": 10, \"title\": \"8\", \"conjugate\": 8, \"color\": \"\", \"highlight\": true, \"layer\": -8, \"parent\": \"\", \"menus\": {}, \"messages\": {}, \"callbacks\": {}}, \"c4ca4238a0b923820dcc509a6f75849b_node64\": {\"id\": \"c4ca4238a0b923820dcc509a6f75849b_node64\", \"x\": 0, \"y\": 0, \"type\": \"circle\", \"size\": 10, \"title\": \"6\", \"conjugate\": 6, \"color\": \"\", \"highlight\": true, \"layer\": -6, \"parent\": \"\", \"menus\": {}, \"messages\": {}, \"callbacks\": {}}, \"c4ca4238a0b923820dcc509a6f75849b_node65\": {\"id\": \"c4ca4238a0b923820dcc509a6f75849b_node65\", \"x\": 0, \"y\": 0, \"type\": \"circle\", \"size\": 10, \"title\": \"8\", \"conjugate\": 8, \"color\": \"\", \"highlight\": true, \"layer\": -8, \"parent\": \"\", \"menus\": {}, \"messages\": {}, \"callbacks\": {}}, \"c4ca4238a0b923820dcc509a6f75849b_node66\": {\"id\": \"c4ca4238a0b923820dcc509a6f75849b_node66\", \"x\": 0, \"y\": 0, \"type\": \"circle\", \"size\": 10, \"title\": \"9\", \"conjugate\": 9, \"color\": \"\", \"highlight\": true, \"layer\": -9, \"parent\": \"\", \"menus\": {}, \"messages\": {}, \"callbacks\": {}}, \"c4ca4238a0b923820dcc509a6f75849b_node67\": {\"id\": \"c4ca4238a0b923820dcc509a6f75849b_node67\", \"x\": 0, \"y\": 0, \"type\": \"circle\", \"size\": 10, \"title\": \"8\", \"conjugate\": 8, \"color\": \"\", \"highlight\": true, \"layer\": -8, \"parent\": \"\", \"menus\": {}, \"messages\": {}, \"callbacks\": {}}, \"c4ca4238a0b923820dcc509a6f75849b_node68\": {\"id\": \"c4ca4238a0b923820dcc509a6f75849b_node68\", \"x\": 0, \"y\": 0, \"type\": \"circle\", \"size\": 10, \"title\": \"6\", \"conjugate\": 6, \"color\": \"\", \"highlight\": true, \"layer\": -6, \"parent\": \"\", \"menus\": {}, \"messages\": {}, \"callbacks\": {}}, \"c4ca4238a0b923820dcc509a6f75849b_node69\": {\"id\": \"c4ca4238a0b923820dcc509a6f75849b_node69\", \"x\": 0, \"y\": 0, \"type\": \"diamond\", \"size\": 10, \"title\": \"10\", \"conjugate\": 10, \"color\": \"\", \"highlight\": true, \"layer\": -10, \"parent\": \"\", \"menus\": {}, \"messages\": {}, \"callbacks\": {}}, \"c4ca4238a0b923820dcc509a6f75849b_node70\": {\"id\": \"c4ca4238a0b923820dcc509a6f75849b_node70\", \"x\": 0, \"y\": 0, \"type\": \"circle\", \"size\": 10, \"title\": \"8\", \"conjugate\": 8, \"color\": \"\", \"highlight\": true, \"layer\": -8, \"parent\": \"\", \"menus\": {}, \"messages\": {}, \"callbacks\": {}}, \"c4ca4238a0b923820dcc509a6f75849b_node71\": {\"id\": \"c4ca4238a0b923820dcc509a6f75849b_node71\", \"x\": 0, \"y\": 0, \"type\": \"circle\", \"size\": 10, \"title\": \"6\", \"conjugate\": 6, \"color\": \"\", \"highlight\": true, \"layer\": -6, \"parent\": \"\", \"menus\": {}, \"messages\": {}, \"callbacks\": {}}, \"c4ca4238a0b923820dcc509a6f75849b_node72\": {\"id\": \"c4ca4238a0b923820dcc509a6f75849b_node72\", \"x\": 0, \"y\": 0, \"type\": \"diamond\", \"size\": 10, \"title\": \"G\", \"conjugate\": 0, \"color\": \"\", \"highlight\": true, \"layer\": -11, \"parent\": \"\", \"menus\": {}, \"messages\": {}, \"callbacks\": {}}, \"c4ca4238a0b923820dcc509a6f75849b_node73\": {\"id\": \"c4ca4238a0b923820dcc509a6f75849b_node73\", \"x\": 0, \"y\": 0, \"type\": \"diamond\", \"size\": 10, \"title\": \"5\", \"conjugate\": 5, \"color\": \"\", \"highlight\": true, \"layer\": -5, \"parent\": \"\", \"menus\": {}, \"messages\": {}, \"callbacks\": {}}, \"c4ca4238a0b923820dcc509a6f75849b_node74\": {\"id\": \"c4ca4238a0b923820dcc509a6f75849b_node74\", \"x\": 0, \"y\": 0, \"type\": \"circle\", \"size\": 10, \"title\": \"7\", \"conjugate\": 7, \"color\": \"\", \"highlight\": true, \"layer\": -7, \"parent\": \"\", \"menus\": {}, \"messages\": {}, \"callbacks\": {}}, \"c4ca4238a0b923820dcc509a6f75849b_node75\": {\"id\": \"c4ca4238a0b923820dcc509a6f75849b_node75\", \"x\": 0, \"y\": 0, \"type\": \"circle\", \"size\": 10, \"title\": \"9\", \"conjugate\": 9, \"color\": \"\", \"highlight\": true, \"layer\": -9, \"parent\": \"\", \"menus\": {}, \"messages\": {}, \"callbacks\": {}}, \"c4ca4238a0b923820dcc509a6f75849b_node76\": {\"id\": \"c4ca4238a0b923820dcc509a6f75849b_node76\", \"x\": 0, \"y\": 0, \"type\": \"circle\", \"size\": 10, \"title\": \"9\", \"conjugate\": 9, \"color\": \"\", \"highlight\": true, \"layer\": -9, \"parent\": \"\", \"menus\": {}, \"messages\": {}, \"callbacks\": {}}, \"c4ca4238a0b923820dcc509a6f75849b_node77\": {\"id\": \"c4ca4238a0b923820dcc509a6f75849b_node77\", \"x\": 0, \"y\": 0, \"type\": \"circle\", \"size\": 10, \"title\": \"7\", \"conjugate\": 7, \"color\": \"\", \"highlight\": true, \"layer\": -7, \"parent\": \"\", \"menus\": {}, \"messages\": {}, \"callbacks\": {}}, \"c4ca4238a0b923820dcc509a6f75849b_node78\": {\"id\": \"c4ca4238a0b923820dcc509a6f75849b_node78\", \"x\": 0, \"y\": 0, \"type\": \"circle\", \"size\": 10, \"title\": \"7\", \"conjugate\": 7, \"color\": \"\", \"highlight\": true, \"layer\": -7, \"parent\": \"\", \"menus\": {}, \"messages\": {}, \"callbacks\": {}}}, \"links\": {\"c4ca4238a0b923820dcc509a6f75849b_edge79\": {\"source\": \"c4ca4238a0b923820dcc509a6f75849b_node49\", \"weight\": 0, \"color\": \"\", \"target\": \"c4ca4238a0b923820dcc509a6f75849b_node50\", \"id\": \"c4ca4238a0b923820dcc509a6f75849b_edge79\"}, \"c4ca4238a0b923820dcc509a6f75849b_edge80\": {\"source\": \"c4ca4238a0b923820dcc509a6f75849b_node49\", \"weight\": 0, \"color\": \"\", \"target\": \"c4ca4238a0b923820dcc509a6f75849b_node51\", \"id\": \"c4ca4238a0b923820dcc509a6f75849b_edge80\"}, \"c4ca4238a0b923820dcc509a6f75849b_edge81\": {\"source\": \"c4ca4238a0b923820dcc509a6f75849b_node49\", \"weight\": 0, \"color\": \"\", \"target\": \"c4ca4238a0b923820dcc509a6f75849b_node52\", \"id\": \"c4ca4238a0b923820dcc509a6f75849b_edge81\"}, \"c4ca4238a0b923820dcc509a6f75849b_edge82\": {\"source\": \"c4ca4238a0b923820dcc509a6f75849b_node49\", \"weight\": 0, \"color\": \"\", \"target\": \"c4ca4238a0b923820dcc509a6f75849b_node53\", \"id\": \"c4ca4238a0b923820dcc509a6f75849b_edge82\"}, \"c4ca4238a0b923820dcc509a6f75849b_edge83\": {\"source\": \"c4ca4238a0b923820dcc509a6f75849b_node49\", \"weight\": 0, \"color\": \"\", \"target\": \"c4ca4238a0b923820dcc509a6f75849b_node54\", \"id\": \"c4ca4238a0b923820dcc509a6f75849b_edge83\"}, \"c4ca4238a0b923820dcc509a6f75849b_edge84\": {\"source\": \"c4ca4238a0b923820dcc509a6f75849b_node49\", \"weight\": 0, \"color\": \"\", \"target\": \"c4ca4238a0b923820dcc509a6f75849b_node55\", \"id\": \"c4ca4238a0b923820dcc509a6f75849b_edge84\"}, \"c4ca4238a0b923820dcc509a6f75849b_edge85\": {\"source\": \"c4ca4238a0b923820dcc509a6f75849b_node49\", \"weight\": 0, \"color\": \"\", \"target\": \"c4ca4238a0b923820dcc509a6f75849b_node56\", \"id\": \"c4ca4238a0b923820dcc509a6f75849b_edge85\"}, \"c4ca4238a0b923820dcc509a6f75849b_edge86\": {\"source\": \"c4ca4238a0b923820dcc509a6f75849b_node49\", \"weight\": 0, \"color\": \"\", \"target\": \"c4ca4238a0b923820dcc509a6f75849b_node57\", \"id\": \"c4ca4238a0b923820dcc509a6f75849b_edge86\"}, \"c4ca4238a0b923820dcc509a6f75849b_edge87\": {\"source\": \"c4ca4238a0b923820dcc509a6f75849b_node49\", \"weight\": 0, \"color\": \"\", \"target\": \"c4ca4238a0b923820dcc509a6f75849b_node58\", \"id\": \"c4ca4238a0b923820dcc509a6f75849b_edge87\"}, \"c4ca4238a0b923820dcc509a6f75849b_edge88\": {\"source\": \"c4ca4238a0b923820dcc509a6f75849b_node49\", \"weight\": 0, \"color\": \"\", \"target\": \"c4ca4238a0b923820dcc509a6f75849b_node59\", \"id\": \"c4ca4238a0b923820dcc509a6f75849b_edge88\"}, \"c4ca4238a0b923820dcc509a6f75849b_edge89\": {\"source\": \"c4ca4238a0b923820dcc509a6f75849b_node49\", \"weight\": 0, \"color\": \"\", \"target\": \"c4ca4238a0b923820dcc509a6f75849b_node60\", \"id\": \"c4ca4238a0b923820dcc509a6f75849b_edge89\"}, \"c4ca4238a0b923820dcc509a6f75849b_edge90\": {\"source\": \"c4ca4238a0b923820dcc509a6f75849b_node49\", \"weight\": 0, \"color\": \"\", \"target\": \"c4ca4238a0b923820dcc509a6f75849b_node61\", \"id\": \"c4ca4238a0b923820dcc509a6f75849b_edge90\"}, \"c4ca4238a0b923820dcc509a6f75849b_edge91\": {\"source\": \"c4ca4238a0b923820dcc509a6f75849b_node49\", \"weight\": 0, \"color\": \"\", \"target\": \"c4ca4238a0b923820dcc509a6f75849b_node62\", \"id\": \"c4ca4238a0b923820dcc509a6f75849b_edge91\"}, \"c4ca4238a0b923820dcc509a6f75849b_edge92\": {\"source\": \"c4ca4238a0b923820dcc509a6f75849b_node50\", \"weight\": 0, \"color\": \"\", \"target\": \"c4ca4238a0b923820dcc509a6f75849b_node63\", \"id\": \"c4ca4238a0b923820dcc509a6f75849b_edge92\"}, \"c4ca4238a0b923820dcc509a6f75849b_edge93\": {\"source\": \"c4ca4238a0b923820dcc509a6f75849b_node50\", \"weight\": 0, \"color\": \"\", \"target\": \"c4ca4238a0b923820dcc509a6f75849b_node64\", \"id\": \"c4ca4238a0b923820dcc509a6f75849b_edge93\"}, \"c4ca4238a0b923820dcc509a6f75849b_edge94\": {\"source\": \"c4ca4238a0b923820dcc509a6f75849b_node50\", \"weight\": 0, \"color\": \"\", \"target\": \"c4ca4238a0b923820dcc509a6f75849b_node65\", \"id\": \"c4ca4238a0b923820dcc509a6f75849b_edge94\"}, \"c4ca4238a0b923820dcc509a6f75849b_edge95\": {\"source\": \"c4ca4238a0b923820dcc509a6f75849b_node51\", \"weight\": 0, \"color\": \"\", \"target\": \"c4ca4238a0b923820dcc509a6f75849b_node63\", \"id\": \"c4ca4238a0b923820dcc509a6f75849b_edge95\"}, \"c4ca4238a0b923820dcc509a6f75849b_edge96\": {\"source\": \"c4ca4238a0b923820dcc509a6f75849b_node51\", \"weight\": 0, \"color\": \"\", \"target\": \"c4ca4238a0b923820dcc509a6f75849b_node67\", \"id\": \"c4ca4238a0b923820dcc509a6f75849b_edge96\"}, \"c4ca4238a0b923820dcc509a6f75849b_edge97\": {\"source\": \"c4ca4238a0b923820dcc509a6f75849b_node51\", \"weight\": 0, \"color\": \"\", \"target\": \"c4ca4238a0b923820dcc509a6f75849b_node68\", \"id\": \"c4ca4238a0b923820dcc509a6f75849b_edge97\"}, \"c4ca4238a0b923820dcc509a6f75849b_edge98\": {\"source\": \"c4ca4238a0b923820dcc509a6f75849b_node52\", \"weight\": 0, \"color\": \"\", \"target\": \"c4ca4238a0b923820dcc509a6f75849b_node63\", \"id\": \"c4ca4238a0b923820dcc509a6f75849b_edge98\"}, \"c4ca4238a0b923820dcc509a6f75849b_edge99\": {\"source\": \"c4ca4238a0b923820dcc509a6f75849b_node52\", \"weight\": 0, \"color\": \"\", \"target\": \"c4ca4238a0b923820dcc509a6f75849b_node69\", \"id\": \"c4ca4238a0b923820dcc509a6f75849b_edge99\"}, \"c4ca4238a0b923820dcc509a6f75849b_edge100\": {\"source\": \"c4ca4238a0b923820dcc509a6f75849b_node53\", \"weight\": 0, \"color\": \"\", \"target\": \"c4ca4238a0b923820dcc509a6f75849b_node63\", \"id\": \"c4ca4238a0b923820dcc509a6f75849b_edge100\"}, \"c4ca4238a0b923820dcc509a6f75849b_edge101\": {\"source\": \"c4ca4238a0b923820dcc509a6f75849b_node53\", \"weight\": 0, \"color\": \"\", \"target\": \"c4ca4238a0b923820dcc509a6f75849b_node70\", \"id\": \"c4ca4238a0b923820dcc509a6f75849b_edge101\"}, \"c4ca4238a0b923820dcc509a6f75849b_edge102\": {\"source\": \"c4ca4238a0b923820dcc509a6f75849b_node53\", \"weight\": 0, \"color\": \"\", \"target\": \"c4ca4238a0b923820dcc509a6f75849b_node71\", \"id\": \"c4ca4238a0b923820dcc509a6f75849b_edge102\"}, \"c4ca4238a0b923820dcc509a6f75849b_edge103\": {\"source\": \"c4ca4238a0b923820dcc509a6f75849b_node54\", \"weight\": 0, \"color\": \"\", \"target\": \"c4ca4238a0b923820dcc509a6f75849b_node64\", \"id\": \"c4ca4238a0b923820dcc509a6f75849b_edge103\"}, \"c4ca4238a0b923820dcc509a6f75849b_edge104\": {\"source\": \"c4ca4238a0b923820dcc509a6f75849b_node54\", \"weight\": 0, \"color\": \"\", \"target\": \"c4ca4238a0b923820dcc509a6f75849b_node67\", \"id\": \"c4ca4238a0b923820dcc509a6f75849b_edge104\"}, \"c4ca4238a0b923820dcc509a6f75849b_edge105\": {\"source\": \"c4ca4238a0b923820dcc509a6f75849b_node54\", \"weight\": 0, \"color\": \"\", \"target\": \"c4ca4238a0b923820dcc509a6f75849b_node70\", \"id\": \"c4ca4238a0b923820dcc509a6f75849b_edge105\"}, \"c4ca4238a0b923820dcc509a6f75849b_edge106\": {\"source\": \"c4ca4238a0b923820dcc509a6f75849b_node55\", \"weight\": 0, \"color\": \"\", \"target\": \"c4ca4238a0b923820dcc509a6f75849b_node64\", \"id\": \"c4ca4238a0b923820dcc509a6f75849b_edge106\"}, \"c4ca4238a0b923820dcc509a6f75849b_edge107\": {\"source\": \"c4ca4238a0b923820dcc509a6f75849b_node55\", \"weight\": 0, \"color\": \"\", \"target\": \"c4ca4238a0b923820dcc509a6f75849b_node73\", \"id\": \"c4ca4238a0b923820dcc509a6f75849b_edge107\"}, \"c4ca4238a0b923820dcc509a6f75849b_edge108\": {\"source\": \"c4ca4238a0b923820dcc509a6f75849b_node55\", \"weight\": 0, \"color\": \"\", \"target\": \"c4ca4238a0b923820dcc509a6f75849b_node74\", \"id\": \"c4ca4238a0b923820dcc509a6f75849b_edge108\"}, \"c4ca4238a0b923820dcc509a6f75849b_edge109\": {\"source\": \"c4ca4238a0b923820dcc509a6f75849b_node56\", \"weight\": 0, \"color\": \"\", \"target\": \"c4ca4238a0b923820dcc509a6f75849b_node67\", \"id\": \"c4ca4238a0b923820dcc509a6f75849b_edge109\"}, \"c4ca4238a0b923820dcc509a6f75849b_edge110\": {\"source\": \"c4ca4238a0b923820dcc509a6f75849b_node56\", \"weight\": 0, \"color\": \"\", \"target\": \"c4ca4238a0b923820dcc509a6f75849b_node69\", \"id\": \"c4ca4238a0b923820dcc509a6f75849b_edge110\"}, \"c4ca4238a0b923820dcc509a6f75849b_edge111\": {\"source\": \"c4ca4238a0b923820dcc509a6f75849b_node57\", \"weight\": 0, \"color\": \"\", \"target\": \"c4ca4238a0b923820dcc509a6f75849b_node69\", \"id\": \"c4ca4238a0b923820dcc509a6f75849b_edge111\"}, \"c4ca4238a0b923820dcc509a6f75849b_edge112\": {\"source\": \"c4ca4238a0b923820dcc509a6f75849b_node57\", \"weight\": 0, \"color\": \"\", \"target\": \"c4ca4238a0b923820dcc509a6f75849b_node70\", \"id\": \"c4ca4238a0b923820dcc509a6f75849b_edge112\"}, \"c4ca4238a0b923820dcc509a6f75849b_edge113\": {\"source\": \"c4ca4238a0b923820dcc509a6f75849b_node58\", \"weight\": 0, \"color\": \"\", \"target\": \"c4ca4238a0b923820dcc509a6f75849b_node65\", \"id\": \"c4ca4238a0b923820dcc509a6f75849b_edge113\"}, \"c4ca4238a0b923820dcc509a6f75849b_edge114\": {\"source\": \"c4ca4238a0b923820dcc509a6f75849b_node58\", \"weight\": 0, \"color\": \"\", \"target\": \"c4ca4238a0b923820dcc509a6f75849b_node67\", \"id\": \"c4ca4238a0b923820dcc509a6f75849b_edge114\"}, \"c4ca4238a0b923820dcc509a6f75849b_edge115\": {\"source\": \"c4ca4238a0b923820dcc509a6f75849b_node58\", \"weight\": 0, \"color\": \"\", \"target\": \"c4ca4238a0b923820dcc509a6f75849b_node71\", \"id\": \"c4ca4238a0b923820dcc509a6f75849b_edge115\"}, \"c4ca4238a0b923820dcc509a6f75849b_edge116\": {\"source\": \"c4ca4238a0b923820dcc509a6f75849b_node59\", \"weight\": 0, \"color\": \"\", \"target\": \"c4ca4238a0b923820dcc509a6f75849b_node65\", \"id\": \"c4ca4238a0b923820dcc509a6f75849b_edge116\"}, \"c4ca4238a0b923820dcc509a6f75849b_edge117\": {\"source\": \"c4ca4238a0b923820dcc509a6f75849b_node59\", \"weight\": 0, \"color\": \"\", \"target\": \"c4ca4238a0b923820dcc509a6f75849b_node69\", \"id\": \"c4ca4238a0b923820dcc509a6f75849b_edge117\"}, \"c4ca4238a0b923820dcc509a6f75849b_edge118\": {\"source\": \"c4ca4238a0b923820dcc509a6f75849b_node60\", \"weight\": 0, \"color\": \"\", \"target\": \"c4ca4238a0b923820dcc509a6f75849b_node71\", \"id\": \"c4ca4238a0b923820dcc509a6f75849b_edge118\"}, \"c4ca4238a0b923820dcc509a6f75849b_edge119\": {\"source\": \"c4ca4238a0b923820dcc509a6f75849b_node60\", \"weight\": 0, \"color\": \"\", \"target\": \"c4ca4238a0b923820dcc509a6f75849b_node73\", \"id\": \"c4ca4238a0b923820dcc509a6f75849b_edge119\"}, \"c4ca4238a0b923820dcc509a6f75849b_edge120\": {\"source\": \"c4ca4238a0b923820dcc509a6f75849b_node60\", \"weight\": 0, \"color\": \"\", \"target\": \"c4ca4238a0b923820dcc509a6f75849b_node77\", \"id\": \"c4ca4238a0b923820dcc509a6f75849b_edge120\"}, \"c4ca4238a0b923820dcc509a6f75849b_edge121\": {\"source\": \"c4ca4238a0b923820dcc509a6f75849b_node61\", \"weight\": 0, \"color\": \"\", \"target\": \"c4ca4238a0b923820dcc509a6f75849b_node65\", \"id\": \"c4ca4238a0b923820dcc509a6f75849b_edge121\"}, \"c4ca4238a0b923820dcc509a6f75849b_edge122\": {\"source\": \"c4ca4238a0b923820dcc509a6f75849b_node61\", \"weight\": 0, \"color\": \"\", \"target\": \"c4ca4238a0b923820dcc509a6f75849b_node68\", \"id\": \"c4ca4238a0b923820dcc509a6f75849b_edge122\"}, \"c4ca4238a0b923820dcc509a6f75849b_edge123\": {\"source\": \"c4ca4238a0b923820dcc509a6f75849b_node61\", \"weight\": 0, \"color\": \"\", \"target\": \"c4ca4238a0b923820dcc509a6f75849b_node70\", \"id\": \"c4ca4238a0b923820dcc509a6f75849b_edge123\"}, \"c4ca4238a0b923820dcc509a6f75849b_edge124\": {\"source\": \"c4ca4238a0b923820dcc509a6f75849b_node62\", \"weight\": 0, \"color\": \"\", \"target\": \"c4ca4238a0b923820dcc509a6f75849b_node68\", \"id\": \"c4ca4238a0b923820dcc509a6f75849b_edge124\"}, \"c4ca4238a0b923820dcc509a6f75849b_edge125\": {\"source\": \"c4ca4238a0b923820dcc509a6f75849b_node62\", \"weight\": 0, \"color\": \"\", \"target\": \"c4ca4238a0b923820dcc509a6f75849b_node73\", \"id\": \"c4ca4238a0b923820dcc509a6f75849b_edge125\"}, \"c4ca4238a0b923820dcc509a6f75849b_edge126\": {\"source\": \"c4ca4238a0b923820dcc509a6f75849b_node62\", \"weight\": 0, \"color\": \"\", \"target\": \"c4ca4238a0b923820dcc509a6f75849b_node78\", \"id\": \"c4ca4238a0b923820dcc509a6f75849b_edge126\"}, \"c4ca4238a0b923820dcc509a6f75849b_edge127\": {\"source\": \"c4ca4238a0b923820dcc509a6f75849b_node63\", \"weight\": 0, \"color\": \"\", \"target\": \"c4ca4238a0b923820dcc509a6f75849b_node72\", \"id\": \"c4ca4238a0b923820dcc509a6f75849b_edge127\"}, \"c4ca4238a0b923820dcc509a6f75849b_edge128\": {\"source\": \"c4ca4238a0b923820dcc509a6f75849b_node64\", \"weight\": 0, \"color\": \"\", \"target\": \"c4ca4238a0b923820dcc509a6f75849b_node66\", \"id\": \"c4ca4238a0b923820dcc509a6f75849b_edge128\"}, \"c4ca4238a0b923820dcc509a6f75849b_edge129\": {\"source\": \"c4ca4238a0b923820dcc509a6f75849b_node65\", \"weight\": 0, \"color\": \"\", \"target\": \"c4ca4238a0b923820dcc509a6f75849b_node72\", \"id\": \"c4ca4238a0b923820dcc509a6f75849b_edge129\"}, \"c4ca4238a0b923820dcc509a6f75849b_edge130\": {\"source\": \"c4ca4238a0b923820dcc509a6f75849b_node66\", \"weight\": 0, \"color\": \"\", \"target\": \"c4ca4238a0b923820dcc509a6f75849b_node74\", \"id\": \"c4ca4238a0b923820dcc509a6f75849b_edge130\"}, \"c4ca4238a0b923820dcc509a6f75849b_edge131\": {\"source\": \"c4ca4238a0b923820dcc509a6f75849b_node66\", \"weight\": 0, \"color\": \"\", \"target\": \"c4ca4238a0b923820dcc509a6f75849b_node73\", \"id\": \"c4ca4238a0b923820dcc509a6f75849b_edge131\"}, \"c4ca4238a0b923820dcc509a6f75849b_edge132\": {\"source\": \"c4ca4238a0b923820dcc509a6f75849b_node66\", \"weight\": 0, \"color\": \"\", \"target\": \"c4ca4238a0b923820dcc509a6f75849b_node72\", \"id\": \"c4ca4238a0b923820dcc509a6f75849b_edge132\"}, \"c4ca4238a0b923820dcc509a6f75849b_edge133\": {\"source\": \"c4ca4238a0b923820dcc509a6f75849b_node67\", \"weight\": 0, \"color\": \"\", \"target\": \"c4ca4238a0b923820dcc509a6f75849b_node72\", \"id\": \"c4ca4238a0b923820dcc509a6f75849b_edge133\"}, \"c4ca4238a0b923820dcc509a6f75849b_edge134\": {\"source\": \"c4ca4238a0b923820dcc509a6f75849b_node68\", \"weight\": 0, \"color\": \"\", \"target\": \"c4ca4238a0b923820dcc509a6f75849b_node75\", \"id\": \"c4ca4238a0b923820dcc509a6f75849b_edge134\"}, \"c4ca4238a0b923820dcc509a6f75849b_edge135\": {\"source\": \"c4ca4238a0b923820dcc509a6f75849b_node69\", \"weight\": 0, \"color\": \"\", \"target\": \"c4ca4238a0b923820dcc509a6f75849b_node73\", \"id\": \"c4ca4238a0b923820dcc509a6f75849b_edge135\"}, \"c4ca4238a0b923820dcc509a6f75849b_edge136\": {\"source\": \"c4ca4238a0b923820dcc509a6f75849b_node69\", \"weight\": 0, \"color\": \"\", \"target\": \"c4ca4238a0b923820dcc509a6f75849b_node72\", \"id\": \"c4ca4238a0b923820dcc509a6f75849b_edge136\"}, \"c4ca4238a0b923820dcc509a6f75849b_edge137\": {\"source\": \"c4ca4238a0b923820dcc509a6f75849b_node70\", \"weight\": 0, \"color\": \"\", \"target\": \"c4ca4238a0b923820dcc509a6f75849b_node72\", \"id\": \"c4ca4238a0b923820dcc509a6f75849b_edge137\"}, \"c4ca4238a0b923820dcc509a6f75849b_edge138\": {\"source\": \"c4ca4238a0b923820dcc509a6f75849b_node71\", \"weight\": 0, \"color\": \"\", \"target\": \"c4ca4238a0b923820dcc509a6f75849b_node76\", \"id\": \"c4ca4238a0b923820dcc509a6f75849b_edge138\"}, \"c4ca4238a0b923820dcc509a6f75849b_edge139\": {\"source\": \"c4ca4238a0b923820dcc509a6f75849b_node72\", \"weight\": 0, \"color\": \"\", \"target\": \"c4ca4238a0b923820dcc509a6f75849b_node75\", \"id\": \"c4ca4238a0b923820dcc509a6f75849b_edge139\"}, \"c4ca4238a0b923820dcc509a6f75849b_edge140\": {\"source\": \"c4ca4238a0b923820dcc509a6f75849b_node72\", \"weight\": 0, \"color\": \"\", \"target\": \"c4ca4238a0b923820dcc509a6f75849b_node76\", \"id\": \"c4ca4238a0b923820dcc509a6f75849b_edge140\"}, \"c4ca4238a0b923820dcc509a6f75849b_edge141\": {\"source\": \"c4ca4238a0b923820dcc509a6f75849b_node73\", \"weight\": 0, \"color\": \"\", \"target\": \"c4ca4238a0b923820dcc509a6f75849b_node75\", \"id\": \"c4ca4238a0b923820dcc509a6f75849b_edge141\"}, \"c4ca4238a0b923820dcc509a6f75849b_edge142\": {\"source\": \"c4ca4238a0b923820dcc509a6f75849b_node73\", \"weight\": 0, \"color\": \"\", \"target\": \"c4ca4238a0b923820dcc509a6f75849b_node76\", \"id\": \"c4ca4238a0b923820dcc509a6f75849b_edge142\"}, \"c4ca4238a0b923820dcc509a6f75849b_edge143\": {\"source\": \"c4ca4238a0b923820dcc509a6f75849b_node75\", \"weight\": 0, \"color\": \"\", \"target\": \"c4ca4238a0b923820dcc509a6f75849b_node78\", \"id\": \"c4ca4238a0b923820dcc509a6f75849b_edge143\"}, \"c4ca4238a0b923820dcc509a6f75849b_edge144\": {\"source\": \"c4ca4238a0b923820dcc509a6f75849b_node76\", \"weight\": 0, \"color\": \"\", \"target\": \"c4ca4238a0b923820dcc509a6f75849b_node77\", \"id\": \"c4ca4238a0b923820dcc509a6f75849b_edge144\"}}, \"type\": \"undirected\"}, \"menus\": {}, \"messages\": {\"c4ca4238a0b923820dcc509a6f75849b_message47\": {\"id\": \"33e75ff09dd601bbe69f351039152189_message1\", \"type\": \"default\", \"title\": \"\", \"text\": \"There are 8 levels in this Group.\"}}}}",
      "text/plain": [
       "FrancyWidget(value=<networkx.classes.graph.Graph object at 0x7f19501b3080>)"
      ]
     },
     "metadata": {},
     "output_type": "display_data"
    }
   ],
   "source": [
    "from francy_widget import FrancyWidget, FrancyMessage\n",
    "FrancyWidget(G7, \n",
    "                  title=\"S4\", counter=45, height=600, weight=0,\n",
    "                  messages=[\"There are 8 levels in this Group.\"],\n",
    "                  node_options=node_options)"
   ]
  },
  {
   "cell_type": "markdown",
   "metadata": {
    "slideshow": {
     "slide_type": "slide"
    }
   },
   "source": [
    "## Emmy Noether's descent\n",
    "\n",
    "Amalie Emmy Noether (23 March 1882 – 14 April 1935) was a German mathematician who made important contributions to abstract algebra and theoretical physics (https://en.wikipedia.org/wiki/Emmy_Noether).\n",
    "\n",
    "According to the math genealogy project, Emmy Noether had 14 doctoral students, who had 76 themselves, ... so until now she has *1365* descendants."
   ]
  },
  {
   "cell_type": "code",
   "execution_count": 17,
   "metadata": {
    "slideshow": {
     "slide_type": "subslide"
    }
   },
   "outputs": [
    {
     "name": "stdout",
     "output_type": "stream",
     "text": [
      "1365\n",
      "91 nodes\n"
     ]
    },
    {
     "data": {
      "application/vnd.francy+json": "{\"version\": \"1.1.3\", \"mime\": \"application/vnd.francy+json\", \"canvas\": {\"id\": \"fbd7939d674997cdb4692d34de8633c4\", \"title\": \"\", \"width\": 800.0, \"height\": 800.0, \"zoomToFit\": false, \"texTypesetting\": false, \"graph\": {\"id\": \"fbd7939d674997cdb4692d34de8633c4_graph47\", \"simulation\": true, \"collapsed\": true, \"drag\": false, \"showNeighbours\": false, \"nodes\": {\"fbd7939d674997cdb4692d34de8633c4_node48\": {\"id\": \"fbd7939d674997cdb4692d34de8633c4_node48\", \"x\": 0, \"y\": 0, \"type\": \"diamond\", \"size\": 10, \"title\": \"Noether (1907)\", \"color\": \"\", \"highlight\": true, \"layer\": 1, \"parent\": \"\", \"menus\": {}, \"messages\": {}, \"callbacks\": {}}, \"fbd7939d674997cdb4692d34de8633c4_node49\": {\"id\": \"fbd7939d674997cdb4692d34de8633c4_node49\", \"x\": 0, \"y\": 0, \"type\": \"circle\", \"size\": 10, \"title\": \"Grell (1926)\", \"color\": \"\", \"highlight\": true, \"layer\": 2, \"parent\": \"\", \"menus\": {}, \"messages\": {}, \"callbacks\": {}}, \"fbd7939d674997cdb4692d34de8633c4_node50\": {\"id\": \"fbd7939d674997cdb4692d34de8633c4_node50\", \"x\": 0, \"y\": 0, \"type\": \"diamond\", \"size\": 10, \"title\": \"Hermann (1926)\", \"color\": \"\", \"highlight\": true, \"layer\": 2, \"parent\": \"\", \"menus\": {}, \"messages\": {}, \"callbacks\": {}}, \"fbd7939d674997cdb4692d34de8633c4_node51\": {\"id\": \"fbd7939d674997cdb4692d34de8633c4_node51\", \"x\": 0, \"y\": 0, \"type\": \"circle\", \"size\": 10, \"title\": \"D\\u00f6rate (1927)\", \"color\": \"\", \"highlight\": true, \"layer\": 2, \"parent\": \"\", \"menus\": {}, \"messages\": {}, \"callbacks\": {}}, \"fbd7939d674997cdb4692d34de8633c4_node52\": {\"id\": \"fbd7939d674997cdb4692d34de8633c4_node52\", \"x\": 0, \"y\": 0, \"type\": \"circle\", \"size\": 10, \"title\": \"Levitzki (1929)\", \"color\": \"\", \"highlight\": true, \"layer\": 2, \"parent\": \"\", \"menus\": {}, \"messages\": {}, \"callbacks\": {}}, \"fbd7939d674997cdb4692d34de8633c4_node53\": {\"id\": \"fbd7939d674997cdb4692d34de8633c4_node53\", \"x\": 0, \"y\": 0, \"type\": \"circle\", \"size\": 10, \"title\": \"Weber (1929)\", \"color\": \"\", \"highlight\": true, \"layer\": 2, \"parent\": \"\", \"menus\": {}, \"messages\": {}, \"callbacks\": {}}, \"fbd7939d674997cdb4692d34de8633c4_node54\": {\"id\": \"fbd7939d674997cdb4692d34de8633c4_node54\", \"x\": 0, \"y\": 0, \"type\": \"circle\", \"size\": 10, \"title\": \"Deuring (1931)\", \"color\": \"\", \"highlight\": true, \"layer\": 2, \"parent\": \"\", \"menus\": {}, \"messages\": {}, \"callbacks\": {}}, \"fbd7939d674997cdb4692d34de8633c4_node55\": {\"id\": \"fbd7939d674997cdb4692d34de8633c4_node55\", \"x\": 0, \"y\": 0, \"type\": \"circle\", \"size\": 10, \"title\": \"Fitting (1931)\", \"color\": \"\", \"highlight\": true, \"layer\": 2, \"parent\": \"\", \"menus\": {}, \"messages\": {}, \"callbacks\": {}}, \"fbd7939d674997cdb4692d34de8633c4_node56\": {\"id\": \"fbd7939d674997cdb4692d34de8633c4_node56\", \"x\": 0, \"y\": 0, \"type\": \"circle\", \"size\": 10, \"title\": \"Schwarz (1933)\", \"color\": \"\", \"highlight\": true, \"layer\": 2, \"parent\": \"\", \"menus\": {}, \"messages\": {}, \"callbacks\": {}}, \"fbd7939d674997cdb4692d34de8633c4_node57\": {\"id\": \"fbd7939d674997cdb4692d34de8633c4_node57\", \"x\": 0, \"y\": 0, \"type\": \"circle\", \"size\": 10, \"title\": \"Tsen (1934)\", \"color\": \"\", \"highlight\": true, \"layer\": 2, \"parent\": \"\", \"menus\": {}, \"messages\": {}, \"callbacks\": {}}, \"fbd7939d674997cdb4692d34de8633c4_node58\": {\"id\": \"fbd7939d674997cdb4692d34de8633c4_node58\", \"x\": 0, \"y\": 0, \"type\": \"circle\", \"size\": 10, \"title\": \"Witt (1934)\", \"color\": \"\", \"highlight\": true, \"layer\": 2, \"parent\": \"\", \"menus\": {}, \"messages\": {}, \"callbacks\": {}}, \"fbd7939d674997cdb4692d34de8633c4_node59\": {\"id\": \"fbd7939d674997cdb4692d34de8633c4_node59\", \"x\": 0, \"y\": 0, \"type\": \"circle\", \"size\": 10, \"title\": \"Schilling (1935)\", \"color\": \"\", \"highlight\": true, \"layer\": 2, \"parent\": \"\", \"menus\": {}, \"messages\": {}, \"callbacks\": {}}, \"fbd7939d674997cdb4692d34de8633c4_node60\": {\"id\": \"fbd7939d674997cdb4692d34de8633c4_node60\", \"x\": 0, \"y\": 0, \"type\": \"diamond\", \"size\": 10, \"title\": \"Stauffer (1935)\", \"color\": \"\", \"highlight\": true, \"layer\": 2, \"parent\": \"\", \"menus\": {}, \"messages\": {}, \"callbacks\": {}}, \"fbd7939d674997cdb4692d34de8633c4_node61\": {\"id\": \"fbd7939d674997cdb4692d34de8633c4_node61\", \"x\": 0, \"y\": 0, \"type\": \"circle\", \"size\": 10, \"title\": \"Vorbeck (1935)\", \"color\": \"\", \"highlight\": true, \"layer\": 2, \"parent\": \"\", \"menus\": {}, \"messages\": {}, \"callbacks\": {}}, \"fbd7939d674997cdb4692d34de8633c4_node62\": {\"id\": \"fbd7939d674997cdb4692d34de8633c4_node62\", \"x\": 0, \"y\": 0, \"type\": \"circle\", \"size\": 10, \"title\": \"Wichmann (1936)\", \"color\": \"\", \"highlight\": true, \"layer\": 2, \"parent\": \"\", \"menus\": {}, \"messages\": {}, \"callbacks\": {}}, \"fbd7939d674997cdb4692d34de8633c4_node63\": {\"id\": \"fbd7939d674997cdb4692d34de8633c4_node63\", \"x\": 0, \"y\": 0, \"type\": \"circle\", \"size\": 10, \"title\": \"Eichler (1936)\", \"color\": \"\", \"highlight\": true, \"layer\": 3, \"parent\": \"\", \"menus\": {}, \"messages\": {}, \"callbacks\": {}}, \"fbd7939d674997cdb4692d34de8633c4_node64\": {\"id\": \"fbd7939d674997cdb4692d34de8633c4_node64\", \"x\": 0, \"y\": 0, \"type\": \"circle\", \"size\": 10, \"title\": \"Latt (1957)\", \"color\": \"\", \"highlight\": true, \"layer\": 3, \"parent\": \"\", \"menus\": {}, \"messages\": {}, \"callbacks\": {}}, \"fbd7939d674997cdb4692d34de8633c4_node65\": {\"id\": \"fbd7939d674997cdb4692d34de8633c4_node65\", \"x\": 0, \"y\": 0, \"type\": \"circle\", \"size\": 10, \"title\": \"Lugowski (1957)\", \"color\": \"\", \"highlight\": true, \"layer\": 3, \"parent\": \"\", \"menus\": {}, \"messages\": {}, \"callbacks\": {}}, \"fbd7939d674997cdb4692d34de8633c4_node66\": {\"id\": \"fbd7939d674997cdb4692d34de8633c4_node66\", \"x\": 0, \"y\": 0, \"type\": \"circle\", \"size\": 10, \"title\": \"Budach (1962)\", \"color\": \"\", \"highlight\": true, \"layer\": 3, \"parent\": \"\", \"menus\": {}, \"messages\": {}, \"callbacks\": {}}, \"fbd7939d674997cdb4692d34de8633c4_node67\": {\"id\": \"fbd7939d674997cdb4692d34de8633c4_node67\", \"x\": 0, \"y\": 0, \"type\": \"circle\", \"size\": 10, \"title\": \"Kreiser (1962)\", \"color\": \"\", \"highlight\": true, \"layer\": 3, \"parent\": \"\", \"menus\": {}, \"messages\": {}, \"callbacks\": {}}, \"fbd7939d674997cdb4692d34de8633c4_node68\": {\"id\": \"fbd7939d674997cdb4692d34de8633c4_node68\", \"x\": 0, \"y\": 0, \"type\": \"circle\", \"size\": 10, \"title\": \"Bothe (1964)\", \"color\": \"\", \"highlight\": true, \"layer\": 3, \"parent\": \"\", \"menus\": {}, \"messages\": {}, \"callbacks\": {}}, \"fbd7939d674997cdb4692d34de8633c4_node69\": {\"id\": \"fbd7939d674997cdb4692d34de8633c4_node69\", \"x\": 0, \"y\": 0, \"type\": \"circle\", \"size\": 10, \"title\": \"Hoehnke (1965)\", \"color\": \"\", \"highlight\": true, \"layer\": 3, \"parent\": \"\", \"menus\": {}, \"messages\": {}, \"callbacks\": {}}, \"fbd7939d674997cdb4692d34de8633c4_node70\": {\"id\": \"fbd7939d674997cdb4692d34de8633c4_node70\", \"x\": 0, \"y\": 0, \"type\": \"circle\", \"size\": 10, \"title\": \"Kurke (1967)\", \"color\": \"\", \"highlight\": true, \"layer\": 3, \"parent\": \"\", \"menus\": {}, \"messages\": {}, \"callbacks\": {}}, \"fbd7939d674997cdb4692d34de8633c4_node71\": {\"id\": \"fbd7939d674997cdb4692d34de8633c4_node71\", \"x\": 0, \"y\": 0, \"type\": \"diamond\", \"size\": 10, \"title\": \"Fiedler (1968)\", \"color\": \"\", \"highlight\": true, \"layer\": 3, \"parent\": \"\", \"menus\": {}, \"messages\": {}, \"callbacks\": {}}, \"fbd7939d674997cdb4692d34de8633c4_node72\": {\"id\": \"fbd7939d674997cdb4692d34de8633c4_node72\", \"x\": 0, \"y\": 0, \"type\": \"circle\", \"size\": 10, \"title\": \"Strecker (1968)\", \"color\": \"\", \"highlight\": true, \"layer\": 3, \"parent\": \"\", \"menus\": {}, \"messages\": {}, \"callbacks\": {}}, \"fbd7939d674997cdb4692d34de8633c4_node73\": {\"id\": \"fbd7939d674997cdb4692d34de8633c4_node73\", \"x\": 0, \"y\": 0, \"type\": \"circle\", \"size\": 10, \"title\": \"Holzapfel (1970)\", \"color\": \"\", \"highlight\": true, \"layer\": 3, \"parent\": \"\", \"menus\": {}, \"messages\": {}, \"callbacks\": {}}, \"fbd7939d674997cdb4692d34de8633c4_node74\": {\"id\": \"fbd7939d674997cdb4692d34de8633c4_node74\", \"x\": 0, \"y\": 0, \"type\": \"circle\", \"size\": 10, \"title\": \"Amitsur (1948)\", \"color\": \"\", \"highlight\": true, \"layer\": 3, \"parent\": \"\", \"menus\": {}, \"messages\": {}, \"callbacks\": {}}, \"fbd7939d674997cdb4692d34de8633c4_node75\": {\"id\": \"fbd7939d674997cdb4692d34de8633c4_node75\", \"x\": 0, \"y\": 0, \"type\": \"circle\", \"size\": 10, \"title\": \"Jung (1937)\", \"color\": \"\", \"highlight\": true, \"layer\": 3, \"parent\": \"\", \"menus\": {}, \"messages\": {}, \"callbacks\": {}}, \"fbd7939d674997cdb4692d34de8633c4_node76\": {\"id\": \"fbd7939d674997cdb4692d34de8633c4_node76\", \"x\": 0, \"y\": 0, \"type\": \"circle\", \"size\": 10, \"title\": \"Westphal (1938)\", \"color\": \"\", \"highlight\": true, \"layer\": 3, \"parent\": \"\", \"menus\": {}, \"messages\": {}, \"callbacks\": {}}, \"fbd7939d674997cdb4692d34de8633c4_node77\": {\"id\": \"fbd7939d674997cdb4692d34de8633c4_node77\", \"x\": 0, \"y\": 0, \"type\": \"circle\", \"size\": 10, \"title\": \"St\\u00f6hr (1939)\", \"color\": \"\", \"highlight\": true, \"layer\": 3, \"parent\": \"\", \"menus\": {}, \"messages\": {}, \"callbacks\": {}}, \"fbd7939d674997cdb4692d34de8633c4_node78\": {\"id\": \"fbd7939d674997cdb4692d34de8633c4_node78\", \"x\": 0, \"y\": 0, \"type\": \"circle\", \"size\": 10, \"title\": \"J\\u00e4ger (1948)\", \"color\": \"\", \"highlight\": true, \"layer\": 3, \"parent\": \"\", \"menus\": {}, \"messages\": {}, \"callbacks\": {}}, \"fbd7939d674997cdb4692d34de8633c4_node79\": {\"id\": \"fbd7939d674997cdb4692d34de8633c4_node79\", \"x\": 0, \"y\": 0, \"type\": \"circle\", \"size\": 10, \"title\": \"Richert (1950)\", \"color\": \"\", \"highlight\": true, \"layer\": 3, \"parent\": \"\", \"menus\": {}, \"messages\": {}, \"callbacks\": {}}, \"fbd7939d674997cdb4692d34de8633c4_node80\": {\"id\": \"fbd7939d674997cdb4692d34de8633c4_node80\", \"x\": 0, \"y\": 0, \"type\": \"circle\", \"size\": 10, \"title\": \"Grotemeyer (1951)\", \"color\": \"\", \"highlight\": true, \"layer\": 3, \"parent\": \"\", \"menus\": {}, \"messages\": {}, \"callbacks\": {}}, \"fbd7939d674997cdb4692d34de8633c4_node81\": {\"id\": \"fbd7939d674997cdb4692d34de8633c4_node81\", \"x\": 0, \"y\": 0, \"type\": \"circle\", \"size\": 10, \"title\": \"Koecher (1951)\", \"color\": \"\", \"highlight\": true, \"layer\": 3, \"parent\": \"\", \"menus\": {}, \"messages\": {}, \"callbacks\": {}}, \"fbd7939d674997cdb4692d34de8633c4_node82\": {\"id\": \"fbd7939d674997cdb4692d34de8633c4_node82\", \"x\": 0, \"y\": 0, \"type\": \"circle\", \"size\": 10, \"title\": \"R\\u00fcssmann (1958)\", \"color\": \"\", \"highlight\": true, \"layer\": 3, \"parent\": \"\", \"menus\": {}, \"messages\": {}, \"callbacks\": {}}, \"fbd7939d674997cdb4692d34de8633c4_node83\": {\"id\": \"fbd7939d674997cdb4692d34de8633c4_node83\", \"x\": 0, \"y\": 0, \"type\": \"circle\", \"size\": 10, \"title\": \"Zimmer (1958)\", \"color\": \"\", \"highlight\": true, \"layer\": 3, \"parent\": \"\", \"menus\": {}, \"messages\": {}, \"callbacks\": {}}, \"fbd7939d674997cdb4692d34de8633c4_node84\": {\"id\": \"fbd7939d674997cdb4692d34de8633c4_node84\", \"x\": 0, \"y\": 0, \"type\": \"circle\", \"size\": 10, \"title\": \"Madan (1960)\", \"color\": \"\", \"highlight\": true, \"layer\": 3, \"parent\": \"\", \"menus\": {}, \"messages\": {}, \"callbacks\": {}}, \"fbd7939d674997cdb4692d34de8633c4_node85\": {\"id\": \"fbd7939d674997cdb4692d34de8633c4_node85\", \"x\": 0, \"y\": 0, \"type\": \"circle\", \"size\": 10, \"title\": \"Schaal (1961)\", \"color\": \"\", \"highlight\": true, \"layer\": 3, \"parent\": \"\", \"menus\": {}, \"messages\": {}, \"callbacks\": {}}, \"fbd7939d674997cdb4692d34de8633c4_node86\": {\"id\": \"fbd7939d674997cdb4692d34de8633c4_node86\", \"x\": 0, \"y\": 0, \"type\": \"circle\", \"size\": 10, \"title\": \"Haneke (1962)\", \"color\": \"\", \"highlight\": true, \"layer\": 3, \"parent\": \"\", \"menus\": {}, \"messages\": {}, \"callbacks\": {}}, \"fbd7939d674997cdb4692d34de8633c4_node87\": {\"id\": \"fbd7939d674997cdb4692d34de8633c4_node87\", \"x\": 0, \"y\": 0, \"type\": \"circle\", \"size\": 10, \"title\": \"Miller (1962)\", \"color\": \"\", \"highlight\": true, \"layer\": 3, \"parent\": \"\", \"menus\": {}, \"messages\": {}, \"callbacks\": {}}, \"fbd7939d674997cdb4692d34de8633c4_node88\": {\"id\": \"fbd7939d674997cdb4692d34de8633c4_node88\", \"x\": 0, \"y\": 0, \"type\": \"circle\", \"size\": 10, \"title\": \"Sanatani (1963)\", \"color\": \"\", \"highlight\": true, \"layer\": 3, \"parent\": \"\", \"menus\": {}, \"messages\": {}, \"callbacks\": {}}, \"fbd7939d674997cdb4692d34de8633c4_node89\": {\"id\": \"fbd7939d674997cdb4692d34de8633c4_node89\", \"x\": 0, \"y\": 0, \"type\": \"circle\", \"size\": 10, \"title\": \"Vollmerhaus (1963)\", \"color\": \"\", \"highlight\": true, \"layer\": 3, \"parent\": \"\", \"menus\": {}, \"messages\": {}, \"callbacks\": {}}, \"fbd7939d674997cdb4692d34de8633c4_node90\": {\"id\": \"fbd7939d674997cdb4692d34de8633c4_node90\", \"x\": 0, \"y\": 0, \"type\": \"circle\", \"size\": 10, \"title\": \"G\\u00f6llnitz (1964)\", \"color\": \"\", \"highlight\": true, \"layer\": 3, \"parent\": \"\", \"menus\": {}, \"messages\": {}, \"callbacks\": {}}, \"fbd7939d674997cdb4692d34de8633c4_node91\": {\"id\": \"fbd7939d674997cdb4692d34de8633c4_node91\", \"x\": 0, \"y\": 0, \"type\": \"circle\", \"size\": 10, \"title\": \"Guthschmidt (1964)\", \"color\": \"\", \"highlight\": true, \"layer\": 3, \"parent\": \"\", \"menus\": {}, \"messages\": {}, \"callbacks\": {}}, \"fbd7939d674997cdb4692d34de8633c4_node92\": {\"id\": \"fbd7939d674997cdb4692d34de8633c4_node92\", \"x\": 0, \"y\": 0, \"type\": \"circle\", \"size\": 10, \"title\": \"W\\u00fcrges (1964)\", \"color\": \"\", \"highlight\": true, \"layer\": 3, \"parent\": \"\", \"menus\": {}, \"messages\": {}, \"callbacks\": {}}, \"fbd7939d674997cdb4692d34de8633c4_node93\": {\"id\": \"fbd7939d674997cdb4692d34de8633c4_node93\", \"x\": 0, \"y\": 0, \"type\": \"circle\", \"size\": 10, \"title\": \"Augustin (1965)\", \"color\": \"\", \"highlight\": true, \"layer\": 3, \"parent\": \"\", \"menus\": {}, \"messages\": {}, \"callbacks\": {}}, \"fbd7939d674997cdb4692d34de8633c4_node94\": {\"id\": \"fbd7939d674997cdb4692d34de8633c4_node94\", \"x\": 0, \"y\": 0, \"type\": \"circle\", \"size\": 10, \"title\": \"Burmann (1965)\", \"color\": \"\", \"highlight\": true, \"layer\": 3, \"parent\": \"\", \"menus\": {}, \"messages\": {}, \"callbacks\": {}}, \"fbd7939d674997cdb4692d34de8633c4_node95\": {\"id\": \"fbd7939d674997cdb4692d34de8633c4_node95\", \"x\": 0, \"y\": 0, \"type\": \"circle\", \"size\": 10, \"title\": \"Miao (1965)\", \"color\": \"\", \"highlight\": true, \"layer\": 3, \"parent\": \"\", \"menus\": {}, \"messages\": {}, \"callbacks\": {}}, \"fbd7939d674997cdb4692d34de8633c4_node96\": {\"id\": \"fbd7939d674997cdb4692d34de8633c4_node96\", \"x\": 0, \"y\": 0, \"type\": \"circle\", \"size\": 10, \"title\": \"Wille (1965)\", \"color\": \"\", \"highlight\": true, \"layer\": 3, \"parent\": \"\", \"menus\": {}, \"messages\": {}, \"callbacks\": {}}, \"fbd7939d674997cdb4692d34de8633c4_node97\": {\"id\": \"fbd7939d674997cdb4692d34de8633c4_node97\", \"x\": 0, \"y\": 0, \"type\": \"circle\", \"size\": 10, \"title\": \"Ahlswede (1966)\", \"color\": \"\", \"highlight\": true, \"layer\": 3, \"parent\": \"\", \"menus\": {}, \"messages\": {}, \"callbacks\": {}}, \"fbd7939d674997cdb4692d34de8633c4_node98\": {\"id\": \"fbd7939d674997cdb4692d34de8633c4_node98\", \"x\": 0, \"y\": 0, \"type\": \"circle\", \"size\": 10, \"title\": \"Hellweg (1966)\", \"color\": \"\", \"highlight\": true, \"layer\": 3, \"parent\": \"\", \"menus\": {}, \"messages\": {}, \"callbacks\": {}}, \"fbd7939d674997cdb4692d34de8633c4_node99\": {\"id\": \"fbd7939d674997cdb4692d34de8633c4_node99\", \"x\": 0, \"y\": 0, \"type\": \"circle\", \"size\": 10, \"title\": \"Holdgr\\u00fcn (1966)\", \"color\": \"\", \"highlight\": true, \"layer\": 3, \"parent\": \"\", \"menus\": {}, \"messages\": {}, \"callbacks\": {}}, \"fbd7939d674997cdb4692d34de8633c4_node100\": {\"id\": \"fbd7939d674997cdb4692d34de8633c4_node100\", \"x\": 0, \"y\": 0, \"type\": \"circle\", \"size\": 10, \"title\": \"Ba (1967)\", \"color\": \"\", \"highlight\": true, \"layer\": 3, \"parent\": \"\", \"menus\": {}, \"messages\": {}, \"callbacks\": {}}, \"fbd7939d674997cdb4692d34de8633c4_node101\": {\"id\": \"fbd7939d674997cdb4692d34de8633c4_node101\", \"x\": 0, \"y\": 0, \"type\": \"circle\", \"size\": 10, \"title\": \"Chowdhury (1967)\", \"color\": \"\", \"highlight\": true, \"layer\": 3, \"parent\": \"\", \"menus\": {}, \"messages\": {}, \"callbacks\": {}}, \"fbd7939d674997cdb4692d34de8633c4_node102\": {\"id\": \"fbd7939d674997cdb4692d34de8633c4_node102\", \"x\": 0, \"y\": 0, \"type\": \"circle\", \"size\": 10, \"title\": \"Wegner (1967)\", \"color\": \"\", \"highlight\": true, \"layer\": 3, \"parent\": \"\", \"menus\": {}, \"messages\": {}, \"callbacks\": {}}, \"fbd7939d674997cdb4692d34de8633c4_node103\": {\"id\": \"fbd7939d674997cdb4692d34de8633c4_node103\", \"x\": 0, \"y\": 0, \"type\": \"circle\", \"size\": 10, \"title\": \"Bartenwerfer (1968)\", \"color\": \"\", \"highlight\": true, \"layer\": 3, \"parent\": \"\", \"menus\": {}, \"messages\": {}, \"callbacks\": {}}, \"fbd7939d674997cdb4692d34de8633c4_node104\": {\"id\": \"fbd7939d674997cdb4692d34de8633c4_node104\", \"x\": 0, \"y\": 0, \"type\": \"circle\", \"size\": 10, \"title\": \"Chang (1968)\", \"color\": \"\", \"highlight\": true, \"layer\": 3, \"parent\": \"\", \"menus\": {}, \"messages\": {}, \"callbacks\": {}}, \"fbd7939d674997cdb4692d34de8633c4_node105\": {\"id\": \"fbd7939d674997cdb4692d34de8633c4_node105\", \"x\": 0, \"y\": 0, \"type\": \"circle\", \"size\": 10, \"title\": \"Niemeier (1968)\", \"color\": \"\", \"highlight\": true, \"layer\": 3, \"parent\": \"\", \"menus\": {}, \"messages\": {}, \"callbacks\": {}}, \"fbd7939d674997cdb4692d34de8633c4_node106\": {\"id\": \"fbd7939d674997cdb4692d34de8633c4_node106\", \"x\": 0, \"y\": 0, \"type\": \"circle\", \"size\": 10, \"title\": \"Draxl (1969)\", \"color\": \"\", \"highlight\": true, \"layer\": 3, \"parent\": \"\", \"menus\": {}, \"messages\": {}, \"callbacks\": {}}, \"fbd7939d674997cdb4692d34de8633c4_node107\": {\"id\": \"fbd7939d674997cdb4692d34de8633c4_node107\", \"x\": 0, \"y\": 0, \"type\": \"circle\", \"size\": 10, \"title\": \"Eckhoff (1969)\", \"color\": \"\", \"highlight\": true, \"layer\": 3, \"parent\": \"\", \"menus\": {}, \"messages\": {}, \"callbacks\": {}}, \"fbd7939d674997cdb4692d34de8633c4_node108\": {\"id\": \"fbd7939d674997cdb4692d34de8633c4_node108\", \"x\": 0, \"y\": 0, \"type\": \"circle\", \"size\": 10, \"title\": \"Pfeuffer (1969)\", \"color\": \"\", \"highlight\": true, \"layer\": 3, \"parent\": \"\", \"menus\": {}, \"messages\": {}, \"callbacks\": {}}, \"fbd7939d674997cdb4692d34de8633c4_node109\": {\"id\": \"fbd7939d674997cdb4692d34de8633c4_node109\", \"x\": 0, \"y\": 0, \"type\": \"circle\", \"size\": 10, \"title\": \"Bauermeister (1970)\", \"color\": \"\", \"highlight\": true, \"layer\": 3, \"parent\": \"\", \"menus\": {}, \"messages\": {}, \"callbacks\": {}}, \"fbd7939d674997cdb4692d34de8633c4_node110\": {\"id\": \"fbd7939d674997cdb4692d34de8633c4_node110\", \"x\": 0, \"y\": 0, \"type\": \"circle\", \"size\": 10, \"title\": \"Lange (1970)\", \"color\": \"\", \"highlight\": true, \"layer\": 3, \"parent\": \"\", \"menus\": {}, \"messages\": {}, \"callbacks\": {}}, \"fbd7939d674997cdb4692d34de8633c4_node111\": {\"id\": \"fbd7939d674997cdb4692d34de8633c4_node111\", \"x\": 0, \"y\": 0, \"type\": \"circle\", \"size\": 10, \"title\": \"Rehmann (1971)\", \"color\": \"\", \"highlight\": true, \"layer\": 3, \"parent\": \"\", \"menus\": {}, \"messages\": {}, \"callbacks\": {}}, \"fbd7939d674997cdb4692d34de8633c4_node112\": {\"id\": \"fbd7939d674997cdb4692d34de8633c4_node112\", \"x\": 0, \"y\": 0, \"type\": \"circle\", \"size\": 10, \"title\": \"Braun (1972)\", \"color\": \"\", \"highlight\": true, \"layer\": 3, \"parent\": \"\", \"menus\": {}, \"messages\": {}, \"callbacks\": {}}, \"fbd7939d674997cdb4692d34de8633c4_node113\": {\"id\": \"fbd7939d674997cdb4692d34de8633c4_node113\", \"x\": 0, \"y\": 0, \"type\": \"circle\", \"size\": 10, \"title\": \"Heine (1972)\", \"color\": \"\", \"highlight\": true, \"layer\": 3, \"parent\": \"\", \"menus\": {}, \"messages\": {}, \"callbacks\": {}}, \"fbd7939d674997cdb4692d34de8633c4_node114\": {\"id\": \"fbd7939d674997cdb4692d34de8633c4_node114\", \"x\": 0, \"y\": 0, \"type\": \"circle\", \"size\": 10, \"title\": \"Grosche (1973)\", \"color\": \"\", \"highlight\": true, \"layer\": 3, \"parent\": \"\", \"menus\": {}, \"messages\": {}, \"callbacks\": {}}, \"fbd7939d674997cdb4692d34de8633c4_node115\": {\"id\": \"fbd7939d674997cdb4692d34de8633c4_node115\", \"x\": 0, \"y\": 0, \"type\": \"circle\", \"size\": 10, \"title\": \"Hasemann (1973)\", \"color\": \"\", \"highlight\": true, \"layer\": 3, \"parent\": \"\", \"menus\": {}, \"messages\": {}, \"callbacks\": {}}, \"fbd7939d674997cdb4692d34de8633c4_node116\": {\"id\": \"fbd7939d674997cdb4692d34de8633c4_node116\", \"x\": 0, \"y\": 0, \"type\": \"circle\", \"size\": 10, \"title\": \"Reiter (1973)\", \"color\": \"\", \"highlight\": true, \"layer\": 3, \"parent\": \"\", \"menus\": {}, \"messages\": {}, \"callbacks\": {}}, \"fbd7939d674997cdb4692d34de8633c4_node117\": {\"id\": \"fbd7939d674997cdb4692d34de8633c4_node117\", \"x\": 0, \"y\": 0, \"type\": \"circle\", \"size\": 10, \"title\": \"Vormoor (1973)\", \"color\": \"\", \"highlight\": true, \"layer\": 3, \"parent\": \"\", \"menus\": {}, \"messages\": {}, \"callbacks\": {}}, \"fbd7939d674997cdb4692d34de8633c4_node118\": {\"id\": \"fbd7939d674997cdb4692d34de8633c4_node118\", \"x\": 0, \"y\": 0, \"type\": \"circle\", \"size\": 10, \"title\": \"Bartels (1974)\", \"color\": \"\", \"highlight\": true, \"layer\": 3, \"parent\": \"\", \"menus\": {}, \"messages\": {}, \"callbacks\": {}}, \"fbd7939d674997cdb4692d34de8633c4_node119\": {\"id\": \"fbd7939d674997cdb4692d34de8633c4_node119\", \"x\": 0, \"y\": 0, \"type\": \"circle\", \"size\": 10, \"title\": \"Recke (1974)\", \"color\": \"\", \"highlight\": true, \"layer\": 3, \"parent\": \"\", \"menus\": {}, \"messages\": {}, \"callbacks\": {}}, \"fbd7939d674997cdb4692d34de8633c4_node120\": {\"id\": \"fbd7939d674997cdb4692d34de8633c4_node120\", \"x\": 0, \"y\": 0, \"type\": \"circle\", \"size\": 10, \"title\": \"Gabcke (1979)\", \"color\": \"\", \"highlight\": true, \"layer\": 3, \"parent\": \"\", \"menus\": {}, \"messages\": {}, \"callbacks\": {}}, \"fbd7939d674997cdb4692d34de8633c4_node121\": {\"id\": \"fbd7939d674997cdb4692d34de8633c4_node121\", \"x\": 0, \"y\": 0, \"type\": \"circle\", \"size\": 10, \"title\": \"Chang (1940)\", \"color\": \"\", \"highlight\": true, \"layer\": 3, \"parent\": \"\", \"menus\": {}, \"messages\": {}, \"callbacks\": {}}, \"fbd7939d674997cdb4692d34de8633c4_node122\": {\"id\": \"fbd7939d674997cdb4692d34de8633c4_node122\", \"x\": 0, \"y\": 0, \"type\": \"circle\", \"size\": 10, \"title\": \"Diederichsen (1940)\", \"color\": \"\", \"highlight\": true, \"layer\": 3, \"parent\": \"\", \"menus\": {}, \"messages\": {}, \"callbacks\": {}}, \"fbd7939d674997cdb4692d34de8633c4_node123\": {\"id\": \"fbd7939d674997cdb4692d34de8633c4_node123\", \"x\": 0, \"y\": 0, \"type\": \"circle\", \"size\": 10, \"title\": \"Banaschewski (1954)\", \"color\": \"\", \"highlight\": true, \"layer\": 3, \"parent\": \"\", \"menus\": {}, \"messages\": {}, \"callbacks\": {}}, \"fbd7939d674997cdb4692d34de8633c4_node124\": {\"id\": \"fbd7939d674997cdb4692d34de8633c4_node124\", \"x\": 0, \"y\": 0, \"type\": \"circle\", \"size\": 10, \"title\": \"Leptin (1954)\", \"color\": \"\", \"highlight\": true, \"layer\": 3, \"parent\": \"\", \"menus\": {}, \"messages\": {}, \"callbacks\": {}}, \"fbd7939d674997cdb4692d34de8633c4_node125\": {\"id\": \"fbd7939d674997cdb4692d34de8633c4_node125\", \"x\": 0, \"y\": 0, \"type\": \"diamond\", \"size\": 10, \"title\": \"B\\u00f6ge (1959)\", \"color\": \"\", \"highlight\": true, \"layer\": 3, \"parent\": \"\", \"menus\": {}, \"messages\": {}, \"callbacks\": {}}, \"fbd7939d674997cdb4692d34de8633c4_node126\": {\"id\": \"fbd7939d674997cdb4692d34de8633c4_node126\", \"x\": 0, \"y\": 0, \"type\": \"circle\", \"size\": 10, \"title\": \"Harder (1964)\", \"color\": \"\", \"highlight\": true, \"layer\": 3, \"parent\": \"\", \"menus\": {}, \"messages\": {}, \"callbacks\": {}}, \"fbd7939d674997cdb4692d34de8633c4_node127\": {\"id\": \"fbd7939d674997cdb4692d34de8633c4_node127\", \"x\": 0, \"y\": 0, \"type\": \"circle\", \"size\": 10, \"title\": \"B\\u00f6necke (1968)\", \"color\": \"\", \"highlight\": true, \"layer\": 3, \"parent\": \"\", \"menus\": {}, \"messages\": {}, \"callbacks\": {}}, \"fbd7939d674997cdb4692d34de8633c4_node128\": {\"id\": \"fbd7939d674997cdb4692d34de8633c4_node128\", \"x\": 0, \"y\": 0, \"type\": \"circle\", \"size\": 10, \"title\": \"Brinkmann (1968)\", \"color\": \"\", \"highlight\": true, \"layer\": 3, \"parent\": \"\", \"menus\": {}, \"messages\": {}, \"callbacks\": {}}, \"fbd7939d674997cdb4692d34de8633c4_node129\": {\"id\": \"fbd7939d674997cdb4692d34de8633c4_node129\", \"x\": 0, \"y\": 0, \"type\": \"circle\", \"size\": 10, \"title\": \"Job (1968)\", \"color\": \"\", \"highlight\": true, \"layer\": 3, \"parent\": \"\", \"menus\": {}, \"messages\": {}, \"callbacks\": {}}, \"fbd7939d674997cdb4692d34de8633c4_node130\": {\"id\": \"fbd7939d674997cdb4692d34de8633c4_node130\", \"x\": 0, \"y\": 0, \"type\": \"diamond\", \"size\": 10, \"title\": \"Otremba (1968)\", \"color\": \"\", \"highlight\": true, \"layer\": 3, \"parent\": \"\", \"menus\": {}, \"messages\": {}, \"callbacks\": {}}, \"fbd7939d674997cdb4692d34de8633c4_node131\": {\"id\": \"fbd7939d674997cdb4692d34de8633c4_node131\", \"x\": 0, \"y\": 0, \"type\": \"circle\", \"size\": 10, \"title\": \"Rohlfs (1970)\", \"color\": \"\", \"highlight\": true, \"layer\": 3, \"parent\": \"\", \"menus\": {}, \"messages\": {}, \"callbacks\": {}}, \"fbd7939d674997cdb4692d34de8633c4_node132\": {\"id\": \"fbd7939d674997cdb4692d34de8633c4_node132\", \"x\": 0, \"y\": 0, \"type\": \"circle\", \"size\": 10, \"title\": \"Borho (1973)\", \"color\": \"\", \"highlight\": true, \"layer\": 3, \"parent\": \"\", \"menus\": {}, \"messages\": {}, \"callbacks\": {}}, \"fbd7939d674997cdb4692d34de8633c4_node133\": {\"id\": \"fbd7939d674997cdb4692d34de8633c4_node133\", \"x\": 0, \"y\": 0, \"type\": \"diamond\", \"size\": 10, \"title\": \"Kersten (1977)\", \"color\": \"\", \"highlight\": true, \"layer\": 3, \"parent\": \"\", \"menus\": {}, \"messages\": {}, \"callbacks\": {}}, \"fbd7939d674997cdb4692d34de8633c4_node134\": {\"id\": \"fbd7939d674997cdb4692d34de8633c4_node134\", \"x\": 0, \"y\": 0, \"type\": \"circle\", \"size\": 10, \"title\": \"Wichers (1977)\", \"color\": \"\", \"highlight\": true, \"layer\": 3, \"parent\": \"\", \"menus\": {}, \"messages\": {}, \"callbacks\": {}}, \"fbd7939d674997cdb4692d34de8633c4_node135\": {\"id\": \"fbd7939d674997cdb4692d34de8633c4_node135\", \"x\": 0, \"y\": 0, \"type\": \"circle\", \"size\": 10, \"title\": \"Wingberg (1978)\", \"color\": \"\", \"highlight\": true, \"layer\": 3, \"parent\": \"\", \"menus\": {}, \"messages\": {}, \"callbacks\": {}}, \"fbd7939d674997cdb4692d34de8633c4_node136\": {\"id\": \"fbd7939d674997cdb4692d34de8633c4_node136\", \"x\": 0, \"y\": 0, \"type\": \"circle\", \"size\": 10, \"title\": \"Rapoport (1941)\", \"color\": \"\", \"highlight\": true, \"layer\": 3, \"parent\": \"\", \"menus\": {}, \"messages\": {}, \"callbacks\": {}}, \"fbd7939d674997cdb4692d34de8633c4_node137\": {\"id\": \"fbd7939d674997cdb4692d34de8633c4_node137\", \"x\": 0, \"y\": 0, \"type\": \"circle\", \"size\": 10, \"title\": \"Flanders (1949)\", \"color\": \"\", \"highlight\": true, \"layer\": 3, \"parent\": \"\", \"menus\": {}, \"messages\": {}, \"callbacks\": {}}, \"fbd7939d674997cdb4692d34de8633c4_node138\": {\"id\": \"fbd7939d674997cdb4692d34de8633c4_node138\", \"x\": 0, \"y\": 0, \"type\": \"circle\", \"size\": 10, \"title\": \"Perry (1965)\", \"color\": \"\", \"highlight\": true, \"layer\": 3, \"parent\": \"\", \"menus\": {}, \"messages\": {}, \"callbacks\": {}}}, \"links\": {\"fbd7939d674997cdb4692d34de8633c4_edge139\": {\"source\": \"fbd7939d674997cdb4692d34de8633c4_node48\", \"weight\": 1, \"color\": \"\", \"target\": \"fbd7939d674997cdb4692d34de8633c4_node49\", \"id\": \"fbd7939d674997cdb4692d34de8633c4_edge139\"}, \"fbd7939d674997cdb4692d34de8633c4_edge140\": {\"source\": \"fbd7939d674997cdb4692d34de8633c4_node48\", \"weight\": 1, \"color\": \"\", \"target\": \"fbd7939d674997cdb4692d34de8633c4_node50\", \"id\": \"fbd7939d674997cdb4692d34de8633c4_edge140\"}, \"fbd7939d674997cdb4692d34de8633c4_edge141\": {\"source\": \"fbd7939d674997cdb4692d34de8633c4_node48\", \"weight\": 1, \"color\": \"\", \"target\": \"fbd7939d674997cdb4692d34de8633c4_node51\", \"id\": \"fbd7939d674997cdb4692d34de8633c4_edge141\"}, \"fbd7939d674997cdb4692d34de8633c4_edge142\": {\"source\": \"fbd7939d674997cdb4692d34de8633c4_node48\", \"weight\": 1, \"color\": \"\", \"target\": \"fbd7939d674997cdb4692d34de8633c4_node52\", \"id\": \"fbd7939d674997cdb4692d34de8633c4_edge142\"}, \"fbd7939d674997cdb4692d34de8633c4_edge143\": {\"source\": \"fbd7939d674997cdb4692d34de8633c4_node48\", \"weight\": 1, \"color\": \"\", \"target\": \"fbd7939d674997cdb4692d34de8633c4_node53\", \"id\": \"fbd7939d674997cdb4692d34de8633c4_edge143\"}, \"fbd7939d674997cdb4692d34de8633c4_edge144\": {\"source\": \"fbd7939d674997cdb4692d34de8633c4_node48\", \"weight\": 1, \"color\": \"\", \"target\": \"fbd7939d674997cdb4692d34de8633c4_node54\", \"id\": \"fbd7939d674997cdb4692d34de8633c4_edge144\"}, \"fbd7939d674997cdb4692d34de8633c4_edge145\": {\"source\": \"fbd7939d674997cdb4692d34de8633c4_node48\", \"weight\": 1, \"color\": \"\", \"target\": \"fbd7939d674997cdb4692d34de8633c4_node55\", \"id\": \"fbd7939d674997cdb4692d34de8633c4_edge145\"}, \"fbd7939d674997cdb4692d34de8633c4_edge146\": {\"source\": \"fbd7939d674997cdb4692d34de8633c4_node48\", \"weight\": 1, \"color\": \"\", \"target\": \"fbd7939d674997cdb4692d34de8633c4_node56\", \"id\": \"fbd7939d674997cdb4692d34de8633c4_edge146\"}, \"fbd7939d674997cdb4692d34de8633c4_edge147\": {\"source\": \"fbd7939d674997cdb4692d34de8633c4_node48\", \"weight\": 1, \"color\": \"\", \"target\": \"fbd7939d674997cdb4692d34de8633c4_node57\", \"id\": \"fbd7939d674997cdb4692d34de8633c4_edge147\"}, \"fbd7939d674997cdb4692d34de8633c4_edge148\": {\"source\": \"fbd7939d674997cdb4692d34de8633c4_node48\", \"weight\": 1, \"color\": \"\", \"target\": \"fbd7939d674997cdb4692d34de8633c4_node58\", \"id\": \"fbd7939d674997cdb4692d34de8633c4_edge148\"}, \"fbd7939d674997cdb4692d34de8633c4_edge149\": {\"source\": \"fbd7939d674997cdb4692d34de8633c4_node48\", \"weight\": 1, \"color\": \"\", \"target\": \"fbd7939d674997cdb4692d34de8633c4_node59\", \"id\": \"fbd7939d674997cdb4692d34de8633c4_edge149\"}, \"fbd7939d674997cdb4692d34de8633c4_edge150\": {\"source\": \"fbd7939d674997cdb4692d34de8633c4_node48\", \"weight\": 1, \"color\": \"\", \"target\": \"fbd7939d674997cdb4692d34de8633c4_node60\", \"id\": \"fbd7939d674997cdb4692d34de8633c4_edge150\"}, \"fbd7939d674997cdb4692d34de8633c4_edge151\": {\"source\": \"fbd7939d674997cdb4692d34de8633c4_node48\", \"weight\": 1, \"color\": \"\", \"target\": \"fbd7939d674997cdb4692d34de8633c4_node61\", \"id\": \"fbd7939d674997cdb4692d34de8633c4_edge151\"}, \"fbd7939d674997cdb4692d34de8633c4_edge152\": {\"source\": \"fbd7939d674997cdb4692d34de8633c4_node48\", \"weight\": 1, \"color\": \"\", \"target\": \"fbd7939d674997cdb4692d34de8633c4_node62\", \"id\": \"fbd7939d674997cdb4692d34de8633c4_edge152\"}, \"fbd7939d674997cdb4692d34de8633c4_edge153\": {\"source\": \"fbd7939d674997cdb4692d34de8633c4_node49\", \"weight\": 1, \"color\": \"\", \"target\": \"fbd7939d674997cdb4692d34de8633c4_node63\", \"id\": \"fbd7939d674997cdb4692d34de8633c4_edge153\"}, \"fbd7939d674997cdb4692d34de8633c4_edge154\": {\"source\": \"fbd7939d674997cdb4692d34de8633c4_node49\", \"weight\": 1, \"color\": \"\", \"target\": \"fbd7939d674997cdb4692d34de8633c4_node64\", \"id\": \"fbd7939d674997cdb4692d34de8633c4_edge154\"}, \"fbd7939d674997cdb4692d34de8633c4_edge155\": {\"source\": \"fbd7939d674997cdb4692d34de8633c4_node49\", \"weight\": 1, \"color\": \"\", \"target\": \"fbd7939d674997cdb4692d34de8633c4_node65\", \"id\": \"fbd7939d674997cdb4692d34de8633c4_edge155\"}, \"fbd7939d674997cdb4692d34de8633c4_edge156\": {\"source\": \"fbd7939d674997cdb4692d34de8633c4_node49\", \"weight\": 1, \"color\": \"\", \"target\": \"fbd7939d674997cdb4692d34de8633c4_node66\", \"id\": \"fbd7939d674997cdb4692d34de8633c4_edge156\"}, \"fbd7939d674997cdb4692d34de8633c4_edge157\": {\"source\": \"fbd7939d674997cdb4692d34de8633c4_node49\", \"weight\": 1, \"color\": \"\", \"target\": \"fbd7939d674997cdb4692d34de8633c4_node67\", \"id\": \"fbd7939d674997cdb4692d34de8633c4_edge157\"}, \"fbd7939d674997cdb4692d34de8633c4_edge158\": {\"source\": \"fbd7939d674997cdb4692d34de8633c4_node49\", \"weight\": 1, \"color\": \"\", \"target\": \"fbd7939d674997cdb4692d34de8633c4_node68\", \"id\": \"fbd7939d674997cdb4692d34de8633c4_edge158\"}, \"fbd7939d674997cdb4692d34de8633c4_edge159\": {\"source\": \"fbd7939d674997cdb4692d34de8633c4_node49\", \"weight\": 1, \"color\": \"\", \"target\": \"fbd7939d674997cdb4692d34de8633c4_node69\", \"id\": \"fbd7939d674997cdb4692d34de8633c4_edge159\"}, \"fbd7939d674997cdb4692d34de8633c4_edge160\": {\"source\": \"fbd7939d674997cdb4692d34de8633c4_node49\", \"weight\": 1, \"color\": \"\", \"target\": \"fbd7939d674997cdb4692d34de8633c4_node70\", \"id\": \"fbd7939d674997cdb4692d34de8633c4_edge160\"}, \"fbd7939d674997cdb4692d34de8633c4_edge161\": {\"source\": \"fbd7939d674997cdb4692d34de8633c4_node49\", \"weight\": 1, \"color\": \"\", \"target\": \"fbd7939d674997cdb4692d34de8633c4_node71\", \"id\": \"fbd7939d674997cdb4692d34de8633c4_edge161\"}, \"fbd7939d674997cdb4692d34de8633c4_edge162\": {\"source\": \"fbd7939d674997cdb4692d34de8633c4_node49\", \"weight\": 1, \"color\": \"\", \"target\": \"fbd7939d674997cdb4692d34de8633c4_node72\", \"id\": \"fbd7939d674997cdb4692d34de8633c4_edge162\"}, \"fbd7939d674997cdb4692d34de8633c4_edge163\": {\"source\": \"fbd7939d674997cdb4692d34de8633c4_node49\", \"weight\": 1, \"color\": \"\", \"target\": \"fbd7939d674997cdb4692d34de8633c4_node73\", \"id\": \"fbd7939d674997cdb4692d34de8633c4_edge163\"}, \"fbd7939d674997cdb4692d34de8633c4_edge164\": {\"source\": \"fbd7939d674997cdb4692d34de8633c4_node52\", \"weight\": 1, \"color\": \"\", \"target\": \"fbd7939d674997cdb4692d34de8633c4_node74\", \"id\": \"fbd7939d674997cdb4692d34de8633c4_edge164\"}, \"fbd7939d674997cdb4692d34de8633c4_edge165\": {\"source\": \"fbd7939d674997cdb4692d34de8633c4_node53\", \"weight\": 1, \"color\": \"\", \"target\": \"fbd7939d674997cdb4692d34de8633c4_node75\", \"id\": \"fbd7939d674997cdb4692d34de8633c4_edge165\"}, \"fbd7939d674997cdb4692d34de8633c4_edge166\": {\"source\": \"fbd7939d674997cdb4692d34de8633c4_node53\", \"weight\": 1, \"color\": \"\", \"target\": \"fbd7939d674997cdb4692d34de8633c4_node76\", \"id\": \"fbd7939d674997cdb4692d34de8633c4_edge166\"}, \"fbd7939d674997cdb4692d34de8633c4_edge167\": {\"source\": \"fbd7939d674997cdb4692d34de8633c4_node53\", \"weight\": 1, \"color\": \"\", \"target\": \"fbd7939d674997cdb4692d34de8633c4_node77\", \"id\": \"fbd7939d674997cdb4692d34de8633c4_edge167\"}, \"fbd7939d674997cdb4692d34de8633c4_edge168\": {\"source\": \"fbd7939d674997cdb4692d34de8633c4_node54\", \"weight\": 1, \"color\": \"\", \"target\": \"fbd7939d674997cdb4692d34de8633c4_node78\", \"id\": \"fbd7939d674997cdb4692d34de8633c4_edge168\"}, \"fbd7939d674997cdb4692d34de8633c4_edge169\": {\"source\": \"fbd7939d674997cdb4692d34de8633c4_node54\", \"weight\": 1, \"color\": \"\", \"target\": \"fbd7939d674997cdb4692d34de8633c4_node79\", \"id\": \"fbd7939d674997cdb4692d34de8633c4_edge169\"}, \"fbd7939d674997cdb4692d34de8633c4_edge170\": {\"source\": \"fbd7939d674997cdb4692d34de8633c4_node54\", \"weight\": 1, \"color\": \"\", \"target\": \"fbd7939d674997cdb4692d34de8633c4_node80\", \"id\": \"fbd7939d674997cdb4692d34de8633c4_edge170\"}, \"fbd7939d674997cdb4692d34de8633c4_edge171\": {\"source\": \"fbd7939d674997cdb4692d34de8633c4_node54\", \"weight\": 1, \"color\": \"\", \"target\": \"fbd7939d674997cdb4692d34de8633c4_node81\", \"id\": \"fbd7939d674997cdb4692d34de8633c4_edge171\"}, \"fbd7939d674997cdb4692d34de8633c4_edge172\": {\"source\": \"fbd7939d674997cdb4692d34de8633c4_node54\", \"weight\": 1, \"color\": \"\", \"target\": \"fbd7939d674997cdb4692d34de8633c4_node82\", \"id\": \"fbd7939d674997cdb4692d34de8633c4_edge172\"}, \"fbd7939d674997cdb4692d34de8633c4_edge173\": {\"source\": \"fbd7939d674997cdb4692d34de8633c4_node54\", \"weight\": 1, \"color\": \"\", \"target\": \"fbd7939d674997cdb4692d34de8633c4_node83\", \"id\": \"fbd7939d674997cdb4692d34de8633c4_edge173\"}, \"fbd7939d674997cdb4692d34de8633c4_edge174\": {\"source\": \"fbd7939d674997cdb4692d34de8633c4_node54\", \"weight\": 1, \"color\": \"\", \"target\": \"fbd7939d674997cdb4692d34de8633c4_node84\", \"id\": \"fbd7939d674997cdb4692d34de8633c4_edge174\"}, \"fbd7939d674997cdb4692d34de8633c4_edge175\": {\"source\": \"fbd7939d674997cdb4692d34de8633c4_node54\", \"weight\": 1, \"color\": \"\", \"target\": \"fbd7939d674997cdb4692d34de8633c4_node85\", \"id\": \"fbd7939d674997cdb4692d34de8633c4_edge175\"}, \"fbd7939d674997cdb4692d34de8633c4_edge176\": {\"source\": \"fbd7939d674997cdb4692d34de8633c4_node54\", \"weight\": 1, \"color\": \"\", \"target\": \"fbd7939d674997cdb4692d34de8633c4_node86\", \"id\": \"fbd7939d674997cdb4692d34de8633c4_edge176\"}, \"fbd7939d674997cdb4692d34de8633c4_edge177\": {\"source\": \"fbd7939d674997cdb4692d34de8633c4_node54\", \"weight\": 1, \"color\": \"\", \"target\": \"fbd7939d674997cdb4692d34de8633c4_node87\", \"id\": \"fbd7939d674997cdb4692d34de8633c4_edge177\"}, \"fbd7939d674997cdb4692d34de8633c4_edge178\": {\"source\": \"fbd7939d674997cdb4692d34de8633c4_node54\", \"weight\": 1, \"color\": \"\", \"target\": \"fbd7939d674997cdb4692d34de8633c4_node88\", \"id\": \"fbd7939d674997cdb4692d34de8633c4_edge178\"}, \"fbd7939d674997cdb4692d34de8633c4_edge179\": {\"source\": \"fbd7939d674997cdb4692d34de8633c4_node54\", \"weight\": 1, \"color\": \"\", \"target\": \"fbd7939d674997cdb4692d34de8633c4_node89\", \"id\": \"fbd7939d674997cdb4692d34de8633c4_edge179\"}, \"fbd7939d674997cdb4692d34de8633c4_edge180\": {\"source\": \"fbd7939d674997cdb4692d34de8633c4_node54\", \"weight\": 1, \"color\": \"\", \"target\": \"fbd7939d674997cdb4692d34de8633c4_node90\", \"id\": \"fbd7939d674997cdb4692d34de8633c4_edge180\"}, \"fbd7939d674997cdb4692d34de8633c4_edge181\": {\"source\": \"fbd7939d674997cdb4692d34de8633c4_node54\", \"weight\": 1, \"color\": \"\", \"target\": \"fbd7939d674997cdb4692d34de8633c4_node91\", \"id\": \"fbd7939d674997cdb4692d34de8633c4_edge181\"}, \"fbd7939d674997cdb4692d34de8633c4_edge182\": {\"source\": \"fbd7939d674997cdb4692d34de8633c4_node54\", \"weight\": 1, \"color\": \"\", \"target\": \"fbd7939d674997cdb4692d34de8633c4_node92\", \"id\": \"fbd7939d674997cdb4692d34de8633c4_edge182\"}, \"fbd7939d674997cdb4692d34de8633c4_edge183\": {\"source\": \"fbd7939d674997cdb4692d34de8633c4_node54\", \"weight\": 1, \"color\": \"\", \"target\": \"fbd7939d674997cdb4692d34de8633c4_node93\", \"id\": \"fbd7939d674997cdb4692d34de8633c4_edge183\"}, \"fbd7939d674997cdb4692d34de8633c4_edge184\": {\"source\": \"fbd7939d674997cdb4692d34de8633c4_node54\", \"weight\": 1, \"color\": \"\", \"target\": \"fbd7939d674997cdb4692d34de8633c4_node94\", \"id\": \"fbd7939d674997cdb4692d34de8633c4_edge184\"}, \"fbd7939d674997cdb4692d34de8633c4_edge185\": {\"source\": \"fbd7939d674997cdb4692d34de8633c4_node54\", \"weight\": 1, \"color\": \"\", \"target\": \"fbd7939d674997cdb4692d34de8633c4_node95\", \"id\": \"fbd7939d674997cdb4692d34de8633c4_edge185\"}, \"fbd7939d674997cdb4692d34de8633c4_edge186\": {\"source\": \"fbd7939d674997cdb4692d34de8633c4_node54\", \"weight\": 1, \"color\": \"\", \"target\": \"fbd7939d674997cdb4692d34de8633c4_node96\", \"id\": \"fbd7939d674997cdb4692d34de8633c4_edge186\"}, \"fbd7939d674997cdb4692d34de8633c4_edge187\": {\"source\": \"fbd7939d674997cdb4692d34de8633c4_node54\", \"weight\": 1, \"color\": \"\", \"target\": \"fbd7939d674997cdb4692d34de8633c4_node97\", \"id\": \"fbd7939d674997cdb4692d34de8633c4_edge187\"}, \"fbd7939d674997cdb4692d34de8633c4_edge188\": {\"source\": \"fbd7939d674997cdb4692d34de8633c4_node54\", \"weight\": 1, \"color\": \"\", \"target\": \"fbd7939d674997cdb4692d34de8633c4_node98\", \"id\": \"fbd7939d674997cdb4692d34de8633c4_edge188\"}, \"fbd7939d674997cdb4692d34de8633c4_edge189\": {\"source\": \"fbd7939d674997cdb4692d34de8633c4_node54\", \"weight\": 1, \"color\": \"\", \"target\": \"fbd7939d674997cdb4692d34de8633c4_node99\", \"id\": \"fbd7939d674997cdb4692d34de8633c4_edge189\"}, \"fbd7939d674997cdb4692d34de8633c4_edge190\": {\"source\": \"fbd7939d674997cdb4692d34de8633c4_node54\", \"weight\": 1, \"color\": \"\", \"target\": \"fbd7939d674997cdb4692d34de8633c4_node100\", \"id\": \"fbd7939d674997cdb4692d34de8633c4_edge190\"}, \"fbd7939d674997cdb4692d34de8633c4_edge191\": {\"source\": \"fbd7939d674997cdb4692d34de8633c4_node54\", \"weight\": 1, \"color\": \"\", \"target\": \"fbd7939d674997cdb4692d34de8633c4_node101\", \"id\": \"fbd7939d674997cdb4692d34de8633c4_edge191\"}, \"fbd7939d674997cdb4692d34de8633c4_edge192\": {\"source\": \"fbd7939d674997cdb4692d34de8633c4_node54\", \"weight\": 1, \"color\": \"\", \"target\": \"fbd7939d674997cdb4692d34de8633c4_node102\", \"id\": \"fbd7939d674997cdb4692d34de8633c4_edge192\"}, \"fbd7939d674997cdb4692d34de8633c4_edge193\": {\"source\": \"fbd7939d674997cdb4692d34de8633c4_node54\", \"weight\": 1, \"color\": \"\", \"target\": \"fbd7939d674997cdb4692d34de8633c4_node103\", \"id\": \"fbd7939d674997cdb4692d34de8633c4_edge193\"}, \"fbd7939d674997cdb4692d34de8633c4_edge194\": {\"source\": \"fbd7939d674997cdb4692d34de8633c4_node54\", \"weight\": 1, \"color\": \"\", \"target\": \"fbd7939d674997cdb4692d34de8633c4_node104\", \"id\": \"fbd7939d674997cdb4692d34de8633c4_edge194\"}, \"fbd7939d674997cdb4692d34de8633c4_edge195\": {\"source\": \"fbd7939d674997cdb4692d34de8633c4_node54\", \"weight\": 1, \"color\": \"\", \"target\": \"fbd7939d674997cdb4692d34de8633c4_node105\", \"id\": \"fbd7939d674997cdb4692d34de8633c4_edge195\"}, \"fbd7939d674997cdb4692d34de8633c4_edge196\": {\"source\": \"fbd7939d674997cdb4692d34de8633c4_node54\", \"weight\": 1, \"color\": \"\", \"target\": \"fbd7939d674997cdb4692d34de8633c4_node106\", \"id\": \"fbd7939d674997cdb4692d34de8633c4_edge196\"}, \"fbd7939d674997cdb4692d34de8633c4_edge197\": {\"source\": \"fbd7939d674997cdb4692d34de8633c4_node54\", \"weight\": 1, \"color\": \"\", \"target\": \"fbd7939d674997cdb4692d34de8633c4_node107\", \"id\": \"fbd7939d674997cdb4692d34de8633c4_edge197\"}, \"fbd7939d674997cdb4692d34de8633c4_edge198\": {\"source\": \"fbd7939d674997cdb4692d34de8633c4_node54\", \"weight\": 1, \"color\": \"\", \"target\": \"fbd7939d674997cdb4692d34de8633c4_node108\", \"id\": \"fbd7939d674997cdb4692d34de8633c4_edge198\"}, \"fbd7939d674997cdb4692d34de8633c4_edge199\": {\"source\": \"fbd7939d674997cdb4692d34de8633c4_node54\", \"weight\": 1, \"color\": \"\", \"target\": \"fbd7939d674997cdb4692d34de8633c4_node109\", \"id\": \"fbd7939d674997cdb4692d34de8633c4_edge199\"}, \"fbd7939d674997cdb4692d34de8633c4_edge200\": {\"source\": \"fbd7939d674997cdb4692d34de8633c4_node54\", \"weight\": 1, \"color\": \"\", \"target\": \"fbd7939d674997cdb4692d34de8633c4_node110\", \"id\": \"fbd7939d674997cdb4692d34de8633c4_edge200\"}, \"fbd7939d674997cdb4692d34de8633c4_edge201\": {\"source\": \"fbd7939d674997cdb4692d34de8633c4_node54\", \"weight\": 1, \"color\": \"\", \"target\": \"fbd7939d674997cdb4692d34de8633c4_node111\", \"id\": \"fbd7939d674997cdb4692d34de8633c4_edge201\"}, \"fbd7939d674997cdb4692d34de8633c4_edge202\": {\"source\": \"fbd7939d674997cdb4692d34de8633c4_node54\", \"weight\": 1, \"color\": \"\", \"target\": \"fbd7939d674997cdb4692d34de8633c4_node112\", \"id\": \"fbd7939d674997cdb4692d34de8633c4_edge202\"}, \"fbd7939d674997cdb4692d34de8633c4_edge203\": {\"source\": \"fbd7939d674997cdb4692d34de8633c4_node54\", \"weight\": 1, \"color\": \"\", \"target\": \"fbd7939d674997cdb4692d34de8633c4_node113\", \"id\": \"fbd7939d674997cdb4692d34de8633c4_edge203\"}, \"fbd7939d674997cdb4692d34de8633c4_edge204\": {\"source\": \"fbd7939d674997cdb4692d34de8633c4_node54\", \"weight\": 1, \"color\": \"\", \"target\": \"fbd7939d674997cdb4692d34de8633c4_node114\", \"id\": \"fbd7939d674997cdb4692d34de8633c4_edge204\"}, \"fbd7939d674997cdb4692d34de8633c4_edge205\": {\"source\": \"fbd7939d674997cdb4692d34de8633c4_node54\", \"weight\": 1, \"color\": \"\", \"target\": \"fbd7939d674997cdb4692d34de8633c4_node115\", \"id\": \"fbd7939d674997cdb4692d34de8633c4_edge205\"}, \"fbd7939d674997cdb4692d34de8633c4_edge206\": {\"source\": \"fbd7939d674997cdb4692d34de8633c4_node54\", \"weight\": 1, \"color\": \"\", \"target\": \"fbd7939d674997cdb4692d34de8633c4_node116\", \"id\": \"fbd7939d674997cdb4692d34de8633c4_edge206\"}, \"fbd7939d674997cdb4692d34de8633c4_edge207\": {\"source\": \"fbd7939d674997cdb4692d34de8633c4_node54\", \"weight\": 1, \"color\": \"\", \"target\": \"fbd7939d674997cdb4692d34de8633c4_node117\", \"id\": \"fbd7939d674997cdb4692d34de8633c4_edge207\"}, \"fbd7939d674997cdb4692d34de8633c4_edge208\": {\"source\": \"fbd7939d674997cdb4692d34de8633c4_node54\", \"weight\": 1, \"color\": \"\", \"target\": \"fbd7939d674997cdb4692d34de8633c4_node118\", \"id\": \"fbd7939d674997cdb4692d34de8633c4_edge208\"}, \"fbd7939d674997cdb4692d34de8633c4_edge209\": {\"source\": \"fbd7939d674997cdb4692d34de8633c4_node54\", \"weight\": 1, \"color\": \"\", \"target\": \"fbd7939d674997cdb4692d34de8633c4_node119\", \"id\": \"fbd7939d674997cdb4692d34de8633c4_edge209\"}, \"fbd7939d674997cdb4692d34de8633c4_edge210\": {\"source\": \"fbd7939d674997cdb4692d34de8633c4_node54\", \"weight\": 1, \"color\": \"\", \"target\": \"fbd7939d674997cdb4692d34de8633c4_node120\", \"id\": \"fbd7939d674997cdb4692d34de8633c4_edge210\"}, \"fbd7939d674997cdb4692d34de8633c4_edge211\": {\"source\": \"fbd7939d674997cdb4692d34de8633c4_node58\", \"weight\": 1, \"color\": \"\", \"target\": \"fbd7939d674997cdb4692d34de8633c4_node121\", \"id\": \"fbd7939d674997cdb4692d34de8633c4_edge211\"}, \"fbd7939d674997cdb4692d34de8633c4_edge212\": {\"source\": \"fbd7939d674997cdb4692d34de8633c4_node58\", \"weight\": 1, \"color\": \"\", \"target\": \"fbd7939d674997cdb4692d34de8633c4_node122\", \"id\": \"fbd7939d674997cdb4692d34de8633c4_edge212\"}, \"fbd7939d674997cdb4692d34de8633c4_edge213\": {\"source\": \"fbd7939d674997cdb4692d34de8633c4_node58\", \"weight\": 1, \"color\": \"\", \"target\": \"fbd7939d674997cdb4692d34de8633c4_node123\", \"id\": \"fbd7939d674997cdb4692d34de8633c4_edge213\"}, \"fbd7939d674997cdb4692d34de8633c4_edge214\": {\"source\": \"fbd7939d674997cdb4692d34de8633c4_node58\", \"weight\": 1, \"color\": \"\", \"target\": \"fbd7939d674997cdb4692d34de8633c4_node124\", \"id\": \"fbd7939d674997cdb4692d34de8633c4_edge214\"}, \"fbd7939d674997cdb4692d34de8633c4_edge215\": {\"source\": \"fbd7939d674997cdb4692d34de8633c4_node58\", \"weight\": 1, \"color\": \"\", \"target\": \"fbd7939d674997cdb4692d34de8633c4_node125\", \"id\": \"fbd7939d674997cdb4692d34de8633c4_edge215\"}, \"fbd7939d674997cdb4692d34de8633c4_edge216\": {\"source\": \"fbd7939d674997cdb4692d34de8633c4_node58\", \"weight\": 1, \"color\": \"\", \"target\": \"fbd7939d674997cdb4692d34de8633c4_node126\", \"id\": \"fbd7939d674997cdb4692d34de8633c4_edge216\"}, \"fbd7939d674997cdb4692d34de8633c4_edge217\": {\"source\": \"fbd7939d674997cdb4692d34de8633c4_node58\", \"weight\": 1, \"color\": \"\", \"target\": \"fbd7939d674997cdb4692d34de8633c4_node127\", \"id\": \"fbd7939d674997cdb4692d34de8633c4_edge217\"}, \"fbd7939d674997cdb4692d34de8633c4_edge218\": {\"source\": \"fbd7939d674997cdb4692d34de8633c4_node58\", \"weight\": 1, \"color\": \"\", \"target\": \"fbd7939d674997cdb4692d34de8633c4_node128\", \"id\": \"fbd7939d674997cdb4692d34de8633c4_edge218\"}, \"fbd7939d674997cdb4692d34de8633c4_edge219\": {\"source\": \"fbd7939d674997cdb4692d34de8633c4_node58\", \"weight\": 1, \"color\": \"\", \"target\": \"fbd7939d674997cdb4692d34de8633c4_node129\", \"id\": \"fbd7939d674997cdb4692d34de8633c4_edge219\"}, \"fbd7939d674997cdb4692d34de8633c4_edge220\": {\"source\": \"fbd7939d674997cdb4692d34de8633c4_node58\", \"weight\": 1, \"color\": \"\", \"target\": \"fbd7939d674997cdb4692d34de8633c4_node130\", \"id\": \"fbd7939d674997cdb4692d34de8633c4_edge220\"}, \"fbd7939d674997cdb4692d34de8633c4_edge221\": {\"source\": \"fbd7939d674997cdb4692d34de8633c4_node58\", \"weight\": 1, \"color\": \"\", \"target\": \"fbd7939d674997cdb4692d34de8633c4_node131\", \"id\": \"fbd7939d674997cdb4692d34de8633c4_edge221\"}, \"fbd7939d674997cdb4692d34de8633c4_edge222\": {\"source\": \"fbd7939d674997cdb4692d34de8633c4_node58\", \"weight\": 1, \"color\": \"\", \"target\": \"fbd7939d674997cdb4692d34de8633c4_node132\", \"id\": \"fbd7939d674997cdb4692d34de8633c4_edge222\"}, \"fbd7939d674997cdb4692d34de8633c4_edge223\": {\"source\": \"fbd7939d674997cdb4692d34de8633c4_node58\", \"weight\": 1, \"color\": \"\", \"target\": \"fbd7939d674997cdb4692d34de8633c4_node133\", \"id\": \"fbd7939d674997cdb4692d34de8633c4_edge223\"}, \"fbd7939d674997cdb4692d34de8633c4_edge224\": {\"source\": \"fbd7939d674997cdb4692d34de8633c4_node58\", \"weight\": 1, \"color\": \"\", \"target\": \"fbd7939d674997cdb4692d34de8633c4_node134\", \"id\": \"fbd7939d674997cdb4692d34de8633c4_edge224\"}, \"fbd7939d674997cdb4692d34de8633c4_edge225\": {\"source\": \"fbd7939d674997cdb4692d34de8633c4_node58\", \"weight\": 1, \"color\": \"\", \"target\": \"fbd7939d674997cdb4692d34de8633c4_node135\", \"id\": \"fbd7939d674997cdb4692d34de8633c4_edge225\"}, \"fbd7939d674997cdb4692d34de8633c4_edge226\": {\"source\": \"fbd7939d674997cdb4692d34de8633c4_node59\", \"weight\": 1, \"color\": \"\", \"target\": \"fbd7939d674997cdb4692d34de8633c4_node136\", \"id\": \"fbd7939d674997cdb4692d34de8633c4_edge226\"}, \"fbd7939d674997cdb4692d34de8633c4_edge227\": {\"source\": \"fbd7939d674997cdb4692d34de8633c4_node59\", \"weight\": 1, \"color\": \"\", \"target\": \"fbd7939d674997cdb4692d34de8633c4_node137\", \"id\": \"fbd7939d674997cdb4692d34de8633c4_edge227\"}, \"fbd7939d674997cdb4692d34de8633c4_edge228\": {\"source\": \"fbd7939d674997cdb4692d34de8633c4_node59\", \"weight\": 1, \"color\": \"\", \"target\": \"fbd7939d674997cdb4692d34de8633c4_node138\", \"id\": \"fbd7939d674997cdb4692d34de8633c4_edge228\"}}, \"type\": \"directed\"}, \"menus\": {}, \"messages\": {}}}",
      "text/plain": [
       "FrancyWidget(value=<networkx.classes.digraph.DiGraph object at 0x7f194c74d160>)"
      ]
     },
     "metadata": {},
     "output_type": "display_data"
    }
   ],
   "source": [
    "import networkx, json\n",
    "from francy_widget import FrancyWidget\n",
    "G = networkx.DiGraph()\n",
    "data = json.load(open(\"noether.json\"))\n",
    "nodes = data[\"nodes\"]\n",
    "print(len(nodes))\n",
    "nodes_to_keep = {k:nodes[k] for k in nodes if nodes[k][0]<4}\n",
    "print(len(nodes_to_keep), \"nodes\")\n",
    "edges_to_keep = [e for e in data[\"edges\"] if e[1] in nodes_to_keep]\n",
    "G.add_edges_from(edges_to_keep)\n",
    "def node_options(n):\n",
    "    options = {}\n",
    "    d = nodes[n]\n",
    "    options[\"layer\"] = d[0]\n",
    "    options[\"title\"] = \"%s (%s)\" % (d[2].split(\",\")[0], d[3])\n",
    "    if n in [\"6967\", \"63779\", \"6982\", \"29850\", \"121808\", \"191816\", \"54355\", \"98035\", \"44616\", \"57077\", \"21851\"]:\n",
    "        options[\"type\"] = 'diamond' # women\n",
    "    else:\n",
    "        options[\"type\"] = 'circle' # men\n",
    "    return options\n",
    "FrancyWidget(G, graphType=\"directed\", height=800, zoomToFit=False,\n",
    "             node_options=node_options)"
   ]
  },
  {
   "cell_type": "markdown",
   "metadata": {
    "slideshow": {
     "slide_type": "slide"
    }
   },
   "source": [
    "# Thanks!"
   ]
  }
 ],
 "metadata": {
  "celltoolbar": "Slideshow",
  "kernelspec": {
   "display_name": "SageMath 8.6",
   "language": "",
   "name": "sagemath"
  },
  "language_info": {
   "codemirror_mode": {
    "name": "ipython",
    "version": 3
   },
   "file_extension": ".py",
   "mimetype": "text/x-python",
   "name": "python",
   "nbconvert_exporter": "python",
   "pygments_lexer": "ipython3",
   "version": "3.6.6"
  },
  "widgets": {
   "application/vnd.jupyter.widget-state+json": {
    "state": {
     "00164312924a4edca04df94a57a9f266": {
      "model_module": "@jupyter-widgets/controls",
      "model_module_version": "1.4.0",
      "model_name": "ButtonModel",
      "state": {
       "_dom_classes": [
        "gridbutton",
        "b4"
       ],
       "disabled": true,
       "layout": "IPY_MODEL_196c83a3b43a46dca975be63611b8c09",
       "style": "IPY_MODEL_915ac6866e494a639bef6a8f65a37705"
      }
     },
     "00181e19115c4306a5f160625ca158c7": {
      "model_module": "@jupyter-widgets/controls",
      "model_module_version": "1.4.0",
      "model_name": "ButtonModel",
      "state": {
       "_dom_classes": [
        "gridbutton",
        "b1"
       ],
       "disabled": true,
       "layout": "IPY_MODEL_581cef88be2741a9bde4fcb6422ff1b0",
       "style": "IPY_MODEL_7bea03476c764c35acfe952436b17841"
      }
     },
     "0022875a45ef47bda1271ffc69236c1f": {
      "model_module": "@jupyter-widgets/base",
      "model_module_version": "1.1.0",
      "model_name": "LayoutModel",
      "state": {}
     },
     "0036e5d952074f3f976c690bb709c637": {
      "model_module": "@jupyter-widgets/base",
      "model_module_version": "1.1.0",
      "model_name": "LayoutModel",
      "state": {}
     },
     "00e3268a0e5f4eedaaf067938c45c93f": {
      "model_module": "@jupyter-widgets/base",
      "model_module_version": "1.1.0",
      "model_name": "LayoutModel",
      "state": {}
     },
     "00f36181f98b43fe92d2fbe13de7fab1": {
      "model_module": "@jupyter-widgets/controls",
      "model_module_version": "1.4.0",
      "model_name": "ButtonStyleModel",
      "state": {}
     },
     "00fabfaeedbd45c28792b14d7601dee1": {
      "model_module": "@jupyter-widgets/controls",
      "model_module_version": "1.4.0",
      "model_name": "DescriptionStyleModel",
      "state": {
       "description_width": ""
      }
     },
     "012fa8fcdddd44dcb59d0e12ebbcd815": {
      "model_module": "@jupyter-widgets/controls",
      "model_module_version": "1.4.0",
      "model_name": "DescriptionStyleModel",
      "state": {
       "description_width": ""
      }
     },
     "01525088674348bdbb6be72a3ea50e75": {
      "model_module": "@jupyter-widgets/controls",
      "model_module_version": "1.4.0",
      "model_name": "ButtonModel",
      "state": {
       "_dom_classes": [
        "gridbutton",
        "b4"
       ],
       "disabled": true,
       "layout": "IPY_MODEL_d861c29f26634ccfb59b53f634fc937d",
       "style": "IPY_MODEL_641b5ed92db34ca6b59a1e106bfde33d"
      }
     },
     "0164e66df7b740fdb75d3fe0ab5b0828": {
      "model_module": "@jupyter-widgets/controls",
      "model_module_version": "1.4.0",
      "model_name": "ButtonModel",
      "state": {
       "_dom_classes": [
        "gridbutton",
        "b1"
       ],
       "disabled": true,
       "layout": "IPY_MODEL_196c83a3b43a46dca975be63611b8c09",
       "style": "IPY_MODEL_66c585e8eec94d2c8628c6ac42599257"
      }
     },
     "016ed4b800bc4cc4adbf55a5dfdfaa19": {
      "model_module": "@jupyter-widgets/base",
      "model_module_version": "1.1.0",
      "model_name": "LayoutModel",
      "state": {}
     },
     "017af5e76c3340b0a5942da44179bbf3": {
      "model_module": "@jupyter-widgets/controls",
      "model_module_version": "1.4.0",
      "model_name": "ButtonModel",
      "state": {
       "_dom_classes": [
        "gridbutton",
        "b4"
       ],
       "disabled": true,
       "layout": "IPY_MODEL_196c83a3b43a46dca975be63611b8c09",
       "style": "IPY_MODEL_e4448b1c3c9d46a29fde00a081bb87f5"
      }
     },
     "01bb7be8facd4b4ba4df449effc0d646": {
      "model_module": "@jupyter-widgets/controls",
      "model_module_version": "1.4.0",
      "model_name": "ToggleButtonModel",
      "state": {
       "_dom_classes": [
        "gridbutton",
        "addablebutton"
       ],
       "description": "+",
       "layout": "IPY_MODEL_ae25d8ee9fe646ebb7fdd668d6ed6cab",
       "style": "IPY_MODEL_06b1f296ada94dc8a032ba6b8e00e63e",
       "tooltip": "Click to add a cell here"
      }
     },
     "01fa182c05da4dbe82a69a6084bd4c0d": {
      "model_module": "@jupyter-widgets/base",
      "model_module_version": "1.1.0",
      "model_name": "LayoutModel",
      "state": {}
     },
     "02094dbcc46e4c559c23de4ee5460d10": {
      "model_module": "@jupyter-widgets/base",
      "model_module_version": "1.1.0",
      "model_name": "LayoutModel",
      "state": {}
     },
     "0212f2902d554fbc8780d26a8001bd6b": {
      "model_module": "@jupyter-widgets/base",
      "model_module_version": "1.1.0",
      "model_name": "LayoutModel",
      "state": {}
     },
     "023a850be54b4137ac1cb1e01922ca78": {
      "model_module": "@jupyter-widgets/controls",
      "model_module_version": "1.4.0",
      "model_name": "DescriptionStyleModel",
      "state": {
       "description_width": ""
      }
     },
     "023e41c2db0c47b080fa99adb86d7201": {
      "model_module": "@jupyter-widgets/controls",
      "model_module_version": "1.4.0",
      "model_name": "ButtonStyleModel",
      "state": {}
     },
     "0250955fcfc54f2a8b935b8bce223a90": {
      "model_module": "@jupyter-widgets/controls",
      "model_module_version": "1.4.0",
      "model_name": "ButtonStyleModel",
      "state": {}
     },
     "0257746b65784e7da05901181e12aa2f": {
      "model_module": "@jupyter-widgets/controls",
      "model_module_version": "1.4.0",
      "model_name": "ButtonModel",
      "state": {
       "_dom_classes": [
        "gridbutton",
        "b2"
       ],
       "disabled": true,
       "layout": "IPY_MODEL_d861c29f26634ccfb59b53f634fc937d",
       "style": "IPY_MODEL_3f93f550119f473e8a63c36f6053b7a3"
      }
     },
     "0269c1c94a904485be5710b2ac3f7b69": {
      "model_module": "@jupyter-widgets/base",
      "model_module_version": "1.1.0",
      "model_name": "LayoutModel",
      "state": {}
     },
     "026aac54557846ac8a8b0c3d3fcab4ad": {
      "model_module": "@jupyter-widgets/controls",
      "model_module_version": "1.4.0",
      "model_name": "ButtonStyleModel",
      "state": {}
     },
     "027eb59bfd754acfae3c4ac6d82f9711": {
      "model_module": "@jupyter-widgets/controls",
      "model_module_version": "1.4.0",
      "model_name": "HBoxModel",
      "state": {
       "children": [
        "IPY_MODEL_59bc0008ad3b49b88cc44e275a66df7b",
        "IPY_MODEL_2bd339ba437a4b69b91a2f9b05635cdb",
        "IPY_MODEL_4beb8c6c56ca4eef9934575ca90117a7",
        "IPY_MODEL_9bdff25f42a8464a924a7ca63d04a688",
        "IPY_MODEL_2216ecd18cd14599b01254503d46a333",
        "IPY_MODEL_a6531ba7fb8043a5ad0d6605f86930cb",
        "IPY_MODEL_4e90ca46f1d04160ba858f80767a444a",
        "IPY_MODEL_ae816404609f4a97b071498b22377788",
        "IPY_MODEL_a2c10636ea7f4c8a80bae240337fc58e",
        "IPY_MODEL_60077aa27cbc4051b017f2d913b55812"
       ],
       "layout": "IPY_MODEL_571d868128da46a8b582a81b8ec6faec"
      }
     },
     "029e71b0c1b3411385f0431ebe6d8d7b": {
      "model_module": "@jupyter-widgets/base",
      "model_module_version": "1.1.0",
      "model_name": "LayoutModel",
      "state": {}
     },
     "02a0b11f29f04b77bd871a5540083316": {
      "model_module": "@jupyter-widgets/base",
      "model_module_version": "1.1.0",
      "model_name": "LayoutModel",
      "state": {}
     },
     "02a648deaf734226b7737b5bc7026de5": {
      "model_module": "@jupyter-widgets/controls",
      "model_module_version": "1.4.0",
      "model_name": "ButtonStyleModel",
      "state": {}
     },
     "02bd35f005e949958f3cad35a06e1e3e": {
      "model_module": "@jupyter-widgets/controls",
      "model_module_version": "1.4.0",
      "model_name": "ButtonModel",
      "state": {
       "_dom_classes": [
        "gridbutton",
        "b1"
       ],
       "disabled": true,
       "layout": "IPY_MODEL_196c83a3b43a46dca975be63611b8c09",
       "style": "IPY_MODEL_02f747576b0a483bb9f2c37bc4a24627"
      }
     },
     "02c7e85d267b42d690be2ee8b5473aee": {
      "model_module": "@jupyter-widgets/controls",
      "model_module_version": "1.4.0",
      "model_name": "ButtonModel",
      "state": {
       "_dom_classes": [
        "gridbutton",
        "b1"
       ],
       "disabled": true,
       "layout": "IPY_MODEL_d861c29f26634ccfb59b53f634fc937d",
       "style": "IPY_MODEL_7870e5b2515443c590fd083ad8f3106b"
      }
     },
     "02ce15f832c542588fba9c014576d59b": {
      "model_module": "@jupyter-widgets/base",
      "model_module_version": "1.1.0",
      "model_name": "LayoutModel",
      "state": {}
     },
     "02d7e26ebaac4675a6f849849b5da9cb": {
      "model_module": "@jupyter-widgets/controls",
      "model_module_version": "1.4.0",
      "model_name": "TextModel",
      "state": {
       "_dom_classes": [
        "blankcell"
       ],
       "disabled": true,
       "layout": "IPY_MODEL_196c83a3b43a46dca975be63611b8c09",
       "style": "IPY_MODEL_1c1771881a394251b5e3112e1f1ea1fa"
      }
     },
     "02da995a5f2742ab9a64d5aa326be9f9": {
      "model_module": "@jupyter-widgets/controls",
      "model_module_version": "1.4.0",
      "model_name": "ButtonStyleModel",
      "state": {}
     },
     "02e613c749544990a45bbd913551fd2a": {
      "model_module": "@jupyter-widgets/base",
      "model_module_version": "1.1.0",
      "model_name": "LayoutModel",
      "state": {}
     },
     "02f747576b0a483bb9f2c37bc4a24627": {
      "model_module": "@jupyter-widgets/controls",
      "model_module_version": "1.4.0",
      "model_name": "ButtonStyleModel",
      "state": {}
     },
     "03017ea2283a47749f5f52ac614f8bab": {
      "model_module": "@jupyter-widgets/controls",
      "model_module_version": "1.4.0",
      "model_name": "DescriptionStyleModel",
      "state": {
       "description_width": ""
      }
     },
     "0326f18cdba74d41acbdeed558af2bad": {
      "model_module": "@jupyter-widgets/controls",
      "model_module_version": "1.4.0",
      "model_name": "ButtonStyleModel",
      "state": {}
     },
     "036c1c4d128249a09dca5647fdc00bd0": {
      "model_module": "@jupyter-widgets/base",
      "model_module_version": "1.1.0",
      "model_name": "LayoutModel",
      "state": {}
     },
     "0371c42dd537478489a13e0be8870492": {
      "model_module": "@jupyter-widgets/controls",
      "model_module_version": "1.4.0",
      "model_name": "ButtonStyleModel",
      "state": {}
     },
     "037516e2009c4dd68a7841979abc8993": {
      "model_module": "@jupyter-widgets/controls",
      "model_module_version": "1.4.0",
      "model_name": "ButtonStyleModel",
      "state": {}
     },
     "039d97c605354c4a953a62f150ed8412": {
      "model_module": "@jupyter-widgets/base",
      "model_module_version": "1.1.0",
      "model_name": "LayoutModel",
      "state": {}
     },
     "039e8543067b430b86759f7db55ac744": {
      "model_module": "@jupyter-widgets/controls",
      "model_module_version": "1.4.0",
      "model_name": "TextModel",
      "state": {
       "_dom_classes": [
        "blankcell"
       ],
       "disabled": true,
       "layout": "IPY_MODEL_196c83a3b43a46dca975be63611b8c09",
       "style": "IPY_MODEL_c2f9ba74bf2441a8a6785c095f8dffb5"
      }
     },
     "039fdecf52c243cab3a91fa4e3374962": {
      "model_module": "@jupyter-widgets/controls",
      "model_module_version": "1.4.0",
      "model_name": "DescriptionStyleModel",
      "state": {
       "description_width": ""
      }
     },
     "03c8235781b54f9c920579b1bfdd7a32": {
      "model_module": "@jupyter-widgets/base",
      "model_module_version": "1.1.0",
      "model_name": "LayoutModel",
      "state": {}
     },
     "03ca2fd0696c4006b4f17caf807420b0": {
      "model_module": "@jupyter-widgets/controls",
      "model_module_version": "1.4.0",
      "model_name": "ButtonStyleModel",
      "state": {}
     },
     "03ea97d5be7f494a80cb4b61443c8843": {
      "model_module": "@jupyter-widgets/controls",
      "model_module_version": "1.4.0",
      "model_name": "HBoxModel",
      "state": {
       "children": [
        "IPY_MODEL_2c48099fc26943ee86d3c43c5f89fca0",
        "IPY_MODEL_36d14454eda04108a75fe5f9589be0b6",
        "IPY_MODEL_8ee1c07ffa514b8c933f03587f5ae529",
        "IPY_MODEL_929a1cf78e36431cac790dcd428897a6",
        "IPY_MODEL_fa07fee4e5b447e0ae99e4eed1d46547",
        "IPY_MODEL_4ebd5dcacb724a8c909cf64ccc3a0a4f",
        "IPY_MODEL_8c5843d937484abbbdee8607ed0d75ba"
       ],
       "layout": "IPY_MODEL_0d44d5733e92464bb7ecdc57e9c6d9f9"
      }
     },
     "0413f48f00ef436699ca1ae9801444f7": {
      "model_module": "@jupyter-widgets/base",
      "model_module_version": "1.1.0",
      "model_name": "LayoutModel",
      "state": {}
     },
     "04399d1ad5b14172a380da50ad380921": {
      "model_module": "@jupyter-widgets/base",
      "model_module_version": "1.1.0",
      "model_name": "LayoutModel",
      "state": {}
     },
     "043c77d27b7648759f13866c24631dc9": {
      "model_module": "@jupyter-widgets/base",
      "model_module_version": "1.1.0",
      "model_name": "LayoutModel",
      "state": {}
     },
     "044181accf9c4f0790ca41b7e998dbb6": {
      "model_module": "@jupyter-widgets/controls",
      "model_module_version": "1.4.0",
      "model_name": "ButtonModel",
      "state": {
       "_dom_classes": [
        "gridbutton",
        "b3"
       ],
       "disabled": true,
       "layout": "IPY_MODEL_d861c29f26634ccfb59b53f634fc937d",
       "style": "IPY_MODEL_0eb9b62c6e7e4fc19cc1f5daa9b50bb3"
      }
     },
     "04498ad0ccc94f8c8cd4776877ef6c2d": {
      "model_module": "@jupyter-widgets/controls",
      "model_module_version": "1.4.0",
      "model_name": "ButtonModel",
      "state": {
       "_dom_classes": [
        "gridbutton",
        "b3"
       ],
       "disabled": true,
       "layout": "IPY_MODEL_581cef88be2741a9bde4fcb6422ff1b0",
       "style": "IPY_MODEL_04cd79b312d34b10bc66aa5e7ffc7056"
      }
     },
     "0451048c046b4d32ad1d7a6b13335d1d": {
      "model_module": "@jupyter-widgets/controls",
      "model_module_version": "1.4.0",
      "model_name": "TextModel",
      "state": {
       "_dom_classes": [
        "blankcell"
       ],
       "disabled": true,
       "layout": "IPY_MODEL_581cef88be2741a9bde4fcb6422ff1b0",
       "style": "IPY_MODEL_28ed0a2a37cf4106954554bbafe0b635"
      }
     },
     "0464f8dcbfd945f7b44ac156e681355c": {
      "model_module": "@jupyter-widgets/base",
      "model_module_version": "1.1.0",
      "model_name": "LayoutModel",
      "state": {}
     },
     "0485ee82b0f7475587ef7da16597a405": {
      "model_module": "@jupyter-widgets/controls",
      "model_module_version": "1.4.0",
      "model_name": "TextModel",
      "state": {
       "_dom_classes": [
        "blankcell"
       ],
       "disabled": true,
       "layout": "IPY_MODEL_196c83a3b43a46dca975be63611b8c09",
       "style": "IPY_MODEL_bbe5257e3f164d2aabeb6fb1c9eb6e0a"
      }
     },
     "049e9bbc5e1a4d4c964c79b6555e4f07": {
      "model_module": "@jupyter-widgets/base",
      "model_module_version": "1.1.0",
      "model_name": "LayoutModel",
      "state": {}
     },
     "04b034a1a5964d06bf8e39c331cb8d2c": {
      "model_module": "@jupyter-widgets/base",
      "model_module_version": "1.1.0",
      "model_name": "LayoutModel",
      "state": {}
     },
     "04c3b799067d4cd59e8aa5b23924de70": {
      "model_module": "@jupyter-widgets/controls",
      "model_module_version": "1.4.0",
      "model_name": "DescriptionStyleModel",
      "state": {
       "description_width": ""
      }
     },
     "04cd79b312d34b10bc66aa5e7ffc7056": {
      "model_module": "@jupyter-widgets/controls",
      "model_module_version": "1.4.0",
      "model_name": "ButtonStyleModel",
      "state": {}
     },
     "04e07d3dbbf64d0896fdf4b1a85efe10": {
      "model_module": "@jupyter-widgets/controls",
      "model_module_version": "1.4.0",
      "model_name": "DescriptionStyleModel",
      "state": {
       "description_width": ""
      }
     },
     "04e4f6ad40ea4fb597a7122e7a1b2447": {
      "model_module": "@jupyter-widgets/controls",
      "model_module_version": "1.4.0",
      "model_name": "ButtonStyleModel",
      "state": {}
     },
     "050a8decda5b49e1b4095734bfc1d3c1": {
      "model_module": "@jupyter-widgets/controls",
      "model_module_version": "1.4.0",
      "model_name": "ButtonModel",
      "state": {
       "_dom_classes": [
        "gridbutton",
        "b4"
       ],
       "disabled": true,
       "layout": "IPY_MODEL_196c83a3b43a46dca975be63611b8c09",
       "style": "IPY_MODEL_58af02bf4c1345f2b2d0d2f4b303da18"
      }
     },
     "0521bec145f640f4a33e2c05e09295c2": {
      "model_module": "@jupyter-widgets/base",
      "model_module_version": "1.1.0",
      "model_name": "LayoutModel",
      "state": {}
     },
     "0533738f376743648d105cd0aec67719": {
      "model_module": "@jupyter-widgets/base",
      "model_module_version": "1.1.0",
      "model_name": "LayoutModel",
      "state": {}
     },
     "0547c74d552a426797c7a0ea2b4c502d": {
      "model_module": "@jupyter-widgets/controls",
      "model_module_version": "1.4.0",
      "model_name": "TextModel",
      "state": {
       "_dom_classes": [
        "blankcell"
       ],
       "disabled": true,
       "layout": "IPY_MODEL_196c83a3b43a46dca975be63611b8c09",
       "style": "IPY_MODEL_d99459638ae348579db795a0c6aa9786"
      }
     },
     "054c53df2156427699705514ee873e94": {
      "model_module": "@jupyter-widgets/controls",
      "model_module_version": "1.4.0",
      "model_name": "TextModel",
      "state": {
       "_dom_classes": [
        "blankcell"
       ],
       "disabled": true,
       "layout": "IPY_MODEL_581cef88be2741a9bde4fcb6422ff1b0",
       "style": "IPY_MODEL_55180500714d4d68956c298187d34253"
      }
     },
     "0566a7b5d57146459c0c921d7a077566": {
      "model_module": "@jupyter-widgets/controls",
      "model_module_version": "1.4.0",
      "model_name": "ToggleButtonModel",
      "state": {
       "_dom_classes": [
        "gridbutton"
       ],
       "description": "-",
       "layout": "IPY_MODEL_24198035057f48ca81a6fa9a718c3f55",
       "style": "IPY_MODEL_541fc8b0d7dd447c91471e67ac20c85f",
       "tooltip": "3, 0"
      }
     },
     "057b235ae7704761bfd717cffe22d971": {
      "model_module": "@jupyter-widgets/controls",
      "model_module_version": "1.4.0",
      "model_name": "TextModel",
      "state": {
       "_dom_classes": [
        "blankcell"
       ],
       "disabled": true,
       "layout": "IPY_MODEL_d861c29f26634ccfb59b53f634fc937d",
       "style": "IPY_MODEL_b7c0dc8327184ea8a6b6bfb7aed40af7"
      }
     },
     "057bd2d8697f4d5387fc4e2b9675bf27": {
      "model_module": "@jupyter-widgets/controls",
      "model_module_version": "1.4.0",
      "model_name": "TextModel",
      "state": {
       "_dom_classes": [
        "blankcell"
       ],
       "disabled": true,
       "layout": "IPY_MODEL_d861c29f26634ccfb59b53f634fc937d",
       "style": "IPY_MODEL_914a99b610dd4274aabd0d2d4163201a"
      }
     },
     "0582274e445e41c484e7471db56afd3f": {
      "model_module": "@jupyter-widgets/base",
      "model_module_version": "1.1.0",
      "model_name": "LayoutModel",
      "state": {}
     },
     "059fb5789ab14383afb7fed00e1fa896": {
      "model_module": "@jupyter-widgets/controls",
      "model_module_version": "1.4.0",
      "model_name": "TextModel",
      "state": {
       "_dom_classes": [
        "blankcell"
       ],
       "disabled": true,
       "layout": "IPY_MODEL_d861c29f26634ccfb59b53f634fc937d",
       "style": "IPY_MODEL_31248bea238f4ef19406880dd22b24e3"
      }
     },
     "05a8ca4332044d3191de2bc3b7bb5b76": {
      "model_module": "@jupyter-widgets/base",
      "model_module_version": "1.1.0",
      "model_name": "LayoutModel",
      "state": {}
     },
     "05a9b718b3ff4da2b85f018d4fd1e7c9": {
      "model_module": "@jupyter-widgets/base",
      "model_module_version": "1.1.0",
      "model_name": "LayoutModel",
      "state": {}
     },
     "05b8b84d79b14b4b80f5745a8f8ead28": {
      "model_module": "@jupyter-widgets/base",
      "model_module_version": "1.1.0",
      "model_name": "LayoutModel",
      "state": {}
     },
     "05e684d4ad6c426a9aa04f832d66b3af": {
      "model_module": "@jupyter-widgets/controls",
      "model_module_version": "1.4.0",
      "model_name": "HBoxModel",
      "state": {
       "children": [
        "IPY_MODEL_fdf2f17fd2964318b7ff362796d4efba",
        "IPY_MODEL_9deb02a352b64b93911ed89c27c70cd1",
        "IPY_MODEL_cf7b951c287944ee917b9faaa5bbd409",
        "IPY_MODEL_00181e19115c4306a5f160625ca158c7",
        "IPY_MODEL_e4215559fd6b4508abb91cba15802dde",
        "IPY_MODEL_c469d2505fe54ced8df687aaaeb1487d",
        "IPY_MODEL_3bf7587d4d384a7cafaecb58fdfda68d",
        "IPY_MODEL_d833ede7ff8945fc869f3a70d7c03e08",
        "IPY_MODEL_f54ef4255dab4196ab93f36dcec9b2d8",
        "IPY_MODEL_6b44182961b0448e999f6d304b068998",
        "IPY_MODEL_3c49bcdcafc04f6aa862992cd4273d11",
        "IPY_MODEL_091ac176a6804c0b96626d0093ff0e06",
        "IPY_MODEL_505dcb82f1e24d3684eb7ccfa9a308f4",
        "IPY_MODEL_c9a4edbc6349473f8dc89a061e7e89d8"
       ],
       "layout": "IPY_MODEL_b2d61639c7a94e5dad78c149011984e9"
      }
     },
     "060c34cf1a594c5c841ce5983d123baa": {
      "model_module": "@jupyter-widgets/base",
      "model_module_version": "1.1.0",
      "model_name": "LayoutModel",
      "state": {}
     },
     "061b02900e1840b6a1a1dfbe86791af4": {
      "model_module": "@jupyter-widgets/controls",
      "model_module_version": "1.4.0",
      "model_name": "ButtonStyleModel",
      "state": {}
     },
     "061b5c5bce2a4741825fa626fc92fba0": {
      "model_module": "@jupyter-widgets/base",
      "model_module_version": "1.1.0",
      "model_name": "LayoutModel",
      "state": {}
     },
     "063b0710eff4473fad5b1aea74c4351c": {
      "model_module": "@jupyter-widgets/controls",
      "model_module_version": "1.4.0",
      "model_name": "ButtonStyleModel",
      "state": {}
     },
     "06618c717167440b927bb205814b6928": {
      "model_module": "@jupyter-widgets/base",
      "model_module_version": "1.1.0",
      "model_name": "LayoutModel",
      "state": {}
     },
     "066c509c666f44ea8c14a18bd84f71f5": {
      "model_module": "@jupyter-widgets/controls",
      "model_module_version": "1.4.0",
      "model_name": "HBoxModel",
      "state": {
       "children": [
        "IPY_MODEL_385e42a0df5f45388def71659c127eb8",
        "IPY_MODEL_fbcce014bf85450bbd645ba3e923e337",
        "IPY_MODEL_e0c2bf5d3f5d454f92f37fb67a69610d",
        "IPY_MODEL_dbe93054dc214d8081716fa36c12428c",
        "IPY_MODEL_1cbcac3a7446437188ba215596be5e96",
        "IPY_MODEL_4b04ff6597544cc9b9f586404a63081c"
       ],
       "layout": "IPY_MODEL_4d8980a6e1b645239f18cb01dc549dcc"
      }
     },
     "06a37a206e914908938fb94a3defc349": {
      "model_module": "@jupyter-widgets/base",
      "model_module_version": "1.1.0",
      "model_name": "LayoutModel",
      "state": {}
     },
     "06a5f4c336ef4400822441c6e7c796d3": {
      "model_module": "@jupyter-widgets/base",
      "model_module_version": "1.1.0",
      "model_name": "LayoutModel",
      "state": {}
     },
     "06b1f296ada94dc8a032ba6b8e00e63e": {
      "model_module": "@jupyter-widgets/controls",
      "model_module_version": "1.4.0",
      "model_name": "DescriptionStyleModel",
      "state": {
       "description_width": ""
      }
     },
     "06d25d40ee9c415fb5dd4a9b60930f36": {
      "model_module": "@jupyter-widgets/base",
      "model_module_version": "1.1.0",
      "model_name": "LayoutModel",
      "state": {}
     },
     "06f1c939fbd549e4bfb78d7a64d659c1": {
      "model_module": "@jupyter-widgets/base",
      "model_module_version": "1.1.0",
      "model_name": "LayoutModel",
      "state": {}
     },
     "070b8d7dfd8e4d23b287443a5cd7b6c7": {
      "model_module": "@jupyter-widgets/base",
      "model_module_version": "1.1.0",
      "model_name": "LayoutModel",
      "state": {}
     },
     "072bbe6acd574caea1260db8a2061856": {
      "model_module": "@jupyter-widgets/base",
      "model_module_version": "1.1.0",
      "model_name": "LayoutModel",
      "state": {}
     },
     "072cc332fa524889b37a47d2f26c81b2": {
      "model_module": "@jupyter-widgets/controls",
      "model_module_version": "1.4.0",
      "model_name": "DescriptionStyleModel",
      "state": {
       "description_width": ""
      }
     },
     "07332b47a909493fafca19384b7f67dc": {
      "model_module": "@jupyter-widgets/controls",
      "model_module_version": "1.4.0",
      "model_name": "ButtonModel",
      "state": {
       "_dom_classes": [
        "gridbutton",
        "b1"
       ],
       "disabled": true,
       "layout": "IPY_MODEL_d861c29f26634ccfb59b53f634fc937d",
       "style": "IPY_MODEL_9c909166868e4e84b6fe27f7304bbc2d"
      }
     },
     "07351519c0f24321b671d5b6941701df": {
      "model_module": "@jupyter-widgets/controls",
      "model_module_version": "1.4.0",
      "model_name": "DescriptionStyleModel",
      "state": {
       "description_width": ""
      }
     },
     "078539d2450c427abad92277c2973244": {
      "model_module": "@jupyter-widgets/base",
      "model_module_version": "1.1.0",
      "model_name": "LayoutModel",
      "state": {}
     },
     "07c48a76ff994cb08c3bbf6e950bb4f5": {
      "model_module": "@jupyter-widgets/controls",
      "model_module_version": "1.4.0",
      "model_name": "ButtonModel",
      "state": {
       "_dom_classes": [
        "gridbutton",
        "b1"
       ],
       "disabled": true,
       "layout": "IPY_MODEL_d861c29f26634ccfb59b53f634fc937d",
       "style": "IPY_MODEL_dde81355242049b1a30ccded1816067d"
      }
     },
     "07ded992dd994010947091a16e9248f7": {
      "model_module": "@jupyter-widgets/controls",
      "model_module_version": "1.4.0",
      "model_name": "ButtonStyleModel",
      "state": {}
     },
     "08355356cc75444ea7df8e31852f2737": {
      "model_module": "@jupyter-widgets/controls",
      "model_module_version": "1.4.0",
      "model_name": "ButtonModel",
      "state": {
       "_dom_classes": [
        "gridbutton",
        "b3"
       ],
       "disabled": true,
       "layout": "IPY_MODEL_581cef88be2741a9bde4fcb6422ff1b0",
       "style": "IPY_MODEL_3af9a8c96e444ae4a5b3b25a569321c7"
      }
     },
     "085959920cb44e9cacfd92adb33cdfb4": {
      "model_module": "@jupyter-widgets/controls",
      "model_module_version": "1.4.0",
      "model_name": "HBoxModel",
      "state": {
       "children": [
        "IPY_MODEL_0485ee82b0f7475587ef7da16597a405",
        "IPY_MODEL_11419b0a3b0340d5b95beabba6a54a13",
        "IPY_MODEL_73b2fd1d427243b3be514a7bdee67ae5",
        "IPY_MODEL_43ea24e8c0d346d0a1bbebcbcb0baba9",
        "IPY_MODEL_8649be5d1339401da92e317970c52b26",
        "IPY_MODEL_392273dfd80f4b398e516a52504be2f7",
        "IPY_MODEL_643d88230eff4563a6f6f7652d334731",
        "IPY_MODEL_e152f3a8ae144e909cfd6987cbbec751",
        "IPY_MODEL_ad85655fd9df47f8900b454aa157c120",
        "IPY_MODEL_4de79d6c27eb4dcbbe875ff537de80f4",
        "IPY_MODEL_4f5efdfaa150423a862d7abfbe4c557b",
        "IPY_MODEL_96af18715be44e36a9e2fd9a2b688e15"
       ],
       "layout": "IPY_MODEL_fafb2cef039a401f8a0ae480d6a2b99b"
      }
     },
     "085ec083b5404395bca52f68cff1ef69": {
      "model_module": "@jupyter-widgets/controls",
      "model_module_version": "1.4.0",
      "model_name": "ButtonModel",
      "state": {
       "_dom_classes": [
        "gridbutton",
        "b4"
       ],
       "disabled": true,
       "layout": "IPY_MODEL_196c83a3b43a46dca975be63611b8c09",
       "style": "IPY_MODEL_b6b5f8aeb9cb49d0b9e1444d7ee6f515"
      }
     },
     "087811e0f76241f8bc051046795761a4": {
      "model_module": "@jupyter-widgets/controls",
      "model_module_version": "1.4.0",
      "model_name": "DescriptionStyleModel",
      "state": {
       "description_width": ""
      }
     },
     "0880154bb5aa4c49bf8fafa46d820393": {
      "model_module": "@jupyter-widgets/controls",
      "model_module_version": "1.4.0",
      "model_name": "VBoxModel",
      "state": {
       "children": [
        "IPY_MODEL_d01f4239658f4e5695c6e50b7b632a87",
        "IPY_MODEL_ca0f00d7cf5a4d9ebad6426c8c0ac3fe",
        "IPY_MODEL_b1debd290bd243f9b6da81a9d4038957"
       ],
       "layout": "IPY_MODEL_2622ba07fda94aae806a774973b8dfba"
      }
     },
     "08831d27616f4d1e81da68a49bbc08c2": {
      "model_module": "@jupyter-widgets/controls",
      "model_module_version": "1.4.0",
      "model_name": "ButtonStyleModel",
      "state": {}
     },
     "088d911e68ad4b45b1914913e59d3b90": {
      "model_module": "@jupyter-widgets/controls",
      "model_module_version": "1.4.0",
      "model_name": "ToggleButtonModel",
      "state": {
       "_dom_classes": [
        "gridbutton",
        "addablebutton"
       ],
       "description": "+",
       "layout": "IPY_MODEL_742ce9cb5c1a4d358dd3aef0fa324d55",
       "style": "IPY_MODEL_7e7fdba3227340c3aeb2c46a42f09680",
       "tooltip": "Click to add a cell here"
      }
     },
     "08ccb80ee9ba4d6da0883fecdb6f5f24": {
      "model_module": "@jupyter-widgets/controls",
      "model_module_version": "1.4.0",
      "model_name": "TextModel",
      "state": {
       "_dom_classes": [
        "blankcell"
       ],
       "disabled": true,
       "layout": "IPY_MODEL_196c83a3b43a46dca975be63611b8c09",
       "style": "IPY_MODEL_46089efe44d4403baaa23135669279e8"
      }
     },
     "08d410d33c9d4e5396e457805fe77963": {
      "model_module": "@jupyter-widgets/controls",
      "model_module_version": "1.4.0",
      "model_name": "ButtonStyleModel",
      "state": {}
     },
     "091ac176a6804c0b96626d0093ff0e06": {
      "model_module": "@jupyter-widgets/controls",
      "model_module_version": "1.4.0",
      "model_name": "ButtonModel",
      "state": {
       "_dom_classes": [
        "gridbutton",
        "b1"
       ],
       "disabled": true,
       "layout": "IPY_MODEL_581cef88be2741a9bde4fcb6422ff1b0",
       "style": "IPY_MODEL_5d08da151e214102b453c3ee74f5e15b"
      }
     },
     "092540ecf2dc4e1baa4279e97bf77217": {
      "model_module": "@jupyter-widgets/base",
      "model_module_version": "1.1.0",
      "model_name": "LayoutModel",
      "state": {}
     },
     "092738de4f304dc2832ed06909587a41": {
      "model_module": "@jupyter-widgets/controls",
      "model_module_version": "1.4.0",
      "model_name": "ToggleButtonModel",
      "state": {
       "_dom_classes": [
        "gridbutton"
       ],
       "description": "-",
       "layout": "IPY_MODEL_742ce9cb5c1a4d358dd3aef0fa324d55",
       "style": "IPY_MODEL_6f007d64cda54f8fb1e7186ef1e480b4",
       "tooltip": "1, 0"
      }
     },
     "092889d046fc4897999c6df5aae63f92": {
      "model_module": "@jupyter-widgets/controls",
      "model_module_version": "1.4.0",
      "model_name": "TextModel",
      "state": {
       "_dom_classes": [
        "gridcell"
       ],
       "_view_module": "sage-combinat-widgets",
       "_view_module_version": "^0.2.0",
       "_view_name": "TextWithTooltipView",
       "continuous_update": false,
       "description_tooltip": "",
       "layout": "IPY_MODEL_ae25d8ee9fe646ebb7fdd668d6ed6cab",
       "style": "IPY_MODEL_d8fc699b40b84351bc06aa932d4889de",
       "value": "3"
      }
     },
     "094e870016794824a4b0b408e40fbbf7": {
      "model_module": "@jupyter-widgets/base",
      "model_module_version": "1.1.0",
      "model_name": "LayoutModel",
      "state": {}
     },
     "0962d1a4eeab4b7a8b087bf5ac22d51b": {
      "model_module": "@jupyter-widgets/base",
      "model_module_version": "1.1.0",
      "model_name": "LayoutModel",
      "state": {}
     },
     "0973af87b6714d36a27d73abccc3639c": {
      "model_module": "@jupyter-widgets/base",
      "model_module_version": "1.1.0",
      "model_name": "LayoutModel",
      "state": {}
     },
     "097683deed9a43d6acecd0598f00fc5d": {
      "model_module": "@jupyter-widgets/controls",
      "model_module_version": "1.4.0",
      "model_name": "TextModel",
      "state": {
       "_dom_classes": [
        "blankcell"
       ],
       "disabled": true,
       "layout": "IPY_MODEL_581cef88be2741a9bde4fcb6422ff1b0",
       "style": "IPY_MODEL_590f68bc71d44770840135ce0dd42953"
      }
     },
     "0976abe9f72e483aa1b9e0e6ebf622bd": {
      "model_module": "@jupyter-widgets/controls",
      "model_module_version": "1.4.0",
      "model_name": "ButtonModel",
      "state": {
       "_dom_classes": [
        "gridbutton",
        "b2"
       ],
       "disabled": true,
       "layout": "IPY_MODEL_196c83a3b43a46dca975be63611b8c09",
       "style": "IPY_MODEL_892b554ba3724515951ac7463ffcd228"
      }
     },
     "09c17f38026044778fbdb251c356eec2": {
      "model_module": "@jupyter-widgets/controls",
      "model_module_version": "1.4.0",
      "model_name": "ButtonModel",
      "state": {
       "_dom_classes": [
        "gridbutton",
        "b1"
       ],
       "disabled": true,
       "layout": "IPY_MODEL_d861c29f26634ccfb59b53f634fc937d",
       "style": "IPY_MODEL_6c4118b8a3a143f2b592fb82840ad58d"
      }
     },
     "09cdf09cb77d488697646a0891648c57": {
      "model_module": "@jupyter-widgets/controls",
      "model_module_version": "1.4.0",
      "model_name": "TextModel",
      "state": {
       "_dom_classes": [
        "blankcell"
       ],
       "disabled": true,
       "layout": "IPY_MODEL_581cef88be2741a9bde4fcb6422ff1b0",
       "style": "IPY_MODEL_551f34c0feaa4d83b7dadead1266c7c4"
      }
     },
     "09dabbf998cf47e6a67fb9e8a459e38c": {
      "model_module": "@jupyter-widgets/controls",
      "model_module_version": "1.4.0",
      "model_name": "ButtonModel",
      "state": {
       "_dom_classes": [
        "gridbutton",
        "b4"
       ],
       "disabled": true,
       "layout": "IPY_MODEL_d861c29f26634ccfb59b53f634fc937d",
       "style": "IPY_MODEL_34e6d77178ae4893a85e959d7936031d"
      }
     },
     "09df7a69397d4593ac2af4b34a8f4f0a": {
      "model_module": "@jupyter-widgets/controls",
      "model_module_version": "1.4.0",
      "model_name": "ButtonModel",
      "state": {
       "_dom_classes": [
        "gridbutton",
        "b4"
       ],
       "disabled": true,
       "layout": "IPY_MODEL_d861c29f26634ccfb59b53f634fc937d",
       "style": "IPY_MODEL_a9bb7a2283b74652979b750ceb34b938"
      }
     },
     "0a01d2429e2e4f319ee97ea10ed6f11e": {
      "model_module": "@jupyter-widgets/controls",
      "model_module_version": "1.4.0",
      "model_name": "TextModel",
      "state": {
       "_dom_classes": [
        "gridcell"
       ],
       "_view_module": "sage-combinat-widgets",
       "_view_module_version": "^0.2.0",
       "_view_name": "TextWithTooltipView",
       "continuous_update": false,
       "description_tooltip": "",
       "layout": "IPY_MODEL_742ce9cb5c1a4d358dd3aef0fa324d55",
       "style": "IPY_MODEL_c4bd68fd2cd1420cb81a83624b27060d",
       "value": "3"
      }
     },
     "0a29b98c51744fe7a6074e623a311294": {
      "model_module": "@jupyter-widgets/base",
      "model_module_version": "1.1.0",
      "model_name": "LayoutModel",
      "state": {}
     },
     "0a2f773b85d24fada610a1ad2b4eb08d": {
      "model_module": "@jupyter-widgets/controls",
      "model_module_version": "1.4.0",
      "model_name": "ButtonStyleModel",
      "state": {}
     },
     "0a3c4fe00d5b48f1a40ba5fba7a6d271": {
      "model_module": "@jupyter-widgets/controls",
      "model_module_version": "1.4.0",
      "model_name": "ButtonStyleModel",
      "state": {}
     },
     "0a5a2c9e21c940fca79a7c0744e828bc": {
      "model_module": "@jupyter-widgets/controls",
      "model_module_version": "1.4.0",
      "model_name": "HBoxModel",
      "state": {
       "children": [
        "IPY_MODEL_c6fd9aa7bd7a46cc8967d5ca56381ece",
        "IPY_MODEL_cfbf4567ed544dfab4aff60290e2dc0c",
        "IPY_MODEL_24691fa72cca4df2a9eab0e183058c1e",
        "IPY_MODEL_67fddd29e9814ee49904b23f2a964b9a",
        "IPY_MODEL_b92c3d1b91f54e8b9739b47f419378f3",
        "IPY_MODEL_b5b37c02f4ce47dd940c43d5493438ac",
        "IPY_MODEL_a4be604f40d44c71ac20cfeb5c89f296",
        "IPY_MODEL_a232d026c91b406583835839dc72b142",
        "IPY_MODEL_995a8e079cb340d8addba7f77f855c80",
        "IPY_MODEL_2f18d15f987b426db62f844c0a385d0e",
        "IPY_MODEL_5ff6b73cbc5a47d4b01ea6286e1e9b00",
        "IPY_MODEL_652675a970f748bebe330abb7b4d37e8",
        "IPY_MODEL_582ec47608e84ecb94ec39a8e5df6b8e",
        "IPY_MODEL_00164312924a4edca04df94a57a9f266",
        "IPY_MODEL_1f950ae2ac6f48f3b0c53e691298aec9"
       ],
       "layout": "IPY_MODEL_7944b14e826542e9b93f36fad76d94f2"
      }
     },
     "0a5ef0fbc2164577bf2239dc3f1039bc": {
      "model_module": "@jupyter-widgets/controls",
      "model_module_version": "1.4.0",
      "model_name": "TextModel",
      "state": {
       "_dom_classes": [
        "gridcell"
       ],
       "_view_module": "sage-combinat-widgets",
       "_view_module_version": "^0.2.0",
       "_view_name": "TextWithTooltipView",
       "continuous_update": false,
       "description_tooltip": "",
       "layout": "IPY_MODEL_24198035057f48ca81a6fa9a718c3f55",
       "style": "IPY_MODEL_bb11bfe09b3a4e8fa7f19aa48520f44f",
       "value": "9"
      }
     },
     "0a6fbe89a84c4e34a81590f1cd6b6f7e": {
      "model_module": "@jupyter-widgets/controls",
      "model_module_version": "1.4.0",
      "model_name": "ButtonModel",
      "state": {
       "_dom_classes": [
        "gridbutton",
        "b1"
       ],
       "disabled": true,
       "layout": "IPY_MODEL_581cef88be2741a9bde4fcb6422ff1b0",
       "style": "IPY_MODEL_08831d27616f4d1e81da68a49bbc08c2"
      }
     },
     "0a780ce00cc14fb89f1e7712b66b299e": {
      "model_module": "@jupyter-widgets/controls",
      "model_module_version": "1.4.0",
      "model_name": "ButtonModel",
      "state": {
       "description": "+",
       "layout": "IPY_MODEL_c35583e1a9b6438f9f6e11e5edefb1af",
       "style": "IPY_MODEL_d381b24b52804d448165f9a11fcdf388"
      }
     },
     "0a99906c47324b3c8bf9be5e9ba596de": {
      "model_module": "@jupyter-widgets/controls",
      "model_module_version": "1.4.0",
      "model_name": "ButtonModel",
      "state": {
       "_dom_classes": [
        "gridbutton",
        "b4"
       ],
       "disabled": true,
       "layout": "IPY_MODEL_581cef88be2741a9bde4fcb6422ff1b0",
       "style": "IPY_MODEL_9692f25f320f4254ba3f07c8a90cef9f"
      }
     },
     "0aa1fe4c87034845b34b9ffd3b21c9f7": {
      "model_module": "@jupyter-widgets/base",
      "model_module_version": "1.1.0",
      "model_name": "LayoutModel",
      "state": {}
     },
     "0ab7c8a462ec4c40a61d56bc8ba7a22c": {
      "model_module": "@jupyter-widgets/controls",
      "model_module_version": "1.4.0",
      "model_name": "ButtonStyleModel",
      "state": {}
     },
     "0abb682120a84cb28aefcde2985573c2": {
      "model_module": "@jupyter-widgets/controls",
      "model_module_version": "1.4.0",
      "model_name": "ButtonStyleModel",
      "state": {}
     },
     "0ad097b428854cc78e31197b947f816c": {
      "model_module": "@jupyter-widgets/controls",
      "model_module_version": "1.4.0",
      "model_name": "HBoxModel",
      "state": {
       "children": [
        "IPY_MODEL_6c004b9448144bb5b7509861ca7e8fb9",
        "IPY_MODEL_0c6ca18dc051432785cbfb4cd153a9be",
        "IPY_MODEL_17e404b6791742dd85e3d4b4d0ba16d9",
        "IPY_MODEL_85399737d0f845e2b52839abc1b5705f",
        "IPY_MODEL_02d7e26ebaac4675a6f849849b5da9cb",
        "IPY_MODEL_6618aae8652d468da5dc257e02c1f25c",
        "IPY_MODEL_08ccb80ee9ba4d6da0883fecdb6f5f24",
        "IPY_MODEL_1a432386c914495cadde10b9e1ad1774",
        "IPY_MODEL_4d4c6413743c45afa0b39cd6781c259f"
       ],
       "layout": "IPY_MODEL_5e0bafe91e194834b5f9fb3b5b897484"
      }
     },
     "0affa526f5ed460d8f415fba99f78fa2": {
      "model_module": "@jupyter-widgets/controls",
      "model_module_version": "1.4.0",
      "model_name": "DescriptionStyleModel",
      "state": {
       "description_width": ""
      }
     },
     "0b1c19f27d934703926e94c2021b490a": {
      "model_module": "@jupyter-widgets/base",
      "model_module_version": "1.1.0",
      "model_name": "LayoutModel",
      "state": {}
     },
     "0b2fb631400a4ba8a37fa6ffe9213a56": {
      "model_module": "@jupyter-widgets/base",
      "model_module_version": "1.1.0",
      "model_name": "LayoutModel",
      "state": {}
     },
     "0b3b363643364acb95c804748013780f": {
      "model_module": "@jupyter-widgets/controls",
      "model_module_version": "1.4.0",
      "model_name": "ButtonStyleModel",
      "state": {}
     },
     "0b5bb7b9698746cca83b86bac146280c": {
      "model_module": "@jupyter-widgets/controls",
      "model_module_version": "1.4.0",
      "model_name": "ButtonModel",
      "state": {
       "_dom_classes": [
        "gridbutton",
        "b4"
       ],
       "disabled": true,
       "layout": "IPY_MODEL_196c83a3b43a46dca975be63611b8c09",
       "style": "IPY_MODEL_b9e7eb2adbbc4815980b80064649fe44"
      }
     },
     "0b607b7e0e4f425e97696b5de90c5693": {
      "model_module": "@jupyter-widgets/controls",
      "model_module_version": "1.4.0",
      "model_name": "ButtonStyleModel",
      "state": {}
     },
     "0b65b123375a4a439bf38a4018b4da32": {
      "model_module": "@jupyter-widgets/base",
      "model_module_version": "1.1.0",
      "model_name": "LayoutModel",
      "state": {}
     },
     "0b87601f90484ca1b8c46979a526d97a": {
      "model_module": "@jupyter-widgets/controls",
      "model_module_version": "1.4.0",
      "model_name": "DescriptionStyleModel",
      "state": {
       "description_width": ""
      }
     },
     "0b8aaafb0487442d9fdb2d8c250ed26e": {
      "model_module": "@jupyter-widgets/controls",
      "model_module_version": "1.4.0",
      "model_name": "DescriptionStyleModel",
      "state": {
       "description_width": ""
      }
     },
     "0bd52dc89ebc49a886c45cfdf2079642": {
      "model_module": "@jupyter-widgets/controls",
      "model_module_version": "1.4.0",
      "model_name": "ButtonStyleModel",
      "state": {}
     },
     "0c028d36738c43cf9cd0f4f8a21eba4a": {
      "model_module": "@jupyter-widgets/base",
      "model_module_version": "1.1.0",
      "model_name": "LayoutModel",
      "state": {}
     },
     "0c19fa86783e46fa8f72bca9a0ca6f0d": {
      "model_module": "@jupyter-widgets/base",
      "model_module_version": "1.1.0",
      "model_name": "LayoutModel",
      "state": {}
     },
     "0c6ca18dc051432785cbfb4cd153a9be": {
      "model_module": "@jupyter-widgets/controls",
      "model_module_version": "1.4.0",
      "model_name": "TextModel",
      "state": {
       "_dom_classes": [
        "blankcell"
       ],
       "disabled": true,
       "layout": "IPY_MODEL_196c83a3b43a46dca975be63611b8c09",
       "style": "IPY_MODEL_d10fb467352f45898a3c91daa4d609ad"
      }
     },
     "0c84777e5d014defae29b9b4c3b8e675": {
      "model_module": "@jupyter-widgets/controls",
      "model_module_version": "1.4.0",
      "model_name": "ButtonStyleModel",
      "state": {}
     },
     "0c8cbf7b5dd943bdabe2e9da0a78d53c": {
      "model_module": "@jupyter-widgets/base",
      "model_module_version": "1.1.0",
      "model_name": "LayoutModel",
      "state": {}
     },
     "0cd6008c17dd457a9a895dd90fbc40db": {
      "model_module": "@jupyter-widgets/base",
      "model_module_version": "1.1.0",
      "model_name": "LayoutModel",
      "state": {}
     },
     "0d086a58ef5b46ac994214024339ea75": {
      "model_module": "@jupyter-widgets/controls",
      "model_module_version": "1.4.0",
      "model_name": "ButtonModel",
      "state": {
       "_dom_classes": [
        "gridbutton",
        "b2"
       ],
       "disabled": true,
       "layout": "IPY_MODEL_196c83a3b43a46dca975be63611b8c09",
       "style": "IPY_MODEL_7d77b6c2205c4f2186eecdf666fad6d2"
      }
     },
     "0d19b10b5aa1453e85a389837997f438": {
      "model_module": "@jupyter-widgets/controls",
      "model_module_version": "1.4.0",
      "model_name": "DescriptionStyleModel",
      "state": {
       "description_width": ""
      }
     },
     "0d44d5733e92464bb7ecdc57e9c6d9f9": {
      "model_module": "@jupyter-widgets/base",
      "model_module_version": "1.1.0",
      "model_name": "LayoutModel",
      "state": {}
     },
     "0d47c484701e4db9861ed75e590a88bf": {
      "model_module": "@jupyter-widgets/controls",
      "model_module_version": "1.4.0",
      "model_name": "DescriptionStyleModel",
      "state": {
       "description_width": ""
      }
     },
     "0d52564697fb4c29b562b1a3e86f13e5": {
      "model_module": "@jupyter-widgets/controls",
      "model_module_version": "1.4.0",
      "model_name": "HBoxModel",
      "state": {
       "children": [
        "IPY_MODEL_8dba18f926494ebb80905133b5d553aa",
        "IPY_MODEL_9e415b1000d04d018b16f164a8981c8d",
        "IPY_MODEL_283ef2f29c544d849ad047bda1966c16"
       ],
       "layout": "IPY_MODEL_036c1c4d128249a09dca5647fdc00bd0"
      }
     },
     "0d7704324f014d959b12529acb440103": {
      "model_module": "@jupyter-widgets/controls",
      "model_module_version": "1.4.0",
      "model_name": "DescriptionStyleModel",
      "state": {
       "description_width": ""
      }
     },
     "0da25496494d4dcea784b9b11b5f9f47": {
      "model_module": "@jupyter-widgets/base",
      "model_module_version": "1.1.0",
      "model_name": "LayoutModel",
      "state": {}
     },
     "0de2c9f35139443182ac58f3184a1bbd": {
      "model_module": "@jupyter-widgets/base",
      "model_module_version": "1.1.0",
      "model_name": "LayoutModel",
      "state": {}
     },
     "0e04fc8017ee4f12b1722914c97c38a8": {
      "model_module": "@jupyter-widgets/controls",
      "model_module_version": "1.4.0",
      "model_name": "ButtonModel",
      "state": {
       "_dom_classes": [
        "gridbutton",
        "b2"
       ],
       "disabled": true,
       "layout": "IPY_MODEL_581cef88be2741a9bde4fcb6422ff1b0",
       "style": "IPY_MODEL_575bf3fde6294245ab8cf0ef7a502e07"
      }
     },
     "0e0e486c91dc4cf28cfe036a37386b16": {
      "model_module": "@jupyter-widgets/base",
      "model_module_version": "1.1.0",
      "model_name": "LayoutModel",
      "state": {}
     },
     "0e12514c1fd3427cb518fc86f7660c8f": {
      "model_module": "@jupyter-widgets/controls",
      "model_module_version": "1.4.0",
      "model_name": "ButtonStyleModel",
      "state": {}
     },
     "0e388c9f89bd4caf98f7932331b57d79": {
      "model_module": "@jupyter-widgets/controls",
      "model_module_version": "1.4.0",
      "model_name": "ButtonStyleModel",
      "state": {}
     },
     "0e3fcdcb7ba34d24907b5c4eaac3f1b7": {
      "model_module": "@jupyter-widgets/controls",
      "model_module_version": "1.4.0",
      "model_name": "HBoxModel",
      "state": {
       "children": [
        "IPY_MODEL_0566a7b5d57146459c0c921d7a077566",
        "IPY_MODEL_6032c5d0759544a896ee3d9a89b93d2b"
       ],
       "layout": "IPY_MODEL_ab3c2bbd4cfc450aa38448f0f9227314"
      }
     },
     "0e5b92e5d080481ca44d3e4ef404d9d9": {
      "model_module": "@jupyter-widgets/controls",
      "model_module_version": "1.4.0",
      "model_name": "ButtonStyleModel",
      "state": {}
     },
     "0ea924ec15b94f74a47c349630cbd511": {
      "model_module": "@jupyter-widgets/controls",
      "model_module_version": "1.4.0",
      "model_name": "ButtonStyleModel",
      "state": {}
     },
     "0eafc92a35794441908b4e79167d9132": {
      "model_module": "@jupyter-widgets/controls",
      "model_module_version": "1.4.0",
      "model_name": "ButtonStyleModel",
      "state": {}
     },
     "0eb96f5c35034380af180f20f8d209a4": {
      "model_module": "@jupyter-widgets/controls",
      "model_module_version": "1.4.0",
      "model_name": "DescriptionStyleModel",
      "state": {
       "description_width": ""
      }
     },
     "0eb9b62c6e7e4fc19cc1f5daa9b50bb3": {
      "model_module": "@jupyter-widgets/controls",
      "model_module_version": "1.4.0",
      "model_name": "ButtonStyleModel",
      "state": {}
     },
     "0ee489e8943b41f9873e8c974664fdfa": {
      "model_module": "@jupyter-widgets/base",
      "model_module_version": "1.1.0",
      "model_name": "LayoutModel",
      "state": {}
     },
     "0f2741cbbaa448cfb1733b52711126d8": {
      "model_module": "@jupyter-widgets/base",
      "model_module_version": "1.1.0",
      "model_name": "LayoutModel",
      "state": {}
     },
     "0f27fa37f7d143dcaad3ce95a03e6d68": {
      "model_module": "@jupyter-widgets/controls",
      "model_module_version": "1.4.0",
      "model_name": "ButtonModel",
      "state": {
       "_dom_classes": [
        "gridbutton",
        "b4"
       ],
       "disabled": true,
       "layout": "IPY_MODEL_196c83a3b43a46dca975be63611b8c09",
       "style": "IPY_MODEL_65517f9cb2dc445aa20df3c8524a1e58"
      }
     },
     "0f43082ec7e94a019d52c042875ab05d": {
      "model_module": "@jupyter-widgets/base",
      "model_module_version": "1.1.0",
      "model_name": "LayoutModel",
      "state": {
       "height": "30px",
       "width": "30px"
      }
     },
     "0f59da4896164acf91a7f35ccdc22020": {
      "model_module": "@jupyter-widgets/controls",
      "model_module_version": "1.4.0",
      "model_name": "ButtonModel",
      "state": {
       "_dom_classes": [
        "gridbutton",
        "b1"
       ],
       "disabled": true,
       "layout": "IPY_MODEL_196c83a3b43a46dca975be63611b8c09",
       "style": "IPY_MODEL_48bb9b5d8a4b48bd904a3e07b9013f77"
      }
     },
     "0f6558276d344ce9bbaef20ca8304b4a": {
      "model_module": "@jupyter-widgets/controls",
      "model_module_version": "1.4.0",
      "model_name": "TextModel",
      "state": {
       "_dom_classes": [
        "gridcell"
       ],
       "_view_module": "sage-combinat-widgets",
       "_view_module_version": "^0.2.0",
       "_view_name": "TextWithTooltipView",
       "continuous_update": false,
       "description_tooltip": "",
       "layout": "IPY_MODEL_24198035057f48ca81a6fa9a718c3f55",
       "style": "IPY_MODEL_2a7c60bfe6f7458b91cae9ebe3bc9c18",
       "value": "1"
      }
     },
     "0f85dec1129a44c085f4661b5e246182": {
      "model_module": "@jupyter-widgets/base",
      "model_module_version": "1.1.0",
      "model_name": "LayoutModel",
      "state": {}
     },
     "0fab14394a9144e7b99010cf733be3c8": {
      "model_module": "@jupyter-widgets/base",
      "model_module_version": "1.1.0",
      "model_name": "LayoutModel",
      "state": {}
     },
     "0fbf62c46ee64fb090bd1326cfde83fb": {
      "model_module": "@jupyter-widgets/controls",
      "model_module_version": "1.4.0",
      "model_name": "ToggleButtonModel",
      "state": {
       "_dom_classes": [
        "gridbutton",
        "addablebutton"
       ],
       "description": "+",
       "layout": "IPY_MODEL_24198035057f48ca81a6fa9a718c3f55",
       "style": "IPY_MODEL_257b9d3c665b4bb59cdc551b244909f6",
       "tooltip": "Click to add a cell here"
      }
     },
     "0fde27d764ad4a4e9e1b0d24c1636f34": {
      "model_module": "@jupyter-widgets/controls",
      "model_module_version": "1.4.0",
      "model_name": "TextModel",
      "state": {
       "_dom_classes": [
        "blankcell"
       ],
       "disabled": true,
       "layout": "IPY_MODEL_d861c29f26634ccfb59b53f634fc937d",
       "style": "IPY_MODEL_2b0cc70259584abab6325a2194eccfe7"
      }
     },
     "0fe9f6c8219746e5a622447fd61b6b07": {
      "model_module": "@jupyter-widgets/controls",
      "model_module_version": "1.4.0",
      "model_name": "ButtonStyleModel",
      "state": {}
     },
     "0fef75c649fc4298affa41caec1f313f": {
      "model_module": "@jupyter-widgets/base",
      "model_module_version": "1.1.0",
      "model_name": "LayoutModel",
      "state": {}
     },
     "0ffb040ff7ec41b8a109eb84d462454a": {
      "model_module": "@jupyter-widgets/controls",
      "model_module_version": "1.4.0",
      "model_name": "ButtonStyleModel",
      "state": {}
     },
     "0ffcf33b438f48aab804666b61037bd6": {
      "model_module": "@jupyter-widgets/controls",
      "model_module_version": "1.4.0",
      "model_name": "ToggleButtonModel",
      "state": {
       "_dom_classes": [
        "gridbutton"
       ],
       "description": "-",
       "layout": "IPY_MODEL_742ce9cb5c1a4d358dd3aef0fa324d55",
       "style": "IPY_MODEL_8e3b5da1190a45369e7044e131d597a8",
       "tooltip": "0, 1"
      }
     },
     "10239923fc064463bdc515e8cb1f41b9": {
      "model_module": "@jupyter-widgets/controls",
      "model_module_version": "1.4.0",
      "model_name": "VBoxModel",
      "state": {
       "children": [
        "IPY_MODEL_223a4da2b69a454aa089f37e59cc60a6",
        "IPY_MODEL_611bef4475be443ab89cadd6466b6e5d",
        "IPY_MODEL_73a71418930f4f508a83e468b9e51e68",
        "IPY_MODEL_f20e20743fd44783af926d63d899f8b6",
        "IPY_MODEL_1909401f30994fb7953efb2eb2cc739b",
        "IPY_MODEL_ba9b43c9e4bf4534bad8805fbfd9dd7d",
        "IPY_MODEL_eff649f2b52645729f374bda3f74060d",
        "IPY_MODEL_c1839f6009324a14b33c1892265da040"
       ],
       "layout": "IPY_MODEL_02094dbcc46e4c559c23de4ee5460d10"
      }
     },
     "1034588125ee4b91adce2f701f386f08": {
      "model_module": "@jupyter-widgets/controls",
      "model_module_version": "1.4.0",
      "model_name": "ButtonStyleModel",
      "state": {}
     },
     "103dca23831347bf81449679ddb7af1f": {
      "model_module": "@jupyter-widgets/controls",
      "model_module_version": "1.4.0",
      "model_name": "ButtonModel",
      "state": {
       "_dom_classes": [
        "gridbutton",
        "b1"
       ],
       "disabled": true,
       "layout": "IPY_MODEL_196c83a3b43a46dca975be63611b8c09",
       "style": "IPY_MODEL_32785440c9fd4d079692fcead3e84a12"
      }
     },
     "104aa5b228574d5dabe31ed0ce94add0": {
      "model_module": "@jupyter-widgets/controls",
      "model_module_version": "1.4.0",
      "model_name": "HBoxModel",
      "state": {
       "children": [
        "IPY_MODEL_bffe278c5aa24f6db4b1d10d90c255e9",
        "IPY_MODEL_0a5ef0fbc2164577bf2239dc3f1039bc",
        "IPY_MODEL_dda3420ffecb4b92852df9a826be921f"
       ],
       "layout": "IPY_MODEL_092540ecf2dc4e1baa4279e97bf77217"
      }
     },
     "1050fc5752f44821bec0eb3746873027": {
      "model_module": "@jupyter-widgets/controls",
      "model_module_version": "1.4.0",
      "model_name": "DescriptionStyleModel",
      "state": {
       "description_width": ""
      }
     },
     "105afa958a704bb19f3ca6e6767d0f4b": {
      "model_module": "@jupyter-widgets/controls",
      "model_module_version": "1.4.0",
      "model_name": "TextModel",
      "state": {
       "_dom_classes": [
        "blankcell"
       ],
       "disabled": true,
       "layout": "IPY_MODEL_d861c29f26634ccfb59b53f634fc937d",
       "style": "IPY_MODEL_2cc98c89acfa4ed0a3433697c915699b"
      }
     },
     "10b1c44ec5514f8db49f7dcec575014f": {
      "model_module": "@jupyter-widgets/base",
      "model_module_version": "1.1.0",
      "model_name": "LayoutModel",
      "state": {}
     },
     "10dbe6995e1a4caa8a3768de7e1c7550": {
      "model_module": "@jupyter-widgets/base",
      "model_module_version": "1.1.0",
      "model_name": "LayoutModel",
      "state": {}
     },
     "11419b0a3b0340d5b95beabba6a54a13": {
      "model_module": "@jupyter-widgets/controls",
      "model_module_version": "1.4.0",
      "model_name": "TextModel",
      "state": {
       "_dom_classes": [
        "blankcell"
       ],
       "disabled": true,
       "layout": "IPY_MODEL_196c83a3b43a46dca975be63611b8c09",
       "style": "IPY_MODEL_039fdecf52c243cab3a91fa4e3374962"
      }
     },
     "1151b6a2b66048f083f349b06e40651b": {
      "model_module": "@jupyter-widgets/controls",
      "model_module_version": "1.4.0",
      "model_name": "ButtonStyleModel",
      "state": {}
     },
     "1156f7a1f33340f9a79fec7d39ee98c0": {
      "model_module": "@jupyter-widgets/controls",
      "model_module_version": "1.4.0",
      "model_name": "ButtonModel",
      "state": {
       "_dom_classes": [
        "gridbutton",
        "b1"
       ],
       "disabled": true,
       "layout": "IPY_MODEL_581cef88be2741a9bde4fcb6422ff1b0",
       "style": "IPY_MODEL_3edc8beedff74df498cdd1bfdb399902"
      }
     },
     "11804db2ffe6489d8d93e0b880dad23c": {
      "model_module": "@jupyter-widgets/controls",
      "model_module_version": "1.4.0",
      "model_name": "DescriptionStyleModel",
      "state": {
       "description_width": ""
      }
     },
     "118bae0bd6f443bda2dd27e040eb437d": {
      "model_module": "@jupyter-widgets/controls",
      "model_module_version": "1.4.0",
      "model_name": "HTMLModel",
      "state": {
       "layout": "IPY_MODEL_32047a77fac54903ac74ca88f8a6eca1",
       "style": "IPY_MODEL_6c1ec5e457bc4b07b480247034ff9b0d",
       "value": "<style>.widget-text INPUT {border-collapse: collapse !important}\n.gridbutton {margin:0; padding:0; width:2em; height:2em; border:1px solid #999; color:#666}\n.blankbutton, .addablebutton {background-color:white; color:#666}\n.blankbutton {border:0px !important}\n.blankcell INPUT {border:0px !important}\n.addablecell INPUT, .removablecell INPUT {background-position: right top; background-size: 1em; background-repeat: no-repeat}\n.addablecell INPUT {background-image: url('data:image/png;base64,iVBORw0KGgoAAAANSUhEUgAAAEYAAAA8BAAAAAA7DH7+AAAABGdBTUEAALGPC/xhBQAAACBjSFJNAAB6JgAAgIQAAPoAAACA6AAAdTAAAOpgAAA6mAAAF3CculE8AAAAAnRSTlMAAHaTzTgAAAACYktHRAAPOjI+owAAAAlwSFlzAAAN1wAADdcBQiibeAAAAAd0SU1FB+MCBRIvKscf5nsAAAAtSURBVEjHY2AYBaSBmTNnThhVM6pmaKvhnIkVTBjqagZbOI+qGVVDHTXDAwAAnSews7vfUfkAAAAldEVYdGRhdGU6Y3JlYXRlADIwMTktMDItMDVUMTc6NDc6NDIrMDE6MDDD7zGLAAAAJXRFWHRkYXRlOm1vZGlmeQAyMDE5LTAyLTA1VDE3OjQ3OjQyKzAxOjAwsrKJNwAAAABJRU5ErkJggg==')}\n.addablecell INPUT, .addablebutton INPUT {border:1px dashed #999 !important}\n.removablecell INPUT {background-image: url('data:image/png;base64,iVBORw0KGgoAAAANSUhEUgAAAEYAAAA8BAAAAAA7DH7+AAAABGdBTUEAALGPC/xhBQAAACBjSFJNAAB6JgAAgIQAAPoAAACA6AAAdTAAAOpgAAA6mAAAF3CculE8AAAAAnRSTlMAAHaTzTgAAAACYktHRAAPOjI+owAAAAlwSFlzAAAN1wAADdcBQiibeAAAAAd0SU1FB+MCBRIvL7d1EvQAAAAgSURBVEjHY2AYBaNgFIwwwDkTK5gw1NWMglEwCgYxAAAoCFJ7GFQEKQAAACV0RVh0ZGF0ZTpjcmVhdGUAMjAxOS0wMi0wNVQxNzo0Nzo0NyswMTowMJHXHiwAAAAldEVYdGRhdGU6bW9kaWZ5ADIwMTktMDItMDVUMTc6NDc6NDcrMDE6MDDgiqaQAAAAAElFTkSuQmCC')}\n.dirty INPUT {background-color: pink !important}</style>"
      }
     },
     "11a5e254190c4f838a40f677bd1cd02d": {
      "model_module": "@jupyter-widgets/base",
      "model_module_version": "1.1.0",
      "model_name": "LayoutModel",
      "state": {}
     },
     "11ce078f4aa349469cfab69ebca7d466": {
      "model_module": "@jupyter-widgets/base",
      "model_module_version": "1.1.0",
      "model_name": "LayoutModel",
      "state": {}
     },
     "11d5a635ec2249939089dc923ab2e280": {
      "model_module": "@jupyter-widgets/controls",
      "model_module_version": "1.4.0",
      "model_name": "DescriptionStyleModel",
      "state": {
       "description_width": ""
      }
     },
     "11d6587f74754730b83cbd6dc24f6d62": {
      "model_module": "@jupyter-widgets/controls",
      "model_module_version": "1.4.0",
      "model_name": "DescriptionStyleModel",
      "state": {
       "description_width": ""
      }
     },
     "11dcc0747ad44a6ea9ffd7f98635f29b": {
      "model_module": "@jupyter-widgets/base",
      "model_module_version": "1.1.0",
      "model_name": "LayoutModel",
      "state": {}
     },
     "1201ab9f30f644bcb2ef7e74d7ffa3a8": {
      "model_module": "@jupyter-widgets/base",
      "model_module_version": "1.1.0",
      "model_name": "LayoutModel",
      "state": {}
     },
     "124141fe65aa4705ae2492f5920fbc1c": {
      "model_module": "@jupyter-widgets/controls",
      "model_module_version": "1.4.0",
      "model_name": "ButtonStyleModel",
      "state": {}
     },
     "12433db7e1c84a0d9d5b9f6105976604": {
      "model_module": "@jupyter-widgets/controls",
      "model_module_version": "1.4.0",
      "model_name": "ButtonModel",
      "state": {
       "_dom_classes": [
        "gridbutton",
        "b3"
       ],
       "disabled": true,
       "layout": "IPY_MODEL_581cef88be2741a9bde4fcb6422ff1b0",
       "style": "IPY_MODEL_7c94d705ae324622823558f2047c9ea0"
      }
     },
     "128891d31c4640eb97d9e7ee1d0efc63": {
      "model_module": "@jupyter-widgets/controls",
      "model_module_version": "1.4.0",
      "model_name": "DescriptionStyleModel",
      "state": {
       "description_width": ""
      }
     },
     "1297c7384f95427cb4f6243e2138139e": {
      "model_module": "@jupyter-widgets/controls",
      "model_module_version": "1.4.0",
      "model_name": "ToggleButtonModel",
      "state": {
       "_dom_classes": [
        "gridbutton"
       ],
       "description": "-",
       "layout": "IPY_MODEL_ae25d8ee9fe646ebb7fdd668d6ed6cab",
       "style": "IPY_MODEL_464f7d3b4a2948cf8ff90572a7bc8adb",
       "tooltip": "0, 6"
      }
     },
     "12a7687ac6044f0c980d4f9a2a50c7be": {
      "model_module": "@jupyter-widgets/controls",
      "model_module_version": "1.4.0",
      "model_name": "ButtonStyleModel",
      "state": {}
     },
     "12c99c786e9047b9b34becb3c3bfc373": {
      "model_module": "@jupyter-widgets/controls",
      "model_module_version": "1.4.0",
      "model_name": "ButtonStyleModel",
      "state": {}
     },
     "12d6f9a8356e4a3baa81177111e36501": {
      "model_module": "@jupyter-widgets/controls",
      "model_module_version": "1.4.0",
      "model_name": "ButtonModel",
      "state": {
       "_dom_classes": [
        "gridbutton",
        "b1"
       ],
       "disabled": true,
       "layout": "IPY_MODEL_196c83a3b43a46dca975be63611b8c09",
       "style": "IPY_MODEL_4858f60635fd404fbdb45e243ec46b2f"
      }
     },
     "12e80476700e4ff48a4387579652fc6a": {
      "model_module": "@jupyter-widgets/base",
      "model_module_version": "1.1.0",
      "model_name": "LayoutModel",
      "state": {}
     },
     "12e841f01c0d44e48ce8d2dc5b9946fc": {
      "model_module": "@jupyter-widgets/base",
      "model_module_version": "1.1.0",
      "model_name": "LayoutModel",
      "state": {}
     },
     "130ac94b1f6d4ca0a90b4011f1300903": {
      "model_module": "@jupyter-widgets/controls",
      "model_module_version": "1.4.0",
      "model_name": "DescriptionStyleModel",
      "state": {
       "description_width": ""
      }
     },
     "131b68ef16674e7eb7dcf29b4d08b9eb": {
      "model_module": "@jupyter-widgets/base",
      "model_module_version": "1.1.0",
      "model_name": "LayoutModel",
      "state": {}
     },
     "1330a431e0684c68a224248ca966b7f6": {
      "model_module": "@jupyter-widgets/controls",
      "model_module_version": "1.4.0",
      "model_name": "DescriptionStyleModel",
      "state": {
       "description_width": ""
      }
     },
     "133a77c8c2fe484a8f52e2c612e3491b": {
      "model_module": "@jupyter-widgets/controls",
      "model_module_version": "1.4.0",
      "model_name": "ButtonModel",
      "state": {
       "_dom_classes": [
        "gridbutton",
        "b1"
       ],
       "disabled": true,
       "layout": "IPY_MODEL_581cef88be2741a9bde4fcb6422ff1b0",
       "style": "IPY_MODEL_64a8b68f7707402abed2af6cf638bdbb"
      }
     },
     "133ae4c15916476a919a3b3a190c238e": {
      "model_module": "@jupyter-widgets/base",
      "model_module_version": "1.1.0",
      "model_name": "LayoutModel",
      "state": {}
     },
     "13650043f9b3443aa88e59b2d7482cf4": {
      "model_module": "@jupyter-widgets/controls",
      "model_module_version": "1.4.0",
      "model_name": "TextModel",
      "state": {
       "_dom_classes": [
        "gridcell"
       ],
       "_view_module": "sage-combinat-widgets",
       "_view_module_version": "^0.2.0",
       "_view_name": "TextWithTooltipView",
       "continuous_update": false,
       "description_tooltip": "",
       "layout": "IPY_MODEL_742ce9cb5c1a4d358dd3aef0fa324d55",
       "style": "IPY_MODEL_69bdff97a8cb4ecbae7b8f22fea87cc9",
       "value": "8"
      }
     },
     "1372c2b3b3f04f31b58aa357d71b1858": {
      "model_module": "@jupyter-widgets/base",
      "model_module_version": "1.1.0",
      "model_name": "LayoutModel",
      "state": {}
     },
     "138f024a98d5466fb9df2eea49ac06fc": {
      "model_module": "@jupyter-widgets/base",
      "model_module_version": "1.1.0",
      "model_name": "LayoutModel",
      "state": {}
     },
     "139dd25477954d02910eb0a5d56402b7": {
      "model_module": "@jupyter-widgets/base",
      "model_module_version": "1.1.0",
      "model_name": "LayoutModel",
      "state": {}
     },
     "13a8f383789e4466861936029880406f": {
      "model_module": "@jupyter-widgets/controls",
      "model_module_version": "1.4.0",
      "model_name": "ButtonModel",
      "state": {
       "_dom_classes": [
        "gridbutton",
        "b2"
       ],
       "disabled": true,
       "layout": "IPY_MODEL_196c83a3b43a46dca975be63611b8c09",
       "style": "IPY_MODEL_e548baa05d3741369db1a7874bbce3dd"
      }
     },
     "13b086699c0647279c67704b2b8297e2": {
      "model_module": "@jupyter-widgets/controls",
      "model_module_version": "1.4.0",
      "model_name": "DescriptionStyleModel",
      "state": {
       "description_width": ""
      }
     },
     "13deae9887b248f786e543d152bce9c0": {
      "model_module": "@jupyter-widgets/base",
      "model_module_version": "1.1.0",
      "model_name": "LayoutModel",
      "state": {}
     },
     "13f32c8cc6d94230beb25154200b70a0": {
      "model_module": "@jupyter-widgets/controls",
      "model_module_version": "1.4.0",
      "model_name": "ButtonStyleModel",
      "state": {}
     },
     "141f30ea9eb545ab849bb3a8d6c738e3": {
      "model_module": "@jupyter-widgets/base",
      "model_module_version": "1.1.0",
      "model_name": "LayoutModel",
      "state": {}
     },
     "1453439206b642b69482c0fbacac92d2": {
      "model_module": "@jupyter-widgets/controls",
      "model_module_version": "1.4.0",
      "model_name": "ButtonStyleModel",
      "state": {}
     },
     "1454b42812af46f0a217f42dd792cb2a": {
      "model_module": "@jupyter-widgets/controls",
      "model_module_version": "1.4.0",
      "model_name": "ToggleButtonModel",
      "state": {
       "_dom_classes": [
        "gridbutton",
        "addablebutton"
       ],
       "description": "+",
       "layout": "IPY_MODEL_742ce9cb5c1a4d358dd3aef0fa324d55",
       "style": "IPY_MODEL_8f649aee35bf42cdb5adec50bcbf35ff",
       "tooltip": "Click to add a cell here"
      }
     },
     "146b3f026737491b8adf36aa7bdd010c": {
      "model_module": "@jupyter-widgets/controls",
      "model_module_version": "1.4.0",
      "model_name": "HBoxModel",
      "state": {
       "children": [
        "IPY_MODEL_484aa1da0aa040e38e438a78c0c84b7c",
        "IPY_MODEL_c5885725f2814835abfcad31da5d4e8a",
        "IPY_MODEL_5f56a843b33b42a4a3080628eb67d11f"
       ],
       "layout": "IPY_MODEL_3a0f83ed45184735b1dbe794f50b36e6"
      }
     },
     "1470577704ac44d1beaa08aa64838277": {
      "model_module": "@jupyter-widgets/controls",
      "model_module_version": "1.4.0",
      "model_name": "DescriptionStyleModel",
      "state": {
       "description_width": ""
      }
     },
     "149d43ae14504ca4b5db9ec2dbe5eaf1": {
      "model_module": "@jupyter-widgets/base",
      "model_module_version": "1.1.0",
      "model_name": "LayoutModel",
      "state": {}
     },
     "14bbaa0e16fd46b58a56e9b3f607c1c6": {
      "model_module": "@jupyter-widgets/controls",
      "model_module_version": "1.4.0",
      "model_name": "ToggleButtonModel",
      "state": {
       "_dom_classes": [
        "gridbutton",
        "addablebutton"
       ],
       "description": "+",
       "layout": "IPY_MODEL_24198035057f48ca81a6fa9a718c3f55",
       "style": "IPY_MODEL_1a690a6e4842419085229f81e4b3160e",
       "tooltip": "Click to add a cell here"
      }
     },
     "14eafd33690241d483466ca9c45c9974": {
      "model_module": "@jupyter-widgets/controls",
      "model_module_version": "1.4.0",
      "model_name": "ButtonModel",
      "state": {
       "_dom_classes": [
        "gridbutton",
        "b2"
       ],
       "disabled": true,
       "layout": "IPY_MODEL_196c83a3b43a46dca975be63611b8c09",
       "style": "IPY_MODEL_124141fe65aa4705ae2492f5920fbc1c"
      }
     },
     "15122a77139a4dfc8a16a3700bdca4c7": {
      "model_module": "@jupyter-widgets/controls",
      "model_module_version": "1.4.0",
      "model_name": "DescriptionStyleModel",
      "state": {
       "description_width": ""
      }
     },
     "1547c02ce2ec4bc3b318ef4c35c544b5": {
      "model_module": "@jupyter-widgets/controls",
      "model_module_version": "1.4.0",
      "model_name": "DescriptionStyleModel",
      "state": {
       "description_width": ""
      }
     },
     "154ce83639444ceba468343d6f974823": {
      "model_module": "@jupyter-widgets/controls",
      "model_module_version": "1.4.0",
      "model_name": "TextModel",
      "state": {
       "_dom_classes": [
        "blankcell"
       ],
       "disabled": true,
       "layout": "IPY_MODEL_581cef88be2741a9bde4fcb6422ff1b0",
       "style": "IPY_MODEL_a28b77a6942347ee8af5b3d5d0d9faef"
      }
     },
     "158942f3b9c24ab180384dc71275b0b6": {
      "model_module": "@jupyter-widgets/controls",
      "model_module_version": "1.4.0",
      "model_name": "TextModel",
      "state": {
       "_dom_classes": [
        "blankcell"
       ],
       "disabled": true,
       "layout": "IPY_MODEL_581cef88be2741a9bde4fcb6422ff1b0",
       "style": "IPY_MODEL_bc176f80fa044d4fb060d630d5347724"
      }
     },
     "158a1572429b4da3b5d4df8a08fc08e2": {
      "model_module": "@jupyter-widgets/base",
      "model_module_version": "1.1.0",
      "model_name": "LayoutModel",
      "state": {}
     },
     "15c30f3b9def445997cfa09def7ced2b": {
      "model_module": "@jupyter-widgets/base",
      "model_module_version": "1.1.0",
      "model_name": "LayoutModel",
      "state": {}
     },
     "15eb3a16b1f0464fb50aa92692026f10": {
      "model_module": "@jupyter-widgets/base",
      "model_module_version": "1.1.0",
      "model_name": "LayoutModel",
      "state": {}
     },
     "15f5d4c052304087a4e4b379159493a0": {
      "model_module": "@jupyter-widgets/base",
      "model_module_version": "1.1.0",
      "model_name": "LayoutModel",
      "state": {}
     },
     "1603aef09a924fafaa87e426505ec813": {
      "model_module": "@jupyter-widgets/controls",
      "model_module_version": "1.4.0",
      "model_name": "ButtonModel",
      "state": {
       "_dom_classes": [
        "gridbutton",
        "b1"
       ],
       "disabled": true,
       "layout": "IPY_MODEL_196c83a3b43a46dca975be63611b8c09",
       "style": "IPY_MODEL_de8fc8b485cb4ff4876a6563ea30f323"
      }
     },
     "1605a774f98b48bb9eef4b06f6078a70": {
      "model_module": "@jupyter-widgets/controls",
      "model_module_version": "1.4.0",
      "model_name": "ToggleButtonModel",
      "state": {
       "_dom_classes": [
        "gridbutton",
        "addablebutton"
       ],
       "description": "+",
       "layout": "IPY_MODEL_ae25d8ee9fe646ebb7fdd668d6ed6cab",
       "style": "IPY_MODEL_31e5a20f875a4e98be7e62bba413bd46",
       "tooltip": "Click to add a cell here"
      }
     },
     "160f894d84f3429cb91c2d8274f3eadf": {
      "model_module": "@jupyter-widgets/base",
      "model_module_version": "1.1.0",
      "model_name": "LayoutModel",
      "state": {}
     },
     "1630d56417934b9b8a5f080f274a2fb2": {
      "model_module": "@jupyter-widgets/base",
      "model_module_version": "1.1.0",
      "model_name": "LayoutModel",
      "state": {}
     },
     "1632ae0992084665ae733057aa589caa": {
      "model_module": "@jupyter-widgets/base",
      "model_module_version": "1.1.0",
      "model_name": "LayoutModel",
      "state": {}
     },
     "165147bf0e884dbaa8c765e21c1d3568": {
      "model_module": "@jupyter-widgets/base",
      "model_module_version": "1.1.0",
      "model_name": "LayoutModel",
      "state": {
       "height": "3em",
       "margin": "0",
       "padding": "0",
       "width": "7em"
      }
     },
     "165c8281826f4d74afa6c0c4052a2beb": {
      "model_module": "@jupyter-widgets/controls",
      "model_module_version": "1.4.0",
      "model_name": "ButtonStyleModel",
      "state": {}
     },
     "167d2673ea964ad4bd69ebd891e4d45d": {
      "model_module": "@jupyter-widgets/base",
      "model_module_version": "1.1.0",
      "model_name": "LayoutModel",
      "state": {}
     },
     "168a622bf9034a71869f43bb14f7bed6": {
      "model_module": "@jupyter-widgets/controls",
      "model_module_version": "1.4.0",
      "model_name": "ButtonStyleModel",
      "state": {}
     },
     "168af1106241450a9704f2652215cc2d": {
      "model_module": "@jupyter-widgets/base",
      "model_module_version": "1.1.0",
      "model_name": "LayoutModel",
      "state": {}
     },
     "16992096b7d5408297d9c963018f46a1": {
      "model_module": "@jupyter-widgets/controls",
      "model_module_version": "1.4.0",
      "model_name": "ButtonModel",
      "state": {
       "_dom_classes": [
        "gridbutton",
        "b1"
       ],
       "disabled": true,
       "layout": "IPY_MODEL_581cef88be2741a9bde4fcb6422ff1b0",
       "style": "IPY_MODEL_743885ad32dd49528bf52380f57cdf4a"
      }
     },
     "16c3a45fc6cc4cb78ddc85c62c45a9bd": {
      "model_module": "@jupyter-widgets/controls",
      "model_module_version": "1.4.0",
      "model_name": "ButtonModel",
      "state": {
       "_dom_classes": [
        "gridbutton",
        "b2"
       ],
       "disabled": true,
       "layout": "IPY_MODEL_196c83a3b43a46dca975be63611b8c09",
       "style": "IPY_MODEL_6858e90224f1460398e0aecefcd45ce9"
      }
     },
     "16d6004d57a14fe1826c47c280b8644e": {
      "model_module": "@jupyter-widgets/controls",
      "model_module_version": "1.4.0",
      "model_name": "VBoxModel",
      "state": {
       "children": [
        "IPY_MODEL_146b3f026737491b8adf36aa7bdd010c",
        "IPY_MODEL_e83e79878c934023b065d37989ed110d",
        "IPY_MODEL_f369d214a5a24460a2442184308b5424"
       ],
       "layout": "IPY_MODEL_fd42c7797fbf4dfab4a06405ace553c4"
      }
     },
     "16d7f0f798bd40fa80b255c0b44dc54e": {
      "model_module": "@jupyter-widgets/base",
      "model_module_version": "1.1.0",
      "model_name": "LayoutModel",
      "state": {}
     },
     "16f0c80fc7de4a7c8ed06028d94cb3a7": {
      "model_module": "@jupyter-widgets/controls",
      "model_module_version": "1.4.0",
      "model_name": "DescriptionStyleModel",
      "state": {
       "description_width": ""
      }
     },
     "171fe9b4d70e49289b5f323433ae47e7": {
      "model_module": "@jupyter-widgets/controls",
      "model_module_version": "1.4.0",
      "model_name": "DescriptionStyleModel",
      "state": {
       "description_width": ""
      }
     },
     "174c9adff21c495ca5c891e33c00b12d": {
      "model_module": "@jupyter-widgets/base",
      "model_module_version": "1.1.0",
      "model_name": "LayoutModel",
      "state": {}
     },
     "174cd476665a42aaa7bfa268eb6eb65d": {
      "model_module": "@jupyter-widgets/base",
      "model_module_version": "1.1.0",
      "model_name": "LayoutModel",
      "state": {}
     },
     "17611706e51d445dbe553199f09397ab": {
      "model_module": "@jupyter-widgets/controls",
      "model_module_version": "1.4.0",
      "model_name": "ButtonStyleModel",
      "state": {}
     },
     "17810ac0d6044b28a1eec3f4a88d0990": {
      "model_module": "@jupyter-widgets/controls",
      "model_module_version": "1.4.0",
      "model_name": "ButtonModel",
      "state": {
       "_dom_classes": [
        "gridbutton",
        "b1"
       ],
       "disabled": true,
       "layout": "IPY_MODEL_196c83a3b43a46dca975be63611b8c09",
       "style": "IPY_MODEL_71ac82bdb3384bbb976b0d06769d4bf3"
      }
     },
     "17a22b68466a44a4958df9b498317dd3": {
      "model_module": "@jupyter-widgets/controls",
      "model_module_version": "1.4.0",
      "model_name": "TextModel",
      "state": {
       "_dom_classes": [
        "blankcell"
       ],
       "disabled": true,
       "layout": "IPY_MODEL_581cef88be2741a9bde4fcb6422ff1b0",
       "style": "IPY_MODEL_11d6587f74754730b83cbd6dc24f6d62"
      }
     },
     "17a67d230deb424783beb0e298d887b6": {
      "model_module": "@jupyter-widgets/controls",
      "model_module_version": "1.4.0",
      "model_name": "ButtonStyleModel",
      "state": {}
     },
     "17a85aa22f3e47c29b87dc41ea199f37": {
      "model_module": "@jupyter-widgets/base",
      "model_module_version": "1.1.0",
      "model_name": "LayoutModel",
      "state": {}
     },
     "17b7e47a0a99402e9087f91de0d69f9a": {
      "model_module": "@jupyter-widgets/controls",
      "model_module_version": "1.4.0",
      "model_name": "TextModel",
      "state": {
       "_dom_classes": [
        "blankcell"
       ],
       "disabled": true,
       "layout": "IPY_MODEL_742ce9cb5c1a4d358dd3aef0fa324d55",
       "style": "IPY_MODEL_974b7060c11043959518fc0908914735"
      }
     },
     "17cc3c35e9f44837be2e1c5fa9afb42d": {
      "model_module": "@jupyter-widgets/base",
      "model_module_version": "1.1.0",
      "model_name": "LayoutModel",
      "state": {}
     },
     "17e404b6791742dd85e3d4b4d0ba16d9": {
      "model_module": "@jupyter-widgets/controls",
      "model_module_version": "1.4.0",
      "model_name": "TextModel",
      "state": {
       "_dom_classes": [
        "blankcell"
       ],
       "disabled": true,
       "layout": "IPY_MODEL_196c83a3b43a46dca975be63611b8c09",
       "style": "IPY_MODEL_1d5800cc076744959b36f7f7921561f7"
      }
     },
     "182022b757934dc3843e644cb7478608": {
      "model_module": "@jupyter-widgets/base",
      "model_module_version": "1.1.0",
      "model_name": "LayoutModel",
      "state": {}
     },
     "1849cba829ec49778bed1806b19210ec": {
      "model_module": "@jupyter-widgets/controls",
      "model_module_version": "1.4.0",
      "model_name": "DescriptionStyleModel",
      "state": {
       "description_width": ""
      }
     },
     "185b3d565bbd4297a726a05d5be7ebfb": {
      "model_module": "@jupyter-widgets/base",
      "model_module_version": "1.1.0",
      "model_name": "LayoutModel",
      "state": {}
     },
     "18740a034a6549bcb48f00bf62df861f": {
      "model_module": "@jupyter-widgets/base",
      "model_module_version": "1.1.0",
      "model_name": "LayoutModel",
      "state": {}
     },
     "1876776d5b904740a6efdcbd192df1ff": {
      "model_module": "@jupyter-widgets/base",
      "model_module_version": "1.1.0",
      "model_name": "LayoutModel",
      "state": {}
     },
     "189d2c51b2c44d71a9facc57f27b19b4": {
      "model_module": "@jupyter-widgets/controls",
      "model_module_version": "1.4.0",
      "model_name": "ButtonModel",
      "state": {
       "_dom_classes": [
        "gridbutton",
        "b1"
       ],
       "disabled": true,
       "layout": "IPY_MODEL_581cef88be2741a9bde4fcb6422ff1b0",
       "style": "IPY_MODEL_dc7ea253b12e4ad3b48b1bbf36047743"
      }
     },
     "18b532f7b29d43aba8c6b0665fc409cb": {
      "model_module": "@jupyter-widgets/controls",
      "model_module_version": "1.4.0",
      "model_name": "ButtonModel",
      "state": {
       "_dom_classes": [
        "gridbutton",
        "b3"
       ],
       "disabled": true,
       "layout": "IPY_MODEL_d861c29f26634ccfb59b53f634fc937d",
       "style": "IPY_MODEL_be33d18fe96e47858fae1c6d61400aac"
      }
     },
     "18c27c9ea19e43ff93774b75f4f20bd5": {
      "model_module": "@jupyter-widgets/controls",
      "model_module_version": "1.4.0",
      "model_name": "ButtonModel",
      "state": {
       "_dom_classes": [
        "gridbutton",
        "b3"
       ],
       "disabled": true,
       "layout": "IPY_MODEL_d861c29f26634ccfb59b53f634fc937d",
       "style": "IPY_MODEL_d8c78c0032f34d549dd22ec563157b07"
      }
     },
     "18fed009179e47f3b461dbbffb2d4e1b": {
      "model_module": "@jupyter-widgets/controls",
      "model_module_version": "1.4.0",
      "model_name": "ButtonModel",
      "state": {
       "_dom_classes": [
        "gridbutton",
        "b1"
       ],
       "disabled": true,
       "layout": "IPY_MODEL_196c83a3b43a46dca975be63611b8c09",
       "style": "IPY_MODEL_a08285b6ab194fabb786ac57a1980468"
      }
     },
     "1904fb58cf3347a290b8194bda6f08fa": {
      "model_module": "@jupyter-widgets/controls",
      "model_module_version": "1.4.0",
      "model_name": "ButtonModel",
      "state": {
       "_dom_classes": [
        "gridbutton",
        "b2"
       ],
       "disabled": true,
       "layout": "IPY_MODEL_196c83a3b43a46dca975be63611b8c09",
       "style": "IPY_MODEL_41f71ba6762c4a5b95cfb26818ef52c1"
      }
     },
     "1909401f30994fb7953efb2eb2cc739b": {
      "model_module": "@jupyter-widgets/controls",
      "model_module_version": "1.4.0",
      "model_name": "HBoxModel",
      "state": {
       "children": [
        "IPY_MODEL_b97fc758641b4510a623584e9f548c61"
       ],
       "layout": "IPY_MODEL_f323d08625cd4e20a3651f580657d925"
      }
     },
     "19395d8f5c57427f87edafdb8f9e0c20": {
      "model_module": "@jupyter-widgets/controls",
      "model_module_version": "1.4.0",
      "model_name": "ButtonModel",
      "state": {
       "_dom_classes": [
        "gridbutton",
        "b1"
       ],
       "disabled": true,
       "layout": "IPY_MODEL_d861c29f26634ccfb59b53f634fc937d",
       "style": "IPY_MODEL_705a5a96f064447c8c0869b2792ab6e9"
      }
     },
     "1952a0070ef94202a8548a9b79c91a77": {
      "model_module": "@jupyter-widgets/controls",
      "model_module_version": "1.4.0",
      "model_name": "HBoxModel",
      "state": {
       "children": [
        "IPY_MODEL_63768a381f0b42a4a1d707f88d356f02",
        "IPY_MODEL_b1797add38464defadf933d0e88dfc77"
       ],
       "layout": "IPY_MODEL_7487559be7674b2f81915938e543356e"
      }
     },
     "196c83a3b43a46dca975be63611b8c09": {
      "model_module": "@jupyter-widgets/base",
      "model_module_version": "1.1.0",
      "model_name": "LayoutModel",
      "state": {
       "height": "12px",
       "margin": "0",
       "padding": "0",
       "width": "12px"
      }
     },
     "197e57136d714375bbe0caa72af3def3": {
      "model_module": "@jupyter-widgets/base",
      "model_module_version": "1.1.0",
      "model_name": "LayoutModel",
      "state": {}
     },
     "19cebce75c9148418628078ae37208cd": {
      "model_module": "@jupyter-widgets/base",
      "model_module_version": "1.1.0",
      "model_name": "LayoutModel",
      "state": {}
     },
     "19cf813b58cd48f4be5a9d340a12774c": {
      "model_module": "@jupyter-widgets/base",
      "model_module_version": "1.1.0",
      "model_name": "LayoutModel",
      "state": {
       "height": "3em",
       "margin": "0",
       "padding": "0",
       "width": "7em"
      }
     },
     "19ee1d4f7b5640e686bf0a1366dc857e": {
      "model_module": "@jupyter-widgets/controls",
      "model_module_version": "1.4.0",
      "model_name": "ButtonModel",
      "state": {
       "_dom_classes": [
        "gridbutton",
        "b1"
       ],
       "disabled": true,
       "layout": "IPY_MODEL_581cef88be2741a9bde4fcb6422ff1b0",
       "style": "IPY_MODEL_62d298d928be46ebb60c40451f3289b4"
      }
     },
     "19f3a5fc857d42308e14ee3402ffc283": {
      "model_module": "@jupyter-widgets/controls",
      "model_module_version": "1.4.0",
      "model_name": "DescriptionStyleModel",
      "state": {
       "description_width": ""
      }
     },
     "19f89b5e440c45baa7e33533423a2c0c": {
      "model_module": "@jupyter-widgets/controls",
      "model_module_version": "1.4.0",
      "model_name": "TextModel",
      "state": {
       "_dom_classes": [
        "blankcell"
       ],
       "disabled": true,
       "layout": "IPY_MODEL_24198035057f48ca81a6fa9a718c3f55",
       "style": "IPY_MODEL_ad0bffa9101e461dbc10735fec5a2044"
      }
     },
     "1a1935a086d644038cd56723558d32e6": {
      "model_module": "@jupyter-widgets/base",
      "model_module_version": "1.1.0",
      "model_name": "LayoutModel",
      "state": {}
     },
     "1a25d4cea143415b8c627b0c0b80b17c": {
      "model_module": "@jupyter-widgets/base",
      "model_module_version": "1.1.0",
      "model_name": "LayoutModel",
      "state": {}
     },
     "1a432386c914495cadde10b9e1ad1774": {
      "model_module": "@jupyter-widgets/controls",
      "model_module_version": "1.4.0",
      "model_name": "ButtonModel",
      "state": {
       "_dom_classes": [
        "gridbutton",
        "b3"
       ],
       "disabled": true,
       "layout": "IPY_MODEL_196c83a3b43a46dca975be63611b8c09",
       "style": "IPY_MODEL_6f4741d9757846a3b1216c9e81853d31"
      }
     },
     "1a487764827e4883ad196adc537999e1": {
      "model_module": "@jupyter-widgets/controls",
      "model_module_version": "1.4.0",
      "model_name": "ButtonModel",
      "state": {
       "_dom_classes": [
        "gridbutton",
        "b1"
       ],
       "disabled": true,
       "layout": "IPY_MODEL_196c83a3b43a46dca975be63611b8c09",
       "style": "IPY_MODEL_5948de0c1bdf4152af3c82188621c088"
      }
     },
     "1a574354cd314bafbb0dcb435a0d2a34": {
      "model_module": "@jupyter-widgets/controls",
      "model_module_version": "1.4.0",
      "model_name": "ButtonModel",
      "state": {
       "_dom_classes": [
        "gridbutton",
        "b2"
       ],
       "disabled": true,
       "layout": "IPY_MODEL_581cef88be2741a9bde4fcb6422ff1b0",
       "style": "IPY_MODEL_165c8281826f4d74afa6c0c4052a2beb"
      }
     },
     "1a690a6e4842419085229f81e4b3160e": {
      "model_module": "@jupyter-widgets/controls",
      "model_module_version": "1.4.0",
      "model_name": "DescriptionStyleModel",
      "state": {
       "description_width": ""
      }
     },
     "1a7604f59c494075969fb25c98a924d1": {
      "model_module": "@jupyter-widgets/controls",
      "model_module_version": "1.4.0",
      "model_name": "ButtonStyleModel",
      "state": {}
     },
     "1a8c7b5ab65348f794633819d7ee9f7b": {
      "model_module": "@jupyter-widgets/base",
      "model_module_version": "1.1.0",
      "model_name": "LayoutModel",
      "state": {}
     },
     "1a988c86d255443b927309eba20aaedf": {
      "model_module": "@jupyter-widgets/controls",
      "model_module_version": "1.4.0",
      "model_name": "DescriptionStyleModel",
      "state": {
       "description_width": ""
      }
     },
     "1aa9f9d59433424baf8bda979dcac020": {
      "model_module": "@jupyter-widgets/base",
      "model_module_version": "1.1.0",
      "model_name": "LayoutModel",
      "state": {}
     },
     "1ac8f1f671ba49a5b37df4935bbc4fcd": {
      "model_module": "@jupyter-widgets/base",
      "model_module_version": "1.1.0",
      "model_name": "LayoutModel",
      "state": {}
     },
     "1b183394fa444517acdc128a21f3e6a2": {
      "model_module": "@jupyter-widgets/controls",
      "model_module_version": "1.4.0",
      "model_name": "ToggleButtonModel",
      "state": {
       "_dom_classes": [
        "gridbutton",
        "addablebutton"
       ],
       "description": "+",
       "layout": "IPY_MODEL_ae25d8ee9fe646ebb7fdd668d6ed6cab",
       "style": "IPY_MODEL_e9d4d06ea6e3494ea5b646988bca936e",
       "tooltip": "Click to add a cell here"
      }
     },
     "1b4c2e63756146ae85e292d7c6a96cc5": {
      "model_module": "@jupyter-widgets/controls",
      "model_module_version": "1.4.0",
      "model_name": "HBoxModel",
      "state": {
       "children": [
        "IPY_MODEL_af0e91c2c4ab43c5b1e5fcf19315b4e0",
        "IPY_MODEL_720da93e691c4aeca4ec9e70ea9fd8bf",
        "IPY_MODEL_8cfe9e0c5f2a4516bd48c202bed4d3a2"
       ],
       "layout": "IPY_MODEL_2fb4a4bd99e945619cd554a29e09ff21"
      }
     },
     "1b67d38556554901a2e01a2a118f0aa2": {
      "model_module": "@jupyter-widgets/controls",
      "model_module_version": "1.4.0",
      "model_name": "TextModel",
      "state": {
       "_dom_classes": [
        "gridcell"
       ],
       "_view_module": "sage-combinat-widgets",
       "_view_module_version": "^0.2.0",
       "_view_name": "TextWithTooltipView",
       "continuous_update": false,
       "description_tooltip": "",
       "layout": "IPY_MODEL_742ce9cb5c1a4d358dd3aef0fa324d55",
       "style": "IPY_MODEL_59b6e01463af43f7bbc846d1b7514037",
       "value": "4"
      }
     },
     "1b8012ad5b4c4ea7969647fa8b7440f6": {
      "model_module": "@jupyter-widgets/base",
      "model_module_version": "1.1.0",
      "model_name": "LayoutModel",
      "state": {}
     },
     "1b93e4d240a447c192a1ba4a2fb53a14": {
      "model_module": "@jupyter-widgets/controls",
      "model_module_version": "1.4.0",
      "model_name": "DescriptionStyleModel",
      "state": {
       "description_width": ""
      }
     },
     "1be1bb9889e549ac85b487bb1fd8a373": {
      "model_module": "@jupyter-widgets/controls",
      "model_module_version": "1.4.0",
      "model_name": "DescriptionStyleModel",
      "state": {
       "description_width": ""
      }
     },
     "1be5f006cf124e68b0a731d81140b04f": {
      "model_module": "@jupyter-widgets/base",
      "model_module_version": "1.1.0",
      "model_name": "LayoutModel",
      "state": {}
     },
     "1bfec1bc60c64d87a3d4015891c34439": {
      "model_module": "@jupyter-widgets/controls",
      "model_module_version": "1.4.0",
      "model_name": "ButtonModel",
      "state": {
       "_dom_classes": [
        "gridbutton",
        "b3"
       ],
       "disabled": true,
       "layout": "IPY_MODEL_196c83a3b43a46dca975be63611b8c09",
       "style": "IPY_MODEL_d137de8f021b48e496c1119da6949b31"
      }
     },
     "1c0e8237aec042e4b4c68cecdec4d5a0": {
      "model_module": "@jupyter-widgets/controls",
      "model_module_version": "1.4.0",
      "model_name": "DescriptionStyleModel",
      "state": {
       "description_width": ""
      }
     },
     "1c1771881a394251b5e3112e1f1ea1fa": {
      "model_module": "@jupyter-widgets/controls",
      "model_module_version": "1.4.0",
      "model_name": "DescriptionStyleModel",
      "state": {
       "description_width": ""
      }
     },
     "1c218400970543f89147d0e0f4e02b70": {
      "model_module": "@jupyter-widgets/controls",
      "model_module_version": "1.4.0",
      "model_name": "DescriptionStyleModel",
      "state": {
       "description_width": ""
      }
     },
     "1c3fcf95e87c4e6d81803a8458d43039": {
      "model_module": "@jupyter-widgets/base",
      "model_module_version": "1.1.0",
      "model_name": "LayoutModel",
      "state": {}
     },
     "1c7f6bcea4a041d2b4fadde48fc4a9d3": {
      "model_module": "@jupyter-widgets/base",
      "model_module_version": "1.1.0",
      "model_name": "LayoutModel",
      "state": {}
     },
     "1c8f67dfced247358a2741e9059f437c": {
      "model_module": "@jupyter-widgets/base",
      "model_module_version": "1.1.0",
      "model_name": "LayoutModel",
      "state": {}
     },
     "1c920760be2442cc975c4fb8bee7ea94": {
      "model_module": "@jupyter-widgets/controls",
      "model_module_version": "1.4.0",
      "model_name": "ButtonModel",
      "state": {
       "_dom_classes": [
        "gridbutton",
        "b2"
       ],
       "disabled": true,
       "layout": "IPY_MODEL_d861c29f26634ccfb59b53f634fc937d",
       "style": "IPY_MODEL_b9a3b9ae518f4af1a68882d69007db20"
      }
     },
     "1ca9d0e6b1764ca997c6a1b756831fd2": {
      "model_module": "@jupyter-widgets/controls",
      "model_module_version": "1.4.0",
      "model_name": "ButtonStyleModel",
      "state": {}
     },
     "1cb1696abdaa42ae905bf203e1ecf944": {
      "model_module": "@jupyter-widgets/controls",
      "model_module_version": "1.4.0",
      "model_name": "ButtonModel",
      "state": {
       "_dom_classes": [
        "gridbutton",
        "b3"
       ],
       "disabled": true,
       "layout": "IPY_MODEL_581cef88be2741a9bde4fcb6422ff1b0",
       "style": "IPY_MODEL_f55e8868c6f64bda9a84dd22c82ecc67"
      }
     },
     "1cbcac3a7446437188ba215596be5e96": {
      "model_module": "@jupyter-widgets/controls",
      "model_module_version": "1.4.0",
      "model_name": "TextModel",
      "state": {
       "_dom_classes": [
        "gridcell",
        "removablecell"
       ],
       "_view_module": "sage-combinat-widgets",
       "_view_module_version": "^0.2.0",
       "_view_name": "TextWithTooltipView",
       "continuous_update": false,
       "description_tooltip": "",
       "layout": "IPY_MODEL_742ce9cb5c1a4d358dd3aef0fa324d55",
       "style": "IPY_MODEL_22b96dc774c845fb88685d33da35394e",
       "value": "13"
      }
     },
     "1cc875ca4236474491ed0583b6731c56": {
      "model_module": "@jupyter-widgets/controls",
      "model_module_version": "1.4.0",
      "model_name": "TextModel",
      "state": {
       "_dom_classes": [
        "gridcell"
       ],
       "_view_module": "sage-combinat-widgets",
       "_view_module_version": "^0.2.0",
       "_view_name": "TextWithTooltipView",
       "continuous_update": false,
       "description_tooltip": "",
       "layout": "IPY_MODEL_24198035057f48ca81a6fa9a718c3f55",
       "style": "IPY_MODEL_2bf1f7c0082546179e4148dff5e92d0b",
       "value": "2"
      }
     },
     "1ccc7e7887494f97b3212b47f282f2f6": {
      "model_module": "@jupyter-widgets/base",
      "model_module_version": "1.1.0",
      "model_name": "LayoutModel",
      "state": {}
     },
     "1cf39e20d3914c39a0971804d400dd1d": {
      "model_module": "@jupyter-widgets/controls",
      "model_module_version": "1.4.0",
      "model_name": "ButtonStyleModel",
      "state": {}
     },
     "1cf6abe8dafa474c9e0335bb1b03fd5e": {
      "model_module": "@jupyter-widgets/base",
      "model_module_version": "1.1.0",
      "model_name": "LayoutModel",
      "state": {}
     },
     "1d046853fd454fb29ff6cf26e1cf02df": {
      "model_module": "@jupyter-widgets/controls",
      "model_module_version": "1.4.0",
      "model_name": "DescriptionStyleModel",
      "state": {
       "description_width": ""
      }
     },
     "1d5800cc076744959b36f7f7921561f7": {
      "model_module": "@jupyter-widgets/controls",
      "model_module_version": "1.4.0",
      "model_name": "DescriptionStyleModel",
      "state": {
       "description_width": ""
      }
     },
     "1d665d661a4749938b34612ffd434265": {
      "model_module": "@jupyter-widgets/controls",
      "model_module_version": "1.4.0",
      "model_name": "ButtonModel",
      "state": {
       "_dom_classes": [
        "gridbutton",
        "b1"
       ],
       "disabled": true,
       "layout": "IPY_MODEL_d861c29f26634ccfb59b53f634fc937d",
       "style": "IPY_MODEL_49a68a4ee26b48b997784b38720b15ad"
      }
     },
     "1d8a85e0451745eca7adbd5db3e5d346": {
      "model_module": "@jupyter-widgets/controls",
      "model_module_version": "1.4.0",
      "model_name": "DescriptionStyleModel",
      "state": {
       "description_width": ""
      }
     },
     "1d9e835c738240cfabaf57c0370b38ed": {
      "model_module": "@jupyter-widgets/base",
      "model_module_version": "1.1.0",
      "model_name": "LayoutModel",
      "state": {}
     },
     "1dcddbea1cae4003a57ef5a9e8c686f8": {
      "model_module": "@jupyter-widgets/base",
      "model_module_version": "1.1.0",
      "model_name": "LayoutModel",
      "state": {}
     },
     "1dd794b05d4243f0a783069e6eee9218": {
      "model_module": "@jupyter-widgets/controls",
      "model_module_version": "1.4.0",
      "model_name": "ButtonStyleModel",
      "state": {}
     },
     "1df1c55c1f724a21b864e002bb27e5f2": {
      "model_module": "@jupyter-widgets/controls",
      "model_module_version": "1.4.0",
      "model_name": "ButtonStyleModel",
      "state": {}
     },
     "1e036efa2d47492bb15b3cf523548fbd": {
      "model_module": "@jupyter-widgets/base",
      "model_module_version": "1.1.0",
      "model_name": "LayoutModel",
      "state": {}
     },
     "1e1d661a43c240d1a2082578a3e86b16": {
      "model_module": "@jupyter-widgets/controls",
      "model_module_version": "1.4.0",
      "model_name": "ButtonStyleModel",
      "state": {}
     },
     "1e36480fb9d9495cb93980a67a6a90ea": {
      "model_module": "@jupyter-widgets/base",
      "model_module_version": "1.1.0",
      "model_name": "LayoutModel",
      "state": {}
     },
     "1e537c4deda040be8b365125b3455db1": {
      "model_module": "@jupyter-widgets/controls",
      "model_module_version": "1.4.0",
      "model_name": "DescriptionStyleModel",
      "state": {
       "description_width": ""
      }
     },
     "1e5caec2131b4f479a46c9b432073750": {
      "model_module": "@jupyter-widgets/base",
      "model_module_version": "1.1.0",
      "model_name": "LayoutModel",
      "state": {}
     },
     "1e6914ba92964bcf9a13b14ec1f087eb": {
      "model_module": "@jupyter-widgets/controls",
      "model_module_version": "1.4.0",
      "model_name": "ButtonStyleModel",
      "state": {}
     },
     "1e6a6053a70f48fdbb01b0f0a029bc9a": {
      "model_module": "@jupyter-widgets/controls",
      "model_module_version": "1.4.0",
      "model_name": "DescriptionStyleModel",
      "state": {
       "description_width": ""
      }
     },
     "1e8c408392f04764acb434b4f567e781": {
      "model_module": "@jupyter-widgets/base",
      "model_module_version": "1.1.0",
      "model_name": "LayoutModel",
      "state": {}
     },
     "1e99cefac02f44c1809b8441debdc2e6": {
      "model_module": "@jupyter-widgets/base",
      "model_module_version": "1.1.0",
      "model_name": "LayoutModel",
      "state": {}
     },
     "1ea1f78e9ed448c2b9c21936ef0a95b2": {
      "model_module": "@jupyter-widgets/base",
      "model_module_version": "1.1.0",
      "model_name": "LayoutModel",
      "state": {}
     },
     "1ea6ed91eee64f4f8fff852274184859": {
      "model_module": "@jupyter-widgets/base",
      "model_module_version": "1.1.0",
      "model_name": "LayoutModel",
      "state": {}
     },
     "1eba32a79377418aaeafc521f9a65f07": {
      "model_module": "@jupyter-widgets/base",
      "model_module_version": "1.1.0",
      "model_name": "LayoutModel",
      "state": {}
     },
     "1ee56a946b8141639469f478138c2f63": {
      "model_module": "@jupyter-widgets/base",
      "model_module_version": "1.1.0",
      "model_name": "LayoutModel",
      "state": {}
     },
     "1f0467b11f414766b6a6b63e0ded4a5b": {
      "model_module": "@jupyter-widgets/controls",
      "model_module_version": "1.4.0",
      "model_name": "ButtonStyleModel",
      "state": {}
     },
     "1f256a4690a6494faf39cb86d561b738": {
      "model_module": "@jupyter-widgets/base",
      "model_module_version": "1.1.0",
      "model_name": "LayoutModel",
      "state": {}
     },
     "1f40c1c5ddd74e0daa909a544280001a": {
      "model_module": "@jupyter-widgets/base",
      "model_module_version": "1.1.0",
      "model_name": "LayoutModel",
      "state": {}
     },
     "1f46488ac43e431baf923b2c7948bdac": {
      "model_module": "@jupyter-widgets/base",
      "model_module_version": "1.1.0",
      "model_name": "LayoutModel",
      "state": {}
     },
     "1f6ba227ba9b47a48d332eb6424f27e1": {
      "model_module": "@jupyter-widgets/base",
      "model_module_version": "1.1.0",
      "model_name": "LayoutModel",
      "state": {}
     },
     "1f6c88af35284e89858e8132a7f8cb10": {
      "model_module": "@jupyter-widgets/controls",
      "model_module_version": "1.4.0",
      "model_name": "DescriptionStyleModel",
      "state": {
       "description_width": ""
      }
     },
     "1f6dbf911fbd41b0af57820a95a93c20": {
      "model_module": "@jupyter-widgets/controls",
      "model_module_version": "1.4.0",
      "model_name": "ButtonModel",
      "state": {
       "_dom_classes": [
        "gridbutton",
        "b3"
       ],
       "disabled": true,
       "layout": "IPY_MODEL_d861c29f26634ccfb59b53f634fc937d",
       "style": "IPY_MODEL_17611706e51d445dbe553199f09397ab"
      }
     },
     "1f74cc4ae65a4b8da412520bcc0327c3": {
      "model_module": "@jupyter-widgets/base",
      "model_module_version": "1.1.0",
      "model_name": "LayoutModel",
      "state": {}
     },
     "1f766def98c04250b786d07b62904614": {
      "model_module": "@jupyter-widgets/base",
      "model_module_version": "1.1.0",
      "model_name": "LayoutModel",
      "state": {}
     },
     "1f7734d750ed4dacaaafd72ff80b1d8b": {
      "model_module": "@jupyter-widgets/controls",
      "model_module_version": "1.4.0",
      "model_name": "ButtonStyleModel",
      "state": {}
     },
     "1f7cacdb578a4cda9fafd54049875c0d": {
      "model_module": "@jupyter-widgets/controls",
      "model_module_version": "1.4.0",
      "model_name": "DescriptionStyleModel",
      "state": {
       "description_width": ""
      }
     },
     "1f7ddc63ffe744938c32dc636604db9b": {
      "model_module": "@jupyter-widgets/controls",
      "model_module_version": "1.4.0",
      "model_name": "HBoxModel",
      "state": {
       "children": [
        "IPY_MODEL_b7d5e047026f47deb6e185c54ce18058",
        "IPY_MODEL_a764c58e783c433aa79ce2507b603bcc",
        "IPY_MODEL_a74a1ce8ffd545eb9a96d3fb2df74915",
        "IPY_MODEL_ff724ce176ad49eb95fceed4ab47019c",
        "IPY_MODEL_8708a83ee2e34a9fa0d9a58806a76ea2",
        "IPY_MODEL_08355356cc75444ea7df8e31852f2737",
        "IPY_MODEL_da8ce9e525e441bcb40c2a441a7236d6",
        "IPY_MODEL_9141eda35383439dadc6957eea0a19c5",
        "IPY_MODEL_a6f0dd5b4a8e4aec8437974c86d60468",
        "IPY_MODEL_1cb1696abdaa42ae905bf203e1ecf944",
        "IPY_MODEL_3f1940d695f642b195d804cb4e37dc6c",
        "IPY_MODEL_8d20da9434f04c2582fd5dd6c1f151ef",
        "IPY_MODEL_988e5296939a4978ab188c1aae448cf0",
        "IPY_MODEL_3db35ebdfb6f4616ac1271b92b4d8ca6",
        "IPY_MODEL_fc07dad258ce40c287ae5fd6e052461d",
        "IPY_MODEL_04498ad0ccc94f8c8cd4776877ef6c2d"
       ],
       "layout": "IPY_MODEL_41bd614d9bf9411eb42803084ce285d6"
      }
     },
     "1f950ae2ac6f48f3b0c53e691298aec9": {
      "model_module": "@jupyter-widgets/controls",
      "model_module_version": "1.4.0",
      "model_name": "ButtonModel",
      "state": {
       "_dom_classes": [
        "gridbutton",
        "b3"
       ],
       "disabled": true,
       "layout": "IPY_MODEL_196c83a3b43a46dca975be63611b8c09",
       "style": "IPY_MODEL_02a648deaf734226b7737b5bc7026de5"
      }
     },
     "1f999a96962a49ceb4f475cfa01ad3f7": {
      "model_module": "@jupyter-widgets/base",
      "model_module_version": "1.1.0",
      "model_name": "LayoutModel",
      "state": {}
     },
     "1fb464af39924f2c92b3e3a6f7bfba6f": {
      "model_module": "@jupyter-widgets/controls",
      "model_module_version": "1.4.0",
      "model_name": "HBoxModel",
      "state": {
       "children": [
        "IPY_MODEL_e6cd6068a8df4251a6bb436816c02098",
        "IPY_MODEL_9f78d47193954ed3857a6c56478de4ae"
       ],
       "layout": "IPY_MODEL_dd11b124291c48349b6e0c1b2181781e"
      }
     },
     "1fee22291d4f46cb871f313aef29a71f": {
      "model_module": "@jupyter-widgets/base",
      "model_module_version": "1.1.0",
      "model_name": "LayoutModel",
      "state": {}
     },
     "1ffa8c3e118f4947a6b7a2da71b829fe": {
      "model_module": "@jupyter-widgets/controls",
      "model_module_version": "1.4.0",
      "model_name": "HBoxModel",
      "state": {
       "children": [
        "IPY_MODEL_2356a29cef8c47808d8000838ce90b07",
        "IPY_MODEL_61458aef7d3b41b1b2bd783465244e9a",
        "IPY_MODEL_c132e09059544969be0124ebef8ad4dc",
        "IPY_MODEL_df41d1980ea94a3884e740f9700b550a",
        "IPY_MODEL_f3611d1bd3d84b5fbf14398732e46632",
        "IPY_MODEL_66e4f196b6a247d78d8ff328301ee4a6",
        "IPY_MODEL_b5dcece9a8cf4623b70100df4a94dd7a",
        "IPY_MODEL_8a0f233d31934361967d6f0b171c22fb",
        "IPY_MODEL_6f3ff53254144afeab762275828e460e",
        "IPY_MODEL_a308027be2114b70a51d1d7064f4ab5b",
        "IPY_MODEL_8fcaad870c5f4658b45bcbf5f8372221"
       ],
       "layout": "IPY_MODEL_a2a936fe5fd74d6c8a941fa7e0e26288"
      }
     },
     "20a7383aeabd40529012c42468a5d164": {
      "model_module": "@jupyter-widgets/base",
      "model_module_version": "1.1.0",
      "model_name": "LayoutModel",
      "state": {}
     },
     "20b3ee2684d642e3be330d2a898fa9c5": {
      "model_module": "@jupyter-widgets/controls",
      "model_module_version": "1.4.0",
      "model_name": "ToggleButtonModel",
      "state": {
       "_dom_classes": [
        "gridbutton"
       ],
       "description": "-",
       "layout": "IPY_MODEL_ae25d8ee9fe646ebb7fdd668d6ed6cab",
       "style": "IPY_MODEL_d47b32dc78bf44389adb6127c69af72d",
       "tooltip": "3, 0"
      }
     },
     "20ebc22393cd4811996dd5d13a4347bb": {
      "model_module": "@jupyter-widgets/controls",
      "model_module_version": "1.4.0",
      "model_name": "ButtonModel",
      "state": {
       "_dom_classes": [
        "gridbutton",
        "b4"
       ],
       "disabled": true,
       "layout": "IPY_MODEL_d861c29f26634ccfb59b53f634fc937d",
       "style": "IPY_MODEL_41c9864761fa452fab4053c488cc54fd"
      }
     },
     "21213e0ccde442cc9ed8ad7a84d41b70": {
      "model_module": "@jupyter-widgets/controls",
      "model_module_version": "1.4.0",
      "model_name": "TextModel",
      "state": {
       "_dom_classes": [
        "blankcell"
       ],
       "disabled": true,
       "layout": "IPY_MODEL_196c83a3b43a46dca975be63611b8c09",
       "style": "IPY_MODEL_ccd5b3e75c7a46d3b7fd0877c1ed29b1"
      }
     },
     "2131b9df22b74661bf0ab82a34baaf84": {
      "model_module": "@jupyter-widgets/controls",
      "model_module_version": "1.4.0",
      "model_name": "ButtonModel",
      "state": {
       "_dom_classes": [
        "gridbutton",
        "b2"
       ],
       "disabled": true,
       "layout": "IPY_MODEL_581cef88be2741a9bde4fcb6422ff1b0",
       "style": "IPY_MODEL_e9d44ff97448477ab35b5e57ed6585e2"
      }
     },
     "21355a9421734b858596482bd6e01e99": {
      "model_module": "@jupyter-widgets/controls",
      "model_module_version": "1.4.0",
      "model_name": "TextModel",
      "state": {
       "_dom_classes": [
        "gridcell"
       ],
       "_view_module": "sage-combinat-widgets",
       "_view_module_version": "^0.2.0",
       "_view_name": "TextWithTooltipView",
       "continuous_update": false,
       "description_tooltip": "",
       "layout": "IPY_MODEL_ae25d8ee9fe646ebb7fdd668d6ed6cab",
       "style": "IPY_MODEL_15122a77139a4dfc8a16a3700bdca4c7",
       "value": "7"
      }
     },
     "213b0e08a64148889c08b1c146eebdf2": {
      "model_module": "@jupyter-widgets/controls",
      "model_module_version": "1.4.0",
      "model_name": "DescriptionStyleModel",
      "state": {
       "description_width": ""
      }
     },
     "214c6bc3e7e6450f84e81fc3a87be0e3": {
      "model_module": "@jupyter-widgets/controls",
      "model_module_version": "1.4.0",
      "model_name": "DescriptionStyleModel",
      "state": {
       "description_width": ""
      }
     },
     "215e7f76012b4a97961d01be675e04c1": {
      "model_module": "@jupyter-widgets/controls",
      "model_module_version": "1.4.0",
      "model_name": "TextModel",
      "state": {
       "_dom_classes": [
        "blankcell"
       ],
       "disabled": true,
       "layout": "IPY_MODEL_196c83a3b43a46dca975be63611b8c09",
       "style": "IPY_MODEL_918903c43dc44f57b4f41909219704f0"
      }
     },
     "2177ef84c702434a9ce6464ed5dd2f4f": {
      "model_module": "@jupyter-widgets/base",
      "model_module_version": "1.1.0",
      "model_name": "LayoutModel",
      "state": {}
     },
     "2180d6815e9f4f43b9509cfa1c04ce26": {
      "model_module": "@jupyter-widgets/controls",
      "model_module_version": "1.4.0",
      "model_name": "TextModel",
      "state": {
       "_dom_classes": [
        "blankcell"
       ],
       "disabled": true,
       "layout": "IPY_MODEL_d861c29f26634ccfb59b53f634fc937d",
       "style": "IPY_MODEL_11804db2ffe6489d8d93e0b880dad23c"
      }
     },
     "21b6eb583b0044df90ea35051e48d2eb": {
      "model_module": "@jupyter-widgets/base",
      "model_module_version": "1.1.0",
      "model_name": "LayoutModel",
      "state": {}
     },
     "21bca22a8447453bb99cbd2e2006199d": {
      "model_module": "@jupyter-widgets/controls",
      "model_module_version": "1.4.0",
      "model_name": "ButtonStyleModel",
      "state": {}
     },
     "21d54486608c4f17b30e7f75a06c78e0": {
      "model_module": "@jupyter-widgets/controls",
      "model_module_version": "1.4.0",
      "model_name": "HBoxModel",
      "state": {
       "children": [
        "IPY_MODEL_8ee8ac2d6f0640e185c31f4d9d1c7923",
        "IPY_MODEL_ab74d16804104aee92590ffa3c3df3b0"
       ],
       "layout": "IPY_MODEL_3f0ec5a67dac4ce3bda4b3a463f3b311"
      }
     },
     "2216ecd18cd14599b01254503d46a333": {
      "model_module": "@jupyter-widgets/controls",
      "model_module_version": "1.4.0",
      "model_name": "TextModel",
      "state": {
       "_dom_classes": [
        "blankcell"
       ],
       "disabled": true,
       "layout": "IPY_MODEL_581cef88be2741a9bde4fcb6422ff1b0",
       "style": "IPY_MODEL_6009cc8b78fb460f81089c479eaaf6de"
      }
     },
     "223a4da2b69a454aa089f37e59cc60a6": {
      "model_module": "@jupyter-widgets/controls",
      "model_module_version": "1.4.0",
      "model_name": "HBoxModel",
      "state": {
       "children": [
        "IPY_MODEL_4710936bde904ac1843456562e235f96",
        "IPY_MODEL_fd7429fa34ed47bcbb23985ba1a6b6ca",
        "IPY_MODEL_721dc8c0a11e4190952dd22e039ab1ab",
        "IPY_MODEL_f4bf71dc612f4672a7dff78e7161664d",
        "IPY_MODEL_21355a9421734b858596482bd6e01e99",
        "IPY_MODEL_be68edf020af47eca700b8bd96b882c1",
        "IPY_MODEL_77e61c01231f47df946e1c2c7b84daa3"
       ],
       "layout": "IPY_MODEL_76d053c311094f778af8229127278a6f"
      }
     },
     "225dbe1634c742d4b700e5ecb9e6d21f": {
      "model_module": "@jupyter-widgets/base",
      "model_module_version": "1.1.0",
      "model_name": "LayoutModel",
      "state": {}
     },
     "2262b27f732741f1a7fe2bdcf330eb9f": {
      "model_module": "@jupyter-widgets/controls",
      "model_module_version": "1.4.0",
      "model_name": "ButtonModel",
      "state": {
       "_dom_classes": [
        "gridbutton",
        "b1"
       ],
       "disabled": true,
       "layout": "IPY_MODEL_581cef88be2741a9bde4fcb6422ff1b0",
       "style": "IPY_MODEL_1034588125ee4b91adce2f701f386f08"
      }
     },
     "226dfa7b7a8d45cfaec174e9cc24f60f": {
      "model_module": "@jupyter-widgets/controls",
      "model_module_version": "1.4.0",
      "model_name": "ButtonModel",
      "state": {
       "_dom_classes": [
        "gridbutton",
        "b2"
       ],
       "disabled": true,
       "layout": "IPY_MODEL_d861c29f26634ccfb59b53f634fc937d",
       "style": "IPY_MODEL_c824dfc937e54f55af396f6393b1d461"
      }
     },
     "226f891b678d48ae95fbd83b0eba6e16": {
      "model_module": "@jupyter-widgets/controls",
      "model_module_version": "1.4.0",
      "model_name": "DescriptionStyleModel",
      "state": {
       "description_width": ""
      }
     },
     "22b96dc774c845fb88685d33da35394e": {
      "model_module": "@jupyter-widgets/controls",
      "model_module_version": "1.4.0",
      "model_name": "DescriptionStyleModel",
      "state": {
       "description_width": ""
      }
     },
     "22dbd5df16aa430b96148ce685c13832": {
      "model_module": "@jupyter-widgets/base",
      "model_module_version": "1.1.0",
      "model_name": "LayoutModel",
      "state": {}
     },
     "22f7f8f10cfc4798985b1e1306709717": {
      "model_module": "@jupyter-widgets/base",
      "model_module_version": "1.1.0",
      "model_name": "LayoutModel",
      "state": {}
     },
     "22fe0ceba6df4cf3b07ded0db9ee9b27": {
      "model_module": "@jupyter-widgets/base",
      "model_module_version": "1.1.0",
      "model_name": "LayoutModel",
      "state": {}
     },
     "23324f70a2d146458d69a59aea592f68": {
      "model_module": "@jupyter-widgets/controls",
      "model_module_version": "1.4.0",
      "model_name": "ButtonModel",
      "state": {
       "_dom_classes": [
        "gridbutton",
        "b2"
       ],
       "disabled": true,
       "layout": "IPY_MODEL_d861c29f26634ccfb59b53f634fc937d",
       "style": "IPY_MODEL_9d6bf58d2c9547f78435d9d4e47763e9"
      }
     },
     "2337cea2aaff46b8808599e48b36f1bd": {
      "model_module": "@jupyter-widgets/base",
      "model_module_version": "1.1.0",
      "model_name": "LayoutModel",
      "state": {}
     },
     "233dac93a06d46cd8adfef65a0d9b22f": {
      "model_module": "@jupyter-widgets/base",
      "model_module_version": "1.1.0",
      "model_name": "LayoutModel",
      "state": {}
     },
     "2356a29cef8c47808d8000838ce90b07": {
      "model_module": "@jupyter-widgets/controls",
      "model_module_version": "1.4.0",
      "model_name": "TextModel",
      "state": {
       "_dom_classes": [
        "blankcell"
       ],
       "disabled": true,
       "layout": "IPY_MODEL_196c83a3b43a46dca975be63611b8c09",
       "style": "IPY_MODEL_48833a169fd0415bb08b4ea00f0f216b"
      }
     },
     "2372d8b413a44eee8994f783b75217a5": {
      "model_module": "@jupyter-widgets/base",
      "model_module_version": "1.1.0",
      "model_name": "LayoutModel",
      "state": {}
     },
     "239d5ddf63894ec29c82391a5d4ca530": {
      "model_module": "@jupyter-widgets/controls",
      "model_module_version": "1.4.0",
      "model_name": "ButtonModel",
      "state": {
       "_dom_classes": [
        "gridbutton",
        "b3"
       ],
       "disabled": true,
       "layout": "IPY_MODEL_d861c29f26634ccfb59b53f634fc937d",
       "style": "IPY_MODEL_ae1d4e6d7b984c91956daf9bea0b91a9"
      }
     },
     "23a3eaa26a6a47d4bbac5c87f6d20079": {
      "model_module": "@jupyter-widgets/controls",
      "model_module_version": "1.4.0",
      "model_name": "ButtonStyleModel",
      "state": {}
     },
     "23f5f5586c8a42c284f05b22acebf8d0": {
      "model_module": "@jupyter-widgets/base",
      "model_module_version": "1.1.0",
      "model_name": "LayoutModel",
      "state": {}
     },
     "2403696f2b6540109eb9e02109e6fd42": {
      "model_module": "@jupyter-widgets/controls",
      "model_module_version": "1.4.0",
      "model_name": "ButtonModel",
      "state": {
       "_dom_classes": [
        "gridbutton",
        "b3"
       ],
       "disabled": true,
       "layout": "IPY_MODEL_d861c29f26634ccfb59b53f634fc937d",
       "style": "IPY_MODEL_c66febdca982419aaff609115342a298"
      }
     },
     "24198035057f48ca81a6fa9a718c3f55": {
      "model_module": "@jupyter-widgets/base",
      "model_module_version": "1.1.0",
      "model_name": "LayoutModel",
      "state": {
       "height": "2em",
       "margin": "0",
       "padding": "0",
       "width": "3em"
      }
     },
     "242798555d6f4efc80ecef979d077eb8": {
      "model_module": "@jupyter-widgets/base",
      "model_module_version": "1.1.0",
      "model_name": "LayoutModel",
      "state": {}
     },
     "243ed4c2f1724275898d13fe83f6d691": {
      "model_module": "@jupyter-widgets/controls",
      "model_module_version": "1.4.0",
      "model_name": "ButtonModel",
      "state": {
       "_dom_classes": [
        "gridbutton",
        "b2"
       ],
       "disabled": true,
       "layout": "IPY_MODEL_581cef88be2741a9bde4fcb6422ff1b0",
       "style": "IPY_MODEL_a2188e0dfa6b4cb09d663af1a74c20d4"
      }
     },
     "24416d91e9f14a0384ad042b70e16c3d": {
      "model_module": "@jupyter-widgets/base",
      "model_module_version": "1.1.0",
      "model_name": "LayoutModel",
      "state": {}
     },
     "24562a395d134bf7b1b317fdcbddeddd": {
      "model_module": "@jupyter-widgets/controls",
      "model_module_version": "1.4.0",
      "model_name": "TextModel",
      "state": {
       "_dom_classes": [
        "gridcell"
       ],
       "_view_module": "sage-combinat-widgets",
       "_view_module_version": "^0.2.0",
       "_view_name": "TextWithTooltipView",
       "continuous_update": false,
       "description_tooltip": "",
       "layout": "IPY_MODEL_742ce9cb5c1a4d358dd3aef0fa324d55",
       "style": "IPY_MODEL_f259587aa94141edb06370760f655348",
       "value": "10"
      }
     },
     "24691fa72cca4df2a9eab0e183058c1e": {
      "model_module": "@jupyter-widgets/controls",
      "model_module_version": "1.4.0",
      "model_name": "ButtonModel",
      "state": {
       "_dom_classes": [
        "gridbutton",
        "b3"
       ],
       "disabled": true,
       "layout": "IPY_MODEL_196c83a3b43a46dca975be63611b8c09",
       "style": "IPY_MODEL_5a5882d1868343fa8dd60312fbed3d08"
      }
     },
     "246d7f6472584bddb181334b30e5c01d": {
      "model_module": "@jupyter-widgets/controls",
      "model_module_version": "1.4.0",
      "model_name": "ButtonModel",
      "state": {
       "_dom_classes": [
        "gridbutton",
        "b4"
       ],
       "disabled": true,
       "layout": "IPY_MODEL_581cef88be2741a9bde4fcb6422ff1b0",
       "style": "IPY_MODEL_95f63fda99ee4f89a178e650aa6ba723"
      }
     },
     "247c270786b14e8cbb15e82421277893": {
      "model_module": "@jupyter-widgets/controls",
      "model_module_version": "1.4.0",
      "model_name": "ButtonModel",
      "state": {
       "_dom_classes": [
        "gridbutton",
        "b3"
       ],
       "disabled": true,
       "layout": "IPY_MODEL_196c83a3b43a46dca975be63611b8c09",
       "style": "IPY_MODEL_0ea924ec15b94f74a47c349630cbd511"
      }
     },
     "2498b308f81745479079fd910484c171": {
      "model_module": "@jupyter-widgets/base",
      "model_module_version": "1.1.0",
      "model_name": "LayoutModel",
      "state": {}
     },
     "24d3f2d12a70443eac2054e793a5a9ea": {
      "model_module": "@jupyter-widgets/base",
      "model_module_version": "1.1.0",
      "model_name": "LayoutModel",
      "state": {}
     },
     "250f5417a46d49d687e81180fc034958": {
      "model_module": "@jupyter-widgets/controls",
      "model_module_version": "1.4.0",
      "model_name": "ButtonStyleModel",
      "state": {}
     },
     "253d0872dbb14ef988d893a4ad2112d5": {
      "model_module": "@jupyter-widgets/controls",
      "model_module_version": "1.4.0",
      "model_name": "TextModel",
      "state": {
       "_dom_classes": [
        "gridcell"
       ],
       "_view_module": "sage-combinat-widgets",
       "_view_module_version": "^0.2.0",
       "_view_name": "TextWithTooltipView",
       "continuous_update": false,
       "description_tooltip": "",
       "layout": "IPY_MODEL_24198035057f48ca81a6fa9a718c3f55",
       "style": "IPY_MODEL_f10123d1ca254626975c93e834ba20ba",
       "value": "3"
      }
     },
     "254207a1428443679150a5b88dd1c6b3": {
      "model_module": "@jupyter-widgets/base",
      "model_module_version": "1.1.0",
      "model_name": "LayoutModel",
      "state": {}
     },
     "25423fa9cfcc4d3fb585e39c77405b44": {
      "model_module": "@jupyter-widgets/controls",
      "model_module_version": "1.4.0",
      "model_name": "ButtonModel",
      "state": {
       "_dom_classes": [
        "gridbutton",
        "b2"
       ],
       "disabled": true,
       "layout": "IPY_MODEL_d861c29f26634ccfb59b53f634fc937d",
       "style": "IPY_MODEL_defcc1efe9b74ba3b4f35025fc4db0ce"
      }
     },
     "2561431a8c1845caa6c564f3717ec50e": {
      "model_module": "@jupyter-widgets/base",
      "model_module_version": "1.1.0",
      "model_name": "LayoutModel",
      "state": {}
     },
     "2570ef941d0f46db95c9034ca03433b6": {
      "model_module": "@jupyter-widgets/base",
      "model_module_version": "1.1.0",
      "model_name": "LayoutModel",
      "state": {}
     },
     "257b9d3c665b4bb59cdc551b244909f6": {
      "model_module": "@jupyter-widgets/controls",
      "model_module_version": "1.4.0",
      "model_name": "DescriptionStyleModel",
      "state": {
       "description_width": ""
      }
     },
     "2593c0cf20a74a04b111c5e3709c56c7": {
      "model_module": "@jupyter-widgets/controls",
      "model_module_version": "1.4.0",
      "model_name": "DescriptionStyleModel",
      "state": {
       "description_width": ""
      }
     },
     "259cc5f2c8724ef0884b3f68a7e7c205": {
      "model_module": "@jupyter-widgets/controls",
      "model_module_version": "1.4.0",
      "model_name": "ButtonStyleModel",
      "state": {}
     },
     "25c53801292f4752a5b28c13bc5790c4": {
      "model_module": "@jupyter-widgets/controls",
      "model_module_version": "1.4.0",
      "model_name": "TextModel",
      "state": {
       "_dom_classes": [
        "gridcell"
       ],
       "_view_module": "sage-combinat-widgets",
       "_view_module_version": "^0.2.0",
       "_view_name": "TextWithTooltipView",
       "continuous_update": false,
       "description_tooltip": "",
       "layout": "IPY_MODEL_24198035057f48ca81a6fa9a718c3f55",
       "style": "IPY_MODEL_6aedf4c5eded4cd7b0a443e697264ba2",
       "value": "3"
      }
     },
     "25e30390598849eba230b0e1e1f252f4": {
      "model_module": "@jupyter-widgets/controls",
      "model_module_version": "1.4.0",
      "model_name": "DescriptionStyleModel",
      "state": {
       "description_width": ""
      }
     },
     "26051ca1103d4364ad314507ae8078e0": {
      "model_module": "@jupyter-widgets/base",
      "model_module_version": "1.1.0",
      "model_name": "LayoutModel",
      "state": {}
     },
     "26074c52dc754509a6da4f84735ac172": {
      "model_module": "@jupyter-widgets/controls",
      "model_module_version": "1.4.0",
      "model_name": "DescriptionStyleModel",
      "state": {
       "description_width": ""
      }
     },
     "2622ba07fda94aae806a774973b8dfba": {
      "model_module": "@jupyter-widgets/base",
      "model_module_version": "1.1.0",
      "model_name": "LayoutModel",
      "state": {}
     },
     "262595e1368b406d96d97fa5ed82513a": {
      "model_module": "@jupyter-widgets/controls",
      "model_module_version": "1.4.0",
      "model_name": "ButtonStyleModel",
      "state": {}
     },
     "2625c30a1f27499395142d10b7e8040d": {
      "model_module": "@jupyter-widgets/base",
      "model_module_version": "1.1.0",
      "model_name": "LayoutModel",
      "state": {}
     },
     "263b946b66d84b5794d2992ff92a4b74": {
      "model_module": "@jupyter-widgets/controls",
      "model_module_version": "1.4.0",
      "model_name": "ButtonStyleModel",
      "state": {}
     },
     "2677819f3d8543e0917b30a8497dc415": {
      "model_module": "@jupyter-widgets/base",
      "model_module_version": "1.1.0",
      "model_name": "LayoutModel",
      "state": {}
     },
     "268add895c9544c0bb7e6163e0d893b0": {
      "model_module": "@jupyter-widgets/base",
      "model_module_version": "1.1.0",
      "model_name": "LayoutModel",
      "state": {}
     },
     "26983e8b5fd14302af02cc933d3fcc30": {
      "model_module": "@jupyter-widgets/controls",
      "model_module_version": "1.4.0",
      "model_name": "DescriptionStyleModel",
      "state": {
       "description_width": ""
      }
     },
     "26d31438aba4471c9d19292f13b933ba": {
      "model_module": "@jupyter-widgets/controls",
      "model_module_version": "1.4.0",
      "model_name": "HBoxModel",
      "state": {
       "children": [
        "IPY_MODEL_4a83652be10a49c294e68ba96a9641c3",
        "IPY_MODEL_aa59d317e82540bf827e0110cce40a23"
       ],
       "layout": "IPY_MODEL_ce0db741bac942369ccc326e6adeb42b"
      }
     },
     "26d51d7c3e4c4b138a38dd58a1bcefc6": {
      "model_module": "@jupyter-widgets/controls",
      "model_module_version": "1.4.0",
      "model_name": "ButtonStyleModel",
      "state": {}
     },
     "26dfeb3fee32429eb007fc370314510b": {
      "model_module": "@jupyter-widgets/controls",
      "model_module_version": "1.4.0",
      "model_name": "ButtonStyleModel",
      "state": {}
     },
     "26e3d76c636b40c7ac78f1e48babbfaa": {
      "model_module": "@jupyter-widgets/base",
      "model_module_version": "1.1.0",
      "model_name": "LayoutModel",
      "state": {}
     },
     "26e7fb7e901647249d1223e70ed89bd3": {
      "model_module": "@jupyter-widgets/base",
      "model_module_version": "1.1.0",
      "model_name": "LayoutModel",
      "state": {}
     },
     "26ee550000b848c6b446015ef9698926": {
      "model_module": "@jupyter-widgets/controls",
      "model_module_version": "1.4.0",
      "model_name": "ButtonStyleModel",
      "state": {}
     },
     "26f2672f6cad47baa419a27d023b802b": {
      "model_module": "@jupyter-widgets/controls",
      "model_module_version": "1.4.0",
      "model_name": "TextModel",
      "state": {
       "_dom_classes": [
        "blankcell"
       ],
       "disabled": true,
       "layout": "IPY_MODEL_581cef88be2741a9bde4fcb6422ff1b0",
       "style": "IPY_MODEL_ab2e59c8475a4284bb0d26d5b90fe787"
      }
     },
     "27212691eaee4295beed073596ad4162": {
      "model_module": "@jupyter-widgets/controls",
      "model_module_version": "1.4.0",
      "model_name": "ButtonStyleModel",
      "state": {}
     },
     "272ca62dbc7f4da9ac4cb88602af52d5": {
      "model_module": "@jupyter-widgets/controls",
      "model_module_version": "1.4.0",
      "model_name": "ButtonStyleModel",
      "state": {}
     },
     "274e8ffb74de4a3d9ee8d0929008deb5": {
      "model_module": "@jupyter-widgets/base",
      "model_module_version": "1.1.0",
      "model_name": "LayoutModel",
      "state": {}
     },
     "274ec5a2df7f403981def101d9506991": {
      "model_module": "@jupyter-widgets/controls",
      "model_module_version": "1.4.0",
      "model_name": "ToggleButtonModel",
      "state": {
       "_dom_classes": [
        "gridbutton",
        "addablebutton"
       ],
       "description": "+",
       "layout": "IPY_MODEL_742ce9cb5c1a4d358dd3aef0fa324d55",
       "style": "IPY_MODEL_c714327e02194e9fa7631e95843a91a2",
       "tooltip": "Click to add a cell here"
      }
     },
     "274f4b0a708444659186fc939a3ed342": {
      "model_module": "@jupyter-widgets/base",
      "model_module_version": "1.1.0",
      "model_name": "LayoutModel",
      "state": {}
     },
     "277a135b5b8d447e9181a3a3f061e23b": {
      "model_module": "@jupyter-widgets/base",
      "model_module_version": "1.1.0",
      "model_name": "LayoutModel",
      "state": {}
     },
     "27bdc0f7e4884b0983058ffe30fa04aa": {
      "model_module": "@jupyter-widgets/base",
      "model_module_version": "1.1.0",
      "model_name": "LayoutModel",
      "state": {}
     },
     "27c3cef159a3411a87cd865bfcbc992c": {
      "model_module": "@jupyter-widgets/controls",
      "model_module_version": "1.4.0",
      "model_name": "ButtonModel",
      "state": {
       "_dom_classes": [
        "gridbutton",
        "b3"
       ],
       "disabled": true,
       "layout": "IPY_MODEL_581cef88be2741a9bde4fcb6422ff1b0",
       "style": "IPY_MODEL_46e2f91505504fe79ba875a2f2a5cfcd"
      }
     },
     "27c8b619b1954376b72f8d9aa4e74104": {
      "model_module": "@jupyter-widgets/controls",
      "model_module_version": "1.4.0",
      "model_name": "ButtonModel",
      "state": {
       "_dom_classes": [
        "gridbutton",
        "b4"
       ],
       "disabled": true,
       "layout": "IPY_MODEL_d861c29f26634ccfb59b53f634fc937d",
       "style": "IPY_MODEL_380ff3eb0d084322a3aa245ae76557c9"
      }
     },
     "27dea167c9df49bd83183e73c39356a2": {
      "model_module": "@jupyter-widgets/controls",
      "model_module_version": "1.4.0",
      "model_name": "ButtonModel",
      "state": {
       "_dom_classes": [
        "gridbutton",
        "b2"
       ],
       "disabled": true,
       "layout": "IPY_MODEL_d861c29f26634ccfb59b53f634fc937d",
       "style": "IPY_MODEL_7e8427909d3a409aa6c45cf49f3c375a"
      }
     },
     "2828022fa6314b32b7125626f6e68785": {
      "model_module": "@jupyter-widgets/controls",
      "model_module_version": "1.4.0",
      "model_name": "DescriptionStyleModel",
      "state": {
       "description_width": ""
      }
     },
     "283ef2f29c544d849ad047bda1966c16": {
      "model_module": "@jupyter-widgets/controls",
      "model_module_version": "1.4.0",
      "model_name": "ToggleButtonModel",
      "state": {
       "_dom_classes": [
        "gridbutton",
        "addablebutton"
       ],
       "description": "+",
       "layout": "IPY_MODEL_24198035057f48ca81a6fa9a718c3f55",
       "style": "IPY_MODEL_c700d4995aeb4b91915ada9141f8ca54",
       "tooltip": "Click to add a cell here"
      }
     },
     "28415039aa064169ab3b56004c6ded14": {
      "model_module": "@jupyter-widgets/controls",
      "model_module_version": "1.4.0",
      "model_name": "DescriptionStyleModel",
      "state": {
       "description_width": ""
      }
     },
     "2855a40688574a5a9aa93ae1338d9a76": {
      "model_module": "@jupyter-widgets/base",
      "model_module_version": "1.1.0",
      "model_name": "LayoutModel",
      "state": {}
     },
     "285d987e8082485ea6df686d47491bac": {
      "model_module": "@jupyter-widgets/controls",
      "model_module_version": "1.4.0",
      "model_name": "HBoxModel",
      "state": {
       "children": [
        "IPY_MODEL_253d0872dbb14ef988d893a4ad2112d5",
        "IPY_MODEL_92b1a2ac2cba4ddbb1574e1bf5f47028",
        "IPY_MODEL_e6c210bdab534c4ab182574cf96e4c90",
        "IPY_MODEL_b13bdc9d11194f9881dc9c2abc66f4bc",
        "IPY_MODEL_b37fdbbdbc054dde8743f1bd8e6dc0b5"
       ],
       "layout": "IPY_MODEL_061b5c5bce2a4741825fa626fc92fba0"
      }
     },
     "286dd325f6794d8d9df8a77dd3e5a6a8": {
      "model_module": "@jupyter-widgets/controls",
      "model_module_version": "1.4.0",
      "model_name": "ButtonStyleModel",
      "state": {}
     },
     "2888092c978f4a19b2a3bbeb34736adb": {
      "model_module": "@jupyter-widgets/base",
      "model_module_version": "1.1.0",
      "model_name": "LayoutModel",
      "state": {}
     },
     "288fde2584544a58a5b38e432df39f3a": {
      "model_module": "@jupyter-widgets/base",
      "model_module_version": "1.1.0",
      "model_name": "LayoutModel",
      "state": {}
     },
     "289ef3ae7f2549d6a48b8109ebb78c64": {
      "model_module": "@jupyter-widgets/base",
      "model_module_version": "1.1.0",
      "model_name": "LayoutModel",
      "state": {}
     },
     "28aa0b2bf50c478396fb9a75992f6679": {
      "model_module": "@jupyter-widgets/base",
      "model_module_version": "1.1.0",
      "model_name": "LayoutModel",
      "state": {}
     },
     "28bdd4107666454ba5e07e331f5e4640": {
      "model_module": "@jupyter-widgets/controls",
      "model_module_version": "1.4.0",
      "model_name": "VBoxModel",
      "state": {
       "children": [
        "IPY_MODEL_7b70fa6e7ef04ad58d953238e0925eaf"
       ],
       "layout": "IPY_MODEL_174c9adff21c495ca5c891e33c00b12d"
      }
     },
     "28ed0a2a37cf4106954554bbafe0b635": {
      "model_module": "@jupyter-widgets/controls",
      "model_module_version": "1.4.0",
      "model_name": "DescriptionStyleModel",
      "state": {
       "description_width": ""
      }
     },
     "29023c51f68246b0b9847d24cfa77fde": {
      "model_module": "@jupyter-widgets/controls",
      "model_module_version": "1.4.0",
      "model_name": "ButtonStyleModel",
      "state": {}
     },
     "2904f7dbf14b49ffbf583d3b8b337532": {
      "model_module": "@jupyter-widgets/controls",
      "model_module_version": "1.4.0",
      "model_name": "HBoxModel",
      "state": {
       "children": [
        "IPY_MODEL_bf6ba93bf2f34e33b8a37476e6d5eb4a",
        "IPY_MODEL_c1e3939f5cca4027b7a2cdf32cdffa91",
        "IPY_MODEL_db682f758a7d486eb8b481a2f75d7536",
        "IPY_MODEL_9ce42c140851498eb60162e28995cccf",
        "IPY_MODEL_b06f22f6068545d3b80d27aba176da58"
       ],
       "layout": "IPY_MODEL_a053dacbb5474446a9ecba4f3bdedaa0"
      }
     },
     "290beaa1a4484659affdc6e225b8a66f": {
      "model_module": "@jupyter-widgets/controls",
      "model_module_version": "1.4.0",
      "model_name": "ButtonStyleModel",
      "state": {}
     },
     "2942cdf813d64600ab956deee352ba88": {
      "model_module": "@jupyter-widgets/controls",
      "model_module_version": "1.4.0",
      "model_name": "TextModel",
      "state": {
       "_dom_classes": [
        "blankcell"
       ],
       "disabled": true,
       "layout": "IPY_MODEL_196c83a3b43a46dca975be63611b8c09",
       "style": "IPY_MODEL_f88da213c0d548b883b6b69764abe8ec"
      }
     },
     "294a0322816e4d9f8e9829b1e20e16b1": {
      "model_module": "@jupyter-widgets/controls",
      "model_module_version": "1.4.0",
      "model_name": "ButtonStyleModel",
      "state": {}
     },
     "2955861bb4df4fd9b484095ef2370bcc": {
      "model_module": "@jupyter-widgets/controls",
      "model_module_version": "1.4.0",
      "model_name": "TextModel",
      "state": {
       "_dom_classes": [
        "blankcell"
       ],
       "disabled": true,
       "layout": "IPY_MODEL_d861c29f26634ccfb59b53f634fc937d",
       "style": "IPY_MODEL_c6d5934b2501440dad850899ee407ef7"
      }
     },
     "296ec6ff70b64fbab7a4ededea58859c": {
      "model_module": "@jupyter-widgets/controls",
      "model_module_version": "1.4.0",
      "model_name": "DescriptionStyleModel",
      "state": {
       "description_width": ""
      }
     },
     "298ebc2c8a234c1f8488ae1350f5d963": {
      "model_module": "@jupyter-widgets/base",
      "model_module_version": "1.1.0",
      "model_name": "LayoutModel",
      "state": {}
     },
     "299b38176505405b98e9fe9bbd37695f": {
      "model_module": "@jupyter-widgets/controls",
      "model_module_version": "1.4.0",
      "model_name": "HBoxModel",
      "state": {
       "children": [
        "IPY_MODEL_b353a290a06941778f053e17458736b2"
       ],
       "layout": "IPY_MODEL_2ea1990e301449c6877142c465722e0a"
      }
     },
     "299fdad352474ee5bf86aca647ace8ec": {
      "model_module": "@jupyter-widgets/controls",
      "model_module_version": "1.4.0",
      "model_name": "ButtonStyleModel",
      "state": {}
     },
     "29ae2cbb05104c09a7b6094df0820124": {
      "model_module": "@jupyter-widgets/controls",
      "model_module_version": "1.4.0",
      "model_name": "ButtonStyleModel",
      "state": {}
     },
     "29b1ea99ca39413da6ff0ca7f981ee38": {
      "model_module": "@jupyter-widgets/controls",
      "model_module_version": "1.4.0",
      "model_name": "ButtonModel",
      "state": {
       "_dom_classes": [
        "gridbutton",
        "b2"
       ],
       "disabled": true,
       "layout": "IPY_MODEL_581cef88be2741a9bde4fcb6422ff1b0",
       "style": "IPY_MODEL_778021f7b9864f218824c9740b321b18"
      }
     },
     "29f21dcfbca441f4b17bebd49b356a21": {
      "model_module": "@jupyter-widgets/base",
      "model_module_version": "1.1.0",
      "model_name": "LayoutModel",
      "state": {}
     },
     "2a2fb08121af4afe9f8583c5ac9bbc5e": {
      "model_module": "@jupyter-widgets/controls",
      "model_module_version": "1.4.0",
      "model_name": "DescriptionStyleModel",
      "state": {
       "description_width": ""
      }
     },
     "2a67723960754ca78111e95f2626a2f6": {
      "model_module": "@jupyter-widgets/base",
      "model_module_version": "1.1.0",
      "model_name": "LayoutModel",
      "state": {}
     },
     "2a6e3d1ad39841aeb22c0ba1a893742b": {
      "model_module": "@jupyter-widgets/controls",
      "model_module_version": "1.4.0",
      "model_name": "HBoxModel",
      "state": {
       "children": [
        "IPY_MODEL_4dd2193b2ead405abb9c0ddd9f32b2f6",
        "IPY_MODEL_d0be82bdf27445dc9084ba59619e3c72",
        "IPY_MODEL_351bf5b7a0404955bd221145fb61dbd3",
        "IPY_MODEL_054c53df2156427699705514ee873e94",
        "IPY_MODEL_b7e9df7928d540a4a32e26c1dfe1de32",
        "IPY_MODEL_b84efcd92af2485d8960f1f2f3b0fb5c",
        "IPY_MODEL_fc94d2a5602b4210b583f36f13f9c922",
        "IPY_MODEL_e8c985091f7841b9b9b305252d77039b",
        "IPY_MODEL_c6fb20387fbd4a3cb5658120ada09e5f",
        "IPY_MODEL_7edff9c6fc59472e983814ae0548c46f",
        "IPY_MODEL_3a0518a6761a4aac929674945ca9cd76",
        "IPY_MODEL_38ff7dce86674c3da23c6c3111b472d7"
       ],
       "layout": "IPY_MODEL_e90f1ffcf13744b9975a690bf4e03591"
      }
     },
     "2a77aefc1f804d87a8b49f6db88feb72": {
      "model_module": "@jupyter-widgets/base",
      "model_module_version": "1.1.0",
      "model_name": "LayoutModel",
      "state": {}
     },
     "2a7c60bfe6f7458b91cae9ebe3bc9c18": {
      "model_module": "@jupyter-widgets/controls",
      "model_module_version": "1.4.0",
      "model_name": "DescriptionStyleModel",
      "state": {
       "description_width": ""
      }
     },
     "2a8a03494add4e1a8108d14e500f0612": {
      "model_module": "@jupyter-widgets/base",
      "model_module_version": "1.1.0",
      "model_name": "LayoutModel",
      "state": {}
     },
     "2a8a35f3d0254e7899b25fe146d8c536": {
      "model_module": "@jupyter-widgets/base",
      "model_module_version": "1.1.0",
      "model_name": "LayoutModel",
      "state": {}
     },
     "2a8d84337318416a94542d6e74dcee27": {
      "model_module": "@jupyter-widgets/controls",
      "model_module_version": "1.4.0",
      "model_name": "DescriptionStyleModel",
      "state": {
       "description_width": ""
      }
     },
     "2ac96137ecbf4263a43b72513fa689da": {
      "model_module": "@jupyter-widgets/controls",
      "model_module_version": "1.4.0",
      "model_name": "DescriptionStyleModel",
      "state": {
       "description_width": ""
      }
     },
     "2ad9264ec3e84dc893db41ac0ddb468c": {
      "model_module": "@jupyter-widgets/base",
      "model_module_version": "1.1.0",
      "model_name": "LayoutModel",
      "state": {}
     },
     "2b0cc70259584abab6325a2194eccfe7": {
      "model_module": "@jupyter-widgets/controls",
      "model_module_version": "1.4.0",
      "model_name": "DescriptionStyleModel",
      "state": {
       "description_width": ""
      }
     },
     "2b0d8c86dcf64899a8f07486a3cf112e": {
      "model_module": "@jupyter-widgets/controls",
      "model_module_version": "1.4.0",
      "model_name": "HBoxModel",
      "state": {
       "children": [
        "IPY_MODEL_5c7056a6f15d405c9344135696c51533"
       ],
       "layout": "IPY_MODEL_8232eddedf144ceabbc85c41b8e47601"
      }
     },
     "2b5378bd21b140a3baace8abb26baf9d": {
      "model_module": "@jupyter-widgets/controls",
      "model_module_version": "1.4.0",
      "model_name": "ToggleButtonModel",
      "state": {
       "_dom_classes": [
        "gridbutton"
       ],
       "description": "-",
       "layout": "IPY_MODEL_24198035057f48ca81a6fa9a718c3f55",
       "style": "IPY_MODEL_26983e8b5fd14302af02cc933d3fcc30",
       "tooltip": "1, 0"
      }
     },
     "2b558672cb3744978e714a1cc5a3d569": {
      "model_module": "@jupyter-widgets/controls",
      "model_module_version": "1.4.0",
      "model_name": "ButtonModel",
      "state": {
       "_dom_classes": [
        "gridbutton",
        "b4"
       ],
       "disabled": true,
       "layout": "IPY_MODEL_d861c29f26634ccfb59b53f634fc937d",
       "style": "IPY_MODEL_79a70f4fa7024bdba2bb7de07385f605"
      }
     },
     "2b86da39761941cdbfde75080ba5e70f": {
      "model_module": "@jupyter-widgets/base",
      "model_module_version": "1.1.0",
      "model_name": "LayoutModel",
      "state": {}
     },
     "2b9d677f0d2849c887c5c8c95d10e5f4": {
      "model_module": "@jupyter-widgets/controls",
      "model_module_version": "1.4.0",
      "model_name": "ButtonStyleModel",
      "state": {}
     },
     "2bb543a600a946c6a813c040491db6ee": {
      "model_module": "@jupyter-widgets/controls",
      "model_module_version": "1.4.0",
      "model_name": "DescriptionStyleModel",
      "state": {
       "description_width": ""
      }
     },
     "2bd339ba437a4b69b91a2f9b05635cdb": {
      "model_module": "@jupyter-widgets/controls",
      "model_module_version": "1.4.0",
      "model_name": "TextModel",
      "state": {
       "_dom_classes": [
        "blankcell"
       ],
       "disabled": true,
       "layout": "IPY_MODEL_581cef88be2741a9bde4fcb6422ff1b0",
       "style": "IPY_MODEL_2f254f9657e6433b8820b5ad7848d407"
      }
     },
     "2bed47a6aa084d6da59ae2294714ef32": {
      "model_module": "@jupyter-widgets/base",
      "model_module_version": "1.1.0",
      "model_name": "LayoutModel",
      "state": {}
     },
     "2bf1f7c0082546179e4148dff5e92d0b": {
      "model_module": "@jupyter-widgets/controls",
      "model_module_version": "1.4.0",
      "model_name": "DescriptionStyleModel",
      "state": {
       "description_width": ""
      }
     },
     "2bf7172d6f8b42f182b0b639cee7fe10": {
      "model_module": "@jupyter-widgets/base",
      "model_module_version": "1.1.0",
      "model_name": "LayoutModel",
      "state": {}
     },
     "2c26be130dbd4c1f9404e318aeb7e76b": {
      "model_module": "@jupyter-widgets/base",
      "model_module_version": "1.1.0",
      "model_name": "LayoutModel",
      "state": {}
     },
     "2c439c78a8004c7eba96b78355b4b70d": {
      "model_module": "@jupyter-widgets/base",
      "model_module_version": "1.1.0",
      "model_name": "LayoutModel",
      "state": {}
     },
     "2c48099fc26943ee86d3c43c5f89fca0": {
      "model_module": "@jupyter-widgets/controls",
      "model_module_version": "1.4.0",
      "model_name": "TextModel",
      "state": {
       "_dom_classes": [
        "gridcell"
       ],
       "_view_module": "sage-combinat-widgets",
       "_view_module_version": "^0.2.0",
       "_view_name": "TextWithTooltipView",
       "continuous_update": false,
       "description_tooltip": "",
       "layout": "IPY_MODEL_766582b5db4b44c3b9eb63d9400a6c69",
       "style": "IPY_MODEL_8d2466ad25e94a01ba33fca7313f6464",
       "value": "1"
      }
     },
     "2c6c42ae82154db7ab0eacdabf5dc415": {
      "model_module": "@jupyter-widgets/controls",
      "model_module_version": "1.4.0",
      "model_name": "ButtonModel",
      "state": {
       "_dom_classes": [
        "gridbutton",
        "b1"
       ],
       "disabled": true,
       "layout": "IPY_MODEL_196c83a3b43a46dca975be63611b8c09",
       "style": "IPY_MODEL_f2781cc1b26e402c96cfbb945734fc0e"
      }
     },
     "2c8c7c44652f4b7fa3176a9dbd5bb974": {
      "model_module": "@jupyter-widgets/controls",
      "model_module_version": "1.4.0",
      "model_name": "DescriptionStyleModel",
      "state": {
       "description_width": ""
      }
     },
     "2cc66fc2a2e447c28b33d73b27870af6": {
      "model_module": "@jupyter-widgets/base",
      "model_module_version": "1.1.0",
      "model_name": "LayoutModel",
      "state": {}
     },
     "2cc98c89acfa4ed0a3433697c915699b": {
      "model_module": "@jupyter-widgets/controls",
      "model_module_version": "1.4.0",
      "model_name": "DescriptionStyleModel",
      "state": {
       "description_width": ""
      }
     },
     "2cd3e124912c4fa8a770e19c524aa5c1": {
      "model_module": "@jupyter-widgets/base",
      "model_module_version": "1.1.0",
      "model_name": "LayoutModel",
      "state": {}
     },
     "2ce3274b2ae245a696672486eeeebade": {
      "model_module": "@jupyter-widgets/controls",
      "model_module_version": "1.4.0",
      "model_name": "ButtonModel",
      "state": {
       "_dom_classes": [
        "gridbutton",
        "b4"
       ],
       "disabled": true,
       "layout": "IPY_MODEL_581cef88be2741a9bde4fcb6422ff1b0",
       "style": "IPY_MODEL_faa5c6fa867f4625903ce384b6fe4a26"
      }
     },
     "2cf0020ce19044f79d5d555142e14f4e": {
      "model_module": "@jupyter-widgets/base",
      "model_module_version": "1.1.0",
      "model_name": "LayoutModel",
      "state": {}
     },
     "2d20dd2a1ce746dcaf3cfdf5734fc877": {
      "model_module": "@jupyter-widgets/base",
      "model_module_version": "1.1.0",
      "model_name": "LayoutModel",
      "state": {}
     },
     "2d37846b7a5b4134adaf57c060f1ef5c": {
      "model_module": "@jupyter-widgets/base",
      "model_module_version": "1.1.0",
      "model_name": "LayoutModel",
      "state": {}
     },
     "2d3d9ffe85524dae814caf205d2c2c7a": {
      "model_module": "@jupyter-widgets/controls",
      "model_module_version": "1.4.0",
      "model_name": "DescriptionStyleModel",
      "state": {
       "description_width": ""
      }
     },
     "2d63c27b3c7345ffaa6de9ccc9d6fb1a": {
      "model_module": "@jupyter-widgets/controls",
      "model_module_version": "1.4.0",
      "model_name": "TextModel",
      "state": {
       "layout": "IPY_MODEL_c33fc79e7082402cb2788c50cbbb1e2f",
       "style": "IPY_MODEL_90f4efd0ee484597b9944a8ee85ee9a3"
      }
     },
     "2d739de8fa744006845461ee0cf61af1": {
      "model_module": "@jupyter-widgets/controls",
      "model_module_version": "1.4.0",
      "model_name": "ButtonModel",
      "state": {
       "_dom_classes": [
        "gridbutton",
        "b1"
       ],
       "disabled": true,
       "layout": "IPY_MODEL_581cef88be2741a9bde4fcb6422ff1b0",
       "style": "IPY_MODEL_bde20fbc8c1a43fc9d26b9516b9ae223"
      }
     },
     "2d84d1bf339e44b5a49dd7886323a756": {
      "model_module": "@jupyter-widgets/controls",
      "model_module_version": "1.4.0",
      "model_name": "ToggleButtonModel",
      "state": {
       "_dom_classes": [
        "gridbutton",
        "addablebutton"
       ],
       "description": "+",
       "layout": "IPY_MODEL_24198035057f48ca81a6fa9a718c3f55",
       "style": "IPY_MODEL_c0d22c008e55467e938bfb18117b10ec",
       "tooltip": "Click to add a cell here"
      }
     },
     "2d96d9725f0542348e61358bc97900bd": {
      "model_module": "@jupyter-widgets/controls",
      "model_module_version": "1.4.0",
      "model_name": "TextModel",
      "state": {
       "_dom_classes": [
        "blankcell"
       ],
       "disabled": true,
       "layout": "IPY_MODEL_581cef88be2741a9bde4fcb6422ff1b0",
       "style": "IPY_MODEL_e965a2e119c947be9fcc91c74cbad5ca"
      }
     },
     "2db371b126a74304a3cbe779c37f6638": {
      "model_module": "@jupyter-widgets/controls",
      "model_module_version": "1.4.0",
      "model_name": "ButtonModel",
      "state": {
       "_dom_classes": [
        "gridbutton",
        "b3"
       ],
       "disabled": true,
       "layout": "IPY_MODEL_581cef88be2741a9bde4fcb6422ff1b0",
       "style": "IPY_MODEL_840033d2807341b4b537d76a7aaadd82"
      }
     },
     "2db76918ed0443bba48e4f501597c3e6": {
      "model_module": "@jupyter-widgets/controls",
      "model_module_version": "1.4.0",
      "model_name": "TextModel",
      "state": {
       "_dom_classes": [
        "gridcell",
        "addablecell"
       ],
       "_view_module": "sage-combinat-widgets",
       "_view_module_version": "^0.2.0",
       "_view_name": "TextWithTooltipView",
       "continuous_update": false,
       "description_tooltip": "",
       "layout": "IPY_MODEL_ae25d8ee9fe646ebb7fdd668d6ed6cab",
       "style": "IPY_MODEL_26074c52dc754509a6da4f84735ac172"
      }
     },
     "2dc1021d83ec4a9aace95724e30b2f00": {
      "model_module": "@jupyter-widgets/base",
      "model_module_version": "1.1.0",
      "model_name": "LayoutModel",
      "state": {}
     },
     "2dce7d82c3de45c4a07748e07d778082": {
      "model_module": "@jupyter-widgets/controls",
      "model_module_version": "1.4.0",
      "model_name": "ButtonStyleModel",
      "state": {}
     },
     "2df8aedffc574485aded652e1c9637f7": {
      "model_module": "@jupyter-widgets/controls",
      "model_module_version": "1.4.0",
      "model_name": "ButtonModel",
      "state": {
       "_dom_classes": [
        "gridbutton",
        "b3"
       ],
       "disabled": true,
       "layout": "IPY_MODEL_196c83a3b43a46dca975be63611b8c09",
       "style": "IPY_MODEL_023e41c2db0c47b080fa99adb86d7201"
      }
     },
     "2e6700f07e304133ba7d365422eeb613": {
      "model_module": "@jupyter-widgets/base",
      "model_module_version": "1.1.0",
      "model_name": "LayoutModel",
      "state": {}
     },
     "2e6d554c136b4e0aa740401b3eb55f0f": {
      "model_module": "@jupyter-widgets/controls",
      "model_module_version": "1.4.0",
      "model_name": "ButtonStyleModel",
      "state": {}
     },
     "2e798bec82a54eaea8b3e6a89b975378": {
      "model_module": "@jupyter-widgets/base",
      "model_module_version": "1.1.0",
      "model_name": "LayoutModel",
      "state": {}
     },
     "2ea1990e301449c6877142c465722e0a": {
      "model_module": "@jupyter-widgets/base",
      "model_module_version": "1.1.0",
      "model_name": "LayoutModel",
      "state": {}
     },
     "2eac928f045241a4ab3eddae147b97f6": {
      "model_module": "@jupyter-widgets/controls",
      "model_module_version": "1.4.0",
      "model_name": "ButtonModel",
      "state": {
       "_dom_classes": [
        "gridbutton",
        "b3"
       ],
       "disabled": true,
       "layout": "IPY_MODEL_196c83a3b43a46dca975be63611b8c09",
       "style": "IPY_MODEL_8ea26f561eec4ccd85abbfd2736ae61a"
      }
     },
     "2eaf52b1401646219b42db1e0ee1d633": {
      "model_module": "@jupyter-widgets/controls",
      "model_module_version": "1.4.0",
      "model_name": "ButtonStyleModel",
      "state": {}
     },
     "2ebbc418f64546e78c4f56fb6555e04e": {
      "model_module": "@jupyter-widgets/base",
      "model_module_version": "1.1.0",
      "model_name": "LayoutModel",
      "state": {}
     },
     "2edd0e61a65d4ffb97a2099aa0485e12": {
      "model_module": "@jupyter-widgets/controls",
      "model_module_version": "1.4.0",
      "model_name": "TextModel",
      "state": {
       "_dom_classes": [
        "blankcell"
       ],
       "disabled": true,
       "layout": "IPY_MODEL_d861c29f26634ccfb59b53f634fc937d",
       "style": "IPY_MODEL_0d7704324f014d959b12529acb440103"
      }
     },
     "2edf712da7de43438347b9ccb27fc4b3": {
      "model_module": "@jupyter-widgets/controls",
      "model_module_version": "1.4.0",
      "model_name": "DescriptionStyleModel",
      "state": {
       "description_width": ""
      }
     },
     "2f18d15f987b426db62f844c0a385d0e": {
      "model_module": "@jupyter-widgets/controls",
      "model_module_version": "1.4.0",
      "model_name": "ButtonModel",
      "state": {
       "_dom_classes": [
        "gridbutton",
        "b4"
       ],
       "disabled": true,
       "layout": "IPY_MODEL_196c83a3b43a46dca975be63611b8c09",
       "style": "IPY_MODEL_037516e2009c4dd68a7841979abc8993"
      }
     },
     "2f24277766a0462891133824d128f34b": {
      "model_module": "@jupyter-widgets/controls",
      "model_module_version": "1.4.0",
      "model_name": "ButtonModel",
      "state": {
       "_dom_classes": [
        "gridbutton",
        "b2"
       ],
       "disabled": true,
       "layout": "IPY_MODEL_d861c29f26634ccfb59b53f634fc937d",
       "style": "IPY_MODEL_880e6bbf759e44ef96df156dda70d1d4"
      }
     },
     "2f254f9657e6433b8820b5ad7848d407": {
      "model_module": "@jupyter-widgets/controls",
      "model_module_version": "1.4.0",
      "model_name": "DescriptionStyleModel",
      "state": {
       "description_width": ""
      }
     },
     "2f3a78aacb4d458ebc403af39216c122": {
      "model_module": "@jupyter-widgets/controls",
      "model_module_version": "1.4.0",
      "model_name": "TextModel",
      "state": {
       "_dom_classes": [
        "blankcell"
       ],
       "disabled": true,
       "layout": "IPY_MODEL_d861c29f26634ccfb59b53f634fc937d",
       "style": "IPY_MODEL_c34ecc12d8ee4221b079fde23295fc32"
      }
     },
     "2f5dc6fb818644bdbdebbbe7458dc3f7": {
      "model_module": "@jupyter-widgets/base",
      "model_module_version": "1.1.0",
      "model_name": "LayoutModel",
      "state": {}
     },
     "2f6506c082184c598f17897f4c7628d8": {
      "model_module": "@jupyter-widgets/controls",
      "model_module_version": "1.4.0",
      "model_name": "ButtonModel",
      "state": {
       "_dom_classes": [
        "gridbutton",
        "b3"
       ],
       "disabled": true,
       "layout": "IPY_MODEL_581cef88be2741a9bde4fcb6422ff1b0",
       "style": "IPY_MODEL_e883bc922e7542d09935c3c950981884"
      }
     },
     "2f78b6b4583a43ec91b52c44436751a9": {
      "model_module": "@jupyter-widgets/controls",
      "model_module_version": "1.4.0",
      "model_name": "ButtonStyleModel",
      "state": {}
     },
     "2f7a119bc2554986aaa0ffc826a5da4e": {
      "model_module": "@jupyter-widgets/controls",
      "model_module_version": "1.4.0",
      "model_name": "ButtonModel",
      "state": {
       "_dom_classes": [
        "gridbutton",
        "b3"
       ],
       "disabled": true,
       "layout": "IPY_MODEL_581cef88be2741a9bde4fcb6422ff1b0",
       "style": "IPY_MODEL_d15186455daf4a4f94f0ea7836c2017a"
      }
     },
     "2f7e300ec6d54d4fa834ba7fc9bc4091": {
      "model_module": "@jupyter-widgets/controls",
      "model_module_version": "1.4.0",
      "model_name": "DescriptionStyleModel",
      "state": {
       "description_width": ""
      }
     },
     "2f8c8fe1c28f4a4990a652eb1b699624": {
      "model_module": "@jupyter-widgets/controls",
      "model_module_version": "1.4.0",
      "model_name": "TextModel",
      "state": {
       "_dom_classes": [
        "gridcell",
        "removablecell"
       ],
       "_view_module": "sage-combinat-widgets",
       "_view_module_version": "^0.2.0",
       "_view_name": "TextWithTooltipView",
       "continuous_update": false,
       "description_tooltip": "",
       "layout": "IPY_MODEL_ae25d8ee9fe646ebb7fdd668d6ed6cab",
       "style": "IPY_MODEL_3a8d1c44e14c4514875e39b88cc60aaa",
       "value": "12"
      }
     },
     "2f937d4cdcf746cdb78f6de2d811fc1e": {
      "model_module": "@jupyter-widgets/controls",
      "model_module_version": "1.4.0",
      "model_name": "ButtonModel",
      "state": {
       "_dom_classes": [
        "gridbutton",
        "b2"
       ],
       "disabled": true,
       "layout": "IPY_MODEL_196c83a3b43a46dca975be63611b8c09",
       "style": "IPY_MODEL_b9b79147c33a46f490a23a900aa3053e"
      }
     },
     "2fa6225ec13c4f7e96a85ea5f2c38204": {
      "model_module": "@jupyter-widgets/controls",
      "model_module_version": "1.4.0",
      "model_name": "ButtonModel",
      "state": {
       "_dom_classes": [
        "gridbutton",
        "b4"
       ],
       "disabled": true,
       "layout": "IPY_MODEL_581cef88be2741a9bde4fcb6422ff1b0",
       "style": "IPY_MODEL_335268b100bb4c6b879b455dc3aa7b6b"
      }
     },
     "2fb4a4bd99e945619cd554a29e09ff21": {
      "model_module": "@jupyter-widgets/base",
      "model_module_version": "1.1.0",
      "model_name": "LayoutModel",
      "state": {}
     },
     "2fbb01c2ec424d8999b155beb2491bc7": {
      "model_module": "@jupyter-widgets/base",
      "model_module_version": "1.1.0",
      "model_name": "LayoutModel",
      "state": {}
     },
     "2fc324b2c73242599a4e823a3f970bfa": {
      "model_module": "@jupyter-widgets/controls",
      "model_module_version": "1.4.0",
      "model_name": "ButtonModel",
      "state": {
       "_dom_classes": [
        "gridbutton",
        "b1"
       ],
       "disabled": true,
       "layout": "IPY_MODEL_581cef88be2741a9bde4fcb6422ff1b0",
       "style": "IPY_MODEL_3ce8cfea90bb48acbd7d4834e64b80e8"
      }
     },
     "2fe70802bb6349f4a2cf7923ce324537": {
      "model_module": "@jupyter-widgets/controls",
      "model_module_version": "1.4.0",
      "model_name": "TextModel",
      "state": {
       "_dom_classes": [
        "blankcell"
       ],
       "disabled": true,
       "layout": "IPY_MODEL_d861c29f26634ccfb59b53f634fc937d",
       "style": "IPY_MODEL_e23610b9984f4da6b717b8b6a2720462"
      }
     },
     "3046542422834eaeb3e8d88578eb407f": {
      "model_module": "@jupyter-widgets/controls",
      "model_module_version": "1.4.0",
      "model_name": "VBoxModel",
      "state": {
       "children": [
        "IPY_MODEL_0d52564697fb4c29b562b1a3e86f13e5",
        "IPY_MODEL_d86461e14ccc4b85bb02f5aeaef616b9",
        "IPY_MODEL_fc10da01bd1f4078b9dc1d9587975632"
       ],
       "layout": "IPY_MODEL_b31b32370e784c289951decda7a6fc5f"
      }
     },
     "30663e28c1144cf483a352763d1472a4": {
      "model_module": "@jupyter-widgets/base",
      "model_module_version": "1.1.0",
      "model_name": "LayoutModel",
      "state": {}
     },
     "307dbb418cba481699bf67f2b395912a": {
      "model_module": "@jupyter-widgets/controls",
      "model_module_version": "1.4.0",
      "model_name": "HBoxModel",
      "state": {
       "children": [
        "IPY_MODEL_afa0b3b6d6874a0cb0a1fd0ac886cc4a",
        "IPY_MODEL_d6f96437a01449ca9a4039e30eae288e",
        "IPY_MODEL_9ee01f395d1a40bba798813be20fd9bc",
        "IPY_MODEL_778596f4d9a44457aa27c241f017b939",
        "IPY_MODEL_5f9a6694dd3b4c1fa3cf3a8338e32e50",
        "IPY_MODEL_dcd37ac58bd64350b7854560949ad9dd",
        "IPY_MODEL_cdfc4037bb5f4a32bdde912609917278",
        "IPY_MODEL_63a6ea258c934996842744a3e71a9f71",
        "IPY_MODEL_8d80e187e57f4cffb704124ad1499531",
        "IPY_MODEL_437f8a62edaa486d99ca6a1ee5a7fe03",
        "IPY_MODEL_607c2ddbfced4aafbd16358580e2cfc7",
        "IPY_MODEL_c497b0c73481430c8a146a002786ffd4",
        "IPY_MODEL_b7a4211d6dbe47a7bcc1d4ef9c6615fc",
        "IPY_MODEL_02bd35f005e949958f3cad35a06e1e3e"
       ],
       "layout": "IPY_MODEL_b3560af141534003ae71a9234974e5d6"
      }
     },
     "308cbbb6da554c2f877a06f62ca31a3b": {
      "model_module": "@jupyter-widgets/controls",
      "model_module_version": "1.4.0",
      "model_name": "TextModel",
      "state": {
       "_dom_classes": [
        "blankcell"
       ],
       "disabled": true,
       "layout": "IPY_MODEL_196c83a3b43a46dca975be63611b8c09",
       "style": "IPY_MODEL_8e962c9eeec646bcb36ad122ba6574ab"
      }
     },
     "309e4552d1de4bdbb802b77861880abe": {
      "model_module": "@jupyter-widgets/base",
      "model_module_version": "1.1.0",
      "model_name": "LayoutModel",
      "state": {}
     },
     "30b5466b31db4885a1e448ce7d5a764f": {
      "model_module": "@jupyter-widgets/base",
      "model_module_version": "1.1.0",
      "model_name": "LayoutModel",
      "state": {}
     },
     "30bbf380e2f949df81a4d3cb39e2dc7f": {
      "model_module": "@jupyter-widgets/controls",
      "model_module_version": "1.4.0",
      "model_name": "DescriptionStyleModel",
      "state": {
       "description_width": ""
      }
     },
     "30ca2586822d4af693fea386f9209f8c": {
      "model_module": "@jupyter-widgets/controls",
      "model_module_version": "1.4.0",
      "model_name": "DescriptionStyleModel",
      "state": {
       "description_width": ""
      }
     },
     "30e22ee076344feb97a6c199b6d0b982": {
      "model_module": "@jupyter-widgets/base",
      "model_module_version": "1.1.0",
      "model_name": "LayoutModel",
      "state": {}
     },
     "30e7b3f058754869ab4f8e330c1509a6": {
      "model_module": "@jupyter-widgets/controls",
      "model_module_version": "1.4.0",
      "model_name": "DescriptionStyleModel",
      "state": {
       "description_width": ""
      }
     },
     "31018bfabfce4f9e823f13417e655882": {
      "model_module": "@jupyter-widgets/base",
      "model_module_version": "1.1.0",
      "model_name": "LayoutModel",
      "state": {}
     },
     "31248bea238f4ef19406880dd22b24e3": {
      "model_module": "@jupyter-widgets/controls",
      "model_module_version": "1.4.0",
      "model_name": "DescriptionStyleModel",
      "state": {
       "description_width": ""
      }
     },
     "31359fa5a6754a068f9205fcfa883d7b": {
      "model_module": "@jupyter-widgets/base",
      "model_module_version": "1.1.0",
      "model_name": "LayoutModel",
      "state": {}
     },
     "317d39a8893f4af88bfd43033f94af5f": {
      "model_module": "@jupyter-widgets/controls",
      "model_module_version": "1.4.0",
      "model_name": "TextModel",
      "state": {
       "layout": "IPY_MODEL_d645b82017fa4a829088d9954b7473eb",
       "style": "IPY_MODEL_1be1bb9889e549ac85b487bb1fd8a373"
      }
     },
     "3180852e769b4481823a5e2ab66c3d31": {
      "model_module": "@jupyter-widgets/controls",
      "model_module_version": "1.4.0",
      "model_name": "DescriptionStyleModel",
      "state": {
       "description_width": ""
      }
     },
     "3186d04e080e4391ba3dbe8f959d52b2": {
      "model_module": "@jupyter-widgets/base",
      "model_module_version": "1.1.0",
      "model_name": "LayoutModel",
      "state": {}
     },
     "318c02bbbb944e81a17d6fdd761fa55c": {
      "model_module": "@jupyter-widgets/controls",
      "model_module_version": "1.4.0",
      "model_name": "ButtonStyleModel",
      "state": {}
     },
     "31a1a998759d42dca717fbfbf5d1f6e5": {
      "model_module": "@jupyter-widgets/controls",
      "model_module_version": "1.4.0",
      "model_name": "ButtonModel",
      "state": {
       "_dom_classes": [
        "gridbutton",
        "b1"
       ],
       "disabled": true,
       "layout": "IPY_MODEL_196c83a3b43a46dca975be63611b8c09",
       "style": "IPY_MODEL_c61af323afab400a8a0cf935bf2f74e9"
      }
     },
     "31a66942b1f04b14a63876c2d3649665": {
      "model_module": "@jupyter-widgets/base",
      "model_module_version": "1.1.0",
      "model_name": "LayoutModel",
      "state": {}
     },
     "31e5a20f875a4e98be7e62bba413bd46": {
      "model_module": "@jupyter-widgets/controls",
      "model_module_version": "1.4.0",
      "model_name": "DescriptionStyleModel",
      "state": {
       "description_width": ""
      }
     },
     "31fdb2157f214bea85fceebbbb945313": {
      "model_module": "@jupyter-widgets/base",
      "model_module_version": "1.1.0",
      "model_name": "LayoutModel",
      "state": {}
     },
     "31febd8dafce4fd884b8ee536b8562b4": {
      "model_module": "@jupyter-widgets/controls",
      "model_module_version": "1.4.0",
      "model_name": "ButtonStyleModel",
      "state": {}
     },
     "32047a77fac54903ac74ca88f8a6eca1": {
      "model_module": "@jupyter-widgets/base",
      "model_module_version": "1.1.0",
      "model_name": "LayoutModel",
      "state": {}
     },
     "3219a8e996fa4fe7ae2d7d59e286a8f5": {
      "model_module": "@jupyter-widgets/controls",
      "model_module_version": "1.4.0",
      "model_name": "ButtonStyleModel",
      "state": {}
     },
     "321a7cac055346bba6b9784c6bcd02b1": {
      "model_module": "@jupyter-widgets/controls",
      "model_module_version": "1.4.0",
      "model_name": "DescriptionStyleModel",
      "state": {
       "description_width": ""
      }
     },
     "32259e6e51664754a16ac858d1dbe5d3": {
      "model_module": "@jupyter-widgets/base",
      "model_module_version": "1.1.0",
      "model_name": "LayoutModel",
      "state": {}
     },
     "322e2b353cca477cad49fa0ff80d30c6": {
      "model_module": "@jupyter-widgets/base",
      "model_module_version": "1.1.0",
      "model_name": "LayoutModel",
      "state": {}
     },
     "322f0bd442754bb2af3f36b6d5b862b8": {
      "model_module": "@jupyter-widgets/base",
      "model_module_version": "1.1.0",
      "model_name": "LayoutModel",
      "state": {}
     },
     "32785440c9fd4d079692fcead3e84a12": {
      "model_module": "@jupyter-widgets/controls",
      "model_module_version": "1.4.0",
      "model_name": "ButtonStyleModel",
      "state": {}
     },
     "32860c3c0d914db88348172456fa5fce": {
      "model_module": "@jupyter-widgets/controls",
      "model_module_version": "1.4.0",
      "model_name": "ToggleButtonModel",
      "state": {
       "_dom_classes": [
        "gridbutton"
       ],
       "description": "-",
       "layout": "IPY_MODEL_24198035057f48ca81a6fa9a718c3f55",
       "style": "IPY_MODEL_8361dafc68e24eb694abdc5427f44c2d",
       "tooltip": "0, 2"
      }
     },
     "32ba2445072640a88374c5aa3096c77b": {
      "model_module": "@jupyter-widgets/controls",
      "model_module_version": "1.4.0",
      "model_name": "DescriptionStyleModel",
      "state": {
       "description_width": ""
      }
     },
     "32bf9e2cb44f4fe9bc2379d737b15c30": {
      "model_module": "@jupyter-widgets/base",
      "model_module_version": "1.1.0",
      "model_name": "LayoutModel",
      "state": {}
     },
     "32d697dd9824406b9adc3685cf8c5f8e": {
      "model_module": "@jupyter-widgets/controls",
      "model_module_version": "1.4.0",
      "model_name": "ButtonModel",
      "state": {
       "_dom_classes": [
        "gridbutton",
        "b2"
       ],
       "disabled": true,
       "layout": "IPY_MODEL_196c83a3b43a46dca975be63611b8c09",
       "style": "IPY_MODEL_cbc05896fad441eea5964b06f77d3093"
      }
     },
     "32e20d41d5e34fff84ca90533486d122": {
      "model_module": "@jupyter-widgets/controls",
      "model_module_version": "1.4.0",
      "model_name": "DescriptionStyleModel",
      "state": {
       "description_width": ""
      }
     },
     "32f76b3c8a4e41d2ae9ff186e8343bd6": {
      "model_module": "@jupyter-widgets/controls",
      "model_module_version": "1.4.0",
      "model_name": "ButtonModel",
      "state": {
       "_dom_classes": [
        "gridbutton",
        "b2"
       ],
       "disabled": true,
       "layout": "IPY_MODEL_d861c29f26634ccfb59b53f634fc937d",
       "style": "IPY_MODEL_fd3d7a6b407c45cebc0d2f0e9f9d6e18"
      }
     },
     "3309a62a2a7b4bf098bedf3a2c88b2f2": {
      "model_module": "@jupyter-widgets/controls",
      "model_module_version": "1.4.0",
      "model_name": "HBoxModel",
      "state": {
       "children": [
        "IPY_MODEL_f478709977d2422c89a9a6bb9039a92b",
        "IPY_MODEL_b461453a99b9458088129a195c3d9917",
        "IPY_MODEL_57a5d1df36984f95b8ab2674227793e7",
        "IPY_MODEL_4a48c676ac1c4d99987a1a78e4bc060d"
       ],
       "layout": "IPY_MODEL_73a90175f4764355b4635a67786c26db"
      }
     },
     "33118a3b88764c939bb7671117501274": {
      "model_module": "@jupyter-widgets/controls",
      "model_module_version": "1.4.0",
      "model_name": "TextModel",
      "state": {
       "_dom_classes": [
        "blankcell"
       ],
       "disabled": true,
       "layout": "IPY_MODEL_581cef88be2741a9bde4fcb6422ff1b0",
       "style": "IPY_MODEL_04e07d3dbbf64d0896fdf4b1a85efe10"
      }
     },
     "3351b0fc0bbe470e955d0909be0e79d5": {
      "model_module": "@jupyter-widgets/base",
      "model_module_version": "1.1.0",
      "model_name": "LayoutModel",
      "state": {}
     },
     "335268b100bb4c6b879b455dc3aa7b6b": {
      "model_module": "@jupyter-widgets/controls",
      "model_module_version": "1.4.0",
      "model_name": "ButtonStyleModel",
      "state": {}
     },
     "336bd4f40aa4494d9c2af4343bc3f843": {
      "model_module": "@jupyter-widgets/controls",
      "model_module_version": "1.4.0",
      "model_name": "ButtonStyleModel",
      "state": {}
     },
     "337bb10ac0f3410b8d7bf8cdb176e6eb": {
      "model_module": "@jupyter-widgets/controls",
      "model_module_version": "1.4.0",
      "model_name": "ButtonStyleModel",
      "state": {}
     },
     "33809dfff1654ea5aee3fe5fc72036bb": {
      "model_module": "@jupyter-widgets/controls",
      "model_module_version": "1.4.0",
      "model_name": "ButtonModel",
      "state": {
       "_dom_classes": [
        "gridbutton",
        "b4"
       ],
       "disabled": true,
       "layout": "IPY_MODEL_d861c29f26634ccfb59b53f634fc937d",
       "style": "IPY_MODEL_36e47340480d472186724476f39c6edd"
      }
     },
     "3384058bfa2b4442a329b21c4ab44410": {
      "model_module": "@jupyter-widgets/base",
      "model_module_version": "1.1.0",
      "model_name": "LayoutModel",
      "state": {}
     },
     "33848339c24f42b58ea8695db71f99e8": {
      "model_module": "@jupyter-widgets/base",
      "model_module_version": "1.1.0",
      "model_name": "LayoutModel",
      "state": {}
     },
     "33867993a40449dfb31a314bde0f87b0": {
      "model_module": "@jupyter-widgets/controls",
      "model_module_version": "1.4.0",
      "model_name": "DescriptionStyleModel",
      "state": {
       "description_width": ""
      }
     },
     "3390dc4c94ad4790800820bd69356ee8": {
      "model_module": "@jupyter-widgets/base",
      "model_module_version": "1.1.0",
      "model_name": "LayoutModel",
      "state": {}
     },
     "33b877a61d5d44c6821dea3cb5bc4ba2": {
      "model_module": "@jupyter-widgets/controls",
      "model_module_version": "1.4.0",
      "model_name": "ToggleButtonModel",
      "state": {
       "_dom_classes": [
        "gridbutton"
       ],
       "description": "-",
       "layout": "IPY_MODEL_ae25d8ee9fe646ebb7fdd668d6ed6cab",
       "style": "IPY_MODEL_13b086699c0647279c67704b2b8297e2",
       "tooltip": "1, 0"
      }
     },
     "33d9bfe6369a470c8a6c722ba0aac4c8": {
      "model_module": "@jupyter-widgets/controls",
      "model_module_version": "1.4.0",
      "model_name": "DescriptionStyleModel",
      "state": {
       "description_width": ""
      }
     },
     "33ea6cfddd094eedb4bedba38f895547": {
      "model_module": "@jupyter-widgets/controls",
      "model_module_version": "1.4.0",
      "model_name": "ButtonModel",
      "state": {
       "_dom_classes": [
        "gridbutton",
        "b4"
       ],
       "disabled": true,
       "layout": "IPY_MODEL_581cef88be2741a9bde4fcb6422ff1b0",
       "style": "IPY_MODEL_52ebee3f812041bdb235d1f33a630ad2"
      }
     },
     "340e92a376844438813f6ed5c0f49c91": {
      "model_module": "@jupyter-widgets/controls",
      "model_module_version": "1.4.0",
      "model_name": "ButtonModel",
      "state": {
       "_dom_classes": [
        "gridbutton",
        "b4"
       ],
       "disabled": true,
       "layout": "IPY_MODEL_581cef88be2741a9bde4fcb6422ff1b0",
       "style": "IPY_MODEL_b4885b1322e94ca2af9c2ae528e70c7c"
      }
     },
     "341b1ddacb1047f6b856fe1b981767af": {
      "model_module": "@jupyter-widgets/base",
      "model_module_version": "1.1.0",
      "model_name": "LayoutModel",
      "state": {}
     },
     "3430cba0a78b4f24ae518c65e7a13802": {
      "model_module": "@jupyter-widgets/controls",
      "model_module_version": "1.4.0",
      "model_name": "TextModel",
      "state": {
       "_dom_classes": [
        "gridcell",
        "addablecell"
       ],
       "_view_module": "sage-combinat-widgets",
       "_view_module_version": "^0.2.0",
       "_view_name": "TextWithTooltipView",
       "continuous_update": false,
       "description_tooltip": "",
       "layout": "IPY_MODEL_742ce9cb5c1a4d358dd3aef0fa324d55",
       "style": "IPY_MODEL_39546aef23754c838e99318a96d544a5"
      }
     },
     "34573e4af9594c49acb3f41306544690": {
      "model_module": "@jupyter-widgets/controls",
      "model_module_version": "1.4.0",
      "model_name": "ButtonStyleModel",
      "state": {}
     },
     "3458b91d1c52427fbc475c732679b734": {
      "model_module": "@jupyter-widgets/controls",
      "model_module_version": "1.4.0",
      "model_name": "DescriptionStyleModel",
      "state": {
       "description_width": ""
      }
     },
     "3465d10abc2245a79d5697a087f1a21e": {
      "model_module": "@jupyter-widgets/controls",
      "model_module_version": "1.4.0",
      "model_name": "TextModel",
      "state": {
       "_dom_classes": [
        "gridcell",
        "addablecell"
       ],
       "_view_module": "sage-combinat-widgets",
       "_view_module_version": "^0.2.0",
       "_view_name": "TextWithTooltipView",
       "continuous_update": false,
       "description_tooltip": "",
       "layout": "IPY_MODEL_742ce9cb5c1a4d358dd3aef0fa324d55",
       "style": "IPY_MODEL_a8a23f3d37494f2b87b5569f15223218"
      }
     },
     "34a48fa6407f49a48916265982b0b1e9": {
      "model_module": "@jupyter-widgets/base",
      "model_module_version": "1.1.0",
      "model_name": "LayoutModel",
      "state": {}
     },
     "34b9ec74a89641c1aab824ee20fd6c21": {
      "model_module": "@jupyter-widgets/base",
      "model_module_version": "1.1.0",
      "model_name": "LayoutModel",
      "state": {}
     },
     "34ccd18d2b3a45ee98a59fd1da9d7302": {
      "model_module": "@jupyter-widgets/controls",
      "model_module_version": "1.4.0",
      "model_name": "TextModel",
      "state": {
       "_dom_classes": [
        "blankcell"
       ],
       "disabled": true,
       "layout": "IPY_MODEL_d861c29f26634ccfb59b53f634fc937d",
       "style": "IPY_MODEL_e275c021cf2a4fbfb9941e3eca86f169"
      }
     },
     "34e6d77178ae4893a85e959d7936031d": {
      "model_module": "@jupyter-widgets/controls",
      "model_module_version": "1.4.0",
      "model_name": "ButtonStyleModel",
      "state": {}
     },
     "351bf5b7a0404955bd221145fb61dbd3": {
      "model_module": "@jupyter-widgets/controls",
      "model_module_version": "1.4.0",
      "model_name": "TextModel",
      "state": {
       "_dom_classes": [
        "blankcell"
       ],
       "disabled": true,
       "layout": "IPY_MODEL_581cef88be2741a9bde4fcb6422ff1b0",
       "style": "IPY_MODEL_ca4264d82492491198ea9882df6027ca"
      }
     },
     "351c8947a3b04854831332b1ac9f20d6": {
      "model_module": "@jupyter-widgets/controls",
      "model_module_version": "1.4.0",
      "model_name": "DescriptionStyleModel",
      "state": {
       "description_width": ""
      }
     },
     "35259d66151643b4b44f4b88d0cce58d": {
      "model_module": "@jupyter-widgets/controls",
      "model_module_version": "1.4.0",
      "model_name": "ToggleButtonModel",
      "state": {
       "_dom_classes": [
        "gridbutton"
       ],
       "layout": "IPY_MODEL_742ce9cb5c1a4d358dd3aef0fa324d55",
       "style": "IPY_MODEL_32e20d41d5e34fff84ca90533486d122",
       "tooltip": "0, 0"
      }
     },
     "353133922cc24a2bb5011e5f31c367a5": {
      "model_module": "@jupyter-widgets/controls",
      "model_module_version": "1.4.0",
      "model_name": "ToggleButtonModel",
      "state": {
       "_dom_classes": [
        "gridbutton"
       ],
       "layout": "IPY_MODEL_742ce9cb5c1a4d358dd3aef0fa324d55",
       "style": "IPY_MODEL_6b30ba432a7a4d7cb7e0d582f6b87190",
       "tooltip": "0, 0"
      }
     },
     "353397e396ce4feba03d52e496be556c": {
      "model_module": "@jupyter-widgets/base",
      "model_module_version": "1.1.0",
      "model_name": "LayoutModel",
      "state": {}
     },
     "3563cbaca40f4b358b9747338a4ce964": {
      "model_module": "@jupyter-widgets/base",
      "model_module_version": "1.1.0",
      "model_name": "LayoutModel",
      "state": {}
     },
     "3585f921c67343509e8213751bc8585d": {
      "model_module": "@jupyter-widgets/base",
      "model_module_version": "1.1.0",
      "model_name": "LayoutModel",
      "state": {}
     },
     "358da485524a4d8ab172cd63d85b06c8": {
      "model_module": "@jupyter-widgets/base",
      "model_module_version": "1.1.0",
      "model_name": "LayoutModel",
      "state": {}
     },
     "35a7cc05406a4be78c01a2e304f4db67": {
      "model_module": "@jupyter-widgets/controls",
      "model_module_version": "1.4.0",
      "model_name": "ButtonStyleModel",
      "state": {}
     },
     "35ed0bfccefc4a5cb4c0feb870eca014": {
      "model_module": "@jupyter-widgets/base",
      "model_module_version": "1.1.0",
      "model_name": "LayoutModel",
      "state": {}
     },
     "3625da201d464634aeb5a1c75a3fc538": {
      "model_module": "@jupyter-widgets/controls",
      "model_module_version": "1.4.0",
      "model_name": "ButtonStyleModel",
      "state": {}
     },
     "362c9dbac04a4923a24b6aa9a6cb57cf": {
      "model_module": "@jupyter-widgets/base",
      "model_module_version": "1.1.0",
      "model_name": "LayoutModel",
      "state": {}
     },
     "3636282df5fd475286aea6204519a027": {
      "model_module": "@jupyter-widgets/controls",
      "model_module_version": "1.4.0",
      "model_name": "DescriptionStyleModel",
      "state": {
       "description_width": ""
      }
     },
     "363ed1de9ed94af892378bd91396f39d": {
      "model_module": "@jupyter-widgets/controls",
      "model_module_version": "1.4.0",
      "model_name": "ButtonStyleModel",
      "state": {}
     },
     "364d6f74549547a68c4364b1faa3a443": {
      "model_module": "@jupyter-widgets/controls",
      "model_module_version": "1.4.0",
      "model_name": "ToggleButtonModel",
      "state": {
       "_dom_classes": [
        "gridbutton",
        "addablebutton"
       ],
       "description": "+",
       "layout": "IPY_MODEL_742ce9cb5c1a4d358dd3aef0fa324d55",
       "style": "IPY_MODEL_ee751fef21074a158c4fe7e1ed4fb86b",
       "tooltip": "Click to add a cell here"
      }
     },
     "36d14454eda04108a75fe5f9589be0b6": {
      "model_module": "@jupyter-widgets/controls",
      "model_module_version": "1.4.0",
      "model_name": "TextModel",
      "state": {
       "_dom_classes": [
        "gridcell"
       ],
       "_view_module": "sage-combinat-widgets",
       "_view_module_version": "^0.2.0",
       "_view_name": "TextWithTooltipView",
       "continuous_update": false,
       "description_tooltip": "",
       "layout": "IPY_MODEL_766582b5db4b44c3b9eb63d9400a6c69",
       "style": "IPY_MODEL_7a5f492d574b4fe28f08758c561c4745",
       "value": "2"
      }
     },
     "36e47340480d472186724476f39c6edd": {
      "model_module": "@jupyter-widgets/controls",
      "model_module_version": "1.4.0",
      "model_name": "ButtonStyleModel",
      "state": {}
     },
     "36e774c59aca4e5bbac5bab909b4d106": {
      "model_module": "@jupyter-widgets/base",
      "model_module_version": "1.1.0",
      "model_name": "LayoutModel",
      "state": {}
     },
     "3712967350004097bc322748ce80ad63": {
      "model_module": "@jupyter-widgets/controls",
      "model_module_version": "1.4.0",
      "model_name": "DescriptionStyleModel",
      "state": {
       "description_width": ""
      }
     },
     "37169663a25e4f74afe1e0172490e900": {
      "model_module": "@jupyter-widgets/controls",
      "model_module_version": "1.4.0",
      "model_name": "ButtonStyleModel",
      "state": {}
     },
     "3729a252540a463da832c376ab7033b5": {
      "model_module": "@jupyter-widgets/controls",
      "model_module_version": "1.4.0",
      "model_name": "DescriptionStyleModel",
      "state": {
       "description_width": ""
      }
     },
     "37471cb9ef7345eca4b4eae7ab79160d": {
      "model_module": "@jupyter-widgets/controls",
      "model_module_version": "1.4.0",
      "model_name": "ToggleButtonModel",
      "state": {
       "_dom_classes": [
        "gridbutton"
       ],
       "description": "-",
       "layout": "IPY_MODEL_742ce9cb5c1a4d358dd3aef0fa324d55",
       "style": "IPY_MODEL_072cc332fa524889b37a47d2f26c81b2",
       "tooltip": "0, 1"
      }
     },
     "374b295cdc6d480cbfed1b8803cf9b19": {
      "model_module": "@jupyter-widgets/controls",
      "model_module_version": "1.4.0",
      "model_name": "ButtonStyleModel",
      "state": {}
     },
     "377b413fff834cfeb8c4339c798c9405": {
      "model_module": "@jupyter-widgets/base",
      "model_module_version": "1.1.0",
      "model_name": "LayoutModel",
      "state": {}
     },
     "379119211fe84db7a3e0f347b63b44e0": {
      "model_module": "@jupyter-widgets/controls",
      "model_module_version": "1.4.0",
      "model_name": "TextModel",
      "state": {
       "_dom_classes": [
        "blankcell"
       ],
       "disabled": true,
       "layout": "IPY_MODEL_581cef88be2741a9bde4fcb6422ff1b0",
       "style": "IPY_MODEL_addef79540334dd4a41b99a857e56ab0"
      }
     },
     "37a4cd8d6d3b42ba943b0ac278f40091": {
      "model_module": "@jupyter-widgets/base",
      "model_module_version": "1.1.0",
      "model_name": "LayoutModel",
      "state": {}
     },
     "37a6bd3ce6a246b0b8739a037201a20d": {
      "model_module": "@jupyter-widgets/base",
      "model_module_version": "1.1.0",
      "model_name": "LayoutModel",
      "state": {}
     },
     "37c36998eee549228d6ecbe48fb39393": {
      "model_module": "@jupyter-widgets/base",
      "model_module_version": "1.1.0",
      "model_name": "LayoutModel",
      "state": {}
     },
     "37f0ca2a5f9c45cf951006aeff755757": {
      "model_module": "@jupyter-widgets/base",
      "model_module_version": "1.1.0",
      "model_name": "LayoutModel",
      "state": {}
     },
     "380ff3eb0d084322a3aa245ae76557c9": {
      "model_module": "@jupyter-widgets/controls",
      "model_module_version": "1.4.0",
      "model_name": "ButtonStyleModel",
      "state": {}
     },
     "384a2bbc5b1e4a87817d7a492a17e5fd": {
      "model_module": "@jupyter-widgets/base",
      "model_module_version": "1.1.0",
      "model_name": "LayoutModel",
      "state": {}
     },
     "385dbf5250f44b2dbcc3c76236966e62": {
      "model_module": "@jupyter-widgets/controls",
      "model_module_version": "1.4.0",
      "model_name": "DescriptionStyleModel",
      "state": {
       "description_width": ""
      }
     },
     "385e42a0df5f45388def71659c127eb8": {
      "model_module": "@jupyter-widgets/controls",
      "model_module_version": "1.4.0",
      "model_name": "TextModel",
      "state": {
       "_dom_classes": [
        "gridcell"
       ],
       "_view_module": "sage-combinat-widgets",
       "_view_module_version": "^0.2.0",
       "_view_name": "TextWithTooltipView",
       "continuous_update": false,
       "description_tooltip": "",
       "layout": "IPY_MODEL_742ce9cb5c1a4d358dd3aef0fa324d55",
       "style": "IPY_MODEL_f2110cfb9b32449d824dbf8aba33cd23",
       "value": "1"
      }
     },
     "3863b88d994843b48831a1d86ef17b82": {
      "model_module": "@jupyter-widgets/controls",
      "model_module_version": "1.4.0",
      "model_name": "HBoxModel",
      "state": {
       "children": [
        "IPY_MODEL_b2504847f62a41b49cf0342143126a99",
        "IPY_MODEL_587d396f234843529bcf3ade2146e869",
        "IPY_MODEL_6f15055688e744fdb2bdc41d50cfda61",
        "IPY_MODEL_34ccd18d2b3a45ee98a59fd1da9d7302",
        "IPY_MODEL_3f3160f3ad5c4d28a21fe55303eb6ab9",
        "IPY_MODEL_c635566efeaa4d0a9c1026622c20dd4c",
        "IPY_MODEL_f83e003ba30048c1a3ca986bd0cce3fc",
        "IPY_MODEL_044181accf9c4f0790ca41b7e998dbb6",
        "IPY_MODEL_a682ea60f15a4e0cacf5ebaa42163d0b"
       ],
       "layout": "IPY_MODEL_4897365cb4364b9abe282bf0f6a4f82c"
      }
     },
     "3867113669da42df913c285073366c04": {
      "model_module": "@jupyter-widgets/base",
      "model_module_version": "1.1.0",
      "model_name": "LayoutModel",
      "state": {}
     },
     "3873d87d82e2420598ba6d3252d8e335": {
      "model_module": "@jupyter-widgets/controls",
      "model_module_version": "1.4.0",
      "model_name": "ButtonStyleModel",
      "state": {}
     },
     "38c141ec7ded4f149dd4a5d6ec1729bc": {
      "model_module": "@jupyter-widgets/base",
      "model_module_version": "1.1.0",
      "model_name": "LayoutModel",
      "state": {}
     },
     "38c8b666ec204ef4b54971c59cfebb34": {
      "model_module": "@jupyter-widgets/controls",
      "model_module_version": "1.4.0",
      "model_name": "ButtonModel",
      "state": {
       "_dom_classes": [
        "gridbutton",
        "b4"
       ],
       "disabled": true,
       "layout": "IPY_MODEL_581cef88be2741a9bde4fcb6422ff1b0",
       "style": "IPY_MODEL_4dd77625580b46df8ea2a9cfaf9e77b0"
      }
     },
     "38cc7bf4413d4693a443191b65c0f67d": {
      "model_module": "@jupyter-widgets/controls",
      "model_module_version": "1.4.0",
      "model_name": "ButtonStyleModel",
      "state": {}
     },
     "38ff7dce86674c3da23c6c3111b472d7": {
      "model_module": "@jupyter-widgets/controls",
      "model_module_version": "1.4.0",
      "model_name": "ButtonModel",
      "state": {
       "_dom_classes": [
        "gridbutton",
        "b2"
       ],
       "disabled": true,
       "layout": "IPY_MODEL_581cef88be2741a9bde4fcb6422ff1b0",
       "style": "IPY_MODEL_f870801240564e6496400b27a20d99c7"
      }
     },
     "3909d28b0389477fa99eca1f5997449b": {
      "model_module": "@jupyter-widgets/base",
      "model_module_version": "1.1.0",
      "model_name": "LayoutModel",
      "state": {}
     },
     "390a47c92ce249d0b5f1e9d4cdebc082": {
      "model_module": "@jupyter-widgets/base",
      "model_module_version": "1.1.0",
      "model_name": "LayoutModel",
      "state": {}
     },
     "39198310a6cc4c079b73ba5666d8fe77": {
      "model_module": "@jupyter-widgets/controls",
      "model_module_version": "1.4.0",
      "model_name": "ToggleButtonModel",
      "state": {
       "_dom_classes": [
        "gridbutton"
       ],
       "layout": "IPY_MODEL_24198035057f48ca81a6fa9a718c3f55",
       "style": "IPY_MODEL_7a92bea20fea4d8aa959c7284e763204",
       "tooltip": "0, 5"
      }
     },
     "392273dfd80f4b398e516a52504be2f7": {
      "model_module": "@jupyter-widgets/controls",
      "model_module_version": "1.4.0",
      "model_name": "ButtonModel",
      "state": {
       "_dom_classes": [
        "gridbutton",
        "b3"
       ],
       "disabled": true,
       "layout": "IPY_MODEL_196c83a3b43a46dca975be63611b8c09",
       "style": "IPY_MODEL_a98bfc72725a45fabacd31dd1aad89d1"
      }
     },
     "392c042c492c4b5092d54a716093c34a": {
      "model_module": "@jupyter-widgets/base",
      "model_module_version": "1.1.0",
      "model_name": "LayoutModel",
      "state": {}
     },
     "39347766de3040b795a4b5514ef4b16d": {
      "model_module": "@jupyter-widgets/controls",
      "model_module_version": "1.4.0",
      "model_name": "ButtonModel",
      "state": {
       "_dom_classes": [
        "gridbutton",
        "b2"
       ],
       "disabled": true,
       "layout": "IPY_MODEL_d861c29f26634ccfb59b53f634fc937d",
       "style": "IPY_MODEL_ae8e0f6da53f44d697f3411b3d4e4424"
      }
     },
     "39422767d6ef4684a92374291cdbbf6e": {
      "model_module": "@jupyter-widgets/controls",
      "model_module_version": "1.4.0",
      "model_name": "TextModel",
      "state": {
       "_dom_classes": [
        "blankcell"
       ],
       "disabled": true,
       "layout": "IPY_MODEL_196c83a3b43a46dca975be63611b8c09",
       "style": "IPY_MODEL_7db3752a3efd4f28995f1340272219d6"
      }
     },
     "3950d50d4a444a88a72085ff27a45467": {
      "model_module": "@jupyter-widgets/controls",
      "model_module_version": "1.4.0",
      "model_name": "ButtonStyleModel",
      "state": {}
     },
     "39546aef23754c838e99318a96d544a5": {
      "model_module": "@jupyter-widgets/controls",
      "model_module_version": "1.4.0",
      "model_name": "DescriptionStyleModel",
      "state": {
       "description_width": ""
      }
     },
     "3958c8ce266f427fa3966f9744eccbc9": {
      "model_module": "@jupyter-widgets/base",
      "model_module_version": "1.1.0",
      "model_name": "LayoutModel",
      "state": {}
     },
     "39739681010c4101b8024c210fe7466d": {
      "model_module": "@jupyter-widgets/base",
      "model_module_version": "1.1.0",
      "model_name": "LayoutModel",
      "state": {}
     },
     "3974408ee50f4ee9aa04ce363a8e95f5": {
      "model_module": "@jupyter-widgets/base",
      "model_module_version": "1.1.0",
      "model_name": "LayoutModel",
      "state": {}
     },
     "397c202081b04b7a91bd641bedc90161": {
      "model_module": "@jupyter-widgets/base",
      "model_module_version": "1.1.0",
      "model_name": "LayoutModel",
      "state": {}
     },
     "39aa428e4d904bb0a8e64d03e92b3212": {
      "model_module": "@jupyter-widgets/base",
      "model_module_version": "1.1.0",
      "model_name": "LayoutModel",
      "state": {}
     },
     "39b98da8e0424ed5bec516fdc4d8c216": {
      "model_module": "@jupyter-widgets/base",
      "model_module_version": "1.1.0",
      "model_name": "LayoutModel",
      "state": {}
     },
     "39d086b9019b444080b3500b7c1d5be9": {
      "model_module": "@jupyter-widgets/base",
      "model_module_version": "1.1.0",
      "model_name": "LayoutModel",
      "state": {}
     },
     "39d2f74920cc4861afed4aac2048675f": {
      "model_module": "@jupyter-widgets/controls",
      "model_module_version": "1.4.0",
      "model_name": "ButtonStyleModel",
      "state": {}
     },
     "39d52d09376f4404a29078eca3179747": {
      "model_module": "@jupyter-widgets/base",
      "model_module_version": "1.1.0",
      "model_name": "LayoutModel",
      "state": {}
     },
     "39fea3e4f45d4c1f80b0363b8f835e13": {
      "model_module": "@jupyter-widgets/controls",
      "model_module_version": "1.4.0",
      "model_name": "ButtonModel",
      "state": {
       "_dom_classes": [
        "gridbutton",
        "b2"
       ],
       "disabled": true,
       "layout": "IPY_MODEL_581cef88be2741a9bde4fcb6422ff1b0",
       "style": "IPY_MODEL_d960a71419494b2eb964c83b4232497e"
      }
     },
     "3a0518a6761a4aac929674945ca9cd76": {
      "model_module": "@jupyter-widgets/controls",
      "model_module_version": "1.4.0",
      "model_name": "ButtonModel",
      "state": {
       "_dom_classes": [
        "gridbutton",
        "b1"
       ],
       "disabled": true,
       "layout": "IPY_MODEL_581cef88be2741a9bde4fcb6422ff1b0",
       "style": "IPY_MODEL_13f32c8cc6d94230beb25154200b70a0"
      }
     },
     "3a0f83ed45184735b1dbe794f50b36e6": {
      "model_module": "@jupyter-widgets/base",
      "model_module_version": "1.1.0",
      "model_name": "LayoutModel",
      "state": {}
     },
     "3a2d7f0d6b834faabbee47af07ee5c54": {
      "model_module": "@jupyter-widgets/base",
      "model_module_version": "1.1.0",
      "model_name": "LayoutModel",
      "state": {}
     },
     "3a4f80da07514047be6123927ae7ac15": {
      "model_module": "@jupyter-widgets/controls",
      "model_module_version": "1.4.0",
      "model_name": "TextModel",
      "state": {
       "_dom_classes": [
        "blankcell"
       ],
       "disabled": true,
       "layout": "IPY_MODEL_d861c29f26634ccfb59b53f634fc937d",
       "style": "IPY_MODEL_8e86db8f7185439b8e626a0612c34b45"
      }
     },
     "3a50ebe290dd46d29d83ba56744ea38e": {
      "model_module": "@jupyter-widgets/controls",
      "model_module_version": "1.4.0",
      "model_name": "TextModel",
      "state": {
       "_dom_classes": [
        "gridcell"
       ],
       "_view_module": "sage-combinat-widgets",
       "_view_module_version": "^0.2.0",
       "_view_name": "TextWithTooltipView",
       "continuous_update": false,
       "description_tooltip": "",
       "layout": "IPY_MODEL_766582b5db4b44c3b9eb63d9400a6c69",
       "style": "IPY_MODEL_8c20c8dffa3c4b769b11d68215576c76",
       "value": "8"
      }
     },
     "3a79ba0cab4d4584a051e9544f16408a": {
      "model_module": "@jupyter-widgets/base",
      "model_module_version": "1.1.0",
      "model_name": "LayoutModel",
      "state": {}
     },
     "3a8d1c44e14c4514875e39b88cc60aaa": {
      "model_module": "@jupyter-widgets/controls",
      "model_module_version": "1.4.0",
      "model_name": "DescriptionStyleModel",
      "state": {
       "description_width": ""
      }
     },
     "3a91fae9b2434138876605183402c095": {
      "model_module": "@jupyter-widgets/controls",
      "model_module_version": "1.4.0",
      "model_name": "ButtonStyleModel",
      "state": {}
     },
     "3a99b350f5804d069c59294759bc5a1e": {
      "model_module": "@jupyter-widgets/base",
      "model_module_version": "1.1.0",
      "model_name": "LayoutModel",
      "state": {}
     },
     "3aa39f8c02ee4feba2bc471aa7f4d991": {
      "model_module": "@jupyter-widgets/controls",
      "model_module_version": "1.4.0",
      "model_name": "TextModel",
      "state": {
       "_dom_classes": [
        "blankcell"
       ],
       "disabled": true,
       "layout": "IPY_MODEL_581cef88be2741a9bde4fcb6422ff1b0",
       "style": "IPY_MODEL_be18b2e276de45fcb3cb7060b4b3a1ff"
      }
     },
     "3aaff317f3254b248b0308c0ddfd89bc": {
      "model_module": "@jupyter-widgets/base",
      "model_module_version": "1.1.0",
      "model_name": "LayoutModel",
      "state": {}
     },
     "3ae6c4946cfd4d1bb89d7652078d3037": {
      "model_module": "@jupyter-widgets/controls",
      "model_module_version": "1.4.0",
      "model_name": "TextModel",
      "state": {
       "_dom_classes": [
        "blankcell"
       ],
       "disabled": true,
       "layout": "IPY_MODEL_196c83a3b43a46dca975be63611b8c09",
       "style": "IPY_MODEL_5b07200c095049a0990d8ce3bb48f924"
      }
     },
     "3af9a8c96e444ae4a5b3b25a569321c7": {
      "model_module": "@jupyter-widgets/controls",
      "model_module_version": "1.4.0",
      "model_name": "ButtonStyleModel",
      "state": {}
     },
     "3b037b6a9d0649d2a0c175819768e17f": {
      "model_module": "@jupyter-widgets/controls",
      "model_module_version": "1.4.0",
      "model_name": "ButtonStyleModel",
      "state": {}
     },
     "3b2d41521140482ca380cf15fed3f76f": {
      "model_module": "@jupyter-widgets/controls",
      "model_module_version": "1.4.0",
      "model_name": "TextModel",
      "state": {
       "_dom_classes": [
        "blankcell"
       ],
       "disabled": true,
       "layout": "IPY_MODEL_196c83a3b43a46dca975be63611b8c09",
       "style": "IPY_MODEL_e66aa9adbc3c43d391e58f92c77380cf"
      }
     },
     "3b33dd1d9e0644bcb3ee45a5c1d97736": {
      "model_module": "@jupyter-widgets/base",
      "model_module_version": "1.1.0",
      "model_name": "LayoutModel",
      "state": {}
     },
     "3b4686464e0040e08027f97a7246a683": {
      "model_module": "@jupyter-widgets/base",
      "model_module_version": "1.1.0",
      "model_name": "LayoutModel",
      "state": {}
     },
     "3b511b21d3a3447f91dfb863bce720b2": {
      "model_module": "@jupyter-widgets/base",
      "model_module_version": "1.1.0",
      "model_name": "LayoutModel",
      "state": {}
     },
     "3b603fcb97f04af89a62c94e5bd741be": {
      "model_module": "@jupyter-widgets/controls",
      "model_module_version": "1.4.0",
      "model_name": "ButtonModel",
      "state": {
       "_dom_classes": [
        "gridbutton",
        "b2"
       ],
       "disabled": true,
       "layout": "IPY_MODEL_196c83a3b43a46dca975be63611b8c09",
       "style": "IPY_MODEL_1e1d661a43c240d1a2082578a3e86b16"
      }
     },
     "3b8826abd3714a1c9ebe8636faa9d7d8": {
      "model_module": "@jupyter-widgets/controls",
      "model_module_version": "1.4.0",
      "model_name": "DescriptionStyleModel",
      "state": {
       "description_width": ""
      }
     },
     "3bb75d91787c4f9ba84674ff27f10cd4": {
      "model_module": "@jupyter-widgets/controls",
      "model_module_version": "1.4.0",
      "model_name": "ToggleButtonModel",
      "state": {
       "_dom_classes": [
        "gridbutton",
        "addablebutton"
       ],
       "description": "+",
       "layout": "IPY_MODEL_ae25d8ee9fe646ebb7fdd668d6ed6cab",
       "style": "IPY_MODEL_73a673aa421d4b91aaa1ad3b8e17a390",
       "tooltip": "Click to add a cell here"
      }
     },
     "3bb891c2cba2415f8d87321f1957f819": {
      "model_module": "@jupyter-widgets/controls",
      "model_module_version": "1.4.0",
      "model_name": "TextModel",
      "state": {
       "_dom_classes": [
        "gridcell",
        "removablecell"
       ],
       "_view_module": "sage-combinat-widgets",
       "_view_module_version": "^0.2.0",
       "_view_name": "TextWithTooltipView",
       "continuous_update": false,
       "description_tooltip": "",
       "layout": "IPY_MODEL_24198035057f48ca81a6fa9a718c3f55",
       "style": "IPY_MODEL_25e30390598849eba230b0e1e1f252f4",
       "value": "15"
      }
     },
     "3bbb75135be84ffa8ccb27c7951fbd0d": {
      "model_module": "@jupyter-widgets/base",
      "model_module_version": "1.1.0",
      "model_name": "LayoutModel",
      "state": {}
     },
     "3bd07797c31647f88a306646a5540c1d": {
      "model_module": "@jupyter-widgets/controls",
      "model_module_version": "1.4.0",
      "model_name": "DescriptionStyleModel",
      "state": {
       "description_width": ""
      }
     },
     "3be172acc2954f34a55b57c400a46aba": {
      "model_module": "@jupyter-widgets/base",
      "model_module_version": "1.1.0",
      "model_name": "LayoutModel",
      "state": {
       "height": "2em",
       "margin": "0",
       "padding": "0",
       "width": "2em"
      }
     },
     "3be7129d08024dc4b836dcc2210dbf0c": {
      "model_module": "@jupyter-widgets/controls",
      "model_module_version": "1.4.0",
      "model_name": "ButtonStyleModel",
      "state": {}
     },
     "3bf1cfc7a92d40c0bd8076c397e1cf29": {
      "model_module": "@jupyter-widgets/base",
      "model_module_version": "1.1.0",
      "model_name": "LayoutModel",
      "state": {}
     },
     "3bf7587d4d384a7cafaecb58fdfda68d": {
      "model_module": "@jupyter-widgets/controls",
      "model_module_version": "1.4.0",
      "model_name": "ButtonModel",
      "state": {
       "_dom_classes": [
        "gridbutton",
        "b4"
       ],
       "disabled": true,
       "layout": "IPY_MODEL_581cef88be2741a9bde4fcb6422ff1b0",
       "style": "IPY_MODEL_2e6d554c136b4e0aa740401b3eb55f0f"
      }
     },
     "3c2686d5cbf3421093c58ceb80209898": {
      "model_module": "@jupyter-widgets/controls",
      "model_module_version": "1.4.0",
      "model_name": "ToggleButtonModel",
      "state": {
       "_dom_classes": [
        "gridbutton"
       ],
       "layout": "IPY_MODEL_742ce9cb5c1a4d358dd3aef0fa324d55",
       "style": "IPY_MODEL_cd9dc1a25dd5470391b50849c95bb5ae",
       "tooltip": "0, 0"
      }
     },
     "3c3269d819de4ee79c19be807fc543b5": {
      "model_module": "@jupyter-widgets/controls",
      "model_module_version": "1.4.0",
      "model_name": "ButtonModel",
      "state": {
       "_dom_classes": [
        "gridbutton",
        "b1"
       ],
       "disabled": true,
       "layout": "IPY_MODEL_d861c29f26634ccfb59b53f634fc937d",
       "style": "IPY_MODEL_294a0322816e4d9f8e9829b1e20e16b1"
      }
     },
     "3c3ab154dce64f95bbaf962eed38bb88": {
      "model_module": "@jupyter-widgets/controls",
      "model_module_version": "1.4.0",
      "model_name": "DescriptionStyleModel",
      "state": {
       "description_width": ""
      }
     },
     "3c470400bbba4f2599a01be6b2c7afda": {
      "model_module": "@jupyter-widgets/controls",
      "model_module_version": "1.4.0",
      "model_name": "ButtonStyleModel",
      "state": {}
     },
     "3c49bcdcafc04f6aa862992cd4273d11": {
      "model_module": "@jupyter-widgets/controls",
      "model_module_version": "1.4.0",
      "model_name": "ButtonModel",
      "state": {
       "_dom_classes": [
        "gridbutton",
        "b4"
       ],
       "disabled": true,
       "layout": "IPY_MODEL_581cef88be2741a9bde4fcb6422ff1b0",
       "style": "IPY_MODEL_286dd325f6794d8d9df8a77dd3e5a6a8"
      }
     },
     "3c5091e7820b4c42baf5a58592b98c81": {
      "model_module": "@jupyter-widgets/controls",
      "model_module_version": "1.4.0",
      "model_name": "ButtonStyleModel",
      "state": {}
     },
     "3c7605f6a3224145ae5ea2438337d770": {
      "model_module": "@jupyter-widgets/controls",
      "model_module_version": "1.4.0",
      "model_name": "ButtonModel",
      "state": {
       "_dom_classes": [
        "gridbutton",
        "b1"
       ],
       "disabled": true,
       "layout": "IPY_MODEL_581cef88be2741a9bde4fcb6422ff1b0",
       "style": "IPY_MODEL_51782c3e880b4c5d9244d9ef96d01828"
      }
     },
     "3ca84e59709f43fdadf54cd1cdd6d1d5": {
      "model_module": "@jupyter-widgets/base",
      "model_module_version": "1.1.0",
      "model_name": "LayoutModel",
      "state": {}
     },
     "3cb7277fca674d5a8aa494f3d32f5236": {
      "model_module": "@jupyter-widgets/controls",
      "model_module_version": "1.4.0",
      "model_name": "ButtonStyleModel",
      "state": {}
     },
     "3cc918e799a2454c8bb79034ee0bbbac": {
      "model_module": "@jupyter-widgets/controls",
      "model_module_version": "1.4.0",
      "model_name": "DescriptionStyleModel",
      "state": {
       "description_width": ""
      }
     },
     "3ce8cfea90bb48acbd7d4834e64b80e8": {
      "model_module": "@jupyter-widgets/controls",
      "model_module_version": "1.4.0",
      "model_name": "ButtonStyleModel",
      "state": {}
     },
     "3d12f35d4aca47fab7c1687a141b1845": {
      "model_module": "@jupyter-widgets/controls",
      "model_module_version": "1.4.0",
      "model_name": "DescriptionStyleModel",
      "state": {
       "description_width": ""
      }
     },
     "3d286547c2314af2910a3944ea988c80": {
      "model_module": "@jupyter-widgets/controls",
      "model_module_version": "1.4.0",
      "model_name": "TextModel",
      "state": {
       "_dom_classes": [
        "blankcell"
       ],
       "disabled": true,
       "layout": "IPY_MODEL_581cef88be2741a9bde4fcb6422ff1b0",
       "style": "IPY_MODEL_faabdc367464487cbdc7243bc25a39d8"
      }
     },
     "3d413d8d0b564126be2a8195e4c64ca4": {
      "model_module": "@jupyter-widgets/controls",
      "model_module_version": "1.4.0",
      "model_name": "ButtonStyleModel",
      "state": {}
     },
     "3d45ea78e85f414a8c924ca34f2c9df5": {
      "model_module": "@jupyter-widgets/base",
      "model_module_version": "1.1.0",
      "model_name": "LayoutModel",
      "state": {}
     },
     "3d664a3d2c904d64a10e59771baa8cd1": {
      "model_module": "@jupyter-widgets/controls",
      "model_module_version": "1.4.0",
      "model_name": "ToggleButtonModel",
      "state": {
       "_dom_classes": [
        "gridbutton",
        "addablebutton"
       ],
       "description": "+",
       "layout": "IPY_MODEL_ae25d8ee9fe646ebb7fdd668d6ed6cab",
       "style": "IPY_MODEL_e1d7d93440fb41c2a9272c135510b84c",
       "tooltip": "Click to add a cell here"
      }
     },
     "3d6864732f1d4ece9aaf1cf88446ddd8": {
      "model_module": "@jupyter-widgets/controls",
      "model_module_version": "1.4.0",
      "model_name": "ToggleButtonModel",
      "state": {
       "_dom_classes": [
        "gridbutton",
        "addablebutton"
       ],
       "description": "+",
       "layout": "IPY_MODEL_ae25d8ee9fe646ebb7fdd668d6ed6cab",
       "style": "IPY_MODEL_0b8aaafb0487442d9fdb2d8c250ed26e",
       "tooltip": "Click to add a cell here"
      }
     },
     "3db35ebdfb6f4616ac1271b92b4d8ca6": {
      "model_module": "@jupyter-widgets/controls",
      "model_module_version": "1.4.0",
      "model_name": "ButtonModel",
      "state": {
       "_dom_classes": [
        "gridbutton",
        "b3"
       ],
       "disabled": true,
       "layout": "IPY_MODEL_581cef88be2741a9bde4fcb6422ff1b0",
       "style": "IPY_MODEL_478b95b13c6b491cacec91aa384130b4"
      }
     },
     "3de21e3d8687499ba6ecbcd075737bad": {
      "model_module": "@jupyter-widgets/base",
      "model_module_version": "1.1.0",
      "model_name": "LayoutModel",
      "state": {}
     },
     "3df2369fa19a4525afce25b033ede767": {
      "model_module": "@jupyter-widgets/controls",
      "model_module_version": "1.4.0",
      "model_name": "ButtonStyleModel",
      "state": {}
     },
     "3df23d9d21c64bf9bd2ada4ec056eda2": {
      "model_module": "@jupyter-widgets/base",
      "model_module_version": "1.1.0",
      "model_name": "LayoutModel",
      "state": {}
     },
     "3dff697d59cc49d3a4f0f57257aba063": {
      "model_module": "@jupyter-widgets/base",
      "model_module_version": "1.1.0",
      "model_name": "LayoutModel",
      "state": {}
     },
     "3e248d998c7e48759c23c737823e7479": {
      "model_module": "@jupyter-widgets/base",
      "model_module_version": "1.1.0",
      "model_name": "LayoutModel",
      "state": {}
     },
     "3e3fc62bbcb7454093519d4b9e9a8c1d": {
      "model_module": "@jupyter-widgets/controls",
      "model_module_version": "1.4.0",
      "model_name": "HBoxModel",
      "state": {
       "children": [
        "IPY_MODEL_2edd0e61a65d4ffb97a2099aa0485e12",
        "IPY_MODEL_7c3b2e984df94226aea6cf6438df65cb",
        "IPY_MODEL_756062bf3c5f446b84747902c2d58772",
        "IPY_MODEL_059fb5789ab14383afb7fed00e1fa896",
        "IPY_MODEL_870449da5c214057b92ff4c2fb0c7362",
        "IPY_MODEL_3c3269d819de4ee79c19be807fc543b5",
        "IPY_MODEL_09dabbf998cf47e6a67fb9e8a459e38c",
        "IPY_MODEL_b33a4b3f76114004b419699c2b0dcc5c",
        "IPY_MODEL_69f92f1fbed044848bcc13675dc222d7",
        "IPY_MODEL_8df21cf9de264004aa17263ea4a8f1cd",
        "IPY_MODEL_33809dfff1654ea5aee3fe5fc72036bb"
       ],
       "layout": "IPY_MODEL_ec7c0a43be65402a9c4535d23c40917e"
      }
     },
     "3e592bd0d4d94304ad0cc5f49c2a59ef": {
      "model_module": "@jupyter-widgets/controls",
      "model_module_version": "1.4.0",
      "model_name": "ButtonModel",
      "state": {
       "_dom_classes": [
        "gridbutton",
        "b1"
       ],
       "disabled": true,
       "layout": "IPY_MODEL_581cef88be2741a9bde4fcb6422ff1b0",
       "style": "IPY_MODEL_e5a48a70ffae43a18d0c5a1e6e9c0573"
      }
     },
     "3ed30253f7a9447fb8e8b2bc16342a42": {
      "model_module": "@jupyter-widgets/base",
      "model_module_version": "1.1.0",
      "model_name": "LayoutModel",
      "state": {}
     },
     "3edc8beedff74df498cdd1bfdb399902": {
      "model_module": "@jupyter-widgets/controls",
      "model_module_version": "1.4.0",
      "model_name": "ButtonStyleModel",
      "state": {}
     },
     "3ee6acae7da646c9b8b37f872cda4937": {
      "model_module": "@jupyter-widgets/controls",
      "model_module_version": "1.4.0",
      "model_name": "TextModel",
      "state": {
       "_dom_classes": [
        "blankcell"
       ],
       "disabled": true,
       "layout": "IPY_MODEL_d861c29f26634ccfb59b53f634fc937d",
       "style": "IPY_MODEL_615b2900c012465ba8539fb1e6a1690f"
      }
     },
     "3f0ec5a67dac4ce3bda4b3a463f3b311": {
      "model_module": "@jupyter-widgets/base",
      "model_module_version": "1.1.0",
      "model_name": "LayoutModel",
      "state": {}
     },
     "3f1940d695f642b195d804cb4e37dc6c": {
      "model_module": "@jupyter-widgets/controls",
      "model_module_version": "1.4.0",
      "model_name": "ButtonModel",
      "state": {
       "_dom_classes": [
        "gridbutton",
        "b2"
       ],
       "disabled": true,
       "layout": "IPY_MODEL_581cef88be2741a9bde4fcb6422ff1b0",
       "style": "IPY_MODEL_f045748998fb408086b5173a48c2cd51"
      }
     },
     "3f3160f3ad5c4d28a21fe55303eb6ab9": {
      "model_module": "@jupyter-widgets/controls",
      "model_module_version": "1.4.0",
      "model_name": "TextModel",
      "state": {
       "_dom_classes": [
        "blankcell"
       ],
       "disabled": true,
       "layout": "IPY_MODEL_d861c29f26634ccfb59b53f634fc937d",
       "style": "IPY_MODEL_4b74b8dfc8af4263ae6c1e7ff4ce563c"
      }
     },
     "3f5440e6ac4343d086637939c7f5ff71": {
      "model_module": "@jupyter-widgets/base",
      "model_module_version": "1.1.0",
      "model_name": "LayoutModel",
      "state": {}
     },
     "3f80a15fd643470b9f55817541122a79": {
      "model_module": "@jupyter-widgets/base",
      "model_module_version": "1.1.0",
      "model_name": "LayoutModel",
      "state": {}
     },
     "3f85f1ebfed8412297912442fe5ca778": {
      "model_module": "@jupyter-widgets/controls",
      "model_module_version": "1.4.0",
      "model_name": "ButtonModel",
      "state": {
       "_dom_classes": [
        "gridbutton",
        "b3"
       ],
       "disabled": true,
       "layout": "IPY_MODEL_d861c29f26634ccfb59b53f634fc937d",
       "style": "IPY_MODEL_262595e1368b406d96d97fa5ed82513a"
      }
     },
     "3f867dcabf5048b99323eea7ea907ad1": {
      "model_module": "@jupyter-widgets/controls",
      "model_module_version": "1.4.0",
      "model_name": "DescriptionStyleModel",
      "state": {
       "description_width": ""
      }
     },
     "3f93f550119f473e8a63c36f6053b7a3": {
      "model_module": "@jupyter-widgets/controls",
      "model_module_version": "1.4.0",
      "model_name": "ButtonStyleModel",
      "state": {}
     },
     "3fa1f49c09a143fba51f8af87e2574c3": {
      "model_module": "@jupyter-widgets/base",
      "model_module_version": "1.1.0",
      "model_name": "LayoutModel",
      "state": {}
     },
     "3fcb8663f97444fc9d57769aee47af6e": {
      "model_module": "@jupyter-widgets/base",
      "model_module_version": "1.1.0",
      "model_name": "LayoutModel",
      "state": {}
     },
     "3fde199f2c014220b28b3aa76d192a1e": {
      "model_module": "@jupyter-widgets/controls",
      "model_module_version": "1.4.0",
      "model_name": "ButtonModel",
      "state": {
       "_dom_classes": [
        "gridbutton",
        "b4"
       ],
       "disabled": true,
       "layout": "IPY_MODEL_581cef88be2741a9bde4fcb6422ff1b0",
       "style": "IPY_MODEL_2dce7d82c3de45c4a07748e07d778082"
      }
     },
     "3fe992347d4c4dac94b081e041e9154c": {
      "model_module": "@jupyter-widgets/base",
      "model_module_version": "1.1.0",
      "model_name": "LayoutModel",
      "state": {}
     },
     "3ff578548dfb46429f8208f1d784953f": {
      "model_module": "@jupyter-widgets/base",
      "model_module_version": "1.1.0",
      "model_name": "LayoutModel",
      "state": {}
     },
     "400bde2af54e4f77884ab52686e082b6": {
      "model_module": "@jupyter-widgets/base",
      "model_module_version": "1.1.0",
      "model_name": "LayoutModel",
      "state": {}
     },
     "402eb8fc6ed04c4fa0d972a1918cfa54": {
      "model_module": "@jupyter-widgets/controls",
      "model_module_version": "1.4.0",
      "model_name": "ButtonStyleModel",
      "state": {}
     },
     "40407d3d63ba4bd29ced115f61e83e10": {
      "model_module": "@jupyter-widgets/base",
      "model_module_version": "1.1.0",
      "model_name": "LayoutModel",
      "state": {}
     },
     "40491ae6bfb74e07af6aec99eb682004": {
      "model_module": "@jupyter-widgets/base",
      "model_module_version": "1.1.0",
      "model_name": "LayoutModel",
      "state": {}
     },
     "40539ea40e684b61a3564b2801d71559": {
      "model_module": "@jupyter-widgets/base",
      "model_module_version": "1.1.0",
      "model_name": "LayoutModel",
      "state": {}
     },
     "405521c317b74ce38bfb3cc911a4e254": {
      "model_module": "@jupyter-widgets/controls",
      "model_module_version": "1.4.0",
      "model_name": "HBoxModel",
      "state": {
       "children": [
        "IPY_MODEL_19f89b5e440c45baa7e33533423a2c0c",
        "IPY_MODEL_2d84d1bf339e44b5a49dd7886323a756",
        "IPY_MODEL_32860c3c0d914db88348172456fa5fce",
        "IPY_MODEL_a2c9a00835744451ac1c282c8070c0ca",
        "IPY_MODEL_d7d6f7e85611426ba7e6185da699b813",
        "IPY_MODEL_39198310a6cc4c079b73ba5666d8fe77",
        "IPY_MODEL_66ac0e4580054b33afee1483fa32c5ab",
        "IPY_MODEL_a5523b2183e14067907040662f3f76b7"
       ],
       "layout": "IPY_MODEL_fca8a75c99c74b149bef7ddaa31b60a1"
      }
     },
     "409e2ac147c84584aaedf5faf3c5035e": {
      "model_module": "@jupyter-widgets/controls",
      "model_module_version": "1.4.0",
      "model_name": "ButtonModel",
      "state": {
       "_dom_classes": [
        "gridbutton",
        "b1"
       ],
       "disabled": true,
       "layout": "IPY_MODEL_581cef88be2741a9bde4fcb6422ff1b0",
       "style": "IPY_MODEL_5fc86afec4ad40b4bc1a2e0bf30eeb1f"
      }
     },
     "40b68d53ba714483b9e3b4714a804de1": {
      "model_module": "@jupyter-widgets/controls",
      "model_module_version": "1.4.0",
      "model_name": "HBoxModel",
      "state": {
       "children": [
        "IPY_MODEL_b3e0d314fed14355b0f072aa49c299cb",
        "IPY_MODEL_ee2d374303834ac292087ba0ffa039df"
       ],
       "layout": "IPY_MODEL_607be863ba6a4a7aa9a323b17e3c9a10"
      }
     },
     "40cda0e6696c464e832b2eb93625a92e": {
      "model_module": "@jupyter-widgets/controls",
      "model_module_version": "1.4.0",
      "model_name": "ButtonModel",
      "state": {
       "_dom_classes": [
        "gridbutton",
        "b3"
       ],
       "disabled": true,
       "layout": "IPY_MODEL_d861c29f26634ccfb59b53f634fc937d",
       "style": "IPY_MODEL_50cbe0765cef458381a4137ef228cf2e"
      }
     },
     "40df0aee700945ce95e404ed781e22e5": {
      "model_module": "@jupyter-widgets/base",
      "model_module_version": "1.1.0",
      "model_name": "LayoutModel",
      "state": {}
     },
     "40fdb87366d449ec9881fa23684979a1": {
      "model_module": "@jupyter-widgets/controls",
      "model_module_version": "1.4.0",
      "model_name": "ButtonModel",
      "state": {
       "_dom_classes": [
        "gridbutton",
        "b3"
       ],
       "disabled": true,
       "layout": "IPY_MODEL_d861c29f26634ccfb59b53f634fc937d",
       "style": "IPY_MODEL_873d5afc952641b69d801fc5dc8ab3f3"
      }
     },
     "410b876a0c52416cb306a8877db61019": {
      "model_module": "@jupyter-widgets/controls",
      "model_module_version": "1.4.0",
      "model_name": "ButtonStyleModel",
      "state": {}
     },
     "411cb365765b45658967fa4bf8af509d": {
      "model_module": "@jupyter-widgets/base",
      "model_module_version": "1.1.0",
      "model_name": "LayoutModel",
      "state": {}
     },
     "417cf581bc8942d2a8301ae87b123b06": {
      "model_module": "@jupyter-widgets/base",
      "model_module_version": "1.1.0",
      "model_name": "LayoutModel",
      "state": {}
     },
     "4195af3b8b0344bcbe6a724606277b82": {
      "model_module": "@jupyter-widgets/base",
      "model_module_version": "1.1.0",
      "model_name": "LayoutModel",
      "state": {}
     },
     "41a3f8f96496485b87e013b110f22f87": {
      "model_module": "@jupyter-widgets/base",
      "model_module_version": "1.1.0",
      "model_name": "LayoutModel",
      "state": {}
     },
     "41bd614d9bf9411eb42803084ce285d6": {
      "model_module": "@jupyter-widgets/base",
      "model_module_version": "1.1.0",
      "model_name": "LayoutModel",
      "state": {}
     },
     "41c9864761fa452fab4053c488cc54fd": {
      "model_module": "@jupyter-widgets/controls",
      "model_module_version": "1.4.0",
      "model_name": "ButtonStyleModel",
      "state": {}
     },
     "41d35a2db8f04fc99d74185f3c318a15": {
      "model_module": "@jupyter-widgets/controls",
      "model_module_version": "1.4.0",
      "model_name": "ButtonModel",
      "state": {
       "_dom_classes": [
        "gridbutton",
        "b3"
       ],
       "disabled": true,
       "layout": "IPY_MODEL_581cef88be2741a9bde4fcb6422ff1b0",
       "style": "IPY_MODEL_b828d0898a894190b48fa6811856c496"
      }
     },
     "41f71ba6762c4a5b95cfb26818ef52c1": {
      "model_module": "@jupyter-widgets/controls",
      "model_module_version": "1.4.0",
      "model_name": "ButtonStyleModel",
      "state": {}
     },
     "41fd0c7a32734b3a8a00036a4290dc73": {
      "model_module": "@jupyter-widgets/controls",
      "model_module_version": "1.4.0",
      "model_name": "ToggleButtonModel",
      "state": {
       "_dom_classes": [
        "gridbutton",
        "addablebutton"
       ],
       "description": "+",
       "layout": "IPY_MODEL_742ce9cb5c1a4d358dd3aef0fa324d55",
       "style": "IPY_MODEL_c91d2591eac14248a8c0668f817a26c9",
       "tooltip": "Click to add a cell here"
      }
     },
     "41ff72837bc647f5a8455607cab26cd2": {
      "model_module": "@jupyter-widgets/base",
      "model_module_version": "1.1.0",
      "model_name": "LayoutModel",
      "state": {}
     },
     "422d4cb378ef4917b697995c6b41bb93": {
      "model_module": "@jupyter-widgets/base",
      "model_module_version": "1.1.0",
      "model_name": "LayoutModel",
      "state": {}
     },
     "4236249ffeb343ec93298c18dcfedc4e": {
      "model_module": "@jupyter-widgets/controls",
      "model_module_version": "1.4.0",
      "model_name": "ButtonModel",
      "state": {
       "_dom_classes": [
        "gridbutton",
        "b1"
       ],
       "disabled": true,
       "layout": "IPY_MODEL_d861c29f26634ccfb59b53f634fc937d",
       "style": "IPY_MODEL_3219a8e996fa4fe7ae2d7d59e286a8f5"
      }
     },
     "4247b07348694d2786c11b5e61891e06": {
      "model_module": "@jupyter-widgets/controls",
      "model_module_version": "1.4.0",
      "model_name": "ButtonStyleModel",
      "state": {}
     },
     "425226c62b474921ae99aeaacc5b602f": {
      "model_module": "@jupyter-widgets/controls",
      "model_module_version": "1.4.0",
      "model_name": "ToggleButtonModel",
      "state": {
       "_dom_classes": [
        "gridbutton",
        "addablebutton"
       ],
       "description": "+",
       "layout": "IPY_MODEL_742ce9cb5c1a4d358dd3aef0fa324d55",
       "style": "IPY_MODEL_d317c46337dc48ea991de4a04061e19a",
       "tooltip": "Click to add a cell here"
      }
     },
     "425bb4def06a4aa59d8ff3188ae87138": {
      "model_module": "@jupyter-widgets/base",
      "model_module_version": "1.1.0",
      "model_name": "LayoutModel",
      "state": {}
     },
     "427a468e65e34e81a4b896bdb9fb7646": {
      "model_module": "@jupyter-widgets/controls",
      "model_module_version": "1.4.0",
      "model_name": "ButtonModel",
      "state": {
       "_dom_classes": [
        "gridbutton",
        "b4"
       ],
       "disabled": true,
       "layout": "IPY_MODEL_581cef88be2741a9bde4fcb6422ff1b0",
       "style": "IPY_MODEL_a5cc69990bc842018953e6da159753f9"
      }
     },
     "4295b4450b0040e9bf9ecdd7fe6314db": {
      "model_module": "@jupyter-widgets/base",
      "model_module_version": "1.1.0",
      "model_name": "LayoutModel",
      "state": {}
     },
     "42bc533d70f74fdd8202b4dd5f203d93": {
      "model_module": "@jupyter-widgets/base",
      "model_module_version": "1.1.0",
      "model_name": "LayoutModel",
      "state": {}
     },
     "42e8f013553f413c903977d959618a36": {
      "model_module": "@jupyter-widgets/controls",
      "model_module_version": "1.4.0",
      "model_name": "DescriptionStyleModel",
      "state": {
       "description_width": ""
      }
     },
     "43154d6f1d384754bacb54dcd28d6407": {
      "model_module": "@jupyter-widgets/controls",
      "model_module_version": "1.4.0",
      "model_name": "ButtonStyleModel",
      "state": {}
     },
     "4316e929866141a385b39c3ca3289205": {
      "model_module": "@jupyter-widgets/base",
      "model_module_version": "1.1.0",
      "model_name": "LayoutModel",
      "state": {}
     },
     "433184ec0ee147bf81c72594974c5cd1": {
      "model_module": "@jupyter-widgets/base",
      "model_module_version": "1.1.0",
      "model_name": "LayoutModel",
      "state": {}
     },
     "433c1018b09b479a8077e38716485854": {
      "model_module": "@jupyter-widgets/controls",
      "model_module_version": "1.4.0",
      "model_name": "DescriptionStyleModel",
      "state": {
       "description_width": ""
      }
     },
     "4374e9d77e1041bb8b58600cf93c011c": {
      "model_module": "@jupyter-widgets/base",
      "model_module_version": "1.1.0",
      "model_name": "LayoutModel",
      "state": {}
     },
     "437f8a62edaa486d99ca6a1ee5a7fe03": {
      "model_module": "@jupyter-widgets/controls",
      "model_module_version": "1.4.0",
      "model_name": "ButtonModel",
      "state": {
       "_dom_classes": [
        "gridbutton",
        "b1"
       ],
       "disabled": true,
       "layout": "IPY_MODEL_196c83a3b43a46dca975be63611b8c09",
       "style": "IPY_MODEL_feb60ba3e72044e0ae635fb867710a75"
      }
     },
     "4388a00eb0884edbb57478c9fc56c248": {
      "model_module": "@jupyter-widgets/base",
      "model_module_version": "1.1.0",
      "model_name": "LayoutModel",
      "state": {}
     },
     "4398c8db65b14de7a11b9147847d5bca": {
      "model_module": "@jupyter-widgets/base",
      "model_module_version": "1.1.0",
      "model_name": "LayoutModel",
      "state": {}
     },
     "439c9c3c6e2046d9904ae57a5de39802": {
      "model_module": "@jupyter-widgets/base",
      "model_module_version": "1.1.0",
      "model_name": "LayoutModel",
      "state": {}
     },
     "43c3022f63144e2ab8b321f015f4c670": {
      "model_module": "@jupyter-widgets/controls",
      "model_module_version": "1.4.0",
      "model_name": "DescriptionStyleModel",
      "state": {
       "description_width": ""
      }
     },
     "43ea24e8c0d346d0a1bbebcbcb0baba9": {
      "model_module": "@jupyter-widgets/controls",
      "model_module_version": "1.4.0",
      "model_name": "TextModel",
      "state": {
       "_dom_classes": [
        "blankcell"
       ],
       "disabled": true,
       "layout": "IPY_MODEL_196c83a3b43a46dca975be63611b8c09",
       "style": "IPY_MODEL_efbbb6149eb640d6b73f14d865fa0bbd"
      }
     },
     "43ea45c982ca4445a7a8321ada22bdcb": {
      "model_module": "@jupyter-widgets/controls",
      "model_module_version": "1.4.0",
      "model_name": "ToggleButtonModel",
      "state": {
       "_dom_classes": [
        "gridbutton",
        "addablebutton"
       ],
       "description": "+",
       "layout": "IPY_MODEL_742ce9cb5c1a4d358dd3aef0fa324d55",
       "style": "IPY_MODEL_82fcfeae4ad448949c817ae26f17abaf",
       "tooltip": "Click to add a cell here"
      }
     },
     "43f8c6a750f84c20aa5245573f2dcc7a": {
      "model_module": "@jupyter-widgets/controls",
      "model_module_version": "1.4.0",
      "model_name": "DescriptionStyleModel",
      "state": {
       "description_width": ""
      }
     },
     "43fa7f0062124a1fb9659c8c07bf6a25": {
      "model_module": "@jupyter-widgets/base",
      "model_module_version": "1.1.0",
      "model_name": "LayoutModel",
      "state": {}
     },
     "440b720d360f49d48db367c13caf5563": {
      "model_module": "@jupyter-widgets/controls",
      "model_module_version": "1.4.0",
      "model_name": "DescriptionStyleModel",
      "state": {
       "description_width": ""
      }
     },
     "4418686033a347d296e6132a57e112b3": {
      "model_module": "@jupyter-widgets/controls",
      "model_module_version": "1.4.0",
      "model_name": "ButtonStyleModel",
      "state": {}
     },
     "441a9b8bdb504ac18799ce7ab4dc67c3": {
      "model_module": "@jupyter-widgets/controls",
      "model_module_version": "1.4.0",
      "model_name": "ButtonModel",
      "state": {
       "_dom_classes": [
        "gridbutton",
        "b3"
       ],
       "disabled": true,
       "layout": "IPY_MODEL_581cef88be2741a9bde4fcb6422ff1b0",
       "style": "IPY_MODEL_97b0d5dfee1240e9b609135c2d67c2c2"
      }
     },
     "44569707ef0f4d038dcbe717f92b729e": {
      "model_module": "@jupyter-widgets/controls",
      "model_module_version": "1.4.0",
      "model_name": "ButtonModel",
      "state": {
       "_dom_classes": [
        "gridbutton",
        "b3"
       ],
       "disabled": true,
       "layout": "IPY_MODEL_581cef88be2741a9bde4fcb6422ff1b0",
       "style": "IPY_MODEL_0c84777e5d014defae29b9b4c3b8e675"
      }
     },
     "4499c5e089104948a4ac9f6440852471": {
      "model_module": "@jupyter-widgets/base",
      "model_module_version": "1.1.0",
      "model_name": "LayoutModel",
      "state": {}
     },
     "44b3a534ee47410cab11004a2e3d2cad": {
      "model_module": "@jupyter-widgets/base",
      "model_module_version": "1.1.0",
      "model_name": "LayoutModel",
      "state": {}
     },
     "44e9de5ab2f14a9a98a8b179724dd9ab": {
      "model_module": "@jupyter-widgets/controls",
      "model_module_version": "1.4.0",
      "model_name": "ButtonModel",
      "state": {
       "_dom_classes": [
        "gridbutton",
        "b3"
       ],
       "disabled": true,
       "layout": "IPY_MODEL_196c83a3b43a46dca975be63611b8c09",
       "style": "IPY_MODEL_aeb3aafadffb452c8fd092f5efebfef6"
      }
     },
     "45091ccca07a41e59a1f5bc12664ce6d": {
      "model_module": "@jupyter-widgets/base",
      "model_module_version": "1.1.0",
      "model_name": "LayoutModel",
      "state": {
       "height": "4em",
       "margin": "0",
       "padding": "0",
       "width": "5em"
      }
     },
     "451528365e34479e92d5dc54ce139fbe": {
      "model_module": "@jupyter-widgets/controls",
      "model_module_version": "1.4.0",
      "model_name": "ButtonModel",
      "state": {
       "_dom_classes": [
        "gridbutton",
        "b2"
       ],
       "disabled": true,
       "layout": "IPY_MODEL_d861c29f26634ccfb59b53f634fc937d",
       "style": "IPY_MODEL_3df2369fa19a4525afce25b033ede767"
      }
     },
     "451b194826404ef49096690ecec5402a": {
      "model_module": "@jupyter-widgets/controls",
      "model_module_version": "1.4.0",
      "model_name": "TextModel",
      "state": {
       "_dom_classes": [
        "blankcell"
       ],
       "disabled": true,
       "layout": "IPY_MODEL_d861c29f26634ccfb59b53f634fc937d",
       "style": "IPY_MODEL_1470577704ac44d1beaa08aa64838277"
      }
     },
     "4544f03471794f7c8d72a1952686aed9": {
      "model_module": "@jupyter-widgets/base",
      "model_module_version": "1.1.0",
      "model_name": "LayoutModel",
      "state": {}
     },
     "454da62606f04bf0964edb3d3d444955": {
      "model_module": "@jupyter-widgets/controls",
      "model_module_version": "1.4.0",
      "model_name": "DescriptionStyleModel",
      "state": {
       "description_width": ""
      }
     },
     "454dd445d746497aae0fb1faf8acf393": {
      "model_module": "@jupyter-widgets/base",
      "model_module_version": "1.1.0",
      "model_name": "LayoutModel",
      "state": {}
     },
     "455cfe6c4b1642efa5b46bec51e87527": {
      "model_module": "@jupyter-widgets/controls",
      "model_module_version": "1.4.0",
      "model_name": "DescriptionStyleModel",
      "state": {
       "description_width": ""
      }
     },
     "45617ba9837044f1ba73aec09e0ac22c": {
      "model_module": "@jupyter-widgets/base",
      "model_module_version": "1.1.0",
      "model_name": "LayoutModel",
      "state": {}
     },
     "456fc8c092184920b17a5faebe9ea579": {
      "model_module": "@jupyter-widgets/base",
      "model_module_version": "1.1.0",
      "model_name": "LayoutModel",
      "state": {}
     },
     "45a6e85697dd4b2589cf7e23f89ad809": {
      "model_module": "@jupyter-widgets/controls",
      "model_module_version": "1.4.0",
      "model_name": "ButtonStyleModel",
      "state": {}
     },
     "45bcd2da44db44c0af64f5d920a0b2e8": {
      "model_module": "@jupyter-widgets/controls",
      "model_module_version": "1.4.0",
      "model_name": "DescriptionStyleModel",
      "state": {
       "description_width": ""
      }
     },
     "45c8e5a5f2c247e68628d1d13f0dbc8a": {
      "model_module": "@jupyter-widgets/base",
      "model_module_version": "1.1.0",
      "model_name": "LayoutModel",
      "state": {}
     },
     "45f36f01f1e54df7a155f607c24408d3": {
      "model_module": "@jupyter-widgets/controls",
      "model_module_version": "1.4.0",
      "model_name": "ButtonModel",
      "state": {
       "_dom_classes": [
        "gridbutton",
        "b1"
       ],
       "disabled": true,
       "layout": "IPY_MODEL_196c83a3b43a46dca975be63611b8c09",
       "style": "IPY_MODEL_a1b22dcd831d4adeb740bc8e3d1400ee"
      }
     },
     "45f3dadc40484ff1948016384dcd3fad": {
      "model_module": "@jupyter-widgets/base",
      "model_module_version": "1.1.0",
      "model_name": "LayoutModel",
      "state": {}
     },
     "46089efe44d4403baaa23135669279e8": {
      "model_module": "@jupyter-widgets/controls",
      "model_module_version": "1.4.0",
      "model_name": "DescriptionStyleModel",
      "state": {
       "description_width": ""
      }
     },
     "463794bc5345490ea44e00888d7094f8": {
      "model_module": "@jupyter-widgets/controls",
      "model_module_version": "1.4.0",
      "model_name": "ButtonStyleModel",
      "state": {}
     },
     "464f7d3b4a2948cf8ff90572a7bc8adb": {
      "model_module": "@jupyter-widgets/controls",
      "model_module_version": "1.4.0",
      "model_name": "DescriptionStyleModel",
      "state": {
       "description_width": ""
      }
     },
     "46547c85f5cd4843bc2f7688327921d8": {
      "model_module": "@jupyter-widgets/controls",
      "model_module_version": "1.4.0",
      "model_name": "ToggleButtonModel",
      "state": {
       "_dom_classes": [
        "gridbutton"
       ],
       "description": "-",
       "layout": "IPY_MODEL_742ce9cb5c1a4d358dd3aef0fa324d55",
       "style": "IPY_MODEL_f862171523764e73844880ed0e7eab61",
       "tooltip": "0, 6"
      }
     },
     "465ce807b20742539fa916cbce0b0306": {
      "model_module": "@jupyter-widgets/controls",
      "model_module_version": "1.4.0",
      "model_name": "VBoxModel",
      "state": {
       "children": [
        "IPY_MODEL_066c509c666f44ea8c14a18bd84f71f5",
        "IPY_MODEL_942e4838696344d1822d866551cf446d",
        "IPY_MODEL_4bb86de676b340c2939d3f698ff16ce4",
        "IPY_MODEL_f52f9bda6a104f4caac073777886a24b",
        "IPY_MODEL_a85b1262cc0e408cb1bf4065209d83cd",
        "IPY_MODEL_681ab1c6919f4d3eb75f7fbf84139121",
        "IPY_MODEL_299b38176505405b98e9fe9bbd37695f",
        "IPY_MODEL_e866539e815040ec8831aaff51928958"
       ],
       "layout": "IPY_MODEL_795cec2a3e0443f286304d36d663b8fb"
      }
     },
     "4660297f06c84a0180cdeafb68b24355": {
      "model_module": "@jupyter-widgets/base",
      "model_module_version": "1.1.0",
      "model_name": "LayoutModel",
      "state": {}
     },
     "466bb887bf6b43b5bd358d53e687b92d": {
      "model_module": "@jupyter-widgets/base",
      "model_module_version": "1.1.0",
      "model_name": "LayoutModel",
      "state": {}
     },
     "4674b31e40564e3d8689fbfcb4d7bf87": {
      "model_module": "@jupyter-widgets/base",
      "model_module_version": "1.1.0",
      "model_name": "LayoutModel",
      "state": {}
     },
     "4683d4cfad4d4560922aae1926ff6f31": {
      "model_module": "@jupyter-widgets/base",
      "model_module_version": "1.1.0",
      "model_name": "LayoutModel",
      "state": {}
     },
     "4691f20019bf4ab4870ed58361bedad6": {
      "model_module": "@jupyter-widgets/base",
      "model_module_version": "1.1.0",
      "model_name": "LayoutModel",
      "state": {}
     },
     "46923c7f4adb4d1f890a4ab508535421": {
      "model_module": "@jupyter-widgets/controls",
      "model_module_version": "1.4.0",
      "model_name": "DescriptionStyleModel",
      "state": {
       "description_width": ""
      }
     },
     "46b9d0cd2bc941bfb1c0635dcb662f86": {
      "model_module": "@jupyter-widgets/base",
      "model_module_version": "1.1.0",
      "model_name": "LayoutModel",
      "state": {}
     },
     "46c3672356014a1e9bc03ba9821f9c9c": {
      "model_module": "@jupyter-widgets/controls",
      "model_module_version": "1.4.0",
      "model_name": "ButtonStyleModel",
      "state": {}
     },
     "46d2a48e813247228b517b0778e4fb9c": {
      "model_module": "@jupyter-widgets/controls",
      "model_module_version": "1.4.0",
      "model_name": "ButtonStyleModel",
      "state": {}
     },
     "46e2f91505504fe79ba875a2f2a5cfcd": {
      "model_module": "@jupyter-widgets/controls",
      "model_module_version": "1.4.0",
      "model_name": "ButtonStyleModel",
      "state": {}
     },
     "46fac51967094e4bb91a472f48f168b5": {
      "model_module": "@jupyter-widgets/controls",
      "model_module_version": "1.4.0",
      "model_name": "ButtonModel",
      "state": {
       "_dom_classes": [
        "gridbutton",
        "b4"
       ],
       "disabled": true,
       "layout": "IPY_MODEL_d861c29f26634ccfb59b53f634fc937d",
       "style": "IPY_MODEL_b69e4e74228a49ac80d8fd90f1987876"
      }
     },
     "4710936bde904ac1843456562e235f96": {
      "model_module": "@jupyter-widgets/controls",
      "model_module_version": "1.4.0",
      "model_name": "TextModel",
      "state": {
       "_dom_classes": [
        "gridcell"
       ],
       "_view_module": "sage-combinat-widgets",
       "_view_module_version": "^0.2.0",
       "_view_name": "TextWithTooltipView",
       "continuous_update": false,
       "description_tooltip": "",
       "layout": "IPY_MODEL_ae25d8ee9fe646ebb7fdd668d6ed6cab",
       "style": "IPY_MODEL_ed87d436a78349fe9dee9bd4f8458a6a",
       "value": "1"
      }
     },
     "472557033c0d4ac09f016aa6a1bb6a3d": {
      "model_module": "@jupyter-widgets/controls",
      "model_module_version": "1.4.0",
      "model_name": "ButtonStyleModel",
      "state": {}
     },
     "4754af493389472ead3a71b9612248b6": {
      "model_module": "@jupyter-widgets/controls",
      "model_module_version": "1.4.0",
      "model_name": "ButtonStyleModel",
      "state": {}
     },
     "478b95b13c6b491cacec91aa384130b4": {
      "model_module": "@jupyter-widgets/controls",
      "model_module_version": "1.4.0",
      "model_name": "ButtonStyleModel",
      "state": {}
     },
     "4797d7bb7f9d42e794360990eed1f1a7": {
      "model_module": "@jupyter-widgets/base",
      "model_module_version": "1.1.0",
      "model_name": "LayoutModel",
      "state": {
       "height": "4em",
       "margin": "0",
       "padding": "0",
       "width": "5em"
      }
     },
     "47acc9aae5ec40da91bd07270372c5bb": {
      "model_module": "@jupyter-widgets/controls",
      "model_module_version": "1.4.0",
      "model_name": "ButtonModel",
      "state": {
       "_dom_classes": [
        "gridbutton",
        "b2"
       ],
       "disabled": true,
       "layout": "IPY_MODEL_196c83a3b43a46dca975be63611b8c09",
       "style": "IPY_MODEL_fab488fe687f4f30a3e89e2f30eeb25d"
      }
     },
     "47ce15c7fba6465ea2ff50f20fe4bdec": {
      "model_module": "@jupyter-widgets/base",
      "model_module_version": "1.1.0",
      "model_name": "LayoutModel",
      "state": {}
     },
     "47df26751ebc46b6bfffda6f83ab8205": {
      "model_module": "@jupyter-widgets/base",
      "model_module_version": "1.1.0",
      "model_name": "LayoutModel",
      "state": {}
     },
     "483ca0dc28404e85a1d8db0d90dd530a": {
      "model_module": "@jupyter-widgets/controls",
      "model_module_version": "1.4.0",
      "model_name": "ButtonModel",
      "state": {
       "_dom_classes": [
        "gridbutton",
        "b3"
       ],
       "disabled": true,
       "layout": "IPY_MODEL_d861c29f26634ccfb59b53f634fc937d",
       "style": "IPY_MODEL_3a91fae9b2434138876605183402c095"
      }
     },
     "484aa1da0aa040e38e438a78c0c84b7c": {
      "model_module": "@jupyter-widgets/controls",
      "model_module_version": "1.4.0",
      "model_name": "ToggleButtonModel",
      "state": {
       "_dom_classes": [
        "gridbutton"
       ],
       "layout": "IPY_MODEL_ae25d8ee9fe646ebb7fdd668d6ed6cab",
       "style": "IPY_MODEL_33867993a40449dfb31a314bde0f87b0",
       "tooltip": "0, 0"
      }
     },
     "4853472398744aabbca1d99902c713fe": {
      "model_module": "@jupyter-widgets/controls",
      "model_module_version": "1.4.0",
      "model_name": "ButtonModel",
      "state": {
       "_dom_classes": [
        "gridbutton",
        "b4"
       ],
       "disabled": true,
       "layout": "IPY_MODEL_d861c29f26634ccfb59b53f634fc937d",
       "style": "IPY_MODEL_3c470400bbba4f2599a01be6b2c7afda"
      }
     },
     "4858f60635fd404fbdb45e243ec46b2f": {
      "model_module": "@jupyter-widgets/controls",
      "model_module_version": "1.4.0",
      "model_name": "ButtonStyleModel",
      "state": {}
     },
     "486b2982b0be41bfa3265a222e035e72": {
      "model_module": "@jupyter-widgets/base",
      "model_module_version": "1.1.0",
      "model_name": "LayoutModel",
      "state": {}
     },
     "48731ba623764fc58189dcd26ec78ec1": {
      "model_module": "@jupyter-widgets/controls",
      "model_module_version": "1.4.0",
      "model_name": "ButtonModel",
      "state": {
       "_dom_classes": [
        "gridbutton",
        "b4"
       ],
       "disabled": true,
       "layout": "IPY_MODEL_d861c29f26634ccfb59b53f634fc937d",
       "style": "IPY_MODEL_e824629abab04176b26e6e91e53899c2"
      }
     },
     "488168e546e44ac8b08f7f0e50714658": {
      "model_module": "@jupyter-widgets/base",
      "model_module_version": "1.1.0",
      "model_name": "LayoutModel",
      "state": {}
     },
     "48833a169fd0415bb08b4ea00f0f216b": {
      "model_module": "@jupyter-widgets/controls",
      "model_module_version": "1.4.0",
      "model_name": "DescriptionStyleModel",
      "state": {
       "description_width": ""
      }
     },
     "4884ef43c8e642d8abe2d6dd15927c0b": {
      "model_module": "@jupyter-widgets/base",
      "model_module_version": "1.1.0",
      "model_name": "LayoutModel",
      "state": {}
     },
     "48919108982943f7aed2de783be58a59": {
      "model_module": "@jupyter-widgets/base",
      "model_module_version": "1.1.0",
      "model_name": "LayoutModel",
      "state": {}
     },
     "489248ba3dc44a84a3ecf7fbae62515c": {
      "model_module": "@jupyter-widgets/base",
      "model_module_version": "1.1.0",
      "model_name": "LayoutModel",
      "state": {}
     },
     "4897365cb4364b9abe282bf0f6a4f82c": {
      "model_module": "@jupyter-widgets/base",
      "model_module_version": "1.1.0",
      "model_name": "LayoutModel",
      "state": {}
     },
     "48bb9b5d8a4b48bd904a3e07b9013f77": {
      "model_module": "@jupyter-widgets/controls",
      "model_module_version": "1.4.0",
      "model_name": "ButtonStyleModel",
      "state": {}
     },
     "48ec590a0f7b4011bbf81ac7d7790b0f": {
      "model_module": "@jupyter-widgets/base",
      "model_module_version": "1.1.0",
      "model_name": "LayoutModel",
      "state": {}
     },
     "4917c49468f14527a7ff330b6ea8835e": {
      "model_module": "@jupyter-widgets/controls",
      "model_module_version": "1.4.0",
      "model_name": "TextModel",
      "state": {
       "_dom_classes": [
        "blankcell"
       ],
       "disabled": true,
       "layout": "IPY_MODEL_d861c29f26634ccfb59b53f634fc937d",
       "style": "IPY_MODEL_aa711c42ecdf47f1bb6c9372484d277a"
      }
     },
     "492f025182f44d5fbb7033459c21e48b": {
      "model_module": "@jupyter-widgets/controls",
      "model_module_version": "1.4.0",
      "model_name": "ButtonStyleModel",
      "state": {}
     },
     "4944e9c5282b456eb58ef2771a53c8b9": {
      "model_module": "@jupyter-widgets/controls",
      "model_module_version": "1.4.0",
      "model_name": "ButtonStyleModel",
      "state": {}
     },
     "4981460226ab47908ac2d9235a3d2cd3": {
      "model_module": "@jupyter-widgets/base",
      "model_module_version": "1.1.0",
      "model_name": "LayoutModel",
      "state": {}
     },
     "49860b17ab1847819e544b26298ed80b": {
      "model_module": "@jupyter-widgets/controls",
      "model_module_version": "1.4.0",
      "model_name": "TextModel",
      "state": {
       "layout": "IPY_MODEL_6fc16226b39045ca93c4301d1cf95043",
       "style": "IPY_MODEL_9f623ecc32e246819c837360aba6d347"
      }
     },
     "499724ce82344397bcc6860f26f6f8b7": {
      "model_module": "@jupyter-widgets/base",
      "model_module_version": "1.1.0",
      "model_name": "LayoutModel",
      "state": {}
     },
     "49a68a4ee26b48b997784b38720b15ad": {
      "model_module": "@jupyter-widgets/controls",
      "model_module_version": "1.4.0",
      "model_name": "ButtonStyleModel",
      "state": {}
     },
     "49bc17c4f4a24970a0e501d9ba3ef5d1": {
      "model_module": "@jupyter-widgets/base",
      "model_module_version": "1.1.0",
      "model_name": "LayoutModel",
      "state": {}
     },
     "49bf4b62914444e6a374cc181d9f0b1c": {
      "model_module": "@jupyter-widgets/base",
      "model_module_version": "1.1.0",
      "model_name": "LayoutModel",
      "state": {}
     },
     "49c4130a91a0451f8bb51963d947d614": {
      "model_module": "@jupyter-widgets/base",
      "model_module_version": "1.1.0",
      "model_name": "LayoutModel",
      "state": {}
     },
     "4a0852c67f6746d7832e734209f668dc": {
      "model_module": "@jupyter-widgets/controls",
      "model_module_version": "1.4.0",
      "model_name": "DescriptionStyleModel",
      "state": {
       "description_width": ""
      }
     },
     "4a0a9284f98749f69d39749d174ce510": {
      "model_module": "@jupyter-widgets/base",
      "model_module_version": "1.1.0",
      "model_name": "LayoutModel",
      "state": {}
     },
     "4a0d4d339c8e4a69acf88ad5ae9c370f": {
      "model_module": "@jupyter-widgets/base",
      "model_module_version": "1.1.0",
      "model_name": "LayoutModel",
      "state": {}
     },
     "4a1ed47e296e4dcfb20286e553412165": {
      "model_module": "@jupyter-widgets/base",
      "model_module_version": "1.1.0",
      "model_name": "LayoutModel",
      "state": {}
     },
     "4a48c676ac1c4d99987a1a78e4bc060d": {
      "model_module": "@jupyter-widgets/controls",
      "model_module_version": "1.4.0",
      "model_name": "ButtonModel",
      "state": {
       "description": "+",
       "layout": "IPY_MODEL_0f43082ec7e94a019d52c042875ab05d",
       "style": "IPY_MODEL_c7869239b4f04453b9669ed8151ff42e"
      }
     },
     "4a83652be10a49c294e68ba96a9641c3": {
      "model_module": "@jupyter-widgets/controls",
      "model_module_version": "1.4.0",
      "model_name": "ToggleButtonModel",
      "state": {
       "_dom_classes": [
        "gridbutton"
       ],
       "description": "-",
       "layout": "IPY_MODEL_742ce9cb5c1a4d358dd3aef0fa324d55",
       "style": "IPY_MODEL_214c6bc3e7e6450f84e81fc3a87be0e3",
       "tooltip": "1, 0"
      }
     },
     "4ab5134d522a448d85d830cea3f337c1": {
      "model_module": "@jupyter-widgets/base",
      "model_module_version": "1.1.0",
      "model_name": "LayoutModel",
      "state": {}
     },
     "4ab6810f48b64b6589b0b1e67945f6f3": {
      "model_module": "@jupyter-widgets/controls",
      "model_module_version": "1.4.0",
      "model_name": "TextModel",
      "state": {
       "_dom_classes": [
        "blankcell"
       ],
       "disabled": true,
       "layout": "IPY_MODEL_581cef88be2741a9bde4fcb6422ff1b0",
       "style": "IPY_MODEL_bbcd939efb0f4fdcb0990b46095ea27d"
      }
     },
     "4ac5f136fd934b418c35b16ba6f4aac9": {
      "model_module": "@jupyter-widgets/base",
      "model_module_version": "1.1.0",
      "model_name": "LayoutModel",
      "state": {}
     },
     "4ad816a79b61441a97d6f60c7ca8393d": {
      "model_module": "@jupyter-widgets/controls",
      "model_module_version": "1.4.0",
      "model_name": "DescriptionStyleModel",
      "state": {
       "description_width": ""
      }
     },
     "4aeefbe02c754f75ac4d3b22f48807d4": {
      "model_module": "@jupyter-widgets/controls",
      "model_module_version": "1.4.0",
      "model_name": "HBoxModel",
      "state": {
       "children": [
        "IPY_MODEL_847a90cc285c48b09cf590c7d4f3b3db",
        "IPY_MODEL_fb7158331cf64cb5bcaa3ae5840ca6d7",
        "IPY_MODEL_4cd1da0ade86427db1f53d015bbf1179",
        "IPY_MODEL_71ffcbcbf70e42d0b2b1aa037d1a09e5",
        "IPY_MODEL_a23f83b0097c40acb7dcdb20c21d3331",
        "IPY_MODEL_2fa6225ec13c4f7e96a85ea5f2c38204",
        "IPY_MODEL_41d35a2db8f04fc99d74185f3c318a15",
        "IPY_MODEL_711dbe28465e4606b5a2ccf528aa7ca0",
        "IPY_MODEL_44569707ef0f4d038dcbe717f92b729e",
        "IPY_MODEL_6f7549b5967d4e60842eae30fb2af8c9",
        "IPY_MODEL_a6e16a66bce242f6bca6f44567ef8b5c",
        "IPY_MODEL_81e60926864443ce90bba45e8178400c",
        "IPY_MODEL_8f93f1897d8c4950b5697e26a714d09e",
        "IPY_MODEL_562dde4fdaf14065bbdb9b52d53708ee"
       ],
       "layout": "IPY_MODEL_e9ac0696ddc64983963545de79ae9a28"
      }
     },
     "4b04ff6597544cc9b9f586404a63081c": {
      "model_module": "@jupyter-widgets/controls",
      "model_module_version": "1.4.0",
      "model_name": "TextModel",
      "state": {
       "_dom_classes": [
        "gridcell",
        "addablecell"
       ],
       "_view_module": "sage-combinat-widgets",
       "_view_module_version": "^0.2.0",
       "_view_name": "TextWithTooltipView",
       "continuous_update": false,
       "description_tooltip": "",
       "layout": "IPY_MODEL_742ce9cb5c1a4d358dd3aef0fa324d55",
       "style": "IPY_MODEL_cb02f6833cf1498d9037013b3eda6e34"
      }
     },
     "4b10f7200ace461698438109ef58f54c": {
      "model_module": "@jupyter-widgets/base",
      "model_module_version": "1.1.0",
      "model_name": "LayoutModel",
      "state": {}
     },
     "4b4c1fcffb064f43b93818f11bfe30b2": {
      "model_module": "@jupyter-widgets/controls",
      "model_module_version": "1.4.0",
      "model_name": "ButtonModel",
      "state": {
       "_dom_classes": [
        "gridbutton",
        "b2"
       ],
       "disabled": true,
       "layout": "IPY_MODEL_581cef88be2741a9bde4fcb6422ff1b0",
       "style": "IPY_MODEL_82c019c9326046acab7e2c97002139be"
      }
     },
     "4b74b8dfc8af4263ae6c1e7ff4ce563c": {
      "model_module": "@jupyter-widgets/controls",
      "model_module_version": "1.4.0",
      "model_name": "DescriptionStyleModel",
      "state": {
       "description_width": ""
      }
     },
     "4b757a99e63848698218e6638ec79db2": {
      "model_module": "@jupyter-widgets/base",
      "model_module_version": "1.1.0",
      "model_name": "LayoutModel",
      "state": {}
     },
     "4b78779b43c7413c805243226abdfcdd": {
      "model_module": "@jupyter-widgets/base",
      "model_module_version": "1.1.0",
      "model_name": "LayoutModel",
      "state": {}
     },
     "4b8d6c580fad48578730130cb5c73ce3": {
      "model_module": "@jupyter-widgets/controls",
      "model_module_version": "1.4.0",
      "model_name": "ToggleButtonModel",
      "state": {
       "_dom_classes": [
        "gridbutton",
        "addablebutton"
       ],
       "description": "+",
       "layout": "IPY_MODEL_742ce9cb5c1a4d358dd3aef0fa324d55",
       "style": "IPY_MODEL_ed7c5ee8089d43e19e3318d9bd6b55b8",
       "tooltip": "Click to add a cell here"
      }
     },
     "4bb86de676b340c2939d3f698ff16ce4": {
      "model_module": "@jupyter-widgets/controls",
      "model_module_version": "1.4.0",
      "model_name": "HBoxModel",
      "state": {
       "children": [
        "IPY_MODEL_570c1a4b6e8f46f09fa5e85213bedbf0",
        "IPY_MODEL_cafd604d2dd94da290a1a52742125fc3",
        "IPY_MODEL_e81110a998b944cd9dbcfbf1ec95ae6c"
       ],
       "layout": "IPY_MODEL_ce5d03086b384ec9a9f202960b932201"
      }
     },
     "4beb8c6c56ca4eef9934575ca90117a7": {
      "model_module": "@jupyter-widgets/controls",
      "model_module_version": "1.4.0",
      "model_name": "TextModel",
      "state": {
       "_dom_classes": [
        "blankcell"
       ],
       "disabled": true,
       "layout": "IPY_MODEL_581cef88be2741a9bde4fcb6422ff1b0",
       "style": "IPY_MODEL_762c3f217f834f199143921d8240c7bc"
      }
     },
     "4bece81d6dff417a99c1e073ee3b57bc": {
      "model_module": "@jupyter-widgets/base",
      "model_module_version": "1.1.0",
      "model_name": "LayoutModel",
      "state": {}
     },
     "4bf586dbb60942a2a3e13fd31bc936b0": {
      "model_module": "@jupyter-widgets/controls",
      "model_module_version": "1.4.0",
      "model_name": "ButtonModel",
      "state": {
       "_dom_classes": [
        "gridbutton",
        "b1"
       ],
       "disabled": true,
       "layout": "IPY_MODEL_196c83a3b43a46dca975be63611b8c09",
       "style": "IPY_MODEL_829703c76ba2407bafc84ce949493131"
      }
     },
     "4c193bcfa9c34f9ea1f5f75229483f69": {
      "model_module": "@jupyter-widgets/controls",
      "model_module_version": "1.4.0",
      "model_name": "ButtonModel",
      "state": {
       "_dom_classes": [
        "gridbutton",
        "b4"
       ],
       "disabled": true,
       "layout": "IPY_MODEL_196c83a3b43a46dca975be63611b8c09",
       "style": "IPY_MODEL_7bde350900eb4216ad0e0f546f48d394"
      }
     },
     "4c473667a9c8490db90f7dabaeafec5e": {
      "model_module": "@jupyter-widgets/controls",
      "model_module_version": "1.4.0",
      "model_name": "ButtonModel",
      "state": {
       "_dom_classes": [
        "gridbutton",
        "b3"
       ],
       "disabled": true,
       "layout": "IPY_MODEL_196c83a3b43a46dca975be63611b8c09",
       "style": "IPY_MODEL_492f025182f44d5fbb7033459c21e48b"
      }
     },
     "4c558d10e3664d06b075e945a9101fb3": {
      "model_module": "@jupyter-widgets/controls",
      "model_module_version": "1.4.0",
      "model_name": "ButtonModel",
      "state": {
       "_dom_classes": [
        "gridbutton",
        "b2"
       ],
       "disabled": true,
       "layout": "IPY_MODEL_196c83a3b43a46dca975be63611b8c09",
       "style": "IPY_MODEL_d5e3e60cecd745f2b220b345beb7225f"
      }
     },
     "4c778ba63c934818a52819a37222fcd2": {
      "model_module": "@jupyter-widgets/controls",
      "model_module_version": "1.4.0",
      "model_name": "TextModel",
      "state": {
       "_dom_classes": [
        "blankcell"
       ],
       "disabled": true,
       "layout": "IPY_MODEL_196c83a3b43a46dca975be63611b8c09",
       "style": "IPY_MODEL_d358c06bfb2c478394581d3cb95c863b"
      }
     },
     "4c92927dd02c416e81dbbf2d6f5ee889": {
      "model_module": "@jupyter-widgets/controls",
      "model_module_version": "1.4.0",
      "model_name": "TextModel",
      "state": {
       "_dom_classes": [
        "gridcell"
       ],
       "_view_module": "sage-combinat-widgets",
       "_view_module_version": "^0.2.0",
       "_view_name": "TextWithTooltipView",
       "continuous_update": false,
       "description_tooltip": "",
       "layout": "IPY_MODEL_766582b5db4b44c3b9eb63d9400a6c69",
       "style": "IPY_MODEL_dbf82955328746739a7297ba75d4aa8f",
       "value": "10"
      }
     },
     "4cab7cbecfbb40289fb37bc6db525c71": {
      "model_module": "@jupyter-widgets/controls",
      "model_module_version": "1.4.0",
      "model_name": "TextModel",
      "state": {
       "_dom_classes": [
        "blankcell"
       ],
       "disabled": true,
       "layout": "IPY_MODEL_581cef88be2741a9bde4fcb6422ff1b0",
       "style": "IPY_MODEL_9bff6a3aac96456ab2bc38141cd258bf"
      }
     },
     "4cd1da0ade86427db1f53d015bbf1179": {
      "model_module": "@jupyter-widgets/controls",
      "model_module_version": "1.4.0",
      "model_name": "ButtonModel",
      "state": {
       "_dom_classes": [
        "gridbutton",
        "b3"
       ],
       "disabled": true,
       "layout": "IPY_MODEL_581cef88be2741a9bde4fcb6422ff1b0",
       "style": "IPY_MODEL_921987c4e198455680856b922e0dbf8d"
      }
     },
     "4cd78360d6dd47468e812c711f085492": {
      "model_module": "@jupyter-widgets/controls",
      "model_module_version": "1.4.0",
      "model_name": "ButtonStyleModel",
      "state": {}
     },
     "4ce65d3e542f4ae1a5458961c1762ee4": {
      "model_module": "@jupyter-widgets/controls",
      "model_module_version": "1.4.0",
      "model_name": "ButtonStyleModel",
      "state": {}
     },
     "4cec0d5f77274a53817292547adf7da2": {
      "model_module": "@jupyter-widgets/base",
      "model_module_version": "1.1.0",
      "model_name": "LayoutModel",
      "state": {}
     },
     "4cef27fc2be3417497a59a3f8e33369b": {
      "model_module": "@jupyter-widgets/base",
      "model_module_version": "1.1.0",
      "model_name": "LayoutModel",
      "state": {}
     },
     "4cf6616e09714759b62dc66c6f538df6": {
      "model_module": "@jupyter-widgets/controls",
      "model_module_version": "1.4.0",
      "model_name": "ButtonStyleModel",
      "state": {}
     },
     "4cf6fe93de32442da21ef0ee80eebdc1": {
      "model_module": "@jupyter-widgets/base",
      "model_module_version": "1.1.0",
      "model_name": "LayoutModel",
      "state": {}
     },
     "4cfe16d5a9cf4aa5ace48588cc92fee8": {
      "model_module": "@jupyter-widgets/controls",
      "model_module_version": "1.4.0",
      "model_name": "ButtonModel",
      "state": {
       "_dom_classes": [
        "gridbutton",
        "b3"
       ],
       "disabled": true,
       "layout": "IPY_MODEL_d861c29f26634ccfb59b53f634fc937d",
       "style": "IPY_MODEL_a31d92d2b1c54ea4b633c7d25f6ab19f"
      }
     },
     "4d3f71eea0794d368289a22ef3c23838": {
      "model_module": "@jupyter-widgets/controls",
      "model_module_version": "1.4.0",
      "model_name": "ButtonModel",
      "state": {
       "_dom_classes": [
        "gridbutton",
        "b2"
       ],
       "disabled": true,
       "layout": "IPY_MODEL_581cef88be2741a9bde4fcb6422ff1b0",
       "style": "IPY_MODEL_ab7e5530d23c4ac5ae8aa5b642cfd4bf"
      }
     },
     "4d4c6413743c45afa0b39cd6781c259f": {
      "model_module": "@jupyter-widgets/controls",
      "model_module_version": "1.4.0",
      "model_name": "ButtonModel",
      "state": {
       "_dom_classes": [
        "gridbutton",
        "b2"
       ],
       "disabled": true,
       "layout": "IPY_MODEL_196c83a3b43a46dca975be63611b8c09",
       "style": "IPY_MODEL_f0ecab6ce41d4c85806942c308cc6968"
      }
     },
     "4d6525ee35eb498eac58476f1151f93e": {
      "model_module": "@jupyter-widgets/controls",
      "model_module_version": "1.4.0",
      "model_name": "ButtonStyleModel",
      "state": {}
     },
     "4d8980a6e1b645239f18cb01dc549dcc": {
      "model_module": "@jupyter-widgets/base",
      "model_module_version": "1.1.0",
      "model_name": "LayoutModel",
      "state": {}
     },
     "4d956e712b034876870f48172118e119": {
      "model_module": "@jupyter-widgets/base",
      "model_module_version": "1.1.0",
      "model_name": "LayoutModel",
      "state": {}
     },
     "4dac459e367444898c64627bfe7b908c": {
      "model_module": "@jupyter-widgets/controls",
      "model_module_version": "1.4.0",
      "model_name": "ButtonStyleModel",
      "state": {}
     },
     "4dcb82db7ab940548c27274c93ff5051": {
      "model_module": "@jupyter-widgets/base",
      "model_module_version": "1.1.0",
      "model_name": "LayoutModel",
      "state": {}
     },
     "4dd2193b2ead405abb9c0ddd9f32b2f6": {
      "model_module": "@jupyter-widgets/controls",
      "model_module_version": "1.4.0",
      "model_name": "TextModel",
      "state": {
       "_dom_classes": [
        "blankcell"
       ],
       "disabled": true,
       "layout": "IPY_MODEL_581cef88be2741a9bde4fcb6422ff1b0",
       "style": "IPY_MODEL_7621b701fe6349bd9571468ef5859b15"
      }
     },
     "4dd77625580b46df8ea2a9cfaf9e77b0": {
      "model_module": "@jupyter-widgets/controls",
      "model_module_version": "1.4.0",
      "model_name": "ButtonStyleModel",
      "state": {}
     },
     "4de79d6c27eb4dcbbe875ff537de80f4": {
      "model_module": "@jupyter-widgets/controls",
      "model_module_version": "1.4.0",
      "model_name": "ButtonModel",
      "state": {
       "_dom_classes": [
        "gridbutton",
        "b3"
       ],
       "disabled": true,
       "layout": "IPY_MODEL_196c83a3b43a46dca975be63611b8c09",
       "style": "IPY_MODEL_0e5b92e5d080481ca44d3e4ef404d9d9"
      }
     },
     "4e0db71938b74218a2767ac74c77b76c": {
      "model_module": "@jupyter-widgets/controls",
      "model_module_version": "1.4.0",
      "model_name": "ButtonModel",
      "state": {
       "description": "+",
       "layout": "IPY_MODEL_72f676ab618b4909b61ae3421cb6e374",
       "style": "IPY_MODEL_d8364e5310974337a2f77cb636bec9fd"
      }
     },
     "4e12051168bd47d8a33a62698676e61f": {
      "model_module": "@jupyter-widgets/base",
      "model_module_version": "1.1.0",
      "model_name": "LayoutModel",
      "state": {}
     },
     "4e631021611748689c8e92582650df0b": {
      "model_module": "@jupyter-widgets/controls",
      "model_module_version": "1.4.0",
      "model_name": "ButtonStyleModel",
      "state": {}
     },
     "4e756d8f38a647e886a9960937e14330": {
      "model_module": "@jupyter-widgets/controls",
      "model_module_version": "1.4.0",
      "model_name": "ButtonModel",
      "state": {
       "_dom_classes": [
        "gridbutton",
        "b4"
       ],
       "disabled": true,
       "layout": "IPY_MODEL_581cef88be2741a9bde4fcb6422ff1b0",
       "style": "IPY_MODEL_f694c718ee184d9888361c7472447a45"
      }
     },
     "4e83a806cb2c4af8bbc73a0226d92aec": {
      "model_module": "@jupyter-widgets/controls",
      "model_module_version": "1.4.0",
      "model_name": "ButtonModel",
      "state": {
       "_dom_classes": [
        "gridbutton",
        "b1"
       ],
       "disabled": true,
       "layout": "IPY_MODEL_196c83a3b43a46dca975be63611b8c09",
       "style": "IPY_MODEL_9581258e2f334a1d8e2162787224a230"
      }
     },
     "4e90ca46f1d04160ba858f80767a444a": {
      "model_module": "@jupyter-widgets/controls",
      "model_module_version": "1.4.0",
      "model_name": "ButtonModel",
      "state": {
       "_dom_classes": [
        "gridbutton",
        "b3"
       ],
       "disabled": true,
       "layout": "IPY_MODEL_581cef88be2741a9bde4fcb6422ff1b0",
       "style": "IPY_MODEL_f33a9e97b274494cb6c0d9b55eaeaf07"
      }
     },
     "4eb1a2a3346f4976a476218313d93433": {
      "model_module": "@jupyter-widgets/base",
      "model_module_version": "1.1.0",
      "model_name": "LayoutModel",
      "state": {}
     },
     "4ebd5dcacb724a8c909cf64ccc3a0a4f": {
      "model_module": "@jupyter-widgets/controls",
      "model_module_version": "1.4.0",
      "model_name": "TextModel",
      "state": {
       "_dom_classes": [
        "gridcell",
        "removablecell"
       ],
       "_view_module": "sage-combinat-widgets",
       "_view_module_version": "^0.2.0",
       "_view_name": "TextWithTooltipView",
       "continuous_update": false,
       "description_tooltip": "",
       "layout": "IPY_MODEL_766582b5db4b44c3b9eb63d9400a6c69",
       "style": "IPY_MODEL_a2fb39ad2d4549f8836e29dc175b8c12",
       "value": "11"
      }
     },
     "4ebdb5f5320d4e1d89f02cad429e340a": {
      "model_module": "@jupyter-widgets/controls",
      "model_module_version": "1.4.0",
      "model_name": "ButtonModel",
      "state": {
       "_dom_classes": [
        "gridbutton",
        "b2"
       ],
       "disabled": true,
       "layout": "IPY_MODEL_196c83a3b43a46dca975be63611b8c09",
       "style": "IPY_MODEL_57318341fdfe497d85017dd079530ee9"
      }
     },
     "4ec1371b17dd405f9af755ddeb0c49c9": {
      "model_module": "@jupyter-widgets/controls",
      "model_module_version": "1.4.0",
      "model_name": "ToggleButtonModel",
      "state": {
       "_dom_classes": [
        "gridbutton",
        "addablebutton"
       ],
       "description": "+",
       "layout": "IPY_MODEL_24198035057f48ca81a6fa9a718c3f55",
       "style": "IPY_MODEL_440b720d360f49d48db367c13caf5563",
       "tooltip": "Click to add a cell here"
      }
     },
     "4edd6a4b33f9407da20d816076945e7a": {
      "model_module": "@jupyter-widgets/controls",
      "model_module_version": "1.4.0",
      "model_name": "ButtonStyleModel",
      "state": {}
     },
     "4edfa5a9957a402fb923ed905e4cfd48": {
      "model_module": "@jupyter-widgets/controls",
      "model_module_version": "1.4.0",
      "model_name": "ButtonModel",
      "state": {
       "_dom_classes": [
        "gridbutton",
        "b3"
       ],
       "disabled": true,
       "layout": "IPY_MODEL_d861c29f26634ccfb59b53f634fc937d",
       "style": "IPY_MODEL_a9cfc32863b847eb8cabba7a35817ab5"
      }
     },
     "4f42221f929343319a075d26d7ed1f0d": {
      "model_module": "@jupyter-widgets/controls",
      "model_module_version": "1.4.0",
      "model_name": "DescriptionStyleModel",
      "state": {
       "description_width": ""
      }
     },
     "4f5c286bb2a84845a9697593e3876517": {
      "model_module": "@jupyter-widgets/controls",
      "model_module_version": "1.4.0",
      "model_name": "DescriptionStyleModel",
      "state": {
       "description_width": ""
      }
     },
     "4f5efdfaa150423a862d7abfbe4c557b": {
      "model_module": "@jupyter-widgets/controls",
      "model_module_version": "1.4.0",
      "model_name": "ButtonModel",
      "state": {
       "_dom_classes": [
        "gridbutton",
        "b2"
       ],
       "disabled": true,
       "layout": "IPY_MODEL_196c83a3b43a46dca975be63611b8c09",
       "style": "IPY_MODEL_bc06c3893ea74628a8c592fa816d0ac8"
      }
     },
     "4f66a973e3b248f9b518490190541cb8": {
      "model_module": "@jupyter-widgets/base",
      "model_module_version": "1.1.0",
      "model_name": "LayoutModel",
      "state": {}
     },
     "4f6dee621ca642a980fcbe9cb3d432ea": {
      "model_module": "@jupyter-widgets/controls",
      "model_module_version": "1.4.0",
      "model_name": "TextModel",
      "state": {
       "_dom_classes": [
        "gridcell"
       ],
       "_view_module": "sage-combinat-widgets",
       "_view_module_version": "^0.2.0",
       "_view_name": "TextWithTooltipView",
       "continuous_update": false,
       "description_tooltip": "",
       "layout": "IPY_MODEL_742ce9cb5c1a4d358dd3aef0fa324d55",
       "style": "IPY_MODEL_455cfe6c4b1642efa5b46bec51e87527",
       "value": "7"
      }
     },
     "4f76637617024accbc0847f9ab687f45": {
      "model_module": "@jupyter-widgets/base",
      "model_module_version": "1.1.0",
      "model_name": "LayoutModel",
      "state": {}
     },
     "4f8203e9002244a8a74d56840cdcecd1": {
      "model_module": "@jupyter-widgets/base",
      "model_module_version": "1.1.0",
      "model_name": "LayoutModel",
      "state": {}
     },
     "4f8350e41af5463ebe0ac918f2a2bce7": {
      "model_module": "@jupyter-widgets/controls",
      "model_module_version": "1.4.0",
      "model_name": "ButtonModel",
      "state": {
       "_dom_classes": [
        "gridbutton",
        "b3"
       ],
       "disabled": true,
       "layout": "IPY_MODEL_196c83a3b43a46dca975be63611b8c09",
       "style": "IPY_MODEL_3873d87d82e2420598ba6d3252d8e335"
      }
     },
     "4f9686034bb94be7abcf9af01212596e": {
      "model_module": "@jupyter-widgets/controls",
      "model_module_version": "1.4.0",
      "model_name": "DescriptionStyleModel",
      "state": {
       "description_width": ""
      }
     },
     "4fc4f94de8bb4e47981fdd8349a50f75": {
      "model_module": "@jupyter-widgets/base",
      "model_module_version": "1.1.0",
      "model_name": "LayoutModel",
      "state": {}
     },
     "4fe7f2eb08414087a035349c6c3727c1": {
      "model_module": "@jupyter-widgets/base",
      "model_module_version": "1.1.0",
      "model_name": "LayoutModel",
      "state": {}
     },
     "4fee66ae6d774222819b6f73459b0a3a": {
      "model_module": "@jupyter-widgets/controls",
      "model_module_version": "1.4.0",
      "model_name": "ButtonStyleModel",
      "state": {}
     },
     "502c8889fa384b80a7fa7f882e3109ea": {
      "model_module": "@jupyter-widgets/controls",
      "model_module_version": "1.4.0",
      "model_name": "DescriptionStyleModel",
      "state": {
       "description_width": ""
      }
     },
     "503727468b7e4f0196d32f2b7f8cafec": {
      "model_module": "@jupyter-widgets/controls",
      "model_module_version": "1.4.0",
      "model_name": "ButtonModel",
      "state": {
       "_dom_classes": [
        "gridbutton",
        "b3"
       ],
       "disabled": true,
       "layout": "IPY_MODEL_581cef88be2741a9bde4fcb6422ff1b0",
       "style": "IPY_MODEL_1f7734d750ed4dacaaafd72ff80b1d8b"
      }
     },
     "5056822fe32147fc85d4853352d1dc91": {
      "model_module": "@jupyter-widgets/controls",
      "model_module_version": "1.4.0",
      "model_name": "DescriptionStyleModel",
      "state": {
       "description_width": ""
      }
     },
     "505dcb82f1e24d3684eb7ccfa9a308f4": {
      "model_module": "@jupyter-widgets/controls",
      "model_module_version": "1.4.0",
      "model_name": "ButtonModel",
      "state": {
       "_dom_classes": [
        "gridbutton",
        "b4"
       ],
       "disabled": true,
       "layout": "IPY_MODEL_581cef88be2741a9bde4fcb6422ff1b0",
       "style": "IPY_MODEL_859d5eddd62e4b008c8d46829adfe6b1"
      }
     },
     "50730ef409fb493aa66a5c429e47766e": {
      "model_module": "@jupyter-widgets/controls",
      "model_module_version": "1.4.0",
      "model_name": "HBoxModel",
      "state": {
       "children": [
        "IPY_MODEL_3c7605f6a3224145ae5ea2438337d770",
        "IPY_MODEL_b679a63463844de8854ea33f4376e29f",
        "IPY_MODEL_7300610cbe6d4b93b84df4345adfa8eb",
        "IPY_MODEL_e2a7838d696641ee8d47c1b6f293496a",
        "IPY_MODEL_9d01b809651f4fc6a6a8b43c8e38b841",
        "IPY_MODEL_5431d09a95ab4df19a6b41f4a8578804",
        "IPY_MODEL_2262b27f732741f1a7fe2bdcf330eb9f",
        "IPY_MODEL_29b1ea99ca39413da6ff0ca7f981ee38",
        "IPY_MODEL_f3951b13aa194b978c3802b563f5da22",
        "IPY_MODEL_d679bfd2817d4b539b6dd5011bb4fbe0",
        "IPY_MODEL_ff3705fe4e234da594ccc099758fae9d",
        "IPY_MODEL_9b2c23e4aafb487ab473ac5f4b900449",
        "IPY_MODEL_16992096b7d5408297d9c963018f46a1",
        "IPY_MODEL_93fa079b36c1417ba4f0ddd450db0a63",
        "IPY_MODEL_133a77c8c2fe484a8f52e2c612e3491b",
        "IPY_MODEL_b0f4eea89b374aebbe57017b0499d826"
       ],
       "layout": "IPY_MODEL_5d1f6faad7e24635b7000c5d1e20b34d"
      }
     },
     "5087bc82f431482e8ae2463de4c36389": {
      "model_module": "@jupyter-widgets/base",
      "model_module_version": "1.1.0",
      "model_name": "LayoutModel",
      "state": {}
     },
     "50b19b09436949b4b2e0cb8eb18cc412": {
      "model_module": "@jupyter-widgets/controls",
      "model_module_version": "1.4.0",
      "model_name": "DescriptionStyleModel",
      "state": {
       "description_width": ""
      }
     },
     "50cbe0765cef458381a4137ef228cf2e": {
      "model_module": "@jupyter-widgets/controls",
      "model_module_version": "1.4.0",
      "model_name": "ButtonStyleModel",
      "state": {}
     },
     "50e58fbd473f4bb6b80ab4bcc4048220": {
      "model_module": "@jupyter-widgets/base",
      "model_module_version": "1.1.0",
      "model_name": "LayoutModel",
      "state": {}
     },
     "50f93c59bdf34314a16995efb8875660": {
      "model_module": "@jupyter-widgets/controls",
      "model_module_version": "1.4.0",
      "model_name": "ButtonModel",
      "state": {
       "_dom_classes": [
        "gridbutton",
        "b2"
       ],
       "disabled": true,
       "layout": "IPY_MODEL_196c83a3b43a46dca975be63611b8c09",
       "style": "IPY_MODEL_00f36181f98b43fe92d2fbe13de7fab1"
      }
     },
     "51092668af71429283b2f45c9554e655": {
      "model_module": "@jupyter-widgets/controls",
      "model_module_version": "1.4.0",
      "model_name": "ButtonStyleModel",
      "state": {}
     },
     "5110a91e817f4ad4a4c4b708f58447d6": {
      "model_module": "@jupyter-widgets/controls",
      "model_module_version": "1.4.0",
      "model_name": "ButtonModel",
      "state": {
       "_dom_classes": [
        "gridbutton",
        "b2"
       ],
       "disabled": true,
       "layout": "IPY_MODEL_581cef88be2741a9bde4fcb6422ff1b0",
       "style": "IPY_MODEL_2eaf52b1401646219b42db1e0ee1d633"
      }
     },
     "511ad5e6f53c4a7bb7128a839f2aca11": {
      "model_module": "@jupyter-widgets/base",
      "model_module_version": "1.1.0",
      "model_name": "LayoutModel",
      "state": {}
     },
     "512efc4aa93741468a1f221cdc8f6b5f": {
      "model_module": "@jupyter-widgets/controls",
      "model_module_version": "1.4.0",
      "model_name": "ToggleButtonModel",
      "state": {
       "_dom_classes": [
        "gridbutton"
       ],
       "layout": "IPY_MODEL_ae25d8ee9fe646ebb7fdd668d6ed6cab",
       "style": "IPY_MODEL_56497326ae4248378606998496a9a074",
       "tooltip": "0, 3"
      }
     },
     "513ce992697b4c2b9be9b282cc46928d": {
      "model_module": "@jupyter-widgets/base",
      "model_module_version": "1.1.0",
      "model_name": "LayoutModel",
      "state": {}
     },
     "515834f6d6d2416f979b99007338137d": {
      "model_module": "@jupyter-widgets/controls",
      "model_module_version": "1.4.0",
      "model_name": "ButtonModel",
      "state": {
       "_dom_classes": [
        "gridbutton",
        "b4"
       ],
       "disabled": true,
       "layout": "IPY_MODEL_196c83a3b43a46dca975be63611b8c09",
       "style": "IPY_MODEL_12c99c786e9047b9b34becb3c3bfc373"
      }
     },
     "516e0a4495ab4586857ec65e397967ef": {
      "model_module": "@jupyter-widgets/controls",
      "model_module_version": "1.4.0",
      "model_name": "ButtonModel",
      "state": {
       "_dom_classes": [
        "gridbutton",
        "b1"
       ],
       "disabled": true,
       "layout": "IPY_MODEL_d861c29f26634ccfb59b53f634fc937d",
       "style": "IPY_MODEL_a62c0d48cd4440849e6008187fb8a453"
      }
     },
     "51782c3e880b4c5d9244d9ef96d01828": {
      "model_module": "@jupyter-widgets/controls",
      "model_module_version": "1.4.0",
      "model_name": "ButtonStyleModel",
      "state": {}
     },
     "51803ab10d1b4bfabaa75db7a2604236": {
      "model_module": "@jupyter-widgets/controls",
      "model_module_version": "1.4.0",
      "model_name": "ButtonModel",
      "state": {
       "_dom_classes": [
        "gridbutton",
        "b3"
       ],
       "disabled": true,
       "layout": "IPY_MODEL_196c83a3b43a46dca975be63611b8c09",
       "style": "IPY_MODEL_d5ea58dcda35462490cb3c69120284af"
      }
     },
     "51827e0da81d4fbc94ca7a0979d1a7c8": {
      "model_module": "@jupyter-widgets/controls",
      "model_module_version": "1.4.0",
      "model_name": "ButtonModel",
      "state": {
       "_dom_classes": [
        "gridbutton",
        "b3"
       ],
       "disabled": true,
       "layout": "IPY_MODEL_581cef88be2741a9bde4fcb6422ff1b0",
       "style": "IPY_MODEL_7d74fb66eaa9409eb9316b5ec4282a3a"
      }
     },
     "51c20c568c9843958ed3b092e511ee59": {
      "model_module": "@jupyter-widgets/controls",
      "model_module_version": "1.4.0",
      "model_name": "DescriptionStyleModel",
      "state": {
       "description_width": ""
      }
     },
     "51c238d40efd45c9875e3fc24730d117": {
      "model_module": "@jupyter-widgets/base",
      "model_module_version": "1.1.0",
      "model_name": "LayoutModel",
      "state": {}
     },
     "51e06a9225ae40fda774b3f42d46304b": {
      "model_module": "@jupyter-widgets/base",
      "model_module_version": "1.1.0",
      "model_name": "LayoutModel",
      "state": {}
     },
     "51f0a9c20de14c72b81e9def18b1bae5": {
      "model_module": "@jupyter-widgets/controls",
      "model_module_version": "1.4.0",
      "model_name": "ButtonModel",
      "state": {
       "_dom_classes": [
        "gridbutton",
        "b3"
       ],
       "disabled": true,
       "layout": "IPY_MODEL_196c83a3b43a46dca975be63611b8c09",
       "style": "IPY_MODEL_07ded992dd994010947091a16e9248f7"
      }
     },
     "525560aadc01482bb3e41decaa119743": {
      "model_module": "@jupyter-widgets/controls",
      "model_module_version": "1.4.0",
      "model_name": "ButtonModel",
      "state": {
       "_dom_classes": [
        "gridbutton",
        "b4"
       ],
       "disabled": true,
       "layout": "IPY_MODEL_196c83a3b43a46dca975be63611b8c09",
       "style": "IPY_MODEL_1df1c55c1f724a21b864e002bb27e5f2"
      }
     },
     "52601c5f44254933bd063a772b099d66": {
      "model_module": "@jupyter-widgets/base",
      "model_module_version": "1.1.0",
      "model_name": "LayoutModel",
      "state": {}
     },
     "5269251aed1b4ec3ae2b58eae14b1cd6": {
      "model_module": "@jupyter-widgets/controls",
      "model_module_version": "1.4.0",
      "model_name": "ButtonModel",
      "state": {
       "_dom_classes": [
        "gridbutton",
        "b3"
       ],
       "disabled": true,
       "layout": "IPY_MODEL_d861c29f26634ccfb59b53f634fc937d",
       "style": "IPY_MODEL_1dd794b05d4243f0a783069e6eee9218"
      }
     },
     "528ad1670456423b96d861b52b9ca0c6": {
      "model_module": "@jupyter-widgets/base",
      "model_module_version": "1.1.0",
      "model_name": "LayoutModel",
      "state": {}
     },
     "52aadf1bf9dd4a44b75ae4c6a1a26b4a": {
      "model_module": "@jupyter-widgets/controls",
      "model_module_version": "1.4.0",
      "model_name": "HBoxModel",
      "state": {
       "children": [
        "IPY_MODEL_9b389a8d192046e6b86b986da5df0464",
        "IPY_MODEL_a5559def05684230aabe721d87062171",
        "IPY_MODEL_441a9b8bdb504ac18799ce7ab4dc67c3",
        "IPY_MODEL_b76af252df68435faa5f5db87d98234d",
        "IPY_MODEL_892d3d881f8642c9b863ed4afd156315",
        "IPY_MODEL_9b4741d998f64424bd8003669f615de1",
        "IPY_MODEL_503727468b7e4f0196d32f2b7f8cafec",
        "IPY_MODEL_4e756d8f38a647e886a9960937e14330",
        "IPY_MODEL_2f7a119bc2554986aaa0ffc826a5da4e",
        "IPY_MODEL_38c8b666ec204ef4b54971c59cfebb34",
        "IPY_MODEL_2f6506c082184c598f17897f4c7628d8",
        "IPY_MODEL_774ea8d552954090952c236efbc4a98c",
        "IPY_MODEL_c585279bd8c34c39be30d164728d13ce",
        "IPY_MODEL_6f9de7adb55a44c0a3b464362f3f0f20",
        "IPY_MODEL_c92ac3ac57f4444085ae5b9546866dc2"
       ],
       "layout": "IPY_MODEL_48ec590a0f7b4011bbf81ac7d7790b0f"
      }
     },
     "52ad5da1692749059314801b26cc35fd": {
      "model_module": "@jupyter-widgets/base",
      "model_module_version": "1.1.0",
      "model_name": "LayoutModel",
      "state": {}
     },
     "52ae7742170142a6beba2d5b9f132c7d": {
      "model_module": "@jupyter-widgets/base",
      "model_module_version": "1.1.0",
      "model_name": "LayoutModel",
      "state": {}
     },
     "52b494240e5041818d38f653739b8ba4": {
      "model_module": "@jupyter-widgets/base",
      "model_module_version": "1.1.0",
      "model_name": "LayoutModel",
      "state": {}
     },
     "52ce3b802d90408aa9b8e3d530b91f54": {
      "model_module": "@jupyter-widgets/controls",
      "model_module_version": "1.4.0",
      "model_name": "DescriptionStyleModel",
      "state": {
       "description_width": ""
      }
     },
     "52df069821f64aa1836d52f6d03d7bd0": {
      "model_module": "@jupyter-widgets/base",
      "model_module_version": "1.1.0",
      "model_name": "LayoutModel",
      "state": {}
     },
     "52e0dba99f374602b21e2f4aec0f6d75": {
      "model_module": "@jupyter-widgets/base",
      "model_module_version": "1.1.0",
      "model_name": "LayoutModel",
      "state": {}
     },
     "52ebee3f812041bdb235d1f33a630ad2": {
      "model_module": "@jupyter-widgets/controls",
      "model_module_version": "1.4.0",
      "model_name": "ButtonStyleModel",
      "state": {}
     },
     "53150ef30e5b41179d4437dc4336ad5f": {
      "model_module": "@jupyter-widgets/controls",
      "model_module_version": "1.4.0",
      "model_name": "DescriptionStyleModel",
      "state": {
       "description_width": ""
      }
     },
     "53248e2cfba746329ba7417e4acf0778": {
      "model_module": "@jupyter-widgets/controls",
      "model_module_version": "1.4.0",
      "model_name": "ButtonStyleModel",
      "state": {}
     },
     "5342d7f8a63c4326bd5722fd31a78bea": {
      "model_module": "@jupyter-widgets/base",
      "model_module_version": "1.1.0",
      "model_name": "LayoutModel",
      "state": {}
     },
     "53979acae5da44688e8cd71babdc677e": {
      "model_module": "@jupyter-widgets/controls",
      "model_module_version": "1.4.0",
      "model_name": "ToggleButtonModel",
      "state": {
       "_dom_classes": [
        "gridbutton"
       ],
       "description": "-",
       "layout": "IPY_MODEL_ae25d8ee9fe646ebb7fdd668d6ed6cab",
       "style": "IPY_MODEL_00fabfaeedbd45c28792b14d7601dee1",
       "tooltip": "1, 0"
      }
     },
     "53a16436ed8c4c8eb03262639f154985": {
      "model_module": "@jupyter-widgets/controls",
      "model_module_version": "1.4.0",
      "model_name": "DescriptionStyleModel",
      "state": {
       "description_width": ""
      }
     },
     "53da7936224340039000bd7fe242c864": {
      "model_module": "@jupyter-widgets/base",
      "model_module_version": "1.1.0",
      "model_name": "LayoutModel",
      "state": {
       "height": "2em",
       "margin": "0",
       "padding": "0",
       "width": "2em"
      }
     },
     "53e002050b034e69ba207f622307df5e": {
      "model_module": "@jupyter-widgets/base",
      "model_module_version": "1.1.0",
      "model_name": "LayoutModel",
      "state": {}
     },
     "53e12e649d474558a6804e20d0f99afb": {
      "model_module": "@jupyter-widgets/base",
      "model_module_version": "1.1.0",
      "model_name": "LayoutModel",
      "state": {}
     },
     "541aa96391c74fdab39c9140d2ea2375": {
      "model_module": "@jupyter-widgets/base",
      "model_module_version": "1.1.0",
      "model_name": "LayoutModel",
      "state": {}
     },
     "541fc8b0d7dd447c91471e67ac20c85f": {
      "model_module": "@jupyter-widgets/controls",
      "model_module_version": "1.4.0",
      "model_name": "DescriptionStyleModel",
      "state": {
       "description_width": ""
      }
     },
     "5431d09a95ab4df19a6b41f4a8578804": {
      "model_module": "@jupyter-widgets/controls",
      "model_module_version": "1.4.0",
      "model_name": "ButtonModel",
      "state": {
       "_dom_classes": [
        "gridbutton",
        "b2"
       ],
       "disabled": true,
       "layout": "IPY_MODEL_581cef88be2741a9bde4fcb6422ff1b0",
       "style": "IPY_MODEL_e1e97652a66d46758afa52854c7b9799"
      }
     },
     "5446fdf3417a4337ad7a5a883bf28613": {
      "model_module": "@jupyter-widgets/controls",
      "model_module_version": "1.4.0",
      "model_name": "ButtonModel",
      "state": {
       "_dom_classes": [
        "gridbutton",
        "b3"
       ],
       "disabled": true,
       "layout": "IPY_MODEL_196c83a3b43a46dca975be63611b8c09",
       "style": "IPY_MODEL_bbede1c95cb04360a4ec2d65ae3d95ef"
      }
     },
     "5473f4196de84fa0bf4c7c46b2ef37a7": {
      "model_module": "@jupyter-widgets/base",
      "model_module_version": "1.1.0",
      "model_name": "LayoutModel",
      "state": {}
     },
     "548c332c0fba4d398526efac9b601994": {
      "model_module": "@jupyter-widgets/base",
      "model_module_version": "1.1.0",
      "model_name": "LayoutModel",
      "state": {}
     },
     "54bf213772f348b18ad1535413be099b": {
      "model_module": "@jupyter-widgets/controls",
      "model_module_version": "1.4.0",
      "model_name": "HBoxModel",
      "state": {
       "children": [
        "IPY_MODEL_35259d66151643b4b44f4b88d0cce58d",
        "IPY_MODEL_b3c32a540bc94835b64f98a1119222fa",
        "IPY_MODEL_1454b42812af46f0a217f42dd792cb2a"
       ],
       "layout": "IPY_MODEL_dd2cdbda08c04f198e69ff1c996dc9b0"
      }
     },
     "54de8228f7404c70b448c3e6cb1aaf50": {
      "model_module": "@jupyter-widgets/base",
      "model_module_version": "1.1.0",
      "model_name": "LayoutModel",
      "state": {}
     },
     "54e60e80ee2b4610a0aa4de2b267d9cc": {
      "model_module": "@jupyter-widgets/controls",
      "model_module_version": "1.4.0",
      "model_name": "ButtonStyleModel",
      "state": {}
     },
     "54eeab624aae457c84b0bb1148d556a9": {
      "model_module": "@jupyter-widgets/base",
      "model_module_version": "1.1.0",
      "model_name": "LayoutModel",
      "state": {}
     },
     "55180500714d4d68956c298187d34253": {
      "model_module": "@jupyter-widgets/controls",
      "model_module_version": "1.4.0",
      "model_name": "DescriptionStyleModel",
      "state": {
       "description_width": ""
      }
     },
     "551f34c0feaa4d83b7dadead1266c7c4": {
      "model_module": "@jupyter-widgets/controls",
      "model_module_version": "1.4.0",
      "model_name": "DescriptionStyleModel",
      "state": {
       "description_width": ""
      }
     },
     "5558aa742e1e455ca14843dbf2c64440": {
      "model_module": "@jupyter-widgets/base",
      "model_module_version": "1.1.0",
      "model_name": "LayoutModel",
      "state": {}
     },
     "55620f55b5fd4a808fafc2fbf3a6a5fb": {
      "model_module": "@jupyter-widgets/controls",
      "model_module_version": "1.4.0",
      "model_name": "TextModel",
      "state": {
       "_dom_classes": [
        "blankcell"
       ],
       "disabled": true,
       "layout": "IPY_MODEL_581cef88be2741a9bde4fcb6422ff1b0",
       "style": "IPY_MODEL_4a0852c67f6746d7832e734209f668dc"
      }
     },
     "556a6d3b83564f53a922662b2fbf889d": {
      "model_module": "@jupyter-widgets/controls",
      "model_module_version": "1.4.0",
      "model_name": "DescriptionStyleModel",
      "state": {
       "description_width": ""
      }
     },
     "556aeee495834d20a29c5d870dca29e4": {
      "model_module": "@jupyter-widgets/base",
      "model_module_version": "1.1.0",
      "model_name": "LayoutModel",
      "state": {}
     },
     "55945b6d55874bd3b4053b4583e3634d": {
      "model_module": "@jupyter-widgets/base",
      "model_module_version": "1.1.0",
      "model_name": "LayoutModel",
      "state": {}
     },
     "559e3e8eff5b45d4997d82b31ec6d9ad": {
      "model_module": "@jupyter-widgets/controls",
      "model_module_version": "1.4.0",
      "model_name": "ButtonModel",
      "state": {
       "_dom_classes": [
        "gridbutton",
        "b2"
       ],
       "disabled": true,
       "layout": "IPY_MODEL_196c83a3b43a46dca975be63611b8c09",
       "style": "IPY_MODEL_eb6e21358f1c49bb92387dcadd5ea131"
      }
     },
     "55c1a44fb5094c0595cc6f3732633f46": {
      "model_module": "@jupyter-widgets/controls",
      "model_module_version": "1.4.0",
      "model_name": "ButtonModel",
      "state": {
       "_dom_classes": [
        "gridbutton",
        "b1"
       ],
       "disabled": true,
       "layout": "IPY_MODEL_581cef88be2741a9bde4fcb6422ff1b0",
       "style": "IPY_MODEL_272ca62dbc7f4da9ac4cb88602af52d5"
      }
     },
     "5603d9ca277a4224a4f41476ed2af9c8": {
      "model_module": "@jupyter-widgets/controls",
      "model_module_version": "1.4.0",
      "model_name": "ButtonStyleModel",
      "state": {}
     },
     "562c91d87f8a4c84bc6a56808654abac": {
      "model_module": "@jupyter-widgets/controls",
      "model_module_version": "1.4.0",
      "model_name": "TextModel",
      "state": {
       "_dom_classes": [
        "blankcell"
       ],
       "disabled": true,
       "layout": "IPY_MODEL_d861c29f26634ccfb59b53f634fc937d",
       "style": "IPY_MODEL_9a50ce30449443cd838279e9ba28efc5"
      }
     },
     "562dde4fdaf14065bbdb9b52d53708ee": {
      "model_module": "@jupyter-widgets/controls",
      "model_module_version": "1.4.0",
      "model_name": "ButtonModel",
      "state": {
       "_dom_classes": [
        "gridbutton",
        "b4"
       ],
       "disabled": true,
       "layout": "IPY_MODEL_581cef88be2741a9bde4fcb6422ff1b0",
       "style": "IPY_MODEL_46c3672356014a1e9bc03ba9821f9c9c"
      }
     },
     "56356f29b19841058ca13c19ad1bc1b6": {
      "model_module": "@jupyter-widgets/base",
      "model_module_version": "1.1.0",
      "model_name": "LayoutModel",
      "state": {}
     },
     "5635fac2be33441e8557f239ece09265": {
      "model_module": "@jupyter-widgets/base",
      "model_module_version": "1.1.0",
      "model_name": "LayoutModel",
      "state": {}
     },
     "56430a2f2a514dcdb609a685dcf8496d": {
      "model_module": "@jupyter-widgets/controls",
      "model_module_version": "1.4.0",
      "model_name": "HBoxModel",
      "state": {
       "children": [
        "IPY_MODEL_3d6864732f1d4ece9aaf1cf88446ddd8"
       ],
       "layout": "IPY_MODEL_c969cd4ed4834650957153bcffff08f6"
      }
     },
     "56497326ae4248378606998496a9a074": {
      "model_module": "@jupyter-widgets/controls",
      "model_module_version": "1.4.0",
      "model_name": "DescriptionStyleModel",
      "state": {
       "description_width": ""
      }
     },
     "564ecfd5ef8b4629bdfe45184814ea34": {
      "model_module": "@jupyter-widgets/base",
      "model_module_version": "1.1.0",
      "model_name": "LayoutModel",
      "state": {}
     },
     "56649191bc744c7fa9090a54cfb257e9": {
      "model_module": "@jupyter-widgets/controls",
      "model_module_version": "1.4.0",
      "model_name": "TextModel",
      "state": {
       "_dom_classes": [
        "gridcell",
        "addablecell"
       ],
       "_view_module": "sage-combinat-widgets",
       "_view_module_version": "^0.2.0",
       "_view_name": "TextWithTooltipView",
       "continuous_update": false,
       "description_tooltip": "",
       "layout": "IPY_MODEL_742ce9cb5c1a4d358dd3aef0fa324d55",
       "style": "IPY_MODEL_bf42fa4dd67f4c0a9ee4ff1e1e8b2244"
      }
     },
     "567451a62a4d4183a9673cbe12daedf6": {
      "model_module": "@jupyter-widgets/controls",
      "model_module_version": "1.4.0",
      "model_name": "ButtonStyleModel",
      "state": {}
     },
     "569a0ce313fa4ecea2a7fcc8a51bd349": {
      "model_module": "@jupyter-widgets/base",
      "model_module_version": "1.1.0",
      "model_name": "LayoutModel",
      "state": {}
     },
     "569a9ccb6b864c40bfb7cf70a49eb400": {
      "model_module": "@jupyter-widgets/base",
      "model_module_version": "1.1.0",
      "model_name": "LayoutModel",
      "state": {}
     },
     "56c5a3b37702444e84f84d7bd2fa14dd": {
      "model_module": "@jupyter-widgets/controls",
      "model_module_version": "1.4.0",
      "model_name": "HBoxModel",
      "state": {
       "children": [
        "IPY_MODEL_bf0b5c09f2ba434084686259d9b21bc9",
        "IPY_MODEL_89209779088141f19bf7eae057d41cd5",
        "IPY_MODEL_eb88cb1ba1084eed8b487ee3bca6a977"
       ],
       "layout": "IPY_MODEL_68daa847f0c14988b5ba69997b46e844"
      }
     },
     "56fe552ac0f442a7bb2d40725dac26e4": {
      "model_module": "@jupyter-widgets/base",
      "model_module_version": "1.1.0",
      "model_name": "LayoutModel",
      "state": {}
     },
     "570c1a4b6e8f46f09fa5e85213bedbf0": {
      "model_module": "@jupyter-widgets/controls",
      "model_module_version": "1.4.0",
      "model_name": "TextModel",
      "state": {
       "_dom_classes": [
        "gridcell"
       ],
       "_view_module": "sage-combinat-widgets",
       "_view_module_version": "^0.2.0",
       "_view_name": "TextWithTooltipView",
       "continuous_update": false,
       "description_tooltip": "",
       "layout": "IPY_MODEL_742ce9cb5c1a4d358dd3aef0fa324d55",
       "style": "IPY_MODEL_ecd3e98f5a4545c485378c1739c4ec50",
       "value": "5"
      }
     },
     "571d868128da46a8b582a81b8ec6faec": {
      "model_module": "@jupyter-widgets/base",
      "model_module_version": "1.1.0",
      "model_name": "LayoutModel",
      "state": {}
     },
     "57318341fdfe497d85017dd079530ee9": {
      "model_module": "@jupyter-widgets/controls",
      "model_module_version": "1.4.0",
      "model_name": "ButtonStyleModel",
      "state": {}
     },
     "573e276fc17a40e297f98b0162765206": {
      "model_module": "@jupyter-widgets/controls",
      "model_module_version": "1.4.0",
      "model_name": "TextModel",
      "state": {
       "_dom_classes": [
        "gridcell"
       ],
       "_view_module": "sage-combinat-widgets",
       "_view_module_version": "^0.2.0",
       "_view_name": "TextWithTooltipView",
       "continuous_update": false,
       "description_tooltip": "",
       "layout": "IPY_MODEL_ae25d8ee9fe646ebb7fdd668d6ed6cab",
       "style": "IPY_MODEL_9846d3744f5848cf803556c573d6c5fe",
       "value": "3"
      }
     },
     "575bf3fde6294245ab8cf0ef7a502e07": {
      "model_module": "@jupyter-widgets/controls",
      "model_module_version": "1.4.0",
      "model_name": "ButtonStyleModel",
      "state": {}
     },
     "577358868f0248a5bdc41832f39e32d6": {
      "model_module": "@jupyter-widgets/controls",
      "model_module_version": "1.4.0",
      "model_name": "ButtonModel",
      "state": {
       "_dom_classes": [
        "gridbutton",
        "b3"
       ],
       "disabled": true,
       "layout": "IPY_MODEL_d861c29f26634ccfb59b53f634fc937d",
       "style": "IPY_MODEL_c4c981c1229f4973b5b8aa905603e698"
      }
     },
     "578cd7f2adc04aad99bdb8b3661cdacb": {
      "model_module": "@jupyter-widgets/controls",
      "model_module_version": "1.4.0",
      "model_name": "ButtonModel",
      "state": {
       "_dom_classes": [
        "gridbutton",
        "b3"
       ],
       "disabled": true,
       "layout": "IPY_MODEL_196c83a3b43a46dca975be63611b8c09",
       "style": "IPY_MODEL_02da995a5f2742ab9a64d5aa326be9f9"
      }
     },
     "57a5d1df36984f95b8ab2674227793e7": {
      "model_module": "@jupyter-widgets/controls",
      "model_module_version": "1.4.0",
      "model_name": "ButtonModel",
      "state": {
       "description": "-",
       "layout": "IPY_MODEL_0f43082ec7e94a019d52c042875ab05d",
       "style": "IPY_MODEL_8992c11ec5064948a9a88b1db3d3bb79"
      }
     },
     "57a90274d89040a7b22b1ec19495929f": {
      "model_module": "@jupyter-widgets/controls",
      "model_module_version": "1.4.0",
      "model_name": "ButtonModel",
      "state": {
       "_dom_classes": [
        "gridbutton",
        "b1"
       ],
       "disabled": true,
       "layout": "IPY_MODEL_196c83a3b43a46dca975be63611b8c09",
       "style": "IPY_MODEL_da9f7ea34caf442a812282549307f78c"
      }
     },
     "57b4fbdd38b947f7a1d832ef236bd304": {
      "model_module": "@jupyter-widgets/base",
      "model_module_version": "1.1.0",
      "model_name": "LayoutModel",
      "state": {}
     },
     "57ca17960d1c4ee887470274faa3efff": {
      "model_module": "@jupyter-widgets/controls",
      "model_module_version": "1.4.0",
      "model_name": "ButtonModel",
      "state": {
       "_dom_classes": [
        "gridbutton",
        "b2"
       ],
       "disabled": true,
       "layout": "IPY_MODEL_196c83a3b43a46dca975be63611b8c09",
       "style": "IPY_MODEL_0ffb040ff7ec41b8a109eb84d462454a"
      }
     },
     "57d8fa662a624734a3db032be63649de": {
      "model_module": "@jupyter-widgets/controls",
      "model_module_version": "1.4.0",
      "model_name": "ButtonStyleModel",
      "state": {}
     },
     "581672179f4440c2a34782d15aca1b84": {
      "model_module": "@jupyter-widgets/controls",
      "model_module_version": "1.4.0",
      "model_name": "TextModel",
      "state": {
       "_dom_classes": [
        "blankcell"
       ],
       "disabled": true,
       "layout": "IPY_MODEL_196c83a3b43a46dca975be63611b8c09",
       "style": "IPY_MODEL_c2e33a611edc4911a003b1b102407117"
      }
     },
     "581cef88be2741a9bde4fcb6422ff1b0": {
      "model_module": "@jupyter-widgets/base",
      "model_module_version": "1.1.0",
      "model_name": "LayoutModel",
      "state": {
       "height": "12px",
       "margin": "0",
       "padding": "0",
       "width": "12px"
      }
     },
     "5821c68d76254a9d998406eb490a6b42": {
      "model_module": "@jupyter-widgets/base",
      "model_module_version": "1.1.0",
      "model_name": "LayoutModel",
      "state": {}
     },
     "582ec47608e84ecb94ec39a8e5df6b8e": {
      "model_module": "@jupyter-widgets/controls",
      "model_module_version": "1.4.0",
      "model_name": "ButtonModel",
      "state": {
       "_dom_classes": [
        "gridbutton",
        "b3"
       ],
       "disabled": true,
       "layout": "IPY_MODEL_196c83a3b43a46dca975be63611b8c09",
       "style": "IPY_MODEL_39d2f74920cc4861afed4aac2048675f"
      }
     },
     "583262e7f1124833aa256708fa391e4d": {
      "model_module": "@jupyter-widgets/base",
      "model_module_version": "1.1.0",
      "model_name": "LayoutModel",
      "state": {}
     },
     "58356b4ce73b4ada831eea1df2a873c7": {
      "model_module": "@jupyter-widgets/controls",
      "model_module_version": "1.4.0",
      "model_name": "ButtonModel",
      "state": {
       "_dom_classes": [
        "gridbutton",
        "b2"
       ],
       "disabled": true,
       "layout": "IPY_MODEL_196c83a3b43a46dca975be63611b8c09",
       "style": "IPY_MODEL_f861c6570bea40ccbc1ca8f3fd99dedb"
      }
     },
     "583aace093f54667b72fa8fd4a73f17b": {
      "model_module": "@jupyter-widgets/controls",
      "model_module_version": "1.4.0",
      "model_name": "TextModel",
      "state": {
       "_dom_classes": [
        "blankcell"
       ],
       "disabled": true,
       "layout": "IPY_MODEL_581cef88be2741a9bde4fcb6422ff1b0",
       "style": "IPY_MODEL_43f8c6a750f84c20aa5245573f2dcc7a"
      }
     },
     "583c3053fe52431096b7d9de1c0a840c": {
      "model_module": "@jupyter-widgets/base",
      "model_module_version": "1.1.0",
      "model_name": "LayoutModel",
      "state": {}
     },
     "5872862b0e0a461c9b89aa7612907a7b": {
      "model_module": "@jupyter-widgets/controls",
      "model_module_version": "1.4.0",
      "model_name": "ButtonStyleModel",
      "state": {}
     },
     "587d396f234843529bcf3ade2146e869": {
      "model_module": "@jupyter-widgets/controls",
      "model_module_version": "1.4.0",
      "model_name": "TextModel",
      "state": {
       "_dom_classes": [
        "blankcell"
       ],
       "disabled": true,
       "layout": "IPY_MODEL_d861c29f26634ccfb59b53f634fc937d",
       "style": "IPY_MODEL_88f8b6caf4f84cb59bb09bd3e7b3ffe3"
      }
     },
     "587f87edffe94050ab905ffc01ef6d0b": {
      "model_module": "@jupyter-widgets/controls",
      "model_module_version": "1.4.0",
      "model_name": "ButtonStyleModel",
      "state": {}
     },
     "588fbde00e464fe89ad014ca352d4147": {
      "model_module": "@jupyter-widgets/base",
      "model_module_version": "1.1.0",
      "model_name": "LayoutModel",
      "state": {}
     },
     "58af02bf4c1345f2b2d0d2f4b303da18": {
      "model_module": "@jupyter-widgets/controls",
      "model_module_version": "1.4.0",
      "model_name": "ButtonStyleModel",
      "state": {}
     },
     "58d9a0d75a95411e883eefd8a04d2ee5": {
      "model_module": "@jupyter-widgets/controls",
      "model_module_version": "1.4.0",
      "model_name": "DescriptionStyleModel",
      "state": {
       "description_width": ""
      }
     },
     "590f68bc71d44770840135ce0dd42953": {
      "model_module": "@jupyter-widgets/controls",
      "model_module_version": "1.4.0",
      "model_name": "DescriptionStyleModel",
      "state": {
       "description_width": ""
      }
     },
     "591b3c228e1e446ca6fc37ec726490bd": {
      "model_module": "@jupyter-widgets/controls",
      "model_module_version": "1.4.0",
      "model_name": "ButtonStyleModel",
      "state": {}
     },
     "591fc92177c04205b0267f312b1fb968": {
      "model_module": "@jupyter-widgets/controls",
      "model_module_version": "1.4.0",
      "model_name": "ButtonModel",
      "state": {
       "_dom_classes": [
        "gridbutton",
        "b4"
       ],
       "disabled": true,
       "layout": "IPY_MODEL_d861c29f26634ccfb59b53f634fc937d",
       "style": "IPY_MODEL_ac21c074a39a4048aeaec91939a3ee11"
      }
     },
     "5930362abab349379c305ff879923aa9": {
      "model_module": "@jupyter-widgets/base",
      "model_module_version": "1.1.0",
      "model_name": "LayoutModel",
      "state": {}
     },
     "5948de0c1bdf4152af3c82188621c088": {
      "model_module": "@jupyter-widgets/controls",
      "model_module_version": "1.4.0",
      "model_name": "ButtonStyleModel",
      "state": {}
     },
     "596f9e2a2fea48ab8f7abe57be3bea18": {
      "model_module": "@jupyter-widgets/base",
      "model_module_version": "1.1.0",
      "model_name": "LayoutModel",
      "state": {}
     },
     "599014365c034cb0b3dacc79194f10f9": {
      "model_module": "@jupyter-widgets/controls",
      "model_module_version": "1.4.0",
      "model_name": "HBoxModel",
      "state": {
       "children": [
        "IPY_MODEL_6665cd0b2f114632a7c475e23919a854",
        "IPY_MODEL_a23219e9d95c4c70bd87989962277f00",
        "IPY_MODEL_4c92927dd02c416e81dbbf2d6f5ee889",
        "IPY_MODEL_f25e2cbf2bcb42b1a0723441c77d9dc0",
        "IPY_MODEL_6642cf2b90d540acad3c5b86e9a0c08b",
        "IPY_MODEL_625f368230614e29813e7e3ed1e4e45d"
       ],
       "layout": "IPY_MODEL_f588ebc55a65419ebf39ece21db946b3"
      }
     },
     "5996d024142743daabe6840c86dd966c": {
      "model_module": "@jupyter-widgets/controls",
      "model_module_version": "1.4.0",
      "model_name": "DescriptionStyleModel",
      "state": {
       "description_width": ""
      }
     },
     "59a8e61b1d404d519c0bd6a7868d0d67": {
      "model_module": "@jupyter-widgets/base",
      "model_module_version": "1.1.0",
      "model_name": "LayoutModel",
      "state": {}
     },
     "59b6e01463af43f7bbc846d1b7514037": {
      "model_module": "@jupyter-widgets/controls",
      "model_module_version": "1.4.0",
      "model_name": "DescriptionStyleModel",
      "state": {
       "description_width": ""
      }
     },
     "59bc0008ad3b49b88cc44e275a66df7b": {
      "model_module": "@jupyter-widgets/controls",
      "model_module_version": "1.4.0",
      "model_name": "TextModel",
      "state": {
       "_dom_classes": [
        "blankcell"
       ],
       "disabled": true,
       "layout": "IPY_MODEL_581cef88be2741a9bde4fcb6422ff1b0",
       "style": "IPY_MODEL_023a850be54b4137ac1cb1e01922ca78"
      }
     },
     "59dbb782e71a4c75bb445e5f0deeb4a9": {
      "model_module": "@jupyter-widgets/controls",
      "model_module_version": "1.4.0",
      "model_name": "TextModel",
      "state": {
       "_dom_classes": [
        "blankcell"
       ],
       "disabled": true,
       "layout": "IPY_MODEL_196c83a3b43a46dca975be63611b8c09",
       "style": "IPY_MODEL_94f38832c9dc4fea9dc2026d93c8f77d"
      }
     },
     "59de664ecc294e239f22a2042ad4e417": {
      "model_module": "@jupyter-widgets/controls",
      "model_module_version": "1.4.0",
      "model_name": "ButtonStyleModel",
      "state": {}
     },
     "59eccc1e7b404862ba4452e95fdec145": {
      "model_module": "@jupyter-widgets/base",
      "model_module_version": "1.1.0",
      "model_name": "LayoutModel",
      "state": {}
     },
     "59fea91f0b9645e59ac985c62347dd0c": {
      "model_module": "@jupyter-widgets/base",
      "model_module_version": "1.1.0",
      "model_name": "LayoutModel",
      "state": {}
     },
     "5a0db6aa665c47caa2530214573f7674": {
      "model_module": "@jupyter-widgets/controls",
      "model_module_version": "1.4.0",
      "model_name": "ButtonModel",
      "state": {
       "_dom_classes": [
        "gridbutton",
        "b3"
       ],
       "disabled": true,
       "layout": "IPY_MODEL_196c83a3b43a46dca975be63611b8c09",
       "style": "IPY_MODEL_21bca22a8447453bb99cbd2e2006199d"
      }
     },
     "5a2418d08ff8432bbd0ff4e1e2fb7526": {
      "model_module": "@jupyter-widgets/base",
      "model_module_version": "1.1.0",
      "model_name": "LayoutModel",
      "state": {}
     },
     "5a29b609361f462fa3f85aba4a5aec11": {
      "model_module": "@jupyter-widgets/controls",
      "model_module_version": "1.4.0",
      "model_name": "TextModel",
      "state": {
       "_dom_classes": [
        "blankcell"
       ],
       "disabled": true,
       "layout": "IPY_MODEL_d861c29f26634ccfb59b53f634fc937d",
       "style": "IPY_MODEL_4ad816a79b61441a97d6f60c7ca8393d"
      }
     },
     "5a3106048feb4abda81a1482d39595d5": {
      "model_module": "@jupyter-widgets/base",
      "model_module_version": "1.1.0",
      "model_name": "LayoutModel",
      "state": {}
     },
     "5a335e3a4bcb40fbb30eea67e6aa709f": {
      "model_module": "@jupyter-widgets/controls",
      "model_module_version": "1.4.0",
      "model_name": "ButtonModel",
      "state": {
       "_dom_classes": [
        "gridbutton",
        "b4"
       ],
       "disabled": true,
       "layout": "IPY_MODEL_d861c29f26634ccfb59b53f634fc937d",
       "style": "IPY_MODEL_af198772e1f94b10820f3fee023506d4"
      }
     },
     "5a5882d1868343fa8dd60312fbed3d08": {
      "model_module": "@jupyter-widgets/controls",
      "model_module_version": "1.4.0",
      "model_name": "ButtonStyleModel",
      "state": {}
     },
     "5a5ac102320e43a2acf426645ca7cc33": {
      "model_module": "@jupyter-widgets/controls",
      "model_module_version": "1.4.0",
      "model_name": "TextModel",
      "state": {
       "_dom_classes": [
        "blankcell"
       ],
       "disabled": true,
       "layout": "IPY_MODEL_196c83a3b43a46dca975be63611b8c09",
       "style": "IPY_MODEL_640f499708164c7c8dd0c1a9c09eabf8"
      }
     },
     "5a7b848b735d45b6bd1018eed8aa2b7e": {
      "model_module": "@jupyter-widgets/controls",
      "model_module_version": "1.4.0",
      "model_name": "TextModel",
      "state": {
       "_dom_classes": [
        "gridcell"
       ],
       "_view_module": "sage-combinat-widgets",
       "_view_module_version": "^0.2.0",
       "_view_name": "TextWithTooltipView",
       "continuous_update": false,
       "description_tooltip": "",
       "layout": "IPY_MODEL_742ce9cb5c1a4d358dd3aef0fa324d55",
       "style": "IPY_MODEL_f91fb44e4d39417ea8f014594236006b",
       "value": "2"
      }
     },
     "5afed905691044cf8f8f5e58d4d277b5": {
      "model_module": "@jupyter-widgets/base",
      "model_module_version": "1.1.0",
      "model_name": "LayoutModel",
      "state": {}
     },
     "5b07200c095049a0990d8ce3bb48f924": {
      "model_module": "@jupyter-widgets/controls",
      "model_module_version": "1.4.0",
      "model_name": "DescriptionStyleModel",
      "state": {
       "description_width": ""
      }
     },
     "5b45663b749e41128fc615cb7e4ee740": {
      "model_module": "@jupyter-widgets/controls",
      "model_module_version": "1.4.0",
      "model_name": "ButtonStyleModel",
      "state": {}
     },
     "5b52ff3babe64d9dbbd96c8afc258a6f": {
      "model_module": "@jupyter-widgets/base",
      "model_module_version": "1.1.0",
      "model_name": "LayoutModel",
      "state": {}
     },
     "5b6ad96fa90a4e009b512745cb1186c3": {
      "model_module": "@jupyter-widgets/controls",
      "model_module_version": "1.4.0",
      "model_name": "DescriptionStyleModel",
      "state": {
       "description_width": ""
      }
     },
     "5b7e745399c04e1bac394ec5e041170c": {
      "model_module": "@jupyter-widgets/controls",
      "model_module_version": "1.4.0",
      "model_name": "DescriptionStyleModel",
      "state": {
       "description_width": ""
      }
     },
     "5ba1d37bc81c4d68a689cd0984866290": {
      "model_module": "@jupyter-widgets/base",
      "model_module_version": "1.1.0",
      "model_name": "LayoutModel",
      "state": {}
     },
     "5bc1b3880abf47febef19b32059bf9f2": {
      "model_module": "@jupyter-widgets/base",
      "model_module_version": "1.1.0",
      "model_name": "LayoutModel",
      "state": {}
     },
     "5c176a63d0a74151b5cc6d7a8beab0d8": {
      "model_module": "@jupyter-widgets/base",
      "model_module_version": "1.1.0",
      "model_name": "LayoutModel",
      "state": {}
     },
     "5c3f461edd9c488c8f38f2c1187c0d9d": {
      "model_module": "@jupyter-widgets/controls",
      "model_module_version": "1.4.0",
      "model_name": "ButtonModel",
      "state": {
       "description": "-",
       "layout": "IPY_MODEL_72f676ab618b4909b61ae3421cb6e374",
       "style": "IPY_MODEL_587f87edffe94050ab905ffc01ef6d0b"
      }
     },
     "5c7056a6f15d405c9344135696c51533": {
      "model_module": "@jupyter-widgets/controls",
      "model_module_version": "1.4.0",
      "model_name": "TextModel",
      "state": {
       "_dom_classes": [
        "gridcell",
        "removablecell"
       ],
       "_view_module": "sage-combinat-widgets",
       "_view_module_version": "^0.2.0",
       "_view_name": "TextWithTooltipView",
       "continuous_update": false,
       "description_tooltip": "",
       "layout": "IPY_MODEL_766582b5db4b44c3b9eb63d9400a6c69",
       "style": "IPY_MODEL_ab55b19437d84c7da59502c04aaf8900",
       "value": "13"
      }
     },
     "5c9133cc668e406ca624635a8a35872c": {
      "model_module": "@jupyter-widgets/controls",
      "model_module_version": "1.4.0",
      "model_name": "DescriptionStyleModel",
      "state": {
       "description_width": ""
      }
     },
     "5cabe60d1cd84eb6a62731fb79db9be5": {
      "model_module": "@jupyter-widgets/controls",
      "model_module_version": "1.4.0",
      "model_name": "DescriptionStyleModel",
      "state": {
       "description_width": ""
      }
     },
     "5cd2539354b0489592cc6b110e247d56": {
      "model_module": "@jupyter-widgets/controls",
      "model_module_version": "1.4.0",
      "model_name": "DescriptionStyleModel",
      "state": {
       "description_width": ""
      }
     },
     "5ce8ea28e99b4a649bcf35a54999cba4": {
      "model_module": "@jupyter-widgets/base",
      "model_module_version": "1.1.0",
      "model_name": "LayoutModel",
      "state": {}
     },
     "5d063620cbcc4536a908dcd9de1dc10d": {
      "model_module": "@jupyter-widgets/base",
      "model_module_version": "1.1.0",
      "model_name": "LayoutModel",
      "state": {}
     },
     "5d08da151e214102b453c3ee74f5e15b": {
      "model_module": "@jupyter-widgets/controls",
      "model_module_version": "1.4.0",
      "model_name": "ButtonStyleModel",
      "state": {}
     },
     "5d1f6faad7e24635b7000c5d1e20b34d": {
      "model_module": "@jupyter-widgets/base",
      "model_module_version": "1.1.0",
      "model_name": "LayoutModel",
      "state": {}
     },
     "5d353260d1bc4392823b6dcb8571f1cb": {
      "model_module": "@jupyter-widgets/controls",
      "model_module_version": "1.4.0",
      "model_name": "ButtonStyleModel",
      "state": {}
     },
     "5d714cd4564f4afe8c32713ce092cef1": {
      "model_module": "@jupyter-widgets/base",
      "model_module_version": "1.1.0",
      "model_name": "LayoutModel",
      "state": {}
     },
     "5d80e55c875e479da4c1e9ad80d7ef19": {
      "model_module": "@jupyter-widgets/controls",
      "model_module_version": "1.4.0",
      "model_name": "VBoxModel",
      "state": {
       "_dom_classes": [
        "widget-interact"
       ],
       "children": [
        "IPY_MODEL_16d6004d57a14fe1826c47c280b8644e",
        "IPY_MODEL_cc21ebd64a8e473d9fd1cdd00e96c8d3",
        "IPY_MODEL_a21a8ae8230e43199130cd0cada5d4a6"
       ],
       "layout": "IPY_MODEL_0ee489e8943b41f9873e8c974664fdfa"
      }
     },
     "5d8fc2b3ec9b499abf803a0ed308ca5f": {
      "model_module": "@jupyter-widgets/base",
      "model_module_version": "1.1.0",
      "model_name": "LayoutModel",
      "state": {}
     },
     "5d9198735c924fdaaafb486441b41c0c": {
      "model_module": "@jupyter-widgets/controls",
      "model_module_version": "1.4.0",
      "model_name": "ButtonModel",
      "state": {
       "_dom_classes": [
        "gridbutton",
        "b1"
       ],
       "disabled": true,
       "layout": "IPY_MODEL_196c83a3b43a46dca975be63611b8c09",
       "style": "IPY_MODEL_76f99e01fb434ae7b3c6c8e2468e05bc"
      }
     },
     "5d94b9871432478ba0db8ccee74d4ea6": {
      "model_module": "@jupyter-widgets/base",
      "model_module_version": "1.1.0",
      "model_name": "LayoutModel",
      "state": {}
     },
     "5d95e9584c0347d1994465832ed2f26e": {
      "model_module": "@jupyter-widgets/base",
      "model_module_version": "1.1.0",
      "model_name": "LayoutModel",
      "state": {}
     },
     "5d9dda4acee7418a90e79fd3bb742cfb": {
      "model_module": "@jupyter-widgets/base",
      "model_module_version": "1.1.0",
      "model_name": "LayoutModel",
      "state": {}
     },
     "5db2e6af65a74993803a0dfdb7199552": {
      "model_module": "@jupyter-widgets/controls",
      "model_module_version": "1.4.0",
      "model_name": "ToggleButtonModel",
      "state": {
       "_dom_classes": [
        "gridbutton",
        "addablebutton"
       ],
       "description": "+",
       "layout": "IPY_MODEL_742ce9cb5c1a4d358dd3aef0fa324d55",
       "style": "IPY_MODEL_19f3a5fc857d42308e14ee3402ffc283",
       "tooltip": "Click to add a cell here"
      }
     },
     "5dbde42ac4544f6dacbf6fe387d98629": {
      "model_module": "@jupyter-widgets/controls",
      "model_module_version": "1.4.0",
      "model_name": "ButtonModel",
      "state": {
       "_dom_classes": [
        "gridbutton",
        "b4"
       ],
       "disabled": true,
       "layout": "IPY_MODEL_196c83a3b43a46dca975be63611b8c09",
       "style": "IPY_MODEL_ab212e0ba1a54d72a8219e6cdc0685fa"
      }
     },
     "5ded5c0d736845fd988c6b814ff19d4c": {
      "model_module": "@jupyter-widgets/controls",
      "model_module_version": "1.4.0",
      "model_name": "ButtonModel",
      "state": {
       "_dom_classes": [
        "gridbutton",
        "b4"
       ],
       "disabled": true,
       "layout": "IPY_MODEL_196c83a3b43a46dca975be63611b8c09",
       "style": "IPY_MODEL_c226fca330b4451584e1e59016763e90"
      }
     },
     "5df77088918c497097b7c9dff55769a1": {
      "model_module": "@jupyter-widgets/base",
      "model_module_version": "1.1.0",
      "model_name": "LayoutModel",
      "state": {}
     },
     "5e0bafe91e194834b5f9fb3b5b897484": {
      "model_module": "@jupyter-widgets/base",
      "model_module_version": "1.1.0",
      "model_name": "LayoutModel",
      "state": {}
     },
     "5e1c5efe4e4f4e2b82a061de23165763": {
      "model_module": "@jupyter-widgets/base",
      "model_module_version": "1.1.0",
      "model_name": "LayoutModel",
      "state": {}
     },
     "5e3b81ae456141588d09fce22ebdda3d": {
      "model_module": "@jupyter-widgets/controls",
      "model_module_version": "1.4.0",
      "model_name": "ButtonModel",
      "state": {
       "_dom_classes": [
        "gridbutton",
        "b3"
       ],
       "disabled": true,
       "layout": "IPY_MODEL_196c83a3b43a46dca975be63611b8c09",
       "style": "IPY_MODEL_7b9577bbd7ff414c801d96454b723871"
      }
     },
     "5e5615fcaa984d54b025029a5b63be19": {
      "model_module": "@jupyter-widgets/controls",
      "model_module_version": "1.4.0",
      "model_name": "DescriptionStyleModel",
      "state": {
       "description_width": ""
      }
     },
     "5e5f31d4cfaa4de5a98854e8f1aae4dd": {
      "model_module": "@jupyter-widgets/base",
      "model_module_version": "1.1.0",
      "model_name": "LayoutModel",
      "state": {}
     },
     "5e81c8a49160414ea85926ff513e06be": {
      "model_module": "@jupyter-widgets/controls",
      "model_module_version": "1.4.0",
      "model_name": "DescriptionStyleModel",
      "state": {
       "description_width": ""
      }
     },
     "5e9b7723bc7b4748b40ef4ed8d6e8a39": {
      "model_module": "@jupyter-widgets/controls",
      "model_module_version": "1.4.0",
      "model_name": "ButtonModel",
      "state": {
       "_dom_classes": [
        "gridbutton",
        "b1"
       ],
       "disabled": true,
       "layout": "IPY_MODEL_581cef88be2741a9bde4fcb6422ff1b0",
       "style": "IPY_MODEL_c8ce604f9a904d069786c523001bd2f4"
      }
     },
     "5eac5ca9ed594f0d8b0718e834bffa9b": {
      "model_module": "@jupyter-widgets/base",
      "model_module_version": "1.1.0",
      "model_name": "LayoutModel",
      "state": {}
     },
     "5ebd393c19774b5e83d594d138817ef6": {
      "model_module": "@jupyter-widgets/base",
      "model_module_version": "1.1.0",
      "model_name": "LayoutModel",
      "state": {}
     },
     "5ec76a08740243d5b50066f26bc674ec": {
      "model_module": "@jupyter-widgets/controls",
      "model_module_version": "1.4.0",
      "model_name": "DescriptionStyleModel",
      "state": {
       "description_width": ""
      }
     },
     "5ee44c0ed48743178e316882040ed655": {
      "model_module": "@jupyter-widgets/base",
      "model_module_version": "1.1.0",
      "model_name": "LayoutModel",
      "state": {}
     },
     "5f2c42e96dd84f9f8abbdb6f0f235aed": {
      "model_module": "@jupyter-widgets/base",
      "model_module_version": "1.1.0",
      "model_name": "LayoutModel",
      "state": {}
     },
     "5f2c518a2f064dac9c9a19d62078b6d2": {
      "model_module": "@jupyter-widgets/controls",
      "model_module_version": "1.4.0",
      "model_name": "DescriptionStyleModel",
      "state": {
       "description_width": ""
      }
     },
     "5f412334d4164f978aa19a6722925959": {
      "model_module": "@jupyter-widgets/base",
      "model_module_version": "1.1.0",
      "model_name": "LayoutModel",
      "state": {}
     },
     "5f56a843b33b42a4a3080628eb67d11f": {
      "model_module": "@jupyter-widgets/controls",
      "model_module_version": "1.4.0",
      "model_name": "ToggleButtonModel",
      "state": {
       "_dom_classes": [
        "gridbutton",
        "addablebutton"
       ],
       "description": "+",
       "layout": "IPY_MODEL_ae25d8ee9fe646ebb7fdd668d6ed6cab",
       "style": "IPY_MODEL_2828022fa6314b32b7125626f6e68785",
       "tooltip": "Click to add a cell here"
      }
     },
     "5f66bf2257584bc4b83b7a291dd164af": {
      "model_module": "@jupyter-widgets/controls",
      "model_module_version": "1.4.0",
      "model_name": "DescriptionStyleModel",
      "state": {
       "description_width": ""
      }
     },
     "5f76e4d0520e4942a67f2d51823a4f39": {
      "model_module": "@jupyter-widgets/controls",
      "model_module_version": "1.4.0",
      "model_name": "DescriptionStyleModel",
      "state": {
       "description_width": ""
      }
     },
     "5f9a6694dd3b4c1fa3cf3a8338e32e50": {
      "model_module": "@jupyter-widgets/controls",
      "model_module_version": "1.4.0",
      "model_name": "ButtonModel",
      "state": {
       "_dom_classes": [
        "gridbutton",
        "b4"
       ],
       "disabled": true,
       "layout": "IPY_MODEL_196c83a3b43a46dca975be63611b8c09",
       "style": "IPY_MODEL_d36e8f21b72a461aab4c1d821c0d8e5f"
      }
     },
     "5fc21a9edf5148f1b1eccbfa726b3238": {
      "model_module": "@jupyter-widgets/controls",
      "model_module_version": "1.4.0",
      "model_name": "TextModel",
      "state": {
       "_dom_classes": [
        "blankcell"
       ],
       "disabled": true,
       "layout": "IPY_MODEL_d861c29f26634ccfb59b53f634fc937d",
       "style": "IPY_MODEL_ec0342e905784e3e8358c7d01433cf0f"
      }
     },
     "5fc86afec4ad40b4bc1a2e0bf30eeb1f": {
      "model_module": "@jupyter-widgets/controls",
      "model_module_version": "1.4.0",
      "model_name": "ButtonStyleModel",
      "state": {}
     },
     "5fd5a2ca70e649d197b6cac583834daf": {
      "model_module": "@jupyter-widgets/base",
      "model_module_version": "1.1.0",
      "model_name": "LayoutModel",
      "state": {}
     },
     "5fdab0f6e50a42c78bdbb5ebd8694c23": {
      "model_module": "@jupyter-widgets/controls",
      "model_module_version": "1.4.0",
      "model_name": "ToggleButtonModel",
      "state": {
       "_dom_classes": [
        "gridbutton",
        "addablebutton"
       ],
       "description": "+",
       "layout": "IPY_MODEL_742ce9cb5c1a4d358dd3aef0fa324d55",
       "style": "IPY_MODEL_32ba2445072640a88374c5aa3096c77b",
       "tooltip": "Click to add a cell here"
      }
     },
     "5fdb914d9076492da035b27715048039": {
      "model_module": "@jupyter-widgets/base",
      "model_module_version": "1.1.0",
      "model_name": "LayoutModel",
      "state": {}
     },
     "5ff6b73cbc5a47d4b01ea6286e1e9b00": {
      "model_module": "@jupyter-widgets/controls",
      "model_module_version": "1.4.0",
      "model_name": "ButtonModel",
      "state": {
       "_dom_classes": [
        "gridbutton",
        "b3"
       ],
       "disabled": true,
       "layout": "IPY_MODEL_196c83a3b43a46dca975be63611b8c09",
       "style": "IPY_MODEL_f53c121778ef4a1ebcbe272a9b31cf43"
      }
     },
     "5ffc3dc585d840f9b9f981831a6f8cae": {
      "model_module": "@jupyter-widgets/base",
      "model_module_version": "1.1.0",
      "model_name": "LayoutModel",
      "state": {}
     },
     "5ffce8bb3be94c9ca641923b605aa356": {
      "model_module": "@jupyter-widgets/controls",
      "model_module_version": "1.4.0",
      "model_name": "ToggleButtonModel",
      "state": {
       "_dom_classes": [
        "gridbutton",
        "addablebutton"
       ],
       "description": "+",
       "layout": "IPY_MODEL_ae25d8ee9fe646ebb7fdd668d6ed6cab",
       "style": "IPY_MODEL_c8596631457d4a43ae48f07460a8d812",
       "tooltip": "Click to add a cell here"
      }
     },
     "60077aa27cbc4051b017f2d913b55812": {
      "model_module": "@jupyter-widgets/controls",
      "model_module_version": "1.4.0",
      "model_name": "ButtonModel",
      "state": {
       "_dom_classes": [
        "gridbutton",
        "b4"
       ],
       "disabled": true,
       "layout": "IPY_MODEL_581cef88be2741a9bde4fcb6422ff1b0",
       "style": "IPY_MODEL_afe62b927232427eaa220e1dcef1f40a"
      }
     },
     "6009cc8b78fb460f81089c479eaaf6de": {
      "model_module": "@jupyter-widgets/controls",
      "model_module_version": "1.4.0",
      "model_name": "DescriptionStyleModel",
      "state": {
       "description_width": ""
      }
     },
     "6032c5d0759544a896ee3d9a89b93d2b": {
      "model_module": "@jupyter-widgets/controls",
      "model_module_version": "1.4.0",
      "model_name": "ToggleButtonModel",
      "state": {
       "_dom_classes": [
        "gridbutton",
        "addablebutton"
       ],
       "description": "+",
       "layout": "IPY_MODEL_24198035057f48ca81a6fa9a718c3f55",
       "style": "IPY_MODEL_fbe06f9ea44243ecaa8f6153f74c2744",
       "tooltip": "Click to add a cell here"
      }
     },
     "6033757c880b4b27a558dbf282c60eea": {
      "model_module": "@jupyter-widgets/base",
      "model_module_version": "1.1.0",
      "model_name": "LayoutModel",
      "state": {}
     },
     "6068ac1b2db5408b8ee779fde9b6d34b": {
      "model_module": "@jupyter-widgets/controls",
      "model_module_version": "1.4.0",
      "model_name": "ButtonStyleModel",
      "state": {}
     },
     "607be863ba6a4a7aa9a323b17e3c9a10": {
      "model_module": "@jupyter-widgets/base",
      "model_module_version": "1.1.0",
      "model_name": "LayoutModel",
      "state": {}
     },
     "607c2ddbfced4aafbd16358580e2cfc7": {
      "model_module": "@jupyter-widgets/controls",
      "model_module_version": "1.4.0",
      "model_name": "ButtonModel",
      "state": {
       "_dom_classes": [
        "gridbutton",
        "b4"
       ],
       "disabled": true,
       "layout": "IPY_MODEL_196c83a3b43a46dca975be63611b8c09",
       "style": "IPY_MODEL_4418686033a347d296e6132a57e112b3"
      }
     },
     "609863ba104b42ac9f5a65d5ec8bcfdd": {
      "model_module": "@jupyter-widgets/controls",
      "model_module_version": "1.4.0",
      "model_name": "ButtonModel",
      "state": {
       "_dom_classes": [
        "gridbutton",
        "b4"
       ],
       "disabled": true,
       "layout": "IPY_MODEL_196c83a3b43a46dca975be63611b8c09",
       "style": "IPY_MODEL_73aa1cac629a4ac983311922f25c94c0"
      }
     },
     "60aabefe5d5345ac86f5954b52a91cd4": {
      "model_module": "@jupyter-widgets/controls",
      "model_module_version": "1.4.0",
      "model_name": "ButtonStyleModel",
      "state": {}
     },
     "60ab0300c06544edbba313a89bfcb1b6": {
      "model_module": "@jupyter-widgets/controls",
      "model_module_version": "1.4.0",
      "model_name": "ButtonStyleModel",
      "state": {}
     },
     "60dc2e0bc12c441d94c5e7576035be35": {
      "model_module": "@jupyter-widgets/controls",
      "model_module_version": "1.4.0",
      "model_name": "ButtonStyleModel",
      "state": {}
     },
     "610d4f934dc54e64bfe554794885a32c": {
      "model_module": "@jupyter-widgets/controls",
      "model_module_version": "1.4.0",
      "model_name": "TextModel",
      "state": {
       "_dom_classes": [
        "blankcell"
       ],
       "disabled": true,
       "layout": "IPY_MODEL_d861c29f26634ccfb59b53f634fc937d",
       "style": "IPY_MODEL_cdfc6b95ef4541d0a9e9358781eb10dd"
      }
     },
     "6112d5267d034b8ba68079977f83924c": {
      "model_module": "@jupyter-widgets/controls",
      "model_module_version": "1.4.0",
      "model_name": "ButtonModel",
      "state": {
       "_dom_classes": [
        "gridbutton",
        "b1"
       ],
       "disabled": true,
       "layout": "IPY_MODEL_196c83a3b43a46dca975be63611b8c09",
       "style": "IPY_MODEL_29ae2cbb05104c09a7b6094df0820124"
      }
     },
     "611b7eae70bd4e68a6f037a348d1dc26": {
      "model_module": "@jupyter-widgets/controls",
      "model_module_version": "1.4.0",
      "model_name": "ButtonStyleModel",
      "state": {}
     },
     "611bef4475be443ab89cadd6466b6e5d": {
      "model_module": "@jupyter-widgets/controls",
      "model_module_version": "1.4.0",
      "model_name": "HBoxModel",
      "state": {
       "children": [
        "IPY_MODEL_573e276fc17a40e297f98b0162765206",
        "IPY_MODEL_a91790f01a7b420388ef555dd4f93d0a",
        "IPY_MODEL_2f8c8fe1c28f4a4990a652eb1b699624",
        "IPY_MODEL_2db76918ed0443bba48e4f501597c3e6"
       ],
       "layout": "IPY_MODEL_f60d393610744e15985336e265ec9dc9"
      }
     },
     "6120ca097709445b9ee6c933d8689b0b": {
      "model_module": "@jupyter-widgets/base",
      "model_module_version": "1.1.0",
      "model_name": "LayoutModel",
      "state": {}
     },
     "6121a9d27e2e497d827b392e0e91c5fe": {
      "model_module": "@jupyter-widgets/controls",
      "model_module_version": "1.4.0",
      "model_name": "TextModel",
      "state": {
       "_dom_classes": [
        "blankcell"
       ],
       "disabled": true,
       "layout": "IPY_MODEL_581cef88be2741a9bde4fcb6422ff1b0",
       "style": "IPY_MODEL_b7f7848243ef46eeb40b38309ab081e8"
      }
     },
     "61458aef7d3b41b1b2bd783465244e9a": {
      "model_module": "@jupyter-widgets/controls",
      "model_module_version": "1.4.0",
      "model_name": "TextModel",
      "state": {
       "_dom_classes": [
        "blankcell"
       ],
       "disabled": true,
       "layout": "IPY_MODEL_196c83a3b43a46dca975be63611b8c09",
       "style": "IPY_MODEL_82b2488b232644caa5d9a03461202032"
      }
     },
     "615372d18e214108aa1506729802a998": {
      "model_module": "@jupyter-widgets/controls",
      "model_module_version": "1.4.0",
      "model_name": "HBoxModel",
      "state": {
       "children": [
        "IPY_MODEL_8670df7ee3aa4874be580830e32c951c",
        "IPY_MODEL_af6d020d5b0f405d9b8aa00fa98fa926",
        "IPY_MODEL_86ecc6a76b19496b85413cae4e41da75",
        "IPY_MODEL_512efc4aa93741468a1f221cdc8f6b5f",
        "IPY_MODEL_db10a580bf644a45bd48dcdade8e19ba",
        "IPY_MODEL_a6f901ed4bbc4946be4e46043013224a",
        "IPY_MODEL_1297c7384f95427cb4f6243e2138139e",
        "IPY_MODEL_633ab95285ef4671a494cf4015384086"
       ],
       "layout": "IPY_MODEL_029e71b0c1b3411385f0431ebe6d8d7b"
      }
     },
     "615b2900c012465ba8539fb1e6a1690f": {
      "model_module": "@jupyter-widgets/controls",
      "model_module_version": "1.4.0",
      "model_name": "DescriptionStyleModel",
      "state": {
       "description_width": ""
      }
     },
     "615fd163c68145b68b177a9d9cc24189": {
      "model_module": "@jupyter-widgets/controls",
      "model_module_version": "1.4.0",
      "model_name": "TextModel",
      "state": {
       "_dom_classes": [
        "blankcell"
       ],
       "disabled": true,
       "layout": "IPY_MODEL_d861c29f26634ccfb59b53f634fc937d",
       "style": "IPY_MODEL_7ffe5c4a8a83478b8689b7bb022576c7"
      }
     },
     "617a86fcd49844229cbd8061209d593b": {
      "model_module": "@jupyter-widgets/controls",
      "model_module_version": "1.4.0",
      "model_name": "ButtonStyleModel",
      "state": {}
     },
     "61944081b5394271aadfa38964127b94": {
      "model_module": "@jupyter-widgets/base",
      "model_module_version": "1.1.0",
      "model_name": "LayoutModel",
      "state": {}
     },
     "6194ab2f70984ed2afb730bcc44b529b": {
      "model_module": "@jupyter-widgets/controls",
      "model_module_version": "1.4.0",
      "model_name": "ButtonStyleModel",
      "state": {}
     },
     "619625b4f9ca44b58a5ed5e891bc519f": {
      "model_module": "@jupyter-widgets/base",
      "model_module_version": "1.1.0",
      "model_name": "LayoutModel",
      "state": {}
     },
     "61a9e69e2546407e958f4d725bbd4a50": {
      "model_module": "@jupyter-widgets/controls",
      "model_module_version": "1.4.0",
      "model_name": "ButtonModel",
      "state": {
       "_dom_classes": [
        "gridbutton",
        "b1"
       ],
       "disabled": true,
       "layout": "IPY_MODEL_196c83a3b43a46dca975be63611b8c09",
       "style": "IPY_MODEL_67b1edebfb64485596cadffccc4338a1"
      }
     },
     "61b41646de6d465290c3baf0873143f5": {
      "model_module": "@jupyter-widgets/controls",
      "model_module_version": "1.4.0",
      "model_name": "VBoxModel",
      "state": {
       "children": [
        "IPY_MODEL_03ea97d5be7f494a80cb4b61443c8843",
        "IPY_MODEL_599014365c034cb0b3dacc79194f10f9",
        "IPY_MODEL_eeb5b03c2d074d6d834c4214c655a614",
        "IPY_MODEL_21d54486608c4f17b30e7f75a06c78e0",
        "IPY_MODEL_2b0d8c86dcf64899a8f07486a3cf112e",
        "IPY_MODEL_c077ba372e0c40e8adc9e561d416a7a8"
       ],
       "layout": "IPY_MODEL_26e3d76c636b40c7ac78f1e48babbfaa"
      }
     },
     "61bc4e9c7bb643fc9a970b3691031cfa": {
      "model_module": "@jupyter-widgets/controls",
      "model_module_version": "1.4.0",
      "model_name": "ButtonStyleModel",
      "state": {}
     },
     "61d029a15df24b46844f7a7c949f7d66": {
      "model_module": "@jupyter-widgets/controls",
      "model_module_version": "1.4.0",
      "model_name": "ButtonModel",
      "state": {
       "_dom_classes": [
        "gridbutton",
        "b4"
       ],
       "disabled": true,
       "layout": "IPY_MODEL_d861c29f26634ccfb59b53f634fc937d",
       "style": "IPY_MODEL_1ca9d0e6b1764ca997c6a1b756831fd2"
      }
     },
     "61dda6dd61ac445d9f1c24e0927e8416": {
      "model_module": "@jupyter-widgets/base",
      "model_module_version": "1.1.0",
      "model_name": "LayoutModel",
      "state": {}
     },
     "61f111d187094122a2781eea0d765c54": {
      "model_module": "@jupyter-widgets/controls",
      "model_module_version": "1.4.0",
      "model_name": "ButtonStyleModel",
      "state": {}
     },
     "621b1d18e86d465f8fea0e222e80b081": {
      "model_module": "@jupyter-widgets/controls",
      "model_module_version": "1.4.0",
      "model_name": "TextModel",
      "state": {
       "_dom_classes": [
        "gridcell"
       ],
       "_view_module": "sage-combinat-widgets",
       "_view_module_version": "^0.2.0",
       "_view_name": "TextWithTooltipView",
       "continuous_update": false,
       "description_tooltip": "",
       "layout": "IPY_MODEL_ae25d8ee9fe646ebb7fdd668d6ed6cab",
       "style": "IPY_MODEL_bab3ed285c9a42e5966a31fb81914eae",
       "value": "1"
      }
     },
     "624cf7206a4243569a035b36098a978a": {
      "model_module": "@jupyter-widgets/base",
      "model_module_version": "1.1.0",
      "model_name": "LayoutModel",
      "state": {}
     },
     "625f368230614e29813e7e3ed1e4e45d": {
      "model_module": "@jupyter-widgets/controls",
      "model_module_version": "1.4.0",
      "model_name": "TextModel",
      "state": {
       "_dom_classes": [
        "gridcell",
        "addablecell"
       ],
       "_view_module": "sage-combinat-widgets",
       "_view_module_version": "^0.2.0",
       "_view_name": "TextWithTooltipView",
       "continuous_update": false,
       "description_tooltip": "",
       "layout": "IPY_MODEL_766582b5db4b44c3b9eb63d9400a6c69",
       "style": "IPY_MODEL_b60dad98d40740ca958415febec617c4"
      }
     },
     "62993a57d8034e83be1e1037b9cfd765": {
      "model_module": "@jupyter-widgets/controls",
      "model_module_version": "1.4.0",
      "model_name": "ButtonModel",
      "state": {
       "_dom_classes": [
        "gridbutton",
        "b2"
       ],
       "disabled": true,
       "layout": "IPY_MODEL_196c83a3b43a46dca975be63611b8c09",
       "style": "IPY_MODEL_59de664ecc294e239f22a2042ad4e417"
      }
     },
     "62acd97d6ab14f82a5bcc808a0558401": {
      "model_module": "@jupyter-widgets/base",
      "model_module_version": "1.1.0",
      "model_name": "LayoutModel",
      "state": {}
     },
     "62b82e500eb840b18c86b300615df684": {
      "model_module": "@jupyter-widgets/controls",
      "model_module_version": "1.4.0",
      "model_name": "ButtonModel",
      "state": {
       "_dom_classes": [
        "gridbutton",
        "b2"
       ],
       "disabled": true,
       "layout": "IPY_MODEL_d861c29f26634ccfb59b53f634fc937d",
       "style": "IPY_MODEL_60ab0300c06544edbba313a89bfcb1b6"
      }
     },
     "62d298d928be46ebb60c40451f3289b4": {
      "model_module": "@jupyter-widgets/controls",
      "model_module_version": "1.4.0",
      "model_name": "ButtonStyleModel",
      "state": {}
     },
     "62e5105a8a3b4ef8bed682254d549720": {
      "model_module": "@jupyter-widgets/controls",
      "model_module_version": "1.4.0",
      "model_name": "TextModel",
      "state": {
       "_dom_classes": [
        "blankcell"
       ],
       "disabled": true,
       "layout": "IPY_MODEL_d861c29f26634ccfb59b53f634fc937d",
       "style": "IPY_MODEL_94874d3b6fc84e43a3a3b50513a4b0c5"
      }
     },
     "62ee5948e83747d0be31094986c116fc": {
      "model_module": "@jupyter-widgets/controls",
      "model_module_version": "1.4.0",
      "model_name": "DescriptionStyleModel",
      "state": {
       "description_width": ""
      }
     },
     "62f5b4635ee848bd99759b242d9d77fa": {
      "model_module": "@jupyter-widgets/controls",
      "model_module_version": "1.4.0",
      "model_name": "DescriptionStyleModel",
      "state": {
       "description_width": ""
      }
     },
     "6307d4014c8f446387e8e666112431c4": {
      "model_module": "@jupyter-widgets/controls",
      "model_module_version": "1.4.0",
      "model_name": "ToggleButtonModel",
      "state": {
       "_dom_classes": [
        "gridbutton",
        "addablebutton"
       ],
       "description": "+",
       "layout": "IPY_MODEL_ae25d8ee9fe646ebb7fdd668d6ed6cab",
       "style": "IPY_MODEL_763fd25b992b4fdc91189d0e5ef33e9a",
       "tooltip": "Click to add a cell here"
      }
     },
     "63108b3acf1248a69fec35b1a21d9973": {
      "model_module": "@jupyter-widgets/base",
      "model_module_version": "1.1.0",
      "model_name": "LayoutModel",
      "state": {}
     },
     "631a00c42b664a31837e0b260fc7d11a": {
      "model_module": "@jupyter-widgets/controls",
      "model_module_version": "1.4.0",
      "model_name": "TextModel",
      "state": {
       "_dom_classes": [
        "blankcell"
       ],
       "disabled": true,
       "layout": "IPY_MODEL_581cef88be2741a9bde4fcb6422ff1b0",
       "style": "IPY_MODEL_eaecd261c66b47bb954da997e139fa18"
      }
     },
     "631b8f4fc1644ed0b8d04023092a5f3f": {
      "model_module": "@jupyter-widgets/controls",
      "model_module_version": "1.4.0",
      "model_name": "DescriptionStyleModel",
      "state": {
       "description_width": ""
      }
     },
     "633ab95285ef4671a494cf4015384086": {
      "model_module": "@jupyter-widgets/controls",
      "model_module_version": "1.4.0",
      "model_name": "ToggleButtonModel",
      "state": {
       "_dom_classes": [
        "gridbutton",
        "addablebutton"
       ],
       "description": "+",
       "layout": "IPY_MODEL_ae25d8ee9fe646ebb7fdd668d6ed6cab",
       "style": "IPY_MODEL_6c19d008408f467daa6313a3ec9494c3",
       "tooltip": "Click to add a cell here"
      }
     },
     "634be44003f747f2957ca4454ca95588": {
      "model_module": "@jupyter-widgets/controls",
      "model_module_version": "1.4.0",
      "model_name": "TextModel",
      "state": {
       "_dom_classes": [
        "blankcell"
       ],
       "disabled": true,
       "layout": "IPY_MODEL_d861c29f26634ccfb59b53f634fc937d",
       "style": "IPY_MODEL_bf5f61102e6a4bfa85f409bf6b3885b7"
      }
     },
     "63768a381f0b42a4a1d707f88d356f02": {
      "model_module": "@jupyter-widgets/controls",
      "model_module_version": "1.4.0",
      "model_name": "ToggleButtonModel",
      "state": {
       "_dom_classes": [
        "gridbutton"
       ],
       "description": "-",
       "layout": "IPY_MODEL_742ce9cb5c1a4d358dd3aef0fa324d55",
       "style": "IPY_MODEL_28415039aa064169ab3b56004c6ded14",
       "tooltip": "1, 0"
      }
     },
     "63873eaf596b4de5bad41308ad047938": {
      "model_module": "@jupyter-widgets/base",
      "model_module_version": "1.1.0",
      "model_name": "LayoutModel",
      "state": {}
     },
     "639588b7e82a4fb9bb7e5a422fbb6515": {
      "model_module": "@jupyter-widgets/base",
      "model_module_version": "1.1.0",
      "model_name": "LayoutModel",
      "state": {}
     },
     "63a6ea258c934996842744a3e71a9f71": {
      "model_module": "@jupyter-widgets/controls",
      "model_module_version": "1.4.0",
      "model_name": "ButtonModel",
      "state": {
       "_dom_classes": [
        "gridbutton",
        "b1"
       ],
       "disabled": true,
       "layout": "IPY_MODEL_196c83a3b43a46dca975be63611b8c09",
       "style": "IPY_MODEL_0b607b7e0e4f425e97696b5de90c5693"
      }
     },
     "63b1aa5ebb984c699f37429285391900": {
      "model_module": "@jupyter-widgets/controls",
      "model_module_version": "1.4.0",
      "model_name": "DescriptionStyleModel",
      "state": {
       "description_width": ""
      }
     },
     "63ce418e259e4da3b6288ab376918e4b": {
      "model_module": "@jupyter-widgets/controls",
      "model_module_version": "1.4.0",
      "model_name": "DescriptionStyleModel",
      "state": {
       "description_width": ""
      }
     },
     "63df7afd256e4eb2b2ad411f759b4b2c": {
      "model_module": "@jupyter-widgets/base",
      "model_module_version": "1.1.0",
      "model_name": "LayoutModel",
      "state": {}
     },
     "6408a3cfec1e459792cc94c3658c3c0b": {
      "model_module": "@jupyter-widgets/controls",
      "model_module_version": "1.4.0",
      "model_name": "ButtonModel",
      "state": {
       "_dom_classes": [
        "gridbutton",
        "b1"
       ],
       "disabled": true,
       "layout": "IPY_MODEL_d861c29f26634ccfb59b53f634fc937d",
       "style": "IPY_MODEL_2b9d677f0d2849c887c5c8c95d10e5f4"
      }
     },
     "640f499708164c7c8dd0c1a9c09eabf8": {
      "model_module": "@jupyter-widgets/controls",
      "model_module_version": "1.4.0",
      "model_name": "DescriptionStyleModel",
      "state": {
       "description_width": ""
      }
     },
     "6415caa02fed4f8caa85a89ad6961e7a": {
      "model_module": "@jupyter-widgets/controls",
      "model_module_version": "1.4.0",
      "model_name": "ButtonStyleModel",
      "state": {}
     },
     "6417589ea7e84c669b4bd33f514170be": {
      "model_module": "@jupyter-widgets/controls",
      "model_module_version": "1.4.0",
      "model_name": "ButtonStyleModel",
      "state": {}
     },
     "641b5ed92db34ca6b59a1e106bfde33d": {
      "model_module": "@jupyter-widgets/controls",
      "model_module_version": "1.4.0",
      "model_name": "ButtonStyleModel",
      "state": {}
     },
     "643ca8cf80af4045bc17e1aeb1f8fb27": {
      "model_module": "@jupyter-widgets/base",
      "model_module_version": "1.1.0",
      "model_name": "LayoutModel",
      "state": {}
     },
     "643d88230eff4563a6f6f7652d334731": {
      "model_module": "@jupyter-widgets/controls",
      "model_module_version": "1.4.0",
      "model_name": "ButtonModel",
      "state": {
       "_dom_classes": [
        "gridbutton",
        "b2"
       ],
       "disabled": true,
       "layout": "IPY_MODEL_196c83a3b43a46dca975be63611b8c09",
       "style": "IPY_MODEL_a07c603bf67d45eb9e53c8b42b86a75c"
      }
     },
     "644c55838da34497a77f98447d73b713": {
      "model_module": "@jupyter-widgets/controls",
      "model_module_version": "1.4.0",
      "model_name": "ButtonModel",
      "state": {
       "_dom_classes": [
        "gridbutton",
        "b4"
       ],
       "disabled": true,
       "layout": "IPY_MODEL_d861c29f26634ccfb59b53f634fc937d",
       "style": "IPY_MODEL_eac304c50dcd4d198ae8b334fe493ab0"
      }
     },
     "647489188ffb4c97ba8f41e00657f2ef": {
      "model_module": "@jupyter-widgets/controls",
      "model_module_version": "1.4.0",
      "model_name": "TextModel",
      "state": {
       "_dom_classes": [
        "blankcell"
       ],
       "disabled": true,
       "layout": "IPY_MODEL_d861c29f26634ccfb59b53f634fc937d",
       "style": "IPY_MODEL_296ec6ff70b64fbab7a4ededea58859c"
      }
     },
     "6498f8a443b146e0990bc73dc884afb8": {
      "model_module": "@jupyter-widgets/controls",
      "model_module_version": "1.4.0",
      "model_name": "ButtonStyleModel",
      "state": {}
     },
     "64a3b96d68774ab59601b00f2a975059": {
      "model_module": "@jupyter-widgets/controls",
      "model_module_version": "1.4.0",
      "model_name": "ToggleButtonModel",
      "state": {
       "_dom_classes": [
        "gridbutton",
        "addablebutton"
       ],
       "description": "+",
       "layout": "IPY_MODEL_742ce9cb5c1a4d358dd3aef0fa324d55",
       "style": "IPY_MODEL_eadcf9d7708a417e949c3f5b00e61a99",
       "tooltip": "Click to add a cell here"
      }
     },
     "64a6cdac79044188867a7d0242bf9123": {
      "model_module": "@jupyter-widgets/controls",
      "model_module_version": "1.4.0",
      "model_name": "ButtonModel",
      "state": {
       "_dom_classes": [
        "gridbutton",
        "b1"
       ],
       "disabled": true,
       "layout": "IPY_MODEL_d861c29f26634ccfb59b53f634fc937d",
       "style": "IPY_MODEL_f4a727871843430387dad9c68a11597f"
      }
     },
     "64a8b68f7707402abed2af6cf638bdbb": {
      "model_module": "@jupyter-widgets/controls",
      "model_module_version": "1.4.0",
      "model_name": "ButtonStyleModel",
      "state": {}
     },
     "64b19b62a49b45d1882f497850731e13": {
      "model_module": "@jupyter-widgets/base",
      "model_module_version": "1.1.0",
      "model_name": "LayoutModel",
      "state": {}
     },
     "64d72e277e23402b92ea866dbaf8fa0a": {
      "model_module": "@jupyter-widgets/controls",
      "model_module_version": "1.4.0",
      "model_name": "HBoxModel",
      "state": {
       "children": [
        "IPY_MODEL_2f937d4cdcf746cdb78f6de2d811fc1e",
        "IPY_MODEL_1bfec1bc60c64d87a3d4015891c34439",
        "IPY_MODEL_763b783f67f34b4ebcd078b5fc5a3b1c",
        "IPY_MODEL_8fb04dc6a45542a1afff3df0cb6ed8c1",
        "IPY_MODEL_57ca17960d1c4ee887470274faa3efff",
        "IPY_MODEL_6cc70bb9c62d42b0aac03e1741afd200",
        "IPY_MODEL_cffc00632c8e4433a92697b787baab74",
        "IPY_MODEL_fcd827745cb64030b0881bc0c2a11b5f",
        "IPY_MODEL_14eafd33690241d483466ca9c45c9974",
        "IPY_MODEL_65f1444125614fd2b95a3661348deb8f",
        "IPY_MODEL_a9c53c3790034e67b3ec847d1e7c871d",
        "IPY_MODEL_763f864f18ee4f338994785072beed16",
        "IPY_MODEL_1904fb58cf3347a290b8194bda6f08fa",
        "IPY_MODEL_5a0db6aa665c47caa2530214573f7674",
        "IPY_MODEL_58356b4ce73b4ada831eea1df2a873c7",
        "IPY_MODEL_a369de47bb1e4ac1b62aff84d226d181"
       ],
       "layout": "IPY_MODEL_eb74828d0f954298806b6f5a23263540"
      }
     },
     "64dfe9c3a9954c82870b4cb670283b60": {
      "model_module": "@jupyter-widgets/controls",
      "model_module_version": "1.4.0",
      "model_name": "DescriptionStyleModel",
      "state": {
       "description_width": ""
      }
     },
     "64ee4d25ff4c463a87c8b10379e575b7": {
      "model_module": "@jupyter-widgets/base",
      "model_module_version": "1.1.0",
      "model_name": "LayoutModel",
      "state": {}
     },
     "6504cfa770fb436bac2980ab847549bd": {
      "model_module": "@jupyter-widgets/controls",
      "model_module_version": "1.4.0",
      "model_name": "DescriptionStyleModel",
      "state": {
       "description_width": ""
      }
     },
     "652675a970f748bebe330abb7b4d37e8": {
      "model_module": "@jupyter-widgets/controls",
      "model_module_version": "1.4.0",
      "model_name": "ButtonModel",
      "state": {
       "_dom_classes": [
        "gridbutton",
        "b4"
       ],
       "disabled": true,
       "layout": "IPY_MODEL_196c83a3b43a46dca975be63611b8c09",
       "style": "IPY_MODEL_5d353260d1bc4392823b6dcb8571f1cb"
      }
     },
     "65517f9cb2dc445aa20df3c8524a1e58": {
      "model_module": "@jupyter-widgets/controls",
      "model_module_version": "1.4.0",
      "model_name": "ButtonStyleModel",
      "state": {}
     },
     "658195abd96a4457be73b72690302ced": {
      "model_module": "@jupyter-widgets/base",
      "model_module_version": "1.1.0",
      "model_name": "LayoutModel",
      "state": {}
     },
     "659f5bd5d8ec4912a0f09557a62c702c": {
      "model_module": "@jupyter-widgets/base",
      "model_module_version": "1.1.0",
      "model_name": "LayoutModel",
      "state": {}
     },
     "65ad825c34f8482c88fee30a96eaedf5": {
      "model_module": "@jupyter-widgets/controls",
      "model_module_version": "1.4.0",
      "model_name": "ButtonModel",
      "state": {
       "_dom_classes": [
        "gridbutton",
        "b2"
       ],
       "disabled": true,
       "layout": "IPY_MODEL_196c83a3b43a46dca975be63611b8c09",
       "style": "IPY_MODEL_dea2090c18844f59be679172016e8c22"
      }
     },
     "65bb3b611ba34dada35c22032e6e4567": {
      "model_module": "@jupyter-widgets/base",
      "model_module_version": "1.1.0",
      "model_name": "LayoutModel",
      "state": {}
     },
     "65e6537887c04d7c89c9afd0c29a86e1": {
      "model_module": "@jupyter-widgets/controls",
      "model_module_version": "1.4.0",
      "model_name": "ButtonModel",
      "state": {
       "_dom_classes": [
        "gridbutton",
        "b4"
       ],
       "disabled": true,
       "layout": "IPY_MODEL_d861c29f26634ccfb59b53f634fc937d",
       "style": "IPY_MODEL_61bc4e9c7bb643fc9a970b3691031cfa"
      }
     },
     "65f1444125614fd2b95a3661348deb8f": {
      "model_module": "@jupyter-widgets/controls",
      "model_module_version": "1.4.0",
      "model_name": "ButtonModel",
      "state": {
       "_dom_classes": [
        "gridbutton",
        "b3"
       ],
       "disabled": true,
       "layout": "IPY_MODEL_196c83a3b43a46dca975be63611b8c09",
       "style": "IPY_MODEL_567451a62a4d4183a9673cbe12daedf6"
      }
     },
     "65f68b2118444464be2aa71cfaa165d2": {
      "model_module": "@jupyter-widgets/base",
      "model_module_version": "1.1.0",
      "model_name": "LayoutModel",
      "state": {}
     },
     "660670ba967c4328a4126c550eeec0f0": {
      "model_module": "@jupyter-widgets/controls",
      "model_module_version": "1.4.0",
      "model_name": "DescriptionStyleModel",
      "state": {
       "description_width": ""
      }
     },
     "6618aae8652d468da5dc257e02c1f25c": {
      "model_module": "@jupyter-widgets/controls",
      "model_module_version": "1.4.0",
      "model_name": "TextModel",
      "state": {
       "_dom_classes": [
        "blankcell"
       ],
       "disabled": true,
       "layout": "IPY_MODEL_196c83a3b43a46dca975be63611b8c09",
       "style": "IPY_MODEL_5ec76a08740243d5b50066f26bc674ec"
      }
     },
     "661e239f554d4cceb98c5ccc87785875": {
      "model_module": "@jupyter-widgets/controls",
      "model_module_version": "1.4.0",
      "model_name": "ButtonStyleModel",
      "state": {}
     },
     "6642cf2b90d540acad3c5b86e9a0c08b": {
      "model_module": "@jupyter-widgets/controls",
      "model_module_version": "1.4.0",
      "model_name": "TextModel",
      "state": {
       "_dom_classes": [
        "gridcell",
        "removablecell"
       ],
       "_view_module": "sage-combinat-widgets",
       "_view_module_version": "^0.2.0",
       "_view_name": "TextWithTooltipView",
       "continuous_update": false,
       "description_tooltip": "",
       "layout": "IPY_MODEL_766582b5db4b44c3b9eb63d9400a6c69",
       "style": "IPY_MODEL_30e7b3f058754869ab4f8e330c1509a6",
       "value": "15"
      }
     },
     "6665349c285b456eab03f4cffb222ae5": {
      "model_module": "@jupyter-widgets/controls",
      "model_module_version": "1.4.0",
      "model_name": "DescriptionStyleModel",
      "state": {
       "description_width": ""
      }
     },
     "6665cd0b2f114632a7c475e23919a854": {
      "model_module": "@jupyter-widgets/controls",
      "model_module_version": "1.4.0",
      "model_name": "TextModel",
      "state": {
       "_dom_classes": [
        "gridcell"
       ],
       "_view_module": "sage-combinat-widgets",
       "_view_module_version": "^0.2.0",
       "_view_name": "TextWithTooltipView",
       "continuous_update": false,
       "description_tooltip": "",
       "layout": "IPY_MODEL_766582b5db4b44c3b9eb63d9400a6c69",
       "style": "IPY_MODEL_53150ef30e5b41179d4437dc4336ad5f",
       "value": "4"
      }
     },
     "6674263d6d754ce6974e313290d7bb3f": {
      "model_module": "@jupyter-widgets/controls",
      "model_module_version": "1.4.0",
      "model_name": "ButtonStyleModel",
      "state": {}
     },
     "668a8cb6443f4846a501b993fffb908e": {
      "model_module": "@jupyter-widgets/controls",
      "model_module_version": "1.4.0",
      "model_name": "ButtonModel",
      "state": {
       "_dom_classes": [
        "gridbutton",
        "b3"
       ],
       "disabled": true,
       "layout": "IPY_MODEL_581cef88be2741a9bde4fcb6422ff1b0",
       "style": "IPY_MODEL_efb7bbbab8fa48a4a80634068d1c4219"
      }
     },
     "66ac0e4580054b33afee1483fa32c5ab": {
      "model_module": "@jupyter-widgets/controls",
      "model_module_version": "1.4.0",
      "model_name": "ToggleButtonModel",
      "state": {
       "_dom_classes": [
        "gridbutton"
       ],
       "description": "-",
       "layout": "IPY_MODEL_24198035057f48ca81a6fa9a718c3f55",
       "style": "IPY_MODEL_5cd2539354b0489592cc6b110e247d56",
       "tooltip": "0, 6"
      }
     },
     "66b598a0d78c47b8bfcdb60f5ef73db0": {
      "model_module": "@jupyter-widgets/controls",
      "model_module_version": "1.4.0",
      "model_name": "ToggleButtonModel",
      "state": {
       "_dom_classes": [
        "gridbutton",
        "addablebutton"
       ],
       "description": "+",
       "layout": "IPY_MODEL_ae25d8ee9fe646ebb7fdd668d6ed6cab",
       "style": "IPY_MODEL_5b6ad96fa90a4e009b512745cb1186c3",
       "tooltip": "Click to add a cell here"
      }
     },
     "66c585e8eec94d2c8628c6ac42599257": {
      "model_module": "@jupyter-widgets/controls",
      "model_module_version": "1.4.0",
      "model_name": "ButtonStyleModel",
      "state": {}
     },
     "66e4f196b6a247d78d8ff328301ee4a6": {
      "model_module": "@jupyter-widgets/controls",
      "model_module_version": "1.4.0",
      "model_name": "ButtonModel",
      "state": {
       "_dom_classes": [
        "gridbutton",
        "b1"
       ],
       "disabled": true,
       "layout": "IPY_MODEL_196c83a3b43a46dca975be63611b8c09",
       "style": "IPY_MODEL_f3314cb5b99f4028ab99bd27c6a886e5"
      }
     },
     "66ee7ad544754b82a773fbc255dd384f": {
      "model_module": "@jupyter-widgets/base",
      "model_module_version": "1.1.0",
      "model_name": "LayoutModel",
      "state": {}
     },
     "671d05728c2448f99d3412d5f782d186": {
      "model_module": "@jupyter-widgets/base",
      "model_module_version": "1.1.0",
      "model_name": "LayoutModel",
      "state": {}
     },
     "674824e0fd114efe91e4e6c7f6a4acf0": {
      "model_module": "@jupyter-widgets/controls",
      "model_module_version": "1.4.0",
      "model_name": "ButtonStyleModel",
      "state": {}
     },
     "6797af26d7814a7fab9a31bbf40a8891": {
      "model_module": "@jupyter-widgets/controls",
      "model_module_version": "1.4.0",
      "model_name": "DescriptionStyleModel",
      "state": {
       "description_width": ""
      }
     },
     "67b1edebfb64485596cadffccc4338a1": {
      "model_module": "@jupyter-widgets/controls",
      "model_module_version": "1.4.0",
      "model_name": "ButtonStyleModel",
      "state": {}
     },
     "67ba7bd412114703b360964c1e32b136": {
      "model_module": "@jupyter-widgets/controls",
      "model_module_version": "1.4.0",
      "model_name": "ButtonStyleModel",
      "state": {}
     },
     "67d1c8d96ed74516845a81bcd48fac2b": {
      "model_module": "@jupyter-widgets/controls",
      "model_module_version": "1.4.0",
      "model_name": "DescriptionStyleModel",
      "state": {
       "description_width": ""
      }
     },
     "67dbaf1ee69d483180dd400f0683285a": {
      "model_module": "@jupyter-widgets/controls",
      "model_module_version": "1.4.0",
      "model_name": "TextModel",
      "state": {
       "_dom_classes": [
        "blankcell"
       ],
       "disabled": true,
       "layout": "IPY_MODEL_581cef88be2741a9bde4fcb6422ff1b0",
       "style": "IPY_MODEL_976e655f99254ee39eb9d52a3b792de3"
      }
     },
     "67ec2bdd08234f719c72806c70b313bb": {
      "model_module": "@jupyter-widgets/controls",
      "model_module_version": "1.4.0",
      "model_name": "ToggleButtonModel",
      "state": {
       "_dom_classes": [
        "gridbutton"
       ],
       "description": "-",
       "layout": "IPY_MODEL_24198035057f48ca81a6fa9a718c3f55",
       "style": "IPY_MODEL_971abae401c944bfaaa9c4eec9ab680b",
       "tooltip": "1, 3"
      }
     },
     "67fddd29e9814ee49904b23f2a964b9a": {
      "model_module": "@jupyter-widgets/controls",
      "model_module_version": "1.4.0",
      "model_name": "ButtonModel",
      "state": {
       "_dom_classes": [
        "gridbutton",
        "b4"
       ],
       "disabled": true,
       "layout": "IPY_MODEL_196c83a3b43a46dca975be63611b8c09",
       "style": "IPY_MODEL_1151b6a2b66048f083f349b06e40651b"
      }
     },
     "68042d2510ed440c935168625e985548": {
      "model_module": "@jupyter-widgets/base",
      "model_module_version": "1.1.0",
      "model_name": "LayoutModel",
      "state": {}
     },
     "681ab1c6919f4d3eb75f7fbf84139121": {
      "model_module": "@jupyter-widgets/controls",
      "model_module_version": "1.4.0",
      "model_name": "HBoxModel",
      "state": {
       "children": [
        "IPY_MODEL_7dfe40cdd599433eb7984618d9927883"
       ],
       "layout": "IPY_MODEL_8339316f8e0147f89c899e9cb4f99157"
      }
     },
     "68222b159f114b2fb55654b4d7489ea9": {
      "model_module": "@jupyter-widgets/controls",
      "model_module_version": "1.4.0",
      "model_name": "DescriptionStyleModel",
      "state": {
       "description_width": ""
      }
     },
     "685809a8a4824f6b831659aaa8d772d5": {
      "model_module": "@jupyter-widgets/controls",
      "model_module_version": "1.4.0",
      "model_name": "DescriptionStyleModel",
      "state": {
       "description_width": ""
      }
     },
     "6858e90224f1460398e0aecefcd45ce9": {
      "model_module": "@jupyter-widgets/controls",
      "model_module_version": "1.4.0",
      "model_name": "ButtonStyleModel",
      "state": {}
     },
     "6873e409072d4ad3b2bdf65461e532ea": {
      "model_module": "@jupyter-widgets/controls",
      "model_module_version": "1.4.0",
      "model_name": "ButtonStyleModel",
      "state": {}
     },
     "68c2e12eafd34f3482a93e8d0233e3a0": {
      "model_module": "@jupyter-widgets/base",
      "model_module_version": "1.1.0",
      "model_name": "LayoutModel",
      "state": {}
     },
     "68c6d8e15ee541bab1e06c24e84a7457": {
      "model_module": "@jupyter-widgets/base",
      "model_module_version": "1.1.0",
      "model_name": "LayoutModel",
      "state": {}
     },
     "68daa847f0c14988b5ba69997b46e844": {
      "model_module": "@jupyter-widgets/base",
      "model_module_version": "1.1.0",
      "model_name": "LayoutModel",
      "state": {}
     },
     "68de00f080524aa1b04dacced2eaeea3": {
      "model_module": "@jupyter-widgets/controls",
      "model_module_version": "1.4.0",
      "model_name": "ToggleButtonModel",
      "state": {
       "_dom_classes": [
        "gridbutton"
       ],
       "description": "-",
       "layout": "IPY_MODEL_ae25d8ee9fe646ebb7fdd668d6ed6cab",
       "style": "IPY_MODEL_30bbf380e2f949df81a4d3cb39e2dc7f",
       "tooltip": "2, 1"
      }
     },
     "6910843197a648f49b77590f3ffee10d": {
      "model_module": "@jupyter-widgets/base",
      "model_module_version": "1.1.0",
      "model_name": "LayoutModel",
      "state": {}
     },
     "695ad2f41be949479cc83b0b69e9a558": {
      "model_module": "@jupyter-widgets/controls",
      "model_module_version": "1.4.0",
      "model_name": "HBoxModel",
      "state": {
       "children": [
        "IPY_MODEL_bf0ee49ca4844548b592416fa044552f",
        "IPY_MODEL_86e6ce3c36894c6286ffb928c925468b"
       ],
       "layout": "IPY_MODEL_ffce739905b74e63830662904fa23268"
      }
     },
     "69641c26699a4c68a5fd647266d19f2e": {
      "model_module": "@jupyter-widgets/controls",
      "model_module_version": "1.4.0",
      "model_name": "ButtonStyleModel",
      "state": {}
     },
     "69ac5c941098473fb619e21e03499e46": {
      "model_module": "@jupyter-widgets/base",
      "model_module_version": "1.1.0",
      "model_name": "LayoutModel",
      "state": {}
     },
     "69b3f85a2e8c4f02b05c9d7899111b68": {
      "model_module": "@jupyter-widgets/base",
      "model_module_version": "1.1.0",
      "model_name": "LayoutModel",
      "state": {}
     },
     "69bdff97a8cb4ecbae7b8f22fea87cc9": {
      "model_module": "@jupyter-widgets/controls",
      "model_module_version": "1.4.0",
      "model_name": "DescriptionStyleModel",
      "state": {
       "description_width": ""
      }
     },
     "69cb405badf64a3d88e90d455bdbb451": {
      "model_module": "@jupyter-widgets/base",
      "model_module_version": "1.1.0",
      "model_name": "LayoutModel",
      "state": {}
     },
     "69f92f1fbed044848bcc13675dc222d7": {
      "model_module": "@jupyter-widgets/controls",
      "model_module_version": "1.4.0",
      "model_name": "ButtonModel",
      "state": {
       "_dom_classes": [
        "gridbutton",
        "b4"
       ],
       "disabled": true,
       "layout": "IPY_MODEL_d861c29f26634ccfb59b53f634fc937d",
       "style": "IPY_MODEL_472557033c0d4ac09f016aa6a1bb6a3d"
      }
     },
     "6a0230ff02d84fe7a1966487d558c43c": {
      "model_module": "@jupyter-widgets/controls",
      "model_module_version": "1.4.0",
      "model_name": "ButtonModel",
      "state": {
       "_dom_classes": [
        "gridbutton",
        "b2"
       ],
       "disabled": true,
       "layout": "IPY_MODEL_d861c29f26634ccfb59b53f634fc937d",
       "style": "IPY_MODEL_71be93db606646fa875be0241fb4cb43"
      }
     },
     "6a124c6b7eba4442aab07f68632edfb4": {
      "model_module": "@jupyter-widgets/base",
      "model_module_version": "1.1.0",
      "model_name": "LayoutModel",
      "state": {}
     },
     "6a7b4118a8cf40edbd08b1b54632ec52": {
      "model_module": "@jupyter-widgets/base",
      "model_module_version": "1.1.0",
      "model_name": "LayoutModel",
      "state": {}
     },
     "6a7ff16fd34640b1b90829f7b1b8baba": {
      "model_module": "@jupyter-widgets/controls",
      "model_module_version": "1.4.0",
      "model_name": "ButtonModel",
      "state": {
       "_dom_classes": [
        "gridbutton",
        "b1"
       ],
       "disabled": true,
       "layout": "IPY_MODEL_d861c29f26634ccfb59b53f634fc937d",
       "style": "IPY_MODEL_0e12514c1fd3427cb518fc86f7660c8f"
      }
     },
     "6ab181abfc094647ae3020948637c85e": {
      "model_module": "@jupyter-widgets/base",
      "model_module_version": "1.1.0",
      "model_name": "LayoutModel",
      "state": {}
     },
     "6aea49a64d574de79690cc8b8462f5d1": {
      "model_module": "@jupyter-widgets/controls",
      "model_module_version": "1.4.0",
      "model_name": "TextModel",
      "state": {
       "_dom_classes": [
        "blankcell"
       ],
       "disabled": true,
       "layout": "IPY_MODEL_d861c29f26634ccfb59b53f634fc937d",
       "style": "IPY_MODEL_1f7cacdb578a4cda9fafd54049875c0d"
      }
     },
     "6aedf4c5eded4cd7b0a443e697264ba2": {
      "model_module": "@jupyter-widgets/controls",
      "model_module_version": "1.4.0",
      "model_name": "DescriptionStyleModel",
      "state": {
       "description_width": ""
      }
     },
     "6af42a4001a44ddda5dbbcc9623b3e46": {
      "model_module": "@jupyter-widgets/base",
      "model_module_version": "1.1.0",
      "model_name": "LayoutModel",
      "state": {}
     },
     "6b11a4df21f0426d8b14a36845851077": {
      "model_module": "@jupyter-widgets/controls",
      "model_module_version": "1.4.0",
      "model_name": "DescriptionStyleModel",
      "state": {
       "description_width": ""
      }
     },
     "6b1b87a12ec24fc5bd2cfa6b8127bd92": {
      "model_module": "@jupyter-widgets/controls",
      "model_module_version": "1.4.0",
      "model_name": "ButtonStyleModel",
      "state": {}
     },
     "6b2ff07b7e024e4393babcc20dacc2b6": {
      "model_module": "@jupyter-widgets/controls",
      "model_module_version": "1.4.0",
      "model_name": "TextModel",
      "state": {
       "_dom_classes": [
        "blankcell"
       ],
       "disabled": true,
       "layout": "IPY_MODEL_196c83a3b43a46dca975be63611b8c09",
       "style": "IPY_MODEL_46923c7f4adb4d1f890a4ab508535421"
      }
     },
     "6b30ba432a7a4d7cb7e0d582f6b87190": {
      "model_module": "@jupyter-widgets/controls",
      "model_module_version": "1.4.0",
      "model_name": "DescriptionStyleModel",
      "state": {
       "description_width": ""
      }
     },
     "6b423a956ac640a2ba004661b4998d75": {
      "model_module": "@jupyter-widgets/controls",
      "model_module_version": "1.4.0",
      "model_name": "ButtonStyleModel",
      "state": {}
     },
     "6b44182961b0448e999f6d304b068998": {
      "model_module": "@jupyter-widgets/controls",
      "model_module_version": "1.4.0",
      "model_name": "ButtonModel",
      "state": {
       "_dom_classes": [
        "gridbutton",
        "b1"
       ],
       "disabled": true,
       "layout": "IPY_MODEL_581cef88be2741a9bde4fcb6422ff1b0",
       "style": "IPY_MODEL_e2e55218e1ef4513b1d07a7f778f2f4f"
      }
     },
     "6b7a62573f7c487aa28c943e6a620c73": {
      "model_module": "@jupyter-widgets/base",
      "model_module_version": "1.1.0",
      "model_name": "LayoutModel",
      "state": {}
     },
     "6b8130ee7d57483388fb538c874060be": {
      "model_module": "@jupyter-widgets/base",
      "model_module_version": "1.1.0",
      "model_name": "LayoutModel",
      "state": {}
     },
     "6b8d71683a0148d885f7dde8b4c9bdbc": {
      "model_module": "@jupyter-widgets/controls",
      "model_module_version": "1.4.0",
      "model_name": "ButtonStyleModel",
      "state": {}
     },
     "6be642fdab0d41eda2ca1311ea11a7c2": {
      "model_module": "@jupyter-widgets/base",
      "model_module_version": "1.1.0",
      "model_name": "LayoutModel",
      "state": {}
     },
     "6c004b9448144bb5b7509861ca7e8fb9": {
      "model_module": "@jupyter-widgets/controls",
      "model_module_version": "1.4.0",
      "model_name": "TextModel",
      "state": {
       "_dom_classes": [
        "blankcell"
       ],
       "disabled": true,
       "layout": "IPY_MODEL_196c83a3b43a46dca975be63611b8c09",
       "style": "IPY_MODEL_631b8f4fc1644ed0b8d04023092a5f3f"
      }
     },
     "6c19d008408f467daa6313a3ec9494c3": {
      "model_module": "@jupyter-widgets/controls",
      "model_module_version": "1.4.0",
      "model_name": "DescriptionStyleModel",
      "state": {
       "description_width": ""
      }
     },
     "6c1ec5e457bc4b07b480247034ff9b0d": {
      "model_module": "@jupyter-widgets/controls",
      "model_module_version": "1.4.0",
      "model_name": "DescriptionStyleModel",
      "state": {
       "description_width": ""
      }
     },
     "6c4118b8a3a143f2b592fb82840ad58d": {
      "model_module": "@jupyter-widgets/controls",
      "model_module_version": "1.4.0",
      "model_name": "ButtonStyleModel",
      "state": {}
     },
     "6c928806ca7e4c229d8edb3cf5fc1679": {
      "model_module": "@jupyter-widgets/controls",
      "model_module_version": "1.4.0",
      "model_name": "ButtonModel",
      "state": {
       "_dom_classes": [
        "gridbutton",
        "b3"
       ],
       "disabled": true,
       "layout": "IPY_MODEL_d861c29f26634ccfb59b53f634fc937d",
       "style": "IPY_MODEL_410b876a0c52416cb306a8877db61019"
      }
     },
     "6cc70bb9c62d42b0aac03e1741afd200": {
      "model_module": "@jupyter-widgets/controls",
      "model_module_version": "1.4.0",
      "model_name": "ButtonModel",
      "state": {
       "_dom_classes": [
        "gridbutton",
        "b3"
       ],
       "disabled": true,
       "layout": "IPY_MODEL_196c83a3b43a46dca975be63611b8c09",
       "style": "IPY_MODEL_90d5ee3a7438487fbadc5d9a6ddb8d8f"
      }
     },
     "6ce829b7dbee4162af225715c7a5ced9": {
      "model_module": "@jupyter-widgets/controls",
      "model_module_version": "1.4.0",
      "model_name": "DescriptionStyleModel",
      "state": {
       "description_width": ""
      }
     },
     "6d39ecb144b849e6bf3d9f264d701c73": {
      "model_module": "@jupyter-widgets/base",
      "model_module_version": "1.1.0",
      "model_name": "LayoutModel",
      "state": {}
     },
     "6d3afa1762ed452c8f5ed31776537ac7": {
      "model_module": "@jupyter-widgets/base",
      "model_module_version": "1.1.0",
      "model_name": "LayoutModel",
      "state": {}
     },
     "6d6f2863d4874d83ad94d1ca65146a65": {
      "model_module": "@jupyter-widgets/base",
      "model_module_version": "1.1.0",
      "model_name": "LayoutModel",
      "state": {}
     },
     "6d72b5a2d29a44e7b612004387c204ab": {
      "model_module": "@jupyter-widgets/base",
      "model_module_version": "1.1.0",
      "model_name": "LayoutModel",
      "state": {}
     },
     "6d7ab097761046feb4a544385311cdf7": {
      "model_module": "@jupyter-widgets/controls",
      "model_module_version": "1.4.0",
      "model_name": "TextModel",
      "state": {
       "_dom_classes": [
        "blankcell"
       ],
       "disabled": true,
       "layout": "IPY_MODEL_d861c29f26634ccfb59b53f634fc937d",
       "style": "IPY_MODEL_6665349c285b456eab03f4cffb222ae5"
      }
     },
     "6db4b830d5bd4887a0ea5d391bf311b8": {
      "model_module": "@jupyter-widgets/controls",
      "model_module_version": "1.4.0",
      "model_name": "ButtonStyleModel",
      "state": {}
     },
     "6dc6fa3869c74f14a1fad0e3b171fc51": {
      "model_module": "@jupyter-widgets/controls",
      "model_module_version": "1.4.0",
      "model_name": "DescriptionStyleModel",
      "state": {
       "description_width": ""
      }
     },
     "6df7764baa7e4bdab202e707066284bf": {
      "model_module": "@jupyter-widgets/controls",
      "model_module_version": "1.4.0",
      "model_name": "ButtonModel",
      "state": {
       "_dom_classes": [
        "gridbutton",
        "b1"
       ],
       "disabled": true,
       "layout": "IPY_MODEL_196c83a3b43a46dca975be63611b8c09",
       "style": "IPY_MODEL_e0d26e2adcdf49af90842128d01ef0ee"
      }
     },
     "6e21aabda58748839c1a59c1b5e50343": {
      "model_module": "@jupyter-widgets/base",
      "model_module_version": "1.1.0",
      "model_name": "LayoutModel",
      "state": {}
     },
     "6e2e9a8bbfb8418ab68e964e7310eebf": {
      "model_module": "@jupyter-widgets/controls",
      "model_module_version": "1.4.0",
      "model_name": "ButtonStyleModel",
      "state": {}
     },
     "6e3fd2c283f6475ca55a02a4188fd9ef": {
      "model_module": "@jupyter-widgets/controls",
      "model_module_version": "1.4.0",
      "model_name": "ButtonStyleModel",
      "state": {}
     },
     "6e548950c1f44a58af18c1ab0b9221c8": {
      "model_module": "@jupyter-widgets/controls",
      "model_module_version": "1.4.0",
      "model_name": "DescriptionStyleModel",
      "state": {
       "description_width": ""
      }
     },
     "6e7de828b5c44e379ca05e1114259b9b": {
      "model_module": "@jupyter-widgets/base",
      "model_module_version": "1.1.0",
      "model_name": "LayoutModel",
      "state": {}
     },
     "6e95ebec0aba42f9b0542292e7872d48": {
      "model_module": "@jupyter-widgets/controls",
      "model_module_version": "1.4.0",
      "model_name": "ToggleButtonModel",
      "state": {
       "_dom_classes": [
        "gridbutton"
       ],
       "layout": "IPY_MODEL_742ce9cb5c1a4d358dd3aef0fa324d55",
       "style": "IPY_MODEL_5c9133cc668e406ca624635a8a35872c",
       "tooltip": "0, 5"
      }
     },
     "6ea433a29eae4f869cc6c9cc30a21b0d": {
      "model_module": "@jupyter-widgets/controls",
      "model_module_version": "1.4.0",
      "model_name": "ButtonModel",
      "state": {
       "_dom_classes": [
        "gridbutton",
        "b4"
       ],
       "disabled": true,
       "layout": "IPY_MODEL_d861c29f26634ccfb59b53f634fc937d",
       "style": "IPY_MODEL_0a2f773b85d24fada610a1ad2b4eb08d"
      }
     },
     "6ec1ccbeb65e4618879699c5f2b070c3": {
      "model_module": "@jupyter-widgets/controls",
      "model_module_version": "1.4.0",
      "model_name": "DescriptionStyleModel",
      "state": {
       "description_width": ""
      }
     },
     "6ec50f5427fd4cafa1831cd6805a0b8a": {
      "model_module": "@jupyter-widgets/base",
      "model_module_version": "1.1.0",
      "model_name": "LayoutModel",
      "state": {}
     },
     "6ed94b8f4eed42ba8a51f9172616302f": {
      "model_module": "@jupyter-widgets/controls",
      "model_module_version": "1.4.0",
      "model_name": "ButtonModel",
      "state": {
       "_dom_classes": [
        "gridbutton",
        "b3"
       ],
       "disabled": true,
       "layout": "IPY_MODEL_581cef88be2741a9bde4fcb6422ff1b0",
       "style": "IPY_MODEL_6db4b830d5bd4887a0ea5d391bf311b8"
      }
     },
     "6f007d64cda54f8fb1e7186ef1e480b4": {
      "model_module": "@jupyter-widgets/controls",
      "model_module_version": "1.4.0",
      "model_name": "DescriptionStyleModel",
      "state": {
       "description_width": ""
      }
     },
     "6f01cd19632740f5bb43e33a55df6cde": {
      "model_module": "@jupyter-widgets/controls",
      "model_module_version": "1.4.0",
      "model_name": "ButtonStyleModel",
      "state": {}
     },
     "6f07a676ca314dd0b0824b35b3de6aec": {
      "model_module": "@jupyter-widgets/controls",
      "model_module_version": "1.4.0",
      "model_name": "ButtonStyleModel",
      "state": {}
     },
     "6f0bde34ed32466d9d3b248b524a90dd": {
      "model_module": "@jupyter-widgets/controls",
      "model_module_version": "1.4.0",
      "model_name": "DescriptionStyleModel",
      "state": {
       "description_width": ""
      }
     },
     "6f15055688e744fdb2bdc41d50cfda61": {
      "model_module": "@jupyter-widgets/controls",
      "model_module_version": "1.4.0",
      "model_name": "TextModel",
      "state": {
       "_dom_classes": [
        "blankcell"
       ],
       "disabled": true,
       "layout": "IPY_MODEL_d861c29f26634ccfb59b53f634fc937d",
       "style": "IPY_MODEL_c90c72df71964f58b29aea2e512d6ff0"
      }
     },
     "6f3ff53254144afeab762275828e460e": {
      "model_module": "@jupyter-widgets/controls",
      "model_module_version": "1.4.0",
      "model_name": "ButtonModel",
      "state": {
       "_dom_classes": [
        "gridbutton",
        "b4"
       ],
       "disabled": true,
       "layout": "IPY_MODEL_196c83a3b43a46dca975be63611b8c09",
       "style": "IPY_MODEL_3d413d8d0b564126be2a8195e4c64ca4"
      }
     },
     "6f4741d9757846a3b1216c9e81853d31": {
      "model_module": "@jupyter-widgets/controls",
      "model_module_version": "1.4.0",
      "model_name": "ButtonStyleModel",
      "state": {}
     },
     "6f54c2a339f042fab043ac1641c94515": {
      "model_module": "@jupyter-widgets/base",
      "model_module_version": "1.1.0",
      "model_name": "LayoutModel",
      "state": {}
     },
     "6f7549b5967d4e60842eae30fb2af8c9": {
      "model_module": "@jupyter-widgets/controls",
      "model_module_version": "1.4.0",
      "model_name": "ButtonModel",
      "state": {
       "_dom_classes": [
        "gridbutton",
        "b4"
       ],
       "disabled": true,
       "layout": "IPY_MODEL_581cef88be2741a9bde4fcb6422ff1b0",
       "style": "IPY_MODEL_75f8318977d04edfb05b15f57737a31f"
      }
     },
     "6f9de7adb55a44c0a3b464362f3f0f20": {
      "model_module": "@jupyter-widgets/controls",
      "model_module_version": "1.4.0",
      "model_name": "ButtonModel",
      "state": {
       "_dom_classes": [
        "gridbutton",
        "b4"
       ],
       "disabled": true,
       "layout": "IPY_MODEL_581cef88be2741a9bde4fcb6422ff1b0",
       "style": "IPY_MODEL_ad2ad339b9304540941b55b6e6f120a0"
      }
     },
     "6fc16226b39045ca93c4301d1cf95043": {
      "model_module": "@jupyter-widgets/base",
      "model_module_version": "1.1.0",
      "model_name": "LayoutModel",
      "state": {}
     },
     "6fd91c636c9142dcb770741827e1c975": {
      "model_module": "@jupyter-widgets/base",
      "model_module_version": "1.1.0",
      "model_name": "LayoutModel",
      "state": {}
     },
     "6fded33575384e73b9042515723f4638": {
      "model_module": "@jupyter-widgets/controls",
      "model_module_version": "1.4.0",
      "model_name": "ToggleButtonModel",
      "state": {
       "_dom_classes": [
        "gridbutton",
        "addablebutton"
       ],
       "description": "+",
       "layout": "IPY_MODEL_24198035057f48ca81a6fa9a718c3f55",
       "style": "IPY_MODEL_98db458e3385405080881013433250a8",
       "tooltip": "Click to add a cell here"
      }
     },
     "6fe5919d2c6248f491f11920724acc2e": {
      "model_module": "@jupyter-widgets/controls",
      "model_module_version": "1.4.0",
      "model_name": "ButtonStyleModel",
      "state": {}
     },
     "6ff6c46090024df6bc50ad0afa303755": {
      "model_module": "@jupyter-widgets/base",
      "model_module_version": "1.1.0",
      "model_name": "LayoutModel",
      "state": {}
     },
     "701d56a6d20a4abd950a2de61417d868": {
      "model_module": "@jupyter-widgets/controls",
      "model_module_version": "1.4.0",
      "model_name": "HBoxModel",
      "state": {
       "children": [
        "IPY_MODEL_8ee07982e1dd4b348e64ad3090c8b2c0",
        "IPY_MODEL_5a5ac102320e43a2acf426645ca7cc33",
        "IPY_MODEL_2942cdf813d64600ab956deee352ba88",
        "IPY_MODEL_73b76a968ae349dca4c2c6bbde7edc33",
        "IPY_MODEL_a18991d47d5b47d99523c79a4937864a",
        "IPY_MODEL_39422767d6ef4684a92374291cdbbf6e",
        "IPY_MODEL_f8433b55f01d472583472a5bc386d179",
        "IPY_MODEL_62993a57d8034e83be1e1037b9cfd765",
        "IPY_MODEL_4e83a806cb2c4af8bbc73a0226d92aec"
       ],
       "layout": "IPY_MODEL_c3b9220c83544df5b50afd668ca8c59c"
      }
     },
     "70322b6cf167422a84d6da507fcab774": {
      "model_module": "@jupyter-widgets/base",
      "model_module_version": "1.1.0",
      "model_name": "LayoutModel",
      "state": {}
     },
     "705a5a96f064447c8c0869b2792ab6e9": {
      "model_module": "@jupyter-widgets/controls",
      "model_module_version": "1.4.0",
      "model_name": "ButtonStyleModel",
      "state": {}
     },
     "708755f9b47b4af981a1ee789a213846": {
      "model_module": "@jupyter-widgets/controls",
      "model_module_version": "1.4.0",
      "model_name": "DescriptionStyleModel",
      "state": {
       "description_width": ""
      }
     },
     "70ae51b351a24bc993573fc44b01aa6f": {
      "model_module": "@jupyter-widgets/controls",
      "model_module_version": "1.4.0",
      "model_name": "ButtonStyleModel",
      "state": {}
     },
     "70ca7b889db742b3b543e7a020f2bc3f": {
      "model_module": "@jupyter-widgets/base",
      "model_module_version": "1.1.0",
      "model_name": "LayoutModel",
      "state": {}
     },
     "70de800ae82b42fa98cce76946d8753e": {
      "model_module": "@jupyter-widgets/base",
      "model_module_version": "1.1.0",
      "model_name": "LayoutModel",
      "state": {}
     },
     "70f49cc3ae204a93b9fdd5b48e485235": {
      "model_module": "@jupyter-widgets/base",
      "model_module_version": "1.1.0",
      "model_name": "LayoutModel",
      "state": {}
     },
     "7105282557bd4527b0f1e984e486ca65": {
      "model_module": "@jupyter-widgets/base",
      "model_module_version": "1.1.0",
      "model_name": "LayoutModel",
      "state": {}
     },
     "711dbe28465e4606b5a2ccf528aa7ca0": {
      "model_module": "@jupyter-widgets/controls",
      "model_module_version": "1.4.0",
      "model_name": "ButtonModel",
      "state": {
       "_dom_classes": [
        "gridbutton",
        "b4"
       ],
       "disabled": true,
       "layout": "IPY_MODEL_581cef88be2741a9bde4fcb6422ff1b0",
       "style": "IPY_MODEL_463794bc5345490ea44e00888d7094f8"
      }
     },
     "711e0930f22641f1a27adf20c5608562": {
      "model_module": "@jupyter-widgets/base",
      "model_module_version": "1.1.0",
      "model_name": "LayoutModel",
      "state": {}
     },
     "7172495693b2493597acba35c53ef270": {
      "model_module": "@jupyter-widgets/base",
      "model_module_version": "1.1.0",
      "model_name": "LayoutModel",
      "state": {}
     },
     "718290d07ea7460ea1b6c6bf2cc26e18": {
      "model_module": "@jupyter-widgets/controls",
      "model_module_version": "1.4.0",
      "model_name": "DescriptionStyleModel",
      "state": {
       "description_width": ""
      }
     },
     "718da5e4afc3462cbbdb302238bb7ee5": {
      "model_module": "@jupyter-widgets/base",
      "model_module_version": "1.1.0",
      "model_name": "LayoutModel",
      "state": {}
     },
     "71ac82bdb3384bbb976b0d06769d4bf3": {
      "model_module": "@jupyter-widgets/controls",
      "model_module_version": "1.4.0",
      "model_name": "ButtonStyleModel",
      "state": {}
     },
     "71be93db606646fa875be0241fb4cb43": {
      "model_module": "@jupyter-widgets/controls",
      "model_module_version": "1.4.0",
      "model_name": "ButtonStyleModel",
      "state": {}
     },
     "71d6521e73784030a9c16f27da25f7c9": {
      "model_module": "@jupyter-widgets/controls",
      "model_module_version": "1.4.0",
      "model_name": "DescriptionStyleModel",
      "state": {
       "description_width": ""
      }
     },
     "71d6d2d95c3046dd8fc8da68cb6fb7a6": {
      "model_module": "@jupyter-widgets/controls",
      "model_module_version": "1.4.0",
      "model_name": "ButtonStyleModel",
      "state": {}
     },
     "71ffcbcbf70e42d0b2b1aa037d1a09e5": {
      "model_module": "@jupyter-widgets/controls",
      "model_module_version": "1.4.0",
      "model_name": "ButtonModel",
      "state": {
       "_dom_classes": [
        "gridbutton",
        "b4"
       ],
       "disabled": true,
       "layout": "IPY_MODEL_581cef88be2741a9bde4fcb6422ff1b0",
       "style": "IPY_MODEL_0250955fcfc54f2a8b935b8bce223a90"
      }
     },
     "720da93e691c4aeca4ec9e70ea9fd8bf": {
      "model_module": "@jupyter-widgets/controls",
      "model_module_version": "1.4.0",
      "model_name": "ToggleButtonModel",
      "state": {
       "_dom_classes": [
        "gridbutton"
       ],
       "description": "-",
       "layout": "IPY_MODEL_24198035057f48ca81a6fa9a718c3f55",
       "style": "IPY_MODEL_5e5615fcaa984d54b025029a5b63be19",
       "tooltip": "2, 1"
      }
     },
     "721dc8c0a11e4190952dd22e039ab1ab": {
      "model_module": "@jupyter-widgets/controls",
      "model_module_version": "1.4.0",
      "model_name": "TextModel",
      "state": {
       "_dom_classes": [
        "gridcell"
       ],
       "_view_module": "sage-combinat-widgets",
       "_view_module_version": "^0.2.0",
       "_view_name": "TextWithTooltipView",
       "continuous_update": false,
       "description_tooltip": "",
       "layout": "IPY_MODEL_ae25d8ee9fe646ebb7fdd668d6ed6cab",
       "style": "IPY_MODEL_2c8c7c44652f4b7fa3176a9dbd5bb974",
       "value": "5"
      }
     },
     "723c4c8fc7cf47bfafd9ef4e49436765": {
      "model_module": "@jupyter-widgets/controls",
      "model_module_version": "1.4.0",
      "model_name": "ButtonModel",
      "state": {
       "_dom_classes": [
        "gridbutton",
        "b1"
       ],
       "disabled": true,
       "layout": "IPY_MODEL_196c83a3b43a46dca975be63611b8c09",
       "style": "IPY_MODEL_c4cf719a8e8c485a8a5e76534ef55316"
      }
     },
     "72495a8771b4438aaed15c91744677a7": {
      "model_module": "@jupyter-widgets/base",
      "model_module_version": "1.1.0",
      "model_name": "LayoutModel",
      "state": {}
     },
     "7293df84414a47dda40e8e560839beec": {
      "model_module": "@jupyter-widgets/controls",
      "model_module_version": "1.4.0",
      "model_name": "ButtonStyleModel",
      "state": {}
     },
     "72c2600611694e49b734c23f4260bb98": {
      "model_module": "@jupyter-widgets/controls",
      "model_module_version": "1.4.0",
      "model_name": "DescriptionStyleModel",
      "state": {
       "description_width": ""
      }
     },
     "72dae8bf2f934186a2d0d411d5f2b633": {
      "model_module": "@jupyter-widgets/base",
      "model_module_version": "1.1.0",
      "model_name": "LayoutModel",
      "state": {}
     },
     "72f676ab618b4909b61ae3421cb6e374": {
      "model_module": "@jupyter-widgets/base",
      "model_module_version": "1.1.0",
      "model_name": "LayoutModel",
      "state": {
       "height": "30px",
       "width": "30px"
      }
     },
     "7300610cbe6d4b93b84df4345adfa8eb": {
      "model_module": "@jupyter-widgets/controls",
      "model_module_version": "1.4.0",
      "model_name": "ButtonModel",
      "state": {
       "_dom_classes": [
        "gridbutton",
        "b1"
       ],
       "disabled": true,
       "layout": "IPY_MODEL_581cef88be2741a9bde4fcb6422ff1b0",
       "style": "IPY_MODEL_b4307d46e37c4ae7852a2a7081175ff7"
      }
     },
     "732fb571b65e492c8fca9f269002104c": {
      "model_module": "@jupyter-widgets/base",
      "model_module_version": "1.1.0",
      "model_name": "LayoutModel",
      "state": {}
     },
     "73a5f5b1e4a04d9c94a8f79fb190e861": {
      "model_module": "@jupyter-widgets/controls",
      "model_module_version": "1.4.0",
      "model_name": "DescriptionStyleModel",
      "state": {
       "description_width": ""
      }
     },
     "73a673aa421d4b91aaa1ad3b8e17a390": {
      "model_module": "@jupyter-widgets/controls",
      "model_module_version": "1.4.0",
      "model_name": "DescriptionStyleModel",
      "state": {
       "description_width": ""
      }
     },
     "73a71418930f4f508a83e468b9e51e68": {
      "model_module": "@jupyter-widgets/controls",
      "model_module_version": "1.4.0",
      "model_name": "HBoxModel",
      "state": {
       "children": [
        "IPY_MODEL_b85890c399d34d9b8d3182f42a4e0c16",
        "IPY_MODEL_a8254fea41e544b39eae526aeb8e0f6e",
        "IPY_MODEL_ca2b5902ee5e42e2b2176ac71ee72389"
       ],
       "layout": "IPY_MODEL_e3821eb674314eb2a946e093c0ba0398"
      }
     },
     "73a87ac4b03d41da97eac14194510c18": {
      "model_module": "@jupyter-widgets/controls",
      "model_module_version": "1.4.0",
      "model_name": "ButtonStyleModel",
      "state": {}
     },
     "73a90175f4764355b4635a67786c26db": {
      "model_module": "@jupyter-widgets/base",
      "model_module_version": "1.1.0",
      "model_name": "LayoutModel",
      "state": {}
     },
     "73aa1cac629a4ac983311922f25c94c0": {
      "model_module": "@jupyter-widgets/controls",
      "model_module_version": "1.4.0",
      "model_name": "ButtonStyleModel",
      "state": {}
     },
     "73b2fd1d427243b3be514a7bdee67ae5": {
      "model_module": "@jupyter-widgets/controls",
      "model_module_version": "1.4.0",
      "model_name": "TextModel",
      "state": {
       "_dom_classes": [
        "blankcell"
       ],
       "disabled": true,
       "layout": "IPY_MODEL_196c83a3b43a46dca975be63611b8c09",
       "style": "IPY_MODEL_cbe291521819437cbd5620908d0cbf8e"
      }
     },
     "73b76a968ae349dca4c2c6bbde7edc33": {
      "model_module": "@jupyter-widgets/controls",
      "model_module_version": "1.4.0",
      "model_name": "TextModel",
      "state": {
       "_dom_classes": [
        "blankcell"
       ],
       "disabled": true,
       "layout": "IPY_MODEL_196c83a3b43a46dca975be63611b8c09",
       "style": "IPY_MODEL_b6b4fd0029bb45d9a3204b1545853a5a"
      }
     },
     "73dbbb24fcb24ef4a0bc1daf6430af02": {
      "model_module": "@jupyter-widgets/controls",
      "model_module_version": "1.4.0",
      "model_name": "HBoxModel",
      "state": {
       "children": [
        "IPY_MODEL_0fbf62c46ee64fb090bd1326cfde83fb"
       ],
       "layout": "IPY_MODEL_e449d1f31e7a4b7b97af8a414219f842"
      }
     },
     "73fe427f77194d81acf1c793531c4d8e": {
      "model_module": "@jupyter-widgets/base",
      "model_module_version": "1.1.0",
      "model_name": "LayoutModel",
      "state": {}
     },
     "74164fd3d1c04aed8ce6a9be2b8ae665": {
      "model_module": "@jupyter-widgets/base",
      "model_module_version": "1.1.0",
      "model_name": "LayoutModel",
      "state": {}
     },
     "74241d669dd84b69bae7381cfbe6a35b": {
      "model_module": "@jupyter-widgets/base",
      "model_module_version": "1.1.0",
      "model_name": "LayoutModel",
      "state": {}
     },
     "742ce9cb5c1a4d358dd3aef0fa324d55": {
      "model_module": "@jupyter-widgets/base",
      "model_module_version": "1.1.0",
      "model_name": "LayoutModel",
      "state": {
       "height": "2em",
       "margin": "0",
       "padding": "0",
       "width": "3em"
      }
     },
     "743885ad32dd49528bf52380f57cdf4a": {
      "model_module": "@jupyter-widgets/controls",
      "model_module_version": "1.4.0",
      "model_name": "ButtonStyleModel",
      "state": {}
     },
     "7440729fe1b948f2850ea84bea938a9d": {
      "model_module": "@jupyter-widgets/controls",
      "model_module_version": "1.4.0",
      "model_name": "ButtonModel",
      "state": {
       "_dom_classes": [
        "gridbutton",
        "b4"
       ],
       "disabled": true,
       "layout": "IPY_MODEL_196c83a3b43a46dca975be63611b8c09",
       "style": "IPY_MODEL_e94181f7979d4ba5845cb063f621a575"
      }
     },
     "7465603225624724a41f66240fb4fcf0": {
      "model_module": "@jupyter-widgets/controls",
      "model_module_version": "1.4.0",
      "model_name": "ButtonStyleModel",
      "state": {}
     },
     "747a899356fa4b2f9763a39edc92a37d": {
      "model_module": "@jupyter-widgets/controls",
      "model_module_version": "1.4.0",
      "model_name": "HBoxModel",
      "state": {
       "children": [
        "IPY_MODEL_634be44003f747f2957ca4454ca95588",
        "IPY_MODEL_c8d3d9d792c646598994922c3896a117",
        "IPY_MODEL_782938a9df5c4055a8c772957bc0b867",
        "IPY_MODEL_9f9a5fe893a944e0a9501c5d150e1216",
        "IPY_MODEL_f1916f8007e44236aa4e7ede4646be6d",
        "IPY_MODEL_3ee6acae7da646c9b8b37f872cda4937",
        "IPY_MODEL_46fac51967094e4bb91a472f48f168b5",
        "IPY_MODEL_95d021cb9ff94bebacf34d5bfba03703",
        "IPY_MODEL_b0691769340e4730ae7e1b39c7efd6f1",
        "IPY_MODEL_a6170a7e8046430da5985e2a4269d694"
       ],
       "layout": "IPY_MODEL_2561431a8c1845caa6c564f3717ec50e"
      }
     },
     "7487559be7674b2f81915938e543356e": {
      "model_module": "@jupyter-widgets/base",
      "model_module_version": "1.1.0",
      "model_name": "LayoutModel",
      "state": {}
     },
     "74a76a167e104a188da96424f5de11ee": {
      "model_module": "@jupyter-widgets/controls",
      "model_module_version": "1.4.0",
      "model_name": "ButtonModel",
      "state": {
       "_dom_classes": [
        "gridbutton",
        "b2"
       ],
       "disabled": true,
       "layout": "IPY_MODEL_196c83a3b43a46dca975be63611b8c09",
       "style": "IPY_MODEL_8913ee2d701b4874ac03cf67ca906321"
      }
     },
     "74d7535833544fd98611668988480800": {
      "model_module": "@jupyter-widgets/controls",
      "model_module_version": "1.4.0",
      "model_name": "ButtonStyleModel",
      "state": {}
     },
     "7542a156b184407780199ea962d369a3": {
      "model_module": "@jupyter-widgets/controls",
      "model_module_version": "1.4.0",
      "model_name": "DescriptionStyleModel",
      "state": {
       "description_width": ""
      }
     },
     "756062bf3c5f446b84747902c2d58772": {
      "model_module": "@jupyter-widgets/controls",
      "model_module_version": "1.4.0",
      "model_name": "TextModel",
      "state": {
       "_dom_classes": [
        "blankcell"
       ],
       "disabled": true,
       "layout": "IPY_MODEL_d861c29f26634ccfb59b53f634fc937d",
       "style": "IPY_MODEL_5f66bf2257584bc4b83b7a291dd164af"
      }
     },
     "7567bf59b329404b96e9c1df12cf0c95": {
      "model_module": "@jupyter-widgets/base",
      "model_module_version": "1.1.0",
      "model_name": "LayoutModel",
      "state": {}
     },
     "759e147548484900847155e67bdccbdf": {
      "model_module": "@jupyter-widgets/controls",
      "model_module_version": "1.4.0",
      "model_name": "ButtonStyleModel",
      "state": {}
     },
     "75d2a43c988946d098ae1085876fb053": {
      "model_module": "@jupyter-widgets/controls",
      "model_module_version": "1.4.0",
      "model_name": "ButtonModel",
      "state": {
       "_dom_classes": [
        "gridbutton",
        "b2"
       ],
       "disabled": true,
       "layout": "IPY_MODEL_d861c29f26634ccfb59b53f634fc937d",
       "style": "IPY_MODEL_26ee550000b848c6b446015ef9698926"
      }
     },
     "75d8a9a9e1e64518be94a6d96a5db190": {
      "model_module": "@jupyter-widgets/base",
      "model_module_version": "1.1.0",
      "model_name": "LayoutModel",
      "state": {}
     },
     "75f5073d3690435fa321f7ccfcfc404e": {
      "model_module": "@jupyter-widgets/controls",
      "model_module_version": "1.4.0",
      "model_name": "HBoxModel",
      "state": {
       "children": [
        "IPY_MODEL_3d664a3d2c904d64a10e59771baa8cd1"
       ],
       "layout": "IPY_MODEL_7567bf59b329404b96e9c1df12cf0c95"
      }
     },
     "75f8318977d04edfb05b15f57737a31f": {
      "model_module": "@jupyter-widgets/controls",
      "model_module_version": "1.4.0",
      "model_name": "ButtonStyleModel",
      "state": {}
     },
     "7608dce744c946b385b1d196ab89f6ba": {
      "model_module": "@jupyter-widgets/base",
      "model_module_version": "1.1.0",
      "model_name": "LayoutModel",
      "state": {}
     },
     "7610c3355a1144bca8d7168783369b9d": {
      "model_module": "@jupyter-widgets/base",
      "model_module_version": "1.1.0",
      "model_name": "LayoutModel",
      "state": {}
     },
     "7621b701fe6349bd9571468ef5859b15": {
      "model_module": "@jupyter-widgets/controls",
      "model_module_version": "1.4.0",
      "model_name": "DescriptionStyleModel",
      "state": {
       "description_width": ""
      }
     },
     "762c3f217f834f199143921d8240c7bc": {
      "model_module": "@jupyter-widgets/controls",
      "model_module_version": "1.4.0",
      "model_name": "DescriptionStyleModel",
      "state": {
       "description_width": ""
      }
     },
     "763b783f67f34b4ebcd078b5fc5a3b1c": {
      "model_module": "@jupyter-widgets/controls",
      "model_module_version": "1.4.0",
      "model_name": "ButtonModel",
      "state": {
       "_dom_classes": [
        "gridbutton",
        "b2"
       ],
       "disabled": true,
       "layout": "IPY_MODEL_196c83a3b43a46dca975be63611b8c09",
       "style": "IPY_MODEL_661e239f554d4cceb98c5ccc87785875"
      }
     },
     "763b9895cd774aae9e33936ab57bde24": {
      "model_module": "@jupyter-widgets/controls",
      "model_module_version": "1.4.0",
      "model_name": "TextModel",
      "state": {
       "_dom_classes": [
        "blankcell"
       ],
       "disabled": true,
       "layout": "IPY_MODEL_581cef88be2741a9bde4fcb6422ff1b0",
       "style": "IPY_MODEL_b28c5e8dab4749ccb41457582afb2576"
      }
     },
     "763f864f18ee4f338994785072beed16": {
      "model_module": "@jupyter-widgets/controls",
      "model_module_version": "1.4.0",
      "model_name": "ButtonModel",
      "state": {
       "_dom_classes": [
        "gridbutton",
        "b3"
       ],
       "disabled": true,
       "layout": "IPY_MODEL_196c83a3b43a46dca975be63611b8c09",
       "style": "IPY_MODEL_b61d14cd4c9d42dca27b31dc42964578"
      }
     },
     "763fd25b992b4fdc91189d0e5ef33e9a": {
      "model_module": "@jupyter-widgets/controls",
      "model_module_version": "1.4.0",
      "model_name": "DescriptionStyleModel",
      "state": {
       "description_width": ""
      }
     },
     "7642dc84858a4fa19ec3ed426877dc70": {
      "model_module": "@jupyter-widgets/controls",
      "model_module_version": "1.4.0",
      "model_name": "ButtonModel",
      "state": {
       "_dom_classes": [
        "gridbutton",
        "b1"
       ],
       "disabled": true,
       "layout": "IPY_MODEL_d861c29f26634ccfb59b53f634fc937d",
       "style": "IPY_MODEL_cde74d09ee644b0bb0e8e2818f1a0855"
      }
     },
     "766582b5db4b44c3b9eb63d9400a6c69": {
      "model_module": "@jupyter-widgets/base",
      "model_module_version": "1.1.0",
      "model_name": "LayoutModel",
      "state": {
       "height": "2em",
       "margin": "0",
       "padding": "0",
       "width": "3em"
      }
     },
     "768f71fd00e54f0f962f4e5ed6bd52bd": {
      "model_module": "@jupyter-widgets/base",
      "model_module_version": "1.1.0",
      "model_name": "LayoutModel",
      "state": {}
     },
     "769410db82fe477192c83ca1f9d205d7": {
      "model_module": "@jupyter-widgets/base",
      "model_module_version": "1.1.0",
      "model_name": "LayoutModel",
      "state": {}
     },
     "7695129d68914c67981de28479cf8d4a": {
      "model_module": "@jupyter-widgets/base",
      "model_module_version": "1.1.0",
      "model_name": "LayoutModel",
      "state": {}
     },
     "76d053c311094f778af8229127278a6f": {
      "model_module": "@jupyter-widgets/base",
      "model_module_version": "1.1.0",
      "model_name": "LayoutModel",
      "state": {}
     },
     "76f99e01fb434ae7b3c6c8e2468e05bc": {
      "model_module": "@jupyter-widgets/controls",
      "model_module_version": "1.4.0",
      "model_name": "ButtonStyleModel",
      "state": {}
     },
     "7737cc2f19de426f98268dd961fb763a": {
      "model_module": "@jupyter-widgets/base",
      "model_module_version": "1.1.0",
      "model_name": "LayoutModel",
      "state": {}
     },
     "773b257e863d444f99bd42a1e97f1ea8": {
      "model_module": "@jupyter-widgets/base",
      "model_module_version": "1.1.0",
      "model_name": "LayoutModel",
      "state": {}
     },
     "774ea8d552954090952c236efbc4a98c": {
      "model_module": "@jupyter-widgets/controls",
      "model_module_version": "1.4.0",
      "model_name": "ButtonModel",
      "state": {
       "_dom_classes": [
        "gridbutton",
        "b4"
       ],
       "disabled": true,
       "layout": "IPY_MODEL_581cef88be2741a9bde4fcb6422ff1b0",
       "style": "IPY_MODEL_ede77d47f97148e28a5a01ee808867a9"
      }
     },
     "778021f7b9864f218824c9740b321b18": {
      "model_module": "@jupyter-widgets/controls",
      "model_module_version": "1.4.0",
      "model_name": "ButtonStyleModel",
      "state": {}
     },
     "778596f4d9a44457aa27c241f017b939": {
      "model_module": "@jupyter-widgets/controls",
      "model_module_version": "1.4.0",
      "model_name": "ButtonModel",
      "state": {
       "_dom_classes": [
        "gridbutton",
        "b1"
       ],
       "disabled": true,
       "layout": "IPY_MODEL_196c83a3b43a46dca975be63611b8c09",
       "style": "IPY_MODEL_dfee691fd561468ab23dba4b8a74fb9b"
      }
     },
     "778f94c9060b4e6d9fe84d3f254778a7": {
      "model_module": "@jupyter-widgets/controls",
      "model_module_version": "1.4.0",
      "model_name": "ButtonStyleModel",
      "state": {}
     },
     "77e61c01231f47df946e1c2c7b84daa3": {
      "model_module": "@jupyter-widgets/controls",
      "model_module_version": "1.4.0",
      "model_name": "TextModel",
      "state": {
       "_dom_classes": [
        "gridcell",
        "addablecell"
       ],
       "_view_module": "sage-combinat-widgets",
       "_view_module_version": "^0.2.0",
       "_view_name": "TextWithTooltipView",
       "continuous_update": false,
       "description_tooltip": "",
       "layout": "IPY_MODEL_ae25d8ee9fe646ebb7fdd668d6ed6cab",
       "style": "IPY_MODEL_90d97bde468546349ae5732ec7d158a4"
      }
     },
     "77e6358dd6fc4806b4213d2da560695a": {
      "model_module": "@jupyter-widgets/controls",
      "model_module_version": "1.4.0",
      "model_name": "ButtonModel",
      "state": {
       "_dom_classes": [
        "gridbutton",
        "b2"
       ],
       "disabled": true,
       "layout": "IPY_MODEL_581cef88be2741a9bde4fcb6422ff1b0",
       "style": "IPY_MODEL_c23396d387394740be0a4aadbb2658d7"
      }
     },
     "7807619c9a7f496a91e3c70a4dfad5b8": {
      "model_module": "@jupyter-widgets/base",
      "model_module_version": "1.1.0",
      "model_name": "LayoutModel",
      "state": {}
     },
     "782938a9df5c4055a8c772957bc0b867": {
      "model_module": "@jupyter-widgets/controls",
      "model_module_version": "1.4.0",
      "model_name": "TextModel",
      "state": {
       "_dom_classes": [
        "blankcell"
       ],
       "disabled": true,
       "layout": "IPY_MODEL_d861c29f26634ccfb59b53f634fc937d",
       "style": "IPY_MODEL_9b2966fbcb8946a084af129315b733bd"
      }
     },
     "78605a1534ae459a980b90c423dcaf40": {
      "model_module": "@jupyter-widgets/controls",
      "model_module_version": "1.4.0",
      "model_name": "ButtonModel",
      "state": {
       "_dom_classes": [
        "gridbutton",
        "b3"
       ],
       "disabled": true,
       "layout": "IPY_MODEL_196c83a3b43a46dca975be63611b8c09",
       "style": "IPY_MODEL_994dbe87a5cf4609851be8dfbbd2c2c6"
      }
     },
     "7866cec2c3dd465991461e0b6a20562a": {
      "model_module": "@jupyter-widgets/controls",
      "model_module_version": "1.4.0",
      "model_name": "ButtonStyleModel",
      "state": {}
     },
     "7870e5b2515443c590fd083ad8f3106b": {
      "model_module": "@jupyter-widgets/controls",
      "model_module_version": "1.4.0",
      "model_name": "ButtonStyleModel",
      "state": {}
     },
     "787d42f8a95f484c80457f85d8c61776": {
      "model_module": "@jupyter-widgets/controls",
      "model_module_version": "1.4.0",
      "model_name": "TextModel",
      "state": {
       "_dom_classes": [
        "blankcell"
       ],
       "disabled": true,
       "layout": "IPY_MODEL_196c83a3b43a46dca975be63611b8c09",
       "style": "IPY_MODEL_a59773c8785b4c31873cf76754961930"
      }
     },
     "788d51b52e8247baace35399c21739e3": {
      "model_module": "@jupyter-widgets/controls",
      "model_module_version": "1.4.0",
      "model_name": "ButtonStyleModel",
      "state": {}
     },
     "7894e10ad26a4303a822eaa23719ae30": {
      "model_module": "@jupyter-widgets/base",
      "model_module_version": "1.1.0",
      "model_name": "LayoutModel",
      "state": {
       "height": "2em",
       "margin": "0",
       "padding": "0",
       "width": "2em"
      }
     },
     "78ac542b3b5849438bb95f080a0c86b0": {
      "model_module": "@jupyter-widgets/controls",
      "model_module_version": "1.4.0",
      "model_name": "DescriptionStyleModel",
      "state": {
       "description_width": ""
      }
     },
     "78b3245ca1134f65917030321d14cd84": {
      "model_module": "@jupyter-widgets/controls",
      "model_module_version": "1.4.0",
      "model_name": "ButtonStyleModel",
      "state": {}
     },
     "78bf2d855181401e82b6413b7fd7d878": {
      "model_module": "@jupyter-widgets/controls",
      "model_module_version": "1.4.0",
      "model_name": "TextModel",
      "state": {
       "_dom_classes": [
        "blankcell"
       ],
       "disabled": true,
       "layout": "IPY_MODEL_196c83a3b43a46dca975be63611b8c09",
       "style": "IPY_MODEL_660670ba967c4328a4126c550eeec0f0"
      }
     },
     "7906f66553b14b39bbb4ab5b5f27b0ee": {
      "model_module": "@jupyter-widgets/base",
      "model_module_version": "1.1.0",
      "model_name": "LayoutModel",
      "state": {}
     },
     "790ea8b93b604b2ba28ae5516095dfc0": {
      "model_module": "@jupyter-widgets/controls",
      "model_module_version": "1.4.0",
      "model_name": "DescriptionStyleModel",
      "state": {
       "description_width": ""
      }
     },
     "7944b14e826542e9b93f36fad76d94f2": {
      "model_module": "@jupyter-widgets/base",
      "model_module_version": "1.1.0",
      "model_name": "LayoutModel",
      "state": {}
     },
     "795bedb7394c49f4ba505bceec89b1d7": {
      "model_module": "@jupyter-widgets/controls",
      "model_module_version": "1.4.0",
      "model_name": "DescriptionStyleModel",
      "state": {
       "description_width": ""
      }
     },
     "795cec2a3e0443f286304d36d663b8fb": {
      "model_module": "@jupyter-widgets/base",
      "model_module_version": "1.1.0",
      "model_name": "LayoutModel",
      "state": {}
     },
     "7969be4a428e4f6a966d61ccc41df9d7": {
      "model_module": "@jupyter-widgets/controls",
      "model_module_version": "1.4.0",
      "model_name": "ButtonModel",
      "state": {
       "_dom_classes": [
        "gridbutton",
        "b2"
       ],
       "disabled": true,
       "layout": "IPY_MODEL_d861c29f26634ccfb59b53f634fc937d",
       "style": "IPY_MODEL_38cc7bf4413d4693a443191b65c0f67d"
      }
     },
     "79779fbf1bf7415281615af3bb7c056d": {
      "model_module": "@jupyter-widgets/controls",
      "model_module_version": "1.4.0",
      "model_name": "HBoxModel",
      "state": {
       "children": [
        "IPY_MODEL_9425b61835c140f9bdb99912d313c695",
        "IPY_MODEL_55620f55b5fd4a808fafc2fbf3a6a5fb",
        "IPY_MODEL_dbfe6d8d27444ffcbdb607393aaa6e62",
        "IPY_MODEL_99b9b9462f3e4e69872e7cfa3c532487",
        "IPY_MODEL_c590f2b297b940e79b0b57bd63381b3c",
        "IPY_MODEL_94b8fef84f354582b698b547e0db4abf",
        "IPY_MODEL_27c3cef159a3411a87cd865bfcbc992c",
        "IPY_MODEL_427a468e65e34e81a4b896bdb9fb7646",
        "IPY_MODEL_6ed94b8f4eed42ba8a51f9172616302f",
        "IPY_MODEL_f633583c7fd94f1d84fd0b29a8367044",
        "IPY_MODEL_e331fcdb32b84e59a298f44aa46a8ef0"
       ],
       "layout": "IPY_MODEL_cb96b17bad05453eac852db9caaaf9b6"
      }
     },
     "798f4dd1f92c4cd5bcfbb6bcabf03b4a": {
      "model_module": "@jupyter-widgets/base",
      "model_module_version": "1.1.0",
      "model_name": "LayoutModel",
      "state": {}
     },
     "799ac765f3fe4e7e83a1ec048c352a4c": {
      "model_module": "@jupyter-widgets/base",
      "model_module_version": "1.1.0",
      "model_name": "LayoutModel",
      "state": {}
     },
     "79a70f4fa7024bdba2bb7de07385f605": {
      "model_module": "@jupyter-widgets/controls",
      "model_module_version": "1.4.0",
      "model_name": "ButtonStyleModel",
      "state": {}
     },
     "79ac055d9abd4a69a59e09ef7533ebb3": {
      "model_module": "@jupyter-widgets/base",
      "model_module_version": "1.1.0",
      "model_name": "LayoutModel",
      "state": {}
     },
     "79d00d433f90411fad48c62d49334906": {
      "model_module": "@jupyter-widgets/base",
      "model_module_version": "1.1.0",
      "model_name": "LayoutModel",
      "state": {}
     },
     "79e6dcb881294aa4911de5f02b7c8c6e": {
      "model_module": "@jupyter-widgets/controls",
      "model_module_version": "1.4.0",
      "model_name": "ButtonStyleModel",
      "state": {}
     },
     "79ed63d3fdaa473bb24bd1ec54ea1fe4": {
      "model_module": "@jupyter-widgets/base",
      "model_module_version": "1.1.0",
      "model_name": "LayoutModel",
      "state": {}
     },
     "7a30bcc7cea345ffbd698d7e20f37f6f": {
      "model_module": "@jupyter-widgets/base",
      "model_module_version": "1.1.0",
      "model_name": "LayoutModel",
      "state": {}
     },
     "7a5f492d574b4fe28f08758c561c4745": {
      "model_module": "@jupyter-widgets/controls",
      "model_module_version": "1.4.0",
      "model_name": "DescriptionStyleModel",
      "state": {
       "description_width": ""
      }
     },
     "7a92bea20fea4d8aa959c7284e763204": {
      "model_module": "@jupyter-widgets/controls",
      "model_module_version": "1.4.0",
      "model_name": "DescriptionStyleModel",
      "state": {
       "description_width": ""
      }
     },
     "7abdf7fc091c467aa9e11895944624aa": {
      "model_module": "@jupyter-widgets/base",
      "model_module_version": "1.1.0",
      "model_name": "LayoutModel",
      "state": {}
     },
     "7afd13e3bbbe41239955669b1ecc98e5": {
      "model_module": "@jupyter-widgets/controls",
      "model_module_version": "1.4.0",
      "model_name": "ButtonModel",
      "state": {
       "_dom_classes": [
        "gridbutton",
        "b1"
       ],
       "disabled": true,
       "layout": "IPY_MODEL_d861c29f26634ccfb59b53f634fc937d",
       "style": "IPY_MODEL_b86d7b4c17a243a495fbc0deaa42d31e"
      }
     },
     "7b583965a5bc40c6b9006081d8bcc0e7": {
      "model_module": "@jupyter-widgets/controls",
      "model_module_version": "1.4.0",
      "model_name": "HBoxModel",
      "state": {
       "children": [
        "IPY_MODEL_105afa958a704bb19f3ca6e6767d0f4b",
        "IPY_MODEL_d78605bf2c3e48a8bcb5072639f0a1a2",
        "IPY_MODEL_5fc21a9edf5148f1b1eccbfa726b3238",
        "IPY_MODEL_2180d6815e9f4f43b9509cfa1c04ce26",
        "IPY_MODEL_0fde27d764ad4a4e9e1b0d24c1636f34",
        "IPY_MODEL_b695766e451f4531b21c7c3d53b1bc72",
        "IPY_MODEL_fb847bedda1c461c85df0fa66c050d9a",
        "IPY_MODEL_de875fa1cf69482c90ee94af28babcbd",
        "IPY_MODEL_4cfe16d5a9cf4aa5ace48588cc92fee8",
        "IPY_MODEL_c41c852664ca4c9fb96c7d7e9f6feeb1"
       ],
       "layout": "IPY_MODEL_2625c30a1f27499395142d10b7e8040d"
      }
     },
     "7b6274c09c9f4438857718076a618d9c": {
      "model_module": "@jupyter-widgets/base",
      "model_module_version": "1.1.0",
      "model_name": "LayoutModel",
      "state": {}
     },
     "7b70fa6e7ef04ad58d953238e0925eaf": {
      "model_module": "@jupyter-widgets/controls",
      "model_module_version": "1.4.0",
      "model_name": "HBoxModel",
      "state": {
       "children": [
        "IPY_MODEL_1cc875ca4236474491ed0583b6731c56",
        "IPY_MODEL_25c53801292f4752a5b28c13bc5790c4",
        "IPY_MODEL_8f93315c31a542e5837e1a9e7d36cc5f",
        "IPY_MODEL_fdca805434c444999a250086e64a513e",
        "IPY_MODEL_f357c2df92d042188e0b301de5437f45"
       ],
       "layout": "IPY_MODEL_20a7383aeabd40529012c42468a5d164"
      }
     },
     "7b74c677ec5142a4aee47c0760720d2d": {
      "model_module": "@jupyter-widgets/controls",
      "model_module_version": "1.4.0",
      "model_name": "ToggleButtonModel",
      "state": {
       "_dom_classes": [
        "gridbutton",
        "addablebutton"
       ],
       "description": "+",
       "layout": "IPY_MODEL_24198035057f48ca81a6fa9a718c3f55",
       "style": "IPY_MODEL_68222b159f114b2fb55654b4d7489ea9",
       "tooltip": "Click to add a cell here"
      }
     },
     "7b8910b46b2c47e091e6ded8f57be3d7": {
      "model_module": "@jupyter-widgets/base",
      "model_module_version": "1.1.0",
      "model_name": "LayoutModel",
      "state": {}
     },
     "7b9577bbd7ff414c801d96454b723871": {
      "model_module": "@jupyter-widgets/controls",
      "model_module_version": "1.4.0",
      "model_name": "ButtonStyleModel",
      "state": {}
     },
     "7bbe180f38394445b3810ad2271b3968": {
      "model_module": "@jupyter-widgets/controls",
      "model_module_version": "1.4.0",
      "model_name": "ButtonStyleModel",
      "state": {}
     },
     "7bc3dc3f6e1f4a87acbb5fc8efaa40a7": {
      "model_module": "@jupyter-widgets/base",
      "model_module_version": "1.1.0",
      "model_name": "LayoutModel",
      "state": {}
     },
     "7bd5499557d14a2391e0e9fdd4bcd860": {
      "model_module": "@jupyter-widgets/controls",
      "model_module_version": "1.4.0",
      "model_name": "ButtonModel",
      "state": {
       "_dom_classes": [
        "gridbutton",
        "b3"
       ],
       "disabled": true,
       "layout": "IPY_MODEL_d861c29f26634ccfb59b53f634fc937d",
       "style": "IPY_MODEL_a4b48a1c7325497d9c130c56d1c0a738"
      }
     },
     "7bde350900eb4216ad0e0f546f48d394": {
      "model_module": "@jupyter-widgets/controls",
      "model_module_version": "1.4.0",
      "model_name": "ButtonStyleModel",
      "state": {}
     },
     "7be2f171de52429d8f051a683306543d": {
      "model_module": "@jupyter-widgets/controls",
      "model_module_version": "1.4.0",
      "model_name": "DescriptionStyleModel",
      "state": {
       "description_width": ""
      }
     },
     "7bea03476c764c35acfe952436b17841": {
      "model_module": "@jupyter-widgets/controls",
      "model_module_version": "1.4.0",
      "model_name": "ButtonStyleModel",
      "state": {}
     },
     "7bfc9693e1cf4eb882ecf7b2e72f2589": {
      "model_module": "@jupyter-widgets/base",
      "model_module_version": "1.1.0",
      "model_name": "LayoutModel",
      "state": {}
     },
     "7c0d04edcf184287b0a667a42194811a": {
      "model_module": "@jupyter-widgets/base",
      "model_module_version": "1.1.0",
      "model_name": "LayoutModel",
      "state": {}
     },
     "7c3b2e984df94226aea6cf6438df65cb": {
      "model_module": "@jupyter-widgets/controls",
      "model_module_version": "1.4.0",
      "model_name": "TextModel",
      "state": {
       "_dom_classes": [
        "blankcell"
       ],
       "disabled": true,
       "layout": "IPY_MODEL_d861c29f26634ccfb59b53f634fc937d",
       "style": "IPY_MODEL_130ac94b1f6d4ca0a90b4011f1300903"
      }
     },
     "7c683f68b23c433fb2eb7cd2f29ebc45": {
      "model_module": "@jupyter-widgets/controls",
      "model_module_version": "1.4.0",
      "model_name": "DescriptionStyleModel",
      "state": {
       "description_width": ""
      }
     },
     "7c7ac38146c449ac8f700e051575ac8f": {
      "model_module": "@jupyter-widgets/controls",
      "model_module_version": "1.4.0",
      "model_name": "ButtonModel",
      "state": {
       "_dom_classes": [
        "gridbutton",
        "b2"
       ],
       "disabled": true,
       "layout": "IPY_MODEL_d861c29f26634ccfb59b53f634fc937d",
       "style": "IPY_MODEL_aa07bbd7f9b54863912c1c775d357ae1"
      }
     },
     "7c94d705ae324622823558f2047c9ea0": {
      "model_module": "@jupyter-widgets/controls",
      "model_module_version": "1.4.0",
      "model_name": "ButtonStyleModel",
      "state": {}
     },
     "7c98cb33b37944219ce60ea82f7b631d": {
      "model_module": "@jupyter-widgets/base",
      "model_module_version": "1.1.0",
      "model_name": "LayoutModel",
      "state": {}
     },
     "7ceff2482ab2454f85260fbbd0d078c6": {
      "model_module": "@jupyter-widgets/base",
      "model_module_version": "1.1.0",
      "model_name": "LayoutModel",
      "state": {}
     },
     "7cf2bdd7695e45d7ad06c9b735577e73": {
      "model_module": "@jupyter-widgets/base",
      "model_module_version": "1.1.0",
      "model_name": "LayoutModel",
      "state": {}
     },
     "7d4c03e67b8d43b1b9aec1832694ef84": {
      "model_module": "@jupyter-widgets/base",
      "model_module_version": "1.1.0",
      "model_name": "LayoutModel",
      "state": {}
     },
     "7d74fb66eaa9409eb9316b5ec4282a3a": {
      "model_module": "@jupyter-widgets/controls",
      "model_module_version": "1.4.0",
      "model_name": "ButtonStyleModel",
      "state": {}
     },
     "7d77b6c2205c4f2186eecdf666fad6d2": {
      "model_module": "@jupyter-widgets/controls",
      "model_module_version": "1.4.0",
      "model_name": "ButtonStyleModel",
      "state": {}
     },
     "7d81ff7b4a6a4c04b295b6fd555fdd70": {
      "model_module": "@jupyter-widgets/base",
      "model_module_version": "1.1.0",
      "model_name": "LayoutModel",
      "state": {}
     },
     "7db3752a3efd4f28995f1340272219d6": {
      "model_module": "@jupyter-widgets/controls",
      "model_module_version": "1.4.0",
      "model_name": "DescriptionStyleModel",
      "state": {
       "description_width": ""
      }
     },
     "7dd68023945040db82bc5af19e7bcdc1": {
      "model_module": "@jupyter-widgets/controls",
      "model_module_version": "1.4.0",
      "model_name": "DescriptionStyleModel",
      "state": {
       "description_width": ""
      }
     },
     "7df04b9221d141179478c848e14435dd": {
      "model_module": "@jupyter-widgets/controls",
      "model_module_version": "1.4.0",
      "model_name": "ButtonModel",
      "state": {
       "_dom_classes": [
        "gridbutton",
        "b1"
       ],
       "disabled": true,
       "layout": "IPY_MODEL_d861c29f26634ccfb59b53f634fc937d",
       "style": "IPY_MODEL_08d410d33c9d4e5396e457805fe77963"
      }
     },
     "7dfe40cdd599433eb7984618d9927883": {
      "model_module": "@jupyter-widgets/controls",
      "model_module_version": "1.4.0",
      "model_name": "TextModel",
      "state": {
       "_dom_classes": [
        "gridcell"
       ],
       "_view_module": "sage-combinat-widgets",
       "_view_module_version": "^0.2.0",
       "_view_name": "TextWithTooltipView",
       "continuous_update": false,
       "description_tooltip": "",
       "layout": "IPY_MODEL_742ce9cb5c1a4d358dd3aef0fa324d55",
       "style": "IPY_MODEL_f4be6b579d9745289e822d475fbaf370",
       "value": "11"
      }
     },
     "7e0e7680d08d4a6da91c11a9a27edb36": {
      "model_module": "@jupyter-widgets/controls",
      "model_module_version": "1.4.0",
      "model_name": "TextModel",
      "state": {
       "_dom_classes": [
        "blankcell"
       ],
       "disabled": true,
       "layout": "IPY_MODEL_581cef88be2741a9bde4fcb6422ff1b0",
       "style": "IPY_MODEL_ca97f5b4bb07410b8e1482095f294dd5"
      }
     },
     "7e5644b6a27b477ebe0678ca5d3001a9": {
      "model_module": "@jupyter-widgets/controls",
      "model_module_version": "1.4.0",
      "model_name": "ButtonStyleModel",
      "state": {}
     },
     "7e7fdba3227340c3aeb2c46a42f09680": {
      "model_module": "@jupyter-widgets/controls",
      "model_module_version": "1.4.0",
      "model_name": "DescriptionStyleModel",
      "state": {
       "description_width": ""
      }
     },
     "7e83c83432a04e988ed44f61d1540fb2": {
      "model_module": "@jupyter-widgets/base",
      "model_module_version": "1.1.0",
      "model_name": "LayoutModel",
      "state": {}
     },
     "7e8427909d3a409aa6c45cf49f3c375a": {
      "model_module": "@jupyter-widgets/controls",
      "model_module_version": "1.4.0",
      "model_name": "ButtonStyleModel",
      "state": {}
     },
     "7e9f9a6665c4495091c243f41891427b": {
      "model_module": "@jupyter-widgets/controls",
      "model_module_version": "1.4.0",
      "model_name": "DescriptionStyleModel",
      "state": {
       "description_width": ""
      }
     },
     "7eba02f26e7e4b15a59c9cbb08db9cb4": {
      "model_module": "@jupyter-widgets/base",
      "model_module_version": "1.1.0",
      "model_name": "LayoutModel",
      "state": {}
     },
     "7edff9c6fc59472e983814ae0548c46f": {
      "model_module": "@jupyter-widgets/controls",
      "model_module_version": "1.4.0",
      "model_name": "ButtonModel",
      "state": {
       "_dom_classes": [
        "gridbutton",
        "b2"
       ],
       "disabled": true,
       "layout": "IPY_MODEL_581cef88be2741a9bde4fcb6422ff1b0",
       "style": "IPY_MODEL_4e631021611748689c8e92582650df0b"
      }
     },
     "7ee77f5eeefe4cdcb25e21cbf2c569ed": {
      "model_module": "@jupyter-widgets/base",
      "model_module_version": "1.1.0",
      "model_name": "LayoutModel",
      "state": {}
     },
     "7ef493dcbf6e43d3be2fd435b3cc534a": {
      "model_module": "@jupyter-widgets/controls",
      "model_module_version": "1.4.0",
      "model_name": "DescriptionStyleModel",
      "state": {
       "description_width": ""
      }
     },
     "7efdc125889443c7a0eacc85f9fee26d": {
      "model_module": "@jupyter-widgets/base",
      "model_module_version": "1.1.0",
      "model_name": "LayoutModel",
      "state": {}
     },
     "7f0e1cd50197454fae93f4f81b14b615": {
      "model_module": "@jupyter-widgets/controls",
      "model_module_version": "1.4.0",
      "model_name": "HBoxModel",
      "state": {
       "children": [
        "IPY_MODEL_cecab72659cc4776b4b911a4fc525d55",
        "IPY_MODEL_d19619c0e77747b3bf15b9864a0c6d60",
        "IPY_MODEL_8084d7d8f07440a49863345d47ff79cb",
        "IPY_MODEL_0a780ce00cc14fb89f1e7712b66b299e"
       ],
       "layout": "IPY_MODEL_8131c4405d904d11a9aee89c897516c0"
      }
     },
     "7f2bb0223c2748f3b32d8d9434f0931c": {
      "model_module": "@jupyter-widgets/controls",
      "model_module_version": "1.4.0",
      "model_name": "ButtonStyleModel",
      "state": {}
     },
     "7f350b5660c940e78dc9869125e42a72": {
      "model_module": "@jupyter-widgets/controls",
      "model_module_version": "1.4.0",
      "model_name": "TextModel",
      "state": {
       "_dom_classes": [
        "blankcell"
       ],
       "disabled": true,
       "layout": "IPY_MODEL_581cef88be2741a9bde4fcb6422ff1b0",
       "style": "IPY_MODEL_7c683f68b23c433fb2eb7cd2f29ebc45"
      }
     },
     "7f5e17cf334c4e0ba27ae966b03696eb": {
      "model_module": "@jupyter-widgets/controls",
      "model_module_version": "1.4.0",
      "model_name": "ButtonModel",
      "state": {
       "_dom_classes": [
        "gridbutton",
        "b3"
       ],
       "disabled": true,
       "layout": "IPY_MODEL_d861c29f26634ccfb59b53f634fc937d",
       "style": "IPY_MODEL_290beaa1a4484659affdc6e225b8a66f"
      }
     },
     "7f8cbdf17cc144cb8a7bb283d49b9854": {
      "model_module": "@jupyter-widgets/controls",
      "model_module_version": "1.4.0",
      "model_name": "DescriptionStyleModel",
      "state": {
       "description_width": ""
      }
     },
     "7f8f7fa4ada644989245140a39ae1f9a": {
      "model_module": "@jupyter-widgets/base",
      "model_module_version": "1.1.0",
      "model_name": "LayoutModel",
      "state": {}
     },
     "7fcf895790304991b425e5c44a6f229a": {
      "model_module": "@jupyter-widgets/controls",
      "model_module_version": "1.4.0",
      "model_name": "DescriptionStyleModel",
      "state": {
       "description_width": ""
      }
     },
     "7fd05b939fee4871809a302c4e6fe2c6": {
      "model_module": "@jupyter-widgets/base",
      "model_module_version": "1.1.0",
      "model_name": "LayoutModel",
      "state": {}
     },
     "7ffe5c4a8a83478b8689b7bb022576c7": {
      "model_module": "@jupyter-widgets/controls",
      "model_module_version": "1.4.0",
      "model_name": "DescriptionStyleModel",
      "state": {
       "description_width": ""
      }
     },
     "7fff433dbc3740ee8f91653478d666c7": {
      "model_module": "@jupyter-widgets/controls",
      "model_module_version": "1.4.0",
      "model_name": "HBoxModel",
      "state": {
       "children": [
        "IPY_MODEL_eeef7837a9924e98993d970a105ed369",
        "IPY_MODEL_daf0ff5d24484903b13ea1363d0f5bfc",
        "IPY_MODEL_d6cedc94033b47eb9e58968ae623d625",
        "IPY_MODEL_f1309bb6657a49719172db70ebac9ec0",
        "IPY_MODEL_65e6537887c04d7c89c9afd0c29a86e1",
        "IPY_MODEL_7afd13e3bbbe41239955669b1ecc98e5",
        "IPY_MODEL_61d029a15df24b46844f7a7c949f7d66",
        "IPY_MODEL_09c17f38026044778fbdb251c356eec2",
        "IPY_MODEL_defef31c59eb420f99ecfd9a8ba0a9a3",
        "IPY_MODEL_f83eaf9faa934a189eaf8aadb7f67cea",
        "IPY_MODEL_ee8bcdba6a744736abec0a5f7a21b934",
        "IPY_MODEL_e6f4f91d84784058b860de1127f4bbc2",
        "IPY_MODEL_857706ce79654442a7aed0a097cfeb77",
        "IPY_MODEL_ac2e04283773431d931e4d9a3211d996"
       ],
       "layout": "IPY_MODEL_37c36998eee549228d6ecbe48fb39393"
      }
     },
     "80026bd1580c468cb38f1aa0f6db22d4": {
      "model_module": "@jupyter-widgets/controls",
      "model_module_version": "1.4.0",
      "model_name": "DescriptionStyleModel",
      "state": {
       "description_width": ""
      }
     },
     "8009934474e645eaae6783dec12429ff": {
      "model_module": "@jupyter-widgets/base",
      "model_module_version": "1.1.0",
      "model_name": "LayoutModel",
      "state": {}
     },
     "8047132778764767b0553d8736eed581": {
      "model_module": "@jupyter-widgets/base",
      "model_module_version": "1.1.0",
      "model_name": "LayoutModel",
      "state": {}
     },
     "806b2fd4347447259743835d696fbf31": {
      "model_module": "@jupyter-widgets/controls",
      "model_module_version": "1.4.0",
      "model_name": "DescriptionStyleModel",
      "state": {
       "description_width": ""
      }
     },
     "8075d6c01a4241fabae754fc7da635b6": {
      "model_module": "@jupyter-widgets/base",
      "model_module_version": "1.1.0",
      "model_name": "LayoutModel",
      "state": {}
     },
     "807d9329d7694407a198b73147549513": {
      "model_module": "@jupyter-widgets/base",
      "model_module_version": "1.1.0",
      "model_name": "LayoutModel",
      "state": {}
     },
     "8084d7d8f07440a49863345d47ff79cb": {
      "model_module": "@jupyter-widgets/controls",
      "model_module_version": "1.4.0",
      "model_name": "ButtonModel",
      "state": {
       "description": "-",
       "layout": "IPY_MODEL_c35583e1a9b6438f9f6e11e5edefb1af",
       "style": "IPY_MODEL_45a6e85697dd4b2589cf7e23f89ad809"
      }
     },
     "8087fa61e505456e9c1b201d562dd92d": {
      "model_module": "@jupyter-widgets/base",
      "model_module_version": "1.1.0",
      "model_name": "LayoutModel",
      "state": {}
     },
     "80b9de576434463c8bacc1f4be4a3c39": {
      "model_module": "@jupyter-widgets/controls",
      "model_module_version": "1.4.0",
      "model_name": "HBoxModel",
      "state": {
       "children": [
        "IPY_MODEL_94f3822abcf747f5beab4f2a13f5cc76",
        "IPY_MODEL_c816ad95e5da4f80b0f370ef7f7327e9",
        "IPY_MODEL_dd229ce547ce4304b12d37b6fa8e0794"
       ],
       "layout": "IPY_MODEL_63108b3acf1248a69fec35b1a21d9973"
      }
     },
     "80e8aa4dbb2d4c67935d06dee86aff58": {
      "model_module": "@jupyter-widgets/base",
      "model_module_version": "1.1.0",
      "model_name": "LayoutModel",
      "state": {}
     },
     "8101f503aa3b497da4d3a8d8192ea7fa": {
      "model_module": "@jupyter-widgets/base",
      "model_module_version": "1.1.0",
      "model_name": "LayoutModel",
      "state": {}
     },
     "811f32ff11b54f3cb88587f4f1510e99": {
      "model_module": "@jupyter-widgets/base",
      "model_module_version": "1.1.0",
      "model_name": "LayoutModel",
      "state": {}
     },
     "8131c4405d904d11a9aee89c897516c0": {
      "model_module": "@jupyter-widgets/base",
      "model_module_version": "1.1.0",
      "model_name": "LayoutModel",
      "state": {}
     },
     "8132cd947674472b848cb623abb10eeb": {
      "model_module": "@jupyter-widgets/base",
      "model_module_version": "1.1.0",
      "model_name": "LayoutModel",
      "state": {}
     },
     "813ac00a430a4867b8882e2c531cfd38": {
      "model_module": "@jupyter-widgets/controls",
      "model_module_version": "1.4.0",
      "model_name": "TextModel",
      "state": {
       "_dom_classes": [
        "blankcell"
       ],
       "disabled": true,
       "layout": "IPY_MODEL_581cef88be2741a9bde4fcb6422ff1b0",
       "style": "IPY_MODEL_5056822fe32147fc85d4853352d1dc91"
      }
     },
     "81790f7271094fed9d881178665b94cb": {
      "model_module": "@jupyter-widgets/base",
      "model_module_version": "1.1.0",
      "model_name": "LayoutModel",
      "state": {}
     },
     "81869ec58bb44ee3a7580bd91a3c660c": {
      "model_module": "@jupyter-widgets/base",
      "model_module_version": "1.1.0",
      "model_name": "LayoutModel",
      "state": {}
     },
     "81c9bf2891b74aeaa61d4ac710f234da": {
      "model_module": "@jupyter-widgets/controls",
      "model_module_version": "1.4.0",
      "model_name": "HBoxModel",
      "state": {
       "children": [
        "IPY_MODEL_9f1bfda21ae6404d9298e9bbd2725bc9",
        "IPY_MODEL_b092c1a641864442ba69dd77d81d41e6",
        "IPY_MODEL_afdff539c1e94578ac05b81a4987045f",
        "IPY_MODEL_9cfd56e5fd0946f7abd592b2f9ed8905",
        "IPY_MODEL_9771fbf4c8cb459690af20542a8b487e",
        "IPY_MODEL_6e95ebec0aba42f9b0542292e7872d48",
        "IPY_MODEL_46547c85f5cd4843bc2f7688327921d8",
        "IPY_MODEL_43ea45c982ca4445a7a8321ada22bdcb"
       ],
       "layout": "IPY_MODEL_1f6ba227ba9b47a48d332eb6424f27e1"
      }
     },
     "81cf75be89884f97be2dbf190334dbb2": {
      "model_module": "@jupyter-widgets/base",
      "model_module_version": "1.1.0",
      "model_name": "LayoutModel",
      "state": {}
     },
     "81e38f9ae97b46deb61c5768ca1b310a": {
      "model_module": "@jupyter-widgets/controls",
      "model_module_version": "1.4.0",
      "model_name": "ButtonModel",
      "state": {
       "_dom_classes": [
        "gridbutton",
        "b3"
       ],
       "disabled": true,
       "layout": "IPY_MODEL_581cef88be2741a9bde4fcb6422ff1b0",
       "style": "IPY_MODEL_5603d9ca277a4224a4f41476ed2af9c8"
      }
     },
     "81e60926864443ce90bba45e8178400c": {
      "model_module": "@jupyter-widgets/controls",
      "model_module_version": "1.4.0",
      "model_name": "ButtonModel",
      "state": {
       "_dom_classes": [
        "gridbutton",
        "b4"
       ],
       "disabled": true,
       "layout": "IPY_MODEL_581cef88be2741a9bde4fcb6422ff1b0",
       "style": "IPY_MODEL_6e3fd2c283f6475ca55a02a4188fd9ef"
      }
     },
     "822008060ebb4cb38778da008a7f515f": {
      "model_module": "@jupyter-widgets/controls",
      "model_module_version": "1.4.0",
      "model_name": "ToggleButtonModel",
      "state": {
       "_dom_classes": [
        "gridbutton",
        "addablebutton"
       ],
       "description": "+",
       "layout": "IPY_MODEL_742ce9cb5c1a4d358dd3aef0fa324d55",
       "style": "IPY_MODEL_04c3b799067d4cd59e8aa5b23924de70",
       "tooltip": "Click to add a cell here"
      }
     },
     "8232eddedf144ceabbc85c41b8e47601": {
      "model_module": "@jupyter-widgets/base",
      "model_module_version": "1.1.0",
      "model_name": "LayoutModel",
      "state": {}
     },
     "82351156b63447db92b4ece2cdf525fe": {
      "model_module": "@jupyter-widgets/base",
      "model_module_version": "1.1.0",
      "model_name": "LayoutModel",
      "state": {}
     },
     "825838f31e59499bb5c98371a6748599": {
      "model_module": "@jupyter-widgets/base",
      "model_module_version": "1.1.0",
      "model_name": "LayoutModel",
      "state": {}
     },
     "828933878698419ba77b1e8841be415c": {
      "model_module": "@jupyter-widgets/controls",
      "model_module_version": "1.4.0",
      "model_name": "ButtonModel",
      "state": {
       "_dom_classes": [
        "gridbutton",
        "b1"
       ],
       "disabled": true,
       "layout": "IPY_MODEL_d861c29f26634ccfb59b53f634fc937d",
       "style": "IPY_MODEL_69641c26699a4c68a5fd647266d19f2e"
      }
     },
     "829703c76ba2407bafc84ce949493131": {
      "model_module": "@jupyter-widgets/controls",
      "model_module_version": "1.4.0",
      "model_name": "ButtonStyleModel",
      "state": {}
     },
     "82a191f6ecd54d6283bfefd55feb026c": {
      "model_module": "@jupyter-widgets/controls",
      "model_module_version": "1.4.0",
      "model_name": "TextModel",
      "state": {
       "_dom_classes": [
        "blankcell"
       ],
       "disabled": true,
       "layout": "IPY_MODEL_196c83a3b43a46dca975be63611b8c09",
       "style": "IPY_MODEL_d2f5a9ef45c846a4874b26ec9f25b887"
      }
     },
     "82a1aa5a360d480d9ecdd157842150a9": {
      "model_module": "@jupyter-widgets/controls",
      "model_module_version": "1.4.0",
      "model_name": "TextModel",
      "state": {
       "layout": "IPY_MODEL_1aa9f9d59433424baf8bda979dcac020",
       "style": "IPY_MODEL_ebe4cee79a974922a67502c0eb4e76c9"
      }
     },
     "82b2488b232644caa5d9a03461202032": {
      "model_module": "@jupyter-widgets/controls",
      "model_module_version": "1.4.0",
      "model_name": "DescriptionStyleModel",
      "state": {
       "description_width": ""
      }
     },
     "82c019c9326046acab7e2c97002139be": {
      "model_module": "@jupyter-widgets/controls",
      "model_module_version": "1.4.0",
      "model_name": "ButtonStyleModel",
      "state": {}
     },
     "82c7f252bef74c76a5a5740799440f65": {
      "model_module": "@jupyter-widgets/base",
      "model_module_version": "1.1.0",
      "model_name": "LayoutModel",
      "state": {}
     },
     "82e606f13b144ced8faf491b56a79d68": {
      "model_module": "@jupyter-widgets/base",
      "model_module_version": "1.1.0",
      "model_name": "LayoutModel",
      "state": {}
     },
     "82f534b4a2b6422982172d1453c46830": {
      "model_module": "@jupyter-widgets/base",
      "model_module_version": "1.1.0",
      "model_name": "LayoutModel",
      "state": {}
     },
     "82fcfeae4ad448949c817ae26f17abaf": {
      "model_module": "@jupyter-widgets/controls",
      "model_module_version": "1.4.0",
      "model_name": "DescriptionStyleModel",
      "state": {
       "description_width": ""
      }
     },
     "8301146511634a489456472fed720175": {
      "model_module": "@jupyter-widgets/controls",
      "model_module_version": "1.4.0",
      "model_name": "HBoxModel",
      "state": {
       "children": [
        "IPY_MODEL_451b194826404ef49096690ecec5402a",
        "IPY_MODEL_ca3335a782fb4afe845f52ad3d9883a2",
        "IPY_MODEL_c500fdf62d884de98692436a9888188a",
        "IPY_MODEL_cba4241f80a044aeab5a14e4a8ccea3b",
        "IPY_MODEL_7bd5499557d14a2391e0e9fdd4bcd860",
        "IPY_MODEL_591fc92177c04205b0267f312b1fb968",
        "IPY_MODEL_4edfa5a9957a402fb923ed905e4cfd48",
        "IPY_MODEL_ed198598c5334d2687d320334a326300",
        "IPY_MODEL_b086f0760b414cf4b6d1e55fcbb2efdf",
        "IPY_MODEL_5a335e3a4bcb40fbb30eea67e6aa709f",
        "IPY_MODEL_853ab3105fba4790af5c64af593d85ae",
        "IPY_MODEL_01525088674348bdbb6be72a3ea50e75",
        "IPY_MODEL_adf716cb925e4d5ba15c2bdd2c5c65c3",
        "IPY_MODEL_2b558672cb3744978e714a1cc5a3d569"
       ],
       "layout": "IPY_MODEL_f0690f8bad62489d97455723b3b1ae62"
      }
     },
     "8310eabe85cf4facb2df0b43268ef426": {
      "model_module": "@jupyter-widgets/base",
      "model_module_version": "1.1.0",
      "model_name": "LayoutModel",
      "state": {}
     },
     "831ec7b118a54cf8b46f6cb613a211ac": {
      "model_module": "@jupyter-widgets/controls",
      "model_module_version": "1.4.0",
      "model_name": "ButtonModel",
      "state": {
       "_dom_classes": [
        "gridbutton",
        "b1"
       ],
       "disabled": true,
       "layout": "IPY_MODEL_196c83a3b43a46dca975be63611b8c09",
       "style": "IPY_MODEL_a397f9d59cd7439f98b77d5393eac53b"
      }
     },
     "8339316f8e0147f89c899e9cb4f99157": {
      "model_module": "@jupyter-widgets/base",
      "model_module_version": "1.1.0",
      "model_name": "LayoutModel",
      "state": {}
     },
     "835650f475844aeeb2ce315fd19cf2b7": {
      "model_module": "@jupyter-widgets/base",
      "model_module_version": "1.1.0",
      "model_name": "LayoutModel",
      "state": {}
     },
     "8361dafc68e24eb694abdc5427f44c2d": {
      "model_module": "@jupyter-widgets/controls",
      "model_module_version": "1.4.0",
      "model_name": "DescriptionStyleModel",
      "state": {
       "description_width": ""
      }
     },
     "8366601de396419e902b940b39408a7b": {
      "model_module": "@jupyter-widgets/base",
      "model_module_version": "1.1.0",
      "model_name": "LayoutModel",
      "state": {}
     },
     "837833dea0ea4b399427002cc8a51f99": {
      "model_module": "@jupyter-widgets/controls",
      "model_module_version": "1.4.0",
      "model_name": "ToggleButtonModel",
      "state": {
       "_dom_classes": [
        "gridbutton",
        "addablebutton"
       ],
       "description": "+",
       "layout": "IPY_MODEL_24198035057f48ca81a6fa9a718c3f55",
       "style": "IPY_MODEL_a74ce76f38cf46d6a44e64d62deef21f",
       "tooltip": "Click to add a cell here"
      }
     },
     "838c112cec7348d18f8c1cfc771bff48": {
      "model_module": "@jupyter-widgets/controls",
      "model_module_version": "1.4.0",
      "model_name": "ButtonModel",
      "state": {
       "_dom_classes": [
        "gridbutton",
        "b2"
       ],
       "disabled": true,
       "layout": "IPY_MODEL_d861c29f26634ccfb59b53f634fc937d",
       "style": "IPY_MODEL_87892f2d46d14eb595288fb3b1a77118"
      }
     },
     "8393ae5988d34a7ea2d29485b5734884": {
      "model_module": "@jupyter-widgets/base",
      "model_module_version": "1.1.0",
      "model_name": "LayoutModel",
      "state": {}
     },
     "83d46eea046345269f93950b9493315c": {
      "model_module": "@jupyter-widgets/controls",
      "model_module_version": "1.4.0",
      "model_name": "HBoxModel",
      "state": {
       "children": [
        "IPY_MODEL_17b7e47a0a99402e9087f91de0d69f9a",
        "IPY_MODEL_fea158f4c99d455e85cd53f0efb5d21b",
        "IPY_MODEL_bb8fcf1c91f54d11906febd169b33ddd",
        "IPY_MODEL_a8f99748793846e38ee72097431df623",
        "IPY_MODEL_425226c62b474921ae99aeaacc5b602f"
       ],
       "layout": "IPY_MODEL_cd0042654881446093d20824eda89fe4"
      }
     },
     "840033d2807341b4b537d76a7aaadd82": {
      "model_module": "@jupyter-widgets/controls",
      "model_module_version": "1.4.0",
      "model_name": "ButtonStyleModel",
      "state": {}
     },
     "8428462359dc4eaf8fd8b534a95edba2": {
      "model_module": "@jupyter-widgets/controls",
      "model_module_version": "1.4.0",
      "model_name": "ButtonStyleModel",
      "state": {}
     },
     "843c6d8d2d53482e99e0d4e1a8c48e49": {
      "model_module": "@jupyter-widgets/controls",
      "model_module_version": "1.4.0",
      "model_name": "HBoxModel",
      "state": {
       "children": [
        "IPY_MODEL_f8c26f15765e4dcea52dd4ac0f3f1b98",
        "IPY_MODEL_b4b925155e0646da99eb52a3ce0ca333",
        "IPY_MODEL_999ec0c1417847a28d0c4f6154c30705",
        "IPY_MODEL_67ec2bdd08234f719c72806c70b313bb",
        "IPY_MODEL_938ec6aa77a14ff2a46c4fb02c787224"
       ],
       "layout": "IPY_MODEL_8659fba659984a4f97aa986598a10835"
      }
     },
     "84560146b25942f8a064f276273274bd": {
      "model_module": "@jupyter-widgets/base",
      "model_module_version": "1.1.0",
      "model_name": "LayoutModel",
      "state": {}
     },
     "84665975232b4daa874a473ff823ce3a": {
      "model_module": "@jupyter-widgets/base",
      "model_module_version": "1.1.0",
      "model_name": "LayoutModel",
      "state": {}
     },
     "846dc2b975c945d5956a3182376d10b8": {
      "model_module": "@jupyter-widgets/base",
      "model_module_version": "1.1.0",
      "model_name": "LayoutModel",
      "state": {}
     },
     "847259f9c2f04b34b45d9d1041357759": {
      "model_module": "@jupyter-widgets/base",
      "model_module_version": "1.1.0",
      "model_name": "LayoutModel",
      "state": {}
     },
     "8479a41f0b2f4c93a0dcccbe3480de3f": {
      "model_module": "@jupyter-widgets/base",
      "model_module_version": "1.1.0",
      "model_name": "LayoutModel",
      "state": {}
     },
     "847a90cc285c48b09cf590c7d4f3b3db": {
      "model_module": "@jupyter-widgets/controls",
      "model_module_version": "1.4.0",
      "model_name": "TextModel",
      "state": {
       "_dom_classes": [
        "blankcell"
       ],
       "disabled": true,
       "layout": "IPY_MODEL_581cef88be2741a9bde4fcb6422ff1b0",
       "style": "IPY_MODEL_fd1168f64d044cbe9986c4e169783915"
      }
     },
     "84e0a172f68a49c0b36a165085a281cf": {
      "model_module": "@jupyter-widgets/controls",
      "model_module_version": "1.4.0",
      "model_name": "ButtonModel",
      "state": {
       "_dom_classes": [
        "gridbutton",
        "b2"
       ],
       "disabled": true,
       "layout": "IPY_MODEL_d861c29f26634ccfb59b53f634fc937d",
       "style": "IPY_MODEL_26d51d7c3e4c4b138a38dd58a1bcefc6"
      }
     },
     "850c36b18a5246eca6477eae470732a8": {
      "model_module": "@jupyter-widgets/base",
      "model_module_version": "1.1.0",
      "model_name": "LayoutModel",
      "state": {}
     },
     "85399737d0f845e2b52839abc1b5705f": {
      "model_module": "@jupyter-widgets/controls",
      "model_module_version": "1.4.0",
      "model_name": "TextModel",
      "state": {
       "_dom_classes": [
        "blankcell"
       ],
       "disabled": true,
       "layout": "IPY_MODEL_196c83a3b43a46dca975be63611b8c09",
       "style": "IPY_MODEL_1c218400970543f89147d0e0f4e02b70"
      }
     },
     "853ab3105fba4790af5c64af593d85ae": {
      "model_module": "@jupyter-widgets/controls",
      "model_module_version": "1.4.0",
      "model_name": "ButtonModel",
      "state": {
       "_dom_classes": [
        "gridbutton",
        "b3"
       ],
       "disabled": true,
       "layout": "IPY_MODEL_d861c29f26634ccfb59b53f634fc937d",
       "style": "IPY_MODEL_c93b049967d4473c8475a8f815abbb9e"
      }
     },
     "853edd39ebad464b819235dcbdcaaca3": {
      "model_module": "@jupyter-widgets/base",
      "model_module_version": "1.1.0",
      "model_name": "LayoutModel",
      "state": {}
     },
     "856e05599b59491ebddd6c42d7759b95": {
      "model_module": "@jupyter-widgets/controls",
      "model_module_version": "1.4.0",
      "model_name": "ButtonModel",
      "state": {
       "_dom_classes": [
        "gridbutton",
        "b1"
       ],
       "disabled": true,
       "layout": "IPY_MODEL_581cef88be2741a9bde4fcb6422ff1b0",
       "style": "IPY_MODEL_23a3eaa26a6a47d4bbac5c87f6d20079"
      }
     },
     "8576b8b189ab4926acb8b26275735c1e": {
      "model_module": "@jupyter-widgets/controls",
      "model_module_version": "1.4.0",
      "model_name": "ToggleButtonModel",
      "state": {
       "_dom_classes": [
        "gridbutton"
       ],
       "description": "-",
       "layout": "IPY_MODEL_742ce9cb5c1a4d358dd3aef0fa324d55",
       "style": "IPY_MODEL_d482526925094073b95dffc46bf0832f",
       "tooltip": "2, 1"
      }
     },
     "857706ce79654442a7aed0a097cfeb77": {
      "model_module": "@jupyter-widgets/controls",
      "model_module_version": "1.4.0",
      "model_name": "ButtonModel",
      "state": {
       "_dom_classes": [
        "gridbutton",
        "b4"
       ],
       "disabled": true,
       "layout": "IPY_MODEL_d861c29f26634ccfb59b53f634fc937d",
       "style": "IPY_MODEL_2f78b6b4583a43ec91b52c44436751a9"
      }
     },
     "859d5eddd62e4b008c8d46829adfe6b1": {
      "model_module": "@jupyter-widgets/controls",
      "model_module_version": "1.4.0",
      "model_name": "ButtonStyleModel",
      "state": {}
     },
     "85bc764b575c4ef8955b9ea415e38040": {
      "model_module": "@jupyter-widgets/controls",
      "model_module_version": "1.4.0",
      "model_name": "ButtonStyleModel",
      "state": {}
     },
     "860e73a2dac74025beae5b8b924b4eb1": {
      "model_module": "@jupyter-widgets/base",
      "model_module_version": "1.1.0",
      "model_name": "LayoutModel",
      "state": {}
     },
     "86166c7baa294c76a412cbf7ba730132": {
      "model_module": "@jupyter-widgets/controls",
      "model_module_version": "1.4.0",
      "model_name": "ButtonModel",
      "state": {
       "_dom_classes": [
        "gridbutton",
        "b2"
       ],
       "disabled": true,
       "layout": "IPY_MODEL_d861c29f26634ccfb59b53f634fc937d",
       "style": "IPY_MODEL_a7968bec0c6c4b7bb58c2d1c14376ad3"
      }
     },
     "861dc2a31e5f4949a781531ac3b296fa": {
      "model_module": "@jupyter-widgets/base",
      "model_module_version": "1.1.0",
      "model_name": "LayoutModel",
      "state": {}
     },
     "861f53c89a7b463ca3d50165dc5cb1aa": {
      "model_module": "@jupyter-widgets/base",
      "model_module_version": "1.1.0",
      "model_name": "LayoutModel",
      "state": {}
     },
     "862644069fb14be284edd56f4b2bac5f": {
      "model_module": "@jupyter-widgets/base",
      "model_module_version": "1.1.0",
      "model_name": "LayoutModel",
      "state": {}
     },
     "8649be5d1339401da92e317970c52b26": {
      "model_module": "@jupyter-widgets/controls",
      "model_module_version": "1.4.0",
      "model_name": "ButtonModel",
      "state": {
       "_dom_classes": [
        "gridbutton",
        "b2"
       ],
       "disabled": true,
       "layout": "IPY_MODEL_196c83a3b43a46dca975be63611b8c09",
       "style": "IPY_MODEL_a46fd8631cf9438ab5210d7cf89016b7"
      }
     },
     "8659fba659984a4f97aa986598a10835": {
      "model_module": "@jupyter-widgets/base",
      "model_module_version": "1.1.0",
      "model_name": "LayoutModel",
      "state": {}
     },
     "8670df7ee3aa4874be580830e32c951c": {
      "model_module": "@jupyter-widgets/controls",
      "model_module_version": "1.4.0",
      "model_name": "TextModel",
      "state": {
       "_dom_classes": [
        "blankcell"
       ],
       "disabled": true,
       "layout": "IPY_MODEL_ae25d8ee9fe646ebb7fdd668d6ed6cab",
       "style": "IPY_MODEL_a0be4130f9514215997bc413364be6fb"
      }
     },
     "86889c8bba7a405da5bb18dc1c594c64": {
      "model_module": "@jupyter-widgets/controls",
      "model_module_version": "1.4.0",
      "model_name": "ButtonModel",
      "state": {
       "_dom_classes": [
        "gridbutton",
        "b1"
       ],
       "disabled": true,
       "layout": "IPY_MODEL_d861c29f26634ccfb59b53f634fc937d",
       "style": "IPY_MODEL_17a67d230deb424783beb0e298d887b6"
      }
     },
     "8690fb62e75a44309dd7d9e3666ac222": {
      "model_module": "@jupyter-widgets/controls",
      "model_module_version": "1.4.0",
      "model_name": "HBoxModel",
      "state": {
       "children": [
        "IPY_MODEL_353133922cc24a2bb5011e5f31c367a5",
        "IPY_MODEL_0ffcf33b438f48aab804666b61037bd6",
        "IPY_MODEL_5fdab0f6e50a42c78bdbb5ebd8694c23"
       ],
       "layout": "IPY_MODEL_fefa2a70bc214db085e08c8ab70aaab6"
      }
     },
     "8691589897254c9e8dffccc894b24d09": {
      "model_module": "@jupyter-widgets/base",
      "model_module_version": "1.1.0",
      "model_name": "LayoutModel",
      "state": {}
     },
     "86b0cec18ebe49bdb2e1840c99b5d4c3": {
      "model_module": "@jupyter-widgets/base",
      "model_module_version": "1.1.0",
      "model_name": "LayoutModel",
      "state": {}
     },
     "86bed733db9a45379c135c02e61bb554": {
      "model_module": "@jupyter-widgets/base",
      "model_module_version": "1.1.0",
      "model_name": "LayoutModel",
      "state": {}
     },
     "86db2842950d4fd49e6a30d11e805e2e": {
      "model_module": "@jupyter-widgets/controls",
      "model_module_version": "1.4.0",
      "model_name": "ButtonStyleModel",
      "state": {}
     },
     "86e68df334a14447aca60b86eb5cedd1": {
      "model_module": "@jupyter-widgets/base",
      "model_module_version": "1.1.0",
      "model_name": "LayoutModel",
      "state": {}
     },
     "86e6ce3c36894c6286ffb928c925468b": {
      "model_module": "@jupyter-widgets/controls",
      "model_module_version": "1.4.0",
      "model_name": "ToggleButtonModel",
      "state": {
       "_dom_classes": [
        "gridbutton",
        "addablebutton"
       ],
       "description": "+",
       "layout": "IPY_MODEL_24198035057f48ca81a6fa9a718c3f55",
       "style": "IPY_MODEL_2f7e300ec6d54d4fa834ba7fc9bc4091",
       "tooltip": "Click to add a cell here"
      }
     },
     "86ecc6a76b19496b85413cae4e41da75": {
      "model_module": "@jupyter-widgets/controls",
      "model_module_version": "1.4.0",
      "model_name": "ToggleButtonModel",
      "state": {
       "_dom_classes": [
        "gridbutton"
       ],
       "description": "-",
       "layout": "IPY_MODEL_ae25d8ee9fe646ebb7fdd668d6ed6cab",
       "style": "IPY_MODEL_67d1c8d96ed74516845a81bcd48fac2b",
       "tooltip": "0, 2"
      }
     },
     "870449da5c214057b92ff4c2fb0c7362": {
      "model_module": "@jupyter-widgets/controls",
      "model_module_version": "1.4.0",
      "model_name": "TextModel",
      "state": {
       "_dom_classes": [
        "blankcell"
       ],
       "disabled": true,
       "layout": "IPY_MODEL_d861c29f26634ccfb59b53f634fc937d",
       "style": "IPY_MODEL_385dbf5250f44b2dbcc3c76236966e62"
      }
     },
     "8708a83ee2e34a9fa0d9a58806a76ea2": {
      "model_module": "@jupyter-widgets/controls",
      "model_module_version": "1.4.0",
      "model_name": "ButtonModel",
      "state": {
       "_dom_classes": [
        "gridbutton",
        "b2"
       ],
       "disabled": true,
       "layout": "IPY_MODEL_581cef88be2741a9bde4fcb6422ff1b0",
       "style": "IPY_MODEL_c83ef24cce744788a71e451ffeda91a5"
      }
     },
     "872a7160f1024d8292610aa28d289604": {
      "model_module": "@jupyter-widgets/controls",
      "model_module_version": "1.4.0",
      "model_name": "ButtonModel",
      "state": {
       "_dom_classes": [
        "gridbutton",
        "b3"
       ],
       "disabled": true,
       "layout": "IPY_MODEL_d861c29f26634ccfb59b53f634fc937d",
       "style": "IPY_MODEL_aac0c5be933a488493fe329906f6af43"
      }
     },
     "873d5afc952641b69d801fc5dc8ab3f3": {
      "model_module": "@jupyter-widgets/controls",
      "model_module_version": "1.4.0",
      "model_name": "ButtonStyleModel",
      "state": {}
     },
     "87764e32525048d4a50710cefc1d5411": {
      "model_module": "@jupyter-widgets/controls",
      "model_module_version": "1.4.0",
      "model_name": "ButtonModel",
      "state": {
       "_dom_classes": [
        "gridbutton",
        "b1"
       ],
       "disabled": true,
       "layout": "IPY_MODEL_d861c29f26634ccfb59b53f634fc937d",
       "style": "IPY_MODEL_29023c51f68246b0b9847d24cfa77fde"
      }
     },
     "878289ad552a498e8a2317e9fb8b0825": {
      "model_module": "@jupyter-widgets/base",
      "model_module_version": "1.1.0",
      "model_name": "LayoutModel",
      "state": {}
     },
     "87892f2d46d14eb595288fb3b1a77118": {
      "model_module": "@jupyter-widgets/controls",
      "model_module_version": "1.4.0",
      "model_name": "ButtonStyleModel",
      "state": {}
     },
     "87a49a3f91f34fd68065dec663bf20df": {
      "model_module": "@jupyter-widgets/base",
      "model_module_version": "1.1.0",
      "model_name": "LayoutModel",
      "state": {}
     },
     "87b3b595f417478e955cfd8fdd2b5ebc": {
      "model_module": "@jupyter-widgets/controls",
      "model_module_version": "1.4.0",
      "model_name": "DescriptionStyleModel",
      "state": {
       "description_width": ""
      }
     },
     "87d5e919b50440d1958f80b8c310e3cc": {
      "model_module": "@jupyter-widgets/base",
      "model_module_version": "1.1.0",
      "model_name": "LayoutModel",
      "state": {}
     },
     "87f3d829f1ee49d995735287cc42f950": {
      "model_module": "@jupyter-widgets/controls",
      "model_module_version": "1.4.0",
      "model_name": "ButtonStyleModel",
      "state": {}
     },
     "880e6bbf759e44ef96df156dda70d1d4": {
      "model_module": "@jupyter-widgets/controls",
      "model_module_version": "1.4.0",
      "model_name": "ButtonStyleModel",
      "state": {}
     },
     "884f4f99acfe4a4595629951b97a35e1": {
      "model_module": "@jupyter-widgets/controls",
      "model_module_version": "1.4.0",
      "model_name": "ButtonStyleModel",
      "state": {}
     },
     "887897a983164372a3ab681249ef8390": {
      "model_module": "@jupyter-widgets/controls",
      "model_module_version": "1.4.0",
      "model_name": "TextModel",
      "state": {
       "_dom_classes": [
        "blankcell"
       ],
       "disabled": true,
       "layout": "IPY_MODEL_196c83a3b43a46dca975be63611b8c09",
       "style": "IPY_MODEL_3bd07797c31647f88a306646a5540c1d"
      }
     },
     "8880af97f81d42e4b60cdccb6a2fd0c4": {
      "model_module": "@jupyter-widgets/controls",
      "model_module_version": "1.4.0",
      "model_name": "TextModel",
      "state": {
       "_dom_classes": [
        "blankcell"
       ],
       "disabled": true,
       "layout": "IPY_MODEL_581cef88be2741a9bde4fcb6422ff1b0",
       "style": "IPY_MODEL_351c8947a3b04854831332b1ac9f20d6"
      }
     },
     "88e85a03d5f8484f8274683cc30ed86e": {
      "model_module": "@jupyter-widgets/base",
      "model_module_version": "1.1.0",
      "model_name": "LayoutModel",
      "state": {}
     },
     "88f8b6caf4f84cb59bb09bd3e7b3ffe3": {
      "model_module": "@jupyter-widgets/controls",
      "model_module_version": "1.4.0",
      "model_name": "DescriptionStyleModel",
      "state": {
       "description_width": ""
      }
     },
     "8913ee2d701b4874ac03cf67ca906321": {
      "model_module": "@jupyter-widgets/controls",
      "model_module_version": "1.4.0",
      "model_name": "ButtonStyleModel",
      "state": {}
     },
     "89209779088141f19bf7eae057d41cd5": {
      "model_module": "@jupyter-widgets/controls",
      "model_module_version": "1.4.0",
      "model_name": "ToggleButtonModel",
      "state": {
       "_dom_classes": [
        "gridbutton"
       ],
       "description": "-",
       "layout": "IPY_MODEL_ae25d8ee9fe646ebb7fdd668d6ed6cab",
       "style": "IPY_MODEL_1e537c4deda040be8b365125b3455db1",
       "tooltip": "0, 1"
      }
     },
     "892b554ba3724515951ac7463ffcd228": {
      "model_module": "@jupyter-widgets/controls",
      "model_module_version": "1.4.0",
      "model_name": "ButtonStyleModel",
      "state": {}
     },
     "892d3d881f8642c9b863ed4afd156315": {
      "model_module": "@jupyter-widgets/controls",
      "model_module_version": "1.4.0",
      "model_name": "ButtonModel",
      "state": {
       "_dom_classes": [
        "gridbutton",
        "b3"
       ],
       "disabled": true,
       "layout": "IPY_MODEL_581cef88be2741a9bde4fcb6422ff1b0",
       "style": "IPY_MODEL_e488ddfd7e7d4547a30a7e9f7ce7b23a"
      }
     },
     "89319455bd6b4b9f9c1821c6acc8390d": {
      "model_module": "@jupyter-widgets/base",
      "model_module_version": "1.1.0",
      "model_name": "LayoutModel",
      "state": {}
     },
     "893b1d66a7664070b157084820a9c3f0": {
      "model_module": "@jupyter-widgets/base",
      "model_module_version": "1.1.0",
      "model_name": "LayoutModel",
      "state": {}
     },
     "894b3597cea24a6d9400f0b97a17b7af": {
      "model_module": "@jupyter-widgets/base",
      "model_module_version": "1.1.0",
      "model_name": "LayoutModel",
      "state": {}
     },
     "89629a735a174a37afe207c329a1316a": {
      "model_module": "@jupyter-widgets/controls",
      "model_module_version": "1.4.0",
      "model_name": "ButtonModel",
      "state": {
       "_dom_classes": [
        "gridbutton",
        "b2"
       ],
       "disabled": true,
       "layout": "IPY_MODEL_d861c29f26634ccfb59b53f634fc937d",
       "style": "IPY_MODEL_0a3c4fe00d5b48f1a40ba5fba7a6d271"
      }
     },
     "8969408d0db646c69a2ec569abb1ea61": {
      "model_module": "@jupyter-widgets/base",
      "model_module_version": "1.1.0",
      "model_name": "LayoutModel",
      "state": {}
     },
     "8989fcbe99474a89a68af8d330918cde": {
      "model_module": "@jupyter-widgets/controls",
      "model_module_version": "1.4.0",
      "model_name": "HBoxModel",
      "state": {
       "children": [
        "IPY_MODEL_9e19527004254515b4b08a5fbfedeaff"
       ],
       "layout": "IPY_MODEL_4884ef43c8e642d8abe2d6dd15927c0b"
      }
     },
     "8992c11ec5064948a9a88b1db3d3bb79": {
      "model_module": "@jupyter-widgets/controls",
      "model_module_version": "1.4.0",
      "model_name": "ButtonStyleModel",
      "state": {}
     },
     "8997a803f1a149428e28491d3400ce36": {
      "model_module": "@jupyter-widgets/controls",
      "model_module_version": "1.4.0",
      "model_name": "TextModel",
      "state": {
       "_dom_classes": [
        "blankcell"
       ],
       "disabled": true,
       "layout": "IPY_MODEL_581cef88be2741a9bde4fcb6422ff1b0",
       "style": "IPY_MODEL_e74bacf46eba453492b418d5257d8aa0"
      }
     },
     "89b5552dafee43e79bddc9b248fa6b75": {
      "model_module": "@jupyter-widgets/output",
      "model_module_version": "1.0.0",
      "model_name": "OutputModel",
      "state": {
       "layout": "IPY_MODEL_1c8f67dfced247358a2741e9059f437c",
       "outputs": [
        {
         "data": {
          "text/plain": "┌───┬───┐\n│ 3 │ 1 │\n├───┼───┘\n│ 1 │\n└───┘"
         },
         "metadata": {},
         "output_type": "display_data"
        }
       ]
      }
     },
     "89bdb3b261dd41a48c16f1ee53672b20": {
      "model_module": "@jupyter-widgets/controls",
      "model_module_version": "1.4.0",
      "model_name": "HBoxModel",
      "state": {
       "children": [
        "IPY_MODEL_41fd0c7a32734b3a8a00036a4290dc73"
       ],
       "layout": "IPY_MODEL_489248ba3dc44a84a3ecf7fbae62515c"
      }
     },
     "89d7a86e8e224dc486a4740c7e4df643": {
      "model_module": "@jupyter-widgets/base",
      "model_module_version": "1.1.0",
      "model_name": "LayoutModel",
      "state": {}
     },
     "89e8716b3df4473db579cf52eadadf51": {
      "model_module": "@jupyter-widgets/controls",
      "model_module_version": "1.4.0",
      "model_name": "ButtonStyleModel",
      "state": {}
     },
     "8a06661632284b1fa6710a747a0fef52": {
      "model_module": "@jupyter-widgets/base",
      "model_module_version": "1.1.0",
      "model_name": "LayoutModel",
      "state": {}
     },
     "8a0f233d31934361967d6f0b171c22fb": {
      "model_module": "@jupyter-widgets/controls",
      "model_module_version": "1.4.0",
      "model_name": "ButtonModel",
      "state": {
       "_dom_classes": [
        "gridbutton",
        "b1"
       ],
       "disabled": true,
       "layout": "IPY_MODEL_196c83a3b43a46dca975be63611b8c09",
       "style": "IPY_MODEL_263b946b66d84b5794d2992ff92a4b74"
      }
     },
     "8a253a6fa9834f4faeaae701e8be017b": {
      "model_module": "@jupyter-widgets/base",
      "model_module_version": "1.1.0",
      "model_name": "LayoutModel",
      "state": {}
     },
     "8a523ee7a61a44ef83ab9b5668a3f0aa": {
      "model_module": "@jupyter-widgets/base",
      "model_module_version": "1.1.0",
      "model_name": "LayoutModel",
      "state": {}
     },
     "8a5a2a57b148438ba1b2f56b20ab73aa": {
      "model_module": "@jupyter-widgets/base",
      "model_module_version": "1.1.0",
      "model_name": "LayoutModel",
      "state": {}
     },
     "8a68be3468db42e397738dd6b93f11dc": {
      "model_module": "@jupyter-widgets/controls",
      "model_module_version": "1.4.0",
      "model_name": "ButtonModel",
      "state": {
       "_dom_classes": [
        "gridbutton",
        "b1"
       ],
       "disabled": true,
       "layout": "IPY_MODEL_d861c29f26634ccfb59b53f634fc937d",
       "style": "IPY_MODEL_6b8d71683a0148d885f7dde8b4c9bdbc"
      }
     },
     "8a6fdc0473b84989b93fde588afe2781": {
      "model_module": "@jupyter-widgets/controls",
      "model_module_version": "1.4.0",
      "model_name": "VBoxModel",
      "state": {
       "children": [
        "IPY_MODEL_8690fb62e75a44309dd7d9e3666ac222",
        "IPY_MODEL_26d31438aba4471c9d19292f13b933ba",
        "IPY_MODEL_a82e42ef2f674637b45a355a14d9f484"
       ],
       "layout": "IPY_MODEL_11ce078f4aa349469cfab69ebca7d466"
      }
     },
     "8aa2d3790a754d5ba7a854028457d13c": {
      "model_module": "@jupyter-widgets/controls",
      "model_module_version": "1.4.0",
      "model_name": "VBoxModel",
      "state": {
       "_dom_classes": [
        "widget-interact"
       ],
       "children": [
        "IPY_MODEL_a2058d405d594274823bfee24b2816fd",
        "IPY_MODEL_8a6fdc0473b84989b93fde588afe2781",
        "IPY_MODEL_c0f882542b524e0ebff8959913314ff9"
       ],
       "layout": "IPY_MODEL_4cec0d5f77274a53817292547adf7da2"
      }
     },
     "8ab4547b31694a8780df3b6c3a270dac": {
      "model_module": "@jupyter-widgets/controls",
      "model_module_version": "1.4.0",
      "model_name": "ButtonModel",
      "state": {
       "_dom_classes": [
        "gridbutton",
        "b4"
       ],
       "disabled": true,
       "layout": "IPY_MODEL_d861c29f26634ccfb59b53f634fc937d",
       "style": "IPY_MODEL_1a7604f59c494075969fb25c98a924d1"
      }
     },
     "8b054a4d07f04aa0a983b97c7b39ba16": {
      "model_module": "@jupyter-widgets/base",
      "model_module_version": "1.1.0",
      "model_name": "LayoutModel",
      "state": {}
     },
     "8b054e3c3328416c8a04607399ac04e4": {
      "model_module": "@jupyter-widgets/controls",
      "model_module_version": "1.4.0",
      "model_name": "ButtonModel",
      "state": {
       "_dom_classes": [
        "gridbutton",
        "b2"
       ],
       "disabled": true,
       "layout": "IPY_MODEL_d861c29f26634ccfb59b53f634fc937d",
       "style": "IPY_MODEL_90e237093c8843ecbe4e2180ace704d2"
      }
     },
     "8b3a965f92f44b86a4d9fd1579c75e15": {
      "model_module": "@jupyter-widgets/controls",
      "model_module_version": "1.4.0",
      "model_name": "HBoxModel",
      "state": {
       "children": [
        "IPY_MODEL_62e5105a8a3b4ef8bed682254d549720",
        "IPY_MODEL_dc1df888fd9d40eaae147f7739e6e755",
        "IPY_MODEL_9c71a57e14d241bf98ae5744604ce4ce",
        "IPY_MODEL_6ea433a29eae4f869cc6c9cc30a21b0d",
        "IPY_MODEL_dd9e5cb3c4834b799c4a44c829b90d15",
        "IPY_MODEL_20ebc22393cd4811996dd5d13a4347bb",
        "IPY_MODEL_b79f7aa459a0481ba536c60770f5f387",
        "IPY_MODEL_8ab4547b31694a8780df3b6c3a270dac",
        "IPY_MODEL_18c27c9ea19e43ff93774b75f4f20bd5",
        "IPY_MODEL_a6fc4bc9e3f04ba7b9de4a1ea0e8c001",
        "IPY_MODEL_b3855d16d34f41e99f69801d8c23a895",
        "IPY_MODEL_e6b4ead848f0437abce6871c51e33e67",
        "IPY_MODEL_5269251aed1b4ec3ae2b58eae14b1cd6",
        "IPY_MODEL_f563a75301744fbeab3b26d5a2f683e0",
        "IPY_MODEL_40fdb87366d449ec9881fa23684979a1"
       ],
       "layout": "IPY_MODEL_c5d402cdedc84cd19c247a31e4ce593a"
      }
     },
     "8b855f47ba784b4799d57dcfe451ddf0": {
      "model_module": "@jupyter-widgets/controls",
      "model_module_version": "1.4.0",
      "model_name": "TextModel",
      "state": {
       "_dom_classes": [
        "gridcell",
        "addablecell"
       ],
       "_view_module": "sage-combinat-widgets",
       "_view_module_version": "^0.2.0",
       "_view_name": "TextWithTooltipView",
       "continuous_update": false,
       "description_tooltip": "",
       "layout": "IPY_MODEL_766582b5db4b44c3b9eb63d9400a6c69",
       "style": "IPY_MODEL_33d9bfe6369a470c8a6c722ba0aac4c8"
      }
     },
     "8b8d72d612b04c5497f11a507ba70ef4": {
      "model_module": "@jupyter-widgets/base",
      "model_module_version": "1.1.0",
      "model_name": "LayoutModel",
      "state": {}
     },
     "8b9c6b690eb141898af13a366ffa8a33": {
      "model_module": "@jupyter-widgets/base",
      "model_module_version": "1.1.0",
      "model_name": "LayoutModel",
      "state": {}
     },
     "8bc5d5ec133c460aa63cd647f685d0e3": {
      "model_module": "@jupyter-widgets/controls",
      "model_module_version": "1.4.0",
      "model_name": "HBoxModel",
      "state": {
       "children": [
        "IPY_MODEL_67dbaf1ee69d483180dd400f0683285a",
        "IPY_MODEL_2d96d9725f0542348e61358bc97900bd",
        "IPY_MODEL_763b9895cd774aae9e33936ab57bde24",
        "IPY_MODEL_379119211fe84db7a3e0f347b63b44e0",
        "IPY_MODEL_77e6358dd6fc4806b4213d2da560695a",
        "IPY_MODEL_2db371b126a74304a3cbe779c37f6638",
        "IPY_MODEL_4d3f71eea0794d368289a22ef3c23838",
        "IPY_MODEL_ae42d7ed5eb342cf959d7e8e995abcf0",
        "IPY_MODEL_9be5ce9740bb46b7a95c87887cfdfe60",
        "IPY_MODEL_51827e0da81d4fbc94ca7a0979d1a7c8",
        "IPY_MODEL_1a574354cd314bafbb0dcb435a0d2a34",
        "IPY_MODEL_b25f1fb181424e30be0280c7c27e15af"
       ],
       "layout": "IPY_MODEL_6b7a62573f7c487aa28c943e6a620c73"
      }
     },
     "8c13d35916c3423a8026af61ae14802d": {
      "model_module": "@jupyter-widgets/base",
      "model_module_version": "1.1.0",
      "model_name": "LayoutModel",
      "state": {}
     },
     "8c20c8dffa3c4b769b11d68215576c76": {
      "model_module": "@jupyter-widgets/controls",
      "model_module_version": "1.4.0",
      "model_name": "DescriptionStyleModel",
      "state": {
       "description_width": ""
      }
     },
     "8c2efae378994ccd8b2dfc41fd5689be": {
      "model_module": "@jupyter-widgets/controls",
      "model_module_version": "1.4.0",
      "model_name": "TextModel",
      "state": {
       "_dom_classes": [
        "gridcell"
       ],
       "_view_module": "sage-combinat-widgets",
       "_view_module_version": "^0.2.0",
       "_view_name": "TextWithTooltipView",
       "continuous_update": false,
       "description_tooltip": "",
       "layout": "IPY_MODEL_742ce9cb5c1a4d358dd3aef0fa324d55",
       "style": "IPY_MODEL_eeb6de822ef1487a9ee8039db93856dd",
       "value": "1"
      }
     },
     "8c5843d937484abbbdee8607ed0d75ba": {
      "model_module": "@jupyter-widgets/controls",
      "model_module_version": "1.4.0",
      "model_name": "TextModel",
      "state": {
       "_dom_classes": [
        "gridcell",
        "addablecell"
       ],
       "_view_module": "sage-combinat-widgets",
       "_view_module_version": "^0.2.0",
       "_view_name": "TextWithTooltipView",
       "continuous_update": false,
       "description_tooltip": "",
       "layout": "IPY_MODEL_766582b5db4b44c3b9eb63d9400a6c69",
       "style": "IPY_MODEL_3180852e769b4481823a5e2ab66c3d31"
      }
     },
     "8c839c322eeb4f0298c395ad2483d2ce": {
      "model_module": "@jupyter-widgets/base",
      "model_module_version": "1.1.0",
      "model_name": "LayoutModel",
      "state": {}
     },
     "8c8b8ecf1996407a8fa6280a8c96c2c5": {
      "model_module": "@jupyter-widgets/controls",
      "model_module_version": "1.4.0",
      "model_name": "ButtonModel",
      "state": {
       "_dom_classes": [
        "gridbutton",
        "b4"
       ],
       "disabled": true,
       "layout": "IPY_MODEL_196c83a3b43a46dca975be63611b8c09",
       "style": "IPY_MODEL_c85f54b452f84c72adbc66529acadd35"
      }
     },
     "8caa47b153d341019e0f5bc729075131": {
      "model_module": "@jupyter-widgets/controls",
      "model_module_version": "1.4.0",
      "model_name": "TextModel",
      "state": {
       "_dom_classes": [
        "blankcell"
       ],
       "disabled": true,
       "layout": "IPY_MODEL_d861c29f26634ccfb59b53f634fc937d",
       "style": "IPY_MODEL_5e81c8a49160414ea85926ff513e06be"
      }
     },
     "8cce185aebb94b938e9b13004e503d7a": {
      "model_module": "@jupyter-widgets/base",
      "model_module_version": "1.1.0",
      "model_name": "LayoutModel",
      "state": {}
     },
     "8cd6dc300b8d4412893a60a4193ec825": {
      "model_module": "@jupyter-widgets/controls",
      "model_module_version": "1.4.0",
      "model_name": "HBoxModel",
      "state": {
       "children": [
        "IPY_MODEL_039e8543067b430b86759f7db55ac744",
        "IPY_MODEL_dbf67f2512434ef8bee9d870d77d7f28",
        "IPY_MODEL_5e3b81ae456141588d09fce22ebdda3d",
        "IPY_MODEL_dd25b8c29e664caa843fc0eca99dcf39",
        "IPY_MODEL_4c473667a9c8490db90f7dabaeafec5e",
        "IPY_MODEL_017af5e76c3340b0a5942da44179bbf3",
        "IPY_MODEL_51803ab10d1b4bfabaa75db7a2604236",
        "IPY_MODEL_7440729fe1b948f2850ea84bea938a9d",
        "IPY_MODEL_5446fdf3417a4337ad7a5a883bf28613",
        "IPY_MODEL_085ec083b5404395bca52f68cff1ef69",
        "IPY_MODEL_2eac928f045241a4ab3eddae147b97f6",
        "IPY_MODEL_050a8decda5b49e1b4095734bfc1d3c1",
        "IPY_MODEL_2df8aedffc574485aded652e1c9637f7",
        "IPY_MODEL_4c193bcfa9c34f9ea1f5f75229483f69"
       ],
       "layout": "IPY_MODEL_8fcac34f45f0470ebea7971071a3c4e8"
      }
     },
     "8ce158d5768e43118045824e52675b9c": {
      "model_module": "@jupyter-widgets/base",
      "model_module_version": "1.1.0",
      "model_name": "LayoutModel",
      "state": {}
     },
     "8cfe9e0c5f2a4516bd48c202bed4d3a2": {
      "model_module": "@jupyter-widgets/controls",
      "model_module_version": "1.4.0",
      "model_name": "ToggleButtonModel",
      "state": {
       "_dom_classes": [
        "gridbutton",
        "addablebutton"
       ],
       "description": "+",
       "layout": "IPY_MODEL_24198035057f48ca81a6fa9a718c3f55",
       "style": "IPY_MODEL_1547c02ce2ec4bc3b318ef4c35c544b5",
       "tooltip": "Click to add a cell here"
      }
     },
     "8d08b64601e5463fa26a7f1313afdfae": {
      "model_module": "@jupyter-widgets/controls",
      "model_module_version": "1.4.0",
      "model_name": "ButtonModel",
      "state": {
       "_dom_classes": [
        "gridbutton",
        "b3"
       ],
       "disabled": true,
       "layout": "IPY_MODEL_196c83a3b43a46dca975be63611b8c09",
       "style": "IPY_MODEL_b32deed4163f4aa3ac36fa2518f2b4d9"
      }
     },
     "8d20da9434f04c2582fd5dd6c1f151ef": {
      "model_module": "@jupyter-widgets/controls",
      "model_module_version": "1.4.0",
      "model_name": "ButtonModel",
      "state": {
       "_dom_classes": [
        "gridbutton",
        "b3"
       ],
       "disabled": true,
       "layout": "IPY_MODEL_581cef88be2741a9bde4fcb6422ff1b0",
       "style": "IPY_MODEL_d40fde55fee3498792a348309d366e7c"
      }
     },
     "8d2466ad25e94a01ba33fca7313f6464": {
      "model_module": "@jupyter-widgets/controls",
      "model_module_version": "1.4.0",
      "model_name": "DescriptionStyleModel",
      "state": {
       "description_width": ""
      }
     },
     "8d79592af34d48e48cc68541cd9b507b": {
      "model_module": "@jupyter-widgets/base",
      "model_module_version": "1.1.0",
      "model_name": "LayoutModel",
      "state": {
       "height": "3em",
       "margin": "0",
       "padding": "0",
       "width": "7em"
      }
     },
     "8d80e187e57f4cffb704124ad1499531": {
      "model_module": "@jupyter-widgets/controls",
      "model_module_version": "1.4.0",
      "model_name": "ButtonModel",
      "state": {
       "_dom_classes": [
        "gridbutton",
        "b4"
       ],
       "disabled": true,
       "layout": "IPY_MODEL_196c83a3b43a46dca975be63611b8c09",
       "style": "IPY_MODEL_402eb8fc6ed04c4fa0d972a1918cfa54"
      }
     },
     "8d95cfcc4a754471a64d8b74d80ae595": {
      "model_module": "@jupyter-widgets/controls",
      "model_module_version": "1.4.0",
      "model_name": "TextModel",
      "state": {
       "_dom_classes": [
        "blankcell"
       ],
       "disabled": true,
       "layout": "IPY_MODEL_d861c29f26634ccfb59b53f634fc937d",
       "style": "IPY_MODEL_d7c380725a64417d9f4b4073930fc2db"
      }
     },
     "8dba18f926494ebb80905133b5d553aa": {
      "model_module": "@jupyter-widgets/controls",
      "model_module_version": "1.4.0",
      "model_name": "ToggleButtonModel",
      "state": {
       "_dom_classes": [
        "gridbutton"
       ],
       "layout": "IPY_MODEL_24198035057f48ca81a6fa9a718c3f55",
       "style": "IPY_MODEL_80026bd1580c468cb38f1aa0f6db22d4",
       "tooltip": "0, 0"
      }
     },
     "8dea5cfd9da7489bb63fdcfe189e0500": {
      "model_module": "@jupyter-widgets/base",
      "model_module_version": "1.1.0",
      "model_name": "LayoutModel",
      "state": {}
     },
     "8df21cf9de264004aa17263ea4a8f1cd": {
      "model_module": "@jupyter-widgets/controls",
      "model_module_version": "1.4.0",
      "model_name": "ButtonModel",
      "state": {
       "_dom_classes": [
        "gridbutton",
        "b1"
       ],
       "disabled": true,
       "layout": "IPY_MODEL_d861c29f26634ccfb59b53f634fc937d",
       "style": "IPY_MODEL_0e388c9f89bd4caf98f7932331b57d79"
      }
     },
     "8e36cade4f9d447b9d79751c219f833d": {
      "model_module": "@jupyter-widgets/controls",
      "model_module_version": "1.4.0",
      "model_name": "ButtonStyleModel",
      "state": {}
     },
     "8e3b5da1190a45369e7044e131d597a8": {
      "model_module": "@jupyter-widgets/controls",
      "model_module_version": "1.4.0",
      "model_name": "DescriptionStyleModel",
      "state": {
       "description_width": ""
      }
     },
     "8e59f85004e44f20bed4db4c0840be27": {
      "model_module": "@jupyter-widgets/base",
      "model_module_version": "1.1.0",
      "model_name": "LayoutModel",
      "state": {}
     },
     "8e86db8f7185439b8e626a0612c34b45": {
      "model_module": "@jupyter-widgets/controls",
      "model_module_version": "1.4.0",
      "model_name": "DescriptionStyleModel",
      "state": {
       "description_width": ""
      }
     },
     "8e9234a48c1f4e9b811cd329cbd08f1a": {
      "model_module": "@jupyter-widgets/base",
      "model_module_version": "1.1.0",
      "model_name": "LayoutModel",
      "state": {}
     },
     "8e962c9eeec646bcb36ad122ba6574ab": {
      "model_module": "@jupyter-widgets/controls",
      "model_module_version": "1.4.0",
      "model_name": "DescriptionStyleModel",
      "state": {
       "description_width": ""
      }
     },
     "8ea26f561eec4ccd85abbfd2736ae61a": {
      "model_module": "@jupyter-widgets/controls",
      "model_module_version": "1.4.0",
      "model_name": "ButtonStyleModel",
      "state": {}
     },
     "8ee07982e1dd4b348e64ad3090c8b2c0": {
      "model_module": "@jupyter-widgets/controls",
      "model_module_version": "1.4.0",
      "model_name": "TextModel",
      "state": {
       "_dom_classes": [
        "blankcell"
       ],
       "disabled": true,
       "layout": "IPY_MODEL_196c83a3b43a46dca975be63611b8c09",
       "style": "IPY_MODEL_e0d99fba4b774d6cb3c9e67baa628fb4"
      }
     },
     "8ee09776eb534c4a856402b88eaa6878": {
      "model_module": "@jupyter-widgets/base",
      "model_module_version": "1.1.0",
      "model_name": "LayoutModel",
      "state": {}
     },
     "8ee1c07ffa514b8c933f03587f5ae529": {
      "model_module": "@jupyter-widgets/controls",
      "model_module_version": "1.4.0",
      "model_name": "TextModel",
      "state": {
       "_dom_classes": [
        "gridcell"
       ],
       "_view_module": "sage-combinat-widgets",
       "_view_module_version": "^0.2.0",
       "_view_name": "TextWithTooltipView",
       "continuous_update": false,
       "description_tooltip": "",
       "layout": "IPY_MODEL_766582b5db4b44c3b9eb63d9400a6c69",
       "style": "IPY_MODEL_0d47c484701e4db9861ed75e590a88bf",
       "value": "3"
      }
     },
     "8ee8ac2d6f0640e185c31f4d9d1c7923": {
      "model_module": "@jupyter-widgets/controls",
      "model_module_version": "1.4.0",
      "model_name": "TextModel",
      "state": {
       "_dom_classes": [
        "gridcell"
       ],
       "_view_module": "sage-combinat-widgets",
       "_view_module_version": "^0.2.0",
       "_view_name": "TextWithTooltipView",
       "continuous_update": false,
       "description_tooltip": "",
       "layout": "IPY_MODEL_766582b5db4b44c3b9eb63d9400a6c69",
       "style": "IPY_MODEL_e8982d1dfb2544479de25c0ed7b68e51",
       "value": "9"
      }
     },
     "8f0faa3a2cd34f59a522982ef785a5ec": {
      "model_module": "@jupyter-widgets/base",
      "model_module_version": "1.1.0",
      "model_name": "LayoutModel",
      "state": {}
     },
     "8f46fab1e1c14fbd9adcb5d275d30cd8": {
      "model_module": "@jupyter-widgets/controls",
      "model_module_version": "1.4.0",
      "model_name": "ToggleButtonModel",
      "state": {
       "_dom_classes": [
        "gridbutton",
        "addablebutton"
       ],
       "description": "+",
       "layout": "IPY_MODEL_742ce9cb5c1a4d358dd3aef0fa324d55",
       "style": "IPY_MODEL_6e548950c1f44a58af18c1ab0b9221c8",
       "tooltip": "Click to add a cell here"
      }
     },
     "8f61e6aed24c4037b7135ca5e80c0180": {
      "model_module": "@jupyter-widgets/base",
      "model_module_version": "1.1.0",
      "model_name": "LayoutModel",
      "state": {}
     },
     "8f649aee35bf42cdb5adec50bcbf35ff": {
      "model_module": "@jupyter-widgets/controls",
      "model_module_version": "1.4.0",
      "model_name": "DescriptionStyleModel",
      "state": {
       "description_width": ""
      }
     },
     "8f71ebe779e64412a8562cb4343f4050": {
      "model_module": "@jupyter-widgets/base",
      "model_module_version": "1.1.0",
      "model_name": "LayoutModel",
      "state": {}
     },
     "8f93315c31a542e5837e1a9e7d36cc5f": {
      "model_module": "@jupyter-widgets/controls",
      "model_module_version": "1.4.0",
      "model_name": "TextModel",
      "state": {
       "_dom_classes": [
        "gridcell"
       ],
       "_view_module": "sage-combinat-widgets",
       "_view_module_version": "^0.2.0",
       "_view_name": "TextWithTooltipView",
       "continuous_update": false,
       "description_tooltip": "",
       "layout": "IPY_MODEL_24198035057f48ca81a6fa9a718c3f55",
       "style": "IPY_MODEL_b4acc46232a04e679a3e984a4cd11cd4",
       "value": "4"
      }
     },
     "8f93f1897d8c4950b5697e26a714d09e": {
      "model_module": "@jupyter-widgets/controls",
      "model_module_version": "1.4.0",
      "model_name": "ButtonModel",
      "state": {
       "_dom_classes": [
        "gridbutton",
        "b3"
       ],
       "disabled": true,
       "layout": "IPY_MODEL_581cef88be2741a9bde4fcb6422ff1b0",
       "style": "IPY_MODEL_0abb682120a84cb28aefcde2985573c2"
      }
     },
     "8f9d729dcd95496d934509a240f1266a": {
      "model_module": "@jupyter-widgets/base",
      "model_module_version": "1.1.0",
      "model_name": "LayoutModel",
      "state": {}
     },
     "8fb04dc6a45542a1afff3df0cb6ed8c1": {
      "model_module": "@jupyter-widgets/controls",
      "model_module_version": "1.4.0",
      "model_name": "ButtonModel",
      "state": {
       "_dom_classes": [
        "gridbutton",
        "b3"
       ],
       "disabled": true,
       "layout": "IPY_MODEL_196c83a3b43a46dca975be63611b8c09",
       "style": "IPY_MODEL_8428462359dc4eaf8fd8b534a95edba2"
      }
     },
     "8fbbbe28e98c486d802189ba27ba8dba": {
      "model_module": "@jupyter-widgets/controls",
      "model_module_version": "1.4.0",
      "model_name": "TextModel",
      "state": {
       "_dom_classes": [
        "blankcell"
       ],
       "disabled": true,
       "layout": "IPY_MODEL_196c83a3b43a46dca975be63611b8c09",
       "style": "IPY_MODEL_b92cd8b2c0614078997bc7e2993777cf"
      }
     },
     "8fbfa3b252034dde8c0f7c2eef94f784": {
      "model_module": "@jupyter-widgets/controls",
      "model_module_version": "1.4.0",
      "model_name": "ButtonStyleModel",
      "state": {}
     },
     "8fcaad870c5f4658b45bcbf5f8372221": {
      "model_module": "@jupyter-widgets/controls",
      "model_module_version": "1.4.0",
      "model_name": "ButtonModel",
      "state": {
       "_dom_classes": [
        "gridbutton",
        "b4"
       ],
       "disabled": true,
       "layout": "IPY_MODEL_196c83a3b43a46dca975be63611b8c09",
       "style": "IPY_MODEL_3625da201d464634aeb5a1c75a3fc538"
      }
     },
     "8fcac34f45f0470ebea7971071a3c4e8": {
      "model_module": "@jupyter-widgets/base",
      "model_module_version": "1.1.0",
      "model_name": "LayoutModel",
      "state": {}
     },
     "8fd2fbe296f5422a968009f03ea26177": {
      "model_module": "@jupyter-widgets/base",
      "model_module_version": "1.1.0",
      "model_name": "LayoutModel",
      "state": {}
     },
     "8fd7513f605845e28ae418a492bf4ebd": {
      "model_module": "@jupyter-widgets/controls",
      "model_module_version": "1.4.0",
      "model_name": "DescriptionStyleModel",
      "state": {
       "description_width": ""
      }
     },
     "8fe1d8e22a27482c9174449e6922baf7": {
      "model_module": "@jupyter-widgets/base",
      "model_module_version": "1.1.0",
      "model_name": "LayoutModel",
      "state": {}
     },
     "9077affbca9d40299e69caa017a906ad": {
      "model_module": "@jupyter-widgets/base",
      "model_module_version": "1.1.0",
      "model_name": "LayoutModel",
      "state": {}
     },
     "9080dcf5eafc475c96ad1a2b40c571ac": {
      "model_module": "@jupyter-widgets/base",
      "model_module_version": "1.1.0",
      "model_name": "LayoutModel",
      "state": {}
     },
     "90842b78e6ee4ea7a71eb7e8e9fc33b6": {
      "model_module": "@jupyter-widgets/base",
      "model_module_version": "1.1.0",
      "model_name": "LayoutModel",
      "state": {}
     },
     "90b557bc4efb4fa68b70bc98e755e084": {
      "model_module": "@jupyter-widgets/controls",
      "model_module_version": "1.4.0",
      "model_name": "ButtonModel",
      "state": {
       "_dom_classes": [
        "gridbutton",
        "b1"
       ],
       "disabled": true,
       "layout": "IPY_MODEL_581cef88be2741a9bde4fcb6422ff1b0",
       "style": "IPY_MODEL_617a86fcd49844229cbd8061209d593b"
      }
     },
     "90b6c1357ccb43e383b9f4406a538258": {
      "model_module": "@jupyter-widgets/controls",
      "model_module_version": "1.4.0",
      "model_name": "ButtonStyleModel",
      "state": {}
     },
     "90d5ee3a7438487fbadc5d9a6ddb8d8f": {
      "model_module": "@jupyter-widgets/controls",
      "model_module_version": "1.4.0",
      "model_name": "ButtonStyleModel",
      "state": {}
     },
     "90d8c96a91fd4b7c8c524c69870162ce": {
      "model_module": "@jupyter-widgets/base",
      "model_module_version": "1.1.0",
      "model_name": "LayoutModel",
      "state": {}
     },
     "90d97bde468546349ae5732ec7d158a4": {
      "model_module": "@jupyter-widgets/controls",
      "model_module_version": "1.4.0",
      "model_name": "DescriptionStyleModel",
      "state": {
       "description_width": ""
      }
     },
     "90e237093c8843ecbe4e2180ace704d2": {
      "model_module": "@jupyter-widgets/controls",
      "model_module_version": "1.4.0",
      "model_name": "ButtonStyleModel",
      "state": {}
     },
     "90f4efd0ee484597b9944a8ee85ee9a3": {
      "model_module": "@jupyter-widgets/controls",
      "model_module_version": "1.4.0",
      "model_name": "DescriptionStyleModel",
      "state": {
       "description_width": ""
      }
     },
     "910efceaf61b4b169d1374dec915f8d5": {
      "model_module": "@jupyter-widgets/controls",
      "model_module_version": "1.4.0",
      "model_name": "ButtonStyleModel",
      "state": {}
     },
     "912a3131bf5e48e8a129920732f9cd06": {
      "model_module": "@jupyter-widgets/base",
      "model_module_version": "1.1.0",
      "model_name": "LayoutModel",
      "state": {}
     },
     "913bf005e19f4b66bdde6225fee71e20": {
      "model_module": "@jupyter-widgets/controls",
      "model_module_version": "1.4.0",
      "model_name": "ButtonStyleModel",
      "state": {}
     },
     "913da1826196444d83b60438ffe0a7c5": {
      "model_module": "@jupyter-widgets/base",
      "model_module_version": "1.1.0",
      "model_name": "LayoutModel",
      "state": {}
     },
     "9141eda35383439dadc6957eea0a19c5": {
      "model_module": "@jupyter-widgets/controls",
      "model_module_version": "1.4.0",
      "model_name": "ButtonModel",
      "state": {
       "_dom_classes": [
        "gridbutton",
        "b3"
       ],
       "disabled": true,
       "layout": "IPY_MODEL_581cef88be2741a9bde4fcb6422ff1b0",
       "style": "IPY_MODEL_6415caa02fed4f8caa85a89ad6961e7a"
      }
     },
     "914a99b610dd4274aabd0d2d4163201a": {
      "model_module": "@jupyter-widgets/controls",
      "model_module_version": "1.4.0",
      "model_name": "DescriptionStyleModel",
      "state": {
       "description_width": ""
      }
     },
     "915ac6866e494a639bef6a8f65a37705": {
      "model_module": "@jupyter-widgets/controls",
      "model_module_version": "1.4.0",
      "model_name": "ButtonStyleModel",
      "state": {}
     },
     "918903c43dc44f57b4f41909219704f0": {
      "model_module": "@jupyter-widgets/controls",
      "model_module_version": "1.4.0",
      "model_name": "DescriptionStyleModel",
      "state": {
       "description_width": ""
      }
     },
     "91d11b4548c14847b851f04f2e2c8f29": {
      "model_module": "@jupyter-widgets/base",
      "model_module_version": "1.1.0",
      "model_name": "LayoutModel",
      "state": {}
     },
     "91df0cae53894e8bad026208efa109ef": {
      "model_module": "@jupyter-widgets/controls",
      "model_module_version": "1.4.0",
      "model_name": "TextModel",
      "state": {
       "_dom_classes": [
        "blankcell"
       ],
       "disabled": true,
       "layout": "IPY_MODEL_196c83a3b43a46dca975be63611b8c09",
       "style": "IPY_MODEL_806b2fd4347447259743835d696fbf31"
      }
     },
     "91edb35f252c46aab25ddce7c4fa7cf6": {
      "model_module": "@jupyter-widgets/base",
      "model_module_version": "1.1.0",
      "model_name": "LayoutModel",
      "state": {}
     },
     "920fe230d5e243bdb74db8402c11a7fb": {
      "model_module": "@jupyter-widgets/base",
      "model_module_version": "1.1.0",
      "model_name": "LayoutModel",
      "state": {}
     },
     "921987c4e198455680856b922e0dbf8d": {
      "model_module": "@jupyter-widgets/controls",
      "model_module_version": "1.4.0",
      "model_name": "ButtonStyleModel",
      "state": {}
     },
     "922f411967f649388df21629ba46ceb6": {
      "model_module": "@jupyter-widgets/controls",
      "model_module_version": "1.4.0",
      "model_name": "ButtonStyleModel",
      "state": {}
     },
     "9242ff71dc4c4197819220ce81e69b09": {
      "model_module": "@jupyter-widgets/controls",
      "model_module_version": "1.4.0",
      "model_name": "TextModel",
      "state": {
       "_dom_classes": [
        "blankcell"
       ],
       "disabled": true,
       "layout": "IPY_MODEL_581cef88be2741a9bde4fcb6422ff1b0",
       "style": "IPY_MODEL_718290d07ea7460ea1b6c6bf2cc26e18"
      }
     },
     "92625a90b653485ea67e057af5603326": {
      "model_module": "@jupyter-widgets/base",
      "model_module_version": "1.1.0",
      "model_name": "LayoutModel",
      "state": {}
     },
     "929a1cf78e36431cac790dcd428897a6": {
      "model_module": "@jupyter-widgets/controls",
      "model_module_version": "1.4.0",
      "model_name": "TextModel",
      "state": {
       "_dom_classes": [
        "gridcell"
       ],
       "_view_module": "sage-combinat-widgets",
       "_view_module_version": "^0.2.0",
       "_view_name": "TextWithTooltipView",
       "continuous_update": false,
       "description_tooltip": "",
       "layout": "IPY_MODEL_766582b5db4b44c3b9eb63d9400a6c69",
       "style": "IPY_MODEL_f1ad8835839e43fb921b665305aa6d51",
       "value": "5"
      }
     },
     "92b1a2ac2cba4ddbb1574e1bf5f47028": {
      "model_module": "@jupyter-widgets/controls",
      "model_module_version": "1.4.0",
      "model_name": "TextModel",
      "state": {
       "_dom_classes": [
        "gridcell"
       ],
       "_view_module": "sage-combinat-widgets",
       "_view_module_version": "^0.2.0",
       "_view_name": "TextWithTooltipView",
       "continuous_update": false,
       "description_tooltip": "",
       "layout": "IPY_MODEL_24198035057f48ca81a6fa9a718c3f55",
       "style": "IPY_MODEL_d7bc2ac8cbbb4723867b890b089b4946",
       "value": "6"
      }
     },
     "92d915f4a58d4a38af5c05ea4aca0951": {
      "model_module": "@jupyter-widgets/controls",
      "model_module_version": "1.4.0",
      "model_name": "ButtonStyleModel",
      "state": {}
     },
     "935f0cd80f8a4f1da3e79d48247d022f": {
      "model_module": "@jupyter-widgets/controls",
      "model_module_version": "1.4.0",
      "model_name": "DescriptionStyleModel",
      "state": {
       "description_width": ""
      }
     },
     "9389b5b7e520487d9b59dcc42aafebfd": {
      "model_module": "@jupyter-widgets/controls",
      "model_module_version": "1.4.0",
      "model_name": "DescriptionStyleModel",
      "state": {
       "description_width": ""
      }
     },
     "938ec6aa77a14ff2a46c4fb02c787224": {
      "model_module": "@jupyter-widgets/controls",
      "model_module_version": "1.4.0",
      "model_name": "ToggleButtonModel",
      "state": {
       "_dom_classes": [
        "gridbutton",
        "addablebutton"
       ],
       "description": "+",
       "layout": "IPY_MODEL_24198035057f48ca81a6fa9a718c3f55",
       "style": "IPY_MODEL_93c5c7e2a47a46bf83a9fc6b222e6700",
       "tooltip": "Click to add a cell here"
      }
     },
     "93afb859fe864ae3a81afb9f7bb82ea4": {
      "model_module": "@jupyter-widgets/controls",
      "model_module_version": "1.4.0",
      "model_name": "ToggleButtonModel",
      "state": {
       "_dom_classes": [
        "gridbutton"
       ],
       "description": "-",
       "layout": "IPY_MODEL_24198035057f48ca81a6fa9a718c3f55",
       "style": "IPY_MODEL_0d19b10b5aa1453e85a389837997f438",
       "tooltip": "1, 0"
      }
     },
     "93b33b4860a34005a79bc4fbad06811f": {
      "model_module": "@jupyter-widgets/controls",
      "model_module_version": "1.4.0",
      "model_name": "ButtonModel",
      "state": {
       "_dom_classes": [
        "gridbutton",
        "b2"
       ],
       "disabled": true,
       "layout": "IPY_MODEL_d861c29f26634ccfb59b53f634fc937d",
       "style": "IPY_MODEL_c33eb5e61e624fddaad15bfc1aff6665"
      }
     },
     "93c5c7e2a47a46bf83a9fc6b222e6700": {
      "model_module": "@jupyter-widgets/controls",
      "model_module_version": "1.4.0",
      "model_name": "DescriptionStyleModel",
      "state": {
       "description_width": ""
      }
     },
     "93fa079b36c1417ba4f0ddd450db0a63": {
      "model_module": "@jupyter-widgets/controls",
      "model_module_version": "1.4.0",
      "model_name": "ButtonModel",
      "state": {
       "_dom_classes": [
        "gridbutton",
        "b2"
       ],
       "disabled": true,
       "layout": "IPY_MODEL_581cef88be2741a9bde4fcb6422ff1b0",
       "style": "IPY_MODEL_9f6a4c826bd045b186d1f3ad9ecd3607"
      }
     },
     "9425b61835c140f9bdb99912d313c695": {
      "model_module": "@jupyter-widgets/controls",
      "model_module_version": "1.4.0",
      "model_name": "TextModel",
      "state": {
       "_dom_classes": [
        "blankcell"
       ],
       "disabled": true,
       "layout": "IPY_MODEL_581cef88be2741a9bde4fcb6422ff1b0",
       "style": "IPY_MODEL_f034d75e520547b5a104a16abf5b7f00"
      }
     },
     "942e4838696344d1822d866551cf446d": {
      "model_module": "@jupyter-widgets/controls",
      "model_module_version": "1.4.0",
      "model_name": "HBoxModel",
      "state": {
       "children": [
        "IPY_MODEL_9ab858b8a4ec4a779e2a52c302568994",
        "IPY_MODEL_b1712c4b3d16452289b9acedaf008109",
        "IPY_MODEL_24562a395d134bf7b1b317fdcbddeddd",
        "IPY_MODEL_3465d10abc2245a79d5697a087f1a21e"
       ],
       "layout": "IPY_MODEL_65bb3b611ba34dada35c22032e6e4567"
      }
     },
     "944dc10fe76247899ebed3c74cf45f42": {
      "model_module": "@jupyter-widgets/controls",
      "model_module_version": "1.4.0",
      "model_name": "HBoxModel",
      "state": {
       "children": [
        "IPY_MODEL_ecbc413b670644a89b64d85caf6dc1b2",
        "IPY_MODEL_215e7f76012b4a97961d01be675e04c1",
        "IPY_MODEL_887897a983164372a3ab681249ef8390",
        "IPY_MODEL_13a8f383789e4466861936029880406f",
        "IPY_MODEL_bba02083ce72440a9178ff92e832a6ed",
        "IPY_MODEL_ea5917d1cb394df5adf99c0dbe44803f",
        "IPY_MODEL_18fed009179e47f3b461dbbffb2d4e1b",
        "IPY_MODEL_559e3e8eff5b45d4997d82b31ec6d9ad",
        "IPY_MODEL_45f36f01f1e54df7a155f607c24408d3",
        "IPY_MODEL_f822e39add3f44f4a1d11f7c61d4c2a8",
        "IPY_MODEL_1603aef09a924fafaa87e426505ec813",
        "IPY_MODEL_e7af260e881545deb3e6b92482c91f46",
        "IPY_MODEL_12d6f9a8356e4a3baa81177111e36501"
       ],
       "layout": "IPY_MODEL_e1623e1d302c4640b2451c39d1d2cf25"
      }
     },
     "94631a223e3c49f19c22f1d6b75c3396": {
      "model_module": "@jupyter-widgets/controls",
      "model_module_version": "1.4.0",
      "model_name": "DescriptionStyleModel",
      "state": {
       "description_width": ""
      }
     },
     "94667156e52449f2b69c3bced2d96a99": {
      "model_module": "@jupyter-widgets/base",
      "model_module_version": "1.1.0",
      "model_name": "LayoutModel",
      "state": {}
     },
     "9469db74f23244bea588d2c4f5c80f2e": {
      "model_module": "@jupyter-widgets/controls",
      "model_module_version": "1.4.0",
      "model_name": "DescriptionStyleModel",
      "state": {
       "description_width": ""
      }
     },
     "947ac2a0b8a44266acf54873717a8b0b": {
      "model_module": "@jupyter-widgets/controls",
      "model_module_version": "1.4.0",
      "model_name": "HBoxModel",
      "state": {
       "children": [
        "IPY_MODEL_86889c8bba7a405da5bb18dc1c594c64",
        "IPY_MODEL_2f24277766a0462891133824d128f34b",
        "IPY_MODEL_e205d680797e4099969b7ac3010bbdda",
        "IPY_MODEL_c65e93a707454fa5a1cd9a4f224b034c",
        "IPY_MODEL_7642dc84858a4fa19ec3ed426877dc70",
        "IPY_MODEL_f4a5cc75b91548ad9e2b56a6f176147a",
        "IPY_MODEL_7df04b9221d141179478c848e14435dd",
        "IPY_MODEL_39347766de3040b795a4b5514ef4b16d",
        "IPY_MODEL_8a68be3468db42e397738dd6b93f11dc",
        "IPY_MODEL_c095415d47774f1cb85fb66e544c8603",
        "IPY_MODEL_87764e32525048d4a50710cefc1d5411",
        "IPY_MODEL_75d2a43c988946d098ae1085876fb053",
        "IPY_MODEL_ce34ce9b3020432d9167f5b587388302",
        "IPY_MODEL_86166c7baa294c76a412cbf7ba730132",
        "IPY_MODEL_07c48a76ff994cb08c3bbf6e950bb4f5",
        "IPY_MODEL_c76bc347620142b7bb9bf52322ca4c8b"
       ],
       "layout": "IPY_MODEL_0533738f376743648d105cd0aec67719"
      }
     },
     "94821a2f2d0747e69cb423d9556270ae": {
      "model_module": "@jupyter-widgets/controls",
      "model_module_version": "1.4.0",
      "model_name": "TextModel",
      "state": {
       "_dom_classes": [
        "blankcell"
       ],
       "disabled": true,
       "layout": "IPY_MODEL_581cef88be2741a9bde4fcb6422ff1b0",
       "style": "IPY_MODEL_171fe9b4d70e49289b5f323433ae47e7"
      }
     },
     "94874d3b6fc84e43a3a3b50513a4b0c5": {
      "model_module": "@jupyter-widgets/controls",
      "model_module_version": "1.4.0",
      "model_name": "DescriptionStyleModel",
      "state": {
       "description_width": ""
      }
     },
     "94b8fef84f354582b698b547e0db4abf": {
      "model_module": "@jupyter-widgets/controls",
      "model_module_version": "1.4.0",
      "model_name": "ButtonModel",
      "state": {
       "_dom_classes": [
        "gridbutton",
        "b4"
       ],
       "disabled": true,
       "layout": "IPY_MODEL_581cef88be2741a9bde4fcb6422ff1b0",
       "style": "IPY_MODEL_c36d191c0e15452ab5f00eb223c0ffff"
      }
     },
     "94f3822abcf747f5beab4f2a13f5cc76": {
      "model_module": "@jupyter-widgets/controls",
      "model_module_version": "1.4.0",
      "model_name": "ToggleButtonModel",
      "state": {
       "_dom_classes": [
        "gridbutton"
       ],
       "layout": "IPY_MODEL_24198035057f48ca81a6fa9a718c3f55",
       "style": "IPY_MODEL_16f0c80fc7de4a7c8ed06028d94cb3a7",
       "tooltip": "0, 0"
      }
     },
     "94f38832c9dc4fea9dc2026d93c8f77d": {
      "model_module": "@jupyter-widgets/controls",
      "model_module_version": "1.4.0",
      "model_name": "DescriptionStyleModel",
      "state": {
       "description_width": ""
      }
     },
     "94fa79620c2648c590674f914710a13e": {
      "model_module": "@jupyter-widgets/controls",
      "model_module_version": "1.4.0",
      "model_name": "ButtonModel",
      "state": {
       "_dom_classes": [
        "gridbutton",
        "b4"
       ],
       "disabled": true,
       "layout": "IPY_MODEL_581cef88be2741a9bde4fcb6422ff1b0",
       "style": "IPY_MODEL_9fa22ff8f1324f9e90c4f51d9693021d"
      }
     },
     "9511dc7426534fd2b67cf874196d563d": {
      "model_module": "@jupyter-widgets/controls",
      "model_module_version": "1.4.0",
      "model_name": "ButtonStyleModel",
      "state": {}
     },
     "952315253f994fdead9e26d16353f43d": {
      "model_module": "@jupyter-widgets/controls",
      "model_module_version": "1.4.0",
      "model_name": "DescriptionStyleModel",
      "state": {
       "description_width": ""
      }
     },
     "95302a8f7f754f24ada715eae60a1887": {
      "model_module": "@jupyter-widgets/base",
      "model_module_version": "1.1.0",
      "model_name": "LayoutModel",
      "state": {}
     },
     "95315a922e8243fca535db249abdef83": {
      "model_module": "@jupyter-widgets/controls",
      "model_module_version": "1.4.0",
      "model_name": "ButtonModel",
      "state": {
       "_dom_classes": [
        "gridbutton",
        "b2"
       ],
       "disabled": true,
       "layout": "IPY_MODEL_196c83a3b43a46dca975be63611b8c09",
       "style": "IPY_MODEL_c78b3bd807464649b168f552cacecaa0"
      }
     },
     "956a5ef2b69740fc90d0dd80489f80bb": {
      "model_module": "@jupyter-widgets/controls",
      "model_module_version": "1.4.0",
      "model_name": "TextModel",
      "state": {
       "_dom_classes": [
        "blankcell"
       ],
       "disabled": true,
       "layout": "IPY_MODEL_d861c29f26634ccfb59b53f634fc937d",
       "style": "IPY_MODEL_935f0cd80f8a4f1da3e79d48247d022f"
      }
     },
     "9574dc5f30364fd1a0adbe54265607b9": {
      "model_module": "@jupyter-widgets/controls",
      "model_module_version": "1.4.0",
      "model_name": "DescriptionStyleModel",
      "state": {
       "description_width": ""
      }
     },
     "9581258e2f334a1d8e2162787224a230": {
      "model_module": "@jupyter-widgets/controls",
      "model_module_version": "1.4.0",
      "model_name": "ButtonStyleModel",
      "state": {}
     },
     "9584fdacb0c04138ad2b24b1844b34fd": {
      "model_module": "@jupyter-widgets/base",
      "model_module_version": "1.1.0",
      "model_name": "LayoutModel",
      "state": {}
     },
     "9591f92b70bf4e5f9dc6b091196e09dc": {
      "model_module": "@jupyter-widgets/base",
      "model_module_version": "1.1.0",
      "model_name": "LayoutModel",
      "state": {}
     },
     "95bcb495866a4b9ebf32d96520104472": {
      "model_module": "@jupyter-widgets/controls",
      "model_module_version": "1.4.0",
      "model_name": "TextModel",
      "state": {
       "_dom_classes": [
        "blankcell"
       ],
       "disabled": true,
       "layout": "IPY_MODEL_581cef88be2741a9bde4fcb6422ff1b0",
       "style": "IPY_MODEL_ce358030724644e9ad082a4c2f653824"
      }
     },
     "95d021cb9ff94bebacf34d5bfba03703": {
      "model_module": "@jupyter-widgets/controls",
      "model_module_version": "1.4.0",
      "model_name": "ButtonModel",
      "state": {
       "_dom_classes": [
        "gridbutton",
        "b1"
       ],
       "disabled": true,
       "layout": "IPY_MODEL_d861c29f26634ccfb59b53f634fc937d",
       "style": "IPY_MODEL_d3204409c9384724b2345a22f2f7cba3"
      }
     },
     "95f5ffc3d9774d84aa5892d9a055141d": {
      "model_module": "@jupyter-widgets/base",
      "model_module_version": "1.1.0",
      "model_name": "LayoutModel",
      "state": {}
     },
     "95f63fda99ee4f89a178e650aa6ba723": {
      "model_module": "@jupyter-widgets/controls",
      "model_module_version": "1.4.0",
      "model_name": "ButtonStyleModel",
      "state": {}
     },
     "96174a7e12da41ff90db7c5f163d3308": {
      "model_module": "@jupyter-widgets/base",
      "model_module_version": "1.1.0",
      "model_name": "LayoutModel",
      "state": {}
     },
     "9618733e133043a39aa817b36b7c360f": {
      "model_module": "@jupyter-widgets/base",
      "model_module_version": "1.1.0",
      "model_name": "LayoutModel",
      "state": {}
     },
     "961fbf9bc75149d4b1ae19c6acb33112": {
      "model_module": "@jupyter-widgets/base",
      "model_module_version": "1.1.0",
      "model_name": "LayoutModel",
      "state": {}
     },
     "9629dedb60d64ec1ad548d20fe57ca63": {
      "model_module": "@jupyter-widgets/base",
      "model_module_version": "1.1.0",
      "model_name": "LayoutModel",
      "state": {}
     },
     "9642b5ca74b84f159086fa236263f694": {
      "model_module": "@jupyter-widgets/base",
      "model_module_version": "1.1.0",
      "model_name": "LayoutModel",
      "state": {}
     },
     "96824541530045cda405a96c4b76b07a": {
      "model_module": "@jupyter-widgets/controls",
      "model_module_version": "1.4.0",
      "model_name": "ButtonModel",
      "state": {
       "_dom_classes": [
        "gridbutton",
        "b4"
       ],
       "disabled": true,
       "layout": "IPY_MODEL_581cef88be2741a9bde4fcb6422ff1b0",
       "style": "IPY_MODEL_cb9797d55b2744e8997b697053b98d41"
      }
     },
     "9692f25f320f4254ba3f07c8a90cef9f": {
      "model_module": "@jupyter-widgets/controls",
      "model_module_version": "1.4.0",
      "model_name": "ButtonStyleModel",
      "state": {}
     },
     "969dae50ece2499c8c7992f922443625": {
      "model_module": "@jupyter-widgets/base",
      "model_module_version": "1.1.0",
      "model_name": "LayoutModel",
      "state": {}
     },
     "96af18715be44e36a9e2fd9a2b688e15": {
      "model_module": "@jupyter-widgets/controls",
      "model_module_version": "1.4.0",
      "model_name": "ButtonModel",
      "state": {
       "_dom_classes": [
        "gridbutton",
        "b3"
       ],
       "disabled": true,
       "layout": "IPY_MODEL_196c83a3b43a46dca975be63611b8c09",
       "style": "IPY_MODEL_e00411fbfe404821a6fa20dcbb3a59a7"
      }
     },
     "96e5d70356f74110a7105227b85a5aed": {
      "model_module": "@jupyter-widgets/base",
      "model_module_version": "1.1.0",
      "model_name": "LayoutModel",
      "state": {}
     },
     "96f3fb8bff1b4dbba221a8cc8478b47c": {
      "model_module": "@jupyter-widgets/controls",
      "model_module_version": "1.4.0",
      "model_name": "ButtonModel",
      "state": {
       "_dom_classes": [
        "gridbutton",
        "b4"
       ],
       "disabled": true,
       "layout": "IPY_MODEL_196c83a3b43a46dca975be63611b8c09",
       "style": "IPY_MODEL_922f411967f649388df21629ba46ceb6"
      }
     },
     "9702568a212241118a1a2b1ae292d6a4": {
      "model_module": "@jupyter-widgets/base",
      "model_module_version": "1.1.0",
      "model_name": "LayoutModel",
      "state": {}
     },
     "970c0371061d47ec8d2218603ccba684": {
      "model_module": "@jupyter-widgets/controls",
      "model_module_version": "1.4.0",
      "model_name": "DescriptionStyleModel",
      "state": {
       "description_width": ""
      }
     },
     "971abae401c944bfaaa9c4eec9ab680b": {
      "model_module": "@jupyter-widgets/controls",
      "model_module_version": "1.4.0",
      "model_name": "DescriptionStyleModel",
      "state": {
       "description_width": ""
      }
     },
     "97265a38e02940978c714dac7bbf4877": {
      "model_module": "@jupyter-widgets/controls",
      "model_module_version": "1.4.0",
      "model_name": "ButtonStyleModel",
      "state": {}
     },
     "974b7060c11043959518fc0908914735": {
      "model_module": "@jupyter-widgets/controls",
      "model_module_version": "1.4.0",
      "model_name": "DescriptionStyleModel",
      "state": {
       "description_width": ""
      }
     },
     "97592a19e0b04285a4e9529e352356d8": {
      "model_module": "@jupyter-widgets/base",
      "model_module_version": "1.1.0",
      "model_name": "LayoutModel",
      "state": {
       "height": "2em",
       "margin": "0",
       "padding": "0",
       "width": "2em"
      }
     },
     "975bc5d159964b09a172b1163bf09ec2": {
      "model_module": "@jupyter-widgets/controls",
      "model_module_version": "1.4.0",
      "model_name": "ButtonStyleModel",
      "state": {}
     },
     "975f460aae6247208b1c8c6e202a64c3": {
      "model_module": "@jupyter-widgets/base",
      "model_module_version": "1.1.0",
      "model_name": "LayoutModel",
      "state": {}
     },
     "976e655f99254ee39eb9d52a3b792de3": {
      "model_module": "@jupyter-widgets/controls",
      "model_module_version": "1.4.0",
      "model_name": "DescriptionStyleModel",
      "state": {
       "description_width": ""
      }
     },
     "9771fbf4c8cb459690af20542a8b487e": {
      "model_module": "@jupyter-widgets/controls",
      "model_module_version": "1.4.0",
      "model_name": "ToggleButtonModel",
      "state": {
       "_dom_classes": [
        "gridbutton"
       ],
       "layout": "IPY_MODEL_742ce9cb5c1a4d358dd3aef0fa324d55",
       "style": "IPY_MODEL_1330a431e0684c68a224248ca966b7f6",
       "tooltip": "0, 4"
      }
     },
     "97af5722a10f4401a2593f7255863e7e": {
      "model_module": "@jupyter-widgets/base",
      "model_module_version": "1.1.0",
      "model_name": "LayoutModel",
      "state": {}
     },
     "97b0d5dfee1240e9b609135c2d67c2c2": {
      "model_module": "@jupyter-widgets/controls",
      "model_module_version": "1.4.0",
      "model_name": "ButtonStyleModel",
      "state": {}
     },
     "97b4cb70d671431a825a866236261498": {
      "model_module": "@jupyter-widgets/base",
      "model_module_version": "1.1.0",
      "model_name": "LayoutModel",
      "state": {}
     },
     "97bac50c66dc4ccc939e75f987813f91": {
      "model_module": "@jupyter-widgets/controls",
      "model_module_version": "1.4.0",
      "model_name": "ButtonModel",
      "state": {
       "_dom_classes": [
        "gridbutton",
        "b3"
       ],
       "disabled": true,
       "layout": "IPY_MODEL_581cef88be2741a9bde4fcb6422ff1b0",
       "style": "IPY_MODEL_7e5644b6a27b477ebe0678ca5d3001a9"
      }
     },
     "97e3908154e74c1e812eca888f301619": {
      "model_module": "@jupyter-widgets/controls",
      "model_module_version": "1.4.0",
      "model_name": "ButtonModel",
      "state": {
       "_dom_classes": [
        "gridbutton",
        "b4"
       ],
       "disabled": true,
       "layout": "IPY_MODEL_196c83a3b43a46dca975be63611b8c09",
       "style": "IPY_MODEL_d1f47fb2a08842e788cb3d351dca1781"
      }
     },
     "9846d3744f5848cf803556c573d6c5fe": {
      "model_module": "@jupyter-widgets/controls",
      "model_module_version": "1.4.0",
      "model_name": "DescriptionStyleModel",
      "state": {
       "description_width": ""
      }
     },
     "9847fbdddf854ab99b2a4e7d40f81a5a": {
      "model_module": "@jupyter-widgets/controls",
      "model_module_version": "1.4.0",
      "model_name": "ButtonModel",
      "state": {
       "_dom_classes": [
        "gridbutton",
        "b4"
       ],
       "disabled": true,
       "layout": "IPY_MODEL_581cef88be2741a9bde4fcb6422ff1b0",
       "style": "IPY_MODEL_60dc2e0bc12c441d94c5e7576035be35"
      }
     },
     "9857ec96216b4308800135b9e2b6b7bb": {
      "model_module": "@jupyter-widgets/base",
      "model_module_version": "1.1.0",
      "model_name": "LayoutModel",
      "state": {}
     },
     "98588d5c67504635843591d8cc2298c3": {
      "model_module": "@jupyter-widgets/controls",
      "model_module_version": "1.4.0",
      "model_name": "ButtonModel",
      "state": {
       "_dom_classes": [
        "gridbutton",
        "b1"
       ],
       "disabled": true,
       "layout": "IPY_MODEL_581cef88be2741a9bde4fcb6422ff1b0",
       "style": "IPY_MODEL_913bf005e19f4b66bdde6225fee71e20"
      }
     },
     "9863f8ff2f0746bbb8a329c62c1cc159": {
      "model_module": "@jupyter-widgets/base",
      "model_module_version": "1.1.0",
      "model_name": "LayoutModel",
      "state": {}
     },
     "987a00d2bd424ac08e1df7052953eb7e": {
      "model_module": "@jupyter-widgets/controls",
      "model_module_version": "1.4.0",
      "model_name": "HBoxModel",
      "state": {
       "children": [
        "IPY_MODEL_097683deed9a43d6acecd0598f00fc5d",
        "IPY_MODEL_a2642b74c61942e0a49220f18be0e5bb",
        "IPY_MODEL_09cdf09cb77d488697646a0891648c57",
        "IPY_MODEL_c4a752bac2aa487182ae1040872b0d36",
        "IPY_MODEL_7f350b5660c940e78dc9869125e42a72",
        "IPY_MODEL_f529389e7a074ac38bba051966b3a2e0",
        "IPY_MODEL_d99b919f1dd14688b5714601e6965b29",
        "IPY_MODEL_5e9b7723bc7b4748b40ef4ed8d6e8a39",
        "IPY_MODEL_96824541530045cda405a96c4b76b07a",
        "IPY_MODEL_2fc324b2c73242599a4e823a3f970bfa",
        "IPY_MODEL_9847fbdddf854ab99b2a4e7d40f81a5a"
       ],
       "layout": "IPY_MODEL_825838f31e59499bb5c98371a6748599"
      }
     },
     "988e5296939a4978ab188c1aae448cf0": {
      "model_module": "@jupyter-widgets/controls",
      "model_module_version": "1.4.0",
      "model_name": "ButtonModel",
      "state": {
       "_dom_classes": [
        "gridbutton",
        "b2"
       ],
       "disabled": true,
       "layout": "IPY_MODEL_581cef88be2741a9bde4fcb6422ff1b0",
       "style": "IPY_MODEL_7bbe180f38394445b3810ad2271b3968"
      }
     },
     "988ffdb8f0ca4c7dbe13cce397fbd6df": {
      "model_module": "@jupyter-widgets/base",
      "model_module_version": "1.1.0",
      "model_name": "LayoutModel",
      "state": {
       "height": "4em",
       "margin": "0",
       "padding": "0",
       "width": "5em"
      }
     },
     "98a2fa90029b4e138b056f0c6595577f": {
      "model_module": "@jupyter-widgets/base",
      "model_module_version": "1.1.0",
      "model_name": "LayoutModel",
      "state": {}
     },
     "98aa72e6733841e783ce74bb7fe03a75": {
      "model_module": "@jupyter-widgets/base",
      "model_module_version": "1.1.0",
      "model_name": "LayoutModel",
      "state": {}
     },
     "98af147a2dfe4bd897e33f8975f075c6": {
      "model_module": "@jupyter-widgets/controls",
      "model_module_version": "1.4.0",
      "model_name": "DescriptionStyleModel",
      "state": {
       "description_width": ""
      }
     },
     "98b38888eb5644399fb236dac4859d96": {
      "model_module": "@jupyter-widgets/base",
      "model_module_version": "1.1.0",
      "model_name": "LayoutModel",
      "state": {}
     },
     "98db458e3385405080881013433250a8": {
      "model_module": "@jupyter-widgets/controls",
      "model_module_version": "1.4.0",
      "model_name": "DescriptionStyleModel",
      "state": {
       "description_width": ""
      }
     },
     "98e019db122649df828766506e273943": {
      "model_module": "@jupyter-widgets/base",
      "model_module_version": "1.1.0",
      "model_name": "LayoutModel",
      "state": {}
     },
     "98fb26801bd043d99af3abd27bcff810": {
      "model_module": "@jupyter-widgets/base",
      "model_module_version": "1.1.0",
      "model_name": "LayoutModel",
      "state": {}
     },
     "994dbe87a5cf4609851be8dfbbd2c2c6": {
      "model_module": "@jupyter-widgets/controls",
      "model_module_version": "1.4.0",
      "model_name": "ButtonStyleModel",
      "state": {}
     },
     "9956040b63364714b65b6d7ef925e202": {
      "model_module": "@jupyter-widgets/controls",
      "model_module_version": "1.4.0",
      "model_name": "DescriptionStyleModel",
      "state": {
       "description_width": ""
      }
     },
     "995a8e079cb340d8addba7f77f855c80": {
      "model_module": "@jupyter-widgets/controls",
      "model_module_version": "1.4.0",
      "model_name": "ButtonModel",
      "state": {
       "_dom_classes": [
        "gridbutton",
        "b3"
       ],
       "disabled": true,
       "layout": "IPY_MODEL_196c83a3b43a46dca975be63611b8c09",
       "style": "IPY_MODEL_79e6dcb881294aa4911de5f02b7c8c6e"
      }
     },
     "9966c5f8f52e42909ff9a9413c909ddf": {
      "model_module": "@jupyter-widgets/base",
      "model_module_version": "1.1.0",
      "model_name": "LayoutModel",
      "state": {}
     },
     "999ec0c1417847a28d0c4f6154c30705": {
      "model_module": "@jupyter-widgets/controls",
      "model_module_version": "1.4.0",
      "model_name": "ToggleButtonModel",
      "state": {
       "_dom_classes": [
        "gridbutton"
       ],
       "layout": "IPY_MODEL_24198035057f48ca81a6fa9a718c3f55",
       "style": "IPY_MODEL_edd5343283f84e16a5fe1e12d720f029",
       "tooltip": "1, 2"
      }
     },
     "99aa96cecacf44408124198984d4ace7": {
      "model_module": "@jupyter-widgets/base",
      "model_module_version": "1.1.0",
      "model_name": "LayoutModel",
      "state": {}
     },
     "99b9b9462f3e4e69872e7cfa3c532487": {
      "model_module": "@jupyter-widgets/controls",
      "model_module_version": "1.4.0",
      "model_name": "TextModel",
      "state": {
       "_dom_classes": [
        "blankcell"
       ],
       "disabled": true,
       "layout": "IPY_MODEL_581cef88be2741a9bde4fcb6422ff1b0",
       "style": "IPY_MODEL_4f9686034bb94be7abcf9af01212596e"
      }
     },
     "9a06670b73da4083b7a7b2b5a0e06738": {
      "model_module": "@jupyter-widgets/controls",
      "model_module_version": "1.4.0",
      "model_name": "ButtonStyleModel",
      "state": {}
     },
     "9a41f6bfc0614b71874334143b46a1ce": {
      "model_module": "@jupyter-widgets/base",
      "model_module_version": "1.1.0",
      "model_name": "LayoutModel",
      "state": {}
     },
     "9a50ce30449443cd838279e9ba28efc5": {
      "model_module": "@jupyter-widgets/controls",
      "model_module_version": "1.4.0",
      "model_name": "DescriptionStyleModel",
      "state": {
       "description_width": ""
      }
     },
     "9ab858b8a4ec4a779e2a52c302568994": {
      "model_module": "@jupyter-widgets/controls",
      "model_module_version": "1.4.0",
      "model_name": "TextModel",
      "state": {
       "_dom_classes": [
        "gridcell"
       ],
       "_view_module": "sage-combinat-widgets",
       "_view_module_version": "^0.2.0",
       "_view_name": "TextWithTooltipView",
       "continuous_update": false,
       "description_tooltip": "",
       "layout": "IPY_MODEL_742ce9cb5c1a4d358dd3aef0fa324d55",
       "style": "IPY_MODEL_9389b5b7e520487d9b59dcc42aafebfd",
       "value": "4"
      }
     },
     "9b0032aa4e74423d87eab6ed6227a4a4": {
      "model_module": "@jupyter-widgets/base",
      "model_module_version": "1.1.0",
      "model_name": "LayoutModel",
      "state": {}
     },
     "9b091b56b838400a833db18510458ab8": {
      "model_module": "@jupyter-widgets/controls",
      "model_module_version": "1.4.0",
      "model_name": "HBoxModel",
      "state": {
       "children": [
        "IPY_MODEL_8f46fab1e1c14fbd9adcb5d275d30cd8"
       ],
       "layout": "IPY_MODEL_a3f03fcf4b8e41fa99456f241c46966d"
      }
     },
     "9b2966fbcb8946a084af129315b733bd": {
      "model_module": "@jupyter-widgets/controls",
      "model_module_version": "1.4.0",
      "model_name": "DescriptionStyleModel",
      "state": {
       "description_width": ""
      }
     },
     "9b2c23e4aafb487ab473ac5f4b900449": {
      "model_module": "@jupyter-widgets/controls",
      "model_module_version": "1.4.0",
      "model_name": "ButtonModel",
      "state": {
       "_dom_classes": [
        "gridbutton",
        "b2"
       ],
       "disabled": true,
       "layout": "IPY_MODEL_581cef88be2741a9bde4fcb6422ff1b0",
       "style": "IPY_MODEL_4fee66ae6d774222819b6f73459b0a3a"
      }
     },
     "9b36091bb0284db19dba97e80b4000f2": {
      "model_module": "@jupyter-widgets/base",
      "model_module_version": "1.1.0",
      "model_name": "LayoutModel",
      "state": {}
     },
     "9b389a8d192046e6b86b986da5df0464": {
      "model_module": "@jupyter-widgets/controls",
      "model_module_version": "1.4.0",
      "model_name": "TextModel",
      "state": {
       "_dom_classes": [
        "blankcell"
       ],
       "disabled": true,
       "layout": "IPY_MODEL_581cef88be2741a9bde4fcb6422ff1b0",
       "style": "IPY_MODEL_1a988c86d255443b927309eba20aaedf"
      }
     },
     "9b4741d998f64424bd8003669f615de1": {
      "model_module": "@jupyter-widgets/controls",
      "model_module_version": "1.4.0",
      "model_name": "ButtonModel",
      "state": {
       "_dom_classes": [
        "gridbutton",
        "b4"
       ],
       "disabled": true,
       "layout": "IPY_MODEL_581cef88be2741a9bde4fcb6422ff1b0",
       "style": "IPY_MODEL_d72b0ed75035469cb754defab7e1b185"
      }
     },
     "9b5dfdaff48845e98930a1e6b6cf97fa": {
      "model_module": "@jupyter-widgets/base",
      "model_module_version": "1.1.0",
      "model_name": "LayoutModel",
      "state": {}
     },
     "9b97ce71c03e4ab4834765b99fcdefbe": {
      "model_module": "@jupyter-widgets/controls",
      "model_module_version": "1.4.0",
      "model_name": "ButtonStyleModel",
      "state": {}
     },
     "9ba8661842b74111a59d30f1033204c7": {
      "model_module": "@jupyter-widgets/base",
      "model_module_version": "1.1.0",
      "model_name": "LayoutModel",
      "state": {}
     },
     "9bae468a874d45ed9c3c853fcef1843a": {
      "model_module": "@jupyter-widgets/base",
      "model_module_version": "1.1.0",
      "model_name": "LayoutModel",
      "state": {}
     },
     "9bb457b2fe8c4a39a85e23791495e94d": {
      "model_module": "@jupyter-widgets/controls",
      "model_module_version": "1.4.0",
      "model_name": "TextModel",
      "state": {
       "_dom_classes": [
        "blankcell"
       ],
       "disabled": true,
       "layout": "IPY_MODEL_196c83a3b43a46dca975be63611b8c09",
       "style": "IPY_MODEL_bc560bf531c54656b74734574eb995f6"
      }
     },
     "9bdff25f42a8464a924a7ca63d04a688": {
      "model_module": "@jupyter-widgets/controls",
      "model_module_version": "1.4.0",
      "model_name": "TextModel",
      "state": {
       "_dom_classes": [
        "blankcell"
       ],
       "disabled": true,
       "layout": "IPY_MODEL_581cef88be2741a9bde4fcb6422ff1b0",
       "style": "IPY_MODEL_dc92521a0ff44375810bbcfa8800581b"
      }
     },
     "9be5ce9740bb46b7a95c87887cfdfe60": {
      "model_module": "@jupyter-widgets/controls",
      "model_module_version": "1.4.0",
      "model_name": "ButtonModel",
      "state": {
       "_dom_classes": [
        "gridbutton",
        "b2"
       ],
       "disabled": true,
       "layout": "IPY_MODEL_581cef88be2741a9bde4fcb6422ff1b0",
       "style": "IPY_MODEL_788d51b52e8247baace35399c21739e3"
      }
     },
     "9bf9e72f8c474e499aebc769d1612102": {
      "model_module": "@jupyter-widgets/base",
      "model_module_version": "1.1.0",
      "model_name": "LayoutModel",
      "state": {}
     },
     "9bfb103ae226410c883d3a73e47d3d8b": {
      "model_module": "@jupyter-widgets/base",
      "model_module_version": "1.1.0",
      "model_name": "LayoutModel",
      "state": {}
     },
     "9bfc0d462f4f4f34abb9ff1f7805e81f": {
      "model_module": "@jupyter-widgets/base",
      "model_module_version": "1.1.0",
      "model_name": "LayoutModel",
      "state": {}
     },
     "9bff6a3aac96456ab2bc38141cd258bf": {
      "model_module": "@jupyter-widgets/controls",
      "model_module_version": "1.4.0",
      "model_name": "DescriptionStyleModel",
      "state": {
       "description_width": ""
      }
     },
     "9c32e7ee83f64ce681732170b387295a": {
      "model_module": "@jupyter-widgets/base",
      "model_module_version": "1.1.0",
      "model_name": "LayoutModel",
      "state": {}
     },
     "9c71a57e14d241bf98ae5744604ce4ce": {
      "model_module": "@jupyter-widgets/controls",
      "model_module_version": "1.4.0",
      "model_name": "ButtonModel",
      "state": {
       "_dom_classes": [
        "gridbutton",
        "b3"
       ],
       "disabled": true,
       "layout": "IPY_MODEL_d861c29f26634ccfb59b53f634fc937d",
       "style": "IPY_MODEL_759e147548484900847155e67bdccbdf"
      }
     },
     "9c8ec96074534dbca23a80df36bb135f": {
      "model_module": "@jupyter-widgets/base",
      "model_module_version": "1.1.0",
      "model_name": "LayoutModel",
      "state": {}
     },
     "9c909166868e4e84b6fe27f7304bbc2d": {
      "model_module": "@jupyter-widgets/controls",
      "model_module_version": "1.4.0",
      "model_name": "ButtonStyleModel",
      "state": {}
     },
     "9c90a18bf361475c9f3d26cd05d72b2e": {
      "model_module": "@jupyter-widgets/base",
      "model_module_version": "1.1.0",
      "model_name": "LayoutModel",
      "state": {}
     },
     "9ce42c140851498eb60162e28995cccf": {
      "model_module": "@jupyter-widgets/controls",
      "model_module_version": "1.4.0",
      "model_name": "ToggleButtonModel",
      "state": {
       "_dom_classes": [
        "gridbutton"
       ],
       "description": "-",
       "layout": "IPY_MODEL_ae25d8ee9fe646ebb7fdd668d6ed6cab",
       "style": "IPY_MODEL_fe668df8673a4534a79fc6b2034f0585",
       "tooltip": "1, 3"
      }
     },
     "9cfd56e5fd0946f7abd592b2f9ed8905": {
      "model_module": "@jupyter-widgets/controls",
      "model_module_version": "1.4.0",
      "model_name": "ToggleButtonModel",
      "state": {
       "_dom_classes": [
        "gridbutton"
       ],
       "layout": "IPY_MODEL_742ce9cb5c1a4d358dd3aef0fa324d55",
       "style": "IPY_MODEL_b728e739e2fb4a3293db5e785b763281",
       "tooltip": "0, 3"
      }
     },
     "9d01b809651f4fc6a6a8b43c8e38b841": {
      "model_module": "@jupyter-widgets/controls",
      "model_module_version": "1.4.0",
      "model_name": "ButtonModel",
      "state": {
       "_dom_classes": [
        "gridbutton",
        "b1"
       ],
       "disabled": true,
       "layout": "IPY_MODEL_581cef88be2741a9bde4fcb6422ff1b0",
       "style": "IPY_MODEL_f7f8a9a539ef4f778d0114c6b71ebec8"
      }
     },
     "9d1a1651cf4c409db2a247a86b13153c": {
      "model_module": "@jupyter-widgets/base",
      "model_module_version": "1.1.0",
      "model_name": "LayoutModel",
      "state": {}
     },
     "9d22f57022e64619b26a77185bf5a806": {
      "model_module": "@jupyter-widgets/base",
      "model_module_version": "1.1.0",
      "model_name": "LayoutModel",
      "state": {}
     },
     "9d25ccc783e0466d81ecc6fd1a0e0d4e": {
      "model_module": "@jupyter-widgets/base",
      "model_module_version": "1.1.0",
      "model_name": "LayoutModel",
      "state": {}
     },
     "9d49fc9685154e1185ebed3aff8cc542": {
      "model_module": "@jupyter-widgets/controls",
      "model_module_version": "1.4.0",
      "model_name": "ButtonModel",
      "state": {
       "_dom_classes": [
        "gridbutton",
        "b3"
       ],
       "disabled": true,
       "layout": "IPY_MODEL_d861c29f26634ccfb59b53f634fc937d",
       "style": "IPY_MODEL_ef3ab9d267354b618b78d1789a8a8029"
      }
     },
     "9d4c7e43535f4567a6c1a2336afca78b": {
      "model_module": "@jupyter-widgets/base",
      "model_module_version": "1.1.0",
      "model_name": "LayoutModel",
      "state": {}
     },
     "9d6bf58d2c9547f78435d9d4e47763e9": {
      "model_module": "@jupyter-widgets/controls",
      "model_module_version": "1.4.0",
      "model_name": "ButtonStyleModel",
      "state": {}
     },
     "9d7227c5b82b4f32b2b4749c4612eb96": {
      "model_module": "@jupyter-widgets/base",
      "model_module_version": "1.1.0",
      "model_name": "LayoutModel",
      "state": {}
     },
     "9d978a1a765c40a797e401d26e5cf403": {
      "model_module": "@jupyter-widgets/base",
      "model_module_version": "1.1.0",
      "model_name": "LayoutModel",
      "state": {}
     },
     "9d9f631ccdf84f95be296ea74ba8ca76": {
      "model_module": "@jupyter-widgets/base",
      "model_module_version": "1.1.0",
      "model_name": "LayoutModel",
      "state": {}
     },
     "9deb02a352b64b93911ed89c27c70cd1": {
      "model_module": "@jupyter-widgets/controls",
      "model_module_version": "1.4.0",
      "model_name": "TextModel",
      "state": {
       "_dom_classes": [
        "blankcell"
       ],
       "disabled": true,
       "layout": "IPY_MODEL_581cef88be2741a9bde4fcb6422ff1b0",
       "style": "IPY_MODEL_94631a223e3c49f19c22f1d6b75c3396"
      }
     },
     "9e11de52ffe0402897ade7bdc9cc863a": {
      "model_module": "@jupyter-widgets/controls",
      "model_module_version": "1.4.0",
      "model_name": "TextModel",
      "state": {
       "_dom_classes": [
        "gridcell"
       ],
       "_view_module": "sage-combinat-widgets",
       "_view_module_version": "^0.2.0",
       "_view_name": "TextWithTooltipView",
       "continuous_update": false,
       "description_tooltip": "",
       "layout": "IPY_MODEL_742ce9cb5c1a4d358dd3aef0fa324d55",
       "style": "IPY_MODEL_2a8d84337318416a94542d6e74dcee27",
       "value": "5"
      }
     },
     "9e19527004254515b4b08a5fbfedeaff": {
      "model_module": "@jupyter-widgets/controls",
      "model_module_version": "1.4.0",
      "model_name": "TextModel",
      "state": {
       "_dom_classes": [
        "gridcell",
        "addablecell"
       ],
       "_view_module": "sage-combinat-widgets",
       "_view_module_version": "^0.2.0",
       "_view_name": "TextWithTooltipView",
       "continuous_update": false,
       "description_tooltip": "",
       "layout": "IPY_MODEL_24198035057f48ca81a6fa9a718c3f55",
       "style": "IPY_MODEL_2edf712da7de43438347b9ccb27fc4b3"
      }
     },
     "9e23d628132545ebb4974be153978616": {
      "model_module": "@jupyter-widgets/base",
      "model_module_version": "1.1.0",
      "model_name": "LayoutModel",
      "state": {}
     },
     "9e2ed09f9e3f474083945f300978b63f": {
      "model_module": "@jupyter-widgets/base",
      "model_module_version": "1.1.0",
      "model_name": "LayoutModel",
      "state": {}
     },
     "9e34833d93bf46ee906de23f73d9b070": {
      "model_module": "@jupyter-widgets/controls",
      "model_module_version": "1.4.0",
      "model_name": "ButtonStyleModel",
      "state": {}
     },
     "9e415b1000d04d018b16f164a8981c8d": {
      "model_module": "@jupyter-widgets/controls",
      "model_module_version": "1.4.0",
      "model_name": "ToggleButtonModel",
      "state": {
       "_dom_classes": [
        "gridbutton"
       ],
       "description": "-",
       "layout": "IPY_MODEL_24198035057f48ca81a6fa9a718c3f55",
       "style": "IPY_MODEL_1b93e4d240a447c192a1ba4a2fb53a14",
       "tooltip": "0, 1"
      }
     },
     "9e5bbe26893a4d02b6ea913e3be252af": {
      "model_module": "@jupyter-widgets/controls",
      "model_module_version": "1.4.0",
      "model_name": "DescriptionStyleModel",
      "state": {
       "description_width": ""
      }
     },
     "9e816f4307a744a0936b391c8a93caa3": {
      "model_module": "@jupyter-widgets/base",
      "model_module_version": "1.1.0",
      "model_name": "LayoutModel",
      "state": {}
     },
     "9e8f183d32d5433eb3142dc59de4242e": {
      "model_module": "@jupyter-widgets/controls",
      "model_module_version": "1.4.0",
      "model_name": "TextModel",
      "state": {
       "_dom_classes": [
        "blankcell"
       ],
       "disabled": true,
       "layout": "IPY_MODEL_d861c29f26634ccfb59b53f634fc937d",
       "style": "IPY_MODEL_d3d109d0f2fe4cebb9348af8835fc460"
      }
     },
     "9ee01f395d1a40bba798813be20fd9bc": {
      "model_module": "@jupyter-widgets/controls",
      "model_module_version": "1.4.0",
      "model_name": "ButtonModel",
      "state": {
       "_dom_classes": [
        "gridbutton",
        "b4"
       ],
       "disabled": true,
       "layout": "IPY_MODEL_196c83a3b43a46dca975be63611b8c09",
       "style": "IPY_MODEL_27212691eaee4295beed073596ad4162"
      }
     },
     "9ee606a60aad45c99b7d885efc7ff384": {
      "model_module": "@jupyter-widgets/controls",
      "model_module_version": "1.4.0",
      "model_name": "ButtonStyleModel",
      "state": {}
     },
     "9efaa59a45e24b9f88da617eeb15bc40": {
      "model_module": "@jupyter-widgets/base",
      "model_module_version": "1.1.0",
      "model_name": "LayoutModel",
      "state": {}
     },
     "9f1bfda21ae6404d9298e9bbd2725bc9": {
      "model_module": "@jupyter-widgets/controls",
      "model_module_version": "1.4.0",
      "model_name": "TextModel",
      "state": {
       "_dom_classes": [
        "blankcell"
       ],
       "disabled": true,
       "layout": "IPY_MODEL_742ce9cb5c1a4d358dd3aef0fa324d55",
       "style": "IPY_MODEL_acff02940c7d476a8a037c48e5de25eb"
      }
     },
     "9f29c126f409401394965c0ac35e869f": {
      "model_module": "@jupyter-widgets/controls",
      "model_module_version": "1.4.0",
      "model_name": "DescriptionStyleModel",
      "state": {
       "description_width": ""
      }
     },
     "9f301ca87f6849cba0055258e2aefce3": {
      "model_module": "@jupyter-widgets/base",
      "model_module_version": "1.1.0",
      "model_name": "LayoutModel",
      "state": {}
     },
     "9f5333e2c4c040caa431e34df3ee1826": {
      "model_module": "@jupyter-widgets/controls",
      "model_module_version": "1.4.0",
      "model_name": "ButtonStyleModel",
      "state": {}
     },
     "9f623ecc32e246819c837360aba6d347": {
      "model_module": "@jupyter-widgets/controls",
      "model_module_version": "1.4.0",
      "model_name": "DescriptionStyleModel",
      "state": {
       "description_width": ""
      }
     },
     "9f647732027345de83a77231fa6c4e03": {
      "model_module": "@jupyter-widgets/base",
      "model_module_version": "1.1.0",
      "model_name": "LayoutModel",
      "state": {}
     },
     "9f6a4c826bd045b186d1f3ad9ecd3607": {
      "model_module": "@jupyter-widgets/controls",
      "model_module_version": "1.4.0",
      "model_name": "ButtonStyleModel",
      "state": {}
     },
     "9f78d47193954ed3857a6c56478de4ae": {
      "model_module": "@jupyter-widgets/controls",
      "model_module_version": "1.4.0",
      "model_name": "TextModel",
      "state": {
       "_dom_classes": [
        "gridcell"
       ],
       "_view_module": "sage-combinat-widgets",
       "_view_module_version": "^0.2.0",
       "_view_name": "TextWithTooltipView",
       "continuous_update": false,
       "description_tooltip": "",
       "layout": "IPY_MODEL_24198035057f48ca81a6fa9a718c3f55",
       "style": "IPY_MODEL_c2738c156b75496f9d370c295e9544bd",
       "value": "11"
      }
     },
     "9f7a1a8cf43142a4b3e030c626acc433": {
      "model_module": "@jupyter-widgets/base",
      "model_module_version": "1.1.0",
      "model_name": "LayoutModel",
      "state": {}
     },
     "9f9a5fe893a944e0a9501c5d150e1216": {
      "model_module": "@jupyter-widgets/controls",
      "model_module_version": "1.4.0",
      "model_name": "TextModel",
      "state": {
       "_dom_classes": [
        "blankcell"
       ],
       "disabled": true,
       "layout": "IPY_MODEL_d861c29f26634ccfb59b53f634fc937d",
       "style": "IPY_MODEL_128891d31c4640eb97d9e7ee1d0efc63"
      }
     },
     "9fa22ff8f1324f9e90c4f51d9693021d": {
      "model_module": "@jupyter-widgets/controls",
      "model_module_version": "1.4.0",
      "model_name": "ButtonStyleModel",
      "state": {}
     },
     "9fa77beb6e244101a292eb891402a641": {
      "model_module": "@jupyter-widgets/base",
      "model_module_version": "1.1.0",
      "model_name": "LayoutModel",
      "state": {
       "height": "4em",
       "margin": "0",
       "padding": "0",
       "width": "5em"
      }
     },
     "9ffda3943a604285ae621966792ba4ce": {
      "model_module": "@jupyter-widgets/base",
      "model_module_version": "1.1.0",
      "model_name": "LayoutModel",
      "state": {}
     },
     "a02df8e8b8594353beb72602072db814": {
      "model_module": "@jupyter-widgets/base",
      "model_module_version": "1.1.0",
      "model_name": "LayoutModel",
      "state": {}
     },
     "a03362b5e792467191a16e8a01641a2f": {
      "model_module": "@jupyter-widgets/base",
      "model_module_version": "1.1.0",
      "model_name": "LayoutModel",
      "state": {}
     },
     "a03aa1ef88334c9bbd60469a27fa3f3d": {
      "model_module": "@jupyter-widgets/controls",
      "model_module_version": "1.4.0",
      "model_name": "ButtonModel",
      "state": {
       "_dom_classes": [
        "gridbutton",
        "b3"
       ],
       "disabled": true,
       "layout": "IPY_MODEL_581cef88be2741a9bde4fcb6422ff1b0",
       "style": "IPY_MODEL_4ce65d3e542f4ae1a5458961c1762ee4"
      }
     },
     "a0500eef510347a78e8554be4f5506d1": {
      "model_module": "@jupyter-widgets/controls",
      "model_module_version": "1.4.0",
      "model_name": "DescriptionStyleModel",
      "state": {
       "description_width": ""
      }
     },
     "a053dacbb5474446a9ecba4f3bdedaa0": {
      "model_module": "@jupyter-widgets/base",
      "model_module_version": "1.1.0",
      "model_name": "LayoutModel",
      "state": {}
     },
     "a07c603bf67d45eb9e53c8b42b86a75c": {
      "model_module": "@jupyter-widgets/controls",
      "model_module_version": "1.4.0",
      "model_name": "ButtonStyleModel",
      "state": {}
     },
     "a08285b6ab194fabb786ac57a1980468": {
      "model_module": "@jupyter-widgets/controls",
      "model_module_version": "1.4.0",
      "model_name": "ButtonStyleModel",
      "state": {}
     },
     "a0be4130f9514215997bc413364be6fb": {
      "model_module": "@jupyter-widgets/controls",
      "model_module_version": "1.4.0",
      "model_name": "DescriptionStyleModel",
      "state": {
       "description_width": ""
      }
     },
     "a0e2c725127146e9bafbf913bd64fc8b": {
      "model_module": "@jupyter-widgets/base",
      "model_module_version": "1.1.0",
      "model_name": "LayoutModel",
      "state": {}
     },
     "a117657adddc4b95ae7df64db5293382": {
      "model_module": "@jupyter-widgets/controls",
      "model_module_version": "1.4.0",
      "model_name": "ButtonModel",
      "state": {
       "_dom_classes": [
        "gridbutton",
        "b2"
       ],
       "disabled": true,
       "layout": "IPY_MODEL_d861c29f26634ccfb59b53f634fc937d",
       "style": "IPY_MODEL_fd958fa62ebd4913ae31834e2943faf3"
      }
     },
     "a11914b8f07547cca65f0d4dca5ae84a": {
      "model_module": "@jupyter-widgets/base",
      "model_module_version": "1.1.0",
      "model_name": "LayoutModel",
      "state": {}
     },
     "a11e5c2201544e249541d374acd7b9ed": {
      "model_module": "@jupyter-widgets/base",
      "model_module_version": "1.1.0",
      "model_name": "LayoutModel",
      "state": {}
     },
     "a1587690c450442e9bd522316ce8bd8c": {
      "model_module": "@jupyter-widgets/base",
      "model_module_version": "1.1.0",
      "model_name": "LayoutModel",
      "state": {}
     },
     "a18991d47d5b47d99523c79a4937864a": {
      "model_module": "@jupyter-widgets/controls",
      "model_module_version": "1.4.0",
      "model_name": "TextModel",
      "state": {
       "_dom_classes": [
        "blankcell"
       ],
       "disabled": true,
       "layout": "IPY_MODEL_196c83a3b43a46dca975be63611b8c09",
       "style": "IPY_MODEL_daf70f1b053c485ca4a1630d0e85c587"
      }
     },
     "a1b22dcd831d4adeb740bc8e3d1400ee": {
      "model_module": "@jupyter-widgets/controls",
      "model_module_version": "1.4.0",
      "model_name": "ButtonStyleModel",
      "state": {}
     },
     "a1eb86e52fc743d2a6e73af22bd9d8b3": {
      "model_module": "@jupyter-widgets/base",
      "model_module_version": "1.1.0",
      "model_name": "LayoutModel",
      "state": {}
     },
     "a2058d405d594274823bfee24b2816fd": {
      "model_module": "@jupyter-widgets/controls",
      "model_module_version": "1.4.0",
      "model_name": "VBoxModel",
      "state": {
       "children": [
        "IPY_MODEL_cc3d7cf0d85949bf964044a1519e6e37",
        "IPY_MODEL_cf3748a7b25c475a98a96d8a58bc5b7e",
        "IPY_MODEL_9b091b56b838400a833db18510458ab8"
       ],
       "layout": "IPY_MODEL_a7d0b837f4ba4b319aea725da385bd5e"
      }
     },
     "a2188e0dfa6b4cb09d663af1a74c20d4": {
      "model_module": "@jupyter-widgets/controls",
      "model_module_version": "1.4.0",
      "model_name": "ButtonStyleModel",
      "state": {}
     },
     "a218d9fd225e4fbe9f152d71a714dfe8": {
      "model_module": "@jupyter-widgets/base",
      "model_module_version": "1.1.0",
      "model_name": "LayoutModel",
      "state": {}
     },
     "a21a8ae8230e43199130cd0cada5d4a6": {
      "model_module": "@jupyter-widgets/output",
      "model_module_version": "1.0.0",
      "model_name": "OutputModel",
      "state": {
       "layout": "IPY_MODEL_e09b587db4624f729d5c90f64cd12230",
       "outputs": [
        {
         "data": {
          "text/plain": "s    + s    + s     + 2*s     + s     + s      + s\n ┌┬┐    ┌┬┐    ┌┬┬┐      ┌┬┬┐    ┌┬┬┐    ┌┬┬┬┐    ┌┬┬┬┐\n ├┼┤    ├┼┤    ├┼┴┘      ├┼┼┘    ├┼┼┤    ├┼┴┴┘    ├┼┼┴┘\n ├┼┘    ├┼┤    ├┤        ├┼┘     └┴┴┘    ├┤       └┴┘\n ├┤     └┴┘    ├┤        └┘              └┘   \n └┘            └┘                             "
         },
         "metadata": {},
         "output_type": "display_data"
        }
       ]
      }
     },
     "a23219e9d95c4c70bd87989962277f00": {
      "model_module": "@jupyter-widgets/controls",
      "model_module_version": "1.4.0",
      "model_name": "TextModel",
      "state": {
       "_dom_classes": [
        "gridcell"
       ],
       "_view_module": "sage-combinat-widgets",
       "_view_module_version": "^0.2.0",
       "_view_name": "TextWithTooltipView",
       "continuous_update": false,
       "description_tooltip": "",
       "layout": "IPY_MODEL_766582b5db4b44c3b9eb63d9400a6c69",
       "style": "IPY_MODEL_c5bb0943d19d4991a75ff92104c2a75a",
       "value": "6"
      }
     },
     "a232d026c91b406583835839dc72b142": {
      "model_module": "@jupyter-widgets/controls",
      "model_module_version": "1.4.0",
      "model_name": "ButtonModel",
      "state": {
       "_dom_classes": [
        "gridbutton",
        "b4"
       ],
       "disabled": true,
       "layout": "IPY_MODEL_196c83a3b43a46dca975be63611b8c09",
       "style": "IPY_MODEL_f2bc087687ec41eda48f4fc80a0504a0"
      }
     },
     "a23f83b0097c40acb7dcdb20c21d3331": {
      "model_module": "@jupyter-widgets/controls",
      "model_module_version": "1.4.0",
      "model_name": "ButtonModel",
      "state": {
       "_dom_classes": [
        "gridbutton",
        "b3"
       ],
       "disabled": true,
       "layout": "IPY_MODEL_581cef88be2741a9bde4fcb6422ff1b0",
       "style": "IPY_MODEL_37169663a25e4f74afe1e0172490e900"
      }
     },
     "a2642b74c61942e0a49220f18be0e5bb": {
      "model_module": "@jupyter-widgets/controls",
      "model_module_version": "1.4.0",
      "model_name": "TextModel",
      "state": {
       "_dom_classes": [
        "blankcell"
       ],
       "disabled": true,
       "layout": "IPY_MODEL_581cef88be2741a9bde4fcb6422ff1b0",
       "style": "IPY_MODEL_f0f5bdeadd92411a9b6efa1d5e8a5b69"
      }
     },
     "a281f49d391a49d79af3410695d0625a": {
      "model_module": "@jupyter-widgets/controls",
      "model_module_version": "1.4.0",
      "model_name": "ButtonStyleModel",
      "state": {}
     },
     "a28b77a6942347ee8af5b3d5d0d9faef": {
      "model_module": "@jupyter-widgets/controls",
      "model_module_version": "1.4.0",
      "model_name": "DescriptionStyleModel",
      "state": {
       "description_width": ""
      }
     },
     "a2909f5839f54fe19e69879a7a965159": {
      "model_module": "@jupyter-widgets/controls",
      "model_module_version": "1.4.0",
      "model_name": "VBoxModel",
      "state": {
       "children": [
        "IPY_MODEL_0ad097b428854cc78e31197b947f816c",
        "IPY_MODEL_f0b1d481cbac49db895171dbe14233e8",
        "IPY_MODEL_1ffa8c3e118f4947a6b7a2da71b829fe",
        "IPY_MODEL_f406c2cb9b69440abe81f98ae51aed96",
        "IPY_MODEL_e5e3d88e786948bc8c72032f5b4a733e",
        "IPY_MODEL_8cd6dc300b8d4412893a60a4193ec825",
        "IPY_MODEL_ce9e0b95375b4529a2181913d6cd395a",
        "IPY_MODEL_c193fba5c8ac4da3a5397de372f45a2f",
        "IPY_MODEL_64d72e277e23402b92ea866dbaf8fa0a",
        "IPY_MODEL_0a5a2c9e21c940fca79a7c0744e828bc",
        "IPY_MODEL_307dbb418cba481699bf67f2b395912a",
        "IPY_MODEL_944dc10fe76247899ebed3c74cf45f42",
        "IPY_MODEL_085959920cb44e9cacfd92adb33cdfb4",
        "IPY_MODEL_aaaf157ff6474d0cb0418fc1a7d4aca0",
        "IPY_MODEL_fa63be342a0e43dabb2545675bbc2b58",
        "IPY_MODEL_701d56a6d20a4abd950a2de61417d868"
       ],
       "layout": "IPY_MODEL_2677819f3d8543e0917b30a8497dc415"
      }
     },
     "a2a936fe5fd74d6c8a941fa7e0e26288": {
      "model_module": "@jupyter-widgets/base",
      "model_module_version": "1.1.0",
      "model_name": "LayoutModel",
      "state": {}
     },
     "a2b0e4f455bc48a59b7754928c0a6996": {
      "model_module": "@jupyter-widgets/base",
      "model_module_version": "1.1.0",
      "model_name": "LayoutModel",
      "state": {}
     },
     "a2c10636ea7f4c8a80bae240337fc58e": {
      "model_module": "@jupyter-widgets/controls",
      "model_module_version": "1.4.0",
      "model_name": "ButtonModel",
      "state": {
       "_dom_classes": [
        "gridbutton",
        "b3"
       ],
       "disabled": true,
       "layout": "IPY_MODEL_581cef88be2741a9bde4fcb6422ff1b0",
       "style": "IPY_MODEL_5b45663b749e41128fc615cb7e4ee740"
      }
     },
     "a2c9a00835744451ac1c282c8070c0ca": {
      "model_module": "@jupyter-widgets/controls",
      "model_module_version": "1.4.0",
      "model_name": "ToggleButtonModel",
      "state": {
       "_dom_classes": [
        "gridbutton"
       ],
       "layout": "IPY_MODEL_24198035057f48ca81a6fa9a718c3f55",
       "style": "IPY_MODEL_9e5bbe26893a4d02b6ea913e3be252af",
       "tooltip": "0, 3"
      }
     },
     "a2e3863d4fcd48169470ad4f5e64626b": {
      "model_module": "@jupyter-widgets/controls",
      "model_module_version": "1.4.0",
      "model_name": "DescriptionStyleModel",
      "state": {
       "description_width": ""
      }
     },
     "a2e6f0b4a7c04bc9bfa9475371cfe43b": {
      "model_module": "@jupyter-widgets/controls",
      "model_module_version": "1.4.0",
      "model_name": "ButtonModel",
      "state": {
       "_dom_classes": [
        "gridbutton",
        "b1"
       ],
       "disabled": true,
       "layout": "IPY_MODEL_d861c29f26634ccfb59b53f634fc937d",
       "style": "IPY_MODEL_bd548e15196045cc94fb1fb637869995"
      }
     },
     "a2fb39ad2d4549f8836e29dc175b8c12": {
      "model_module": "@jupyter-widgets/controls",
      "model_module_version": "1.4.0",
      "model_name": "DescriptionStyleModel",
      "state": {
       "description_width": ""
      }
     },
     "a308027be2114b70a51d1d7064f4ab5b": {
      "model_module": "@jupyter-widgets/controls",
      "model_module_version": "1.4.0",
      "model_name": "ButtonModel",
      "state": {
       "_dom_classes": [
        "gridbutton",
        "b1"
       ],
       "disabled": true,
       "layout": "IPY_MODEL_196c83a3b43a46dca975be63611b8c09",
       "style": "IPY_MODEL_aac0791e83a9410f8b18d242af158508"
      }
     },
     "a3128a90578345ac809494d0221ad982": {
      "model_module": "@jupyter-widgets/base",
      "model_module_version": "1.1.0",
      "model_name": "LayoutModel",
      "state": {}
     },
     "a312cc09007a46ce8d7da853b70fd164": {
      "model_module": "@jupyter-widgets/base",
      "model_module_version": "1.1.0",
      "model_name": "LayoutModel",
      "state": {}
     },
     "a31d92d2b1c54ea4b633c7d25f6ab19f": {
      "model_module": "@jupyter-widgets/controls",
      "model_module_version": "1.4.0",
      "model_name": "ButtonStyleModel",
      "state": {}
     },
     "a35080c1248c4ddba0c04a7547cc2c92": {
      "model_module": "@jupyter-widgets/controls",
      "model_module_version": "1.4.0",
      "model_name": "DescriptionStyleModel",
      "state": {
       "description_width": ""
      }
     },
     "a369de47bb1e4ac1b62aff84d226d181": {
      "model_module": "@jupyter-widgets/controls",
      "model_module_version": "1.4.0",
      "model_name": "ButtonModel",
      "state": {
       "_dom_classes": [
        "gridbutton",
        "b3"
       ],
       "disabled": true,
       "layout": "IPY_MODEL_196c83a3b43a46dca975be63611b8c09",
       "style": "IPY_MODEL_b0285d2a571b46e0ac2265f07601cd80"
      }
     },
     "a37911eafc4e4d84bfed3016dee7f486": {
      "model_module": "@jupyter-widgets/controls",
      "model_module_version": "1.4.0",
      "model_name": "HBoxModel",
      "state": {
       "children": [
        "IPY_MODEL_64a3b96d68774ab59601b00f2a975059",
        "IPY_MODEL_8576b8b189ab4926acb8b26275735c1e",
        "IPY_MODEL_5db2e6af65a74993803a0dfdb7199552"
       ],
       "layout": "IPY_MODEL_d0f5ce53f9b140029e7d23b284233791"
      }
     },
     "a397f9d59cd7439f98b77d5393eac53b": {
      "model_module": "@jupyter-widgets/controls",
      "model_module_version": "1.4.0",
      "model_name": "ButtonStyleModel",
      "state": {}
     },
     "a3ad239fa2c44c37ac9436189eab080a": {
      "model_module": "@jupyter-widgets/controls",
      "model_module_version": "1.4.0",
      "model_name": "ToggleButtonModel",
      "state": {
       "_dom_classes": [
        "gridbutton"
       ],
       "description": "-",
       "layout": "IPY_MODEL_ae25d8ee9fe646ebb7fdd668d6ed6cab",
       "style": "IPY_MODEL_c09583732deb4f3f878f1210a481e5c8",
       "tooltip": "1, 0"
      }
     },
     "a3dd7cdf12be450a8d3ee4d6e1b6ccd5": {
      "model_module": "@jupyter-widgets/controls",
      "model_module_version": "1.4.0",
      "model_name": "TextModel",
      "state": {
       "_dom_classes": [
        "blankcell"
       ],
       "disabled": true,
       "layout": "IPY_MODEL_196c83a3b43a46dca975be63611b8c09",
       "style": "IPY_MODEL_71d6521e73784030a9c16f27da25f7c9"
      }
     },
     "a3e1f0876d4e41ccb7d898ab0406ee9d": {
      "model_module": "@jupyter-widgets/base",
      "model_module_version": "1.1.0",
      "model_name": "LayoutModel",
      "state": {}
     },
     "a3f03fcf4b8e41fa99456f241c46966d": {
      "model_module": "@jupyter-widgets/base",
      "model_module_version": "1.1.0",
      "model_name": "LayoutModel",
      "state": {}
     },
     "a3f3b0415bb845da8edd0af1eab55f3b": {
      "model_module": "@jupyter-widgets/base",
      "model_module_version": "1.1.0",
      "model_name": "LayoutModel",
      "state": {}
     },
     "a4186895cadc469691eb71015b0edd98": {
      "model_module": "@jupyter-widgets/base",
      "model_module_version": "1.1.0",
      "model_name": "LayoutModel",
      "state": {}
     },
     "a44d29b016ad4d6c870ce9277e215271": {
      "model_module": "@jupyter-widgets/controls",
      "model_module_version": "1.4.0",
      "model_name": "DescriptionStyleModel",
      "state": {
       "description_width": ""
      }
     },
     "a46fd8631cf9438ab5210d7cf89016b7": {
      "model_module": "@jupyter-widgets/controls",
      "model_module_version": "1.4.0",
      "model_name": "ButtonStyleModel",
      "state": {}
     },
     "a4b48a1c7325497d9c130c56d1c0a738": {
      "model_module": "@jupyter-widgets/controls",
      "model_module_version": "1.4.0",
      "model_name": "ButtonStyleModel",
      "state": {}
     },
     "a4be604f40d44c71ac20cfeb5c89f296": {
      "model_module": "@jupyter-widgets/controls",
      "model_module_version": "1.4.0",
      "model_name": "ButtonModel",
      "state": {
       "_dom_classes": [
        "gridbutton",
        "b3"
       ],
       "disabled": true,
       "layout": "IPY_MODEL_196c83a3b43a46dca975be63611b8c09",
       "style": "IPY_MODEL_4dac459e367444898c64627bfe7b908c"
      }
     },
     "a4dcbba7294e4753aa9b792e138529e0": {
      "model_module": "@jupyter-widgets/controls",
      "model_module_version": "1.4.0",
      "model_name": "VBoxModel",
      "state": {
       "_dom_classes": [
        "widget-interact"
       ],
       "children": [
        "IPY_MODEL_e9cb59d80f2847d39c1248bff124c17d",
        "IPY_MODEL_a6dd4795e25847d2b3cbf810d84001ee"
       ],
       "layout": "IPY_MODEL_850c36b18a5246eca6477eae470732a8"
      }
     },
     "a4f60fe4adc44930a119a31116355ca4": {
      "model_module": "@jupyter-widgets/controls",
      "model_module_version": "1.4.0",
      "model_name": "ButtonStyleModel",
      "state": {}
     },
     "a5307cdb85e74283bd3dcbe73f407b46": {
      "model_module": "@jupyter-widgets/base",
      "model_module_version": "1.1.0",
      "model_name": "LayoutModel",
      "state": {}
     },
     "a54ec551c8b741cd82fc0a12e1b3673b": {
      "model_module": "@jupyter-widgets/base",
      "model_module_version": "1.1.0",
      "model_name": "LayoutModel",
      "state": {}
     },
     "a5523b2183e14067907040662f3f76b7": {
      "model_module": "@jupyter-widgets/controls",
      "model_module_version": "1.4.0",
      "model_name": "ToggleButtonModel",
      "state": {
       "_dom_classes": [
        "gridbutton",
        "addablebutton"
       ],
       "description": "+",
       "layout": "IPY_MODEL_24198035057f48ca81a6fa9a718c3f55",
       "style": "IPY_MODEL_03017ea2283a47749f5f52ac614f8bab",
       "tooltip": "Click to add a cell here"
      }
     },
     "a5559def05684230aabe721d87062171": {
      "model_module": "@jupyter-widgets/controls",
      "model_module_version": "1.4.0",
      "model_name": "ButtonModel",
      "state": {
       "_dom_classes": [
        "gridbutton",
        "b4"
       ],
       "disabled": true,
       "layout": "IPY_MODEL_581cef88be2741a9bde4fcb6422ff1b0",
       "style": "IPY_MODEL_4944e9c5282b456eb58ef2771a53c8b9"
      }
     },
     "a57f686265e7461e924b83053e787799": {
      "model_module": "@jupyter-widgets/base",
      "model_module_version": "1.1.0",
      "model_name": "LayoutModel",
      "state": {}
     },
     "a58b8e07614c41dea2f4dc4b462ee29f": {
      "model_module": "@jupyter-widgets/base",
      "model_module_version": "1.1.0",
      "model_name": "LayoutModel",
      "state": {}
     },
     "a59773c8785b4c31873cf76754961930": {
      "model_module": "@jupyter-widgets/controls",
      "model_module_version": "1.4.0",
      "model_name": "DescriptionStyleModel",
      "state": {
       "description_width": ""
      }
     },
     "a5a637327d674f5e96eabaaca03a39d9": {
      "model_module": "@jupyter-widgets/base",
      "model_module_version": "1.1.0",
      "model_name": "LayoutModel",
      "state": {}
     },
     "a5cc69990bc842018953e6da159753f9": {
      "model_module": "@jupyter-widgets/controls",
      "model_module_version": "1.4.0",
      "model_name": "ButtonStyleModel",
      "state": {}
     },
     "a6170a7e8046430da5985e2a4269d694": {
      "model_module": "@jupyter-widgets/controls",
      "model_module_version": "1.4.0",
      "model_name": "ButtonModel",
      "state": {
       "_dom_classes": [
        "gridbutton",
        "b1"
       ],
       "disabled": true,
       "layout": "IPY_MODEL_d861c29f26634ccfb59b53f634fc937d",
       "style": "IPY_MODEL_ee48a06fc08541248a7e4f489f1e0ba8"
      }
     },
     "a62c0d48cd4440849e6008187fb8a453": {
      "model_module": "@jupyter-widgets/controls",
      "model_module_version": "1.4.0",
      "model_name": "ButtonStyleModel",
      "state": {}
     },
     "a648a6c75e874ed5967a62ae9fa73d77": {
      "model_module": "@jupyter-widgets/controls",
      "model_module_version": "1.4.0",
      "model_name": "ToggleButtonModel",
      "state": {
       "_dom_classes": [
        "gridbutton"
       ],
       "layout": "IPY_MODEL_ae25d8ee9fe646ebb7fdd668d6ed6cab",
       "style": "IPY_MODEL_7e9f9a6665c4495091c243f41891427b",
       "tooltip": "0, 0"
      }
     },
     "a6531ba7fb8043a5ad0d6605f86930cb": {
      "model_module": "@jupyter-widgets/controls",
      "model_module_version": "1.4.0",
      "model_name": "TextModel",
      "state": {
       "_dom_classes": [
        "blankcell"
       ],
       "disabled": true,
       "layout": "IPY_MODEL_581cef88be2741a9bde4fcb6422ff1b0",
       "style": "IPY_MODEL_52ce3b802d90408aa9b8e3d530b91f54"
      }
     },
     "a67522f509a243d7a8bb495077091c97": {
      "model_module": "@jupyter-widgets/controls",
      "model_module_version": "1.4.0",
      "model_name": "TextModel",
      "state": {
       "_dom_classes": [
        "blankcell"
       ],
       "disabled": true,
       "layout": "IPY_MODEL_d861c29f26634ccfb59b53f634fc937d",
       "style": "IPY_MODEL_087811e0f76241f8bc051046795761a4"
      }
     },
     "a682ea60f15a4e0cacf5ebaa42163d0b": {
      "model_module": "@jupyter-widgets/controls",
      "model_module_version": "1.4.0",
      "model_name": "ButtonModel",
      "state": {
       "_dom_classes": [
        "gridbutton",
        "b2"
       ],
       "disabled": true,
       "layout": "IPY_MODEL_d861c29f26634ccfb59b53f634fc937d",
       "style": "IPY_MODEL_71d6d2d95c3046dd8fc8da68cb6fb7a6"
      }
     },
     "a691544a7e2b4f7eb56118df8952f996": {
      "model_module": "@jupyter-widgets/controls",
      "model_module_version": "1.4.0",
      "model_name": "DescriptionStyleModel",
      "state": {
       "description_width": ""
      }
     },
     "a6b19e776a1b4a1ea5161ccc5a2cf76e": {
      "model_module": "@jupyter-widgets/controls",
      "model_module_version": "1.4.0",
      "model_name": "ButtonStyleModel",
      "state": {}
     },
     "a6dd4795e25847d2b3cbf810d84001ee": {
      "model_module": "@jupyter-widgets/output",
      "model_module_version": "1.0.0",
      "model_name": "OutputModel",
      "state": {
       "layout": "IPY_MODEL_ff1e0f36410645f6b2c0f284873e93f0",
       "outputs": [
        {
         "data": {
          "text/plain": "┌───┬───┐\n│ 3 │ 1 │\n├───┼───┘\n│ 1 │\n└───┘"
         },
         "metadata": {},
         "output_type": "display_data"
        }
       ]
      }
     },
     "a6e16a66bce242f6bca6f44567ef8b5c": {
      "model_module": "@jupyter-widgets/controls",
      "model_module_version": "1.4.0",
      "model_name": "ButtonModel",
      "state": {
       "_dom_classes": [
        "gridbutton",
        "b3"
       ],
       "disabled": true,
       "layout": "IPY_MODEL_581cef88be2741a9bde4fcb6422ff1b0",
       "style": "IPY_MODEL_aa48ea2db5a94c3ca93ee70c2df51c59"
      }
     },
     "a6ef8f699827453c85964e569c92eb3e": {
      "model_module": "@jupyter-widgets/controls",
      "model_module_version": "1.4.0",
      "model_name": "ButtonModel",
      "state": {
       "_dom_classes": [
        "gridbutton",
        "b2"
       ],
       "disabled": true,
       "layout": "IPY_MODEL_d861c29f26634ccfb59b53f634fc937d",
       "style": "IPY_MODEL_d7fa549fd3fa4bd2a9417aff64bd4ae5"
      }
     },
     "a6f0dd5b4a8e4aec8437974c86d60468": {
      "model_module": "@jupyter-widgets/controls",
      "model_module_version": "1.4.0",
      "model_name": "ButtonModel",
      "state": {
       "_dom_classes": [
        "gridbutton",
        "b2"
       ],
       "disabled": true,
       "layout": "IPY_MODEL_581cef88be2741a9bde4fcb6422ff1b0",
       "style": "IPY_MODEL_12a7687ac6044f0c980d4f9a2a50c7be"
      }
     },
     "a6f901ed4bbc4946be4e46043013224a": {
      "model_module": "@jupyter-widgets/controls",
      "model_module_version": "1.4.0",
      "model_name": "ToggleButtonModel",
      "state": {
       "_dom_classes": [
        "gridbutton"
       ],
       "layout": "IPY_MODEL_ae25d8ee9fe646ebb7fdd668d6ed6cab",
       "style": "IPY_MODEL_3f867dcabf5048b99323eea7ea907ad1",
       "tooltip": "0, 5"
      }
     },
     "a6fc4bc9e3f04ba7b9de4a1ea0e8c001": {
      "model_module": "@jupyter-widgets/controls",
      "model_module_version": "1.4.0",
      "model_name": "ButtonModel",
      "state": {
       "_dom_classes": [
        "gridbutton",
        "b4"
       ],
       "disabled": true,
       "layout": "IPY_MODEL_d861c29f26634ccfb59b53f634fc937d",
       "style": "IPY_MODEL_9511dc7426534fd2b67cf874196d563d"
      }
     },
     "a71461779042444b9c89c2bca614b3c4": {
      "model_module": "@jupyter-widgets/controls",
      "model_module_version": "1.4.0",
      "model_name": "HBoxModel",
      "state": {
       "children": [
        "IPY_MODEL_94821a2f2d0747e69cb423d9556270ae",
        "IPY_MODEL_3e592bd0d4d94304ad0cc5f49c2a59ef",
        "IPY_MODEL_340e92a376844438813f6ed5c0f49c91",
        "IPY_MODEL_ac002892bf3c495cbe893f9774d83523",
        "IPY_MODEL_0a99906c47324b3c8bf9be5e9ba596de",
        "IPY_MODEL_0a6fbe89a84c4e34a81590f1cd6b6f7e",
        "IPY_MODEL_c6c3764086df497fa2878aff4e49fa5c",
        "IPY_MODEL_19ee1d4f7b5640e686bf0a1366dc857e",
        "IPY_MODEL_2ce3274b2ae245a696672486eeeebade",
        "IPY_MODEL_c5495155d22948669abfde7106850804",
        "IPY_MODEL_f81e0aab94b74b43b3b77738e4f1c4b0",
        "IPY_MODEL_2d739de8fa744006845461ee0cf61af1",
        "IPY_MODEL_94fa79620c2648c590674f914710a13e",
        "IPY_MODEL_189d2c51b2c44d71a9facc57f27b19b4",
        "IPY_MODEL_33ea6cfddd094eedb4bedba38f895547"
       ],
       "layout": "IPY_MODEL_ae84f7d21bcb4d76ab39eede3ee5f751"
      }
     },
     "a74a1ce8ffd545eb9a96d3fb2df74915": {
      "model_module": "@jupyter-widgets/controls",
      "model_module_version": "1.4.0",
      "model_name": "ButtonModel",
      "state": {
       "_dom_classes": [
        "gridbutton",
        "b2"
       ],
       "disabled": true,
       "layout": "IPY_MODEL_581cef88be2741a9bde4fcb6422ff1b0",
       "style": "IPY_MODEL_04e4f6ad40ea4fb597a7122e7a1b2447"
      }
     },
     "a74ce76f38cf46d6a44e64d62deef21f": {
      "model_module": "@jupyter-widgets/controls",
      "model_module_version": "1.4.0",
      "model_name": "DescriptionStyleModel",
      "state": {
       "description_width": ""
      }
     },
     "a764c58e783c433aa79ce2507b603bcc": {
      "model_module": "@jupyter-widgets/controls",
      "model_module_version": "1.4.0",
      "model_name": "ButtonModel",
      "state": {
       "_dom_classes": [
        "gridbutton",
        "b3"
       ],
       "disabled": true,
       "layout": "IPY_MODEL_581cef88be2741a9bde4fcb6422ff1b0",
       "style": "IPY_MODEL_d8c9ab7afd22486285e64a01412387c5"
      }
     },
     "a77e2c3b184f41e1914996070e932aac": {
      "model_module": "@jupyter-widgets/base",
      "model_module_version": "1.1.0",
      "model_name": "LayoutModel",
      "state": {}
     },
     "a780b8a66b6844ac97d8e76288d514b3": {
      "model_module": "@jupyter-widgets/base",
      "model_module_version": "1.1.0",
      "model_name": "LayoutModel",
      "state": {}
     },
     "a78ef06193aa4588b84f1ef3af3de475": {
      "model_module": "@jupyter-widgets/base",
      "model_module_version": "1.1.0",
      "model_name": "LayoutModel",
      "state": {}
     },
     "a7968bec0c6c4b7bb58c2d1c14376ad3": {
      "model_module": "@jupyter-widgets/controls",
      "model_module_version": "1.4.0",
      "model_name": "ButtonStyleModel",
      "state": {}
     },
     "a7d0b837f4ba4b319aea725da385bd5e": {
      "model_module": "@jupyter-widgets/base",
      "model_module_version": "1.1.0",
      "model_name": "LayoutModel",
      "state": {}
     },
     "a7d468ca31a846a3905f4a27c05a3869": {
      "model_module": "@jupyter-widgets/base",
      "model_module_version": "1.1.0",
      "model_name": "LayoutModel",
      "state": {}
     },
     "a7ee894c61d94156a2c6161f49718040": {
      "model_module": "@jupyter-widgets/base",
      "model_module_version": "1.1.0",
      "model_name": "LayoutModel",
      "state": {}
     },
     "a804e550f0c947d2a05507621a5f2b98": {
      "model_module": "@jupyter-widgets/base",
      "model_module_version": "1.1.0",
      "model_name": "LayoutModel",
      "state": {}
     },
     "a8254fea41e544b39eae526aeb8e0f6e": {
      "model_module": "@jupyter-widgets/controls",
      "model_module_version": "1.4.0",
      "model_name": "TextModel",
      "state": {
       "_dom_classes": [
        "gridcell",
        "removablecell"
       ],
       "_view_module": "sage-combinat-widgets",
       "_view_module_version": "^0.2.0",
       "_view_name": "TextWithTooltipView",
       "continuous_update": false,
       "description_tooltip": "",
       "layout": "IPY_MODEL_ae25d8ee9fe646ebb7fdd668d6ed6cab",
       "style": "IPY_MODEL_9f29c126f409401394965c0ac35e869f",
       "value": "14"
      }
     },
     "a82e42ef2f674637b45a355a14d9f484": {
      "model_module": "@jupyter-widgets/controls",
      "model_module_version": "1.4.0",
      "model_name": "HBoxModel",
      "state": {
       "children": [
        "IPY_MODEL_274ec5a2df7f403981def101d9506991"
       ],
       "layout": "IPY_MODEL_27bdc0f7e4884b0983058ffe30fa04aa"
      }
     },
     "a85b1262cc0e408cb1bf4065209d83cd": {
      "model_module": "@jupyter-widgets/controls",
      "model_module_version": "1.4.0",
      "model_name": "HBoxModel",
      "state": {
       "children": [
        "IPY_MODEL_13650043f9b3443aa88e59b2d7482cf4"
       ],
       "layout": "IPY_MODEL_dc74fe02bc1e43da96522f8345168440"
      }
     },
     "a86080bde4864562a792927f85255553": {
      "model_module": "@jupyter-widgets/controls",
      "model_module_version": "1.4.0",
      "model_name": "ButtonModel",
      "state": {
       "_dom_classes": [
        "gridbutton",
        "b1"
       ],
       "disabled": true,
       "layout": "IPY_MODEL_581cef88be2741a9bde4fcb6422ff1b0",
       "style": "IPY_MODEL_54e60e80ee2b4610a0aa4de2b267d9cc"
      }
     },
     "a88a394011e546bfb7dfbe042c8aac8f": {
      "model_module": "@jupyter-widgets/base",
      "model_module_version": "1.1.0",
      "model_name": "LayoutModel",
      "state": {}
     },
     "a88ea0f745944969ab125e4cfb7b574c": {
      "model_module": "@jupyter-widgets/controls",
      "model_module_version": "1.4.0",
      "model_name": "HBoxModel",
      "state": {
       "children": [
        "IPY_MODEL_615fd163c68145b68b177a9d9cc24189",
        "IPY_MODEL_6aea49a64d574de79690cc8b8462f5d1",
        "IPY_MODEL_3a4f80da07514047be6123927ae7ac15",
        "IPY_MODEL_956a5ef2b69740fc90d0dd80489f80bb",
        "IPY_MODEL_cc318c4f2e1149dcb20f5fe34ad073da",
        "IPY_MODEL_9d49fc9685154e1185ebed3aff8cc542",
        "IPY_MODEL_ee81a8ed961d417fa906e9372773767f",
        "IPY_MODEL_6c928806ca7e4c229d8edb3cf5fc1679",
        "IPY_MODEL_0257746b65784e7da05901181e12aa2f",
        "IPY_MODEL_1f6dbf911fbd41b0af57820a95a93c20",
        "IPY_MODEL_e5b9a3ebaa6949f6bdb767f031438ef2",
        "IPY_MODEL_3f85f1ebfed8412297912442fe5ca778"
       ],
       "layout": "IPY_MODEL_9863f8ff2f0746bbb8a329c62c1cc159"
      }
     },
     "a89158cd5c384e88a9d4233df3ca89e2": {
      "model_module": "@jupyter-widgets/controls",
      "model_module_version": "1.4.0",
      "model_name": "ButtonStyleModel",
      "state": {}
     },
     "a8a23f3d37494f2b87b5569f15223218": {
      "model_module": "@jupyter-widgets/controls",
      "model_module_version": "1.4.0",
      "model_name": "DescriptionStyleModel",
      "state": {
       "description_width": ""
      }
     },
     "a8f99748793846e38ee72097431df623": {
      "model_module": "@jupyter-widgets/controls",
      "model_module_version": "1.4.0",
      "model_name": "ToggleButtonModel",
      "state": {
       "_dom_classes": [
        "gridbutton"
       ],
       "description": "-",
       "layout": "IPY_MODEL_742ce9cb5c1a4d358dd3aef0fa324d55",
       "style": "IPY_MODEL_eec14d249df64d83840f24dd91a7ae9f",
       "tooltip": "1, 3"
      }
     },
     "a90461414f8340ab99a50644df7a4f49": {
      "model_module": "@jupyter-widgets/base",
      "model_module_version": "1.1.0",
      "model_name": "LayoutModel",
      "state": {}
     },
     "a91790f01a7b420388ef555dd4f93d0a": {
      "model_module": "@jupyter-widgets/controls",
      "model_module_version": "1.4.0",
      "model_name": "TextModel",
      "state": {
       "_dom_classes": [
        "gridcell"
       ],
       "_view_module": "sage-combinat-widgets",
       "_view_module_version": "^0.2.0",
       "_view_name": "TextWithTooltipView",
       "continuous_update": false,
       "description_tooltip": "",
       "layout": "IPY_MODEL_ae25d8ee9fe646ebb7fdd668d6ed6cab",
       "style": "IPY_MODEL_ff1831e8ccf547dabccab5a00cb183f2",
       "value": "10"
      }
     },
     "a937f4ff76a3435bafe527d4351dda51": {
      "model_module": "@jupyter-widgets/base",
      "model_module_version": "1.1.0",
      "model_name": "LayoutModel",
      "state": {}
     },
     "a958f66629a54a06be9fdbccb217c7d6": {
      "model_module": "@jupyter-widgets/base",
      "model_module_version": "1.1.0",
      "model_name": "LayoutModel",
      "state": {}
     },
     "a96310192fe54488b4b5ebfc7f5f89f1": {
      "model_module": "@jupyter-widgets/base",
      "model_module_version": "1.1.0",
      "model_name": "LayoutModel",
      "state": {}
     },
     "a96cf40759a843d4820e0505f00f4e57": {
      "model_module": "@jupyter-widgets/base",
      "model_module_version": "1.1.0",
      "model_name": "LayoutModel",
      "state": {}
     },
     "a97710d5508849cab11d5ab933419ed8": {
      "model_module": "@jupyter-widgets/base",
      "model_module_version": "1.1.0",
      "model_name": "LayoutModel",
      "state": {}
     },
     "a97e96ad632d48158489671b0f0dec28": {
      "model_module": "@jupyter-widgets/base",
      "model_module_version": "1.1.0",
      "model_name": "LayoutModel",
      "state": {}
     },
     "a98bfc72725a45fabacd31dd1aad89d1": {
      "model_module": "@jupyter-widgets/controls",
      "model_module_version": "1.4.0",
      "model_name": "ButtonStyleModel",
      "state": {}
     },
     "a99fc95c1dca4ebeb64b79c8e538f0d8": {
      "model_module": "@jupyter-widgets/controls",
      "model_module_version": "1.4.0",
      "model_name": "ButtonStyleModel",
      "state": {}
     },
     "a99fd5c0569d42b7ae68290d55b20920": {
      "model_module": "@jupyter-widgets/controls",
      "model_module_version": "1.4.0",
      "model_name": "DescriptionStyleModel",
      "state": {
       "description_width": ""
      }
     },
     "a9bb7a2283b74652979b750ceb34b938": {
      "model_module": "@jupyter-widgets/controls",
      "model_module_version": "1.4.0",
      "model_name": "ButtonStyleModel",
      "state": {}
     },
     "a9c53c3790034e67b3ec847d1e7c871d": {
      "model_module": "@jupyter-widgets/controls",
      "model_module_version": "1.4.0",
      "model_name": "ButtonModel",
      "state": {
       "_dom_classes": [
        "gridbutton",
        "b2"
       ],
       "disabled": true,
       "layout": "IPY_MODEL_196c83a3b43a46dca975be63611b8c09",
       "style": "IPY_MODEL_e11756c0130f4783856b187f6506ae99"
      }
     },
     "a9cfc32863b847eb8cabba7a35817ab5": {
      "model_module": "@jupyter-widgets/controls",
      "model_module_version": "1.4.0",
      "model_name": "ButtonStyleModel",
      "state": {}
     },
     "aa0583fd9fc743e39935a7d72fd32ba2": {
      "model_module": "@jupyter-widgets/controls",
      "model_module_version": "1.4.0",
      "model_name": "TextModel",
      "state": {
       "_dom_classes": [
        "gridcell",
        "removablecell"
       ],
       "_view_module": "sage-combinat-widgets",
       "_view_module_version": "^0.2.0",
       "_view_name": "TextWithTooltipView",
       "continuous_update": false,
       "description_tooltip": "",
       "layout": "IPY_MODEL_766582b5db4b44c3b9eb63d9400a6c69",
       "style": "IPY_MODEL_50b19b09436949b4b2e0cb8eb18cc412",
       "value": "14"
      }
     },
     "aa07bbd7f9b54863912c1c775d357ae1": {
      "model_module": "@jupyter-widgets/controls",
      "model_module_version": "1.4.0",
      "model_name": "ButtonStyleModel",
      "state": {}
     },
     "aa1663d4a21b4b07b2613f3b45d5b750": {
      "model_module": "@jupyter-widgets/controls",
      "model_module_version": "1.4.0",
      "model_name": "TextModel",
      "state": {
       "_dom_classes": [
        "blankcell"
       ],
       "disabled": true,
       "layout": "IPY_MODEL_d861c29f26634ccfb59b53f634fc937d",
       "style": "IPY_MODEL_07351519c0f24321b671d5b6941701df"
      }
     },
     "aa206614759943bf93595f422b9385c4": {
      "model_module": "@jupyter-widgets/base",
      "model_module_version": "1.1.0",
      "model_name": "LayoutModel",
      "state": {}
     },
     "aa48ea2db5a94c3ca93ee70c2df51c59": {
      "model_module": "@jupyter-widgets/controls",
      "model_module_version": "1.4.0",
      "model_name": "ButtonStyleModel",
      "state": {}
     },
     "aa49423218a146e79ce3f13c9886ea81": {
      "model_module": "@jupyter-widgets/controls",
      "model_module_version": "1.4.0",
      "model_name": "DescriptionStyleModel",
      "state": {
       "description_width": ""
      }
     },
     "aa50c744c6d94edc94228197dc156c8c": {
      "model_module": "@jupyter-widgets/base",
      "model_module_version": "1.1.0",
      "model_name": "LayoutModel",
      "state": {}
     },
     "aa59d317e82540bf827e0110cce40a23": {
      "model_module": "@jupyter-widgets/controls",
      "model_module_version": "1.4.0",
      "model_name": "ToggleButtonModel",
      "state": {
       "_dom_classes": [
        "gridbutton",
        "addablebutton"
       ],
       "description": "+",
       "layout": "IPY_MODEL_742ce9cb5c1a4d358dd3aef0fa324d55",
       "style": "IPY_MODEL_1050fc5752f44821bec0eb3746873027",
       "tooltip": "Click to add a cell here"
      }
     },
     "aa711c42ecdf47f1bb6c9372484d277a": {
      "model_module": "@jupyter-widgets/controls",
      "model_module_version": "1.4.0",
      "model_name": "DescriptionStyleModel",
      "state": {
       "description_width": ""
      }
     },
     "aa7bd6ce316c43fd956dad84132d5159": {
      "model_module": "@jupyter-widgets/controls",
      "model_module_version": "1.4.0",
      "model_name": "TextModel",
      "state": {
       "_dom_classes": [
        "gridcell",
        "addablecell"
       ],
       "_view_module": "sage-combinat-widgets",
       "_view_module_version": "^0.2.0",
       "_view_name": "TextWithTooltipView",
       "continuous_update": false,
       "description_tooltip": "",
       "layout": "IPY_MODEL_24198035057f48ca81a6fa9a718c3f55",
       "style": "IPY_MODEL_6ce829b7dbee4162af225715c7a5ced9"
      }
     },
     "aa9c8da0341647ac97e2dbfcb27fc59b": {
      "model_module": "@jupyter-widgets/base",
      "model_module_version": "1.1.0",
      "model_name": "LayoutModel",
      "state": {}
     },
     "aaaf157ff6474d0cb0418fc1a7d4aca0": {
      "model_module": "@jupyter-widgets/controls",
      "model_module_version": "1.4.0",
      "model_name": "HBoxModel",
      "state": {
       "children": [
        "IPY_MODEL_91df0cae53894e8bad026208efa109ef",
        "IPY_MODEL_f12be9d94be64b448aca7b3a465f6246",
        "IPY_MODEL_6b2ff07b7e024e4393babcc20dacc2b6",
        "IPY_MODEL_d0d6be6b650e4fce93c48726ebe74db7",
        "IPY_MODEL_dc73f0808c4e471990f24a6ae8316fb2",
        "IPY_MODEL_5ded5c0d736845fd988c6b814ff19d4c",
        "IPY_MODEL_51f0a9c20de14c72b81e9def18b1bae5",
        "IPY_MODEL_96f3fb8bff1b4dbba221a8cc8478b47c",
        "IPY_MODEL_247c270786b14e8cbb15e82421277893",
        "IPY_MODEL_97e3908154e74c1e812eca888f301619",
        "IPY_MODEL_ef904aebb2834f299fd71129817f6360"
       ],
       "layout": "IPY_MODEL_e2098940059a450988ac1837144cb614"
      }
     },
     "aac0791e83a9410f8b18d242af158508": {
      "model_module": "@jupyter-widgets/controls",
      "model_module_version": "1.4.0",
      "model_name": "ButtonStyleModel",
      "state": {}
     },
     "aac0c5be933a488493fe329906f6af43": {
      "model_module": "@jupyter-widgets/controls",
      "model_module_version": "1.4.0",
      "model_name": "ButtonStyleModel",
      "state": {}
     },
     "aae1a170b6fe4e4f80bdf71e944540d1": {
      "model_module": "@jupyter-widgets/controls",
      "model_module_version": "1.4.0",
      "model_name": "ButtonModel",
      "state": {
       "_dom_classes": [
        "gridbutton",
        "b2"
       ],
       "disabled": true,
       "layout": "IPY_MODEL_196c83a3b43a46dca975be63611b8c09",
       "style": "IPY_MODEL_c78a6a1913ea4633815ec17b31f656ed"
      }
     },
     "ab0e6343b9f04ac48d88adfa65d0cb36": {
      "model_module": "@jupyter-widgets/controls",
      "model_module_version": "1.4.0",
      "model_name": "HBoxModel",
      "state": {
       "children": [
        "IPY_MODEL_0f6558276d344ce9bbaef20ca8304b4a",
        "IPY_MODEL_f21fe8b39c5c4f59a5262da8d3f23cf4",
        "IPY_MODEL_ad993a4e34c74018adbe7b89ee294e20",
        "IPY_MODEL_bf4b97b826c148a5b02281e682986b32",
        "IPY_MODEL_3bb891c2cba2415f8d87321f1957f819",
        "IPY_MODEL_aa7bd6ce316c43fd956dad84132d5159"
       ],
       "layout": "IPY_MODEL_e769c9b487db49dbb46eab086c5ec620"
      }
     },
     "ab108064bbc84a749992b1d913668802": {
      "model_module": "@jupyter-widgets/base",
      "model_module_version": "1.1.0",
      "model_name": "LayoutModel",
      "state": {}
     },
     "ab212e0ba1a54d72a8219e6cdc0685fa": {
      "model_module": "@jupyter-widgets/controls",
      "model_module_version": "1.4.0",
      "model_name": "ButtonStyleModel",
      "state": {}
     },
     "ab2e59c8475a4284bb0d26d5b90fe787": {
      "model_module": "@jupyter-widgets/controls",
      "model_module_version": "1.4.0",
      "model_name": "DescriptionStyleModel",
      "state": {
       "description_width": ""
      }
     },
     "ab3c2bbd4cfc450aa38448f0f9227314": {
      "model_module": "@jupyter-widgets/base",
      "model_module_version": "1.1.0",
      "model_name": "LayoutModel",
      "state": {}
     },
     "ab55b19437d84c7da59502c04aaf8900": {
      "model_module": "@jupyter-widgets/controls",
      "model_module_version": "1.4.0",
      "model_name": "DescriptionStyleModel",
      "state": {
       "description_width": ""
      }
     },
     "ab74d16804104aee92590ffa3c3df3b0": {
      "model_module": "@jupyter-widgets/controls",
      "model_module_version": "1.4.0",
      "model_name": "TextModel",
      "state": {
       "_dom_classes": [
        "gridcell",
        "addablecell"
       ],
       "_view_module": "sage-combinat-widgets",
       "_view_module_version": "^0.2.0",
       "_view_name": "TextWithTooltipView",
       "continuous_update": false,
       "description_tooltip": "",
       "layout": "IPY_MODEL_766582b5db4b44c3b9eb63d9400a6c69",
       "style": "IPY_MODEL_efe88b46c9a34ab4aa6457bbf3d7808f"
      }
     },
     "ab7e5530d23c4ac5ae8aa5b642cfd4bf": {
      "model_module": "@jupyter-widgets/controls",
      "model_module_version": "1.4.0",
      "model_name": "ButtonStyleModel",
      "state": {}
     },
     "abbcad1501f345baa401f85adf7f9a2f": {
      "model_module": "@jupyter-widgets/base",
      "model_module_version": "1.1.0",
      "model_name": "LayoutModel",
      "state": {}
     },
     "abd2473920c44c26a2c8983e1cd5085f": {
      "model_module": "@jupyter-widgets/controls",
      "model_module_version": "1.4.0",
      "model_name": "TextModel",
      "state": {
       "_dom_classes": [
        "gridcell"
       ],
       "_view_module": "sage-combinat-widgets",
       "_view_module_version": "^0.2.0",
       "_view_name": "TextWithTooltipView",
       "continuous_update": false,
       "description_tooltip": "",
       "layout": "IPY_MODEL_ae25d8ee9fe646ebb7fdd668d6ed6cab",
       "style": "IPY_MODEL_87b3b595f417478e955cfd8fdd2b5ebc",
       "value": "8"
      }
     },
     "abe73b03e70c488089a6d606a98ed344": {
      "model_module": "@jupyter-widgets/base",
      "model_module_version": "1.1.0",
      "model_name": "LayoutModel",
      "state": {}
     },
     "ac002892bf3c495cbe893f9774d83523": {
      "model_module": "@jupyter-widgets/controls",
      "model_module_version": "1.4.0",
      "model_name": "ButtonModel",
      "state": {
       "_dom_classes": [
        "gridbutton",
        "b1"
       ],
       "disabled": true,
       "layout": "IPY_MODEL_581cef88be2741a9bde4fcb6422ff1b0",
       "style": "IPY_MODEL_1f0467b11f414766b6a6b63e0ded4a5b"
      }
     },
     "ac01398dd0174d5db2dc004b794ac7fa": {
      "model_module": "@jupyter-widgets/base",
      "model_module_version": "1.1.0",
      "model_name": "LayoutModel",
      "state": {}
     },
     "ac1e691ff6904d7f9e92a449c05fcb43": {
      "model_module": "@jupyter-widgets/controls",
      "model_module_version": "1.4.0",
      "model_name": "ButtonStyleModel",
      "state": {}
     },
     "ac21c074a39a4048aeaec91939a3ee11": {
      "model_module": "@jupyter-widgets/controls",
      "model_module_version": "1.4.0",
      "model_name": "ButtonStyleModel",
      "state": {}
     },
     "ac2e04283773431d931e4d9a3211d996": {
      "model_module": "@jupyter-widgets/controls",
      "model_module_version": "1.4.0",
      "model_name": "ButtonModel",
      "state": {
       "_dom_classes": [
        "gridbutton",
        "b1"
       ],
       "disabled": true,
       "layout": "IPY_MODEL_d861c29f26634ccfb59b53f634fc937d",
       "style": "IPY_MODEL_975bc5d159964b09a172b1163bf09ec2"
      }
     },
     "ac3f3661183843b285bf1fa1d9980463": {
      "model_module": "@jupyter-widgets/controls",
      "model_module_version": "1.4.0",
      "model_name": "DescriptionStyleModel",
      "state": {
       "description_width": ""
      }
     },
     "ac46cb10e77b44bd82e3be9e979d73b0": {
      "model_module": "@jupyter-widgets/controls",
      "model_module_version": "1.4.0",
      "model_name": "DescriptionStyleModel",
      "state": {
       "description_width": ""
      }
     },
     "ac6b82f82aa043dc96d0da1aa7ce32b8": {
      "model_module": "@jupyter-widgets/controls",
      "model_module_version": "1.4.0",
      "model_name": "ButtonModel",
      "state": {
       "_dom_classes": [
        "gridbutton",
        "b2"
       ],
       "disabled": true,
       "layout": "IPY_MODEL_196c83a3b43a46dca975be63611b8c09",
       "style": "IPY_MODEL_061b02900e1840b6a1a1dfbe86791af4"
      }
     },
     "acdfb3c333c34d0386e0d5e98837d992": {
      "model_module": "@jupyter-widgets/controls",
      "model_module_version": "1.4.0",
      "model_name": "TextModel",
      "state": {
       "_dom_classes": [
        "blankcell"
       ],
       "disabled": true,
       "layout": "IPY_MODEL_581cef88be2741a9bde4fcb6422ff1b0",
       "style": "IPY_MODEL_f5e61c0515e34954b9ab7970bd31bf78"
      }
     },
     "acff02940c7d476a8a037c48e5de25eb": {
      "model_module": "@jupyter-widgets/controls",
      "model_module_version": "1.4.0",
      "model_name": "DescriptionStyleModel",
      "state": {
       "description_width": ""
      }
     },
     "ad0bffa9101e461dbc10735fec5a2044": {
      "model_module": "@jupyter-widgets/controls",
      "model_module_version": "1.4.0",
      "model_name": "DescriptionStyleModel",
      "state": {
       "description_width": ""
      }
     },
     "ad0dfcc0888541f89512a43900ed6dc4": {
      "model_module": "@jupyter-widgets/controls",
      "model_module_version": "1.4.0",
      "model_name": "ButtonModel",
      "state": {
       "_dom_classes": [
        "gridbutton",
        "b1"
       ],
       "disabled": true,
       "layout": "IPY_MODEL_196c83a3b43a46dca975be63611b8c09",
       "style": "IPY_MODEL_f9524da6f2e647d0a5f01fa60842ce14"
      }
     },
     "ad2ad339b9304540941b55b6e6f120a0": {
      "model_module": "@jupyter-widgets/controls",
      "model_module_version": "1.4.0",
      "model_name": "ButtonStyleModel",
      "state": {}
     },
     "ad4fe0b5460348adac84c3b3fce68922": {
      "model_module": "@jupyter-widgets/controls",
      "model_module_version": "1.4.0",
      "model_name": "ButtonModel",
      "state": {
       "_dom_classes": [
        "gridbutton",
        "b4"
       ],
       "disabled": true,
       "layout": "IPY_MODEL_196c83a3b43a46dca975be63611b8c09",
       "style": "IPY_MODEL_336bd4f40aa4494d9c2af4343bc3f843"
      }
     },
     "ad6e68a4d58045f1966b18ebb1ee036d": {
      "model_module": "@jupyter-widgets/base",
      "model_module_version": "1.1.0",
      "model_name": "LayoutModel",
      "state": {}
     },
     "ad770bab311542e586809bb07101842c": {
      "model_module": "@jupyter-widgets/controls",
      "model_module_version": "1.4.0",
      "model_name": "TextModel",
      "state": {
       "layout": "IPY_MODEL_d7cb47fe77184d4c9410d16a9b6e58c1",
       "style": "IPY_MODEL_1849cba829ec49778bed1806b19210ec"
      }
     },
     "ad85655fd9df47f8900b454aa157c120": {
      "model_module": "@jupyter-widgets/controls",
      "model_module_version": "1.4.0",
      "model_name": "ButtonModel",
      "state": {
       "_dom_classes": [
        "gridbutton",
        "b2"
       ],
       "disabled": true,
       "layout": "IPY_MODEL_196c83a3b43a46dca975be63611b8c09",
       "style": "IPY_MODEL_4d6525ee35eb498eac58476f1151f93e"
      }
     },
     "ad87ce9a896a44bf909a6adc23687c74": {
      "model_module": "@jupyter-widgets/base",
      "model_module_version": "1.1.0",
      "model_name": "LayoutModel",
      "state": {}
     },
     "ad8f392d128b411881638b8f7e0d62e7": {
      "model_module": "@jupyter-widgets/controls",
      "model_module_version": "1.4.0",
      "model_name": "TextModel",
      "state": {
       "_dom_classes": [
        "gridcell",
        "addablecell"
       ],
       "_view_module": "sage-combinat-widgets",
       "_view_module_version": "^0.2.0",
       "_view_name": "TextWithTooltipView",
       "continuous_update": false,
       "description_tooltip": "",
       "layout": "IPY_MODEL_ae25d8ee9fe646ebb7fdd668d6ed6cab",
       "style": "IPY_MODEL_b18f0e6ee8fc4d38824663eea8ec39cf"
      }
     },
     "ad993a4e34c74018adbe7b89ee294e20": {
      "model_module": "@jupyter-widgets/controls",
      "model_module_version": "1.4.0",
      "model_name": "TextModel",
      "state": {
       "_dom_classes": [
        "gridcell"
       ],
       "_view_module": "sage-combinat-widgets",
       "_view_module_version": "^0.2.0",
       "_view_name": "TextWithTooltipView",
       "continuous_update": false,
       "description_tooltip": "",
       "layout": "IPY_MODEL_24198035057f48ca81a6fa9a718c3f55",
       "style": "IPY_MODEL_ac3f3661183843b285bf1fa1d9980463",
       "value": "4"
      }
     },
     "adad27e8c1d14b7488759afc91a5c399": {
      "model_module": "@jupyter-widgets/controls",
      "model_module_version": "1.4.0",
      "model_name": "TextModel",
      "state": {
       "_dom_classes": [
        "blankcell"
       ],
       "disabled": true,
       "layout": "IPY_MODEL_581cef88be2741a9bde4fcb6422ff1b0",
       "style": "IPY_MODEL_ac46cb10e77b44bd82e3be9e979d73b0"
      }
     },
     "add2ca04cfda481cb76f9f59f973b276": {
      "model_module": "@jupyter-widgets/base",
      "model_module_version": "1.1.0",
      "model_name": "LayoutModel",
      "state": {}
     },
     "addef79540334dd4a41b99a857e56ab0": {
      "model_module": "@jupyter-widgets/controls",
      "model_module_version": "1.4.0",
      "model_name": "DescriptionStyleModel",
      "state": {
       "description_width": ""
      }
     },
     "adf716cb925e4d5ba15c2bdd2c5c65c3": {
      "model_module": "@jupyter-widgets/controls",
      "model_module_version": "1.4.0",
      "model_name": "ButtonModel",
      "state": {
       "_dom_classes": [
        "gridbutton",
        "b3"
       ],
       "disabled": true,
       "layout": "IPY_MODEL_d861c29f26634ccfb59b53f634fc937d",
       "style": "IPY_MODEL_dbd28b04bca844a39a23d8bcf33be545"
      }
     },
     "ae1d4e6d7b984c91956daf9bea0b91a9": {
      "model_module": "@jupyter-widgets/controls",
      "model_module_version": "1.4.0",
      "model_name": "ButtonStyleModel",
      "state": {}
     },
     "ae232091e30c4123a01d06507050f066": {
      "model_module": "@jupyter-widgets/controls",
      "model_module_version": "1.4.0",
      "model_name": "ButtonStyleModel",
      "state": {}
     },
     "ae25d8ee9fe646ebb7fdd668d6ed6cab": {
      "model_module": "@jupyter-widgets/base",
      "model_module_version": "1.1.0",
      "model_name": "LayoutModel",
      "state": {
       "height": "2em",
       "margin": "0",
       "padding": "0",
       "width": "3em"
      }
     },
     "ae42d7ed5eb342cf959d7e8e995abcf0": {
      "model_module": "@jupyter-widgets/controls",
      "model_module_version": "1.4.0",
      "model_name": "ButtonModel",
      "state": {
       "_dom_classes": [
        "gridbutton",
        "b3"
       ],
       "disabled": true,
       "layout": "IPY_MODEL_581cef88be2741a9bde4fcb6422ff1b0",
       "style": "IPY_MODEL_57d8fa662a624734a3db032be63649de"
      }
     },
     "ae4d92841a824738835aa6512bb74e29": {
      "model_module": "@jupyter-widgets/controls",
      "model_module_version": "1.4.0",
      "model_name": "TextModel",
      "state": {
       "_dom_classes": [
        "blankcell"
       ],
       "disabled": true,
       "layout": "IPY_MODEL_581cef88be2741a9bde4fcb6422ff1b0",
       "style": "IPY_MODEL_454da62606f04bf0964edb3d3d444955"
      }
     },
     "ae816404609f4a97b071498b22377788": {
      "model_module": "@jupyter-widgets/controls",
      "model_module_version": "1.4.0",
      "model_name": "ButtonModel",
      "state": {
       "_dom_classes": [
        "gridbutton",
        "b4"
       ],
       "disabled": true,
       "layout": "IPY_MODEL_581cef88be2741a9bde4fcb6422ff1b0",
       "style": "IPY_MODEL_1cf39e20d3914c39a0971804d400dd1d"
      }
     },
     "ae84f7d21bcb4d76ab39eede3ee5f751": {
      "model_module": "@jupyter-widgets/base",
      "model_module_version": "1.1.0",
      "model_name": "LayoutModel",
      "state": {}
     },
     "ae8a3588fdf946ff9a72a96869410bb7": {
      "model_module": "@jupyter-widgets/controls",
      "model_module_version": "1.4.0",
      "model_name": "ButtonModel",
      "state": {
       "_dom_classes": [
        "gridbutton",
        "b1"
       ],
       "disabled": true,
       "layout": "IPY_MODEL_196c83a3b43a46dca975be63611b8c09",
       "style": "IPY_MODEL_6b1b87a12ec24fc5bd2cfa6b8127bd92"
      }
     },
     "ae8e0f6da53f44d697f3411b3d4e4424": {
      "model_module": "@jupyter-widgets/controls",
      "model_module_version": "1.4.0",
      "model_name": "ButtonStyleModel",
      "state": {}
     },
     "ae9cc591bc094d08acc5fcf2f3c8bec4": {
      "model_module": "@jupyter-widgets/controls",
      "model_module_version": "1.4.0",
      "model_name": "ButtonModel",
      "state": {
       "_dom_classes": [
        "gridbutton",
        "b1"
       ],
       "disabled": true,
       "layout": "IPY_MODEL_d861c29f26634ccfb59b53f634fc937d",
       "style": "IPY_MODEL_46d2a48e813247228b517b0778e4fb9c"
      }
     },
     "aeb3aafadffb452c8fd092f5efebfef6": {
      "model_module": "@jupyter-widgets/controls",
      "model_module_version": "1.4.0",
      "model_name": "ButtonStyleModel",
      "state": {}
     },
     "aeb6c61ad3fa4b94ab7bec11e2b578e8": {
      "model_module": "@jupyter-widgets/base",
      "model_module_version": "1.1.0",
      "model_name": "LayoutModel",
      "state": {}
     },
     "aec96e7ac6444426af0e6bfde41b603a": {
      "model_module": "@jupyter-widgets/base",
      "model_module_version": "1.1.0",
      "model_name": "LayoutModel",
      "state": {}
     },
     "aee1a40332db43489ac1e5e281b6ca3e": {
      "model_module": "@jupyter-widgets/base",
      "model_module_version": "1.1.0",
      "model_name": "LayoutModel",
      "state": {}
     },
     "af0e91c2c4ab43c5b1e5fcf19315b4e0": {
      "model_module": "@jupyter-widgets/controls",
      "model_module_version": "1.4.0",
      "model_name": "ToggleButtonModel",
      "state": {
       "_dom_classes": [
        "gridbutton",
        "addablebutton"
       ],
       "description": "+",
       "layout": "IPY_MODEL_24198035057f48ca81a6fa9a718c3f55",
       "style": "IPY_MODEL_0eb96f5c35034380af180f20f8d209a4",
       "tooltip": "Click to add a cell here"
      }
     },
     "af10e38243ad4e998199614979f474f9": {
      "model_module": "@jupyter-widgets/base",
      "model_module_version": "1.1.0",
      "model_name": "LayoutModel",
      "state": {}
     },
     "af198772e1f94b10820f3fee023506d4": {
      "model_module": "@jupyter-widgets/controls",
      "model_module_version": "1.4.0",
      "model_name": "ButtonStyleModel",
      "state": {}
     },
     "af335f15e1f9486486daf7a8518919e3": {
      "model_module": "@jupyter-widgets/controls",
      "model_module_version": "1.4.0",
      "model_name": "ButtonModel",
      "state": {
       "_dom_classes": [
        "gridbutton",
        "b2"
       ],
       "disabled": true,
       "layout": "IPY_MODEL_581cef88be2741a9bde4fcb6422ff1b0",
       "style": "IPY_MODEL_6417589ea7e84c669b4bd33f514170be"
      }
     },
     "af6d020d5b0f405d9b8aa00fa98fa926": {
      "model_module": "@jupyter-widgets/controls",
      "model_module_version": "1.4.0",
      "model_name": "ToggleButtonModel",
      "state": {
       "_dom_classes": [
        "gridbutton",
        "addablebutton"
       ],
       "description": "+",
       "layout": "IPY_MODEL_ae25d8ee9fe646ebb7fdd668d6ed6cab",
       "style": "IPY_MODEL_b35863085ece42f79658ee5924829820",
       "tooltip": "Click to add a cell here"
      }
     },
     "af762c70b78648b09adb9d4faeb83b76": {
      "model_module": "@jupyter-widgets/base",
      "model_module_version": "1.1.0",
      "model_name": "LayoutModel",
      "state": {}
     },
     "af9da5283f8d482eadc742ebd3d5cc07": {
      "model_module": "@jupyter-widgets/base",
      "model_module_version": "1.1.0",
      "model_name": "LayoutModel",
      "state": {}
     },
     "afa0b3b6d6874a0cb0a1fd0ac886cc4a": {
      "model_module": "@jupyter-widgets/controls",
      "model_module_version": "1.4.0",
      "model_name": "TextModel",
      "state": {
       "_dom_classes": [
        "blankcell"
       ],
       "disabled": true,
       "layout": "IPY_MODEL_196c83a3b43a46dca975be63611b8c09",
       "style": "IPY_MODEL_e12f49d5fbe94cac8b9f28d5bd8bd294"
      }
     },
     "afa1ee61aa474c419e54e617c475fa8a": {
      "model_module": "@jupyter-widgets/base",
      "model_module_version": "1.1.0",
      "model_name": "LayoutModel",
      "state": {}
     },
     "afa5c908f54049339db5def62c6dc5db": {
      "model_module": "@jupyter-widgets/base",
      "model_module_version": "1.1.0",
      "model_name": "LayoutModel",
      "state": {}
     },
     "afc64e50256942109d56f5cbd65a45eb": {
      "model_module": "@jupyter-widgets/base",
      "model_module_version": "1.1.0",
      "model_name": "LayoutModel",
      "state": {}
     },
     "afd195994e964adcaabc8705d2402c06": {
      "model_module": "@jupyter-widgets/base",
      "model_module_version": "1.1.0",
      "model_name": "LayoutModel",
      "state": {}
     },
     "afd7d0c94ad94c63854016eece1db73e": {
      "model_module": "@jupyter-widgets/base",
      "model_module_version": "1.1.0",
      "model_name": "LayoutModel",
      "state": {}
     },
     "afdff539c1e94578ac05b81a4987045f": {
      "model_module": "@jupyter-widgets/controls",
      "model_module_version": "1.4.0",
      "model_name": "ToggleButtonModel",
      "state": {
       "_dom_classes": [
        "gridbutton"
       ],
       "description": "-",
       "layout": "IPY_MODEL_742ce9cb5c1a4d358dd3aef0fa324d55",
       "style": "IPY_MODEL_6b11a4df21f0426d8b14a36845851077",
       "tooltip": "0, 2"
      }
     },
     "afe62b927232427eaa220e1dcef1f40a": {
      "model_module": "@jupyter-widgets/controls",
      "model_module_version": "1.4.0",
      "model_name": "ButtonStyleModel",
      "state": {}
     },
     "affa5cb3a4b14cf8b31ff5b75e3beea8": {
      "model_module": "@jupyter-widgets/base",
      "model_module_version": "1.1.0",
      "model_name": "LayoutModel",
      "state": {}
     },
     "b02102f5e090413cb1c43eb7d8781295": {
      "model_module": "@jupyter-widgets/controls",
      "model_module_version": "1.4.0",
      "model_name": "HTMLModel",
      "state": {
       "layout": "IPY_MODEL_0212f2902d554fbc8780d26a8001bd6b",
       "style": "IPY_MODEL_6504cfa770fb436bac2980ab847549bd",
       "value": "<style>.widget-text INPUT {border-collapse: collapse !important}\n.gridbutton {margin:0; padding:0; width:2em; height:2em; border:1px solid #999; color:#666}\n.blankbutton, .addablebutton {background-color:white; color:#666}\n.blankbutton {border:0px !important}\n.blankcell INPUT {border:0px !important}\n.addablecell INPUT, .removablecell INPUT {background-position: right top; background-size: 1em; background-repeat: no-repeat}\n.addablecell INPUT {background-image: url('data:image/png;base64,iVBORw0KGgoAAAANSUhEUgAAAEYAAAA8BAAAAAA7DH7+AAAABGdBTUEAALGPC/xhBQAAACBjSFJNAAB6JgAAgIQAAPoAAACA6AAAdTAAAOpgAAA6mAAAF3CculE8AAAAAnRSTlMAAHaTzTgAAAACYktHRAAPOjI+owAAAAlwSFlzAAAN1wAADdcBQiibeAAAAAd0SU1FB+MCBRIvKscf5nsAAAAtSURBVEjHY2AYBaSBmTNnThhVM6pmaKvhnIkVTBjqagZbOI+qGVVDHTXDAwAAnSews7vfUfkAAAAldEVYdGRhdGU6Y3JlYXRlADIwMTktMDItMDVUMTc6NDc6NDIrMDE6MDDD7zGLAAAAJXRFWHRkYXRlOm1vZGlmeQAyMDE5LTAyLTA1VDE3OjQ3OjQyKzAxOjAwsrKJNwAAAABJRU5ErkJggg==')}\n.addablecell INPUT, .addablebutton INPUT {border:1px dashed #999 !important}\n.removablecell INPUT {background-image: url('data:image/png;base64,iVBORw0KGgoAAAANSUhEUgAAAEYAAAA8BAAAAAA7DH7+AAAABGdBTUEAALGPC/xhBQAAACBjSFJNAAB6JgAAgIQAAPoAAACA6AAAdTAAAOpgAAA6mAAAF3CculE8AAAAAnRSTlMAAHaTzTgAAAACYktHRAAPOjI+owAAAAlwSFlzAAAN1wAADdcBQiibeAAAAAd0SU1FB+MCBRIvL7d1EvQAAAAgSURBVEjHY2AYBaNgFIwwwDkTK5gw1NWMglEwCgYxAAAoCFJ7GFQEKQAAACV0RVh0ZGF0ZTpjcmVhdGUAMjAxOS0wMi0wNVQxNzo0Nzo0NyswMTowMJHXHiwAAAAldEVYdGRhdGU6bW9kaWZ5ADIwMTktMDItMDVUMTc6NDc6NDcrMDE6MDDgiqaQAAAAAElFTkSuQmCC')}\n.dirty INPUT {background-color: pink !important}</style>"
      }
     },
     "b02785761e314d7ea9e19789e12f56be": {
      "model_module": "@jupyter-widgets/base",
      "model_module_version": "1.1.0",
      "model_name": "LayoutModel",
      "state": {}
     },
     "b0285d2a571b46e0ac2265f07601cd80": {
      "model_module": "@jupyter-widgets/controls",
      "model_module_version": "1.4.0",
      "model_name": "ButtonStyleModel",
      "state": {}
     },
     "b05251ac21b146479428d188a24bd200": {
      "model_module": "@jupyter-widgets/base",
      "model_module_version": "1.1.0",
      "model_name": "LayoutModel",
      "state": {}
     },
     "b0691769340e4730ae7e1b39c7efd6f1": {
      "model_module": "@jupyter-widgets/controls",
      "model_module_version": "1.4.0",
      "model_name": "ButtonModel",
      "state": {
       "_dom_classes": [
        "gridbutton",
        "b4"
       ],
       "disabled": true,
       "layout": "IPY_MODEL_d861c29f26634ccfb59b53f634fc937d",
       "style": "IPY_MODEL_4754af493389472ead3a71b9612248b6"
      }
     },
     "b06f22f6068545d3b80d27aba176da58": {
      "model_module": "@jupyter-widgets/controls",
      "model_module_version": "1.4.0",
      "model_name": "ToggleButtonModel",
      "state": {
       "_dom_classes": [
        "gridbutton",
        "addablebutton"
       ],
       "description": "+",
       "layout": "IPY_MODEL_ae25d8ee9fe646ebb7fdd668d6ed6cab",
       "style": "IPY_MODEL_3d12f35d4aca47fab7c1687a141b1845",
       "tooltip": "Click to add a cell here"
      }
     },
     "b07bf31140804f1ea5714a66f4168506": {
      "model_module": "@jupyter-widgets/controls",
      "model_module_version": "1.4.0",
      "model_name": "ButtonModel",
      "state": {
       "_dom_classes": [
        "gridbutton",
        "b3"
       ],
       "disabled": true,
       "layout": "IPY_MODEL_196c83a3b43a46dca975be63611b8c09",
       "style": "IPY_MODEL_e37c5c03dc364312aaa210594c5d4e5e"
      }
     },
     "b086f0760b414cf4b6d1e55fcbb2efdf": {
      "model_module": "@jupyter-widgets/controls",
      "model_module_version": "1.4.0",
      "model_name": "ButtonModel",
      "state": {
       "_dom_classes": [
        "gridbutton",
        "b3"
       ],
       "disabled": true,
       "layout": "IPY_MODEL_d861c29f26634ccfb59b53f634fc937d",
       "style": "IPY_MODEL_6873e409072d4ad3b2bdf65461e532ea"
      }
     },
     "b092c1a641864442ba69dd77d81d41e6": {
      "model_module": "@jupyter-widgets/controls",
      "model_module_version": "1.4.0",
      "model_name": "ToggleButtonModel",
      "state": {
       "_dom_classes": [
        "gridbutton",
        "addablebutton"
       ],
       "description": "+",
       "layout": "IPY_MODEL_742ce9cb5c1a4d358dd3aef0fa324d55",
       "style": "IPY_MODEL_c39a12c992674e6782aa228dadc94b91",
       "tooltip": "Click to add a cell here"
      }
     },
     "b09d7b759c5b4ab9a0d8f6e390a1076d": {
      "model_module": "@jupyter-widgets/controls",
      "model_module_version": "1.4.0",
      "model_name": "TextModel",
      "state": {
       "_dom_classes": [
        "blankcell"
       ],
       "disabled": true,
       "layout": "IPY_MODEL_d861c29f26634ccfb59b53f634fc937d",
       "style": "IPY_MODEL_ce8e9a2c381a4cbfa4735d109b06c338"
      }
     },
     "b0c8c21e97534b3bb79403e56399dfd1": {
      "model_module": "@jupyter-widgets/base",
      "model_module_version": "1.1.0",
      "model_name": "LayoutModel",
      "state": {}
     },
     "b0f4eea89b374aebbe57017b0499d826": {
      "model_module": "@jupyter-widgets/controls",
      "model_module_version": "1.4.0",
      "model_name": "ButtonModel",
      "state": {
       "_dom_classes": [
        "gridbutton",
        "b2"
       ],
       "disabled": true,
       "layout": "IPY_MODEL_581cef88be2741a9bde4fcb6422ff1b0",
       "style": "IPY_MODEL_a6b19e776a1b4a1ea5161ccc5a2cf76e"
      }
     },
     "b13bdc9d11194f9881dc9c2abc66f4bc": {
      "model_module": "@jupyter-widgets/controls",
      "model_module_version": "1.4.0",
      "model_name": "TextModel",
      "state": {
       "_dom_classes": [
        "gridcell",
        "removablecell"
       ],
       "_view_module": "sage-combinat-widgets",
       "_view_module_version": "^0.2.0",
       "_view_name": "TextWithTooltipView",
       "continuous_update": false,
       "description_tooltip": "",
       "layout": "IPY_MODEL_24198035057f48ca81a6fa9a718c3f55",
       "style": "IPY_MODEL_d36c7c7447f742d0ac8b63fed3f25c05",
       "value": "14"
      }
     },
     "b14473c9f74f4469aae8a5f49d917815": {
      "model_module": "@jupyter-widgets/base",
      "model_module_version": "1.1.0",
      "model_name": "LayoutModel",
      "state": {}
     },
     "b1479b3c1eee48ef8d453972ceaa03d4": {
      "model_module": "@jupyter-widgets/base",
      "model_module_version": "1.1.0",
      "model_name": "LayoutModel",
      "state": {}
     },
     "b1712c4b3d16452289b9acedaf008109": {
      "model_module": "@jupyter-widgets/controls",
      "model_module_version": "1.4.0",
      "model_name": "TextModel",
      "state": {
       "_dom_classes": [
        "gridcell"
       ],
       "_view_module": "sage-combinat-widgets",
       "_view_module_version": "^0.2.0",
       "_view_name": "TextWithTooltipView",
       "continuous_update": false,
       "description_tooltip": "",
       "layout": "IPY_MODEL_742ce9cb5c1a4d358dd3aef0fa324d55",
       "style": "IPY_MODEL_98af147a2dfe4bd897e33f8975f075c6",
       "value": "9"
      }
     },
     "b1797add38464defadf933d0e88dfc77": {
      "model_module": "@jupyter-widgets/controls",
      "model_module_version": "1.4.0",
      "model_name": "ToggleButtonModel",
      "state": {
       "_dom_classes": [
        "gridbutton",
        "addablebutton"
       ],
       "description": "+",
       "layout": "IPY_MODEL_742ce9cb5c1a4d358dd3aef0fa324d55",
       "style": "IPY_MODEL_3458b91d1c52427fbc475c732679b734",
       "tooltip": "Click to add a cell here"
      }
     },
     "b18f0e6ee8fc4d38824663eea8ec39cf": {
      "model_module": "@jupyter-widgets/controls",
      "model_module_version": "1.4.0",
      "model_name": "DescriptionStyleModel",
      "state": {
       "description_width": ""
      }
     },
     "b1c205a8bfbd4ffdb29f3ce8ee2f02ca": {
      "model_module": "@jupyter-widgets/base",
      "model_module_version": "1.1.0",
      "model_name": "LayoutModel",
      "state": {}
     },
     "b1debd290bd243f9b6da81a9d4038957": {
      "model_module": "@jupyter-widgets/controls",
      "model_module_version": "1.4.0",
      "model_name": "HBoxModel",
      "state": {
       "children": [
        "IPY_MODEL_66b598a0d78c47b8bfcdb60f5ef73db0"
       ],
       "layout": "IPY_MODEL_3fcb8663f97444fc9d57769aee47af6e"
      }
     },
     "b207f150878c4390b98fa927afd26dd4": {
      "model_module": "@jupyter-widgets/controls",
      "model_module_version": "1.4.0",
      "model_name": "ButtonModel",
      "state": {
       "_dom_classes": [
        "gridbutton",
        "b1"
       ],
       "disabled": true,
       "layout": "IPY_MODEL_d861c29f26634ccfb59b53f634fc937d",
       "style": "IPY_MODEL_bb7b2f0a95e44042af71a827d6858d92"
      }
     },
     "b2087b61f77b4466bab6fe4b49cb57de": {
      "model_module": "@jupyter-widgets/controls",
      "model_module_version": "1.4.0",
      "model_name": "ButtonModel",
      "state": {
       "_dom_classes": [
        "gridbutton",
        "b2"
       ],
       "disabled": true,
       "layout": "IPY_MODEL_581cef88be2741a9bde4fcb6422ff1b0",
       "style": "IPY_MODEL_6194ab2f70984ed2afb730bcc44b529b"
      }
     },
     "b22be57383134afd898d99beaddcd530": {
      "model_module": "@jupyter-widgets/controls",
      "model_module_version": "1.4.0",
      "model_name": "ButtonStyleModel",
      "state": {}
     },
     "b24e8a7b7a714832a79e2c9966c0e42c": {
      "model_module": "@jupyter-widgets/base",
      "model_module_version": "1.1.0",
      "model_name": "LayoutModel",
      "state": {}
     },
     "b2504847f62a41b49cf0342143126a99": {
      "model_module": "@jupyter-widgets/controls",
      "model_module_version": "1.4.0",
      "model_name": "TextModel",
      "state": {
       "_dom_classes": [
        "blankcell"
       ],
       "disabled": true,
       "layout": "IPY_MODEL_d861c29f26634ccfb59b53f634fc937d",
       "style": "IPY_MODEL_b4d7b6657cc54811bc34209f41477a6b"
      }
     },
     "b25f1fb181424e30be0280c7c27e15af": {
      "model_module": "@jupyter-widgets/controls",
      "model_module_version": "1.4.0",
      "model_name": "ButtonModel",
      "state": {
       "_dom_classes": [
        "gridbutton",
        "b3"
       ],
       "disabled": true,
       "layout": "IPY_MODEL_581cef88be2741a9bde4fcb6422ff1b0",
       "style": "IPY_MODEL_4cf6616e09714759b62dc66c6f538df6"
      }
     },
     "b28c5e8dab4749ccb41457582afb2576": {
      "model_module": "@jupyter-widgets/controls",
      "model_module_version": "1.4.0",
      "model_name": "DescriptionStyleModel",
      "state": {
       "description_width": ""
      }
     },
     "b29072791de240efaec8cf243fb0ec60": {
      "model_module": "@jupyter-widgets/controls",
      "model_module_version": "1.4.0",
      "model_name": "VBoxModel",
      "state": {
       "_dom_classes": [
        "widget-interact"
       ],
       "children": [
        "IPY_MODEL_3046542422834eaeb3e8d88578eb407f",
        "IPY_MODEL_d66bf9e5ce784dc3bf12c9159139cab4",
        "IPY_MODEL_cec123b98a8a4eb5843a3bf152f30295"
       ],
       "layout": "IPY_MODEL_e94c0967e7ee431c838ce4fbc16bcb93"
      }
     },
     "b2d61639c7a94e5dad78c149011984e9": {
      "model_module": "@jupyter-widgets/base",
      "model_module_version": "1.1.0",
      "model_name": "LayoutModel",
      "state": {}
     },
     "b2d96793cacb49d2b8c601a0412dabe9": {
      "model_module": "@jupyter-widgets/base",
      "model_module_version": "1.1.0",
      "model_name": "LayoutModel",
      "state": {}
     },
     "b2fdbb6dc9634aa89b500dc92bf281d5": {
      "model_module": "@jupyter-widgets/controls",
      "model_module_version": "1.4.0",
      "model_name": "HBoxModel",
      "state": {
       "children": [
        "IPY_MODEL_4ab6810f48b64b6589b0b1e67945f6f3",
        "IPY_MODEL_8880af97f81d42e4b60cdccb6a2fd0c4",
        "IPY_MODEL_26f2672f6cad47baa419a27d023b802b",
        "IPY_MODEL_eab03e05defd4d948cd3abe564b2d5dd",
        "IPY_MODEL_813ac00a430a4867b8882e2c531cfd38",
        "IPY_MODEL_ae4d92841a824738835aa6512bb74e29",
        "IPY_MODEL_631a00c42b664a31837e0b260fc7d11a",
        "IPY_MODEL_e790b09be5164ad192e41ac2e3a83e5d",
        "IPY_MODEL_55c1a44fb5094c0595cc6f3732633f46"
       ],
       "layout": "IPY_MODEL_c050dfedd3b9483c894ee2f12f6b8e7f"
      }
     },
     "b31b32370e784c289951decda7a6fc5f": {
      "model_module": "@jupyter-widgets/base",
      "model_module_version": "1.1.0",
      "model_name": "LayoutModel",
      "state": {}
     },
     "b32deed4163f4aa3ac36fa2518f2b4d9": {
      "model_module": "@jupyter-widgets/controls",
      "model_module_version": "1.4.0",
      "model_name": "ButtonStyleModel",
      "state": {}
     },
     "b33a4b3f76114004b419699c2b0dcc5c": {
      "model_module": "@jupyter-widgets/controls",
      "model_module_version": "1.4.0",
      "model_name": "ButtonModel",
      "state": {
       "_dom_classes": [
        "gridbutton",
        "b1"
       ],
       "disabled": true,
       "layout": "IPY_MODEL_d861c29f26634ccfb59b53f634fc937d",
       "style": "IPY_MODEL_dcef5a33fec14524aa96bcc7942c559a"
      }
     },
     "b353a290a06941778f053e17458736b2": {
      "model_module": "@jupyter-widgets/controls",
      "model_module_version": "1.4.0",
      "model_name": "TextModel",
      "state": {
       "_dom_classes": [
        "gridcell",
        "removablecell"
       ],
       "_view_module": "sage-combinat-widgets",
       "_view_module_version": "^0.2.0",
       "_view_name": "TextWithTooltipView",
       "continuous_update": false,
       "description_tooltip": "",
       "layout": "IPY_MODEL_742ce9cb5c1a4d358dd3aef0fa324d55",
       "style": "IPY_MODEL_7dd68023945040db82bc5af19e7bcdc1",
       "value": "15"
      }
     },
     "b3560af141534003ae71a9234974e5d6": {
      "model_module": "@jupyter-widgets/base",
      "model_module_version": "1.1.0",
      "model_name": "LayoutModel",
      "state": {}
     },
     "b35863085ece42f79658ee5924829820": {
      "model_module": "@jupyter-widgets/controls",
      "model_module_version": "1.4.0",
      "model_name": "DescriptionStyleModel",
      "state": {
       "description_width": ""
      }
     },
     "b37fdbbdbc054dde8743f1bd8e6dc0b5": {
      "model_module": "@jupyter-widgets/controls",
      "model_module_version": "1.4.0",
      "model_name": "TextModel",
      "state": {
       "_dom_classes": [
        "gridcell",
        "addablecell"
       ],
       "_view_module": "sage-combinat-widgets",
       "_view_module_version": "^0.2.0",
       "_view_name": "TextWithTooltipView",
       "continuous_update": false,
       "description_tooltip": "",
       "layout": "IPY_MODEL_24198035057f48ca81a6fa9a718c3f55",
       "style": "IPY_MODEL_6f0bde34ed32466d9d3b248b524a90dd"
      }
     },
     "b3855d16d34f41e99f69801d8c23a895": {
      "model_module": "@jupyter-widgets/controls",
      "model_module_version": "1.4.0",
      "model_name": "ButtonModel",
      "state": {
       "_dom_classes": [
        "gridbutton",
        "b3"
       ],
       "disabled": true,
       "layout": "IPY_MODEL_d861c29f26634ccfb59b53f634fc937d",
       "style": "IPY_MODEL_26dfeb3fee32429eb007fc370314510b"
      }
     },
     "b38e9552c6d943f9a86c0f70ada500a0": {
      "model_module": "@jupyter-widgets/controls",
      "model_module_version": "1.4.0",
      "model_name": "DescriptionStyleModel",
      "state": {
       "description_width": ""
      }
     },
     "b39193ec5ed54a26a613814275f469ec": {
      "model_module": "@jupyter-widgets/controls",
      "model_module_version": "1.4.0",
      "model_name": "ButtonModel",
      "state": {
       "_dom_classes": [
        "gridbutton",
        "b3"
       ],
       "disabled": true,
       "layout": "IPY_MODEL_d861c29f26634ccfb59b53f634fc937d",
       "style": "IPY_MODEL_e7a383d766ac4606aebb634f0e77df6c"
      }
     },
     "b39ca217eff24b4c98c90619f477e27f": {
      "model_module": "@jupyter-widgets/base",
      "model_module_version": "1.1.0",
      "model_name": "LayoutModel",
      "state": {}
     },
     "b3a77737537b463fa63b39da4dc2d901": {
      "model_module": "@jupyter-widgets/controls",
      "model_module_version": "1.4.0",
      "model_name": "TextModel",
      "state": {
       "_dom_classes": [
        "blankcell"
       ],
       "disabled": true,
       "layout": "IPY_MODEL_d861c29f26634ccfb59b53f634fc937d",
       "style": "IPY_MODEL_c252ac91895047c0a7f4a6af24da17db"
      }
     },
     "b3afa939c2e34590ab2e15ceb4027d69": {
      "model_module": "@jupyter-widgets/controls",
      "model_module_version": "1.4.0",
      "model_name": "ButtonModel",
      "state": {
       "_dom_classes": [
        "gridbutton",
        "b2"
       ],
       "disabled": true,
       "layout": "IPY_MODEL_196c83a3b43a46dca975be63611b8c09",
       "style": "IPY_MODEL_b589a1e55d804787b1efb1c1c77a0846"
      }
     },
     "b3c32a540bc94835b64f98a1119222fa": {
      "model_module": "@jupyter-widgets/controls",
      "model_module_version": "1.4.0",
      "model_name": "ToggleButtonModel",
      "state": {
       "_dom_classes": [
        "gridbutton"
       ],
       "description": "-",
       "layout": "IPY_MODEL_742ce9cb5c1a4d358dd3aef0fa324d55",
       "style": "IPY_MODEL_cb6da97692e346218aadac95d2711982",
       "tooltip": "0, 1"
      }
     },
     "b3da93082c034628a60047c997657bc0": {
      "model_module": "@jupyter-widgets/base",
      "model_module_version": "1.1.0",
      "model_name": "LayoutModel",
      "state": {}
     },
     "b3e0d314fed14355b0f072aa49c299cb": {
      "model_module": "@jupyter-widgets/controls",
      "model_module_version": "1.4.0",
      "model_name": "TextModel",
      "state": {
       "_dom_classes": [
        "gridcell"
       ],
       "_view_module": "sage-combinat-widgets",
       "_view_module_version": "^0.2.0",
       "_view_name": "TextWithTooltipView",
       "continuous_update": false,
       "description_tooltip": "",
       "layout": "IPY_MODEL_24198035057f48ca81a6fa9a718c3f55",
       "style": "IPY_MODEL_62ee5948e83747d0be31094986c116fc",
       "value": "10"
      }
     },
     "b4305207fd8941e6b0c1203a41a4852f": {
      "model_module": "@jupyter-widgets/base",
      "model_module_version": "1.1.0",
      "model_name": "LayoutModel",
      "state": {}
     },
     "b4307d46e37c4ae7852a2a7081175ff7": {
      "model_module": "@jupyter-widgets/controls",
      "model_module_version": "1.4.0",
      "model_name": "ButtonStyleModel",
      "state": {}
     },
     "b440b20c8e5b4e5a9f93b036c070889e": {
      "model_module": "@jupyter-widgets/controls",
      "model_module_version": "1.4.0",
      "model_name": "DescriptionStyleModel",
      "state": {
       "description_width": ""
      }
     },
     "b441f1694421429a97499b88eb30b0d1": {
      "model_module": "@jupyter-widgets/base",
      "model_module_version": "1.1.0",
      "model_name": "LayoutModel",
      "state": {}
     },
     "b461453a99b9458088129a195c3d9917": {
      "model_module": "@jupyter-widgets/controls",
      "model_module_version": "1.4.0",
      "model_name": "ButtonModel",
      "state": {
       "_dom_classes": [
        "gridbutton",
        "blankbutton"
       ],
       "disabled": true,
       "layout": "IPY_MODEL_3be172acc2954f34a55b57c400a46aba",
       "style": "IPY_MODEL_87f3d829f1ee49d995735287cc42f950"
      }
     },
     "b4885b1322e94ca2af9c2ae528e70c7c": {
      "model_module": "@jupyter-widgets/controls",
      "model_module_version": "1.4.0",
      "model_name": "ButtonStyleModel",
      "state": {}
     },
     "b4acc46232a04e679a3e984a4cd11cd4": {
      "model_module": "@jupyter-widgets/controls",
      "model_module_version": "1.4.0",
      "model_name": "DescriptionStyleModel",
      "state": {
       "description_width": ""
      }
     },
     "b4b925155e0646da99eb52a3ce0ca333": {
      "model_module": "@jupyter-widgets/controls",
      "model_module_version": "1.4.0",
      "model_name": "ToggleButtonModel",
      "state": {
       "_dom_classes": [
        "gridbutton"
       ],
       "description": "-",
       "layout": "IPY_MODEL_24198035057f48ca81a6fa9a718c3f55",
       "style": "IPY_MODEL_1e6a6053a70f48fdbb01b0f0a029bc9a",
       "tooltip": "1, 1"
      }
     },
     "b4c3592cb95542cda2f9673de9f24a51": {
      "model_module": "@jupyter-widgets/base",
      "model_module_version": "1.1.0",
      "model_name": "LayoutModel",
      "state": {}
     },
     "b4d01dbb1d504b519cb5d87a12fb97a2": {
      "model_module": "@jupyter-widgets/base",
      "model_module_version": "1.1.0",
      "model_name": "LayoutModel",
      "state": {}
     },
     "b4d7b6657cc54811bc34209f41477a6b": {
      "model_module": "@jupyter-widgets/controls",
      "model_module_version": "1.4.0",
      "model_name": "DescriptionStyleModel",
      "state": {
       "description_width": ""
      }
     },
     "b5495fd7d8a948ec8f8204e67b6f8d1c": {
      "model_module": "@jupyter-widgets/base",
      "model_module_version": "1.1.0",
      "model_name": "LayoutModel",
      "state": {}
     },
     "b589a1e55d804787b1efb1c1c77a0846": {
      "model_module": "@jupyter-widgets/controls",
      "model_module_version": "1.4.0",
      "model_name": "ButtonStyleModel",
      "state": {}
     },
     "b5b37c02f4ce47dd940c43d5493438ac": {
      "model_module": "@jupyter-widgets/controls",
      "model_module_version": "1.4.0",
      "model_name": "ButtonModel",
      "state": {
       "_dom_classes": [
        "gridbutton",
        "b4"
       ],
       "disabled": true,
       "layout": "IPY_MODEL_196c83a3b43a46dca975be63611b8c09",
       "style": "IPY_MODEL_363ed1de9ed94af892378bd91396f39d"
      }
     },
     "b5d9033eaf224f81bae32bfc51a03364": {
      "model_module": "@jupyter-widgets/controls",
      "model_module_version": "1.4.0",
      "model_name": "ButtonModel",
      "state": {
       "_dom_classes": [
        "gridbutton",
        "blankbutton"
       ],
       "disabled": true,
       "layout": "IPY_MODEL_97592a19e0b04285a4e9529e352356d8",
       "style": "IPY_MODEL_6e2e9a8bbfb8418ab68e964e7310eebf"
      }
     },
     "b5dcece9a8cf4623b70100df4a94dd7a": {
      "model_module": "@jupyter-widgets/controls",
      "model_module_version": "1.4.0",
      "model_name": "ButtonModel",
      "state": {
       "_dom_classes": [
        "gridbutton",
        "b4"
       ],
       "disabled": true,
       "layout": "IPY_MODEL_196c83a3b43a46dca975be63611b8c09",
       "style": "IPY_MODEL_67ba7bd412114703b360964c1e32b136"
      }
     },
     "b60dad98d40740ca958415febec617c4": {
      "model_module": "@jupyter-widgets/controls",
      "model_module_version": "1.4.0",
      "model_name": "DescriptionStyleModel",
      "state": {
       "description_width": ""
      }
     },
     "b617f43cc39a4bdba91fa1bddb25e88d": {
      "model_module": "@jupyter-widgets/base",
      "model_module_version": "1.1.0",
      "model_name": "LayoutModel",
      "state": {}
     },
     "b61d14cd4c9d42dca27b31dc42964578": {
      "model_module": "@jupyter-widgets/controls",
      "model_module_version": "1.4.0",
      "model_name": "ButtonStyleModel",
      "state": {}
     },
     "b66a340bea9e4f86865fd1b75abdc086": {
      "model_module": "@jupyter-widgets/controls",
      "model_module_version": "1.4.0",
      "model_name": "DescriptionStyleModel",
      "state": {
       "description_width": ""
      }
     },
     "b679a63463844de8854ea33f4376e29f": {
      "model_module": "@jupyter-widgets/controls",
      "model_module_version": "1.4.0",
      "model_name": "ButtonModel",
      "state": {
       "_dom_classes": [
        "gridbutton",
        "b2"
       ],
       "disabled": true,
       "layout": "IPY_MODEL_581cef88be2741a9bde4fcb6422ff1b0",
       "style": "IPY_MODEL_e97ef844580a4c00aee85f7166b58d4c"
      }
     },
     "b695766e451f4531b21c7c3d53b1bc72": {
      "model_module": "@jupyter-widgets/controls",
      "model_module_version": "1.4.0",
      "model_name": "TextModel",
      "state": {
       "_dom_classes": [
        "blankcell"
       ],
       "disabled": true,
       "layout": "IPY_MODEL_d861c29f26634ccfb59b53f634fc937d",
       "style": "IPY_MODEL_51c20c568c9843958ed3b092e511ee59"
      }
     },
     "b69e4e74228a49ac80d8fd90f1987876": {
      "model_module": "@jupyter-widgets/controls",
      "model_module_version": "1.4.0",
      "model_name": "ButtonStyleModel",
      "state": {}
     },
     "b6b4fd0029bb45d9a3204b1545853a5a": {
      "model_module": "@jupyter-widgets/controls",
      "model_module_version": "1.4.0",
      "model_name": "DescriptionStyleModel",
      "state": {
       "description_width": ""
      }
     },
     "b6b5f8aeb9cb49d0b9e1444d7ee6f515": {
      "model_module": "@jupyter-widgets/controls",
      "model_module_version": "1.4.0",
      "model_name": "ButtonStyleModel",
      "state": {}
     },
     "b6c37bb3114a4024b81f6898f30b9325": {
      "model_module": "@jupyter-widgets/base",
      "model_module_version": "1.1.0",
      "model_name": "LayoutModel",
      "state": {}
     },
     "b728e739e2fb4a3293db5e785b763281": {
      "model_module": "@jupyter-widgets/controls",
      "model_module_version": "1.4.0",
      "model_name": "DescriptionStyleModel",
      "state": {
       "description_width": ""
      }
     },
     "b72c66bd559f444a8be28988f8f8cce0": {
      "model_module": "@jupyter-widgets/base",
      "model_module_version": "1.1.0",
      "model_name": "LayoutModel",
      "state": {}
     },
     "b76af252df68435faa5f5db87d98234d": {
      "model_module": "@jupyter-widgets/controls",
      "model_module_version": "1.4.0",
      "model_name": "ButtonModel",
      "state": {
       "_dom_classes": [
        "gridbutton",
        "b4"
       ],
       "disabled": true,
       "layout": "IPY_MODEL_581cef88be2741a9bde4fcb6422ff1b0",
       "style": "IPY_MODEL_318c02bbbb944e81a17d6fdd761fa55c"
      }
     },
     "b799b2e644384dbea332b6e31bfa622f": {
      "model_module": "@jupyter-widgets/base",
      "model_module_version": "1.1.0",
      "model_name": "LayoutModel",
      "state": {}
     },
     "b79afeb8a12242a09fcc263189fc19e5": {
      "model_module": "@jupyter-widgets/base",
      "model_module_version": "1.1.0",
      "model_name": "LayoutModel",
      "state": {}
     },
     "b79f7aa459a0481ba536c60770f5f387": {
      "model_module": "@jupyter-widgets/controls",
      "model_module_version": "1.4.0",
      "model_name": "ButtonModel",
      "state": {
       "_dom_classes": [
        "gridbutton",
        "b3"
       ],
       "disabled": true,
       "layout": "IPY_MODEL_d861c29f26634ccfb59b53f634fc937d",
       "style": "IPY_MODEL_c4ae114198704efe8a76f899a15bd46b"
      }
     },
     "b7a4211d6dbe47a7bcc1d4ef9c6615fc": {
      "model_module": "@jupyter-widgets/controls",
      "model_module_version": "1.4.0",
      "model_name": "ButtonModel",
      "state": {
       "_dom_classes": [
        "gridbutton",
        "b4"
       ],
       "disabled": true,
       "layout": "IPY_MODEL_196c83a3b43a46dca975be63611b8c09",
       "style": "IPY_MODEL_ed3b8a69177342a6a547179b8f321004"
      }
     },
     "b7c0dc8327184ea8a6b6bfb7aed40af7": {
      "model_module": "@jupyter-widgets/controls",
      "model_module_version": "1.4.0",
      "model_name": "DescriptionStyleModel",
      "state": {
       "description_width": ""
      }
     },
     "b7d0ac91e0434eac9d4a23c010be9956": {
      "model_module": "@jupyter-widgets/base",
      "model_module_version": "1.1.0",
      "model_name": "LayoutModel",
      "state": {}
     },
     "b7d5e047026f47deb6e185c54ce18058": {
      "model_module": "@jupyter-widgets/controls",
      "model_module_version": "1.4.0",
      "model_name": "ButtonModel",
      "state": {
       "_dom_classes": [
        "gridbutton",
        "b2"
       ],
       "disabled": true,
       "layout": "IPY_MODEL_581cef88be2741a9bde4fcb6422ff1b0",
       "style": "IPY_MODEL_591b3c228e1e446ca6fc37ec726490bd"
      }
     },
     "b7e38875961c4682823cbc67628ad575": {
      "model_module": "@jupyter-widgets/base",
      "model_module_version": "1.1.0",
      "model_name": "LayoutModel",
      "state": {}
     },
     "b7e9df7928d540a4a32e26c1dfe1de32": {
      "model_module": "@jupyter-widgets/controls",
      "model_module_version": "1.4.0",
      "model_name": "ButtonModel",
      "state": {
       "_dom_classes": [
        "gridbutton",
        "b1"
       ],
       "disabled": true,
       "layout": "IPY_MODEL_581cef88be2741a9bde4fcb6422ff1b0",
       "style": "IPY_MODEL_e761fbdac8264f68bd138a72f56fed4b"
      }
     },
     "b7f7848243ef46eeb40b38309ab081e8": {
      "model_module": "@jupyter-widgets/controls",
      "model_module_version": "1.4.0",
      "model_name": "DescriptionStyleModel",
      "state": {
       "description_width": ""
      }
     },
     "b801216c7ffc466bbf09126e09759f5d": {
      "model_module": "@jupyter-widgets/base",
      "model_module_version": "1.1.0",
      "model_name": "LayoutModel",
      "state": {}
     },
     "b827093f956c4b27b870b98d0fde32f8": {
      "model_module": "@jupyter-widgets/controls",
      "model_module_version": "1.4.0",
      "model_name": "ButtonStyleModel",
      "state": {}
     },
     "b828d0898a894190b48fa6811856c496": {
      "model_module": "@jupyter-widgets/controls",
      "model_module_version": "1.4.0",
      "model_name": "ButtonStyleModel",
      "state": {}
     },
     "b82bc89ed60e4f24bf3cf989f89cd325": {
      "model_module": "@jupyter-widgets/base",
      "model_module_version": "1.1.0",
      "model_name": "LayoutModel",
      "state": {}
     },
     "b84efcd92af2485d8960f1f2f3b0fb5c": {
      "model_module": "@jupyter-widgets/controls",
      "model_module_version": "1.4.0",
      "model_name": "ButtonModel",
      "state": {
       "_dom_classes": [
        "gridbutton",
        "b2"
       ],
       "disabled": true,
       "layout": "IPY_MODEL_581cef88be2741a9bde4fcb6422ff1b0",
       "style": "IPY_MODEL_fa8e5c902d734e2889fc032e33f8e55c"
      }
     },
     "b85890c399d34d9b8d3182f42a4e0c16": {
      "model_module": "@jupyter-widgets/controls",
      "model_module_version": "1.4.0",
      "model_name": "TextModel",
      "state": {
       "_dom_classes": [
        "gridcell"
       ],
       "_view_module": "sage-combinat-widgets",
       "_view_module_version": "^0.2.0",
       "_view_name": "TextWithTooltipView",
       "continuous_update": false,
       "description_tooltip": "",
       "layout": "IPY_MODEL_ae25d8ee9fe646ebb7fdd668d6ed6cab",
       "style": "IPY_MODEL_790ea8b93b604b2ba28ae5516095dfc0",
       "value": "4"
      }
     },
     "b85a23fddc014e11826c7571a7f0b05e": {
      "model_module": "@jupyter-widgets/base",
      "model_module_version": "1.1.0",
      "model_name": "LayoutModel",
      "state": {}
     },
     "b86d7b4c17a243a495fbc0deaa42d31e": {
      "model_module": "@jupyter-widgets/controls",
      "model_module_version": "1.4.0",
      "model_name": "ButtonStyleModel",
      "state": {}
     },
     "b8c975f42b41475d8d0c5c60743abaf5": {
      "model_module": "@jupyter-widgets/controls",
      "model_module_version": "1.4.0",
      "model_name": "ButtonStyleModel",
      "state": {}
     },
     "b8eb6839d1de4f2dabcc62a545751118": {
      "model_module": "@jupyter-widgets/base",
      "model_module_version": "1.1.0",
      "model_name": "LayoutModel",
      "state": {}
     },
     "b8ef93bf1b4b415998ee975421066f07": {
      "model_module": "@jupyter-widgets/controls",
      "model_module_version": "1.4.0",
      "model_name": "ButtonStyleModel",
      "state": {}
     },
     "b90f880395f144828d4e5835d3126682": {
      "model_module": "@jupyter-widgets/controls",
      "model_module_version": "1.4.0",
      "model_name": "ButtonStyleModel",
      "state": {}
     },
     "b924345f0bcd4789a9c89f8b21c86388": {
      "model_module": "@jupyter-widgets/base",
      "model_module_version": "1.1.0",
      "model_name": "LayoutModel",
      "state": {}
     },
     "b92c3d1b91f54e8b9739b47f419378f3": {
      "model_module": "@jupyter-widgets/controls",
      "model_module_version": "1.4.0",
      "model_name": "ButtonModel",
      "state": {
       "_dom_classes": [
        "gridbutton",
        "b3"
       ],
       "disabled": true,
       "layout": "IPY_MODEL_196c83a3b43a46dca975be63611b8c09",
       "style": "IPY_MODEL_43154d6f1d384754bacb54dcd28d6407"
      }
     },
     "b92cd8b2c0614078997bc7e2993777cf": {
      "model_module": "@jupyter-widgets/controls",
      "model_module_version": "1.4.0",
      "model_name": "DescriptionStyleModel",
      "state": {
       "description_width": ""
      }
     },
     "b935bbb0546040849339bb511d1eae44": {
      "model_module": "@jupyter-widgets/controls",
      "model_module_version": "1.4.0",
      "model_name": "DescriptionStyleModel",
      "state": {
       "description_width": ""
      }
     },
     "b978f9dea71b4c7ba34095f7c85a7cf8": {
      "model_module": "@jupyter-widgets/controls",
      "model_module_version": "1.4.0",
      "model_name": "HBoxModel",
      "state": {
       "children": [
        "IPY_MODEL_f40cb55bf67f4091a61980eaabac7f2f",
        "IPY_MODEL_f7d4216f5d78403baab72c5799169e8e",
        "IPY_MODEL_837833dea0ea4b399427002cc8a51f99"
       ],
       "layout": "IPY_MODEL_9629dedb60d64ec1ad548d20fe57ca63"
      }
     },
     "b97fc758641b4510a623584e9f548c61": {
      "model_module": "@jupyter-widgets/controls",
      "model_module_version": "1.4.0",
      "model_name": "TextModel",
      "state": {
       "_dom_classes": [
        "gridcell"
       ],
       "_view_module": "sage-combinat-widgets",
       "_view_module_version": "^0.2.0",
       "_view_name": "TextWithTooltipView",
       "continuous_update": false,
       "description_tooltip": "",
       "layout": "IPY_MODEL_ae25d8ee9fe646ebb7fdd668d6ed6cab",
       "style": "IPY_MODEL_6dc6fa3869c74f14a1fad0e3b171fc51",
       "value": "9"
      }
     },
     "b9870dc21e12453fb05af0f03692421f": {
      "model_module": "@jupyter-widgets/base",
      "model_module_version": "1.1.0",
      "model_name": "LayoutModel",
      "state": {}
     },
     "b98a117d428349f68dbb684b5e86bb28": {
      "model_module": "@jupyter-widgets/controls",
      "model_module_version": "1.4.0",
      "model_name": "TextModel",
      "state": {
       "_dom_classes": [
        "gridcell",
        "addablecell"
       ],
       "_view_module": "sage-combinat-widgets",
       "_view_module_version": "^0.2.0",
       "_view_name": "TextWithTooltipView",
       "continuous_update": false,
       "description_tooltip": "",
       "layout": "IPY_MODEL_766582b5db4b44c3b9eb63d9400a6c69",
       "style": "IPY_MODEL_213b0e08a64148889c08b1c146eebdf2"
      }
     },
     "b99640ee99d0449e825a2b52c4358128": {
      "model_module": "@jupyter-widgets/base",
      "model_module_version": "1.1.0",
      "model_name": "LayoutModel",
      "state": {}
     },
     "b9a3b9ae518f4af1a68882d69007db20": {
      "model_module": "@jupyter-widgets/controls",
      "model_module_version": "1.4.0",
      "model_name": "ButtonStyleModel",
      "state": {}
     },
     "b9b79147c33a46f490a23a900aa3053e": {
      "model_module": "@jupyter-widgets/controls",
      "model_module_version": "1.4.0",
      "model_name": "ButtonStyleModel",
      "state": {}
     },
     "b9bf241cf5dc4d06ba50fc1fb1d03035": {
      "model_module": "@jupyter-widgets/base",
      "model_module_version": "1.1.0",
      "model_name": "LayoutModel",
      "state": {}
     },
     "b9e7eb2adbbc4815980b80064649fe44": {
      "model_module": "@jupyter-widgets/controls",
      "model_module_version": "1.4.0",
      "model_name": "ButtonStyleModel",
      "state": {}
     },
     "ba0f23a8285544d495adac2f307dd5ee": {
      "model_module": "@jupyter-widgets/base",
      "model_module_version": "1.1.0",
      "model_name": "LayoutModel",
      "state": {}
     },
     "ba5819d40ad245b79c327dfe1361fca0": {
      "model_module": "@jupyter-widgets/controls",
      "model_module_version": "1.4.0",
      "model_name": "ButtonStyleModel",
      "state": {}
     },
     "ba9b43c9e4bf4534bad8805fbfd9dd7d": {
      "model_module": "@jupyter-widgets/controls",
      "model_module_version": "1.4.0",
      "model_name": "HBoxModel",
      "state": {
       "children": [
        "IPY_MODEL_ec18943094104c0092fb7030711ba4f8"
       ],
       "layout": "IPY_MODEL_1e36480fb9d9495cb93980a67a6a90ea"
      }
     },
     "baa11bceab8f4e37bfe11cc0241e5768": {
      "model_module": "@jupyter-widgets/controls",
      "model_module_version": "1.4.0",
      "model_name": "VBoxModel",
      "state": {
       "children": [
        "IPY_MODEL_e6766dfd55484f2696e55898b6e6718b",
        "IPY_MODEL_027eb59bfd754acfae3c4ac6d82f9711",
        "IPY_MODEL_987a00d2bd424ac08e1df7052953eb7e",
        "IPY_MODEL_2a6e3d1ad39841aeb22c0ba1a893742b",
        "IPY_MODEL_d654f0f4c562469f956dc803ad6210cf",
        "IPY_MODEL_4aeefbe02c754f75ac4d3b22f48807d4",
        "IPY_MODEL_a71461779042444b9c89c2bca614b3c4",
        "IPY_MODEL_50730ef409fb493aa66a5c429e47766e",
        "IPY_MODEL_1f7ddc63ffe744938c32dc636604db9b",
        "IPY_MODEL_52aadf1bf9dd4a44b75ae4c6a1a26b4a",
        "IPY_MODEL_05e684d4ad6c426a9aa04f832d66b3af",
        "IPY_MODEL_e1dc74d67a8b434388ca2223e97eec01",
        "IPY_MODEL_8bc5d5ec133c460aa63cd647f685d0e3",
        "IPY_MODEL_79779fbf1bf7415281615af3bb7c056d",
        "IPY_MODEL_ce97144563f2468989b28e640fc11e4f",
        "IPY_MODEL_b2fdbb6dc9634aa89b500dc92bf281d5"
       ],
       "layout": "IPY_MODEL_0c028d36738c43cf9cd0f4f8a21eba4a"
      }
     },
     "bab3ed285c9a42e5966a31fb81914eae": {
      "model_module": "@jupyter-widgets/controls",
      "model_module_version": "1.4.0",
      "model_name": "DescriptionStyleModel",
      "state": {
       "description_width": ""
      }
     },
     "bab9e5685fd944a7a8ac291162e94bbc": {
      "model_module": "@jupyter-widgets/base",
      "model_module_version": "1.1.0",
      "model_name": "LayoutModel",
      "state": {}
     },
     "bae813a8687947b4839cdb2c68a150e0": {
      "model_module": "@jupyter-widgets/base",
      "model_module_version": "1.1.0",
      "model_name": "LayoutModel",
      "state": {}
     },
     "baeec0bc0c2c4b84b1c28bf5904feff0": {
      "model_module": "@jupyter-widgets/base",
      "model_module_version": "1.1.0",
      "model_name": "LayoutModel",
      "state": {}
     },
     "bb11bfe09b3a4e8fa7f19aa48520f44f": {
      "model_module": "@jupyter-widgets/controls",
      "model_module_version": "1.4.0",
      "model_name": "DescriptionStyleModel",
      "state": {
       "description_width": ""
      }
     },
     "bb1c7b5e6385467eacd6a7221d1d8d0c": {
      "model_module": "@jupyter-widgets/base",
      "model_module_version": "1.1.0",
      "model_name": "LayoutModel",
      "state": {}
     },
     "bb732521aac145789d40aebdb5ac8da3": {
      "model_module": "@jupyter-widgets/controls",
      "model_module_version": "1.4.0",
      "model_name": "ButtonModel",
      "state": {
       "_dom_classes": [
        "gridbutton",
        "b1"
       ],
       "disabled": true,
       "layout": "IPY_MODEL_d861c29f26634ccfb59b53f634fc937d",
       "style": "IPY_MODEL_90b6c1357ccb43e383b9f4406a538258"
      }
     },
     "bb7b2f0a95e44042af71a827d6858d92": {
      "model_module": "@jupyter-widgets/controls",
      "model_module_version": "1.4.0",
      "model_name": "ButtonStyleModel",
      "state": {}
     },
     "bb8fcf1c91f54d11906febd169b33ddd": {
      "model_module": "@jupyter-widgets/controls",
      "model_module_version": "1.4.0",
      "model_name": "ToggleButtonModel",
      "state": {
       "_dom_classes": [
        "gridbutton"
       ],
       "layout": "IPY_MODEL_742ce9cb5c1a4d358dd3aef0fa324d55",
       "style": "IPY_MODEL_6797af26d7814a7fab9a31bbf40a8891",
       "tooltip": "1, 2"
      }
     },
     "bba02083ce72440a9178ff92e832a6ed": {
      "model_module": "@jupyter-widgets/controls",
      "model_module_version": "1.4.0",
      "model_name": "ButtonModel",
      "state": {
       "_dom_classes": [
        "gridbutton",
        "b1"
       ],
       "disabled": true,
       "layout": "IPY_MODEL_196c83a3b43a46dca975be63611b8c09",
       "style": "IPY_MODEL_0326f18cdba74d41acbdeed558af2bad"
      }
     },
     "bba138474f354d068cc339238c9459f9": {
      "model_module": "@jupyter-widgets/controls",
      "model_module_version": "1.4.0",
      "model_name": "ButtonModel",
      "state": {
       "_dom_classes": [
        "gridbutton",
        "b3"
       ],
       "disabled": true,
       "layout": "IPY_MODEL_d861c29f26634ccfb59b53f634fc937d",
       "style": "IPY_MODEL_85bc764b575c4ef8955b9ea415e38040"
      }
     },
     "bbcd939efb0f4fdcb0990b46095ea27d": {
      "model_module": "@jupyter-widgets/controls",
      "model_module_version": "1.4.0",
      "model_name": "DescriptionStyleModel",
      "state": {
       "description_width": ""
      }
     },
     "bbe5257e3f164d2aabeb6fb1c9eb6e0a": {
      "model_module": "@jupyter-widgets/controls",
      "model_module_version": "1.4.0",
      "model_name": "DescriptionStyleModel",
      "state": {
       "description_width": ""
      }
     },
     "bbede1c95cb04360a4ec2d65ae3d95ef": {
      "model_module": "@jupyter-widgets/controls",
      "model_module_version": "1.4.0",
      "model_name": "ButtonStyleModel",
      "state": {}
     },
     "bc06c3893ea74628a8c592fa816d0ac8": {
      "model_module": "@jupyter-widgets/controls",
      "model_module_version": "1.4.0",
      "model_name": "ButtonStyleModel",
      "state": {}
     },
     "bc176f80fa044d4fb060d630d5347724": {
      "model_module": "@jupyter-widgets/controls",
      "model_module_version": "1.4.0",
      "model_name": "DescriptionStyleModel",
      "state": {
       "description_width": ""
      }
     },
     "bc1afde8512742d6a6328396fe7015b2": {
      "model_module": "@jupyter-widgets/base",
      "model_module_version": "1.1.0",
      "model_name": "LayoutModel",
      "state": {}
     },
     "bc1c28bccf67483788617603861340cc": {
      "model_module": "@jupyter-widgets/base",
      "model_module_version": "1.1.0",
      "model_name": "LayoutModel",
      "state": {}
     },
     "bc4413985e404402a882e36b41983913": {
      "model_module": "@jupyter-widgets/controls",
      "model_module_version": "1.4.0",
      "model_name": "ButtonModel",
      "state": {
       "_dom_classes": [
        "gridbutton",
        "b1"
       ],
       "disabled": true,
       "layout": "IPY_MODEL_d861c29f26634ccfb59b53f634fc937d",
       "style": "IPY_MODEL_d10102e70f9e4cd49dcfaa3fa4deda08"
      }
     },
     "bc560bf531c54656b74734574eb995f6": {
      "model_module": "@jupyter-widgets/controls",
      "model_module_version": "1.4.0",
      "model_name": "DescriptionStyleModel",
      "state": {
       "description_width": ""
      }
     },
     "bc701b07951f40d69d94e19d73d2c300": {
      "model_module": "@jupyter-widgets/base",
      "model_module_version": "1.1.0",
      "model_name": "LayoutModel",
      "state": {}
     },
     "bc9ec51ad9b044acba2342aaa2a60756": {
      "model_module": "@jupyter-widgets/base",
      "model_module_version": "1.1.0",
      "model_name": "LayoutModel",
      "state": {}
     },
     "bd07d74c521244c8a142356214c24f7c": {
      "model_module": "@jupyter-widgets/base",
      "model_module_version": "1.1.0",
      "model_name": "LayoutModel",
      "state": {}
     },
     "bd18bc5183074e6c87d13cffdc04408d": {
      "model_module": "@jupyter-widgets/base",
      "model_module_version": "1.1.0",
      "model_name": "LayoutModel",
      "state": {}
     },
     "bd1f789c928d49b38d5dd76c1c1985df": {
      "model_module": "@jupyter-widgets/base",
      "model_module_version": "1.1.0",
      "model_name": "LayoutModel",
      "state": {}
     },
     "bd41836d10c642d88d8dda2ae6ca7ae4": {
      "model_module": "@jupyter-widgets/controls",
      "model_module_version": "1.4.0",
      "model_name": "TextModel",
      "state": {
       "_dom_classes": [
        "blankcell"
       ],
       "disabled": true,
       "layout": "IPY_MODEL_196c83a3b43a46dca975be63611b8c09",
       "style": "IPY_MODEL_b38e9552c6d943f9a86c0f70ada500a0"
      }
     },
     "bd548e15196045cc94fb1fb637869995": {
      "model_module": "@jupyter-widgets/controls",
      "model_module_version": "1.4.0",
      "model_name": "ButtonStyleModel",
      "state": {}
     },
     "bdd9cc08139843d38e3c998c210a5a54": {
      "model_module": "@jupyter-widgets/controls",
      "model_module_version": "1.4.0",
      "model_name": "VBoxModel",
      "state": {
       "children": [
        "IPY_MODEL_73dbbb24fcb24ef4a0bc1daf6430af02",
        "IPY_MODEL_0e3fcdcb7ba34d24907b5c4eaac3f1b7",
        "IPY_MODEL_1b4c2e63756146ae85e292d7c6a96cc5",
        "IPY_MODEL_843c6d8d2d53482e99e0d4e1a8c48e49",
        "IPY_MODEL_405521c317b74ce38bfb3cc911a4e254"
       ],
       "layout": "IPY_MODEL_e1ea2495afba4e1089b5c424ad39ccae"
      }
     },
     "bde20fbc8c1a43fc9d26b9516b9ae223": {
      "model_module": "@jupyter-widgets/controls",
      "model_module_version": "1.4.0",
      "model_name": "ButtonStyleModel",
      "state": {}
     },
     "be18b2e276de45fcb3cb7060b4b3a1ff": {
      "model_module": "@jupyter-widgets/controls",
      "model_module_version": "1.4.0",
      "model_name": "DescriptionStyleModel",
      "state": {
       "description_width": ""
      }
     },
     "be33d18fe96e47858fae1c6d61400aac": {
      "model_module": "@jupyter-widgets/controls",
      "model_module_version": "1.4.0",
      "model_name": "ButtonStyleModel",
      "state": {}
     },
     "be3c293bceeb4a6287b6cba5c077ecbc": {
      "model_module": "@jupyter-widgets/base",
      "model_module_version": "1.1.0",
      "model_name": "LayoutModel",
      "state": {}
     },
     "be68edf020af47eca700b8bd96b882c1": {
      "model_module": "@jupyter-widgets/controls",
      "model_module_version": "1.4.0",
      "model_name": "TextModel",
      "state": {
       "_dom_classes": [
        "gridcell",
        "removablecell"
       ],
       "_view_module": "sage-combinat-widgets",
       "_view_module_version": "^0.2.0",
       "_view_name": "TextWithTooltipView",
       "continuous_update": false,
       "description_tooltip": "",
       "layout": "IPY_MODEL_ae25d8ee9fe646ebb7fdd668d6ed6cab",
       "style": "IPY_MODEL_f5fb4906ee3a42a6910cfc3bb61985cc",
       "value": "11"
      }
     },
     "be787bb475334196b99d0bf403c3ee7b": {
      "model_module": "@jupyter-widgets/controls",
      "model_module_version": "1.4.0",
      "model_name": "ButtonModel",
      "state": {
       "_dom_classes": [
        "gridbutton",
        "b2"
       ],
       "disabled": true,
       "layout": "IPY_MODEL_d861c29f26634ccfb59b53f634fc937d",
       "style": "IPY_MODEL_f1e5762eecec46ddbfaa3fa077f6c45e"
      }
     },
     "be970d8b4c804258a0b09337f7109263": {
      "model_module": "@jupyter-widgets/controls",
      "model_module_version": "1.4.0",
      "model_name": "ButtonModel",
      "state": {
       "_dom_classes": [
        "gridbutton",
        "b4"
       ],
       "disabled": true,
       "layout": "IPY_MODEL_196c83a3b43a46dca975be63611b8c09",
       "style": "IPY_MODEL_a4f60fe4adc44930a119a31116355ca4"
      }
     },
     "becc0161770c4ec596a9e2fb8455b418": {
      "model_module": "@jupyter-widgets/base",
      "model_module_version": "1.1.0",
      "model_name": "LayoutModel",
      "state": {}
     },
     "becd9284c5034abb9cc057c32d625d5c": {
      "model_module": "@jupyter-widgets/controls",
      "model_module_version": "1.4.0",
      "model_name": "ButtonModel",
      "state": {
       "_dom_classes": [
        "gridbutton",
        "b1"
       ],
       "disabled": true,
       "layout": "IPY_MODEL_196c83a3b43a46dca975be63611b8c09",
       "style": "IPY_MODEL_6f07a676ca314dd0b0824b35b3de6aec"
      }
     },
     "beec62827f2e49fc80b5d144ea9aa49e": {
      "model_module": "@jupyter-widgets/controls",
      "model_module_version": "1.4.0",
      "model_name": "VBoxModel",
      "state": {
       "children": [
        "IPY_MODEL_54bf213772f348b18ad1535413be099b",
        "IPY_MODEL_1952a0070ef94202a8548a9b79c91a77",
        "IPY_MODEL_89bdb3b261dd41a48c16f1ee53672b20"
       ],
       "layout": "IPY_MODEL_9d1a1651cf4c409db2a247a86b13153c"
      }
     },
     "bf0b5c09f2ba434084686259d9b21bc9": {
      "model_module": "@jupyter-widgets/controls",
      "model_module_version": "1.4.0",
      "model_name": "ToggleButtonModel",
      "state": {
       "_dom_classes": [
        "gridbutton"
       ],
       "layout": "IPY_MODEL_ae25d8ee9fe646ebb7fdd668d6ed6cab",
       "style": "IPY_MODEL_5f2c518a2f064dac9c9a19d62078b6d2",
       "tooltip": "0, 0"
      }
     },
     "bf0ee49ca4844548b592416fa044552f": {
      "model_module": "@jupyter-widgets/controls",
      "model_module_version": "1.4.0",
      "model_name": "ToggleButtonModel",
      "state": {
       "_dom_classes": [
        "gridbutton"
       ],
       "description": "-",
       "layout": "IPY_MODEL_24198035057f48ca81a6fa9a718c3f55",
       "style": "IPY_MODEL_62f5b4635ee848bd99759b242d9d77fa",
       "tooltip": "1, 0"
      }
     },
     "bf2673e8db964d7094f46d580630612d": {
      "model_module": "@jupyter-widgets/controls",
      "model_module_version": "1.4.0",
      "model_name": "TextModel",
      "state": {
       "_dom_classes": [
        "gridcell"
       ],
       "_view_module": "sage-combinat-widgets",
       "_view_module_version": "^0.2.0",
       "_view_name": "TextWithTooltipView",
       "continuous_update": false,
       "description_tooltip": "",
       "layout": "IPY_MODEL_ae25d8ee9fe646ebb7fdd668d6ed6cab",
       "style": "IPY_MODEL_7ef493dcbf6e43d3be2fd435b3cc534a",
       "value": "2"
      }
     },
     "bf42fa4dd67f4c0a9ee4ff1e1e8b2244": {
      "model_module": "@jupyter-widgets/controls",
      "model_module_version": "1.4.0",
      "model_name": "DescriptionStyleModel",
      "state": {
       "description_width": ""
      }
     },
     "bf4b97b826c148a5b02281e682986b32": {
      "model_module": "@jupyter-widgets/controls",
      "model_module_version": "1.4.0",
      "model_name": "TextModel",
      "state": {
       "_dom_classes": [
        "gridcell"
       ],
       "_view_module": "sage-combinat-widgets",
       "_view_module_version": "^0.2.0",
       "_view_name": "TextWithTooltipView",
       "continuous_update": false,
       "description_tooltip": "",
       "layout": "IPY_MODEL_24198035057f48ca81a6fa9a718c3f55",
       "style": "IPY_MODEL_fa243d94c6954ef1972322faa2b7c017",
       "value": "8"
      }
     },
     "bf5f61102e6a4bfa85f409bf6b3885b7": {
      "model_module": "@jupyter-widgets/controls",
      "model_module_version": "1.4.0",
      "model_name": "DescriptionStyleModel",
      "state": {
       "description_width": ""
      }
     },
     "bf66b2d2ddfc4a028f7a30cf177198e3": {
      "model_module": "@jupyter-widgets/base",
      "model_module_version": "1.1.0",
      "model_name": "LayoutModel",
      "state": {}
     },
     "bf6ba93bf2f34e33b8a37476e6d5eb4a": {
      "model_module": "@jupyter-widgets/controls",
      "model_module_version": "1.4.0",
      "model_name": "TextModel",
      "state": {
       "_dom_classes": [
        "blankcell"
       ],
       "disabled": true,
       "layout": "IPY_MODEL_ae25d8ee9fe646ebb7fdd668d6ed6cab",
       "style": "IPY_MODEL_ebfaa5806e594eb09884a493f4c27353"
      }
     },
     "bf837b918493424d81e1853dbe80e4cd": {
      "model_module": "@jupyter-widgets/controls",
      "model_module_version": "1.4.0",
      "model_name": "ButtonStyleModel",
      "state": {}
     },
     "bffe278c5aa24f6db4b1d10d90c255e9": {
      "model_module": "@jupyter-widgets/controls",
      "model_module_version": "1.4.0",
      "model_name": "TextModel",
      "state": {
       "_dom_classes": [
        "gridcell"
       ],
       "_view_module": "sage-combinat-widgets",
       "_view_module_version": "^0.2.0",
       "_view_name": "TextWithTooltipView",
       "continuous_update": false,
       "description_tooltip": "",
       "layout": "IPY_MODEL_24198035057f48ca81a6fa9a718c3f55",
       "style": "IPY_MODEL_c20734fa55d24346be054ef206893d98",
       "value": "5"
      }
     },
     "c050dfedd3b9483c894ee2f12f6b8e7f": {
      "model_module": "@jupyter-widgets/base",
      "model_module_version": "1.1.0",
      "model_name": "LayoutModel",
      "state": {}
     },
     "c07170817ec146f29959d8951811bb25": {
      "model_module": "@jupyter-widgets/base",
      "model_module_version": "1.1.0",
      "model_name": "LayoutModel",
      "state": {}
     },
     "c0729909465846d884f62ca62a500a41": {
      "model_module": "@jupyter-widgets/base",
      "model_module_version": "1.1.0",
      "model_name": "LayoutModel",
      "state": {}
     },
     "c077ba372e0c40e8adc9e561d416a7a8": {
      "model_module": "@jupyter-widgets/controls",
      "model_module_version": "1.4.0",
      "model_name": "HBoxModel",
      "state": {
       "children": [
        "IPY_MODEL_b98a117d428349f68dbb684b5e86bb28"
       ],
       "layout": "IPY_MODEL_528ad1670456423b96d861b52b9ca0c6"
      }
     },
     "c095415d47774f1cb85fb66e544c8603": {
      "model_module": "@jupyter-widgets/controls",
      "model_module_version": "1.4.0",
      "model_name": "ButtonModel",
      "state": {
       "_dom_classes": [
        "gridbutton",
        "b2"
       ],
       "disabled": true,
       "layout": "IPY_MODEL_d861c29f26634ccfb59b53f634fc937d",
       "style": "IPY_MODEL_250f5417a46d49d687e81180fc034958"
      }
     },
     "c09583732deb4f3f878f1210a481e5c8": {
      "model_module": "@jupyter-widgets/controls",
      "model_module_version": "1.4.0",
      "model_name": "DescriptionStyleModel",
      "state": {
       "description_width": ""
      }
     },
     "c0d22c008e55467e938bfb18117b10ec": {
      "model_module": "@jupyter-widgets/controls",
      "model_module_version": "1.4.0",
      "model_name": "DescriptionStyleModel",
      "state": {
       "description_width": ""
      }
     },
     "c0edcef980b24f5b825666fa475330e4": {
      "model_module": "@jupyter-widgets/base",
      "model_module_version": "1.1.0",
      "model_name": "LayoutModel",
      "state": {}
     },
     "c0f882542b524e0ebff8959913314ff9": {
      "model_module": "@jupyter-widgets/output",
      "model_module_version": "1.0.0",
      "model_name": "OutputModel",
      "state": {
       "layout": "IPY_MODEL_8075d6c01a4241fabae754fc7da635b6",
       "outputs": [
        {
         "data": {
          "text/plain": "s    + s    + s     + 2*s     + s     + s      + s\n ┌┬┐    ┌┬┐    ┌┬┬┐      ┌┬┬┐    ┌┬┬┐    ┌┬┬┬┐    ┌┬┬┬┐\n ├┼┤    ├┼┤    ├┼┴┘      ├┼┼┘    ├┼┼┤    ├┼┴┴┘    ├┼┼┴┘\n ├┼┘    ├┼┤    ├┤        ├┼┘     └┴┴┘    ├┤       └┴┘\n ├┤     └┴┘    ├┤        └┘              └┘   \n └┘            └┘                             "
         },
         "metadata": {},
         "output_type": "display_data"
        }
       ]
      }
     },
     "c109c218fedf4f279ffbd38800bd09c6": {
      "model_module": "@jupyter-widgets/base",
      "model_module_version": "1.1.0",
      "model_name": "LayoutModel",
      "state": {}
     },
     "c10bad6fb31b4989b7e30e75b11b404b": {
      "model_module": "@jupyter-widgets/base",
      "model_module_version": "1.1.0",
      "model_name": "LayoutModel",
      "state": {}
     },
     "c12e0b1ef2fb42eba0cb702e33d352f7": {
      "model_module": "@jupyter-widgets/base",
      "model_module_version": "1.1.0",
      "model_name": "LayoutModel",
      "state": {}
     },
     "c12e482332014428a8c64f3646ab487c": {
      "model_module": "@jupyter-widgets/controls",
      "model_module_version": "1.4.0",
      "model_name": "ButtonModel",
      "state": {
       "_dom_classes": [
        "gridbutton",
        "b1"
       ],
       "disabled": true,
       "layout": "IPY_MODEL_196c83a3b43a46dca975be63611b8c09",
       "style": "IPY_MODEL_674824e0fd114efe91e4e6c7f6a4acf0"
      }
     },
     "c132e09059544969be0124ebef8ad4dc": {
      "model_module": "@jupyter-widgets/controls",
      "model_module_version": "1.4.0",
      "model_name": "TextModel",
      "state": {
       "_dom_classes": [
        "blankcell"
       ],
       "disabled": true,
       "layout": "IPY_MODEL_196c83a3b43a46dca975be63611b8c09",
       "style": "IPY_MODEL_685809a8a4824f6b831659aaa8d772d5"
      }
     },
     "c13b75f09212474bb4109f39b42b294d": {
      "model_module": "@jupyter-widgets/controls",
      "model_module_version": "1.4.0",
      "model_name": "TextModel",
      "state": {
       "_dom_classes": [
        "blankcell"
       ],
       "disabled": true,
       "layout": "IPY_MODEL_196c83a3b43a46dca975be63611b8c09",
       "style": "IPY_MODEL_795bedb7394c49f4ba505bceec89b1d7"
      }
     },
     "c13bb5041cc74901934babe18d9289e5": {
      "model_module": "@jupyter-widgets/base",
      "model_module_version": "1.1.0",
      "model_name": "LayoutModel",
      "state": {}
     },
     "c14f4d6c953b448dacf8376cf31cdbfd": {
      "model_module": "@jupyter-widgets/base",
      "model_module_version": "1.1.0",
      "model_name": "LayoutModel",
      "state": {}
     },
     "c17b9b11960f46b98048fbe5cb464d06": {
      "model_module": "@jupyter-widgets/base",
      "model_module_version": "1.1.0",
      "model_name": "LayoutModel",
      "state": {}
     },
     "c1839f6009324a14b33c1892265da040": {
      "model_module": "@jupyter-widgets/controls",
      "model_module_version": "1.4.0",
      "model_name": "HBoxModel",
      "state": {
       "children": [
        "IPY_MODEL_e5beb6b128d5407285373c09cfc4c52d"
       ],
       "layout": "IPY_MODEL_d8e6a2fbd9fd4b8cb441d0a80e3aa471"
      }
     },
     "c18806eb936e41d68ff35567639f79b1": {
      "model_module": "@jupyter-widgets/base",
      "model_module_version": "1.1.0",
      "model_name": "LayoutModel",
      "state": {}
     },
     "c193fba5c8ac4da3a5397de372f45a2f": {
      "model_module": "@jupyter-widgets/controls",
      "model_module_version": "1.4.0",
      "model_name": "HBoxModel",
      "state": {
       "children": [
        "IPY_MODEL_ae8a3588fdf946ff9a72a96869410bb7",
        "IPY_MODEL_16c3a45fc6cc4cb78ddc85c62c45a9bd",
        "IPY_MODEL_6112d5267d034b8ba68079977f83924c",
        "IPY_MODEL_dd4f97c6d9494b3fb64e57b7d47ee6da",
        "IPY_MODEL_5d9198735c924fdaaafb486441b41c0c",
        "IPY_MODEL_0d086a58ef5b46ac994214024339ea75",
        "IPY_MODEL_becd9284c5034abb9cc057c32d625d5c",
        "IPY_MODEL_b3afa939c2e34590ab2e15ceb4027d69",
        "IPY_MODEL_6df7764baa7e4bdab202e707066284bf",
        "IPY_MODEL_47acc9aae5ec40da91bd07270372c5bb",
        "IPY_MODEL_d143af60a2434e4dacb57ffb7bfaafd2",
        "IPY_MODEL_4c558d10e3664d06b075e945a9101fb3",
        "IPY_MODEL_0164e66df7b740fdb75d3fe0ab5b0828",
        "IPY_MODEL_32d697dd9824406b9adc3685cf8c5f8e",
        "IPY_MODEL_723c4c8fc7cf47bfafd9ef4e49436765",
        "IPY_MODEL_74a76a167e104a188da96424f5de11ee"
       ],
       "layout": "IPY_MODEL_11a5e254190c4f838a40f677bd1cd02d"
      }
     },
     "c1ce389d8da74677b08add06282b6d81": {
      "model_module": "@jupyter-widgets/base",
      "model_module_version": "1.1.0",
      "model_name": "LayoutModel",
      "state": {}
     },
     "c1d00cdf5d9d46ff8f3d8165401ee546": {
      "model_module": "@jupyter-widgets/controls",
      "model_module_version": "1.4.0",
      "model_name": "ButtonStyleModel",
      "state": {}
     },
     "c1e3939f5cca4027b7a2cdf32cdffa91": {
      "model_module": "@jupyter-widgets/controls",
      "model_module_version": "1.4.0",
      "model_name": "ToggleButtonModel",
      "state": {
       "_dom_classes": [
        "gridbutton"
       ],
       "description": "-",
       "layout": "IPY_MODEL_ae25d8ee9fe646ebb7fdd668d6ed6cab",
       "style": "IPY_MODEL_43c3022f63144e2ab8b321f015f4c670",
       "tooltip": "1, 1"
      }
     },
     "c1ffc91196ee424e9ecdd4777bcea8a6": {
      "model_module": "@jupyter-widgets/controls",
      "model_module_version": "1.4.0",
      "model_name": "DescriptionStyleModel",
      "state": {
       "description_width": ""
      }
     },
     "c20734fa55d24346be054ef206893d98": {
      "model_module": "@jupyter-widgets/controls",
      "model_module_version": "1.4.0",
      "model_name": "DescriptionStyleModel",
      "state": {
       "description_width": ""
      }
     },
     "c226fca330b4451584e1e59016763e90": {
      "model_module": "@jupyter-widgets/controls",
      "model_module_version": "1.4.0",
      "model_name": "ButtonStyleModel",
      "state": {}
     },
     "c23396d387394740be0a4aadbb2658d7": {
      "model_module": "@jupyter-widgets/controls",
      "model_module_version": "1.4.0",
      "model_name": "ButtonStyleModel",
      "state": {}
     },
     "c252ac91895047c0a7f4a6af24da17db": {
      "model_module": "@jupyter-widgets/controls",
      "model_module_version": "1.4.0",
      "model_name": "DescriptionStyleModel",
      "state": {
       "description_width": ""
      }
     },
     "c2738c156b75496f9d370c295e9544bd": {
      "model_module": "@jupyter-widgets/controls",
      "model_module_version": "1.4.0",
      "model_name": "DescriptionStyleModel",
      "state": {
       "description_width": ""
      }
     },
     "c27d65b5aaec49e984b3a53adaacf7da": {
      "model_module": "@jupyter-widgets/base",
      "model_module_version": "1.1.0",
      "model_name": "LayoutModel",
      "state": {}
     },
     "c2e33a611edc4911a003b1b102407117": {
      "model_module": "@jupyter-widgets/controls",
      "model_module_version": "1.4.0",
      "model_name": "DescriptionStyleModel",
      "state": {
       "description_width": ""
      }
     },
     "c2f0b0eabc0b48c2b9e1da53d51a8d48": {
      "model_module": "@jupyter-widgets/controls",
      "model_module_version": "1.4.0",
      "model_name": "HBoxModel",
      "state": {
       "children": [
        "IPY_MODEL_057b235ae7704761bfd717cffe22d971",
        "IPY_MODEL_02c7e85d267b42d690be2ee8b5473aee",
        "IPY_MODEL_4853472398744aabbca1d99902c713fe",
        "IPY_MODEL_4236249ffeb343ec93298c18dcfedc4e",
        "IPY_MODEL_f2c94d814a8142c391771be69ed7b84a",
        "IPY_MODEL_07332b47a909493fafca19384b7f67dc",
        "IPY_MODEL_09df7a69397d4593ac2af4b34a8f4f0a",
        "IPY_MODEL_64a6cdac79044188867a7d0242bf9123",
        "IPY_MODEL_27c8b619b1954376b72f8d9aa4e74104",
        "IPY_MODEL_6408a3cfec1e459792cc94c3658c3c0b",
        "IPY_MODEL_ca4295d4331f4e4f98a0aa175b616120",
        "IPY_MODEL_828933878698419ba77b1e8841be415c",
        "IPY_MODEL_644c55838da34497a77f98447d73b713",
        "IPY_MODEL_1d665d661a4749938b34612ffd434265",
        "IPY_MODEL_e71e1224e87246059655e0a7466348cc"
       ],
       "layout": "IPY_MODEL_d72f42b88dd141ee8c2e2ea6d69bf6e5"
      }
     },
     "c2f9ba74bf2441a8a6785c095f8dffb5": {
      "model_module": "@jupyter-widgets/controls",
      "model_module_version": "1.4.0",
      "model_name": "DescriptionStyleModel",
      "state": {
       "description_width": ""
      }
     },
     "c2fca8d71b8d4fe0bee4e6194b3eed5c": {
      "model_module": "@jupyter-widgets/base",
      "model_module_version": "1.1.0",
      "model_name": "LayoutModel",
      "state": {}
     },
     "c33eb5e61e624fddaad15bfc1aff6665": {
      "model_module": "@jupyter-widgets/controls",
      "model_module_version": "1.4.0",
      "model_name": "ButtonStyleModel",
      "state": {}
     },
     "c33fc79e7082402cb2788c50cbbb1e2f": {
      "model_module": "@jupyter-widgets/base",
      "model_module_version": "1.1.0",
      "model_name": "LayoutModel",
      "state": {}
     },
     "c34ecc12d8ee4221b079fde23295fc32": {
      "model_module": "@jupyter-widgets/controls",
      "model_module_version": "1.4.0",
      "model_name": "DescriptionStyleModel",
      "state": {
       "description_width": ""
      }
     },
     "c35583e1a9b6438f9f6e11e5edefb1af": {
      "model_module": "@jupyter-widgets/base",
      "model_module_version": "1.1.0",
      "model_name": "LayoutModel",
      "state": {
       "height": "30px",
       "width": "30px"
      }
     },
     "c36d191c0e15452ab5f00eb223c0ffff": {
      "model_module": "@jupyter-widgets/controls",
      "model_module_version": "1.4.0",
      "model_name": "ButtonStyleModel",
      "state": {}
     },
     "c3775954cba5494bb1cdd52b40abb880": {
      "model_module": "@jupyter-widgets/controls",
      "model_module_version": "1.4.0",
      "model_name": "ButtonModel",
      "state": {
       "_dom_classes": [
        "gridbutton",
        "b1"
       ],
       "disabled": true,
       "layout": "IPY_MODEL_196c83a3b43a46dca975be63611b8c09",
       "style": "IPY_MODEL_6674263d6d754ce6974e313290d7bb3f"
      }
     },
     "c385a20178a84ff4ae8410298a9a8a0a": {
      "model_module": "@jupyter-widgets/base",
      "model_module_version": "1.1.0",
      "model_name": "LayoutModel",
      "state": {}
     },
     "c39a12c992674e6782aa228dadc94b91": {
      "model_module": "@jupyter-widgets/controls",
      "model_module_version": "1.4.0",
      "model_name": "DescriptionStyleModel",
      "state": {
       "description_width": ""
      }
     },
     "c3b9220c83544df5b50afd668ca8c59c": {
      "model_module": "@jupyter-widgets/base",
      "model_module_version": "1.1.0",
      "model_name": "LayoutModel",
      "state": {}
     },
     "c41c852664ca4c9fb96c7d7e9f6feeb1": {
      "model_module": "@jupyter-widgets/controls",
      "model_module_version": "1.4.0",
      "model_name": "ButtonModel",
      "state": {
       "_dom_classes": [
        "gridbutton",
        "b4"
       ],
       "disabled": true,
       "layout": "IPY_MODEL_d861c29f26634ccfb59b53f634fc937d",
       "style": "IPY_MODEL_b8ef93bf1b4b415998ee975421066f07"
      }
     },
     "c469d2505fe54ced8df687aaaeb1487d": {
      "model_module": "@jupyter-widgets/controls",
      "model_module_version": "1.4.0",
      "model_name": "ButtonModel",
      "state": {
       "_dom_classes": [
        "gridbutton",
        "b1"
       ],
       "disabled": true,
       "layout": "IPY_MODEL_581cef88be2741a9bde4fcb6422ff1b0",
       "style": "IPY_MODEL_259cc5f2c8724ef0884b3f68a7e7c205"
      }
     },
     "c4861bfbb075431e835cfde5a39144d4": {
      "model_module": "@jupyter-widgets/base",
      "model_module_version": "1.1.0",
      "model_name": "LayoutModel",
      "state": {}
     },
     "c497b0c73481430c8a146a002786ffd4": {
      "model_module": "@jupyter-widgets/controls",
      "model_module_version": "1.4.0",
      "model_name": "ButtonModel",
      "state": {
       "_dom_classes": [
        "gridbutton",
        "b1"
       ],
       "disabled": true,
       "layout": "IPY_MODEL_196c83a3b43a46dca975be63611b8c09",
       "style": "IPY_MODEL_884f4f99acfe4a4595629951b97a35e1"
      }
     },
     "c4a72300af0047c39c8e932b7df40692": {
      "model_module": "@jupyter-widgets/base",
      "model_module_version": "1.1.0",
      "model_name": "LayoutModel",
      "state": {}
     },
     "c4a752bac2aa487182ae1040872b0d36": {
      "model_module": "@jupyter-widgets/controls",
      "model_module_version": "1.4.0",
      "model_name": "TextModel",
      "state": {
       "_dom_classes": [
        "blankcell"
       ],
       "disabled": true,
       "layout": "IPY_MODEL_581cef88be2741a9bde4fcb6422ff1b0",
       "style": "IPY_MODEL_3712967350004097bc322748ce80ad63"
      }
     },
     "c4ae114198704efe8a76f899a15bd46b": {
      "model_module": "@jupyter-widgets/controls",
      "model_module_version": "1.4.0",
      "model_name": "ButtonStyleModel",
      "state": {}
     },
     "c4bd68fd2cd1420cb81a83624b27060d": {
      "model_module": "@jupyter-widgets/controls",
      "model_module_version": "1.4.0",
      "model_name": "DescriptionStyleModel",
      "state": {
       "description_width": ""
      }
     },
     "c4c981c1229f4973b5b8aa905603e698": {
      "model_module": "@jupyter-widgets/controls",
      "model_module_version": "1.4.0",
      "model_name": "ButtonStyleModel",
      "state": {}
     },
     "c4cf719a8e8c485a8a5e76534ef55316": {
      "model_module": "@jupyter-widgets/controls",
      "model_module_version": "1.4.0",
      "model_name": "ButtonStyleModel",
      "state": {}
     },
     "c4e4bf8bd2fd46388eba4ce503288c0d": {
      "model_module": "@jupyter-widgets/controls",
      "model_module_version": "1.4.0",
      "model_name": "ButtonModel",
      "state": {
       "_dom_classes": [
        "gridbutton",
        "b2"
       ],
       "disabled": true,
       "layout": "IPY_MODEL_d861c29f26634ccfb59b53f634fc937d",
       "style": "IPY_MODEL_3950d50d4a444a88a72085ff27a45467"
      }
     },
     "c4f531f40a984f55a547166394c4f449": {
      "model_module": "@jupyter-widgets/controls",
      "model_module_version": "1.4.0",
      "model_name": "HBoxModel",
      "state": {
       "children": [
        "IPY_MODEL_bf2673e8db964d7094f46d580630612d",
        "IPY_MODEL_092889d046fc4897999c6df5aae63f92",
        "IPY_MODEL_f00260306e5e4814a4c42f5d51f3187e",
        "IPY_MODEL_dc0528c936974c0f9ddf2e66db6e23c2",
        "IPY_MODEL_621b1d18e86d465f8fea0e222e80b081"
       ],
       "layout": "IPY_MODEL_f413bda58e6f4f25aa92aea839ee9407"
      }
     },
     "c500fdf62d884de98692436a9888188a": {
      "model_module": "@jupyter-widgets/controls",
      "model_module_version": "1.4.0",
      "model_name": "ButtonModel",
      "state": {
       "_dom_classes": [
        "gridbutton",
        "b3"
       ],
       "disabled": true,
       "layout": "IPY_MODEL_d861c29f26634ccfb59b53f634fc937d",
       "style": "IPY_MODEL_dd62dbd950e445a8a356d98839e7eafe"
      }
     },
     "c5495155d22948669abfde7106850804": {
      "model_module": "@jupyter-widgets/controls",
      "model_module_version": "1.4.0",
      "model_name": "ButtonModel",
      "state": {
       "_dom_classes": [
        "gridbutton",
        "b1"
       ],
       "disabled": true,
       "layout": "IPY_MODEL_581cef88be2741a9bde4fcb6422ff1b0",
       "style": "IPY_MODEL_4247b07348694d2786c11b5e61891e06"
      }
     },
     "c57a6df9d1584481a0663913d479ab7a": {
      "model_module": "@jupyter-widgets/controls",
      "model_module_version": "1.4.0",
      "model_name": "ButtonModel",
      "state": {
       "_dom_classes": [
        "gridbutton",
        "b3"
       ],
       "disabled": true,
       "layout": "IPY_MODEL_581cef88be2741a9bde4fcb6422ff1b0",
       "style": "IPY_MODEL_8e36cade4f9d447b9d79751c219f833d"
      }
     },
     "c585279bd8c34c39be30d164728d13ce": {
      "model_module": "@jupyter-widgets/controls",
      "model_module_version": "1.4.0",
      "model_name": "ButtonModel",
      "state": {
       "_dom_classes": [
        "gridbutton",
        "b3"
       ],
       "disabled": true,
       "layout": "IPY_MODEL_581cef88be2741a9bde4fcb6422ff1b0",
       "style": "IPY_MODEL_9e34833d93bf46ee906de23f73d9b070"
      }
     },
     "c5885725f2814835abfcad31da5d4e8a": {
      "model_module": "@jupyter-widgets/controls",
      "model_module_version": "1.4.0",
      "model_name": "ToggleButtonModel",
      "state": {
       "_dom_classes": [
        "gridbutton"
       ],
       "description": "-",
       "layout": "IPY_MODEL_ae25d8ee9fe646ebb7fdd668d6ed6cab",
       "style": "IPY_MODEL_226f891b678d48ae95fbd83b0eba6e16",
       "tooltip": "0, 1"
      }
     },
     "c58dd7db26d046e481d145c82752ea95": {
      "model_module": "@jupyter-widgets/base",
      "model_module_version": "1.1.0",
      "model_name": "LayoutModel",
      "state": {}
     },
     "c590f2b297b940e79b0b57bd63381b3c": {
      "model_module": "@jupyter-widgets/controls",
      "model_module_version": "1.4.0",
      "model_name": "TextModel",
      "state": {
       "_dom_classes": [
        "blankcell"
       ],
       "disabled": true,
       "layout": "IPY_MODEL_581cef88be2741a9bde4fcb6422ff1b0",
       "style": "IPY_MODEL_2593c0cf20a74a04b111c5e3709c56c7"
      }
     },
     "c598736ed2cc47fd9478628f96884253": {
      "model_module": "@jupyter-widgets/base",
      "model_module_version": "1.1.0",
      "model_name": "LayoutModel",
      "state": {}
     },
     "c5ab0086dd4948c2bce9ab95114bfb36": {
      "model_module": "@jupyter-widgets/controls",
      "model_module_version": "1.4.0",
      "model_name": "TextModel",
      "state": {
       "_dom_classes": [
        "gridcell",
        "removablecell"
       ],
       "_view_module": "sage-combinat-widgets",
       "_view_module_version": "^0.2.0",
       "_view_name": "TextWithTooltipView",
       "continuous_update": false,
       "description_tooltip": "",
       "layout": "IPY_MODEL_ae25d8ee9fe646ebb7fdd668d6ed6cab",
       "style": "IPY_MODEL_5f76e4d0520e4942a67f2d51823a4f39",
       "value": "15"
      }
     },
     "c5bb0943d19d4991a75ff92104c2a75a": {
      "model_module": "@jupyter-widgets/controls",
      "model_module_version": "1.4.0",
      "model_name": "DescriptionStyleModel",
      "state": {
       "description_width": ""
      }
     },
     "c5d402cdedc84cd19c247a31e4ce593a": {
      "model_module": "@jupyter-widgets/base",
      "model_module_version": "1.1.0",
      "model_name": "LayoutModel",
      "state": {}
     },
     "c5d891c56eb14c8eb201206236669c7e": {
      "model_module": "@jupyter-widgets/controls",
      "model_module_version": "1.4.0",
      "model_name": "ButtonModel",
      "state": {
       "_dom_classes": [
        "gridbutton",
        "b3"
       ],
       "disabled": true,
       "layout": "IPY_MODEL_d861c29f26634ccfb59b53f634fc937d",
       "style": "IPY_MODEL_ba5819d40ad245b79c327dfe1361fca0"
      }
     },
     "c5e826e5aaf04b159c595dcf122c79c1": {
      "model_module": "@jupyter-widgets/base",
      "model_module_version": "1.1.0",
      "model_name": "LayoutModel",
      "state": {}
     },
     "c5ed0703f1a045f685cc2617ebc0690a": {
      "model_module": "@jupyter-widgets/base",
      "model_module_version": "1.1.0",
      "model_name": "LayoutModel",
      "state": {}
     },
     "c60759aa253246dcbd98f85fa672534d": {
      "model_module": "@jupyter-widgets/base",
      "model_module_version": "1.1.0",
      "model_name": "LayoutModel",
      "state": {}
     },
     "c61af323afab400a8a0cf935bf2f74e9": {
      "model_module": "@jupyter-widgets/controls",
      "model_module_version": "1.4.0",
      "model_name": "ButtonStyleModel",
      "state": {}
     },
     "c635566efeaa4d0a9c1026622c20dd4c": {
      "model_module": "@jupyter-widgets/controls",
      "model_module_version": "1.4.0",
      "model_name": "TextModel",
      "state": {
       "_dom_classes": [
        "blankcell"
       ],
       "disabled": true,
       "layout": "IPY_MODEL_d861c29f26634ccfb59b53f634fc937d",
       "style": "IPY_MODEL_952315253f994fdead9e26d16353f43d"
      }
     },
     "c64970947f6446ecb2251a395c0fef3d": {
      "model_module": "@jupyter-widgets/base",
      "model_module_version": "1.1.0",
      "model_name": "LayoutModel",
      "state": {}
     },
     "c65e93a707454fa5a1cd9a4f224b034c": {
      "model_module": "@jupyter-widgets/controls",
      "model_module_version": "1.4.0",
      "model_name": "ButtonModel",
      "state": {
       "_dom_classes": [
        "gridbutton",
        "b2"
       ],
       "disabled": true,
       "layout": "IPY_MODEL_d861c29f26634ccfb59b53f634fc937d",
       "style": "IPY_MODEL_b22be57383134afd898d99beaddcd530"
      }
     },
     "c66febdca982419aaff609115342a298": {
      "model_module": "@jupyter-widgets/controls",
      "model_module_version": "1.4.0",
      "model_name": "ButtonStyleModel",
      "state": {}
     },
     "c682bb16341549e7896c8c2c6e76cdb6": {
      "model_module": "@jupyter-widgets/controls",
      "model_module_version": "1.4.0",
      "model_name": "TextModel",
      "state": {
       "_dom_classes": [
        "blankcell"
       ],
       "disabled": true,
       "layout": "IPY_MODEL_581cef88be2741a9bde4fcb6422ff1b0",
       "style": "IPY_MODEL_3c3ab154dce64f95bbaf962eed38bb88"
      }
     },
     "c6ac85a7773347af88eeaed5f0e79707": {
      "model_module": "@jupyter-widgets/controls",
      "model_module_version": "1.4.0",
      "model_name": "HBoxModel",
      "state": {
       "children": [
        "IPY_MODEL_838c112cec7348d18f8c1cfc771bff48",
        "IPY_MODEL_c5d891c56eb14c8eb201206236669c7e",
        "IPY_MODEL_25423fa9cfcc4d3fb585e39c77405b44",
        "IPY_MODEL_2403696f2b6540109eb9e02109e6fd42",
        "IPY_MODEL_93b33b4860a34005a79bc4fbad06811f",
        "IPY_MODEL_40cda0e6696c464e832b2eb93625a92e",
        "IPY_MODEL_f460ad0e1ab5498bbc971521a8a03945",
        "IPY_MODEL_cc5d7c57bc804d45b74c8a23cb5464fe",
        "IPY_MODEL_89629a735a174a37afe207c329a1316a",
        "IPY_MODEL_f7f3c94cfec34acabe454e03dcf05ac7",
        "IPY_MODEL_62b82e500eb840b18c86b300615df684",
        "IPY_MODEL_fac4ad035b5943ea88e57c2a4c714375",
        "IPY_MODEL_a6ef8f699827453c85964e569c92eb3e",
        "IPY_MODEL_d41f06dbc0c84285bd422a0b0a36a26e",
        "IPY_MODEL_6a0230ff02d84fe7a1966487d558c43c",
        "IPY_MODEL_483ca0dc28404e85a1d8db0d90dd530a"
       ],
       "layout": "IPY_MODEL_7cf2bdd7695e45d7ad06c9b735577e73"
      }
     },
     "c6c3764086df497fa2878aff4e49fa5c": {
      "model_module": "@jupyter-widgets/controls",
      "model_module_version": "1.4.0",
      "model_name": "ButtonModel",
      "state": {
       "_dom_classes": [
        "gridbutton",
        "b4"
       ],
       "disabled": true,
       "layout": "IPY_MODEL_581cef88be2741a9bde4fcb6422ff1b0",
       "style": "IPY_MODEL_cb27bcf35fc54d8bbe439eccaa75c44f"
      }
     },
     "c6d5934b2501440dad850899ee407ef7": {
      "model_module": "@jupyter-widgets/controls",
      "model_module_version": "1.4.0",
      "model_name": "DescriptionStyleModel",
      "state": {
       "description_width": ""
      }
     },
     "c6fb20387fbd4a3cb5658120ada09e5f": {
      "model_module": "@jupyter-widgets/controls",
      "model_module_version": "1.4.0",
      "model_name": "ButtonModel",
      "state": {
       "_dom_classes": [
        "gridbutton",
        "b1"
       ],
       "disabled": true,
       "layout": "IPY_MODEL_581cef88be2741a9bde4fcb6422ff1b0",
       "style": "IPY_MODEL_78b3245ca1134f65917030321d14cd84"
      }
     },
     "c6fd9aa7bd7a46cc8967d5ca56381ece": {
      "model_module": "@jupyter-widgets/controls",
      "model_module_version": "1.4.0",
      "model_name": "TextModel",
      "state": {
       "_dom_classes": [
        "blankcell"
       ],
       "disabled": true,
       "layout": "IPY_MODEL_196c83a3b43a46dca975be63611b8c09",
       "style": "IPY_MODEL_eba4f3bb5bd34290a09d4552d9e2e4f5"
      }
     },
     "c700d4995aeb4b91915ada9141f8ca54": {
      "model_module": "@jupyter-widgets/controls",
      "model_module_version": "1.4.0",
      "model_name": "DescriptionStyleModel",
      "state": {
       "description_width": ""
      }
     },
     "c714327e02194e9fa7631e95843a91a2": {
      "model_module": "@jupyter-widgets/controls",
      "model_module_version": "1.4.0",
      "model_name": "DescriptionStyleModel",
      "state": {
       "description_width": ""
      }
     },
     "c716e66855ae41748c2748c470787f08": {
      "model_module": "@jupyter-widgets/controls",
      "model_module_version": "1.4.0",
      "model_name": "HBoxModel",
      "state": {
       "children": [
        "IPY_MODEL_2b5378bd21b140a3baace8abb26baf9d",
        "IPY_MODEL_14bbaa0e16fd46b58a56e9b3f607c1c6"
       ],
       "layout": "IPY_MODEL_1e5caec2131b4f479a46c9b432073750"
      }
     },
     "c76bc347620142b7bb9bf52322ca4c8b": {
      "model_module": "@jupyter-widgets/controls",
      "model_module_version": "1.4.0",
      "model_name": "ButtonModel",
      "state": {
       "_dom_classes": [
        "gridbutton",
        "b2"
       ],
       "disabled": true,
       "layout": "IPY_MODEL_d861c29f26634ccfb59b53f634fc937d",
       "style": "IPY_MODEL_4edd6a4b33f9407da20d816076945e7a"
      }
     },
     "c7869239b4f04453b9669ed8151ff42e": {
      "model_module": "@jupyter-widgets/controls",
      "model_module_version": "1.4.0",
      "model_name": "ButtonStyleModel",
      "state": {}
     },
     "c78a6a1913ea4633815ec17b31f656ed": {
      "model_module": "@jupyter-widgets/controls",
      "model_module_version": "1.4.0",
      "model_name": "ButtonStyleModel",
      "state": {}
     },
     "c78b3bd807464649b168f552cacecaa0": {
      "model_module": "@jupyter-widgets/controls",
      "model_module_version": "1.4.0",
      "model_name": "ButtonStyleModel",
      "state": {}
     },
     "c7eb3028173a4417b0c1a033b1a32763": {
      "model_module": "@jupyter-widgets/base",
      "model_module_version": "1.1.0",
      "model_name": "LayoutModel",
      "state": {}
     },
     "c80512e759144d76b85a598ecc5902f1": {
      "model_module": "@jupyter-widgets/controls",
      "model_module_version": "1.4.0",
      "model_name": "ButtonModel",
      "state": {
       "_dom_classes": [
        "gridbutton",
        "b4"
       ],
       "disabled": true,
       "layout": "IPY_MODEL_196c83a3b43a46dca975be63611b8c09",
       "style": "IPY_MODEL_df15d6eeb269448fba42541ec68ce749"
      }
     },
     "c816ad95e5da4f80b0f370ef7f7327e9": {
      "model_module": "@jupyter-widgets/controls",
      "model_module_version": "1.4.0",
      "model_name": "ToggleButtonModel",
      "state": {
       "_dom_classes": [
        "gridbutton"
       ],
       "description": "-",
       "layout": "IPY_MODEL_24198035057f48ca81a6fa9a718c3f55",
       "style": "IPY_MODEL_9469db74f23244bea588d2c4f5c80f2e",
       "tooltip": "0, 1"
      }
     },
     "c81e810571c241558e061d0b188d3193": {
      "model_module": "@jupyter-widgets/base",
      "model_module_version": "1.1.0",
      "model_name": "LayoutModel",
      "state": {}
     },
     "c824dfc937e54f55af396f6393b1d461": {
      "model_module": "@jupyter-widgets/controls",
      "model_module_version": "1.4.0",
      "model_name": "ButtonStyleModel",
      "state": {}
     },
     "c83ef24cce744788a71e451ffeda91a5": {
      "model_module": "@jupyter-widgets/controls",
      "model_module_version": "1.4.0",
      "model_name": "ButtonStyleModel",
      "state": {}
     },
     "c8596631457d4a43ae48f07460a8d812": {
      "model_module": "@jupyter-widgets/controls",
      "model_module_version": "1.4.0",
      "model_name": "DescriptionStyleModel",
      "state": {
       "description_width": ""
      }
     },
     "c85f54b452f84c72adbc66529acadd35": {
      "model_module": "@jupyter-widgets/controls",
      "model_module_version": "1.4.0",
      "model_name": "ButtonStyleModel",
      "state": {}
     },
     "c86c10cda765407d8b6f586517fefc77": {
      "model_module": "@jupyter-widgets/controls",
      "model_module_version": "1.4.0",
      "model_name": "TextModel",
      "state": {
       "_dom_classes": [
        "blankcell"
       ],
       "disabled": true,
       "layout": "IPY_MODEL_196c83a3b43a46dca975be63611b8c09",
       "style": "IPY_MODEL_58d9a0d75a95411e883eefd8a04d2ee5"
      }
     },
     "c885df59ab3b459fb56ba453a2c30c0f": {
      "model_module": "@jupyter-widgets/base",
      "model_module_version": "1.1.0",
      "model_name": "LayoutModel",
      "state": {}
     },
     "c8c4726bc35342c7863c223f5803727f": {
      "model_module": "@jupyter-widgets/base",
      "model_module_version": "1.1.0",
      "model_name": "LayoutModel",
      "state": {}
     },
     "c8ce604f9a904d069786c523001bd2f4": {
      "model_module": "@jupyter-widgets/controls",
      "model_module_version": "1.4.0",
      "model_name": "ButtonStyleModel",
      "state": {}
     },
     "c8cf75ce5a3641c0a4c8893d9039cfc5": {
      "model_module": "@jupyter-widgets/controls",
      "model_module_version": "1.4.0",
      "model_name": "ButtonModel",
      "state": {
       "_dom_classes": [
        "gridbutton",
        "b2"
       ],
       "disabled": true,
       "layout": "IPY_MODEL_d861c29f26634ccfb59b53f634fc937d",
       "style": "IPY_MODEL_ead066ca6df54cc49771ef1003e1b905"
      }
     },
     "c8d3d9d792c646598994922c3896a117": {
      "model_module": "@jupyter-widgets/controls",
      "model_module_version": "1.4.0",
      "model_name": "TextModel",
      "state": {
       "_dom_classes": [
        "blankcell"
       ],
       "disabled": true,
       "layout": "IPY_MODEL_d861c29f26634ccfb59b53f634fc937d",
       "style": "IPY_MODEL_6ec1ccbeb65e4618879699c5f2b070c3"
      }
     },
     "c8dd74c32c6646009478652a279a2c81": {
      "model_module": "@jupyter-widgets/base",
      "model_module_version": "1.1.0",
      "model_name": "LayoutModel",
      "state": {}
     },
     "c8f28835597143fc8fdc63ddd43a7c8d": {
      "model_module": "@jupyter-widgets/base",
      "model_module_version": "1.1.0",
      "model_name": "LayoutModel",
      "state": {}
     },
     "c90c72df71964f58b29aea2e512d6ff0": {
      "model_module": "@jupyter-widgets/controls",
      "model_module_version": "1.4.0",
      "model_name": "DescriptionStyleModel",
      "state": {
       "description_width": ""
      }
     },
     "c91d2591eac14248a8c0668f817a26c9": {
      "model_module": "@jupyter-widgets/controls",
      "model_module_version": "1.4.0",
      "model_name": "DescriptionStyleModel",
      "state": {
       "description_width": ""
      }
     },
     "c92ac3ac57f4444085ae5b9546866dc2": {
      "model_module": "@jupyter-widgets/controls",
      "model_module_version": "1.4.0",
      "model_name": "ButtonModel",
      "state": {
       "_dom_classes": [
        "gridbutton",
        "b3"
       ],
       "disabled": true,
       "layout": "IPY_MODEL_581cef88be2741a9bde4fcb6422ff1b0",
       "style": "IPY_MODEL_374b295cdc6d480cbfed1b8803cf9b19"
      }
     },
     "c92f1f9ed4cb432c9692e932bb7f501d": {
      "model_module": "@jupyter-widgets/base",
      "model_module_version": "1.1.0",
      "model_name": "LayoutModel",
      "state": {}
     },
     "c92fb594cac44250831d0fb9f32accc4": {
      "model_module": "@jupyter-widgets/base",
      "model_module_version": "1.1.0",
      "model_name": "LayoutModel",
      "state": {}
     },
     "c93b049967d4473c8475a8f815abbb9e": {
      "model_module": "@jupyter-widgets/controls",
      "model_module_version": "1.4.0",
      "model_name": "ButtonStyleModel",
      "state": {}
     },
     "c969cd4ed4834650957153bcffff08f6": {
      "model_module": "@jupyter-widgets/base",
      "model_module_version": "1.1.0",
      "model_name": "LayoutModel",
      "state": {}
     },
     "c9a4edbc6349473f8dc89a061e7e89d8": {
      "model_module": "@jupyter-widgets/controls",
      "model_module_version": "1.4.0",
      "model_name": "ButtonModel",
      "state": {
       "_dom_classes": [
        "gridbutton",
        "b1"
       ],
       "disabled": true,
       "layout": "IPY_MODEL_581cef88be2741a9bde4fcb6422ff1b0",
       "style": "IPY_MODEL_70ae51b351a24bc993573fc44b01aa6f"
      }
     },
     "c9e182d8147f4c98848aa0fbf8b74462": {
      "model_module": "@jupyter-widgets/base",
      "model_module_version": "1.1.0",
      "model_name": "LayoutModel",
      "state": {}
     },
     "ca0f00d7cf5a4d9ebad6426c8c0ac3fe": {
      "model_module": "@jupyter-widgets/controls",
      "model_module_version": "1.4.0",
      "model_name": "HBoxModel",
      "state": {
       "children": [
        "IPY_MODEL_53979acae5da44688e8cd71babdc677e",
        "IPY_MODEL_cdc7060cae4f4c6c930e8c80e787b4dd"
       ],
       "layout": "IPY_MODEL_be3c293bceeb4a6287b6cba5c077ecbc"
      }
     },
     "ca2b5902ee5e42e2b2176ac71ee72389": {
      "model_module": "@jupyter-widgets/controls",
      "model_module_version": "1.4.0",
      "model_name": "TextModel",
      "state": {
       "_dom_classes": [
        "gridcell",
        "addablecell"
       ],
       "_view_module": "sage-combinat-widgets",
       "_view_module_version": "^0.2.0",
       "_view_name": "TextWithTooltipView",
       "continuous_update": false,
       "description_tooltip": "",
       "layout": "IPY_MODEL_ae25d8ee9fe646ebb7fdd668d6ed6cab",
       "style": "IPY_MODEL_45bcd2da44db44c0af64f5d920a0b2e8"
      }
     },
     "ca3335a782fb4afe845f52ad3d9883a2": {
      "model_module": "@jupyter-widgets/controls",
      "model_module_version": "1.4.0",
      "model_name": "TextModel",
      "state": {
       "_dom_classes": [
        "blankcell"
       ],
       "disabled": true,
       "layout": "IPY_MODEL_d861c29f26634ccfb59b53f634fc937d",
       "style": "IPY_MODEL_2ac96137ecbf4263a43b72513fa689da"
      }
     },
     "ca4264d82492491198ea9882df6027ca": {
      "model_module": "@jupyter-widgets/controls",
      "model_module_version": "1.4.0",
      "model_name": "DescriptionStyleModel",
      "state": {
       "description_width": ""
      }
     },
     "ca4295d4331f4e4f98a0aa175b616120": {
      "model_module": "@jupyter-widgets/controls",
      "model_module_version": "1.4.0",
      "model_name": "ButtonModel",
      "state": {
       "_dom_classes": [
        "gridbutton",
        "b4"
       ],
       "disabled": true,
       "layout": "IPY_MODEL_d861c29f26634ccfb59b53f634fc937d",
       "style": "IPY_MODEL_9a06670b73da4083b7a7b2b5a0e06738"
      }
     },
     "ca496185068946a09448695d2d417131": {
      "model_module": "@jupyter-widgets/controls",
      "model_module_version": "1.4.0",
      "model_name": "HBoxModel",
      "state": {
       "children": [
        "IPY_MODEL_df5073bd596c491c813363ebed94df05"
       ],
       "layout": "IPY_MODEL_078539d2450c427abad92277c2973244"
      }
     },
     "ca4ec6f0d9954360ba7b8ef325472083": {
      "model_module": "@jupyter-widgets/base",
      "model_module_version": "1.1.0",
      "model_name": "LayoutModel",
      "state": {}
     },
     "ca503af31bd64344a520410bd8c14f8d": {
      "model_module": "@jupyter-widgets/base",
      "model_module_version": "1.1.0",
      "model_name": "LayoutModel",
      "state": {}
     },
     "ca97f5b4bb07410b8e1482095f294dd5": {
      "model_module": "@jupyter-widgets/controls",
      "model_module_version": "1.4.0",
      "model_name": "DescriptionStyleModel",
      "state": {
       "description_width": ""
      }
     },
     "ca9c356be2a346fc8f6485bb2fb30448": {
      "model_module": "@jupyter-widgets/base",
      "model_module_version": "1.1.0",
      "model_name": "LayoutModel",
      "state": {}
     },
     "caa5d4dd4b0f47579f2d648451569ff8": {
      "model_module": "@jupyter-widgets/base",
      "model_module_version": "1.1.0",
      "model_name": "LayoutModel",
      "state": {}
     },
     "cac4af84a9724ab28e9cc374105af0bb": {
      "model_module": "@jupyter-widgets/base",
      "model_module_version": "1.1.0",
      "model_name": "LayoutModel",
      "state": {}
     },
     "cacad9b07a03419e92cbcfc8dc7d5f8a": {
      "model_module": "@jupyter-widgets/base",
      "model_module_version": "1.1.0",
      "model_name": "LayoutModel",
      "state": {}
     },
     "cadaa042326649bca5c8d60b3847beaf": {
      "model_module": "@jupyter-widgets/base",
      "model_module_version": "1.1.0",
      "model_name": "LayoutModel",
      "state": {}
     },
     "cafd604d2dd94da290a1a52742125fc3": {
      "model_module": "@jupyter-widgets/controls",
      "model_module_version": "1.4.0",
      "model_name": "TextModel",
      "state": {
       "_dom_classes": [
        "gridcell"
       ],
       "_view_module": "sage-combinat-widgets",
       "_view_module_version": "^0.2.0",
       "_view_name": "TextWithTooltipView",
       "continuous_update": false,
       "description_tooltip": "",
       "layout": "IPY_MODEL_742ce9cb5c1a4d358dd3aef0fa324d55",
       "style": "IPY_MODEL_d58e36cd18c54b7da83019bf5500ec29",
       "value": "12"
      }
     },
     "cb02f6833cf1498d9037013b3eda6e34": {
      "model_module": "@jupyter-widgets/controls",
      "model_module_version": "1.4.0",
      "model_name": "DescriptionStyleModel",
      "state": {
       "description_width": ""
      }
     },
     "cb0aeea0ba9a4c80a1fc5eb733c34dbe": {
      "model_module": "@jupyter-widgets/base",
      "model_module_version": "1.1.0",
      "model_name": "LayoutModel",
      "state": {}
     },
     "cb27bcf35fc54d8bbe439eccaa75c44f": {
      "model_module": "@jupyter-widgets/controls",
      "model_module_version": "1.4.0",
      "model_name": "ButtonStyleModel",
      "state": {}
     },
     "cb3b8b026ff748eb98bd9e565cb096fd": {
      "model_module": "@jupyter-widgets/base",
      "model_module_version": "1.1.0",
      "model_name": "LayoutModel",
      "state": {}
     },
     "cb6da97692e346218aadac95d2711982": {
      "model_module": "@jupyter-widgets/controls",
      "model_module_version": "1.4.0",
      "model_name": "DescriptionStyleModel",
      "state": {
       "description_width": ""
      }
     },
     "cb6ebb71f2624f96b6b43b12f891bae9": {
      "model_module": "@jupyter-widgets/base",
      "model_module_version": "1.1.0",
      "model_name": "LayoutModel",
      "state": {}
     },
     "cb7ab7b008e04c96b0e8de7883183f77": {
      "model_module": "@jupyter-widgets/base",
      "model_module_version": "1.1.0",
      "model_name": "LayoutModel",
      "state": {}
     },
     "cb8f32a2feae4e04b860107befc76937": {
      "model_module": "@jupyter-widgets/base",
      "model_module_version": "1.1.0",
      "model_name": "LayoutModel",
      "state": {}
     },
     "cb92057931454c2ab3e72e6c9512b92e": {
      "model_module": "@jupyter-widgets/base",
      "model_module_version": "1.1.0",
      "model_name": "LayoutModel",
      "state": {}
     },
     "cb96b17bad05453eac852db9caaaf9b6": {
      "model_module": "@jupyter-widgets/base",
      "model_module_version": "1.1.0",
      "model_name": "LayoutModel",
      "state": {}
     },
     "cb9797d55b2744e8997b697053b98d41": {
      "model_module": "@jupyter-widgets/controls",
      "model_module_version": "1.4.0",
      "model_name": "ButtonStyleModel",
      "state": {}
     },
     "cba4241f80a044aeab5a14e4a8ccea3b": {
      "model_module": "@jupyter-widgets/controls",
      "model_module_version": "1.4.0",
      "model_name": "ButtonModel",
      "state": {
       "_dom_classes": [
        "gridbutton",
        "b4"
       ],
       "disabled": true,
       "layout": "IPY_MODEL_d861c29f26634ccfb59b53f634fc937d",
       "style": "IPY_MODEL_9b97ce71c03e4ab4834765b99fcdefbe"
      }
     },
     "cbc05896fad441eea5964b06f77d3093": {
      "model_module": "@jupyter-widgets/controls",
      "model_module_version": "1.4.0",
      "model_name": "ButtonStyleModel",
      "state": {}
     },
     "cbe07ed4113249d0a82df9870df87e3f": {
      "model_module": "@jupyter-widgets/base",
      "model_module_version": "1.1.0",
      "model_name": "LayoutModel",
      "state": {}
     },
     "cbe291521819437cbd5620908d0cbf8e": {
      "model_module": "@jupyter-widgets/controls",
      "model_module_version": "1.4.0",
      "model_name": "DescriptionStyleModel",
      "state": {
       "description_width": ""
      }
     },
     "cbfcae0001654035b306d7f30e3b506c": {
      "model_module": "@jupyter-widgets/base",
      "model_module_version": "1.1.0",
      "model_name": "LayoutModel",
      "state": {}
     },
     "cc21ebd64a8e473d9fd1cdd00e96c8d3": {
      "model_module": "@jupyter-widgets/controls",
      "model_module_version": "1.4.0",
      "model_name": "VBoxModel",
      "state": {
       "children": [
        "IPY_MODEL_56c5a3b37702444e84f84d7bd2fa14dd",
        "IPY_MODEL_d4afad7e13324f0bb44f481785490354",
        "IPY_MODEL_75f5073d3690435fa321f7ccfcfc404e"
       ],
       "layout": "IPY_MODEL_af9da5283f8d482eadc742ebd3d5cc07"
      }
     },
     "cc318c4f2e1149dcb20f5fe34ad073da": {
      "model_module": "@jupyter-widgets/controls",
      "model_module_version": "1.4.0",
      "model_name": "ButtonModel",
      "state": {
       "_dom_classes": [
        "gridbutton",
        "b2"
       ],
       "disabled": true,
       "layout": "IPY_MODEL_d861c29f26634ccfb59b53f634fc937d",
       "style": "IPY_MODEL_6498f8a443b146e0990bc73dc884afb8"
      }
     },
     "cc3d7cf0d85949bf964044a1519e6e37": {
      "model_module": "@jupyter-widgets/controls",
      "model_module_version": "1.4.0",
      "model_name": "HBoxModel",
      "state": {
       "children": [
        "IPY_MODEL_3c2686d5cbf3421093c58ceb80209898",
        "IPY_MODEL_37471cb9ef7345eca4b4eae7ab79160d",
        "IPY_MODEL_088d911e68ad4b45b1914913e59d3b90"
       ],
       "layout": "IPY_MODEL_499724ce82344397bcc6860f26f6f8b7"
      }
     },
     "cc43f8d9ce7a417da7b9c1a783c2b1d8": {
      "model_module": "@jupyter-widgets/controls",
      "model_module_version": "1.4.0",
      "model_name": "DescriptionStyleModel",
      "state": {
       "description_width": ""
      }
     },
     "cc5d7c57bc804d45b74c8a23cb5464fe": {
      "model_module": "@jupyter-widgets/controls",
      "model_module_version": "1.4.0",
      "model_name": "ButtonModel",
      "state": {
       "_dom_classes": [
        "gridbutton",
        "b3"
       ],
       "disabled": true,
       "layout": "IPY_MODEL_d861c29f26634ccfb59b53f634fc937d",
       "style": "IPY_MODEL_b827093f956c4b27b870b98d0fde32f8"
      }
     },
     "cc776f484b894234b6e73f05fccb7217": {
      "model_module": "@jupyter-widgets/controls",
      "model_module_version": "1.4.0",
      "model_name": "ButtonModel",
      "state": {
       "_dom_classes": [
        "gridbutton",
        "b1"
       ],
       "disabled": true,
       "layout": "IPY_MODEL_581cef88be2741a9bde4fcb6422ff1b0",
       "style": "IPY_MODEL_3cb7277fca674d5a8aa494f3d32f5236"
      }
     },
     "cc7b79f5f6c94d12811e7d2939700135": {
      "model_module": "@jupyter-widgets/base",
      "model_module_version": "1.1.0",
      "model_name": "LayoutModel",
      "state": {}
     },
     "cc7e02786c0d43298cb92027651554df": {
      "model_module": "@jupyter-widgets/base",
      "model_module_version": "1.1.0",
      "model_name": "LayoutModel",
      "state": {}
     },
     "ccc960babd0649b5837e2ab41e4722d6": {
      "model_module": "@jupyter-widgets/controls",
      "model_module_version": "1.4.0",
      "model_name": "VBoxModel",
      "state": {
       "children": [
        "IPY_MODEL_3863b88d994843b48831a1d86ef17b82",
        "IPY_MODEL_7b583965a5bc40c6b9006081d8bcc0e7",
        "IPY_MODEL_3e3fc62bbcb7454093519d4b9e9a8c1d",
        "IPY_MODEL_fce54b6c187d4037821b6a2f0dce2ae5",
        "IPY_MODEL_d7b01944aa5547d9ab52b34e033f96da",
        "IPY_MODEL_8301146511634a489456472fed720175",
        "IPY_MODEL_c2f0b0eabc0b48c2b9e1da53d51a8d48",
        "IPY_MODEL_947ac2a0b8a44266acf54873717a8b0b",
        "IPY_MODEL_c6ac85a7773347af88eeaed5f0e79707",
        "IPY_MODEL_8b3a965f92f44b86a4d9fd1579c75e15",
        "IPY_MODEL_7fff433dbc3740ee8f91653478d666c7",
        "IPY_MODEL_ce7fbfee23934128866fefbaaf1c0ca0",
        "IPY_MODEL_a88ea0f745944969ab125e4cfb7b574c",
        "IPY_MODEL_f2e5ef35d684442180d50268b50358c5",
        "IPY_MODEL_747a899356fa4b2f9763a39edc92a37d",
        "IPY_MODEL_ff60663e0d3a407fae9255811d653a53"
       ],
       "layout": "IPY_MODEL_69cb405badf64a3d88e90d455bdbb451"
      }
     },
     "ccd5b3e75c7a46d3b7fd0877c1ed29b1": {
      "model_module": "@jupyter-widgets/controls",
      "model_module_version": "1.4.0",
      "model_name": "DescriptionStyleModel",
      "state": {
       "description_width": ""
      }
     },
     "ccd774ff93e044a3acb085400bbd416b": {
      "model_module": "@jupyter-widgets/controls",
      "model_module_version": "1.4.0",
      "model_name": "TextModel",
      "state": {
       "_dom_classes": [
        "blankcell"
       ],
       "disabled": true,
       "layout": "IPY_MODEL_581cef88be2741a9bde4fcb6422ff1b0",
       "style": "IPY_MODEL_a2e3863d4fcd48169470ad4f5e64626b"
      }
     },
     "cd0042654881446093d20824eda89fe4": {
      "model_module": "@jupyter-widgets/base",
      "model_module_version": "1.1.0",
      "model_name": "LayoutModel",
      "state": {}
     },
     "cd9dc1a25dd5470391b50849c95bb5ae": {
      "model_module": "@jupyter-widgets/controls",
      "model_module_version": "1.4.0",
      "model_name": "DescriptionStyleModel",
      "state": {
       "description_width": ""
      }
     },
     "cdc7060cae4f4c6c930e8c80e787b4dd": {
      "model_module": "@jupyter-widgets/controls",
      "model_module_version": "1.4.0",
      "model_name": "ToggleButtonModel",
      "state": {
       "_dom_classes": [
        "gridbutton",
        "addablebutton"
       ],
       "description": "+",
       "layout": "IPY_MODEL_ae25d8ee9fe646ebb7fdd668d6ed6cab",
       "style": "IPY_MODEL_7542a156b184407780199ea962d369a3",
       "tooltip": "Click to add a cell here"
      }
     },
     "cde74d09ee644b0bb0e8e2818f1a0855": {
      "model_module": "@jupyter-widgets/controls",
      "model_module_version": "1.4.0",
      "model_name": "ButtonStyleModel",
      "state": {}
     },
     "cdfc4037bb5f4a32bdde912609917278": {
      "model_module": "@jupyter-widgets/controls",
      "model_module_version": "1.4.0",
      "model_name": "ButtonModel",
      "state": {
       "_dom_classes": [
        "gridbutton",
        "b4"
       ],
       "disabled": true,
       "layout": "IPY_MODEL_196c83a3b43a46dca975be63611b8c09",
       "style": "IPY_MODEL_7465603225624724a41f66240fb4fcf0"
      }
     },
     "cdfc6b95ef4541d0a9e9358781eb10dd": {
      "model_module": "@jupyter-widgets/controls",
      "model_module_version": "1.4.0",
      "model_name": "DescriptionStyleModel",
      "state": {
       "description_width": ""
      }
     },
     "ce0db741bac942369ccc326e6adeb42b": {
      "model_module": "@jupyter-widgets/base",
      "model_module_version": "1.1.0",
      "model_name": "LayoutModel",
      "state": {}
     },
     "ce34ce9b3020432d9167f5b587388302": {
      "model_module": "@jupyter-widgets/controls",
      "model_module_version": "1.4.0",
      "model_name": "ButtonModel",
      "state": {
       "_dom_classes": [
        "gridbutton",
        "b1"
       ],
       "disabled": true,
       "layout": "IPY_MODEL_d861c29f26634ccfb59b53f634fc937d",
       "style": "IPY_MODEL_c1d00cdf5d9d46ff8f3d8165401ee546"
      }
     },
     "ce358030724644e9ad082a4c2f653824": {
      "model_module": "@jupyter-widgets/controls",
      "model_module_version": "1.4.0",
      "model_name": "DescriptionStyleModel",
      "state": {
       "description_width": ""
      }
     },
     "ce4d7c44d8364ecd8bf856e57526d963": {
      "model_module": "@jupyter-widgets/base",
      "model_module_version": "1.1.0",
      "model_name": "LayoutModel",
      "state": {}
     },
     "ce509024d11c47fb85a6657464ca17ba": {
      "model_module": "@jupyter-widgets/base",
      "model_module_version": "1.1.0",
      "model_name": "LayoutModel",
      "state": {}
     },
     "ce5d03086b384ec9a9f202960b932201": {
      "model_module": "@jupyter-widgets/base",
      "model_module_version": "1.1.0",
      "model_name": "LayoutModel",
      "state": {}
     },
     "ce7fbfee23934128866fefbaaf1c0ca0": {
      "model_module": "@jupyter-widgets/controls",
      "model_module_version": "1.4.0",
      "model_name": "HBoxModel",
      "state": {
       "children": [
        "IPY_MODEL_fddcfffe4d1f487394fe368e5714921f",
        "IPY_MODEL_b3a77737537b463fa63b39da4dc2d901",
        "IPY_MODEL_610d4f934dc54e64bfe554794885a32c",
        "IPY_MODEL_8b054e3c3328416c8a04607399ac04e4",
        "IPY_MODEL_19395d8f5c57427f87edafdb8f9e0c20",
        "IPY_MODEL_32f76b3c8a4e41d2ae9ff186e8343bd6",
        "IPY_MODEL_ae9cc591bc094d08acc5fcf2f3c8bec4",
        "IPY_MODEL_27dea167c9df49bd83183e73c39356a2",
        "IPY_MODEL_b207f150878c4390b98fa927afd26dd4",
        "IPY_MODEL_84e0a172f68a49c0b36a165085a281cf",
        "IPY_MODEL_bb732521aac145789d40aebdb5ac8da3",
        "IPY_MODEL_7c7ac38146c449ac8f700e051575ac8f",
        "IPY_MODEL_ea2a1a3ddcd7447795d77ba4ad2dd8a5"
       ],
       "layout": "IPY_MODEL_bc1afde8512742d6a6328396fe7015b2"
      }
     },
     "ce8e9a2c381a4cbfa4735d109b06c338": {
      "model_module": "@jupyter-widgets/controls",
      "model_module_version": "1.4.0",
      "model_name": "DescriptionStyleModel",
      "state": {
       "description_width": ""
      }
     },
     "ce97144563f2468989b28e640fc11e4f": {
      "model_module": "@jupyter-widgets/controls",
      "model_module_version": "1.4.0",
      "model_name": "HBoxModel",
      "state": {
       "children": [
        "IPY_MODEL_17a22b68466a44a4958df9b498317dd3",
        "IPY_MODEL_ccd774ff93e044a3acb085400bbd416b",
        "IPY_MODEL_0451048c046b4d32ad1d7a6b13335d1d",
        "IPY_MODEL_c682bb16341549e7896c8c2c6e76cdb6",
        "IPY_MODEL_4cab7cbecfbb40289fb37bc6db525c71",
        "IPY_MODEL_33118a3b88764c939bb7671117501274",
        "IPY_MODEL_246d7f6472584bddb181334b30e5c01d",
        "IPY_MODEL_856e05599b59491ebddd6c42d7759b95",
        "IPY_MODEL_3fde199f2c014220b28b3aa76d192a1e",
        "IPY_MODEL_a86080bde4864562a792927f85255553"
       ],
       "layout": "IPY_MODEL_1372c2b3b3f04f31b58aa357d71b1858"
      }
     },
     "ce9e0b95375b4529a2181913d6cd395a": {
      "model_module": "@jupyter-widgets/controls",
      "model_module_version": "1.4.0",
      "model_name": "HBoxModel",
      "state": {
       "children": [
        "IPY_MODEL_82a191f6ecd54d6283bfefd55feb026c",
        "IPY_MODEL_17810ac0d6044b28a1eec3f4a88d0990",
        "IPY_MODEL_c80512e759144d76b85a598ecc5902f1",
        "IPY_MODEL_4bf586dbb60942a2a3e13fd31bc936b0",
        "IPY_MODEL_be970d8b4c804258a0b09337f7109263",
        "IPY_MODEL_103dca23831347bf81449679ddb7af1f",
        "IPY_MODEL_8c8b8ecf1996407a8fa6280a8c96c2c5",
        "IPY_MODEL_c3775954cba5494bb1cdd52b40abb880",
        "IPY_MODEL_515834f6d6d2416f979b99007338137d",
        "IPY_MODEL_1a487764827e4883ad196adc537999e1",
        "IPY_MODEL_e43bb1b21d5c47df93fa36cc37e60259",
        "IPY_MODEL_ad0dfcc0888541f89512a43900ed6dc4",
        "IPY_MODEL_ad4fe0b5460348adac84c3b3fce68922",
        "IPY_MODEL_57a90274d89040a7b22b1ec19495929f",
        "IPY_MODEL_609863ba104b42ac9f5a65d5ec8bcfdd"
       ],
       "layout": "IPY_MODEL_d6cd094328ef4ebf92cacd3fe6bd82eb"
      }
     },
     "cec123b98a8a4eb5843a3bf152f30295": {
      "model_module": "@jupyter-widgets/output",
      "model_module_version": "1.0.0",
      "model_name": "OutputModel",
      "state": {
       "layout": "IPY_MODEL_37a6bd3ce6a246b0b8739a037201a20d",
       "outputs": [
        {
         "data": {
          "text/plain": "s    + s    + s     + 2*s     + s     + s      + s\n ┌┬┐    ┌┬┐    ┌┬┬┐      ┌┬┬┐    ┌┬┬┐    ┌┬┬┬┐    ┌┬┬┬┐\n ├┼┤    ├┼┤    ├┼┴┘      ├┼┼┘    ├┼┼┤    ├┼┴┴┘    ├┼┼┴┘\n ├┼┘    ├┼┤    ├┤        ├┼┘     └┴┴┘    ├┤       └┴┘\n ├┤     └┴┘    ├┤        └┘              └┘   \n └┘            └┘                             "
         },
         "metadata": {},
         "output_type": "display_data"
        }
       ]
      }
     },
     "cecab72659cc4776b4b911a4fc525d55": {
      "model_module": "@jupyter-widgets/controls",
      "model_module_version": "1.4.0",
      "model_name": "VBoxModel",
      "state": {
       "children": [
        "IPY_MODEL_c4f531f40a984f55a547166394c4f449"
       ],
       "layout": "IPY_MODEL_4fc4f94de8bb4e47981fdd8349a50f75"
      }
     },
     "cee3685d77cf49bd82c032e7e8828658": {
      "model_module": "@jupyter-widgets/controls",
      "model_module_version": "1.4.0",
      "model_name": "HBoxModel",
      "state": {
       "children": [
        "IPY_MODEL_20b3ee2684d642e3be330d2a898fa9c5",
        "IPY_MODEL_1605a774f98b48bb9eef4b06f6078a70"
       ],
       "layout": "IPY_MODEL_34b9ec74a89641c1aab824ee20fd6c21"
      }
     },
     "cf03aba96b524bae99c402df0a590f17": {
      "model_module": "@jupyter-widgets/controls",
      "model_module_version": "1.4.0",
      "model_name": "DescriptionStyleModel",
      "state": {
       "description_width": ""
      }
     },
     "cf24344044084b6186eff933d819ec50": {
      "model_module": "@jupyter-widgets/base",
      "model_module_version": "1.1.0",
      "model_name": "LayoutModel",
      "state": {}
     },
     "cf2faa083cf946b7a1d5d50346d54b96": {
      "model_module": "@jupyter-widgets/base",
      "model_module_version": "1.1.0",
      "model_name": "LayoutModel",
      "state": {}
     },
     "cf3748a7b25c475a98a96d8a58bc5b7e": {
      "model_module": "@jupyter-widgets/controls",
      "model_module_version": "1.4.0",
      "model_name": "HBoxModel",
      "state": {
       "children": [
        "IPY_MODEL_092738de4f304dc2832ed06909587a41",
        "IPY_MODEL_4b8d6c580fad48578730130cb5c73ce3"
       ],
       "layout": "IPY_MODEL_3de21e3d8687499ba6ecbcd075737bad"
      }
     },
     "cf7b951c287944ee917b9faaa5bbd409": {
      "model_module": "@jupyter-widgets/controls",
      "model_module_version": "1.4.0",
      "model_name": "ButtonModel",
      "state": {
       "_dom_classes": [
        "gridbutton",
        "b4"
       ],
       "disabled": true,
       "layout": "IPY_MODEL_581cef88be2741a9bde4fcb6422ff1b0",
       "style": "IPY_MODEL_ac1e691ff6904d7f9e92a449c05fcb43"
      }
     },
     "cf8bbd501e314c458905b19c9a08d7fe": {
      "model_module": "@jupyter-widgets/base",
      "model_module_version": "1.1.0",
      "model_name": "LayoutModel",
      "state": {}
     },
     "cfbf4567ed544dfab4aff60290e2dc0c": {
      "model_module": "@jupyter-widgets/controls",
      "model_module_version": "1.4.0",
      "model_name": "ButtonModel",
      "state": {
       "_dom_classes": [
        "gridbutton",
        "b4"
       ],
       "disabled": true,
       "layout": "IPY_MODEL_196c83a3b43a46dca975be63611b8c09",
       "style": "IPY_MODEL_da50b4709440480cb75d61e75deeaf0e"
      }
     },
     "cffc00632c8e4433a92697b787baab74": {
      "model_module": "@jupyter-widgets/controls",
      "model_module_version": "1.4.0",
      "model_name": "ButtonModel",
      "state": {
       "_dom_classes": [
        "gridbutton",
        "b2"
       ],
       "disabled": true,
       "layout": "IPY_MODEL_196c83a3b43a46dca975be63611b8c09",
       "style": "IPY_MODEL_df32d8431ae548088a81c6041f36aa34"
      }
     },
     "d014426ffc5d47829ff8ca4540f7c564": {
      "model_module": "@jupyter-widgets/base",
      "model_module_version": "1.1.0",
      "model_name": "LayoutModel",
      "state": {}
     },
     "d01b8eafc8b7461e8a462c970fc73c4a": {
      "model_module": "@jupyter-widgets/controls",
      "model_module_version": "1.4.0",
      "model_name": "ToggleButtonModel",
      "state": {
       "_dom_classes": [
        "gridbutton",
        "addablebutton"
       ],
       "description": "+",
       "layout": "IPY_MODEL_ae25d8ee9fe646ebb7fdd668d6ed6cab",
       "style": "IPY_MODEL_f827dbf90629460381bd433267989a58",
       "tooltip": "Click to add a cell here"
      }
     },
     "d01f4239658f4e5695c6e50b7b632a87": {
      "model_module": "@jupyter-widgets/controls",
      "model_module_version": "1.4.0",
      "model_name": "HBoxModel",
      "state": {
       "children": [
        "IPY_MODEL_a648a6c75e874ed5967a62ae9fa73d77",
        "IPY_MODEL_fbe5dd8001f045e8be7f004762a06ca1",
        "IPY_MODEL_01bb7be8facd4b4ba4df449effc0d646"
       ],
       "layout": "IPY_MODEL_a218d9fd225e4fbe9f152d71a714dfe8"
      }
     },
     "d0331121854d4ee788be96a58b9daaa0": {
      "model_module": "@jupyter-widgets/base",
      "model_module_version": "1.1.0",
      "model_name": "LayoutModel",
      "state": {}
     },
     "d0be82bdf27445dc9084ba59619e3c72": {
      "model_module": "@jupyter-widgets/controls",
      "model_module_version": "1.4.0",
      "model_name": "TextModel",
      "state": {
       "_dom_classes": [
        "blankcell"
       ],
       "disabled": true,
       "layout": "IPY_MODEL_581cef88be2741a9bde4fcb6422ff1b0",
       "style": "IPY_MODEL_4f5c286bb2a84845a9697593e3876517"
      }
     },
     "d0cabaed385246299a35bff2b4cdcd5e": {
      "model_module": "@jupyter-widgets/base",
      "model_module_version": "1.1.0",
      "model_name": "LayoutModel",
      "state": {}
     },
     "d0d6be6b650e4fce93c48726ebe74db7": {
      "model_module": "@jupyter-widgets/controls",
      "model_module_version": "1.4.0",
      "model_name": "TextModel",
      "state": {
       "_dom_classes": [
        "blankcell"
       ],
       "disabled": true,
       "layout": "IPY_MODEL_196c83a3b43a46dca975be63611b8c09",
       "style": "IPY_MODEL_64dfe9c3a9954c82870b4cb670283b60"
      }
     },
     "d0f5ce53f9b140029e7d23b284233791": {
      "model_module": "@jupyter-widgets/base",
      "model_module_version": "1.1.0",
      "model_name": "LayoutModel",
      "state": {}
     },
     "d10102e70f9e4cd49dcfaa3fa4deda08": {
      "model_module": "@jupyter-widgets/controls",
      "model_module_version": "1.4.0",
      "model_name": "ButtonStyleModel",
      "state": {}
     },
     "d10fb467352f45898a3c91daa4d609ad": {
      "model_module": "@jupyter-widgets/controls",
      "model_module_version": "1.4.0",
      "model_name": "DescriptionStyleModel",
      "state": {
       "description_width": ""
      }
     },
     "d137de8f021b48e496c1119da6949b31": {
      "model_module": "@jupyter-widgets/controls",
      "model_module_version": "1.4.0",
      "model_name": "ButtonStyleModel",
      "state": {}
     },
     "d13918a4279b4918baac405f91e80559": {
      "model_module": "@jupyter-widgets/base",
      "model_module_version": "1.1.0",
      "model_name": "LayoutModel",
      "state": {}
     },
     "d143af60a2434e4dacb57ffb7bfaafd2": {
      "model_module": "@jupyter-widgets/controls",
      "model_module_version": "1.4.0",
      "model_name": "ButtonModel",
      "state": {
       "_dom_classes": [
        "gridbutton",
        "b1"
       ],
       "disabled": true,
       "layout": "IPY_MODEL_196c83a3b43a46dca975be63611b8c09",
       "style": "IPY_MODEL_8fbfa3b252034dde8c0f7c2eef94f784"
      }
     },
     "d15186455daf4a4f94f0ea7836c2017a": {
      "model_module": "@jupyter-widgets/controls",
      "model_module_version": "1.4.0",
      "model_name": "ButtonStyleModel",
      "state": {}
     },
     "d19619c0e77747b3bf15b9864a0c6d60": {
      "model_module": "@jupyter-widgets/controls",
      "model_module_version": "1.4.0",
      "model_name": "ButtonModel",
      "state": {
       "_dom_classes": [
        "gridbutton",
        "blankbutton"
       ],
       "disabled": true,
       "layout": "IPY_MODEL_7894e10ad26a4303a822eaa23719ae30",
       "style": "IPY_MODEL_6fe5919d2c6248f491f11920724acc2e"
      }
     },
     "d1bca8423262461c8cc2b42b4155961f": {
      "model_module": "@jupyter-widgets/base",
      "model_module_version": "1.1.0",
      "model_name": "LayoutModel",
      "state": {}
     },
     "d1f47fb2a08842e788cb3d351dca1781": {
      "model_module": "@jupyter-widgets/controls",
      "model_module_version": "1.4.0",
      "model_name": "ButtonStyleModel",
      "state": {}
     },
     "d23859beca2b425d9a2dca34729c3f67": {
      "model_module": "@jupyter-widgets/base",
      "model_module_version": "1.1.0",
      "model_name": "LayoutModel",
      "state": {}
     },
     "d2941af6ea61472b8a94ebc8d6bd62dd": {
      "model_module": "@jupyter-widgets/base",
      "model_module_version": "1.1.0",
      "model_name": "LayoutModel",
      "state": {}
     },
     "d2d77acd6cac43fbaf0de5d898b1f973": {
      "model_module": "@jupyter-widgets/base",
      "model_module_version": "1.1.0",
      "model_name": "LayoutModel",
      "state": {}
     },
     "d2f5a9ef45c846a4874b26ec9f25b887": {
      "model_module": "@jupyter-widgets/controls",
      "model_module_version": "1.4.0",
      "model_name": "DescriptionStyleModel",
      "state": {
       "description_width": ""
      }
     },
     "d2ff4a3623b5453ab6bc87825536b0b5": {
      "model_module": "@jupyter-widgets/base",
      "model_module_version": "1.1.0",
      "model_name": "LayoutModel",
      "state": {
       "height": "3em",
       "margin": "0",
       "padding": "0",
       "width": "7em"
      }
     },
     "d31252890ef44f91b958c2bb6485de18": {
      "model_module": "@jupyter-widgets/base",
      "model_module_version": "1.1.0",
      "model_name": "LayoutModel",
      "state": {}
     },
     "d317c46337dc48ea991de4a04061e19a": {
      "model_module": "@jupyter-widgets/controls",
      "model_module_version": "1.4.0",
      "model_name": "DescriptionStyleModel",
      "state": {
       "description_width": ""
      }
     },
     "d3204409c9384724b2345a22f2f7cba3": {
      "model_module": "@jupyter-widgets/controls",
      "model_module_version": "1.4.0",
      "model_name": "ButtonStyleModel",
      "state": {}
     },
     "d358c06bfb2c478394581d3cb95c863b": {
      "model_module": "@jupyter-widgets/controls",
      "model_module_version": "1.4.0",
      "model_name": "DescriptionStyleModel",
      "state": {
       "description_width": ""
      }
     },
     "d36c7c7447f742d0ac8b63fed3f25c05": {
      "model_module": "@jupyter-widgets/controls",
      "model_module_version": "1.4.0",
      "model_name": "DescriptionStyleModel",
      "state": {
       "description_width": ""
      }
     },
     "d36e8f21b72a461aab4c1d821c0d8e5f": {
      "model_module": "@jupyter-widgets/controls",
      "model_module_version": "1.4.0",
      "model_name": "ButtonStyleModel",
      "state": {}
     },
     "d381b24b52804d448165f9a11fcdf388": {
      "model_module": "@jupyter-widgets/controls",
      "model_module_version": "1.4.0",
      "model_name": "ButtonStyleModel",
      "state": {}
     },
     "d3d109d0f2fe4cebb9348af8835fc460": {
      "model_module": "@jupyter-widgets/controls",
      "model_module_version": "1.4.0",
      "model_name": "DescriptionStyleModel",
      "state": {
       "description_width": ""
      }
     },
     "d3dc9d8fa36748098ee7f29c477aa7c4": {
      "model_module": "@jupyter-widgets/base",
      "model_module_version": "1.1.0",
      "model_name": "LayoutModel",
      "state": {}
     },
     "d40fde55fee3498792a348309d366e7c": {
      "model_module": "@jupyter-widgets/controls",
      "model_module_version": "1.4.0",
      "model_name": "ButtonStyleModel",
      "state": {}
     },
     "d41f06dbc0c84285bd422a0b0a36a26e": {
      "model_module": "@jupyter-widgets/controls",
      "model_module_version": "1.4.0",
      "model_name": "ButtonModel",
      "state": {
       "_dom_classes": [
        "gridbutton",
        "b3"
       ],
       "disabled": true,
       "layout": "IPY_MODEL_d861c29f26634ccfb59b53f634fc937d",
       "style": "IPY_MODEL_a281f49d391a49d79af3410695d0625a"
      }
     },
     "d42170f1a15d4aef8701da0f3fc32296": {
      "model_module": "@jupyter-widgets/controls",
      "model_module_version": "1.4.0",
      "model_name": "ToggleButtonModel",
      "state": {
       "_dom_classes": [
        "gridbutton"
       ],
       "description": "-",
       "layout": "IPY_MODEL_742ce9cb5c1a4d358dd3aef0fa324d55",
       "style": "IPY_MODEL_433c1018b09b479a8077e38716485854",
       "tooltip": "3, 0"
      }
     },
     "d42a97052df2491898bcbdd44fa17688": {
      "model_module": "@jupyter-widgets/controls",
      "model_module_version": "1.4.0",
      "model_name": "ButtonStyleModel",
      "state": {}
     },
     "d47b32dc78bf44389adb6127c69af72d": {
      "model_module": "@jupyter-widgets/controls",
      "model_module_version": "1.4.0",
      "model_name": "DescriptionStyleModel",
      "state": {
       "description_width": ""
      }
     },
     "d482526925094073b95dffc46bf0832f": {
      "model_module": "@jupyter-widgets/controls",
      "model_module_version": "1.4.0",
      "model_name": "DescriptionStyleModel",
      "state": {
       "description_width": ""
      }
     },
     "d4a4beb7f62c416a956e060115b21ad9": {
      "model_module": "@jupyter-widgets/base",
      "model_module_version": "1.1.0",
      "model_name": "LayoutModel",
      "state": {}
     },
     "d4afad7e13324f0bb44f481785490354": {
      "model_module": "@jupyter-widgets/controls",
      "model_module_version": "1.4.0",
      "model_name": "HBoxModel",
      "state": {
       "children": [
        "IPY_MODEL_a3ad239fa2c44c37ac9436189eab080a",
        "IPY_MODEL_d01b8eafc8b7461e8a462c970fc73c4a"
       ],
       "layout": "IPY_MODEL_31018bfabfce4f9e823f13417e655882"
      }
     },
     "d4b49cd41b0d40b0b0b011d6726ee6b5": {
      "model_module": "@jupyter-widgets/base",
      "model_module_version": "1.1.0",
      "model_name": "LayoutModel",
      "state": {}
     },
     "d58e36cd18c54b7da83019bf5500ec29": {
      "model_module": "@jupyter-widgets/controls",
      "model_module_version": "1.4.0",
      "model_name": "DescriptionStyleModel",
      "state": {
       "description_width": ""
      }
     },
     "d5a0eb132b804c9f98d649d83dea01af": {
      "model_module": "@jupyter-widgets/base",
      "model_module_version": "1.1.0",
      "model_name": "LayoutModel",
      "state": {}
     },
     "d5be3f1b603a4a388ddf20fa4b036a14": {
      "model_module": "@jupyter-widgets/controls",
      "model_module_version": "1.4.0",
      "model_name": "ButtonStyleModel",
      "state": {}
     },
     "d5da2d5f9e2a4fbba09999cf836e780e": {
      "model_module": "@jupyter-widgets/controls",
      "model_module_version": "1.4.0",
      "model_name": "DescriptionStyleModel",
      "state": {
       "description_width": ""
      }
     },
     "d5e3e60cecd745f2b220b345beb7225f": {
      "model_module": "@jupyter-widgets/controls",
      "model_module_version": "1.4.0",
      "model_name": "ButtonStyleModel",
      "state": {}
     },
     "d5ea58dcda35462490cb3c69120284af": {
      "model_module": "@jupyter-widgets/controls",
      "model_module_version": "1.4.0",
      "model_name": "ButtonStyleModel",
      "state": {}
     },
     "d614eebeb4854c75aac19ae706d2ef9d": {
      "model_module": "@jupyter-widgets/base",
      "model_module_version": "1.1.0",
      "model_name": "LayoutModel",
      "state": {}
     },
     "d61a4398471342a79c53f3d25ffd3558": {
      "model_module": "@jupyter-widgets/base",
      "model_module_version": "1.1.0",
      "model_name": "LayoutModel",
      "state": {}
     },
     "d645b82017fa4a829088d9954b7473eb": {
      "model_module": "@jupyter-widgets/base",
      "model_module_version": "1.1.0",
      "model_name": "LayoutModel",
      "state": {}
     },
     "d654f0f4c562469f956dc803ad6210cf": {
      "model_module": "@jupyter-widgets/controls",
      "model_module_version": "1.4.0",
      "model_name": "HBoxModel",
      "state": {
       "children": [
        "IPY_MODEL_3aa39f8c02ee4feba2bc471aa7f4d991",
        "IPY_MODEL_9242ff71dc4c4197819220ce81e69b09",
        "IPY_MODEL_f92a4271a1b946c587634d946c8d5185",
        "IPY_MODEL_c57a6df9d1584481a0663913d479ab7a",
        "IPY_MODEL_fd01bdbfb7ec41418d8bc3ea319f3d94",
        "IPY_MODEL_668a8cb6443f4846a501b993fffb908e",
        "IPY_MODEL_ee0fb5b290f440568694298955477c63",
        "IPY_MODEL_81e38f9ae97b46deb61c5768ca1b310a",
        "IPY_MODEL_af335f15e1f9486486daf7a8518919e3",
        "IPY_MODEL_a03aa1ef88334c9bbd60469a27fa3f3d",
        "IPY_MODEL_243ed4c2f1724275898d13fe83f6d691",
        "IPY_MODEL_97bac50c66dc4ccc939e75f987813f91",
        "IPY_MODEL_0e04fc8017ee4f12b1722914c97c38a8"
       ],
       "layout": "IPY_MODEL_322f0bd442754bb2af3f36b6d5b862b8"
      }
     },
     "d66bf9e5ce784dc3bf12c9159139cab4": {
      "model_module": "@jupyter-widgets/controls",
      "model_module_version": "1.4.0",
      "model_name": "VBoxModel",
      "state": {
       "children": [
        "IPY_MODEL_b978f9dea71b4c7ba34095f7c85a7cf8",
        "IPY_MODEL_695ad2f41be949479cc83b0b69e9a558",
        "IPY_MODEL_ca496185068946a09448695d2d417131"
       ],
       "layout": "IPY_MODEL_f570344515e64d1bbdc07a7e27f4090c"
      }
     },
     "d679bfd2817d4b539b6dd5011bb4fbe0": {
      "model_module": "@jupyter-widgets/controls",
      "model_module_version": "1.4.0",
      "model_name": "ButtonModel",
      "state": {
       "_dom_classes": [
        "gridbutton",
        "b2"
       ],
       "disabled": true,
       "layout": "IPY_MODEL_581cef88be2741a9bde4fcb6422ff1b0",
       "style": "IPY_MODEL_d7e5fdeccb074283af81172f48013033"
      }
     },
     "d6cd094328ef4ebf92cacd3fe6bd82eb": {
      "model_module": "@jupyter-widgets/base",
      "model_module_version": "1.1.0",
      "model_name": "LayoutModel",
      "state": {}
     },
     "d6cedc94033b47eb9e58968ae623d625": {
      "model_module": "@jupyter-widgets/controls",
      "model_module_version": "1.4.0",
      "model_name": "ButtonModel",
      "state": {
       "_dom_classes": [
        "gridbutton",
        "b4"
       ],
       "disabled": true,
       "layout": "IPY_MODEL_d861c29f26634ccfb59b53f634fc937d",
       "style": "IPY_MODEL_337bb10ac0f3410b8d7bf8cdb176e6eb"
      }
     },
     "d6f96437a01449ca9a4039e30eae288e": {
      "model_module": "@jupyter-widgets/controls",
      "model_module_version": "1.4.0",
      "model_name": "TextModel",
      "state": {
       "_dom_classes": [
        "blankcell"
       ],
       "disabled": true,
       "layout": "IPY_MODEL_196c83a3b43a46dca975be63611b8c09",
       "style": "IPY_MODEL_0affa526f5ed460d8f415fba99f78fa2"
      }
     },
     "d713e34ec0344ec48ee3aa8b976ae160": {
      "model_module": "@jupyter-widgets/base",
      "model_module_version": "1.1.0",
      "model_name": "LayoutModel",
      "state": {}
     },
     "d72b0ed75035469cb754defab7e1b185": {
      "model_module": "@jupyter-widgets/controls",
      "model_module_version": "1.4.0",
      "model_name": "ButtonStyleModel",
      "state": {}
     },
     "d72f42b88dd141ee8c2e2ea6d69bf6e5": {
      "model_module": "@jupyter-widgets/base",
      "model_module_version": "1.1.0",
      "model_name": "LayoutModel",
      "state": {}
     },
     "d744996e120c4d45837b6f8bc7353a87": {
      "model_module": "@jupyter-widgets/base",
      "model_module_version": "1.1.0",
      "model_name": "LayoutModel",
      "state": {}
     },
     "d7686a0835524d24a9108e055347aea0": {
      "model_module": "@jupyter-widgets/base",
      "model_module_version": "1.1.0",
      "model_name": "LayoutModel",
      "state": {}
     },
     "d77dd01cce1e42e39bd62f9a71ca4b3e": {
      "model_module": "@jupyter-widgets/base",
      "model_module_version": "1.1.0",
      "model_name": "LayoutModel",
      "state": {}
     },
     "d78605bf2c3e48a8bcb5072639f0a1a2": {
      "model_module": "@jupyter-widgets/controls",
      "model_module_version": "1.4.0",
      "model_name": "TextModel",
      "state": {
       "_dom_classes": [
        "blankcell"
       ],
       "disabled": true,
       "layout": "IPY_MODEL_d861c29f26634ccfb59b53f634fc937d",
       "style": "IPY_MODEL_556a6d3b83564f53a922662b2fbf889d"
      }
     },
     "d7886f9f471145f5902d7be29606fd05": {
      "model_module": "@jupyter-widgets/controls",
      "model_module_version": "1.4.0",
      "model_name": "TextModel",
      "state": {
       "_dom_classes": [
        "blankcell"
       ],
       "disabled": true,
       "layout": "IPY_MODEL_196c83a3b43a46dca975be63611b8c09",
       "style": "IPY_MODEL_5996d024142743daabe6840c86dd966c"
      }
     },
     "d79b2a0099b64511bfd9d1f64e3db5b2": {
      "model_module": "@jupyter-widgets/base",
      "model_module_version": "1.1.0",
      "model_name": "LayoutModel",
      "state": {}
     },
     "d7b01944aa5547d9ab52b34e033f96da": {
      "model_module": "@jupyter-widgets/controls",
      "model_module_version": "1.4.0",
      "model_name": "HBoxModel",
      "state": {
       "children": [
        "IPY_MODEL_057bd2d8697f4d5387fc4e2b9675bf27",
        "IPY_MODEL_5a29b609361f462fa3f85aba4a5aec11",
        "IPY_MODEL_2fe70802bb6349f4a2cf7923ce324537",
        "IPY_MODEL_577358868f0248a5bdc41832f39e32d6",
        "IPY_MODEL_c4e4bf8bd2fd46388eba4ce503288c0d",
        "IPY_MODEL_df54319383bc422b8fac91ff1c3e851e",
        "IPY_MODEL_f6a7c3cdb110456c8f04a2a71029034b",
        "IPY_MODEL_bba138474f354d068cc339238c9459f9",
        "IPY_MODEL_7969be4a428e4f6a966d61ccc41df9d7",
        "IPY_MODEL_872a7160f1024d8292610aa28d289604",
        "IPY_MODEL_1c920760be2442cc975c4fb8bee7ea94",
        "IPY_MODEL_7f5e17cf334c4e0ba27ae966b03696eb",
        "IPY_MODEL_451528365e34479e92d5dc54ce139fbe"
       ],
       "layout": "IPY_MODEL_9591f92b70bf4e5f9dc6b091196e09dc"
      }
     },
     "d7bc2ac8cbbb4723867b890b089b4946": {
      "model_module": "@jupyter-widgets/controls",
      "model_module_version": "1.4.0",
      "model_name": "DescriptionStyleModel",
      "state": {
       "description_width": ""
      }
     },
     "d7c380725a64417d9f4b4073930fc2db": {
      "model_module": "@jupyter-widgets/controls",
      "model_module_version": "1.4.0",
      "model_name": "DescriptionStyleModel",
      "state": {
       "description_width": ""
      }
     },
     "d7cb47fe77184d4c9410d16a9b6e58c1": {
      "model_module": "@jupyter-widgets/base",
      "model_module_version": "1.1.0",
      "model_name": "LayoutModel",
      "state": {}
     },
     "d7d6f7e85611426ba7e6185da699b813": {
      "model_module": "@jupyter-widgets/controls",
      "model_module_version": "1.4.0",
      "model_name": "ToggleButtonModel",
      "state": {
       "_dom_classes": [
        "gridbutton"
       ],
       "layout": "IPY_MODEL_24198035057f48ca81a6fa9a718c3f55",
       "style": "IPY_MODEL_cc43f8d9ce7a417da7b9c1a783c2b1d8",
       "tooltip": "0, 4"
      }
     },
     "d7e5fdeccb074283af81172f48013033": {
      "model_module": "@jupyter-widgets/controls",
      "model_module_version": "1.4.0",
      "model_name": "ButtonStyleModel",
      "state": {}
     },
     "d7fa549fd3fa4bd2a9417aff64bd4ae5": {
      "model_module": "@jupyter-widgets/controls",
      "model_module_version": "1.4.0",
      "model_name": "ButtonStyleModel",
      "state": {}
     },
     "d833ede7ff8945fc869f3a70d7c03e08": {
      "model_module": "@jupyter-widgets/controls",
      "model_module_version": "1.4.0",
      "model_name": "ButtonModel",
      "state": {
       "_dom_classes": [
        "gridbutton",
        "b1"
       ],
       "disabled": true,
       "layout": "IPY_MODEL_581cef88be2741a9bde4fcb6422ff1b0",
       "style": "IPY_MODEL_f56e21d478ba4559b0586ad89bc2811a"
      }
     },
     "d8364e5310974337a2f77cb636bec9fd": {
      "model_module": "@jupyter-widgets/controls",
      "model_module_version": "1.4.0",
      "model_name": "ButtonStyleModel",
      "state": {}
     },
     "d861c29f26634ccfb59b53f634fc937d": {
      "model_module": "@jupyter-widgets/base",
      "model_module_version": "1.1.0",
      "model_name": "LayoutModel",
      "state": {
       "height": "12px",
       "margin": "0",
       "padding": "0",
       "width": "12px"
      }
     },
     "d86461e14ccc4b85bb02f5aeaef616b9": {
      "model_module": "@jupyter-widgets/controls",
      "model_module_version": "1.4.0",
      "model_name": "HBoxModel",
      "state": {
       "children": [
        "IPY_MODEL_93afb859fe864ae3a81afb9f7bb82ea4",
        "IPY_MODEL_6fded33575384e73b9042515723f4638"
       ],
       "layout": "IPY_MODEL_b6c37bb3114a4024b81f6898f30b9325"
      }
     },
     "d896c40a28a74d80a423ef70152db168": {
      "model_module": "@jupyter-widgets/base",
      "model_module_version": "1.1.0",
      "model_name": "LayoutModel",
      "state": {}
     },
     "d8c78c0032f34d549dd22ec563157b07": {
      "model_module": "@jupyter-widgets/controls",
      "model_module_version": "1.4.0",
      "model_name": "ButtonStyleModel",
      "state": {}
     },
     "d8c9ab7afd22486285e64a01412387c5": {
      "model_module": "@jupyter-widgets/controls",
      "model_module_version": "1.4.0",
      "model_name": "ButtonStyleModel",
      "state": {}
     },
     "d8e6a2fbd9fd4b8cb441d0a80e3aa471": {
      "model_module": "@jupyter-widgets/base",
      "model_module_version": "1.1.0",
      "model_name": "LayoutModel",
      "state": {}
     },
     "d8f74c602e6840b4bbd6edb2478cba96": {
      "model_module": "@jupyter-widgets/base",
      "model_module_version": "1.1.0",
      "model_name": "LayoutModel",
      "state": {}
     },
     "d8fc699b40b84351bc06aa932d4889de": {
      "model_module": "@jupyter-widgets/controls",
      "model_module_version": "1.4.0",
      "model_name": "DescriptionStyleModel",
      "state": {
       "description_width": ""
      }
     },
     "d91e3da34d5240aca28e59e9a1b8f72e": {
      "model_module": "@jupyter-widgets/base",
      "model_module_version": "1.1.0",
      "model_name": "LayoutModel",
      "state": {}
     },
     "d9470aeee0114e8582263f9e932b57d3": {
      "model_module": "@jupyter-widgets/base",
      "model_module_version": "1.1.0",
      "model_name": "LayoutModel",
      "state": {}
     },
     "d960a71419494b2eb964c83b4232497e": {
      "model_module": "@jupyter-widgets/controls",
      "model_module_version": "1.4.0",
      "model_name": "ButtonStyleModel",
      "state": {}
     },
     "d968a8d130f441118009c46ae0e367d4": {
      "model_module": "@jupyter-widgets/base",
      "model_module_version": "1.1.0",
      "model_name": "LayoutModel",
      "state": {}
     },
     "d988618ae14d4416b0d227afe94da25f": {
      "model_module": "@jupyter-widgets/output",
      "model_module_version": "1.0.0",
      "model_name": "OutputModel",
      "state": {
       "layout": "IPY_MODEL_5f412334d4164f978aa19a6722925959",
       "outputs": [
        {
         "data": {
          "text/plain": "┌───┬───┐\n│ 3 │ 1 │\n├───┼───┘\n│ 1 │\n└───┘"
         },
         "metadata": {},
         "output_type": "display_data"
        }
       ]
      }
     },
     "d988fd034d7e411cb147537f57f8ce0b": {
      "model_module": "@jupyter-widgets/base",
      "model_module_version": "1.1.0",
      "model_name": "LayoutModel",
      "state": {}
     },
     "d99459638ae348579db795a0c6aa9786": {
      "model_module": "@jupyter-widgets/controls",
      "model_module_version": "1.4.0",
      "model_name": "DescriptionStyleModel",
      "state": {
       "description_width": ""
      }
     },
     "d99b919f1dd14688b5714601e6965b29": {
      "model_module": "@jupyter-widgets/controls",
      "model_module_version": "1.4.0",
      "model_name": "ButtonModel",
      "state": {
       "_dom_classes": [
        "gridbutton",
        "b4"
       ],
       "disabled": true,
       "layout": "IPY_MODEL_581cef88be2741a9bde4fcb6422ff1b0",
       "style": "IPY_MODEL_3b037b6a9d0649d2a0c175819768e17f"
      }
     },
     "da3dd4fe1b714751976bd8bdac399aa4": {
      "model_module": "@jupyter-widgets/base",
      "model_module_version": "1.1.0",
      "model_name": "LayoutModel",
      "state": {}
     },
     "da50b4709440480cb75d61e75deeaf0e": {
      "model_module": "@jupyter-widgets/controls",
      "model_module_version": "1.4.0",
      "model_name": "ButtonStyleModel",
      "state": {}
     },
     "da8545d146a74459a446fe4b1acb49cd": {
      "model_module": "@jupyter-widgets/controls",
      "model_module_version": "1.4.0",
      "model_name": "DescriptionStyleModel",
      "state": {
       "description_width": ""
      }
     },
     "da873b225ba146c0885ab32ccf9a237f": {
      "model_module": "@jupyter-widgets/base",
      "model_module_version": "1.1.0",
      "model_name": "LayoutModel",
      "state": {}
     },
     "da8ce9e525e441bcb40c2a441a7236d6": {
      "model_module": "@jupyter-widgets/controls",
      "model_module_version": "1.4.0",
      "model_name": "ButtonModel",
      "state": {
       "_dom_classes": [
        "gridbutton",
        "b2"
       ],
       "disabled": true,
       "layout": "IPY_MODEL_581cef88be2741a9bde4fcb6422ff1b0",
       "style": "IPY_MODEL_e3c3de6cb10840e38a087e6b011e99e7"
      }
     },
     "da9f7ea34caf442a812282549307f78c": {
      "model_module": "@jupyter-widgets/controls",
      "model_module_version": "1.4.0",
      "model_name": "ButtonStyleModel",
      "state": {}
     },
     "daa4fc148e2a41c79e0f806eec965453": {
      "model_module": "@jupyter-widgets/base",
      "model_module_version": "1.1.0",
      "model_name": "LayoutModel",
      "state": {}
     },
     "daf0ff5d24484903b13ea1363d0f5bfc": {
      "model_module": "@jupyter-widgets/controls",
      "model_module_version": "1.4.0",
      "model_name": "TextModel",
      "state": {
       "_dom_classes": [
        "blankcell"
       ],
       "disabled": true,
       "layout": "IPY_MODEL_d861c29f26634ccfb59b53f634fc937d",
       "style": "IPY_MODEL_c1ffc91196ee424e9ecdd4777bcea8a6"
      }
     },
     "daf70f1b053c485ca4a1630d0e85c587": {
      "model_module": "@jupyter-widgets/controls",
      "model_module_version": "1.4.0",
      "model_name": "DescriptionStyleModel",
      "state": {
       "description_width": ""
      }
     },
     "db10a580bf644a45bd48dcdade8e19ba": {
      "model_module": "@jupyter-widgets/controls",
      "model_module_version": "1.4.0",
      "model_name": "ToggleButtonModel",
      "state": {
       "_dom_classes": [
        "gridbutton"
       ],
       "layout": "IPY_MODEL_ae25d8ee9fe646ebb7fdd668d6ed6cab",
       "style": "IPY_MODEL_73a5f5b1e4a04d9c94a8f79fb190e861",
       "tooltip": "0, 4"
      }
     },
     "db15403c11734c2e9881cdb3fe5df94d": {
      "model_module": "@jupyter-widgets/controls",
      "model_module_version": "1.4.0",
      "model_name": "ButtonModel",
      "state": {
       "_dom_classes": [
        "gridbutton",
        "b3"
       ],
       "disabled": true,
       "layout": "IPY_MODEL_196c83a3b43a46dca975be63611b8c09",
       "style": "IPY_MODEL_51092668af71429283b2f45c9554e655"
      }
     },
     "db2d8f81dc9b4128a00d245d9348f12c": {
      "model_module": "@jupyter-widgets/controls",
      "model_module_version": "1.4.0",
      "model_name": "TextModel",
      "state": {
       "_dom_classes": [
        "blankcell"
       ],
       "disabled": true,
       "layout": "IPY_MODEL_d861c29f26634ccfb59b53f634fc937d",
       "style": "IPY_MODEL_970c0371061d47ec8d2218603ccba684"
      }
     },
     "db49c484971e404e819764c0b1ba20aa": {
      "model_module": "@jupyter-widgets/base",
      "model_module_version": "1.1.0",
      "model_name": "LayoutModel",
      "state": {}
     },
     "db682f758a7d486eb8b481a2f75d7536": {
      "model_module": "@jupyter-widgets/controls",
      "model_module_version": "1.4.0",
      "model_name": "ToggleButtonModel",
      "state": {
       "_dom_classes": [
        "gridbutton"
       ],
       "layout": "IPY_MODEL_ae25d8ee9fe646ebb7fdd668d6ed6cab",
       "style": "IPY_MODEL_63ce418e259e4da3b6288ab376918e4b",
       "tooltip": "1, 2"
      }
     },
     "db685398e4444b8e822205d2038e5ff5": {
      "model_module": "@jupyter-widgets/base",
      "model_module_version": "1.1.0",
      "model_name": "LayoutModel",
      "state": {}
     },
     "db74540802ff4c6e8778f5758a8c0087": {
      "model_module": "@jupyter-widgets/base",
      "model_module_version": "1.1.0",
      "model_name": "LayoutModel",
      "state": {}
     },
     "db92d69f6c1f450fbe0ac23846194edb": {
      "model_module": "@jupyter-widgets/controls",
      "model_module_version": "1.4.0",
      "model_name": "VBoxModel",
      "state": {
       "children": [
        "IPY_MODEL_dcee87d7f6fb4205b9e0af0caa67d611",
        "IPY_MODEL_ec2d5d22e3b24ffa9593da60a8d6cffc",
        "IPY_MODEL_a37911eafc4e4d84bfed3016dee7f486",
        "IPY_MODEL_83d46eea046345269f93950b9493315c",
        "IPY_MODEL_81c9bf2891b74aeaa61d4ac710f234da"
       ],
       "layout": "IPY_MODEL_624cf7206a4243569a035b36098a978a"
      }
     },
     "dbd28b04bca844a39a23d8bcf33be545": {
      "model_module": "@jupyter-widgets/controls",
      "model_module_version": "1.4.0",
      "model_name": "ButtonStyleModel",
      "state": {}
     },
     "dbe93054dc214d8081716fa36c12428c": {
      "model_module": "@jupyter-widgets/controls",
      "model_module_version": "1.4.0",
      "model_name": "TextModel",
      "state": {
       "_dom_classes": [
        "gridcell"
       ],
       "_view_module": "sage-combinat-widgets",
       "_view_module_version": "^0.2.0",
       "_view_name": "TextWithTooltipView",
       "continuous_update": false,
       "description_tooltip": "",
       "layout": "IPY_MODEL_742ce9cb5c1a4d358dd3aef0fa324d55",
       "style": "IPY_MODEL_b440b20c8e5b4e5a9f93b036c070889e",
       "value": "6"
      }
     },
     "dbf67f2512434ef8bee9d870d77d7f28": {
      "model_module": "@jupyter-widgets/controls",
      "model_module_version": "1.4.0",
      "model_name": "TextModel",
      "state": {
       "_dom_classes": [
        "blankcell"
       ],
       "disabled": true,
       "layout": "IPY_MODEL_196c83a3b43a46dca975be63611b8c09",
       "style": "IPY_MODEL_a44d29b016ad4d6c870ce9277e215271"
      }
     },
     "dbf82955328746739a7297ba75d4aa8f": {
      "model_module": "@jupyter-widgets/controls",
      "model_module_version": "1.4.0",
      "model_name": "DescriptionStyleModel",
      "state": {
       "description_width": ""
      }
     },
     "dbfe6d8d27444ffcbdb607393aaa6e62": {
      "model_module": "@jupyter-widgets/controls",
      "model_module_version": "1.4.0",
      "model_name": "TextModel",
      "state": {
       "_dom_classes": [
        "blankcell"
       ],
       "disabled": true,
       "layout": "IPY_MODEL_581cef88be2741a9bde4fcb6422ff1b0",
       "style": "IPY_MODEL_a99fd5c0569d42b7ae68290d55b20920"
      }
     },
     "dc0528c936974c0f9ddf2e66db6e23c2": {
      "model_module": "@jupyter-widgets/controls",
      "model_module_version": "1.4.0",
      "model_name": "TextModel",
      "state": {
       "_dom_classes": [
        "gridcell"
       ],
       "_view_module": "sage-combinat-widgets",
       "_view_module_version": "^0.2.0",
       "_view_name": "TextWithTooltipView",
       "continuous_update": false,
       "description_tooltip": "",
       "layout": "IPY_MODEL_ae25d8ee9fe646ebb7fdd668d6ed6cab",
       "style": "IPY_MODEL_f70cfaa598fb4d90915b65399bfb374a",
       "value": "5"
      }
     },
     "dc1df888fd9d40eaae147f7739e6e755": {
      "model_module": "@jupyter-widgets/controls",
      "model_module_version": "1.4.0",
      "model_name": "ButtonModel",
      "state": {
       "_dom_classes": [
        "gridbutton",
        "b4"
       ],
       "disabled": true,
       "layout": "IPY_MODEL_d861c29f26634ccfb59b53f634fc937d",
       "style": "IPY_MODEL_9f5333e2c4c040caa431e34df3ee1826"
      }
     },
     "dc2b80b3578243559700e64a817c4de0": {
      "model_module": "@jupyter-widgets/base",
      "model_module_version": "1.1.0",
      "model_name": "LayoutModel",
      "state": {}
     },
     "dc73f0808c4e471990f24a6ae8316fb2": {
      "model_module": "@jupyter-widgets/controls",
      "model_module_version": "1.4.0",
      "model_name": "TextModel",
      "state": {
       "_dom_classes": [
        "blankcell"
       ],
       "disabled": true,
       "layout": "IPY_MODEL_196c83a3b43a46dca975be63611b8c09",
       "style": "IPY_MODEL_3636282df5fd475286aea6204519a027"
      }
     },
     "dc74fe02bc1e43da96522f8345168440": {
      "model_module": "@jupyter-widgets/base",
      "model_module_version": "1.1.0",
      "model_name": "LayoutModel",
      "state": {}
     },
     "dc7ea253b12e4ad3b48b1bbf36047743": {
      "model_module": "@jupyter-widgets/controls",
      "model_module_version": "1.4.0",
      "model_name": "ButtonStyleModel",
      "state": {}
     },
     "dc8e7e107166444e899b5f37bb5d14c6": {
      "model_module": "@jupyter-widgets/base",
      "model_module_version": "1.1.0",
      "model_name": "LayoutModel",
      "state": {}
     },
     "dc92521a0ff44375810bbcfa8800581b": {
      "model_module": "@jupyter-widgets/controls",
      "model_module_version": "1.4.0",
      "model_name": "DescriptionStyleModel",
      "state": {
       "description_width": ""
      }
     },
     "dccb3a743b884e84996c4beb4ca3ea2c": {
      "model_module": "@jupyter-widgets/base",
      "model_module_version": "1.1.0",
      "model_name": "LayoutModel",
      "state": {}
     },
     "dcd37ac58bd64350b7854560949ad9dd": {
      "model_module": "@jupyter-widgets/controls",
      "model_module_version": "1.4.0",
      "model_name": "ButtonModel",
      "state": {
       "_dom_classes": [
        "gridbutton",
        "b1"
       ],
       "disabled": true,
       "layout": "IPY_MODEL_196c83a3b43a46dca975be63611b8c09",
       "style": "IPY_MODEL_bf837b918493424d81e1853dbe80e4cd"
      }
     },
     "dcd86dabab5440c6bda90731d03aa681": {
      "model_module": "@jupyter-widgets/base",
      "model_module_version": "1.1.0",
      "model_name": "LayoutModel",
      "state": {}
     },
     "dcee87d7f6fb4205b9e0af0caa67d611": {
      "model_module": "@jupyter-widgets/controls",
      "model_module_version": "1.4.0",
      "model_name": "HBoxModel",
      "state": {
       "children": [
        "IPY_MODEL_364d6f74549547a68c4364b1faa3a443"
       ],
       "layout": "IPY_MODEL_1a8c7b5ab65348f794633819d7ee9f7b"
      }
     },
     "dcef5a33fec14524aa96bcc7942c559a": {
      "model_module": "@jupyter-widgets/controls",
      "model_module_version": "1.4.0",
      "model_name": "ButtonStyleModel",
      "state": {}
     },
     "dd11b124291c48349b6e0c1b2181781e": {
      "model_module": "@jupyter-widgets/base",
      "model_module_version": "1.1.0",
      "model_name": "LayoutModel",
      "state": {}
     },
     "dd229ce547ce4304b12d37b6fa8e0794": {
      "model_module": "@jupyter-widgets/controls",
      "model_module_version": "1.4.0",
      "model_name": "ToggleButtonModel",
      "state": {
       "_dom_classes": [
        "gridbutton",
        "addablebutton"
       ],
       "description": "+",
       "layout": "IPY_MODEL_24198035057f48ca81a6fa9a718c3f55",
       "style": "IPY_MODEL_30ca2586822d4af693fea386f9209f8c",
       "tooltip": "Click to add a cell here"
      }
     },
     "dd25b8c29e664caa843fc0eca99dcf39": {
      "model_module": "@jupyter-widgets/controls",
      "model_module_version": "1.4.0",
      "model_name": "ButtonModel",
      "state": {
       "_dom_classes": [
        "gridbutton",
        "b4"
       ],
       "disabled": true,
       "layout": "IPY_MODEL_196c83a3b43a46dca975be63611b8c09",
       "style": "IPY_MODEL_3c5091e7820b4c42baf5a58592b98c81"
      }
     },
     "dd2cdbda08c04f198e69ff1c996dc9b0": {
      "model_module": "@jupyter-widgets/base",
      "model_module_version": "1.1.0",
      "model_name": "LayoutModel",
      "state": {}
     },
     "dd4f97c6d9494b3fb64e57b7d47ee6da": {
      "model_module": "@jupyter-widgets/controls",
      "model_module_version": "1.4.0",
      "model_name": "ButtonModel",
      "state": {
       "_dom_classes": [
        "gridbutton",
        "b2"
       ],
       "disabled": true,
       "layout": "IPY_MODEL_196c83a3b43a46dca975be63611b8c09",
       "style": "IPY_MODEL_a89158cd5c384e88a9d4233df3ca89e2"
      }
     },
     "dd62dbd950e445a8a356d98839e7eafe": {
      "model_module": "@jupyter-widgets/controls",
      "model_module_version": "1.4.0",
      "model_name": "ButtonStyleModel",
      "state": {}
     },
     "dd9e5cb3c4834b799c4a44c829b90d15": {
      "model_module": "@jupyter-widgets/controls",
      "model_module_version": "1.4.0",
      "model_name": "ButtonModel",
      "state": {
       "_dom_classes": [
        "gridbutton",
        "b3"
       ],
       "disabled": true,
       "layout": "IPY_MODEL_d861c29f26634ccfb59b53f634fc937d",
       "style": "IPY_MODEL_6f01cd19632740f5bb43e33a55df6cde"
      }
     },
     "dda2ac613c51459a961f417f3dc86391": {
      "model_module": "@jupyter-widgets/base",
      "model_module_version": "1.1.0",
      "model_name": "LayoutModel",
      "state": {}
     },
     "dda3420ffecb4b92852df9a826be921f": {
      "model_module": "@jupyter-widgets/controls",
      "model_module_version": "1.4.0",
      "model_name": "TextModel",
      "state": {
       "_dom_classes": [
        "gridcell",
        "addablecell"
       ],
       "_view_module": "sage-combinat-widgets",
       "_view_module_version": "^0.2.0",
       "_view_name": "TextWithTooltipView",
       "continuous_update": false,
       "description_tooltip": "",
       "layout": "IPY_MODEL_24198035057f48ca81a6fa9a718c3f55",
       "style": "IPY_MODEL_7fcf895790304991b425e5c44a6f229a"
      }
     },
     "ddac92d862344782ae116fca6dcbdf79": {
      "model_module": "@jupyter-widgets/base",
      "model_module_version": "1.1.0",
      "model_name": "LayoutModel",
      "state": {}
     },
     "ddd3a5a2a34949faa5f44c81033cbd07": {
      "model_module": "@jupyter-widgets/base",
      "model_module_version": "1.1.0",
      "model_name": "LayoutModel",
      "state": {}
     },
     "dde81355242049b1a30ccded1816067d": {
      "model_module": "@jupyter-widgets/controls",
      "model_module_version": "1.4.0",
      "model_name": "ButtonStyleModel",
      "state": {}
     },
     "de0fa138eb2242a1bdd8615cb9bfb953": {
      "model_module": "@jupyter-widgets/base",
      "model_module_version": "1.1.0",
      "model_name": "LayoutModel",
      "state": {}
     },
     "de13e9e1def543e0bbbb3a3681eb5451": {
      "model_module": "@jupyter-widgets/base",
      "model_module_version": "1.1.0",
      "model_name": "LayoutModel",
      "state": {}
     },
     "de875fa1cf69482c90ee94af28babcbd": {
      "model_module": "@jupyter-widgets/controls",
      "model_module_version": "1.4.0",
      "model_name": "ButtonModel",
      "state": {
       "_dom_classes": [
        "gridbutton",
        "b4"
       ],
       "disabled": true,
       "layout": "IPY_MODEL_d861c29f26634ccfb59b53f634fc937d",
       "style": "IPY_MODEL_299fdad352474ee5bf86aca647ace8ec"
      }
     },
     "de8fc8b485cb4ff4876a6563ea30f323": {
      "model_module": "@jupyter-widgets/controls",
      "model_module_version": "1.4.0",
      "model_name": "ButtonStyleModel",
      "state": {}
     },
     "dea2090c18844f59be679172016e8c22": {
      "model_module": "@jupyter-widgets/controls",
      "model_module_version": "1.4.0",
      "model_name": "ButtonStyleModel",
      "state": {}
     },
     "deef1080ea274204a459c2c4c0b876ae": {
      "model_module": "@jupyter-widgets/controls",
      "model_module_version": "1.4.0",
      "model_name": "ButtonModel",
      "state": {
       "_dom_classes": [
        "gridbutton",
        "b2"
       ],
       "disabled": true,
       "layout": "IPY_MODEL_581cef88be2741a9bde4fcb6422ff1b0",
       "style": "IPY_MODEL_9ee606a60aad45c99b7d885efc7ff384"
      }
     },
     "def054008e784d309ca10042df0a3756": {
      "model_module": "@jupyter-widgets/base",
      "model_module_version": "1.1.0",
      "model_name": "LayoutModel",
      "state": {}
     },
     "defcc1efe9b74ba3b4f35025fc4db0ce": {
      "model_module": "@jupyter-widgets/controls",
      "model_module_version": "1.4.0",
      "model_name": "ButtonStyleModel",
      "state": {}
     },
     "defef31c59eb420f99ecfd9a8ba0a9a3": {
      "model_module": "@jupyter-widgets/controls",
      "model_module_version": "1.4.0",
      "model_name": "ButtonModel",
      "state": {
       "_dom_classes": [
        "gridbutton",
        "b4"
       ],
       "disabled": true,
       "layout": "IPY_MODEL_d861c29f26634ccfb59b53f634fc937d",
       "style": "IPY_MODEL_168a622bf9034a71869f43bb14f7bed6"
      }
     },
     "df15d6eeb269448fba42541ec68ce749": {
      "model_module": "@jupyter-widgets/controls",
      "model_module_version": "1.4.0",
      "model_name": "ButtonStyleModel",
      "state": {}
     },
     "df32d8431ae548088a81c6041f36aa34": {
      "model_module": "@jupyter-widgets/controls",
      "model_module_version": "1.4.0",
      "model_name": "ButtonStyleModel",
      "state": {}
     },
     "df41d1980ea94a3884e740f9700b550a": {
      "model_module": "@jupyter-widgets/controls",
      "model_module_version": "1.4.0",
      "model_name": "TextModel",
      "state": {
       "_dom_classes": [
        "blankcell"
       ],
       "disabled": true,
       "layout": "IPY_MODEL_196c83a3b43a46dca975be63611b8c09",
       "style": "IPY_MODEL_5b7e745399c04e1bac394ec5e041170c"
      }
     },
     "df5073bd596c491c813363ebed94df05": {
      "model_module": "@jupyter-widgets/controls",
      "model_module_version": "1.4.0",
      "model_name": "ToggleButtonModel",
      "state": {
       "_dom_classes": [
        "gridbutton",
        "addablebutton"
       ],
       "description": "+",
       "layout": "IPY_MODEL_24198035057f48ca81a6fa9a718c3f55",
       "style": "IPY_MODEL_63b1aa5ebb984c699f37429285391900",
       "tooltip": "Click to add a cell here"
      }
     },
     "df54319383bc422b8fac91ff1c3e851e": {
      "model_module": "@jupyter-widgets/controls",
      "model_module_version": "1.4.0",
      "model_name": "ButtonModel",
      "state": {
       "_dom_classes": [
        "gridbutton",
        "b3"
       ],
       "disabled": true,
       "layout": "IPY_MODEL_d861c29f26634ccfb59b53f634fc937d",
       "style": "IPY_MODEL_3be7129d08024dc4b836dcc2210dbf0c"
      }
     },
     "df613cdd0d6540a4902596185909ba5a": {
      "model_module": "@jupyter-widgets/base",
      "model_module_version": "1.1.0",
      "model_name": "LayoutModel",
      "state": {}
     },
     "df61ddf20eac4271b0e206a4a04485e5": {
      "model_module": "@jupyter-widgets/base",
      "model_module_version": "1.1.0",
      "model_name": "LayoutModel",
      "state": {}
     },
     "df94e397fde74423819cb55f2fa74a55": {
      "model_module": "@jupyter-widgets/base",
      "model_module_version": "1.1.0",
      "model_name": "LayoutModel",
      "state": {}
     },
     "dfb9e515c7f841a39e7874523651acb0": {
      "model_module": "@jupyter-widgets/base",
      "model_module_version": "1.1.0",
      "model_name": "LayoutModel",
      "state": {}
     },
     "dfc36756b332417195394ff51b1cf90a": {
      "model_module": "@jupyter-widgets/controls",
      "model_module_version": "1.4.0",
      "model_name": "TextModel",
      "state": {
       "layout": "IPY_MODEL_9efaa59a45e24b9f88da617eeb15bc40",
       "style": "IPY_MODEL_3729a252540a463da832c376ab7033b5"
      }
     },
     "dfee691fd561468ab23dba4b8a74fb9b": {
      "model_module": "@jupyter-widgets/controls",
      "model_module_version": "1.4.0",
      "model_name": "ButtonStyleModel",
      "state": {}
     },
     "e00411fbfe404821a6fa20dcbb3a59a7": {
      "model_module": "@jupyter-widgets/controls",
      "model_module_version": "1.4.0",
      "model_name": "ButtonStyleModel",
      "state": {}
     },
     "e010abc706c04d30a09fcd30bd423a15": {
      "model_module": "@jupyter-widgets/controls",
      "model_module_version": "1.4.0",
      "model_name": "ButtonModel",
      "state": {
       "_dom_classes": [
        "gridbutton",
        "b1"
       ],
       "disabled": true,
       "layout": "IPY_MODEL_d861c29f26634ccfb59b53f634fc937d",
       "style": "IPY_MODEL_0bd52dc89ebc49a886c45cfdf2079642"
      }
     },
     "e04d8092c9f4400096ea3bd44f89c765": {
      "model_module": "@jupyter-widgets/base",
      "model_module_version": "1.1.0",
      "model_name": "LayoutModel",
      "state": {}
     },
     "e0982d39577247b3b2f215f4b6aa2f04": {
      "model_module": "@jupyter-widgets/base",
      "model_module_version": "1.1.0",
      "model_name": "LayoutModel",
      "state": {}
     },
     "e09b587db4624f729d5c90f64cd12230": {
      "model_module": "@jupyter-widgets/base",
      "model_module_version": "1.1.0",
      "model_name": "LayoutModel",
      "state": {}
     },
     "e0c2bf5d3f5d454f92f37fb67a69610d": {
      "model_module": "@jupyter-widgets/controls",
      "model_module_version": "1.4.0",
      "model_name": "TextModel",
      "state": {
       "_dom_classes": [
        "gridcell"
       ],
       "_view_module": "sage-combinat-widgets",
       "_view_module_version": "^0.2.0",
       "_view_name": "TextWithTooltipView",
       "continuous_update": false,
       "description_tooltip": "",
       "layout": "IPY_MODEL_742ce9cb5c1a4d358dd3aef0fa324d55",
       "style": "IPY_MODEL_3cc918e799a2454c8bb79034ee0bbbac",
       "value": "3"
      }
     },
     "e0d26e2adcdf49af90842128d01ef0ee": {
      "model_module": "@jupyter-widgets/controls",
      "model_module_version": "1.4.0",
      "model_name": "ButtonStyleModel",
      "state": {}
     },
     "e0d99fba4b774d6cb3c9e67baa628fb4": {
      "model_module": "@jupyter-widgets/controls",
      "model_module_version": "1.4.0",
      "model_name": "DescriptionStyleModel",
      "state": {
       "description_width": ""
      }
     },
     "e108450830d3437bb5a480fa0661cd23": {
      "model_module": "@jupyter-widgets/base",
      "model_module_version": "1.1.0",
      "model_name": "LayoutModel",
      "state": {}
     },
     "e11756c0130f4783856b187f6506ae99": {
      "model_module": "@jupyter-widgets/controls",
      "model_module_version": "1.4.0",
      "model_name": "ButtonStyleModel",
      "state": {}
     },
     "e12f49d5fbe94cac8b9f28d5bd8bd294": {
      "model_module": "@jupyter-widgets/controls",
      "model_module_version": "1.4.0",
      "model_name": "DescriptionStyleModel",
      "state": {
       "description_width": ""
      }
     },
     "e136c582e036415a9dd4b179a599c9b8": {
      "model_module": "@jupyter-widgets/base",
      "model_module_version": "1.1.0",
      "model_name": "LayoutModel",
      "state": {}
     },
     "e152f3a8ae144e909cfd6987cbbec751": {
      "model_module": "@jupyter-widgets/controls",
      "model_module_version": "1.4.0",
      "model_name": "ButtonModel",
      "state": {
       "_dom_classes": [
        "gridbutton",
        "b3"
       ],
       "disabled": true,
       "layout": "IPY_MODEL_196c83a3b43a46dca975be63611b8c09",
       "style": "IPY_MODEL_063b0710eff4473fad5b1aea74c4351c"
      }
     },
     "e1623e1d302c4640b2451c39d1d2cf25": {
      "model_module": "@jupyter-widgets/base",
      "model_module_version": "1.1.0",
      "model_name": "LayoutModel",
      "state": {}
     },
     "e174831afd3940dcb14d8a4f280efbb7": {
      "model_module": "@jupyter-widgets/base",
      "model_module_version": "1.1.0",
      "model_name": "LayoutModel",
      "state": {}
     },
     "e183e5b52db44a99a0d73d8cf91770d3": {
      "model_module": "@jupyter-widgets/base",
      "model_module_version": "1.1.0",
      "model_name": "LayoutModel",
      "state": {}
     },
     "e1b402701306470aaa67b42819b999f1": {
      "model_module": "@jupyter-widgets/controls",
      "model_module_version": "1.4.0",
      "model_name": "TextModel",
      "state": {
       "layout": "IPY_MODEL_b39ca217eff24b4c98c90619f477e27f",
       "style": "IPY_MODEL_a35080c1248c4ddba0c04a7547cc2c92"
      }
     },
     "e1d7d93440fb41c2a9272c135510b84c": {
      "model_module": "@jupyter-widgets/controls",
      "model_module_version": "1.4.0",
      "model_name": "DescriptionStyleModel",
      "state": {
       "description_width": ""
      }
     },
     "e1dc74d67a8b434388ca2223e97eec01": {
      "model_module": "@jupyter-widgets/controls",
      "model_module_version": "1.4.0",
      "model_name": "HBoxModel",
      "state": {
       "children": [
        "IPY_MODEL_3d286547c2314af2910a3944ea988c80",
        "IPY_MODEL_7e0e7680d08d4a6da91c11a9a27edb36",
        "IPY_MODEL_adad27e8c1d14b7488759afc91a5c399",
        "IPY_MODEL_39fea3e4f45d4c1f80b0363b8f835e13",
        "IPY_MODEL_98588d5c67504635843591d8cc2298c3",
        "IPY_MODEL_2131b9df22b74661bf0ab82a34baaf84",
        "IPY_MODEL_cc776f484b894234b6e73f05fccb7217",
        "IPY_MODEL_5110a91e817f4ad4a4c4b708f58447d6",
        "IPY_MODEL_409e2ac147c84584aaedf5faf3c5035e",
        "IPY_MODEL_4b4c1fcffb064f43b93818f11bfe30b2",
        "IPY_MODEL_1156f7a1f33340f9a79fec7d39ee98c0",
        "IPY_MODEL_deef1080ea274204a459c2c4c0b876ae",
        "IPY_MODEL_90b557bc4efb4fa68b70bc98e755e084"
       ],
       "layout": "IPY_MODEL_ad6e68a4d58045f1966b18ebb1ee036d"
      }
     },
     "e1e97652a66d46758afa52854c7b9799": {
      "model_module": "@jupyter-widgets/controls",
      "model_module_version": "1.4.0",
      "model_name": "ButtonStyleModel",
      "state": {}
     },
     "e1ea2495afba4e1089b5c424ad39ccae": {
      "model_module": "@jupyter-widgets/base",
      "model_module_version": "1.1.0",
      "model_name": "LayoutModel",
      "state": {}
     },
     "e205d680797e4099969b7ac3010bbdda": {
      "model_module": "@jupyter-widgets/controls",
      "model_module_version": "1.4.0",
      "model_name": "ButtonModel",
      "state": {
       "_dom_classes": [
        "gridbutton",
        "b1"
       ],
       "disabled": true,
       "layout": "IPY_MODEL_d861c29f26634ccfb59b53f634fc937d",
       "style": "IPY_MODEL_92d915f4a58d4a38af5c05ea4aca0951"
      }
     },
     "e20930f792ed494abce09e01faa00702": {
      "model_module": "@jupyter-widgets/base",
      "model_module_version": "1.1.0",
      "model_name": "LayoutModel",
      "state": {}
     },
     "e2098940059a450988ac1837144cb614": {
      "model_module": "@jupyter-widgets/base",
      "model_module_version": "1.1.0",
      "model_name": "LayoutModel",
      "state": {}
     },
     "e2201b67ab2642e9ab867a2126e0cc2e": {
      "model_module": "@jupyter-widgets/base",
      "model_module_version": "1.1.0",
      "model_name": "LayoutModel",
      "state": {}
     },
     "e23610b9984f4da6b717b8b6a2720462": {
      "model_module": "@jupyter-widgets/controls",
      "model_module_version": "1.4.0",
      "model_name": "DescriptionStyleModel",
      "state": {
       "description_width": ""
      }
     },
     "e253894567bd4bb5bfa6095c2ae3ed8a": {
      "model_module": "@jupyter-widgets/base",
      "model_module_version": "1.1.0",
      "model_name": "LayoutModel",
      "state": {}
     },
     "e275c021cf2a4fbfb9941e3eca86f169": {
      "model_module": "@jupyter-widgets/controls",
      "model_module_version": "1.4.0",
      "model_name": "DescriptionStyleModel",
      "state": {
       "description_width": ""
      }
     },
     "e2a7838d696641ee8d47c1b6f293496a": {
      "model_module": "@jupyter-widgets/controls",
      "model_module_version": "1.4.0",
      "model_name": "ButtonModel",
      "state": {
       "_dom_classes": [
        "gridbutton",
        "b2"
       ],
       "disabled": true,
       "layout": "IPY_MODEL_581cef88be2741a9bde4fcb6422ff1b0",
       "style": "IPY_MODEL_0fe9f6c8219746e5a622447fd61b6b07"
      }
     },
     "e2e55218e1ef4513b1d07a7f778f2f4f": {
      "model_module": "@jupyter-widgets/controls",
      "model_module_version": "1.4.0",
      "model_name": "ButtonStyleModel",
      "state": {}
     },
     "e2e5e54d17844134bfb2fe4b2b79199c": {
      "model_module": "@jupyter-widgets/base",
      "model_module_version": "1.1.0",
      "model_name": "LayoutModel",
      "state": {}
     },
     "e331fcdb32b84e59a298f44aa46a8ef0": {
      "model_module": "@jupyter-widgets/controls",
      "model_module_version": "1.4.0",
      "model_name": "ButtonModel",
      "state": {
       "_dom_classes": [
        "gridbutton",
        "b3"
       ],
       "disabled": true,
       "layout": "IPY_MODEL_581cef88be2741a9bde4fcb6422ff1b0",
       "style": "IPY_MODEL_7293df84414a47dda40e8e560839beec"
      }
     },
     "e3443d9bdf8e465097746617d0bc49eb": {
      "model_module": "@jupyter-widgets/base",
      "model_module_version": "1.1.0",
      "model_name": "LayoutModel",
      "state": {}
     },
     "e37c5c03dc364312aaa210594c5d4e5e": {
      "model_module": "@jupyter-widgets/controls",
      "model_module_version": "1.4.0",
      "model_name": "ButtonStyleModel",
      "state": {}
     },
     "e3821eb674314eb2a946e093c0ba0398": {
      "model_module": "@jupyter-widgets/base",
      "model_module_version": "1.1.0",
      "model_name": "LayoutModel",
      "state": {}
     },
     "e3aac6e588a548228e3a788a18c99004": {
      "model_module": "@jupyter-widgets/controls",
      "model_module_version": "1.4.0",
      "model_name": "DescriptionStyleModel",
      "state": {
       "description_width": ""
      }
     },
     "e3c3de6cb10840e38a087e6b011e99e7": {
      "model_module": "@jupyter-widgets/controls",
      "model_module_version": "1.4.0",
      "model_name": "ButtonStyleModel",
      "state": {}
     },
     "e3d62b25bcaa41c2ae06ce6314eec105": {
      "model_module": "@jupyter-widgets/base",
      "model_module_version": "1.1.0",
      "model_name": "LayoutModel",
      "state": {}
     },
     "e3e567781dcf45fd9c1649d1e7e15132": {
      "model_module": "@jupyter-widgets/controls",
      "model_module_version": "1.4.0",
      "model_name": "ButtonStyleModel",
      "state": {}
     },
     "e3f797fb757442f39c0c31b06dff09be": {
      "model_module": "@jupyter-widgets/controls",
      "model_module_version": "1.4.0",
      "model_name": "DescriptionStyleModel",
      "state": {
       "description_width": ""
      }
     },
     "e3ff70ec77b342c4b8aa35baa9bf9601": {
      "model_module": "@jupyter-widgets/controls",
      "model_module_version": "1.4.0",
      "model_name": "ButtonStyleModel",
      "state": {}
     },
     "e4215559fd6b4508abb91cba15802dde": {
      "model_module": "@jupyter-widgets/controls",
      "model_module_version": "1.4.0",
      "model_name": "ButtonModel",
      "state": {
       "_dom_classes": [
        "gridbutton",
        "b4"
       ],
       "disabled": true,
       "layout": "IPY_MODEL_581cef88be2741a9bde4fcb6422ff1b0",
       "style": "IPY_MODEL_910efceaf61b4b169d1374dec915f8d5"
      }
     },
     "e43bb1b21d5c47df93fa36cc37e60259": {
      "model_module": "@jupyter-widgets/controls",
      "model_module_version": "1.4.0",
      "model_name": "ButtonModel",
      "state": {
       "_dom_classes": [
        "gridbutton",
        "b4"
       ],
       "disabled": true,
       "layout": "IPY_MODEL_196c83a3b43a46dca975be63611b8c09",
       "style": "IPY_MODEL_b8c975f42b41475d8d0c5c60743abaf5"
      }
     },
     "e4448b1c3c9d46a29fde00a081bb87f5": {
      "model_module": "@jupyter-widgets/controls",
      "model_module_version": "1.4.0",
      "model_name": "ButtonStyleModel",
      "state": {}
     },
     "e449d1f31e7a4b7b97af8a414219f842": {
      "model_module": "@jupyter-widgets/base",
      "model_module_version": "1.1.0",
      "model_name": "LayoutModel",
      "state": {}
     },
     "e488ddfd7e7d4547a30a7e9f7ce7b23a": {
      "model_module": "@jupyter-widgets/controls",
      "model_module_version": "1.4.0",
      "model_name": "ButtonStyleModel",
      "state": {}
     },
     "e4bd4f7c848d41188bde41cbf2e086da": {
      "model_module": "@jupyter-widgets/base",
      "model_module_version": "1.1.0",
      "model_name": "LayoutModel",
      "state": {}
     },
     "e4bf481f87c54bbcafc3ba9c54f807d4": {
      "model_module": "@jupyter-widgets/controls",
      "model_module_version": "1.4.0",
      "model_name": "DescriptionStyleModel",
      "state": {
       "description_width": ""
      }
     },
     "e4c8bfb4a91a46fca3d0bde12e5db544": {
      "model_module": "@jupyter-widgets/base",
      "model_module_version": "1.1.0",
      "model_name": "LayoutModel",
      "state": {}
     },
     "e4e5b2c53dc44167bcab6811908f2085": {
      "model_module": "@jupyter-widgets/base",
      "model_module_version": "1.1.0",
      "model_name": "LayoutModel",
      "state": {}
     },
     "e51c9be801334285a6d5feead74a3e8e": {
      "model_module": "@jupyter-widgets/controls",
      "model_module_version": "1.4.0",
      "model_name": "HBoxModel",
      "state": {
       "children": [
        "IPY_MODEL_4ec1371b17dd405f9af755ddeb0c49c9"
       ],
       "layout": "IPY_MODEL_5d714cd4564f4afe8c32713ce092cef1"
      }
     },
     "e548baa05d3741369db1a7874bbce3dd": {
      "model_module": "@jupyter-widgets/controls",
      "model_module_version": "1.4.0",
      "model_name": "ButtonStyleModel",
      "state": {}
     },
     "e5a48a70ffae43a18d0c5a1e6e9c0573": {
      "model_module": "@jupyter-widgets/controls",
      "model_module_version": "1.4.0",
      "model_name": "ButtonStyleModel",
      "state": {}
     },
     "e5b9a3ebaa6949f6bdb767f031438ef2": {
      "model_module": "@jupyter-widgets/controls",
      "model_module_version": "1.4.0",
      "model_name": "ButtonModel",
      "state": {
       "_dom_classes": [
        "gridbutton",
        "b2"
       ],
       "disabled": true,
       "layout": "IPY_MODEL_d861c29f26634ccfb59b53f634fc937d",
       "style": "IPY_MODEL_e3e567781dcf45fd9c1649d1e7e15132"
      }
     },
     "e5beb6b128d5407285373c09cfc4c52d": {
      "model_module": "@jupyter-widgets/controls",
      "model_module_version": "1.4.0",
      "model_name": "TextModel",
      "state": {
       "_dom_classes": [
        "gridcell",
        "addablecell"
       ],
       "_view_module": "sage-combinat-widgets",
       "_view_module_version": "^0.2.0",
       "_view_name": "TextWithTooltipView",
       "continuous_update": false,
       "description_tooltip": "",
       "layout": "IPY_MODEL_ae25d8ee9fe646ebb7fdd668d6ed6cab",
       "style": "IPY_MODEL_feb2176dcd5e489eb9d632412bbc638c"
      }
     },
     "e5e3d88e786948bc8c72032f5b4a733e": {
      "model_module": "@jupyter-widgets/controls",
      "model_module_version": "1.4.0",
      "model_name": "HBoxModel",
      "state": {
       "children": [
        "IPY_MODEL_581672179f4440c2a34782d15aca1b84",
        "IPY_MODEL_59dbb782e71a4c75bb445e5f0deeb4a9",
        "IPY_MODEL_f84eeeaa84584ccd8faf9a401533a983",
        "IPY_MODEL_78605a1534ae459a980b90c423dcaf40",
        "IPY_MODEL_4ebdb5f5320d4e1d89f02cad429e340a",
        "IPY_MODEL_b07bf31140804f1ea5714a66f4168506",
        "IPY_MODEL_f2108e1e249c48728a2e5937943a857f",
        "IPY_MODEL_8d08b64601e5463fa26a7f1313afdfae",
        "IPY_MODEL_ac6b82f82aa043dc96d0da1aa7ce32b8",
        "IPY_MODEL_578cd7f2adc04aad99bdb8b3661cdacb",
        "IPY_MODEL_3b603fcb97f04af89a62c94e5bd741be",
        "IPY_MODEL_44e9de5ab2f14a9a98a8b179724dd9ab",
        "IPY_MODEL_65ad825c34f8482c88fee30a96eaedf5"
       ],
       "layout": "IPY_MODEL_5afed905691044cf8f8f5e58d4d277b5"
      }
     },
     "e64ed92f3d9145459e20c9c482f5715e": {
      "model_module": "@jupyter-widgets/base",
      "model_module_version": "1.1.0",
      "model_name": "LayoutModel",
      "state": {}
     },
     "e66a8bf478a94cf698cae894c45f5036": {
      "model_module": "@jupyter-widgets/base",
      "model_module_version": "1.1.0",
      "model_name": "LayoutModel",
      "state": {}
     },
     "e66aa9adbc3c43d391e58f92c77380cf": {
      "model_module": "@jupyter-widgets/controls",
      "model_module_version": "1.4.0",
      "model_name": "DescriptionStyleModel",
      "state": {
       "description_width": ""
      }
     },
     "e6747f8ba95a452aad36284e1656b4bd": {
      "model_module": "@jupyter-widgets/base",
      "model_module_version": "1.1.0",
      "model_name": "LayoutModel",
      "state": {}
     },
     "e6766dfd55484f2696e55898b6e6718b": {
      "model_module": "@jupyter-widgets/controls",
      "model_module_version": "1.4.0",
      "model_name": "HBoxModel",
      "state": {
       "children": [
        "IPY_MODEL_154ce83639444ceba468343d6f974823",
        "IPY_MODEL_158942f3b9c24ab180384dc71275b0b6",
        "IPY_MODEL_6121a9d27e2e497d827b392e0e91c5fe",
        "IPY_MODEL_95bcb495866a4b9ebf32d96520104472",
        "IPY_MODEL_acdfb3c333c34d0386e0d5e98837d992",
        "IPY_MODEL_8997a803f1a149428e28491d3400ce36",
        "IPY_MODEL_583aace093f54667b72fa8fd4a73f17b",
        "IPY_MODEL_12433db7e1c84a0d9d5b9f6105976604",
        "IPY_MODEL_b2087b61f77b4466bab6fe4b49cb57de"
       ],
       "layout": "IPY_MODEL_f36c47ca49a1439fbc290bd5351db327"
      }
     },
     "e6b4ead848f0437abce6871c51e33e67": {
      "model_module": "@jupyter-widgets/controls",
      "model_module_version": "1.4.0",
      "model_name": "ButtonModel",
      "state": {
       "_dom_classes": [
        "gridbutton",
        "b4"
       ],
       "disabled": true,
       "layout": "IPY_MODEL_d861c29f26634ccfb59b53f634fc937d",
       "style": "IPY_MODEL_e3ff70ec77b342c4b8aa35baa9bf9601"
      }
     },
     "e6ba8f44b5194e6aade0cd4cdc5514c1": {
      "model_module": "@jupyter-widgets/base",
      "model_module_version": "1.1.0",
      "model_name": "LayoutModel",
      "state": {}
     },
     "e6c210bdab534c4ab182574cf96e4c90": {
      "model_module": "@jupyter-widgets/controls",
      "model_module_version": "1.4.0",
      "model_name": "TextModel",
      "state": {
       "_dom_classes": [
        "gridcell"
       ],
       "_view_module": "sage-combinat-widgets",
       "_view_module_version": "^0.2.0",
       "_view_name": "TextWithTooltipView",
       "continuous_update": false,
       "description_tooltip": "",
       "layout": "IPY_MODEL_24198035057f48ca81a6fa9a718c3f55",
       "style": "IPY_MODEL_9574dc5f30364fd1a0adbe54265607b9",
       "value": "12"
      }
     },
     "e6cd6068a8df4251a6bb436816c02098": {
      "model_module": "@jupyter-widgets/controls",
      "model_module_version": "1.4.0",
      "model_name": "TextModel",
      "state": {
       "_dom_classes": [
        "gridcell"
       ],
       "_view_module": "sage-combinat-widgets",
       "_view_module_version": "^0.2.0",
       "_view_name": "TextWithTooltipView",
       "continuous_update": false,
       "description_tooltip": "",
       "layout": "IPY_MODEL_24198035057f48ca81a6fa9a718c3f55",
       "style": "IPY_MODEL_a0500eef510347a78e8554be4f5506d1",
       "value": "7"
      }
     },
     "e6ce0abb6dd349b18f14f8a2d30f0101": {
      "model_module": "@jupyter-widgets/base",
      "model_module_version": "1.1.0",
      "model_name": "LayoutModel",
      "state": {}
     },
     "e6cf60f7a2e749d194a55017ecdfae9c": {
      "model_module": "@jupyter-widgets/controls",
      "model_module_version": "1.4.0",
      "model_name": "ButtonStyleModel",
      "state": {}
     },
     "e6f4f91d84784058b860de1127f4bbc2": {
      "model_module": "@jupyter-widgets/controls",
      "model_module_version": "1.4.0",
      "model_name": "ButtonModel",
      "state": {
       "_dom_classes": [
        "gridbutton",
        "b1"
       ],
       "disabled": true,
       "layout": "IPY_MODEL_d861c29f26634ccfb59b53f634fc937d",
       "style": "IPY_MODEL_34573e4af9594c49acb3f41306544690"
      }
     },
     "e71d2dde52af435cbbaa094b6b91aa0f": {
      "model_module": "@jupyter-widgets/base",
      "model_module_version": "1.1.0",
      "model_name": "LayoutModel",
      "state": {}
     },
     "e71e1224e87246059655e0a7466348cc": {
      "model_module": "@jupyter-widgets/controls",
      "model_module_version": "1.4.0",
      "model_name": "ButtonModel",
      "state": {
       "_dom_classes": [
        "gridbutton",
        "b4"
       ],
       "disabled": true,
       "layout": "IPY_MODEL_d861c29f26634ccfb59b53f634fc937d",
       "style": "IPY_MODEL_ae232091e30c4123a01d06507050f066"
      }
     },
     "e72464555dad489c865dd7186bbdad42": {
      "model_module": "@jupyter-widgets/base",
      "model_module_version": "1.1.0",
      "model_name": "LayoutModel",
      "state": {}
     },
     "e73f4f9217e04e8f942c117b6e7a9706": {
      "model_module": "@jupyter-widgets/base",
      "model_module_version": "1.1.0",
      "model_name": "LayoutModel",
      "state": {}
     },
     "e74bacf46eba453492b418d5257d8aa0": {
      "model_module": "@jupyter-widgets/controls",
      "model_module_version": "1.4.0",
      "model_name": "DescriptionStyleModel",
      "state": {
       "description_width": ""
      }
     },
     "e761fbdac8264f68bd138a72f56fed4b": {
      "model_module": "@jupyter-widgets/controls",
      "model_module_version": "1.4.0",
      "model_name": "ButtonStyleModel",
      "state": {}
     },
     "e769c9b487db49dbb46eab086c5ec620": {
      "model_module": "@jupyter-widgets/base",
      "model_module_version": "1.1.0",
      "model_name": "LayoutModel",
      "state": {}
     },
     "e790b09be5164ad192e41ac2e3a83e5d": {
      "model_module": "@jupyter-widgets/controls",
      "model_module_version": "1.4.0",
      "model_name": "ButtonModel",
      "state": {
       "_dom_classes": [
        "gridbutton",
        "b2"
       ],
       "disabled": true,
       "layout": "IPY_MODEL_581cef88be2741a9bde4fcb6422ff1b0",
       "style": "IPY_MODEL_026aac54557846ac8a8b0c3d3fcab4ad"
      }
     },
     "e7a383d766ac4606aebb634f0e77df6c": {
      "model_module": "@jupyter-widgets/controls",
      "model_module_version": "1.4.0",
      "model_name": "ButtonStyleModel",
      "state": {}
     },
     "e7af260e881545deb3e6b92482c91f46": {
      "model_module": "@jupyter-widgets/controls",
      "model_module_version": "1.4.0",
      "model_name": "ButtonModel",
      "state": {
       "_dom_classes": [
        "gridbutton",
        "b2"
       ],
       "disabled": true,
       "layout": "IPY_MODEL_196c83a3b43a46dca975be63611b8c09",
       "style": "IPY_MODEL_d42a97052df2491898bcbdd44fa17688"
      }
     },
     "e81110a998b944cd9dbcfbf1ec95ae6c": {
      "model_module": "@jupyter-widgets/controls",
      "model_module_version": "1.4.0",
      "model_name": "TextModel",
      "state": {
       "_dom_classes": [
        "gridcell",
        "removablecell"
       ],
       "_view_module": "sage-combinat-widgets",
       "_view_module_version": "^0.2.0",
       "_view_name": "TextWithTooltipView",
       "continuous_update": false,
       "description_tooltip": "",
       "layout": "IPY_MODEL_742ce9cb5c1a4d358dd3aef0fa324d55",
       "style": "IPY_MODEL_3b8826abd3714a1c9ebe8636faa9d7d8",
       "value": "14"
      }
     },
     "e824629abab04176b26e6e91e53899c2": {
      "model_module": "@jupyter-widgets/controls",
      "model_module_version": "1.4.0",
      "model_name": "ButtonStyleModel",
      "state": {}
     },
     "e83e79878c934023b065d37989ed110d": {
      "model_module": "@jupyter-widgets/controls",
      "model_module_version": "1.4.0",
      "model_name": "HBoxModel",
      "state": {
       "children": [
        "IPY_MODEL_33b877a61d5d44c6821dea3cb5bc4ba2",
        "IPY_MODEL_1b183394fa444517acdc128a21f3e6a2"
       ],
       "layout": "IPY_MODEL_a78ef06193aa4588b84f1ef3af3de475"
      }
     },
     "e866539e815040ec8831aaff51928958": {
      "model_module": "@jupyter-widgets/controls",
      "model_module_version": "1.4.0",
      "model_name": "HBoxModel",
      "state": {
       "children": [
        "IPY_MODEL_3430cba0a78b4f24ae518c65e7a13802"
       ],
       "layout": "IPY_MODEL_52ad5da1692749059314801b26cc35fd"
      }
     },
     "e867627afc454a36b3ca847a0d7d918f": {
      "model_module": "@jupyter-widgets/controls",
      "model_module_version": "1.4.0",
      "model_name": "DescriptionStyleModel",
      "state": {
       "description_width": ""
      }
     },
     "e8785768bfb64333a1db30476b6cbf1e": {
      "model_module": "@jupyter-widgets/base",
      "model_module_version": "1.1.0",
      "model_name": "LayoutModel",
      "state": {}
     },
     "e883bc922e7542d09935c3c950981884": {
      "model_module": "@jupyter-widgets/controls",
      "model_module_version": "1.4.0",
      "model_name": "ButtonStyleModel",
      "state": {}
     },
     "e8982d1dfb2544479de25c0ed7b68e51": {
      "model_module": "@jupyter-widgets/controls",
      "model_module_version": "1.4.0",
      "model_name": "DescriptionStyleModel",
      "state": {
       "description_width": ""
      }
     },
     "e8b9c2af95124afa8ed8bb0b9178f455": {
      "model_module": "@jupyter-widgets/base",
      "model_module_version": "1.1.0",
      "model_name": "LayoutModel",
      "state": {}
     },
     "e8be7ce194ab4e1e8d7ad0a707f971cc": {
      "model_module": "@jupyter-widgets/controls",
      "model_module_version": "1.4.0",
      "model_name": "HBoxModel",
      "state": {
       "children": [
        "IPY_MODEL_5a7b848b735d45b6bd1018eed8aa2b7e",
        "IPY_MODEL_0a01d2429e2e4f319ee97ea10ed6f11e",
        "IPY_MODEL_1b67d38556554901a2e01a2a118f0aa2",
        "IPY_MODEL_9e11de52ffe0402897ade7bdc9cc863a",
        "IPY_MODEL_8c2efae378994ccd8b2dfc41fd5689be"
       ],
       "layout": "IPY_MODEL_1f74cc4ae65a4b8da412520bcc0327c3"
      }
     },
     "e8c3e36436d7479fa424bf0213687746": {
      "model_module": "@jupyter-widgets/base",
      "model_module_version": "1.1.0",
      "model_name": "LayoutModel",
      "state": {}
     },
     "e8c985091f7841b9b9b305252d77039b": {
      "model_module": "@jupyter-widgets/controls",
      "model_module_version": "1.4.0",
      "model_name": "ButtonModel",
      "state": {
       "_dom_classes": [
        "gridbutton",
        "b2"
       ],
       "disabled": true,
       "layout": "IPY_MODEL_581cef88be2741a9bde4fcb6422ff1b0",
       "style": "IPY_MODEL_e6cf60f7a2e749d194a55017ecdfae9c"
      }
     },
     "e8cdae318f6e4498aba24dcf85f8e570": {
      "model_module": "@jupyter-widgets/base",
      "model_module_version": "1.1.0",
      "model_name": "LayoutModel",
      "state": {}
     },
     "e8fd842a466b43108452ed44563b67a1": {
      "model_module": "@jupyter-widgets/controls",
      "model_module_version": "1.4.0",
      "model_name": "TextModel",
      "state": {
       "_dom_classes": [
        "blankcell"
       ],
       "disabled": true,
       "layout": "IPY_MODEL_196c83a3b43a46dca975be63611b8c09",
       "style": "IPY_MODEL_11d5a635ec2249939089dc923ab2e280"
      }
     },
     "e90f1ffcf13744b9975a690bf4e03591": {
      "model_module": "@jupyter-widgets/base",
      "model_module_version": "1.1.0",
      "model_name": "LayoutModel",
      "state": {}
     },
     "e936cb6454ad48cf84a9c8c699f9fd20": {
      "model_module": "@jupyter-widgets/base",
      "model_module_version": "1.1.0",
      "model_name": "LayoutModel",
      "state": {}
     },
     "e94181f7979d4ba5845cb063f621a575": {
      "model_module": "@jupyter-widgets/controls",
      "model_module_version": "1.4.0",
      "model_name": "ButtonStyleModel",
      "state": {}
     },
     "e94ab4e3966142458057a8e5a28d73b0": {
      "model_module": "@jupyter-widgets/base",
      "model_module_version": "1.1.0",
      "model_name": "LayoutModel",
      "state": {}
     },
     "e94c0967e7ee431c838ce4fbc16bcb93": {
      "model_module": "@jupyter-widgets/base",
      "model_module_version": "1.1.0",
      "model_name": "LayoutModel",
      "state": {}
     },
     "e965a2e119c947be9fcc91c74cbad5ca": {
      "model_module": "@jupyter-widgets/controls",
      "model_module_version": "1.4.0",
      "model_name": "DescriptionStyleModel",
      "state": {
       "description_width": ""
      }
     },
     "e97ef844580a4c00aee85f7166b58d4c": {
      "model_module": "@jupyter-widgets/controls",
      "model_module_version": "1.4.0",
      "model_name": "ButtonStyleModel",
      "state": {}
     },
     "e9a42dd7ee09400a999e50f760de79a1": {
      "model_module": "@jupyter-widgets/base",
      "model_module_version": "1.1.0",
      "model_name": "LayoutModel",
      "state": {}
     },
     "e9ac0696ddc64983963545de79ae9a28": {
      "model_module": "@jupyter-widgets/base",
      "model_module_version": "1.1.0",
      "model_name": "LayoutModel",
      "state": {}
     },
     "e9ca7524d17f4159926c2d4e46ec4e43": {
      "model_module": "@jupyter-widgets/controls",
      "model_module_version": "1.4.0",
      "model_name": "VBoxModel",
      "state": {
       "children": [
        "IPY_MODEL_ab0e6343b9f04ac48d88adfa65d0cb36",
        "IPY_MODEL_285d987e8082485ea6df686d47491bac",
        "IPY_MODEL_104aa5b228574d5dabe31ed0ce94add0",
        "IPY_MODEL_1fb464af39924f2c92b3e3a6f7bfba6f",
        "IPY_MODEL_40b68d53ba714483b9e3b4714a804de1",
        "IPY_MODEL_8989fcbe99474a89a68af8d330918cde"
       ],
       "layout": "IPY_MODEL_f2ce5c5bdb714de1b8de0b412326aff8"
      }
     },
     "e9cb59d80f2847d39c1248bff124c17d": {
      "model_module": "@jupyter-widgets/controls",
      "model_module_version": "1.4.0",
      "model_name": "VBoxModel",
      "state": {
       "children": [
        "IPY_MODEL_80b9de576434463c8bacc1f4be4a3c39",
        "IPY_MODEL_c716e66855ae41748c2748c470787f08",
        "IPY_MODEL_e51c9be801334285a6d5feead74a3e8e"
       ],
       "layout": "IPY_MODEL_bd07d74c521244c8a142356214c24f7c"
      }
     },
     "e9d44ff97448477ab35b5e57ed6585e2": {
      "model_module": "@jupyter-widgets/controls",
      "model_module_version": "1.4.0",
      "model_name": "ButtonStyleModel",
      "state": {}
     },
     "e9d49a6d6d5f45519fc3566a5e8b11ad": {
      "model_module": "@jupyter-widgets/controls",
      "model_module_version": "1.4.0",
      "model_name": "ButtonStyleModel",
      "state": {}
     },
     "e9d4d06ea6e3494ea5b646988bca936e": {
      "model_module": "@jupyter-widgets/controls",
      "model_module_version": "1.4.0",
      "model_name": "DescriptionStyleModel",
      "state": {
       "description_width": ""
      }
     },
     "e9def8bd4d694e19bce9e4224aaab72c": {
      "model_module": "@jupyter-widgets/base",
      "model_module_version": "1.1.0",
      "model_name": "LayoutModel",
      "state": {}
     },
     "e9f52b021ba4414d85f946941b1ece78": {
      "model_module": "@jupyter-widgets/controls",
      "model_module_version": "1.4.0",
      "model_name": "VBoxModel",
      "state": {
       "_dom_classes": [
        "widget-interact"
       ],
       "children": [
        "IPY_MODEL_beec62827f2e49fc80b5d144ea9aa49e",
        "IPY_MODEL_89b5552dafee43e79bddc9b248fa6b75"
       ],
       "layout": "IPY_MODEL_1ea1f78e9ed448c2b9c21936ef0a95b2"
      }
     },
     "ea2a1a3ddcd7447795d77ba4ad2dd8a5": {
      "model_module": "@jupyter-widgets/controls",
      "model_module_version": "1.4.0",
      "model_name": "ButtonModel",
      "state": {
       "_dom_classes": [
        "gridbutton",
        "b1"
       ],
       "disabled": true,
       "layout": "IPY_MODEL_d861c29f26634ccfb59b53f634fc937d",
       "style": "IPY_MODEL_fcbb0cc676894485854567dd4e312bd5"
      }
     },
     "ea338f31a63e4dc88d7be3cacc48f263": {
      "model_module": "@jupyter-widgets/base",
      "model_module_version": "1.1.0",
      "model_name": "LayoutModel",
      "state": {}
     },
     "ea5917d1cb394df5adf99c0dbe44803f": {
      "model_module": "@jupyter-widgets/controls",
      "model_module_version": "1.4.0",
      "model_name": "ButtonModel",
      "state": {
       "_dom_classes": [
        "gridbutton",
        "b2"
       ],
       "disabled": true,
       "layout": "IPY_MODEL_196c83a3b43a46dca975be63611b8c09",
       "style": "IPY_MODEL_611b7eae70bd4e68a6f037a348d1dc26"
      }
     },
     "ea6768c155014f5a925303a30393cc00": {
      "model_module": "@jupyter-widgets/base",
      "model_module_version": "1.1.0",
      "model_name": "LayoutModel",
      "state": {}
     },
     "ea80b1c04b734d5e9ffb389f57beb443": {
      "model_module": "@jupyter-widgets/base",
      "model_module_version": "1.1.0",
      "model_name": "LayoutModel",
      "state": {}
     },
     "eab03e05defd4d948cd3abe564b2d5dd": {
      "model_module": "@jupyter-widgets/controls",
      "model_module_version": "1.4.0",
      "model_name": "TextModel",
      "state": {
       "_dom_classes": [
        "blankcell"
       ],
       "disabled": true,
       "layout": "IPY_MODEL_581cef88be2741a9bde4fcb6422ff1b0",
       "style": "IPY_MODEL_b66a340bea9e4f86865fd1b75abdc086"
      }
     },
     "eac304c50dcd4d198ae8b334fe493ab0": {
      "model_module": "@jupyter-widgets/controls",
      "model_module_version": "1.4.0",
      "model_name": "ButtonStyleModel",
      "state": {}
     },
     "ead066ca6df54cc49771ef1003e1b905": {
      "model_module": "@jupyter-widgets/controls",
      "model_module_version": "1.4.0",
      "model_name": "ButtonStyleModel",
      "state": {}
     },
     "eadcf9d7708a417e949c3f5b00e61a99": {
      "model_module": "@jupyter-widgets/controls",
      "model_module_version": "1.4.0",
      "model_name": "DescriptionStyleModel",
      "state": {
       "description_width": ""
      }
     },
     "eaecd261c66b47bb954da997e139fa18": {
      "model_module": "@jupyter-widgets/controls",
      "model_module_version": "1.4.0",
      "model_name": "DescriptionStyleModel",
      "state": {
       "description_width": ""
      }
     },
     "eb6e21358f1c49bb92387dcadd5ea131": {
      "model_module": "@jupyter-widgets/controls",
      "model_module_version": "1.4.0",
      "model_name": "ButtonStyleModel",
      "state": {}
     },
     "eb74828d0f954298806b6f5a23263540": {
      "model_module": "@jupyter-widgets/base",
      "model_module_version": "1.1.0",
      "model_name": "LayoutModel",
      "state": {}
     },
     "eb88cb1ba1084eed8b487ee3bca6a977": {
      "model_module": "@jupyter-widgets/controls",
      "model_module_version": "1.4.0",
      "model_name": "ToggleButtonModel",
      "state": {
       "_dom_classes": [
        "gridbutton",
        "addablebutton"
       ],
       "description": "+",
       "layout": "IPY_MODEL_ae25d8ee9fe646ebb7fdd668d6ed6cab",
       "style": "IPY_MODEL_1c0e8237aec042e4b4c68cecdec4d5a0",
       "tooltip": "Click to add a cell here"
      }
     },
     "eb8f88d7220041c9b3715fac5ec8e34d": {
      "model_module": "@jupyter-widgets/base",
      "model_module_version": "1.1.0",
      "model_name": "LayoutModel",
      "state": {}
     },
     "eba4f3bb5bd34290a09d4552d9e2e4f5": {
      "model_module": "@jupyter-widgets/controls",
      "model_module_version": "1.4.0",
      "model_name": "DescriptionStyleModel",
      "state": {
       "description_width": ""
      }
     },
     "ebb8e1f05be74eb6b1f1d8f751a50d1c": {
      "model_module": "@jupyter-widgets/controls",
      "model_module_version": "1.4.0",
      "model_name": "ButtonModel",
      "state": {
       "_dom_classes": [
        "gridbutton",
        "b4"
       ],
       "disabled": true,
       "layout": "IPY_MODEL_d861c29f26634ccfb59b53f634fc937d",
       "style": "IPY_MODEL_4cd78360d6dd47468e812c711f085492"
      }
     },
     "ebe4cee79a974922a67502c0eb4e76c9": {
      "model_module": "@jupyter-widgets/controls",
      "model_module_version": "1.4.0",
      "model_name": "DescriptionStyleModel",
      "state": {
       "description_width": ""
      }
     },
     "ebfaa5806e594eb09884a493f4c27353": {
      "model_module": "@jupyter-widgets/controls",
      "model_module_version": "1.4.0",
      "model_name": "DescriptionStyleModel",
      "state": {
       "description_width": ""
      }
     },
     "ec0342e905784e3e8358c7d01433cf0f": {
      "model_module": "@jupyter-widgets/controls",
      "model_module_version": "1.4.0",
      "model_name": "DescriptionStyleModel",
      "state": {
       "description_width": ""
      }
     },
     "ec18943094104c0092fb7030711ba4f8": {
      "model_module": "@jupyter-widgets/controls",
      "model_module_version": "1.4.0",
      "model_name": "TextModel",
      "state": {
       "_dom_classes": [
        "gridcell"
       ],
       "_view_module": "sage-combinat-widgets",
       "_view_module_version": "^0.2.0",
       "_view_name": "TextWithTooltipView",
       "continuous_update": false,
       "description_tooltip": "",
       "layout": "IPY_MODEL_ae25d8ee9fe646ebb7fdd668d6ed6cab",
       "style": "IPY_MODEL_b935bbb0546040849339bb511d1eae44",
       "value": "13"
      }
     },
     "ec2d5d22e3b24ffa9593da60a8d6cffc": {
      "model_module": "@jupyter-widgets/controls",
      "model_module_version": "1.4.0",
      "model_name": "HBoxModel",
      "state": {
       "children": [
        "IPY_MODEL_d42170f1a15d4aef8701da0f3fc32296",
        "IPY_MODEL_822008060ebb4cb38778da008a7f515f"
       ],
       "layout": "IPY_MODEL_289ef3ae7f2549d6a48b8109ebb78c64"
      }
     },
     "ec7c0a43be65402a9c4535d23c40917e": {
      "model_module": "@jupyter-widgets/base",
      "model_module_version": "1.1.0",
      "model_name": "LayoutModel",
      "state": {}
     },
     "ecbc413b670644a89b64d85caf6dc1b2": {
      "model_module": "@jupyter-widgets/controls",
      "model_module_version": "1.4.0",
      "model_name": "TextModel",
      "state": {
       "_dom_classes": [
        "blankcell"
       ],
       "disabled": true,
       "layout": "IPY_MODEL_196c83a3b43a46dca975be63611b8c09",
       "style": "IPY_MODEL_d5da2d5f9e2a4fbba09999cf836e780e"
      }
     },
     "ecd3e98f5a4545c485378c1739c4ec50": {
      "model_module": "@jupyter-widgets/controls",
      "model_module_version": "1.4.0",
      "model_name": "DescriptionStyleModel",
      "state": {
       "description_width": ""
      }
     },
     "ecdc508f4a9544bba8378b8a055c867b": {
      "model_module": "@jupyter-widgets/base",
      "model_module_version": "1.1.0",
      "model_name": "LayoutModel",
      "state": {}
     },
     "ed198598c5334d2687d320334a326300": {
      "model_module": "@jupyter-widgets/controls",
      "model_module_version": "1.4.0",
      "model_name": "ButtonModel",
      "state": {
       "_dom_classes": [
        "gridbutton",
        "b4"
       ],
       "disabled": true,
       "layout": "IPY_MODEL_d861c29f26634ccfb59b53f634fc937d",
       "style": "IPY_MODEL_b90f880395f144828d4e5835d3126682"
      }
     },
     "ed1e208518d74f7594e1114645c593d3": {
      "model_module": "@jupyter-widgets/base",
      "model_module_version": "1.1.0",
      "model_name": "LayoutModel",
      "state": {}
     },
     "ed3b8a69177342a6a547179b8f321004": {
      "model_module": "@jupyter-widgets/controls",
      "model_module_version": "1.4.0",
      "model_name": "ButtonStyleModel",
      "state": {}
     },
     "ed68013f703446a4b6a109bca5a60e76": {
      "model_module": "@jupyter-widgets/controls",
      "model_module_version": "1.4.0",
      "model_name": "HTMLModel",
      "state": {
       "layout": "IPY_MODEL_01fa182c05da4dbe82a69a6084bd4c0d",
       "style": "IPY_MODEL_e3aac6e588a548228e3a788a18c99004",
       "value": "<style>.widget-text INPUT {border-collapse: collapse !important}\n.gridbutton {margin:0; padding:0; width:2em; height:2em; border:1px solid #999; color:#666}\n.blankbutton, .addablebutton {background-color:white; color:#666}\n.blankbutton {border:0px !important}\n.blankcell INPUT {border:0px !important}\n.addablecell INPUT, .removablecell INPUT {background-position: right top; background-size: 1em; background-repeat: no-repeat}\n.addablecell INPUT {background-image: url('data:image/png;base64,iVBORw0KGgoAAAANSUhEUgAAAEYAAAA8BAAAAAA7DH7+AAAABGdBTUEAALGPC/xhBQAAACBjSFJNAAB6JgAAgIQAAPoAAACA6AAAdTAAAOpgAAA6mAAAF3CculE8AAAAAnRSTlMAAHaTzTgAAAACYktHRAAPOjI+owAAAAlwSFlzAAAN1wAADdcBQiibeAAAAAd0SU1FB+MCBRIvKscf5nsAAAAtSURBVEjHY2AYBaSBmTNnThhVM6pmaKvhnIkVTBjqagZbOI+qGVVDHTXDAwAAnSews7vfUfkAAAAldEVYdGRhdGU6Y3JlYXRlADIwMTktMDItMDVUMTc6NDc6NDIrMDE6MDDD7zGLAAAAJXRFWHRkYXRlOm1vZGlmeQAyMDE5LTAyLTA1VDE3OjQ3OjQyKzAxOjAwsrKJNwAAAABJRU5ErkJggg==')}\n.addablecell INPUT, .addablebutton INPUT {border:1px dashed #999 !important}\n.removablecell INPUT {background-image: url('data:image/png;base64,iVBORw0KGgoAAAANSUhEUgAAAEYAAAA8BAAAAAA7DH7+AAAABGdBTUEAALGPC/xhBQAAACBjSFJNAAB6JgAAgIQAAPoAAACA6AAAdTAAAOpgAAA6mAAAF3CculE8AAAAAnRSTlMAAHaTzTgAAAACYktHRAAPOjI+owAAAAlwSFlzAAAN1wAADdcBQiibeAAAAAd0SU1FB+MCBRIvL7d1EvQAAAAgSURBVEjHY2AYBaNgFIwwwDkTK5gw1NWMglEwCgYxAAAoCFJ7GFQEKQAAACV0RVh0ZGF0ZTpjcmVhdGUAMjAxOS0wMi0wNVQxNzo0Nzo0NyswMTowMJHXHiwAAAAldEVYdGRhdGU6bW9kaWZ5ADIwMTktMDItMDVUMTc6NDc6NDcrMDE6MDDgiqaQAAAAAElFTkSuQmCC')}\n.dirty INPUT {background-color: pink !important}</style>"
      }
     },
     "ed6c7b6c2869432ea1d8e26b4c4f99b8": {
      "model_module": "@jupyter-widgets/base",
      "model_module_version": "1.1.0",
      "model_name": "LayoutModel",
      "state": {}
     },
     "ed7c5ee8089d43e19e3318d9bd6b55b8": {
      "model_module": "@jupyter-widgets/controls",
      "model_module_version": "1.4.0",
      "model_name": "DescriptionStyleModel",
      "state": {
       "description_width": ""
      }
     },
     "ed812a7f014a4c31a90ec91586691c92": {
      "model_module": "@jupyter-widgets/controls",
      "model_module_version": "1.4.0",
      "model_name": "HBoxModel",
      "state": {
       "children": [
        "IPY_MODEL_5ffce8bb3be94c9ca641923b605aa356",
        "IPY_MODEL_68de00f080524aa1b04dacced2eaeea3",
        "IPY_MODEL_6307d4014c8f446387e8e666112431c4"
       ],
       "layout": "IPY_MODEL_06f1c939fbd549e4bfb78d7a64d659c1"
      }
     },
     "ed87d436a78349fe9dee9bd4f8458a6a": {
      "model_module": "@jupyter-widgets/controls",
      "model_module_version": "1.4.0",
      "model_name": "DescriptionStyleModel",
      "state": {
       "description_width": ""
      }
     },
     "edc244e9d153459293f6ec55ce7c56dd": {
      "model_module": "@jupyter-widgets/controls",
      "model_module_version": "1.4.0",
      "model_name": "TextModel",
      "state": {
       "layout": "IPY_MODEL_5ee44c0ed48743178e316882040ed655",
       "style": "IPY_MODEL_53a16436ed8c4c8eb03262639f154985"
      }
     },
     "edd5343283f84e16a5fe1e12d720f029": {
      "model_module": "@jupyter-widgets/controls",
      "model_module_version": "1.4.0",
      "model_name": "DescriptionStyleModel",
      "state": {
       "description_width": ""
      }
     },
     "ede77d47f97148e28a5a01ee808867a9": {
      "model_module": "@jupyter-widgets/controls",
      "model_module_version": "1.4.0",
      "model_name": "ButtonStyleModel",
      "state": {}
     },
     "ee0fb5b290f440568694298955477c63": {
      "model_module": "@jupyter-widgets/controls",
      "model_module_version": "1.4.0",
      "model_name": "ButtonModel",
      "state": {
       "_dom_classes": [
        "gridbutton",
        "b2"
       ],
       "disabled": true,
       "layout": "IPY_MODEL_581cef88be2741a9bde4fcb6422ff1b0",
       "style": "IPY_MODEL_7866cec2c3dd465991461e0b6a20562a"
      }
     },
     "ee2d374303834ac292087ba0ffa039df": {
      "model_module": "@jupyter-widgets/controls",
      "model_module_version": "1.4.0",
      "model_name": "TextModel",
      "state": {
       "_dom_classes": [
        "gridcell",
        "removablecell"
       ],
       "_view_module": "sage-combinat-widgets",
       "_view_module_version": "^0.2.0",
       "_view_name": "TextWithTooltipView",
       "continuous_update": false,
       "description_tooltip": "",
       "layout": "IPY_MODEL_24198035057f48ca81a6fa9a718c3f55",
       "style": "IPY_MODEL_78ac542b3b5849438bb95f080a0c86b0",
       "value": "13"
      }
     },
     "ee48a06fc08541248a7e4f489f1e0ba8": {
      "model_module": "@jupyter-widgets/controls",
      "model_module_version": "1.4.0",
      "model_name": "ButtonStyleModel",
      "state": {}
     },
     "ee6df9cbbaba4f5c8ec720ea6f411ffa": {
      "model_module": "@jupyter-widgets/base",
      "model_module_version": "1.1.0",
      "model_name": "LayoutModel",
      "state": {}
     },
     "ee751fef21074a158c4fe7e1ed4fb86b": {
      "model_module": "@jupyter-widgets/controls",
      "model_module_version": "1.4.0",
      "model_name": "DescriptionStyleModel",
      "state": {
       "description_width": ""
      }
     },
     "ee81a8ed961d417fa906e9372773767f": {
      "model_module": "@jupyter-widgets/controls",
      "model_module_version": "1.4.0",
      "model_name": "ButtonModel",
      "state": {
       "_dom_classes": [
        "gridbutton",
        "b2"
       ],
       "disabled": true,
       "layout": "IPY_MODEL_d861c29f26634ccfb59b53f634fc937d",
       "style": "IPY_MODEL_1453439206b642b69482c0fbacac92d2"
      }
     },
     "ee8bcdba6a744736abec0a5f7a21b934": {
      "model_module": "@jupyter-widgets/controls",
      "model_module_version": "1.4.0",
      "model_name": "ButtonModel",
      "state": {
       "_dom_classes": [
        "gridbutton",
        "b4"
       ],
       "disabled": true,
       "layout": "IPY_MODEL_d861c29f26634ccfb59b53f634fc937d",
       "style": "IPY_MODEL_03ca2fd0696c4006b4f17caf807420b0"
      }
     },
     "eeb5b03c2d074d6d834c4214c655a614": {
      "model_module": "@jupyter-widgets/controls",
      "model_module_version": "1.4.0",
      "model_name": "HBoxModel",
      "state": {
       "children": [
        "IPY_MODEL_3a50ebe290dd46d29d83ba56744ea38e",
        "IPY_MODEL_aa0583fd9fc743e39935a7d72fd32ba2",
        "IPY_MODEL_8b855f47ba784b4799d57dcfe451ddf0"
       ],
       "layout": "IPY_MODEL_596f9e2a2fea48ab8f7abe57be3bea18"
      }
     },
     "eeb6de822ef1487a9ee8039db93856dd": {
      "model_module": "@jupyter-widgets/controls",
      "model_module_version": "1.4.0",
      "model_name": "DescriptionStyleModel",
      "state": {
       "description_width": ""
      }
     },
     "eec14d249df64d83840f24dd91a7ae9f": {
      "model_module": "@jupyter-widgets/controls",
      "model_module_version": "1.4.0",
      "model_name": "DescriptionStyleModel",
      "state": {
       "description_width": ""
      }
     },
     "eeed6e5e2bd8431a877525f4df517b73": {
      "model_module": "@jupyter-widgets/base",
      "model_module_version": "1.1.0",
      "model_name": "LayoutModel",
      "state": {}
     },
     "eeef7837a9924e98993d970a105ed369": {
      "model_module": "@jupyter-widgets/controls",
      "model_module_version": "1.4.0",
      "model_name": "TextModel",
      "state": {
       "_dom_classes": [
        "blankcell"
       ],
       "disabled": true,
       "layout": "IPY_MODEL_d861c29f26634ccfb59b53f634fc937d",
       "style": "IPY_MODEL_f99a5abf36d34b229038c8170770a96b"
      }
     },
     "eef5c8a14cfe46f49f23d2bebcdcb492": {
      "model_module": "@jupyter-widgets/base",
      "model_module_version": "1.1.0",
      "model_name": "LayoutModel",
      "state": {}
     },
     "eef94be79b8c4fcf880a13217368d5ba": {
      "model_module": "@jupyter-widgets/base",
      "model_module_version": "1.1.0",
      "model_name": "LayoutModel",
      "state": {}
     },
     "ef2b60d821cb42fdbaf4e573caaab52c": {
      "model_module": "@jupyter-widgets/controls",
      "model_module_version": "1.4.0",
      "model_name": "VBoxModel",
      "state": {
       "_dom_classes": [
        "widget-interact"
       ],
       "children": [
        "IPY_MODEL_0880154bb5aa4c49bf8fafa46d820393",
        "IPY_MODEL_d988618ae14d4416b0d227afe94da25f"
       ],
       "layout": "IPY_MODEL_268add895c9544c0bb7e6163e0d893b0"
      }
     },
     "ef3ab9d267354b618b78d1789a8a8029": {
      "model_module": "@jupyter-widgets/controls",
      "model_module_version": "1.4.0",
      "model_name": "ButtonStyleModel",
      "state": {}
     },
     "ef84fa82a699419bad5058cfcd8a7528": {
      "model_module": "@jupyter-widgets/base",
      "model_module_version": "1.1.0",
      "model_name": "LayoutModel",
      "state": {}
     },
     "ef904aebb2834f299fd71129817f6360": {
      "model_module": "@jupyter-widgets/controls",
      "model_module_version": "1.4.0",
      "model_name": "ButtonModel",
      "state": {
       "_dom_classes": [
        "gridbutton",
        "b3"
       ],
       "disabled": true,
       "layout": "IPY_MODEL_196c83a3b43a46dca975be63611b8c09",
       "style": "IPY_MODEL_0ab7c8a462ec4c40a61d56bc8ba7a22c"
      }
     },
     "ef9749c2146a493a97afc9a1cae0adc0": {
      "model_module": "@jupyter-widgets/base",
      "model_module_version": "1.1.0",
      "model_name": "LayoutModel",
      "state": {}
     },
     "efb15c11b3b043a5b36ad635c02a754b": {
      "model_module": "@jupyter-widgets/base",
      "model_module_version": "1.1.0",
      "model_name": "LayoutModel",
      "state": {}
     },
     "efb7bbbab8fa48a4a80634068d1c4219": {
      "model_module": "@jupyter-widgets/controls",
      "model_module_version": "1.4.0",
      "model_name": "ButtonStyleModel",
      "state": {}
     },
     "efbbb6149eb640d6b73f14d865fa0bbd": {
      "model_module": "@jupyter-widgets/controls",
      "model_module_version": "1.4.0",
      "model_name": "DescriptionStyleModel",
      "state": {
       "description_width": ""
      }
     },
     "efe88b46c9a34ab4aa6457bbf3d7808f": {
      "model_module": "@jupyter-widgets/controls",
      "model_module_version": "1.4.0",
      "model_name": "DescriptionStyleModel",
      "state": {
       "description_width": ""
      }
     },
     "efeea37983934616a4c28f7824894688": {
      "model_module": "@jupyter-widgets/base",
      "model_module_version": "1.1.0",
      "model_name": "LayoutModel",
      "state": {}
     },
     "eff649f2b52645729f374bda3f74060d": {
      "model_module": "@jupyter-widgets/controls",
      "model_module_version": "1.4.0",
      "model_name": "HBoxModel",
      "state": {
       "children": [
        "IPY_MODEL_c5ab0086dd4948c2bce9ab95114bfb36"
       ],
       "layout": "IPY_MODEL_a11e5c2201544e249541d374acd7b9ed"
      }
     },
     "f00260306e5e4814a4c42f5d51f3187e": {
      "model_module": "@jupyter-widgets/controls",
      "model_module_version": "1.4.0",
      "model_name": "TextModel",
      "state": {
       "_dom_classes": [
        "gridcell"
       ],
       "_view_module": "sage-combinat-widgets",
       "_view_module_version": "^0.2.0",
       "_view_name": "TextWithTooltipView",
       "continuous_update": false,
       "description_tooltip": "",
       "layout": "IPY_MODEL_ae25d8ee9fe646ebb7fdd668d6ed6cab",
       "style": "IPY_MODEL_9956040b63364714b65b6d7ef925e202",
       "value": "4"
      }
     },
     "f034d75e520547b5a104a16abf5b7f00": {
      "model_module": "@jupyter-widgets/controls",
      "model_module_version": "1.4.0",
      "model_name": "DescriptionStyleModel",
      "state": {
       "description_width": ""
      }
     },
     "f040a74e51ae481892921becd57fabaa": {
      "model_module": "@jupyter-widgets/base",
      "model_module_version": "1.1.0",
      "model_name": "LayoutModel",
      "state": {}
     },
     "f045748998fb408086b5173a48c2cd51": {
      "model_module": "@jupyter-widgets/controls",
      "model_module_version": "1.4.0",
      "model_name": "ButtonStyleModel",
      "state": {}
     },
     "f0690f8bad62489d97455723b3b1ae62": {
      "model_module": "@jupyter-widgets/base",
      "model_module_version": "1.1.0",
      "model_name": "LayoutModel",
      "state": {}
     },
     "f06c723c51a54433a5f057007b617740": {
      "model_module": "@jupyter-widgets/base",
      "model_module_version": "1.1.0",
      "model_name": "LayoutModel",
      "state": {}
     },
     "f0b1d481cbac49db895171dbe14233e8": {
      "model_module": "@jupyter-widgets/controls",
      "model_module_version": "1.4.0",
      "model_name": "HBoxModel",
      "state": {
       "children": [
        "IPY_MODEL_9bb457b2fe8c4a39a85e23791495e94d",
        "IPY_MODEL_21213e0ccde442cc9ed8ad7a84d41b70",
        "IPY_MODEL_c86c10cda765407d8b6f586517fefc77",
        "IPY_MODEL_3b2d41521140482ca380cf15fed3f76f",
        "IPY_MODEL_78bf2d855181401e82b6413b7fd7d878",
        "IPY_MODEL_4c778ba63c934818a52819a37222fcd2",
        "IPY_MODEL_4f8350e41af5463ebe0ac918f2a2bce7",
        "IPY_MODEL_0f27fa37f7d143dcaad3ce95a03e6d68",
        "IPY_MODEL_db15403c11734c2e9881cdb3fe5df94d",
        "IPY_MODEL_5dbde42ac4544f6dacbf6fe387d98629"
       ],
       "layout": "IPY_MODEL_b2d96793cacb49d2b8c601a0412dabe9"
      }
     },
     "f0ecab6ce41d4c85806942c308cc6968": {
      "model_module": "@jupyter-widgets/controls",
      "model_module_version": "1.4.0",
      "model_name": "ButtonStyleModel",
      "state": {}
     },
     "f0f5bdeadd92411a9b6efa1d5e8a5b69": {
      "model_module": "@jupyter-widgets/controls",
      "model_module_version": "1.4.0",
      "model_name": "DescriptionStyleModel",
      "state": {
       "description_width": ""
      }
     },
     "f10123d1ca254626975c93e834ba20ba": {
      "model_module": "@jupyter-widgets/controls",
      "model_module_version": "1.4.0",
      "model_name": "DescriptionStyleModel",
      "state": {
       "description_width": ""
      }
     },
     "f12be9d94be64b448aca7b3a465f6246": {
      "model_module": "@jupyter-widgets/controls",
      "model_module_version": "1.4.0",
      "model_name": "TextModel",
      "state": {
       "_dom_classes": [
        "blankcell"
       ],
       "disabled": true,
       "layout": "IPY_MODEL_196c83a3b43a46dca975be63611b8c09",
       "style": "IPY_MODEL_7f8cbdf17cc144cb8a7bb283d49b9854"
      }
     },
     "f12c1dd4d230493184ea03670d9515c0": {
      "model_module": "@jupyter-widgets/base",
      "model_module_version": "1.1.0",
      "model_name": "LayoutModel",
      "state": {}
     },
     "f1309bb6657a49719172db70ebac9ec0": {
      "model_module": "@jupyter-widgets/controls",
      "model_module_version": "1.4.0",
      "model_name": "ButtonModel",
      "state": {
       "_dom_classes": [
        "gridbutton",
        "b1"
       ],
       "disabled": true,
       "layout": "IPY_MODEL_d861c29f26634ccfb59b53f634fc937d",
       "style": "IPY_MODEL_74d7535833544fd98611668988480800"
      }
     },
     "f14689c0d88d4baba90037bd506c113a": {
      "model_module": "@jupyter-widgets/base",
      "model_module_version": "1.1.0",
      "model_name": "LayoutModel",
      "state": {}
     },
     "f15d56e7e8ef461e86b53e4349149210": {
      "model_module": "@jupyter-widgets/base",
      "model_module_version": "1.1.0",
      "model_name": "LayoutModel",
      "state": {}
     },
     "f16ac3b2fcef489081b2b6abfc77a99a": {
      "model_module": "@jupyter-widgets/base",
      "model_module_version": "1.1.0",
      "model_name": "LayoutModel",
      "state": {}
     },
     "f1916f8007e44236aa4e7ede4646be6d": {
      "model_module": "@jupyter-widgets/controls",
      "model_module_version": "1.4.0",
      "model_name": "TextModel",
      "state": {
       "_dom_classes": [
        "blankcell"
       ],
       "disabled": true,
       "layout": "IPY_MODEL_d861c29f26634ccfb59b53f634fc937d",
       "style": "IPY_MODEL_fcc99c7c49fa4c648ece080fdf507151"
      }
     },
     "f1ad8835839e43fb921b665305aa6d51": {
      "model_module": "@jupyter-widgets/controls",
      "model_module_version": "1.4.0",
      "model_name": "DescriptionStyleModel",
      "state": {
       "description_width": ""
      }
     },
     "f1b2134c5557458bbfb3ecd04e4b0c7e": {
      "model_module": "@jupyter-widgets/base",
      "model_module_version": "1.1.0",
      "model_name": "LayoutModel",
      "state": {}
     },
     "f1d3d04039844671b49b0ad8fe314b7d": {
      "model_module": "@jupyter-widgets/base",
      "model_module_version": "1.1.0",
      "model_name": "LayoutModel",
      "state": {}
     },
     "f1e5762eecec46ddbfaa3fa077f6c45e": {
      "model_module": "@jupyter-widgets/controls",
      "model_module_version": "1.4.0",
      "model_name": "ButtonStyleModel",
      "state": {}
     },
     "f20e20743fd44783af926d63d899f8b6": {
      "model_module": "@jupyter-widgets/controls",
      "model_module_version": "1.4.0",
      "model_name": "HBoxModel",
      "state": {
       "children": [
        "IPY_MODEL_abd2473920c44c26a2c8983e1cd5085f",
        "IPY_MODEL_ad8f392d128b411881638b8f7e0d62e7"
       ],
       "layout": "IPY_MODEL_22f7f8f10cfc4798985b1e1306709717"
      }
     },
     "f2108e1e249c48728a2e5937943a857f": {
      "model_module": "@jupyter-widgets/controls",
      "model_module_version": "1.4.0",
      "model_name": "ButtonModel",
      "state": {
       "_dom_classes": [
        "gridbutton",
        "b2"
       ],
       "disabled": true,
       "layout": "IPY_MODEL_196c83a3b43a46dca975be63611b8c09",
       "style": "IPY_MODEL_0b3b363643364acb95c804748013780f"
      }
     },
     "f2110cfb9b32449d824dbf8aba33cd23": {
      "model_module": "@jupyter-widgets/controls",
      "model_module_version": "1.4.0",
      "model_name": "DescriptionStyleModel",
      "state": {
       "description_width": ""
      }
     },
     "f21fe8b39c5c4f59a5262da8d3f23cf4": {
      "model_module": "@jupyter-widgets/controls",
      "model_module_version": "1.4.0",
      "model_name": "TextModel",
      "state": {
       "_dom_classes": [
        "gridcell"
       ],
       "_view_module": "sage-combinat-widgets",
       "_view_module_version": "^0.2.0",
       "_view_name": "TextWithTooltipView",
       "continuous_update": false,
       "description_tooltip": "",
       "layout": "IPY_MODEL_24198035057f48ca81a6fa9a718c3f55",
       "style": "IPY_MODEL_4f42221f929343319a075d26d7ed1f0d",
       "value": "2"
      }
     },
     "f2237a08cd98440eb0711531cf5f7ccd": {
      "model_module": "@jupyter-widgets/controls",
      "model_module_version": "1.4.0",
      "model_name": "ButtonStyleModel",
      "state": {}
     },
     "f24824f76a1245348304742376e3961c": {
      "model_module": "@jupyter-widgets/base",
      "model_module_version": "1.1.0",
      "model_name": "LayoutModel",
      "state": {}
     },
     "f24e28c312714f45be2ab4f8d3592f7b": {
      "model_module": "@jupyter-widgets/base",
      "model_module_version": "1.1.0",
      "model_name": "LayoutModel",
      "state": {}
     },
     "f259587aa94141edb06370760f655348": {
      "model_module": "@jupyter-widgets/controls",
      "model_module_version": "1.4.0",
      "model_name": "DescriptionStyleModel",
      "state": {
       "description_width": ""
      }
     },
     "f25e2cbf2bcb42b1a0723441c77d9dc0": {
      "model_module": "@jupyter-widgets/controls",
      "model_module_version": "1.4.0",
      "model_name": "TextModel",
      "state": {
       "_dom_classes": [
        "gridcell"
       ],
       "_view_module": "sage-combinat-widgets",
       "_view_module_version": "^0.2.0",
       "_view_name": "TextWithTooltipView",
       "continuous_update": false,
       "description_tooltip": "",
       "layout": "IPY_MODEL_766582b5db4b44c3b9eb63d9400a6c69",
       "style": "IPY_MODEL_72c2600611694e49b734c23f4260bb98",
       "value": "12"
      }
     },
     "f26d332f3dd9488ca1b8da243092fea1": {
      "model_module": "@jupyter-widgets/base",
      "model_module_version": "1.1.0",
      "model_name": "LayoutModel",
      "state": {}
     },
     "f2781cc1b26e402c96cfbb945734fc0e": {
      "model_module": "@jupyter-widgets/controls",
      "model_module_version": "1.4.0",
      "model_name": "ButtonStyleModel",
      "state": {}
     },
     "f27a19171ba84311a5de41420305ae44": {
      "model_module": "@jupyter-widgets/base",
      "model_module_version": "1.1.0",
      "model_name": "LayoutModel",
      "state": {}
     },
     "f2a631db9d264ca8abb09f244cadd70a": {
      "model_module": "@jupyter-widgets/base",
      "model_module_version": "1.1.0",
      "model_name": "LayoutModel",
      "state": {}
     },
     "f2bc087687ec41eda48f4fc80a0504a0": {
      "model_module": "@jupyter-widgets/controls",
      "model_module_version": "1.4.0",
      "model_name": "ButtonStyleModel",
      "state": {}
     },
     "f2c94d814a8142c391771be69ed7b84a": {
      "model_module": "@jupyter-widgets/controls",
      "model_module_version": "1.4.0",
      "model_name": "ButtonModel",
      "state": {
       "_dom_classes": [
        "gridbutton",
        "b4"
       ],
       "disabled": true,
       "layout": "IPY_MODEL_d861c29f26634ccfb59b53f634fc937d",
       "style": "IPY_MODEL_f59fba02e90746a0aaee11a0efaed311"
      }
     },
     "f2ce5c5bdb714de1b8de0b412326aff8": {
      "model_module": "@jupyter-widgets/base",
      "model_module_version": "1.1.0",
      "model_name": "LayoutModel",
      "state": {}
     },
     "f2e5ef35d684442180d50268b50358c5": {
      "model_module": "@jupyter-widgets/controls",
      "model_module_version": "1.4.0",
      "model_name": "HBoxModel",
      "state": {
       "children": [
        "IPY_MODEL_aa1663d4a21b4b07b2613f3b45d5b750",
        "IPY_MODEL_ff992c3ac5174bc8b0922ba97867c83a",
        "IPY_MODEL_b09d7b759c5b4ab9a0d8f6e390a1076d",
        "IPY_MODEL_db2d8f81dc9b4128a00d245d9348f12c",
        "IPY_MODEL_562c91d87f8a4c84bc6a56808654abac",
        "IPY_MODEL_fde29fecebca4278a1ca4c263b339f51",
        "IPY_MODEL_b39193ec5ed54a26a613814275f469ec",
        "IPY_MODEL_ebb8e1f05be74eb6b1f1d8f751a50d1c",
        "IPY_MODEL_18b532f7b29d43aba8c6b0665fc409cb",
        "IPY_MODEL_48731ba623764fc58189dcd26ec78ec1",
        "IPY_MODEL_239d5ddf63894ec29c82391a5d4ca530"
       ],
       "layout": "IPY_MODEL_466bb887bf6b43b5bd358d53e687b92d"
      }
     },
     "f2f2c47251014915b7fd3aa8cc79a105": {
      "model_module": "@jupyter-widgets/base",
      "model_module_version": "1.1.0",
      "model_name": "LayoutModel",
      "state": {}
     },
     "f2fe6d588f5a4ec3aafde3cd7f2eeb94": {
      "model_module": "@jupyter-widgets/controls",
      "model_module_version": "1.4.0",
      "model_name": "HBoxModel",
      "state": {
       "children": [
        "IPY_MODEL_28bdd4107666454ba5e07e331f5e4640",
        "IPY_MODEL_b5d9033eaf224f81bae32bfc51a03364",
        "IPY_MODEL_5c3f461edd9c488c8f38f2c1187c0d9d",
        "IPY_MODEL_4e0db71938b74218a2767ac74c77b76c"
       ],
       "layout": "IPY_MODEL_52ae7742170142a6beba2d5b9f132c7d"
      }
     },
     "f323d08625cd4e20a3651f580657d925": {
      "model_module": "@jupyter-widgets/base",
      "model_module_version": "1.1.0",
      "model_name": "LayoutModel",
      "state": {}
     },
     "f3314cb5b99f4028ab99bd27c6a886e5": {
      "model_module": "@jupyter-widgets/controls",
      "model_module_version": "1.4.0",
      "model_name": "ButtonStyleModel",
      "state": {}
     },
     "f33a9e97b274494cb6c0d9b55eaeaf07": {
      "model_module": "@jupyter-widgets/controls",
      "model_module_version": "1.4.0",
      "model_name": "ButtonStyleModel",
      "state": {}
     },
     "f357c2df92d042188e0b301de5437f45": {
      "model_module": "@jupyter-widgets/controls",
      "model_module_version": "1.4.0",
      "model_name": "TextModel",
      "state": {
       "_dom_classes": [
        "gridcell"
       ],
       "_view_module": "sage-combinat-widgets",
       "_view_module_version": "^0.2.0",
       "_view_name": "TextWithTooltipView",
       "continuous_update": false,
       "description_tooltip": "",
       "layout": "IPY_MODEL_24198035057f48ca81a6fa9a718c3f55",
       "style": "IPY_MODEL_502c8889fa384b80a7fa7f882e3109ea",
       "value": "1"
      }
     },
     "f3611d1bd3d84b5fbf14398732e46632": {
      "model_module": "@jupyter-widgets/controls",
      "model_module_version": "1.4.0",
      "model_name": "TextModel",
      "state": {
       "_dom_classes": [
        "blankcell"
       ],
       "disabled": true,
       "layout": "IPY_MODEL_196c83a3b43a46dca975be63611b8c09",
       "style": "IPY_MODEL_e867627afc454a36b3ca847a0d7d918f"
      }
     },
     "f369d214a5a24460a2442184308b5424": {
      "model_module": "@jupyter-widgets/controls",
      "model_module_version": "1.4.0",
      "model_name": "HBoxModel",
      "state": {
       "children": [
        "IPY_MODEL_3bb75d91787c4f9ba84674ff27f10cd4"
       ],
       "layout": "IPY_MODEL_56356f29b19841058ca13c19ad1bc1b6"
      }
     },
     "f36c47ca49a1439fbc290bd5351db327": {
      "model_module": "@jupyter-widgets/base",
      "model_module_version": "1.1.0",
      "model_name": "LayoutModel",
      "state": {}
     },
     "f3951b13aa194b978c3802b563f5da22": {
      "model_module": "@jupyter-widgets/controls",
      "model_module_version": "1.4.0",
      "model_name": "ButtonModel",
      "state": {
       "_dom_classes": [
        "gridbutton",
        "b1"
       ],
       "disabled": true,
       "layout": "IPY_MODEL_581cef88be2741a9bde4fcb6422ff1b0",
       "style": "IPY_MODEL_0371c42dd537478489a13e0be8870492"
      }
     },
     "f3be685dc0a54450b2ac84c35a95298b": {
      "model_module": "@jupyter-widgets/base",
      "model_module_version": "1.1.0",
      "model_name": "LayoutModel",
      "state": {}
     },
     "f3fafe18a9bf4564b84f982757247c45": {
      "model_module": "@jupyter-widgets/base",
      "model_module_version": "1.1.0",
      "model_name": "LayoutModel",
      "state": {}
     },
     "f406c2cb9b69440abe81f98ae51aed96": {
      "model_module": "@jupyter-widgets/controls",
      "model_module_version": "1.4.0",
      "model_name": "HBoxModel",
      "state": {
       "children": [
        "IPY_MODEL_308cbbb6da554c2f877a06f62ca31a3b",
        "IPY_MODEL_e8fd842a466b43108452ed44563b67a1",
        "IPY_MODEL_787d42f8a95f484c80457f85d8c61776",
        "IPY_MODEL_c13b75f09212474bb4109f39b42b294d",
        "IPY_MODEL_0f59da4896164acf91a7f35ccdc22020",
        "IPY_MODEL_95315a922e8243fca535db249abdef83",
        "IPY_MODEL_61a9e69e2546407e958f4d725bbd4a50",
        "IPY_MODEL_aae1a170b6fe4e4f80bdf71e944540d1",
        "IPY_MODEL_2c6c42ae82154db7ab0eacdabf5dc415",
        "IPY_MODEL_50f93c59bdf34314a16995efb8875660",
        "IPY_MODEL_31a1a998759d42dca717fbfbf5d1f6e5",
        "IPY_MODEL_0976abe9f72e483aa1b9e0e6ebf622bd"
       ],
       "layout": "IPY_MODEL_2888092c978f4a19b2a3bbeb34736adb"
      }
     },
     "f40cb55bf67f4091a61980eaabac7f2f": {
      "model_module": "@jupyter-widgets/controls",
      "model_module_version": "1.4.0",
      "model_name": "ToggleButtonModel",
      "state": {
       "_dom_classes": [
        "gridbutton"
       ],
       "layout": "IPY_MODEL_24198035057f48ca81a6fa9a718c3f55",
       "style": "IPY_MODEL_321a7cac055346bba6b9784c6bcd02b1",
       "tooltip": "0, 0"
      }
     },
     "f413bda58e6f4f25aa92aea839ee9407": {
      "model_module": "@jupyter-widgets/base",
      "model_module_version": "1.1.0",
      "model_name": "LayoutModel",
      "state": {}
     },
     "f460ad0e1ab5498bbc971521a8a03945": {
      "model_module": "@jupyter-widgets/controls",
      "model_module_version": "1.4.0",
      "model_name": "ButtonModel",
      "state": {
       "_dom_classes": [
        "gridbutton",
        "b2"
       ],
       "disabled": true,
       "layout": "IPY_MODEL_d861c29f26634ccfb59b53f634fc937d",
       "style": "IPY_MODEL_97265a38e02940978c714dac7bbf4877"
      }
     },
     "f478709977d2422c89a9a6bb9039a92b": {
      "model_module": "@jupyter-widgets/controls",
      "model_module_version": "1.4.0",
      "model_name": "VBoxModel",
      "state": {
       "children": [
        "IPY_MODEL_e8be7ce194ab4e1e8d7ad0a707f971cc"
       ],
       "layout": "IPY_MODEL_38c141ec7ded4f149dd4a5d6ec1729bc"
      }
     },
     "f48d067fb4af49388c9dd88e1594bdd6": {
      "model_module": "@jupyter-widgets/base",
      "model_module_version": "1.1.0",
      "model_name": "LayoutModel",
      "state": {}
     },
     "f4981efbb1c34d96b75dfab7603b8210": {
      "model_module": "@jupyter-widgets/controls",
      "model_module_version": "1.4.0",
      "model_name": "TextModel",
      "state": {
       "_dom_classes": [
        "blankcell"
       ],
       "disabled": true,
       "layout": "IPY_MODEL_d861c29f26634ccfb59b53f634fc937d",
       "style": "IPY_MODEL_1f6c88af35284e89858e8132a7f8cb10"
      }
     },
     "f4a5cc75b91548ad9e2b56a6f176147a": {
      "model_module": "@jupyter-widgets/controls",
      "model_module_version": "1.4.0",
      "model_name": "ButtonModel",
      "state": {
       "_dom_classes": [
        "gridbutton",
        "b2"
       ],
       "disabled": true,
       "layout": "IPY_MODEL_d861c29f26634ccfb59b53f634fc937d",
       "style": "IPY_MODEL_0eafc92a35794441908b4e79167d9132"
      }
     },
     "f4a727871843430387dad9c68a11597f": {
      "model_module": "@jupyter-widgets/controls",
      "model_module_version": "1.4.0",
      "model_name": "ButtonStyleModel",
      "state": {}
     },
     "f4be6b579d9745289e822d475fbaf370": {
      "model_module": "@jupyter-widgets/controls",
      "model_module_version": "1.4.0",
      "model_name": "DescriptionStyleModel",
      "state": {
       "description_width": ""
      }
     },
     "f4bf71dc612f4672a7dff78e7161664d": {
      "model_module": "@jupyter-widgets/controls",
      "model_module_version": "1.4.0",
      "model_name": "TextModel",
      "state": {
       "_dom_classes": [
        "gridcell"
       ],
       "_view_module": "sage-combinat-widgets",
       "_view_module_version": "^0.2.0",
       "_view_name": "TextWithTooltipView",
       "continuous_update": false,
       "description_tooltip": "",
       "layout": "IPY_MODEL_ae25d8ee9fe646ebb7fdd668d6ed6cab",
       "style": "IPY_MODEL_fe201f36ffef4dfd9b1bd47b324bed4a",
       "value": "6"
      }
     },
     "f529389e7a074ac38bba051966b3a2e0": {
      "model_module": "@jupyter-widgets/controls",
      "model_module_version": "1.4.0",
      "model_name": "ButtonModel",
      "state": {
       "_dom_classes": [
        "gridbutton",
        "b1"
       ],
       "disabled": true,
       "layout": "IPY_MODEL_581cef88be2741a9bde4fcb6422ff1b0",
       "style": "IPY_MODEL_e9d49a6d6d5f45519fc3566a5e8b11ad"
      }
     },
     "f52f9bda6a104f4caac073777886a24b": {
      "model_module": "@jupyter-widgets/controls",
      "model_module_version": "1.4.0",
      "model_name": "HBoxModel",
      "state": {
       "children": [
        "IPY_MODEL_4f6dee621ca642a980fcbe9cb3d432ea",
        "IPY_MODEL_56649191bc744c7fa9090a54cfb257e9"
       ],
       "layout": "IPY_MODEL_64b19b62a49b45d1882f497850731e13"
      }
     },
     "f537cd8145cd499c84e42003be252dee": {
      "model_module": "@jupyter-widgets/base",
      "model_module_version": "1.1.0",
      "model_name": "LayoutModel",
      "state": {}
     },
     "f53c121778ef4a1ebcbe272a9b31cf43": {
      "model_module": "@jupyter-widgets/controls",
      "model_module_version": "1.4.0",
      "model_name": "ButtonStyleModel",
      "state": {}
     },
     "f54ef4255dab4196ab93f36dcec9b2d8": {
      "model_module": "@jupyter-widgets/controls",
      "model_module_version": "1.4.0",
      "model_name": "ButtonModel",
      "state": {
       "_dom_classes": [
        "gridbutton",
        "b4"
       ],
       "disabled": true,
       "layout": "IPY_MODEL_581cef88be2741a9bde4fcb6422ff1b0",
       "style": "IPY_MODEL_f2237a08cd98440eb0711531cf5f7ccd"
      }
     },
     "f55e8868c6f64bda9a84dd22c82ecc67": {
      "model_module": "@jupyter-widgets/controls",
      "model_module_version": "1.4.0",
      "model_name": "ButtonStyleModel",
      "state": {}
     },
     "f563a75301744fbeab3b26d5a2f683e0": {
      "model_module": "@jupyter-widgets/controls",
      "model_module_version": "1.4.0",
      "model_name": "ButtonModel",
      "state": {
       "_dom_classes": [
        "gridbutton",
        "b4"
       ],
       "disabled": true,
       "layout": "IPY_MODEL_d861c29f26634ccfb59b53f634fc937d",
       "style": "IPY_MODEL_6b423a956ac640a2ba004661b4998d75"
      }
     },
     "f56e21d478ba4559b0586ad89bc2811a": {
      "model_module": "@jupyter-widgets/controls",
      "model_module_version": "1.4.0",
      "model_name": "ButtonStyleModel",
      "state": {}
     },
     "f570344515e64d1bbdc07a7e27f4090c": {
      "model_module": "@jupyter-widgets/base",
      "model_module_version": "1.1.0",
      "model_name": "LayoutModel",
      "state": {}
     },
     "f588ebc55a65419ebf39ece21db946b3": {
      "model_module": "@jupyter-widgets/base",
      "model_module_version": "1.1.0",
      "model_name": "LayoutModel",
      "state": {}
     },
     "f59fba02e90746a0aaee11a0efaed311": {
      "model_module": "@jupyter-widgets/controls",
      "model_module_version": "1.4.0",
      "model_name": "ButtonStyleModel",
      "state": {}
     },
     "f5a7ec251cdf4a48967949d9f7e6d702": {
      "model_module": "@jupyter-widgets/base",
      "model_module_version": "1.1.0",
      "model_name": "LayoutModel",
      "state": {}
     },
     "f5e61c0515e34954b9ab7970bd31bf78": {
      "model_module": "@jupyter-widgets/controls",
      "model_module_version": "1.4.0",
      "model_name": "DescriptionStyleModel",
      "state": {
       "description_width": ""
      }
     },
     "f5eff4b5d24a4c629b3449d91d7d7ca3": {
      "model_module": "@jupyter-widgets/base",
      "model_module_version": "1.1.0",
      "model_name": "LayoutModel",
      "state": {}
     },
     "f5fb4906ee3a42a6910cfc3bb61985cc": {
      "model_module": "@jupyter-widgets/controls",
      "model_module_version": "1.4.0",
      "model_name": "DescriptionStyleModel",
      "state": {
       "description_width": ""
      }
     },
     "f60d393610744e15985336e265ec9dc9": {
      "model_module": "@jupyter-widgets/base",
      "model_module_version": "1.1.0",
      "model_name": "LayoutModel",
      "state": {}
     },
     "f61ce3bb73644698b527f11c9ae582fa": {
      "model_module": "@jupyter-widgets/base",
      "model_module_version": "1.1.0",
      "model_name": "LayoutModel",
      "state": {}
     },
     "f6247a10050245d396baa3487768d737": {
      "model_module": "@jupyter-widgets/base",
      "model_module_version": "1.1.0",
      "model_name": "LayoutModel",
      "state": {}
     },
     "f62d6196f0874d81b5ecaf77ed30a695": {
      "model_module": "@jupyter-widgets/base",
      "model_module_version": "1.1.0",
      "model_name": "LayoutModel",
      "state": {}
     },
     "f633583c7fd94f1d84fd0b29a8367044": {
      "model_module": "@jupyter-widgets/controls",
      "model_module_version": "1.4.0",
      "model_name": "ButtonModel",
      "state": {
       "_dom_classes": [
        "gridbutton",
        "b4"
       ],
       "disabled": true,
       "layout": "IPY_MODEL_581cef88be2741a9bde4fcb6422ff1b0",
       "style": "IPY_MODEL_d5be3f1b603a4a388ddf20fa4b036a14"
      }
     },
     "f64ed53872f4486988a62044d9a5c069": {
      "model_module": "@jupyter-widgets/controls",
      "model_module_version": "1.4.0",
      "model_name": "HTMLModel",
      "state": {
       "layout": "IPY_MODEL_f5a7ec251cdf4a48967949d9f7e6d702",
       "style": "IPY_MODEL_2a2fb08121af4afe9f8583c5ac9bbc5e",
       "value": "<style>.widget-text INPUT {border-collapse: collapse !important}\n.gridbutton {margin:0; padding:0; width:2em; height:2em; border:1px solid #999; color:#666}\n.blankbutton, .addablebutton {background-color:white; color:#666}\n.blankbutton {border:0px !important}\n.blankcell INPUT {border:0px !important}\n.addablecell INPUT, .removablecell INPUT {background-position: right top; background-size: 1em; background-repeat: no-repeat}\n.addablecell INPUT {background-image: url('data:image/png;base64,iVBORw0KGgoAAAANSUhEUgAAAEYAAAA8BAAAAAA7DH7+AAAABGdBTUEAALGPC/xhBQAAACBjSFJNAAB6JgAAgIQAAPoAAACA6AAAdTAAAOpgAAA6mAAAF3CculE8AAAAAnRSTlMAAHaTzTgAAAACYktHRAAPOjI+owAAAAlwSFlzAAAN1wAADdcBQiibeAAAAAd0SU1FB+MCBRIvKscf5nsAAAAtSURBVEjHY2AYBaSBmTNnThhVM6pmaKvhnIkVTBjqagZbOI+qGVVDHTXDAwAAnSews7vfUfkAAAAldEVYdGRhdGU6Y3JlYXRlADIwMTktMDItMDVUMTc6NDc6NDIrMDE6MDDD7zGLAAAAJXRFWHRkYXRlOm1vZGlmeQAyMDE5LTAyLTA1VDE3OjQ3OjQyKzAxOjAwsrKJNwAAAABJRU5ErkJggg==')}\n.addablecell INPUT, .addablebutton INPUT {border:1px dashed #999 !important}\n.removablecell INPUT {background-image: url('data:image/png;base64,iVBORw0KGgoAAAANSUhEUgAAAEYAAAA8BAAAAAA7DH7+AAAABGdBTUEAALGPC/xhBQAAACBjSFJNAAB6JgAAgIQAAPoAAACA6AAAdTAAAOpgAAA6mAAAF3CculE8AAAAAnRSTlMAAHaTzTgAAAACYktHRAAPOjI+owAAAAlwSFlzAAAN1wAADdcBQiibeAAAAAd0SU1FB+MCBRIvL7d1EvQAAAAgSURBVEjHY2AYBaNgFIwwwDkTK5gw1NWMglEwCgYxAAAoCFJ7GFQEKQAAACV0RVh0ZGF0ZTpjcmVhdGUAMjAxOS0wMi0wNVQxNzo0Nzo0NyswMTowMJHXHiwAAAAldEVYdGRhdGU6bW9kaWZ5ADIwMTktMDItMDVUMTc6NDc6NDcrMDE6MDDgiqaQAAAAAElFTkSuQmCC')}\n.dirty INPUT {background-color: pink !important}</style>"
      }
     },
     "f688fcd309c04bad8b3ee9f34bf2931f": {
      "model_module": "@jupyter-widgets/base",
      "model_module_version": "1.1.0",
      "model_name": "LayoutModel",
      "state": {}
     },
     "f694c718ee184d9888361c7472447a45": {
      "model_module": "@jupyter-widgets/controls",
      "model_module_version": "1.4.0",
      "model_name": "ButtonStyleModel",
      "state": {}
     },
     "f6a7c3cdb110456c8f04a2a71029034b": {
      "model_module": "@jupyter-widgets/controls",
      "model_module_version": "1.4.0",
      "model_name": "ButtonModel",
      "state": {
       "_dom_classes": [
        "gridbutton",
        "b2"
       ],
       "disabled": true,
       "layout": "IPY_MODEL_d861c29f26634ccfb59b53f634fc937d",
       "style": "IPY_MODEL_61f111d187094122a2781eea0d765c54"
      }
     },
     "f6d130753de948c2af4256a0eff49264": {
      "model_module": "@jupyter-widgets/base",
      "model_module_version": "1.1.0",
      "model_name": "LayoutModel",
      "state": {}
     },
     "f701b5928d7446a3a4e94683626af873": {
      "model_module": "@jupyter-widgets/base",
      "model_module_version": "1.1.0",
      "model_name": "LayoutModel",
      "state": {}
     },
     "f70cfaa598fb4d90915b65399bfb374a": {
      "model_module": "@jupyter-widgets/controls",
      "model_module_version": "1.4.0",
      "model_name": "DescriptionStyleModel",
      "state": {
       "description_width": ""
      }
     },
     "f72d7e857e4a40928c503689c384d6d5": {
      "model_module": "@jupyter-widgets/base",
      "model_module_version": "1.1.0",
      "model_name": "LayoutModel",
      "state": {}
     },
     "f7a84e12cc704bf4958500e78d046713": {
      "model_module": "@jupyter-widgets/base",
      "model_module_version": "1.1.0",
      "model_name": "LayoutModel",
      "state": {}
     },
     "f7d4216f5d78403baab72c5799169e8e": {
      "model_module": "@jupyter-widgets/controls",
      "model_module_version": "1.4.0",
      "model_name": "ToggleButtonModel",
      "state": {
       "_dom_classes": [
        "gridbutton"
       ],
       "description": "-",
       "layout": "IPY_MODEL_24198035057f48ca81a6fa9a718c3f55",
       "style": "IPY_MODEL_1d8a85e0451745eca7adbd5db3e5d346",
       "tooltip": "0, 1"
      }
     },
     "f7de859a887d49ea9e608ad13c871fc1": {
      "model_module": "@jupyter-widgets/base",
      "model_module_version": "1.1.0",
      "model_name": "LayoutModel",
      "state": {}
     },
     "f7f3c94cfec34acabe454e03dcf05ac7": {
      "model_module": "@jupyter-widgets/controls",
      "model_module_version": "1.4.0",
      "model_name": "ButtonModel",
      "state": {
       "_dom_classes": [
        "gridbutton",
        "b3"
       ],
       "disabled": true,
       "layout": "IPY_MODEL_d861c29f26634ccfb59b53f634fc937d",
       "style": "IPY_MODEL_5872862b0e0a461c9b89aa7612907a7b"
      }
     },
     "f7f8a9a539ef4f778d0114c6b71ebec8": {
      "model_module": "@jupyter-widgets/controls",
      "model_module_version": "1.4.0",
      "model_name": "ButtonStyleModel",
      "state": {}
     },
     "f801bd41abcc4730b5ef188ae824d9e0": {
      "model_module": "@jupyter-widgets/base",
      "model_module_version": "1.1.0",
      "model_name": "LayoutModel",
      "state": {}
     },
     "f81e0aab94b74b43b3b77738e4f1c4b0": {
      "model_module": "@jupyter-widgets/controls",
      "model_module_version": "1.4.0",
      "model_name": "ButtonModel",
      "state": {
       "_dom_classes": [
        "gridbutton",
        "b4"
       ],
       "disabled": true,
       "layout": "IPY_MODEL_581cef88be2741a9bde4fcb6422ff1b0",
       "style": "IPY_MODEL_35a7cc05406a4be78c01a2e304f4db67"
      }
     },
     "f822e39add3f44f4a1d11f7c61d4c2a8": {
      "model_module": "@jupyter-widgets/controls",
      "model_module_version": "1.4.0",
      "model_name": "ButtonModel",
      "state": {
       "_dom_classes": [
        "gridbutton",
        "b2"
       ],
       "disabled": true,
       "layout": "IPY_MODEL_196c83a3b43a46dca975be63611b8c09",
       "style": "IPY_MODEL_778f94c9060b4e6d9fe84d3f254778a7"
      }
     },
     "f827dbf90629460381bd433267989a58": {
      "model_module": "@jupyter-widgets/controls",
      "model_module_version": "1.4.0",
      "model_name": "DescriptionStyleModel",
      "state": {
       "description_width": ""
      }
     },
     "f82e1a0f9e6547b78559e0470d3268ff": {
      "model_module": "@jupyter-widgets/base",
      "model_module_version": "1.1.0",
      "model_name": "LayoutModel",
      "state": {}
     },
     "f83e003ba30048c1a3ca986bd0cce3fc": {
      "model_module": "@jupyter-widgets/controls",
      "model_module_version": "1.4.0",
      "model_name": "TextModel",
      "state": {
       "_dom_classes": [
        "blankcell"
       ],
       "disabled": true,
       "layout": "IPY_MODEL_d861c29f26634ccfb59b53f634fc937d",
       "style": "IPY_MODEL_aa49423218a146e79ce3f13c9886ea81"
      }
     },
     "f83eaf9faa934a189eaf8aadb7f67cea": {
      "model_module": "@jupyter-widgets/controls",
      "model_module_version": "1.4.0",
      "model_name": "ButtonModel",
      "state": {
       "_dom_classes": [
        "gridbutton",
        "b1"
       ],
       "disabled": true,
       "layout": "IPY_MODEL_d861c29f26634ccfb59b53f634fc937d",
       "style": "IPY_MODEL_89e8716b3df4473db579cf52eadadf51"
      }
     },
     "f8433b55f01d472583472a5bc386d179": {
      "model_module": "@jupyter-widgets/controls",
      "model_module_version": "1.4.0",
      "model_name": "TextModel",
      "state": {
       "_dom_classes": [
        "blankcell"
       ],
       "disabled": true,
       "layout": "IPY_MODEL_196c83a3b43a46dca975be63611b8c09",
       "style": "IPY_MODEL_012fa8fcdddd44dcb59d0e12ebbcd815"
      }
     },
     "f84eeeaa84584ccd8faf9a401533a983": {
      "model_module": "@jupyter-widgets/controls",
      "model_module_version": "1.4.0",
      "model_name": "TextModel",
      "state": {
       "_dom_classes": [
        "blankcell"
       ],
       "disabled": true,
       "layout": "IPY_MODEL_196c83a3b43a46dca975be63611b8c09",
       "style": "IPY_MODEL_2bb543a600a946c6a813c040491db6ee"
      }
     },
     "f861c6570bea40ccbc1ca8f3fd99dedb": {
      "model_module": "@jupyter-widgets/controls",
      "model_module_version": "1.4.0",
      "model_name": "ButtonStyleModel",
      "state": {}
     },
     "f862171523764e73844880ed0e7eab61": {
      "model_module": "@jupyter-widgets/controls",
      "model_module_version": "1.4.0",
      "model_name": "DescriptionStyleModel",
      "state": {
       "description_width": ""
      }
     },
     "f870801240564e6496400b27a20d99c7": {
      "model_module": "@jupyter-widgets/controls",
      "model_module_version": "1.4.0",
      "model_name": "ButtonStyleModel",
      "state": {}
     },
     "f88da213c0d548b883b6b69764abe8ec": {
      "model_module": "@jupyter-widgets/controls",
      "model_module_version": "1.4.0",
      "model_name": "DescriptionStyleModel",
      "state": {
       "description_width": ""
      }
     },
     "f8b98503563047ea91375676cd6696ab": {
      "model_module": "@jupyter-widgets/controls",
      "model_module_version": "1.4.0",
      "model_name": "TextModel",
      "state": {
       "_dom_classes": [
        "blankcell"
       ],
       "disabled": true,
       "layout": "IPY_MODEL_d861c29f26634ccfb59b53f634fc937d",
       "style": "IPY_MODEL_42e8f013553f413c903977d959618a36"
      }
     },
     "f8c26f15765e4dcea52dd4ac0f3f1b98": {
      "model_module": "@jupyter-widgets/controls",
      "model_module_version": "1.4.0",
      "model_name": "TextModel",
      "state": {
       "_dom_classes": [
        "blankcell"
       ],
       "disabled": true,
       "layout": "IPY_MODEL_24198035057f48ca81a6fa9a718c3f55",
       "style": "IPY_MODEL_1d046853fd454fb29ff6cf26e1cf02df"
      }
     },
     "f91bdfab61fe4db8abd9a1d8828ab9ff": {
      "model_module": "@jupyter-widgets/base",
      "model_module_version": "1.1.0",
      "model_name": "LayoutModel",
      "state": {}
     },
     "f91fb44e4d39417ea8f014594236006b": {
      "model_module": "@jupyter-widgets/controls",
      "model_module_version": "1.4.0",
      "model_name": "DescriptionStyleModel",
      "state": {
       "description_width": ""
      }
     },
     "f928c7f7654448848e6e748c928da0fb": {
      "model_module": "@jupyter-widgets/base",
      "model_module_version": "1.1.0",
      "model_name": "LayoutModel",
      "state": {}
     },
     "f92a4271a1b946c587634d946c8d5185": {
      "model_module": "@jupyter-widgets/controls",
      "model_module_version": "1.4.0",
      "model_name": "TextModel",
      "state": {
       "_dom_classes": [
        "blankcell"
       ],
       "disabled": true,
       "layout": "IPY_MODEL_581cef88be2741a9bde4fcb6422ff1b0",
       "style": "IPY_MODEL_e4bf481f87c54bbcafc3ba9c54f807d4"
      }
     },
     "f9524da6f2e647d0a5f01fa60842ce14": {
      "model_module": "@jupyter-widgets/controls",
      "model_module_version": "1.4.0",
      "model_name": "ButtonStyleModel",
      "state": {}
     },
     "f956883eda9a40b58bca6d18e2245799": {
      "model_module": "@jupyter-widgets/base",
      "model_module_version": "1.1.0",
      "model_name": "LayoutModel",
      "state": {}
     },
     "f95ebd5f9781465ab4fa7956a2b649c8": {
      "model_module": "@jupyter-widgets/base",
      "model_module_version": "1.1.0",
      "model_name": "LayoutModel",
      "state": {}
     },
     "f961209120204470891f026e1c400772": {
      "model_module": "@jupyter-widgets/controls",
      "model_module_version": "1.4.0",
      "model_name": "VBoxModel",
      "state": {
       "children": [
        "IPY_MODEL_56430a2f2a514dcdb609a685dcf8496d",
        "IPY_MODEL_cee3685d77cf49bd82c032e7e8828658",
        "IPY_MODEL_ed812a7f014a4c31a90ec91586691c92",
        "IPY_MODEL_2904f7dbf14b49ffbf583d3b8b337532",
        "IPY_MODEL_615372d18e214108aa1506729802a998"
       ],
       "layout": "IPY_MODEL_de0fa138eb2242a1bdd8615cb9bfb953"
      }
     },
     "f9782adc0a3541228c7d5a535e92fa60": {
      "model_module": "@jupyter-widgets/base",
      "model_module_version": "1.1.0",
      "model_name": "LayoutModel",
      "state": {}
     },
     "f99a5abf36d34b229038c8170770a96b": {
      "model_module": "@jupyter-widgets/controls",
      "model_module_version": "1.4.0",
      "model_name": "DescriptionStyleModel",
      "state": {
       "description_width": ""
      }
     },
     "fa07fee4e5b447e0ae99e4eed1d46547": {
      "model_module": "@jupyter-widgets/controls",
      "model_module_version": "1.4.0",
      "model_name": "TextModel",
      "state": {
       "_dom_classes": [
        "gridcell"
       ],
       "_view_module": "sage-combinat-widgets",
       "_view_module_version": "^0.2.0",
       "_view_name": "TextWithTooltipView",
       "continuous_update": false,
       "description_tooltip": "",
       "layout": "IPY_MODEL_766582b5db4b44c3b9eb63d9400a6c69",
       "style": "IPY_MODEL_708755f9b47b4af981a1ee789a213846",
       "value": "7"
      }
     },
     "fa243d94c6954ef1972322faa2b7c017": {
      "model_module": "@jupyter-widgets/controls",
      "model_module_version": "1.4.0",
      "model_name": "DescriptionStyleModel",
      "state": {
       "description_width": ""
      }
     },
     "fa4818bcb4f1494fb8806247596007a8": {
      "model_module": "@jupyter-widgets/base",
      "model_module_version": "1.1.0",
      "model_name": "LayoutModel",
      "state": {}
     },
     "fa63be342a0e43dabb2545675bbc2b58": {
      "model_module": "@jupyter-widgets/controls",
      "model_module_version": "1.4.0",
      "model_name": "HBoxModel",
      "state": {
       "children": [
        "IPY_MODEL_0547c74d552a426797c7a0ea2b4c502d",
        "IPY_MODEL_3ae6c4946cfd4d1bb89d7652078d3037",
        "IPY_MODEL_a3dd7cdf12be450a8d3ee4d6e1b6ccd5",
        "IPY_MODEL_d7886f9f471145f5902d7be29606fd05",
        "IPY_MODEL_bd41836d10c642d88d8dda2ae6ca7ae4",
        "IPY_MODEL_8fbbbe28e98c486d802189ba27ba8dba",
        "IPY_MODEL_525560aadc01482bb3e41decaa119743",
        "IPY_MODEL_c12e482332014428a8c64f3646ab487c",
        "IPY_MODEL_0b5bb7b9698746cca83b86bac146280c",
        "IPY_MODEL_831ec7b118a54cf8b46f6cb613a211ac"
       ],
       "layout": "IPY_MODEL_6af42a4001a44ddda5dbbcc9623b3e46"
      }
     },
     "fa8e5c902d734e2889fc032e33f8e55c": {
      "model_module": "@jupyter-widgets/controls",
      "model_module_version": "1.4.0",
      "model_name": "ButtonStyleModel",
      "state": {}
     },
     "fa8ec538c8c54e93a3d0f7d605dc0e94": {
      "model_module": "@jupyter-widgets/base",
      "model_module_version": "1.1.0",
      "model_name": "LayoutModel",
      "state": {}
     },
     "faa5c6fa867f4625903ce384b6fe4a26": {
      "model_module": "@jupyter-widgets/controls",
      "model_module_version": "1.4.0",
      "model_name": "ButtonStyleModel",
      "state": {}
     },
     "faabdc367464487cbdc7243bc25a39d8": {
      "model_module": "@jupyter-widgets/controls",
      "model_module_version": "1.4.0",
      "model_name": "DescriptionStyleModel",
      "state": {
       "description_width": ""
      }
     },
     "fab488fe687f4f30a3e89e2f30eeb25d": {
      "model_module": "@jupyter-widgets/controls",
      "model_module_version": "1.4.0",
      "model_name": "ButtonStyleModel",
      "state": {}
     },
     "fac4ad035b5943ea88e57c2a4c714375": {
      "model_module": "@jupyter-widgets/controls",
      "model_module_version": "1.4.0",
      "model_name": "ButtonModel",
      "state": {
       "_dom_classes": [
        "gridbutton",
        "b3"
       ],
       "disabled": true,
       "layout": "IPY_MODEL_d861c29f26634ccfb59b53f634fc937d",
       "style": "IPY_MODEL_86db2842950d4fd49e6a30d11e805e2e"
      }
     },
     "fafb2cef039a401f8a0ae480d6a2b99b": {
      "model_module": "@jupyter-widgets/base",
      "model_module_version": "1.1.0",
      "model_name": "LayoutModel",
      "state": {}
     },
     "fb05b3a7cfb84184a0de4b2c33f57832": {
      "model_module": "@jupyter-widgets/base",
      "model_module_version": "1.1.0",
      "model_name": "LayoutModel",
      "state": {}
     },
     "fb3cfbee9b224aeba7d9d2b24a6d94d7": {
      "model_module": "@jupyter-widgets/base",
      "model_module_version": "1.1.0",
      "model_name": "LayoutModel",
      "state": {}
     },
     "fb7158331cf64cb5bcaa3ae5840ca6d7": {
      "model_module": "@jupyter-widgets/controls",
      "model_module_version": "1.4.0",
      "model_name": "TextModel",
      "state": {
       "_dom_classes": [
        "blankcell"
       ],
       "disabled": true,
       "layout": "IPY_MODEL_581cef88be2741a9bde4fcb6422ff1b0",
       "style": "IPY_MODEL_cf03aba96b524bae99c402df0a590f17"
      }
     },
     "fb847bedda1c461c85df0fa66c050d9a": {
      "model_module": "@jupyter-widgets/controls",
      "model_module_version": "1.4.0",
      "model_name": "ButtonModel",
      "state": {
       "_dom_classes": [
        "gridbutton",
        "b3"
       ],
       "disabled": true,
       "layout": "IPY_MODEL_d861c29f26634ccfb59b53f634fc937d",
       "style": "IPY_MODEL_7f2bb0223c2748f3b32d8d9434f0931c"
      }
     },
     "fbcce014bf85450bbd645ba3e923e337": {
      "model_module": "@jupyter-widgets/controls",
      "model_module_version": "1.4.0",
      "model_name": "TextModel",
      "state": {
       "_dom_classes": [
        "gridcell"
       ],
       "_view_module": "sage-combinat-widgets",
       "_view_module_version": "^0.2.0",
       "_view_name": "TextWithTooltipView",
       "continuous_update": false,
       "description_tooltip": "",
       "layout": "IPY_MODEL_742ce9cb5c1a4d358dd3aef0fa324d55",
       "style": "IPY_MODEL_a691544a7e2b4f7eb56118df8952f996",
       "value": "2"
      }
     },
     "fbe06f9ea44243ecaa8f6153f74c2744": {
      "model_module": "@jupyter-widgets/controls",
      "model_module_version": "1.4.0",
      "model_name": "DescriptionStyleModel",
      "state": {
       "description_width": ""
      }
     },
     "fbe5dd8001f045e8be7f004762a06ca1": {
      "model_module": "@jupyter-widgets/controls",
      "model_module_version": "1.4.0",
      "model_name": "ToggleButtonModel",
      "state": {
       "_dom_classes": [
        "gridbutton"
       ],
       "description": "-",
       "layout": "IPY_MODEL_ae25d8ee9fe646ebb7fdd668d6ed6cab",
       "style": "IPY_MODEL_da8545d146a74459a446fe4b1acb49cd",
       "tooltip": "0, 1"
      }
     },
     "fc07dad258ce40c287ae5fd6e052461d": {
      "model_module": "@jupyter-widgets/controls",
      "model_module_version": "1.4.0",
      "model_name": "ButtonModel",
      "state": {
       "_dom_classes": [
        "gridbutton",
        "b2"
       ],
       "disabled": true,
       "layout": "IPY_MODEL_581cef88be2741a9bde4fcb6422ff1b0",
       "style": "IPY_MODEL_6068ac1b2db5408b8ee779fde9b6d34b"
      }
     },
     "fc10da01bd1f4078b9dc1d9587975632": {
      "model_module": "@jupyter-widgets/controls",
      "model_module_version": "1.4.0",
      "model_name": "HBoxModel",
      "state": {
       "children": [
        "IPY_MODEL_7b74c677ec5142a4aee47c0760720d2d"
       ],
       "layout": "IPY_MODEL_9d25ccc783e0466d81ecc6fd1a0e0d4e"
      }
     },
     "fc5f355073eb451698ffd9211370bde8": {
      "model_module": "@jupyter-widgets/base",
      "model_module_version": "1.1.0",
      "model_name": "LayoutModel",
      "state": {}
     },
     "fc6453403cb646b5a4b1652de92698d0": {
      "model_module": "@jupyter-widgets/base",
      "model_module_version": "1.1.0",
      "model_name": "LayoutModel",
      "state": {}
     },
     "fc7208d0b9eb45d6a5ad3982663f8691": {
      "model_module": "@jupyter-widgets/base",
      "model_module_version": "1.1.0",
      "model_name": "LayoutModel",
      "state": {}
     },
     "fc94d2a5602b4210b583f36f13f9c922": {
      "model_module": "@jupyter-widgets/controls",
      "model_module_version": "1.4.0",
      "model_name": "ButtonModel",
      "state": {
       "_dom_classes": [
        "gridbutton",
        "b1"
       ],
       "disabled": true,
       "layout": "IPY_MODEL_581cef88be2741a9bde4fcb6422ff1b0",
       "style": "IPY_MODEL_a99fc95c1dca4ebeb64b79c8e538f0d8"
      }
     },
     "fca8a75c99c74b149bef7ddaa31b60a1": {
      "model_module": "@jupyter-widgets/base",
      "model_module_version": "1.1.0",
      "model_name": "LayoutModel",
      "state": {}
     },
     "fcbb0cc676894485854567dd4e312bd5": {
      "model_module": "@jupyter-widgets/controls",
      "model_module_version": "1.4.0",
      "model_name": "ButtonStyleModel",
      "state": {}
     },
     "fcc99c7c49fa4c648ece080fdf507151": {
      "model_module": "@jupyter-widgets/controls",
      "model_module_version": "1.4.0",
      "model_name": "DescriptionStyleModel",
      "state": {
       "description_width": ""
      }
     },
     "fcd827745cb64030b0881bc0c2a11b5f": {
      "model_module": "@jupyter-widgets/controls",
      "model_module_version": "1.4.0",
      "model_name": "ButtonModel",
      "state": {
       "_dom_classes": [
        "gridbutton",
        "b3"
       ],
       "disabled": true,
       "layout": "IPY_MODEL_196c83a3b43a46dca975be63611b8c09",
       "style": "IPY_MODEL_31febd8dafce4fd884b8ee536b8562b4"
      }
     },
     "fce54b6c187d4037821b6a2f0dce2ae5": {
      "model_module": "@jupyter-widgets/controls",
      "model_module_version": "1.4.0",
      "model_name": "HBoxModel",
      "state": {
       "children": [
        "IPY_MODEL_8d95cfcc4a754471a64d8b74d80ae595",
        "IPY_MODEL_2f3a78aacb4d458ebc403af39216c122",
        "IPY_MODEL_8caa47b153d341019e0f5bc729075131",
        "IPY_MODEL_647489188ffb4c97ba8f41e00657f2ef",
        "IPY_MODEL_516e0a4495ab4586857ec65e397967ef",
        "IPY_MODEL_be787bb475334196b99d0bf403c3ee7b",
        "IPY_MODEL_a2e6f0b4a7c04bc9bfa9475371cfe43b",
        "IPY_MODEL_a117657adddc4b95ae7df64db5293382",
        "IPY_MODEL_bc4413985e404402a882e36b41983913",
        "IPY_MODEL_23324f70a2d146458d69a59aea592f68",
        "IPY_MODEL_e010abc706c04d30a09fcd30bd423a15",
        "IPY_MODEL_c8cf75ce5a3641c0a4c8893d9039cfc5"
       ],
       "layout": "IPY_MODEL_8101f503aa3b497da4d3a8d8192ea7fa"
      }
     },
     "fcff547220184d5285e5f9818e4a2f91": {
      "model_module": "@jupyter-widgets/base",
      "model_module_version": "1.1.0",
      "model_name": "LayoutModel",
      "state": {}
     },
     "fd01bdbfb7ec41418d8bc3ea319f3d94": {
      "model_module": "@jupyter-widgets/controls",
      "model_module_version": "1.4.0",
      "model_name": "ButtonModel",
      "state": {
       "_dom_classes": [
        "gridbutton",
        "b2"
       ],
       "disabled": true,
       "layout": "IPY_MODEL_581cef88be2741a9bde4fcb6422ff1b0",
       "style": "IPY_MODEL_53248e2cfba746329ba7417e4acf0778"
      }
     },
     "fd1168f64d044cbe9986c4e169783915": {
      "model_module": "@jupyter-widgets/controls",
      "model_module_version": "1.4.0",
      "model_name": "DescriptionStyleModel",
      "state": {
       "description_width": ""
      }
     },
     "fd3b0ee8e2904d0882f0fb2ca9abd6fd": {
      "model_module": "@jupyter-widgets/base",
      "model_module_version": "1.1.0",
      "model_name": "LayoutModel",
      "state": {}
     },
     "fd3d7a6b407c45cebc0d2f0e9f9d6e18": {
      "model_module": "@jupyter-widgets/controls",
      "model_module_version": "1.4.0",
      "model_name": "ButtonStyleModel",
      "state": {}
     },
     "fd42c7797fbf4dfab4a06405ace553c4": {
      "model_module": "@jupyter-widgets/base",
      "model_module_version": "1.1.0",
      "model_name": "LayoutModel",
      "state": {}
     },
     "fd7429fa34ed47bcbb23985ba1a6b6ca": {
      "model_module": "@jupyter-widgets/controls",
      "model_module_version": "1.4.0",
      "model_name": "TextModel",
      "state": {
       "_dom_classes": [
        "gridcell"
       ],
       "_view_module": "sage-combinat-widgets",
       "_view_module_version": "^0.2.0",
       "_view_name": "TextWithTooltipView",
       "continuous_update": false,
       "description_tooltip": "",
       "layout": "IPY_MODEL_ae25d8ee9fe646ebb7fdd668d6ed6cab",
       "style": "IPY_MODEL_7be2f171de52429d8f051a683306543d",
       "value": "2"
      }
     },
     "fd958fa62ebd4913ae31834e2943faf3": {
      "model_module": "@jupyter-widgets/controls",
      "model_module_version": "1.4.0",
      "model_name": "ButtonStyleModel",
      "state": {}
     },
     "fdb7105a44044c929526f524854ef23b": {
      "model_module": "@jupyter-widgets/base",
      "model_module_version": "1.1.0",
      "model_name": "LayoutModel",
      "state": {}
     },
     "fdca805434c444999a250086e64a513e": {
      "model_module": "@jupyter-widgets/controls",
      "model_module_version": "1.4.0",
      "model_name": "TextModel",
      "state": {
       "_dom_classes": [
        "gridcell"
       ],
       "_view_module": "sage-combinat-widgets",
       "_view_module_version": "^0.2.0",
       "_view_name": "TextWithTooltipView",
       "continuous_update": false,
       "description_tooltip": "",
       "layout": "IPY_MODEL_24198035057f48ca81a6fa9a718c3f55",
       "style": "IPY_MODEL_0b87601f90484ca1b8c46979a526d97a",
       "value": "5"
      }
     },
     "fddcfffe4d1f487394fe368e5714921f": {
      "model_module": "@jupyter-widgets/controls",
      "model_module_version": "1.4.0",
      "model_name": "TextModel",
      "state": {
       "_dom_classes": [
        "blankcell"
       ],
       "disabled": true,
       "layout": "IPY_MODEL_d861c29f26634ccfb59b53f634fc937d",
       "style": "IPY_MODEL_8fd7513f605845e28ae418a492bf4ebd"
      }
     },
     "fde29fecebca4278a1ca4c263b339f51": {
      "model_module": "@jupyter-widgets/controls",
      "model_module_version": "1.4.0",
      "model_name": "ButtonModel",
      "state": {
       "_dom_classes": [
        "gridbutton",
        "b4"
       ],
       "disabled": true,
       "layout": "IPY_MODEL_d861c29f26634ccfb59b53f634fc937d",
       "style": "IPY_MODEL_73a87ac4b03d41da97eac14194510c18"
      }
     },
     "fdf2f17fd2964318b7ff362796d4efba": {
      "model_module": "@jupyter-widgets/controls",
      "model_module_version": "1.4.0",
      "model_name": "TextModel",
      "state": {
       "_dom_classes": [
        "blankcell"
       ],
       "disabled": true,
       "layout": "IPY_MODEL_581cef88be2741a9bde4fcb6422ff1b0",
       "style": "IPY_MODEL_2d3d9ffe85524dae814caf205d2c2c7a"
      }
     },
     "fe0475fe1a5145a590b24e09b6d642fd": {
      "model_module": "@jupyter-widgets/base",
      "model_module_version": "1.1.0",
      "model_name": "LayoutModel",
      "state": {}
     },
     "fe201f36ffef4dfd9b1bd47b324bed4a": {
      "model_module": "@jupyter-widgets/controls",
      "model_module_version": "1.4.0",
      "model_name": "DescriptionStyleModel",
      "state": {
       "description_width": ""
      }
     },
     "fe4d423952324ffa9ceed1abe1c20f84": {
      "model_module": "@jupyter-widgets/base",
      "model_module_version": "1.1.0",
      "model_name": "LayoutModel",
      "state": {}
     },
     "fe668df8673a4534a79fc6b2034f0585": {
      "model_module": "@jupyter-widgets/controls",
      "model_module_version": "1.4.0",
      "model_name": "DescriptionStyleModel",
      "state": {
       "description_width": ""
      }
     },
     "fe72f349c18e4775bb10deeb95ee0984": {
      "model_module": "@jupyter-widgets/base",
      "model_module_version": "1.1.0",
      "model_name": "LayoutModel",
      "state": {}
     },
     "fea158f4c99d455e85cd53f0efb5d21b": {
      "model_module": "@jupyter-widgets/controls",
      "model_module_version": "1.4.0",
      "model_name": "ToggleButtonModel",
      "state": {
       "_dom_classes": [
        "gridbutton"
       ],
       "description": "-",
       "layout": "IPY_MODEL_742ce9cb5c1a4d358dd3aef0fa324d55",
       "style": "IPY_MODEL_5cabe60d1cd84eb6a62731fb79db9be5",
       "tooltip": "1, 1"
      }
     },
     "feb2176dcd5e489eb9d632412bbc638c": {
      "model_module": "@jupyter-widgets/controls",
      "model_module_version": "1.4.0",
      "model_name": "DescriptionStyleModel",
      "state": {
       "description_width": ""
      }
     },
     "feb60ba3e72044e0ae635fb867710a75": {
      "model_module": "@jupyter-widgets/controls",
      "model_module_version": "1.4.0",
      "model_name": "ButtonStyleModel",
      "state": {}
     },
     "fefa2a70bc214db085e08c8ab70aaab6": {
      "model_module": "@jupyter-widgets/base",
      "model_module_version": "1.1.0",
      "model_name": "LayoutModel",
      "state": {}
     },
     "ff1831e8ccf547dabccab5a00cb183f2": {
      "model_module": "@jupyter-widgets/controls",
      "model_module_version": "1.4.0",
      "model_name": "DescriptionStyleModel",
      "state": {
       "description_width": ""
      }
     },
     "ff1e0f36410645f6b2c0f284873e93f0": {
      "model_module": "@jupyter-widgets/base",
      "model_module_version": "1.1.0",
      "model_name": "LayoutModel",
      "state": {}
     },
     "ff3705fe4e234da594ccc099758fae9d": {
      "model_module": "@jupyter-widgets/controls",
      "model_module_version": "1.4.0",
      "model_name": "ButtonModel",
      "state": {
       "_dom_classes": [
        "gridbutton",
        "b1"
       ],
       "disabled": true,
       "layout": "IPY_MODEL_581cef88be2741a9bde4fcb6422ff1b0",
       "style": "IPY_MODEL_60aabefe5d5345ac86f5954b52a91cd4"
      }
     },
     "ff60663e0d3a407fae9255811d653a53": {
      "model_module": "@jupyter-widgets/controls",
      "model_module_version": "1.4.0",
      "model_name": "HBoxModel",
      "state": {
       "children": [
        "IPY_MODEL_6d7ab097761046feb4a544385311cdf7",
        "IPY_MODEL_a67522f509a243d7a8bb495077091c97",
        "IPY_MODEL_9e8f183d32d5433eb3142dc59de4242e",
        "IPY_MODEL_f4981efbb1c34d96b75dfab7603b8210",
        "IPY_MODEL_4917c49468f14527a7ff330b6ea8835e",
        "IPY_MODEL_f8b98503563047ea91375676cd6696ab",
        "IPY_MODEL_2955861bb4df4fd9b484095ef2370bcc",
        "IPY_MODEL_226dfa7b7a8d45cfaec174e9cc24f60f",
        "IPY_MODEL_6a7ff16fd34640b1b90829f7b1b8baba"
       ],
       "layout": "IPY_MODEL_ab108064bbc84a749992b1d913668802"
      }
     },
     "ff724ce176ad49eb95fceed4ab47019c": {
      "model_module": "@jupyter-widgets/controls",
      "model_module_version": "1.4.0",
      "model_name": "ButtonModel",
      "state": {
       "_dom_classes": [
        "gridbutton",
        "b3"
       ],
       "disabled": true,
       "layout": "IPY_MODEL_581cef88be2741a9bde4fcb6422ff1b0",
       "style": "IPY_MODEL_1e6914ba92964bcf9a13b14ec1f087eb"
      }
     },
     "ff992c3ac5174bc8b0922ba97867c83a": {
      "model_module": "@jupyter-widgets/controls",
      "model_module_version": "1.4.0",
      "model_name": "TextModel",
      "state": {
       "_dom_classes": [
        "blankcell"
       ],
       "disabled": true,
       "layout": "IPY_MODEL_d861c29f26634ccfb59b53f634fc937d",
       "style": "IPY_MODEL_e3f797fb757442f39c0c31b06dff09be"
      }
     },
     "ffacd46b5691474d9878eb03d6b4cfa1": {
      "model_module": "@jupyter-widgets/base",
      "model_module_version": "1.1.0",
      "model_name": "LayoutModel",
      "state": {}
     },
     "ffce739905b74e63830662904fa23268": {
      "model_module": "@jupyter-widgets/base",
      "model_module_version": "1.1.0",
      "model_name": "LayoutModel",
      "state": {}
     }
    },
    "version_major": 2,
    "version_minor": 0
   }
  }
 },
 "nbformat": 4,
 "nbformat_minor": 2
}
