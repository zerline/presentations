{
 "cells": [
  {
   "cell_type": "markdown",
   "metadata": {
    "slideshow": {
     "slide_type": "slide"
    }
   },
   "source": [
    "# Widgets for Sage : _Sage Combinat  Widgets_ & _Francy_\n",
    "Cernay, 18th June 2019"
   ]
  },
  {
   "cell_type": "markdown",
   "metadata": {
    "slideshow": {
     "slide_type": "slide"
    }
   },
   "source": [
    "# Sage Combinat Widgets\n",
    "Representing combinatorial objects interactively"
   ]
  },
  {
   "cell_type": "code",
   "execution_count": null,
   "metadata": {
    "slideshow": {
     "slide_type": "subslide"
    }
   },
   "outputs": [],
   "source": [
    "from sage_combinat_widgets import *\n",
    "t = StandardTableaux(15).random_element()\n",
    "wt = GridViewWidget(t)\n",
    "wt"
   ]
  },
  {
   "cell_type": "code",
   "execution_count": null,
   "metadata": {
    "slideshow": {
     "slide_type": "fragment"
    }
   },
   "outputs": [],
   "source": [
    "%display unicode_art \n",
    "wt.value  "
   ]
  },
  {
   "cell_type": "markdown",
   "metadata": {
    "slideshow": {
     "slide_type": "slide"
    }
   },
   "source": [
    "## Configuring cells\n",
    "\n"
   ]
  },
  {
   "cell_type": "code",
   "execution_count": null,
   "metadata": {
    "slideshow": {
     "slide_type": "fragment"
    }
   },
   "outputs": [],
   "source": [
    "from sage_combinat_widgets.grid_view_widget import ButtonCell, AddableButtonCell\n",
    "\n",
    "GridViewWidget(SkewPartition([[7, 4, 2, 1],[2, 1, 1]]), \n",
    "               cell_widget_classes=[ButtonCell],\n",
    "               addable_widget_class=AddableButtonCell,\n",
    "               display_convention='fr')"
   ]
  },
  {
   "cell_type": "code",
   "execution_count": null,
   "metadata": {
    "slideshow": {
     "slide_type": "subslide"
    }
   },
   "outputs": [],
   "source": [
    "from sage.graphs.generators.families import AztecDiamondGraph\n",
    "g = AztecDiamondGraph(8)"
   ]
  },
  {
   "cell_type": "code",
   "execution_count": null,
   "metadata": {
    "slideshow": {
     "slide_type": "fragment"
    }
   },
   "outputs": [],
   "source": [
    "%%html\n",
    "<style>\n",
    ".b1 {background-color: green}\n",
    ".b2 {background-color: blue}\n",
    ".b3 {background-color: red}\n",
    ".b4 {background-color: yellow}\n",
    "</style>"
   ]
  },
  {
   "cell_type": "code",
   "execution_count": null,
   "metadata": {
    "slideshow": {
     "slide_type": "fragment"
    }
   },
   "outputs": [],
   "source": [
    "from sage_combinat_widgets import GridViewWidget, styled_push_button\n",
    "from ipywidgets import Layout\n",
    "smallblyt = Layout(width='12px',height='12px', margin='0', padding='0')\n",
    "Button1 = styled_push_button(disabled=True, style_name='b1')\n",
    "Button2 = styled_push_button(disabled=True, style_name='b2')\n",
    "Button3 = styled_push_button(disabled=True, style_name='b3')\n",
    "Button4 = styled_push_button(disabled=True, style_name='b4')\n",
    "GridViewWidget(g, cell_layout=smallblyt,\n",
    "            cell_widget_classes=[Button1, Button2, Button3, Button4],\n",
    "            cell_widget_class_index = lambda pos:(((1+pos[0])%4 + (2-pos[1])%2)%4)\n",
    "            )"
   ]
  },
  {
   "cell_type": "markdown",
   "metadata": {
    "slideshow": {
     "slide_type": "slide"
    }
   },
   "source": [
    "## As building block for interactive applications"
   ]
  },
  {
   "cell_type": "code",
   "execution_count": null,
   "metadata": {
    "slideshow": {
     "slide_type": "fragment"
    }
   },
   "outputs": [],
   "source": [
    "%display unicode_art\n",
    "from sage_combinat_widgets.grid_view_widget import PartitionGridViewWidget\n",
    "p_input = PartitionGridViewWidget(Partition([2,1]))\n",
    "@interact\n",
    "def f(p = p_input):\n",
    "    return Tableau(p.hook_lengths())"
   ]
  },
  {
   "cell_type": "markdown",
   "metadata": {
    "slideshow": {
     "slide_type": "subslide"
    }
   },
   "source": [
    "As a more advanced application, we build a mini application for interactively exploring products of Schur functions:"
   ]
  },
  {
   "cell_type": "code",
   "execution_count": null,
   "metadata": {
    "slideshow": {
     "slide_type": "fragment"
    }
   },
   "outputs": [],
   "source": [
    "S = SymmetricFunctions(QQ)\n",
    "s = S.s()\n",
    "la_input = PartitionGridViewWidget(Partition([2,1]))\n",
    "mu_input = PartitionGridViewWidget(Partition([2,1]))\n",
    "@interact\n",
    "def f(la = la_input, mu = mu_input):\n",
    "    return s[la] * s[mu]"
   ]
  },
  {
   "cell_type": "markdown",
   "metadata": {
    "slideshow": {
     "slide_type": "subslide"
    }
   },
   "source": [
    "_**NB : sage-combinat-widgets can also be used as components in complex layouts, like for example in the Sage Explorer**_"
   ]
  },
  {
   "cell_type": "markdown",
   "metadata": {
    "slideshow": {
     "slide_type": "slide"
    }
   },
   "source": [
    "## Adapters"
   ]
  },
  {
   "cell_type": "markdown",
   "metadata": {
    "slideshow": {
     "slide_type": "fragment"
    }
   },
   "source": [
    "We _may_ need to define such methods:\n",
    "\n",
    "- `compute_cells(obj)` that builds the cells as a _position to value_ dictionary \n",
    "- mathematical cell content to widget cell content as `cell_to_display(val)`\n",
    "- the reverse as `display_to_cell(disp_val)` (for dealing with various types) \n",
    "- accessors as `get_cell(pos)`, `set_cell(pos, val)`\n",
    "- operations like adding/removing a cell as `add_cell`/`remove_cell`, adding a row as `add_row`, and more\n",
    "\n",
    "_All modification operations should return a new Sage object_"
   ]
  },
  {
   "cell_type": "markdown",
   "metadata": {
    "slideshow": {
     "slide_type": "subslide"
    }
   },
   "source": [
    "## Create your own"
   ]
  },
  {
   "cell_type": "code",
   "execution_count": null,
   "metadata": {
    "slideshow": {
     "slide_type": "subslide"
    }
   },
   "outputs": [],
   "source": [
    "from sage.combinat.permutation import *\n",
    "from sage_widget_adapters.generic_grid_view_adapter import GridViewAdapter # Base adapter\n",
    "\n",
    "class PermutationGridViewAdapter(GridViewAdapter):\n",
    "    objclass = Permutation\n",
    "    celltype = Integer\n",
    "    cellzero = 0\n",
    "\n",
    "    @staticmethod\n",
    "    def compute_cells(obj):\n",
    "        return {(0,i):obj[i] for i in range(len(obj))}\n",
    "\n",
    "pa = PermutationGridViewAdapter()\n",
    "\n",
    "from sage_combinat_widgets import GridViewWidget, BlankButton\n",
    "p0 = Permutation([2,3,4,5,1])\n",
    "wp = GridViewWidget(p0, pa)\n",
    "wp"
   ]
  },
  {
   "cell_type": "markdown",
   "metadata": {
    "slideshow": {
     "slide_type": "subslide"
    }
   },
   "source": [
    "### We can configure actions on our push buttons."
   ]
  },
  {
   "cell_type": "code",
   "execution_count": null,
   "metadata": {
    "slideshow": {
     "slide_type": "fragment"
    }
   },
   "outputs": [],
   "source": [
    "from ipywidgets import Button, HBox, Layout\n",
    "blyt = Layout(width='30px', height='30px')\n",
    "b1 = Button(description='+', layout=blyt)\n",
    "b2 = Button(description='-', layout=blyt)\n",
    "def move(b):\n",
    "    wp.value = p0 * wp.value\n",
    "b1.on_click(move)\n",
    "def back(b):\n",
    "    wp.pop_value()\n",
    "b2.on_click(back)\n",
    "b0 = BlankButton() # just a spacer\n",
    "HBox([wp,b0,b2,b1])"
   ]
  },
  {
   "cell_type": "markdown",
   "metadata": {
    "slideshow": {
     "slide_type": "slide"
    }
   },
   "source": [
    "## You can contribute better examples!"
   ]
  },
  {
   "cell_type": "markdown",
   "metadata": {
    "slideshow": {
     "slide_type": "fragment"
    }
   },
   "source": [
    "$ pip install sage-combinat-widgets _# needs Sage and Jupyter_\n",
    "\n",
    "http://github.com/sagemath/sage-combinat-widgets"
   ]
  },
  {
   "cell_type": "markdown",
   "metadata": {
    "slideshow": {
     "slide_type": "slide"
    }
   },
   "source": [
    "# Francy"
   ]
  },
  {
   "cell_type": "markdown",
   "metadata": {
    "slideshow": {
     "slide_type": "fragment"
    }
   },
   "source": [
    "- A GAP/Javascript library by Manuel Machado Martins\n",
    "\n",
    "https://github.com/gap-packages\n",
    "\n",
    "- in GAP language, encodes graphs, charts .. into JSON strings\n",
    "\n",
    "- sends JSON to Jupyter\n",
    "\n",
    "- with dedicated Javascript adapters, use various JS libraries to display the graph (or chart ..)\n",
    "\n",
    "- currently D3, GraphViz and Vis"
   ]
  },
  {
   "cell_type": "markdown",
   "metadata": {},
   "source": [
    "I currently contribute a Jupyter widget written in Python3, usable with Jupyter kernels based on Py3 (such as Sage kernels)\n",
    "\n",
    "https://github.com/zerline/francy-widget/"
   ]
  },
  {
   "cell_type": "markdown",
   "metadata": {
    "slideshow": {
     "slide_type": "slide"
    }
   },
   "source": [
    "## S4"
   ]
  },
  {
   "cell_type": "code",
   "execution_count": null,
   "metadata": {
    "slideshow": {
     "slide_type": "fragment"
    }
   },
   "outputs": [],
   "source": [
    "S4 = SymmetricGroup(4)\n",
    "N = S4.subgroups()\n",
    "P = Poset((N, lambda h,k: h.is_subgroup(k)))\n",
    "P.plot(label_elements=False, vertex_shape= 'H', vertex_size = 600, vertex_color = 'white')"
   ]
  },
  {
   "cell_type": "code",
   "execution_count": null,
   "metadata": {
    "slideshow": {
     "slide_type": "fragment"
    }
   },
   "outputs": [],
   "source": [
    "D = P.hasse_diagram()\n",
    "import networkx\n",
    "G7 = networkx.Graph()\n",
    "G7.add_edges_from([(e[0], e[1]) for e in D.edges()])"
   ]
  },
  {
   "cell_type": "markdown",
   "metadata": {
    "slideshow": {
     "slide_type": "subslide"
    }
   },
   "source": [
    "For specific layout options, we write a function called _node__options_ , that should return an _options_ dictionary. In our case:\n",
    "- Normal subgroups will be highlighted with a diamond shaped node\n",
    "- Conjugacy classes will be grouped in the final layout"
   ]
  },
  {
   "cell_type": "code",
   "execution_count": null,
   "metadata": {
    "slideshow": {
     "slide_type": "subslide"
    }
   },
   "outputs": [],
   "source": [
    "# Conjugality classes\n",
    "conjugates = {}\n",
    "conjugacy_class = {}\n",
    "for count,c in enumerate(S4._gap_().ConjugacyClassesSubgroups()):\n",
    "    cl = int(count + 1)\n",
    "    conjugates[cl] = []\n",
    "    for s in c.List():\n",
    "        conjugates[cl].append(S4.subgroup(gap_group=s))\n",
    "        conjugacy_class[S4.subgroup(gap_group=s)] = cl\n",
    "\n",
    "def node_options(n):\n",
    "    options = {}\n",
    "    options['layer'] = - conjugacy_class[n]\n",
    "    if n.is_normal():\n",
    "        options['type'] = 'diamond'       \n",
    "    else:\n",
    "        options['type'] = 'circle'        \n",
    "    if n.cardinality() == 24:\n",
    "        options['title'] = 'G'\n",
    "        options['conjugate'] = 0\n",
    "    else:\n",
    "        options['title'] = str(conjugacy_class[n])\n",
    "        options['conjugate'] = conjugacy_class[n]\n",
    "    return options"
   ]
  },
  {
   "cell_type": "code",
   "execution_count": null,
   "metadata": {
    "slideshow": {
     "slide_type": "subslide"
    }
   },
   "outputs": [],
   "source": [
    "from francy_widget import FrancyWidget, FrancyMessage\n",
    "FrancyWidget(G7, \n",
    "                  title=\"S4\", counter=45, height=600, weight=0,\n",
    "                  messages=[\"There are 8 levels in this Group.\"],\n",
    "                  node_options=node_options)"
   ]
  },
  {
   "cell_type": "markdown",
   "metadata": {
    "slideshow": {
     "slide_type": "slide"
    }
   },
   "source": [
    "## Emmy Noether's descent\n",
    "\n",
    "Amalie Emmy Noether (23 March 1882 – 14 April 1935) was a German mathematician who made important contributions to abstract algebra and theoretical physics (https://en.wikipedia.org/wiki/Emmy_Noether).\n",
    "\n",
    "According to the math genealogy project, Emmy Noether had 14 doctoral students, who had 76 themselves, ... so until now she has *1365* descendants."
   ]
  },
  {
   "cell_type": "code",
   "execution_count": null,
   "metadata": {
    "slideshow": {
     "slide_type": "subslide"
    }
   },
   "outputs": [],
   "source": [
    "import networkx, json\n",
    "from francy_widget import FrancyWidget\n",
    "G = networkx.DiGraph()\n",
    "data = json.load(open(\"noether.json\"))\n",
    "nodes = data[\"nodes\"]\n",
    "print(len(nodes))\n",
    "nodes_to_keep = {k:nodes[k] for k in nodes if nodes[k][0]<4}\n",
    "print(len(nodes_to_keep), \"nodes\")\n",
    "edges_to_keep = [e for e in data[\"edges\"] if e[1] in nodes_to_keep]\n",
    "G.add_edges_from(edges_to_keep)\n",
    "def node_options(n):\n",
    "    options = {}\n",
    "    d = nodes[n]\n",
    "    options[\"layer\"] = d[0]\n",
    "    options[\"title\"] = \"%s (%s)\" % (d[2].split(\",\")[0], d[3])\n",
    "    if n in [\"6967\", \"63779\", \"6982\", \"29850\", \"121808\", \"191816\", \"54355\", \"98035\", \"44616\", \"57077\", \"21851\"]:\n",
    "        options[\"type\"] = 'diamond' # women\n",
    "    else:\n",
    "        options[\"type\"] = 'circle' # men\n",
    "    return options\n",
    "FrancyWidget(G, graphType=\"directed\", height=800, zoomToFit=False,\n",
    "             node_options=node_options)"
   ]
  },
  {
   "cell_type": "markdown",
   "metadata": {
    "slideshow": {
     "slide_type": "slide"
    }
   },
   "source": [
    "# Thanks!\n",
    "\n",
    "<odile.benassy@u-psud.fr>"
   ]
  }
 ],
 "metadata": {
  "celltoolbar": "Slideshow",
  "kernelspec": {
   "display_name": "SageMath 8.6",
   "language": "",
   "name": "sagemath"
  },
  "language_info": {
   "codemirror_mode": {
    "name": "ipython",
    "version": 3
   },
   "file_extension": ".py",
   "mimetype": "text/x-python",
   "name": "python",
   "nbconvert_exporter": "python",
   "pygments_lexer": "ipython3",
   "version": "3.6.6"
  },
  "widgets": {
   "application/vnd.jupyter.widget-state+json": {
    "state": {
     "01fa182c05da4dbe82a69a6084bd4c0d": {
      "model_module": "@jupyter-widgets/base",
      "model_module_version": "1.1.0",
      "model_name": "LayoutModel",
      "state": {}
     },
     "03ea97d5be7f494a80cb4b61443c8843": {
      "model_module": "@jupyter-widgets/controls",
      "model_module_version": "1.4.0",
      "model_name": "HBoxModel",
      "state": {
       "children": [
        "IPY_MODEL_2c48099fc26943ee86d3c43c5f89fca0",
        "IPY_MODEL_36d14454eda04108a75fe5f9589be0b6",
        "IPY_MODEL_8ee1c07ffa514b8c933f03587f5ae529",
        "IPY_MODEL_929a1cf78e36431cac790dcd428897a6",
        "IPY_MODEL_fa07fee4e5b447e0ae99e4eed1d46547",
        "IPY_MODEL_4ebd5dcacb724a8c909cf64ccc3a0a4f",
        "IPY_MODEL_8c5843d937484abbbdee8607ed0d75ba"
       ],
       "layout": "IPY_MODEL_0d44d5733e92464bb7ecdc57e9c6d9f9"
      }
     },
     "070b8d7dfd8e4d23b287443a5cd7b6c7": {
      "model_module": "@jupyter-widgets/base",
      "model_module_version": "1.1.0",
      "model_name": "LayoutModel",
      "state": {}
     },
     "0d44d5733e92464bb7ecdc57e9c6d9f9": {
      "model_module": "@jupyter-widgets/base",
      "model_module_version": "1.1.0",
      "model_name": "LayoutModel",
      "state": {}
     },
     "0d47c484701e4db9861ed75e590a88bf": {
      "model_module": "@jupyter-widgets/controls",
      "model_module_version": "1.4.0",
      "model_name": "DescriptionStyleModel",
      "state": {
       "description_width": ""
      }
     },
     "17cc3c35e9f44837be2e1c5fa9afb42d": {
      "model_module": "@jupyter-widgets/base",
      "model_module_version": "1.1.0",
      "model_name": "LayoutModel",
      "state": {}
     },
     "18740a034a6549bcb48f00bf62df861f": {
      "model_module": "@jupyter-widgets/base",
      "model_module_version": "1.1.0",
      "model_name": "LayoutModel",
      "state": {}
     },
     "1e036efa2d47492bb15b3cf523548fbd": {
      "model_module": "@jupyter-widgets/base",
      "model_module_version": "1.1.0",
      "model_name": "LayoutModel",
      "state": {}
     },
     "213b0e08a64148889c08b1c146eebdf2": {
      "model_module": "@jupyter-widgets/controls",
      "model_module_version": "1.4.0",
      "model_name": "DescriptionStyleModel",
      "state": {
       "description_width": ""
      }
     },
     "21d54486608c4f17b30e7f75a06c78e0": {
      "model_module": "@jupyter-widgets/controls",
      "model_module_version": "1.4.0",
      "model_name": "HBoxModel",
      "state": {
       "children": [
        "IPY_MODEL_8ee8ac2d6f0640e185c31f4d9d1c7923",
        "IPY_MODEL_ab74d16804104aee92590ffa3c3df3b0"
       ],
       "layout": "IPY_MODEL_3f0ec5a67dac4ce3bda4b3a463f3b311"
      }
     },
     "242798555d6f4efc80ecef979d077eb8": {
      "model_module": "@jupyter-widgets/base",
      "model_module_version": "1.1.0",
      "model_name": "LayoutModel",
      "state": {}
     },
     "26e3d76c636b40c7ac78f1e48babbfaa": {
      "model_module": "@jupyter-widgets/base",
      "model_module_version": "1.1.0",
      "model_name": "LayoutModel",
      "state": {}
     },
     "2b0d8c86dcf64899a8f07486a3cf112e": {
      "model_module": "@jupyter-widgets/controls",
      "model_module_version": "1.4.0",
      "model_name": "HBoxModel",
      "state": {
       "children": [
        "IPY_MODEL_5c7056a6f15d405c9344135696c51533"
       ],
       "layout": "IPY_MODEL_8232eddedf144ceabbc85c41b8e47601"
      }
     },
     "2c48099fc26943ee86d3c43c5f89fca0": {
      "model_module": "@jupyter-widgets/controls",
      "model_module_version": "1.4.0",
      "model_name": "TextModel",
      "state": {
       "_dom_classes": [
        "gridcell"
       ],
       "_view_module": "sage-combinat-widgets",
       "_view_module_version": "^0.2.0",
       "_view_name": "TextWithTooltipView",
       "continuous_update": false,
       "description_tooltip": "",
       "layout": "IPY_MODEL_766582b5db4b44c3b9eb63d9400a6c69",
       "style": "IPY_MODEL_8d2466ad25e94a01ba33fca7313f6464",
       "value": "1"
      }
     },
     "2cf0020ce19044f79d5d555142e14f4e": {
      "model_module": "@jupyter-widgets/base",
      "model_module_version": "1.1.0",
      "model_name": "LayoutModel",
      "state": {}
     },
     "30e7b3f058754869ab4f8e330c1509a6": {
      "model_module": "@jupyter-widgets/controls",
      "model_module_version": "1.4.0",
      "model_name": "DescriptionStyleModel",
      "state": {
       "description_width": ""
      }
     },
     "3180852e769b4481823a5e2ab66c3d31": {
      "model_module": "@jupyter-widgets/controls",
      "model_module_version": "1.4.0",
      "model_name": "DescriptionStyleModel",
      "state": {
       "description_width": ""
      }
     },
     "33d9bfe6369a470c8a6c722ba0aac4c8": {
      "model_module": "@jupyter-widgets/controls",
      "model_module_version": "1.4.0",
      "model_name": "DescriptionStyleModel",
      "state": {
       "description_width": ""
      }
     },
     "36d14454eda04108a75fe5f9589be0b6": {
      "model_module": "@jupyter-widgets/controls",
      "model_module_version": "1.4.0",
      "model_name": "TextModel",
      "state": {
       "_dom_classes": [
        "gridcell"
       ],
       "_view_module": "sage-combinat-widgets",
       "_view_module_version": "^0.2.0",
       "_view_name": "TextWithTooltipView",
       "continuous_update": false,
       "description_tooltip": "",
       "layout": "IPY_MODEL_766582b5db4b44c3b9eb63d9400a6c69",
       "style": "IPY_MODEL_7a5f492d574b4fe28f08758c561c4745",
       "value": "2"
      }
     },
     "3a50ebe290dd46d29d83ba56744ea38e": {
      "model_module": "@jupyter-widgets/controls",
      "model_module_version": "1.4.0",
      "model_name": "TextModel",
      "state": {
       "_dom_classes": [
        "gridcell"
       ],
       "_view_module": "sage-combinat-widgets",
       "_view_module_version": "^0.2.0",
       "_view_name": "TextWithTooltipView",
       "continuous_update": false,
       "description_tooltip": "",
       "layout": "IPY_MODEL_766582b5db4b44c3b9eb63d9400a6c69",
       "style": "IPY_MODEL_8c20c8dffa3c4b769b11d68215576c76",
       "value": "8"
      }
     },
     "3e248d998c7e48759c23c737823e7479": {
      "model_module": "@jupyter-widgets/base",
      "model_module_version": "1.1.0",
      "model_name": "LayoutModel",
      "state": {}
     },
     "3ed30253f7a9447fb8e8b2bc16342a42": {
      "model_module": "@jupyter-widgets/base",
      "model_module_version": "1.1.0",
      "model_name": "LayoutModel",
      "state": {}
     },
     "3f0ec5a67dac4ce3bda4b3a463f3b311": {
      "model_module": "@jupyter-widgets/base",
      "model_module_version": "1.1.0",
      "model_name": "LayoutModel",
      "state": {}
     },
     "45091ccca07a41e59a1f5bc12664ce6d": {
      "model_module": "@jupyter-widgets/base",
      "model_module_version": "1.1.0",
      "model_name": "LayoutModel",
      "state": {
       "height": "4em",
       "margin": "0",
       "padding": "0",
       "width": "5em"
      }
     },
     "4c92927dd02c416e81dbbf2d6f5ee889": {
      "model_module": "@jupyter-widgets/controls",
      "model_module_version": "1.4.0",
      "model_name": "TextModel",
      "state": {
       "_dom_classes": [
        "gridcell"
       ],
       "_view_module": "sage-combinat-widgets",
       "_view_module_version": "^0.2.0",
       "_view_name": "TextWithTooltipView",
       "continuous_update": false,
       "description_tooltip": "",
       "layout": "IPY_MODEL_766582b5db4b44c3b9eb63d9400a6c69",
       "style": "IPY_MODEL_dbf82955328746739a7297ba75d4aa8f",
       "value": "10"
      }
     },
     "4ebd5dcacb724a8c909cf64ccc3a0a4f": {
      "model_module": "@jupyter-widgets/controls",
      "model_module_version": "1.4.0",
      "model_name": "TextModel",
      "state": {
       "_dom_classes": [
        "gridcell",
        "removablecell"
       ],
       "_view_module": "sage-combinat-widgets",
       "_view_module_version": "^0.2.0",
       "_view_name": "TextWithTooltipView",
       "continuous_update": false,
       "description_tooltip": "",
       "layout": "IPY_MODEL_766582b5db4b44c3b9eb63d9400a6c69",
       "style": "IPY_MODEL_a2fb39ad2d4549f8836e29dc175b8c12",
       "value": "11"
      }
     },
     "50b19b09436949b4b2e0cb8eb18cc412": {
      "model_module": "@jupyter-widgets/controls",
      "model_module_version": "1.4.0",
      "model_name": "DescriptionStyleModel",
      "state": {
       "description_width": ""
      }
     },
     "528ad1670456423b96d861b52b9ca0c6": {
      "model_module": "@jupyter-widgets/base",
      "model_module_version": "1.1.0",
      "model_name": "LayoutModel",
      "state": {}
     },
     "53150ef30e5b41179d4437dc4336ad5f": {
      "model_module": "@jupyter-widgets/controls",
      "model_module_version": "1.4.0",
      "model_name": "DescriptionStyleModel",
      "state": {
       "description_width": ""
      }
     },
     "53da7936224340039000bd7fe242c864": {
      "model_module": "@jupyter-widgets/base",
      "model_module_version": "1.1.0",
      "model_name": "LayoutModel",
      "state": {
       "height": "2em",
       "margin": "0",
       "padding": "0",
       "width": "2em"
      }
     },
     "596f9e2a2fea48ab8f7abe57be3bea18": {
      "model_module": "@jupyter-widgets/base",
      "model_module_version": "1.1.0",
      "model_name": "LayoutModel",
      "state": {}
     },
     "599014365c034cb0b3dacc79194f10f9": {
      "model_module": "@jupyter-widgets/controls",
      "model_module_version": "1.4.0",
      "model_name": "HBoxModel",
      "state": {
       "children": [
        "IPY_MODEL_6665cd0b2f114632a7c475e23919a854",
        "IPY_MODEL_a23219e9d95c4c70bd87989962277f00",
        "IPY_MODEL_4c92927dd02c416e81dbbf2d6f5ee889",
        "IPY_MODEL_f25e2cbf2bcb42b1a0723441c77d9dc0",
        "IPY_MODEL_6642cf2b90d540acad3c5b86e9a0c08b",
        "IPY_MODEL_625f368230614e29813e7e3ed1e4e45d"
       ],
       "layout": "IPY_MODEL_f588ebc55a65419ebf39ece21db946b3"
      }
     },
     "5c7056a6f15d405c9344135696c51533": {
      "model_module": "@jupyter-widgets/controls",
      "model_module_version": "1.4.0",
      "model_name": "TextModel",
      "state": {
       "_dom_classes": [
        "gridcell",
        "removablecell"
       ],
       "_view_module": "sage-combinat-widgets",
       "_view_module_version": "^0.2.0",
       "_view_name": "TextWithTooltipView",
       "continuous_update": false,
       "description_tooltip": "",
       "layout": "IPY_MODEL_766582b5db4b44c3b9eb63d9400a6c69",
       "style": "IPY_MODEL_ab55b19437d84c7da59502c04aaf8900",
       "value": "13"
      }
     },
     "6120ca097709445b9ee6c933d8689b0b": {
      "model_module": "@jupyter-widgets/base",
      "model_module_version": "1.1.0",
      "model_name": "LayoutModel",
      "state": {}
     },
     "61b41646de6d465290c3baf0873143f5": {
      "model_module": "@jupyter-widgets/controls",
      "model_module_version": "1.4.0",
      "model_name": "VBoxModel",
      "state": {
       "children": [
        "IPY_MODEL_03ea97d5be7f494a80cb4b61443c8843",
        "IPY_MODEL_599014365c034cb0b3dacc79194f10f9",
        "IPY_MODEL_eeb5b03c2d074d6d834c4214c655a614",
        "IPY_MODEL_21d54486608c4f17b30e7f75a06c78e0",
        "IPY_MODEL_2b0d8c86dcf64899a8f07486a3cf112e",
        "IPY_MODEL_c077ba372e0c40e8adc9e561d416a7a8"
       ],
       "layout": "IPY_MODEL_26e3d76c636b40c7ac78f1e48babbfaa"
      }
     },
     "625f368230614e29813e7e3ed1e4e45d": {
      "model_module": "@jupyter-widgets/controls",
      "model_module_version": "1.4.0",
      "model_name": "TextModel",
      "state": {
       "_dom_classes": [
        "gridcell",
        "addablecell"
       ],
       "_view_module": "sage-combinat-widgets",
       "_view_module_version": "^0.2.0",
       "_view_name": "TextWithTooltipView",
       "continuous_update": false,
       "description_tooltip": "",
       "layout": "IPY_MODEL_766582b5db4b44c3b9eb63d9400a6c69",
       "style": "IPY_MODEL_b60dad98d40740ca958415febec617c4"
      }
     },
     "6642cf2b90d540acad3c5b86e9a0c08b": {
      "model_module": "@jupyter-widgets/controls",
      "model_module_version": "1.4.0",
      "model_name": "TextModel",
      "state": {
       "_dom_classes": [
        "gridcell",
        "removablecell"
       ],
       "_view_module": "sage-combinat-widgets",
       "_view_module_version": "^0.2.0",
       "_view_name": "TextWithTooltipView",
       "continuous_update": false,
       "description_tooltip": "",
       "layout": "IPY_MODEL_766582b5db4b44c3b9eb63d9400a6c69",
       "style": "IPY_MODEL_30e7b3f058754869ab4f8e330c1509a6",
       "value": "15"
      }
     },
     "6665cd0b2f114632a7c475e23919a854": {
      "model_module": "@jupyter-widgets/controls",
      "model_module_version": "1.4.0",
      "model_name": "TextModel",
      "state": {
       "_dom_classes": [
        "gridcell"
       ],
       "_view_module": "sage-combinat-widgets",
       "_view_module_version": "^0.2.0",
       "_view_name": "TextWithTooltipView",
       "continuous_update": false,
       "description_tooltip": "",
       "layout": "IPY_MODEL_766582b5db4b44c3b9eb63d9400a6c69",
       "style": "IPY_MODEL_53150ef30e5b41179d4437dc4336ad5f",
       "value": "4"
      }
     },
     "708755f9b47b4af981a1ee789a213846": {
      "model_module": "@jupyter-widgets/controls",
      "model_module_version": "1.4.0",
      "model_name": "DescriptionStyleModel",
      "state": {
       "description_width": ""
      }
     },
     "72c2600611694e49b734c23f4260bb98": {
      "model_module": "@jupyter-widgets/controls",
      "model_module_version": "1.4.0",
      "model_name": "DescriptionStyleModel",
      "state": {
       "description_width": ""
      }
     },
     "766582b5db4b44c3b9eb63d9400a6c69": {
      "model_module": "@jupyter-widgets/base",
      "model_module_version": "1.1.0",
      "model_name": "LayoutModel",
      "state": {
       "height": "2em",
       "margin": "0",
       "padding": "0",
       "width": "3em"
      }
     },
     "768f71fd00e54f0f962f4e5ed6bd52bd": {
      "model_module": "@jupyter-widgets/base",
      "model_module_version": "1.1.0",
      "model_name": "LayoutModel",
      "state": {}
     },
     "7a5f492d574b4fe28f08758c561c4745": {
      "model_module": "@jupyter-widgets/controls",
      "model_module_version": "1.4.0",
      "model_name": "DescriptionStyleModel",
      "state": {
       "description_width": ""
      }
     },
     "8232eddedf144ceabbc85c41b8e47601": {
      "model_module": "@jupyter-widgets/base",
      "model_module_version": "1.1.0",
      "model_name": "LayoutModel",
      "state": {}
     },
     "861f53c89a7b463ca3d50165dc5cb1aa": {
      "model_module": "@jupyter-widgets/base",
      "model_module_version": "1.1.0",
      "model_name": "LayoutModel",
      "state": {}
     },
     "878289ad552a498e8a2317e9fb8b0825": {
      "model_module": "@jupyter-widgets/base",
      "model_module_version": "1.1.0",
      "model_name": "LayoutModel",
      "state": {}
     },
     "8b855f47ba784b4799d57dcfe451ddf0": {
      "model_module": "@jupyter-widgets/controls",
      "model_module_version": "1.4.0",
      "model_name": "TextModel",
      "state": {
       "_dom_classes": [
        "gridcell",
        "addablecell"
       ],
       "_view_module": "sage-combinat-widgets",
       "_view_module_version": "^0.2.0",
       "_view_name": "TextWithTooltipView",
       "continuous_update": false,
       "description_tooltip": "",
       "layout": "IPY_MODEL_766582b5db4b44c3b9eb63d9400a6c69",
       "style": "IPY_MODEL_33d9bfe6369a470c8a6c722ba0aac4c8"
      }
     },
     "8c20c8dffa3c4b769b11d68215576c76": {
      "model_module": "@jupyter-widgets/controls",
      "model_module_version": "1.4.0",
      "model_name": "DescriptionStyleModel",
      "state": {
       "description_width": ""
      }
     },
     "8c5843d937484abbbdee8607ed0d75ba": {
      "model_module": "@jupyter-widgets/controls",
      "model_module_version": "1.4.0",
      "model_name": "TextModel",
      "state": {
       "_dom_classes": [
        "gridcell",
        "addablecell"
       ],
       "_view_module": "sage-combinat-widgets",
       "_view_module_version": "^0.2.0",
       "_view_name": "TextWithTooltipView",
       "continuous_update": false,
       "description_tooltip": "",
       "layout": "IPY_MODEL_766582b5db4b44c3b9eb63d9400a6c69",
       "style": "IPY_MODEL_3180852e769b4481823a5e2ab66c3d31"
      }
     },
     "8d2466ad25e94a01ba33fca7313f6464": {
      "model_module": "@jupyter-widgets/controls",
      "model_module_version": "1.4.0",
      "model_name": "DescriptionStyleModel",
      "state": {
       "description_width": ""
      }
     },
     "8ee1c07ffa514b8c933f03587f5ae529": {
      "model_module": "@jupyter-widgets/controls",
      "model_module_version": "1.4.0",
      "model_name": "TextModel",
      "state": {
       "_dom_classes": [
        "gridcell"
       ],
       "_view_module": "sage-combinat-widgets",
       "_view_module_version": "^0.2.0",
       "_view_name": "TextWithTooltipView",
       "continuous_update": false,
       "description_tooltip": "",
       "layout": "IPY_MODEL_766582b5db4b44c3b9eb63d9400a6c69",
       "style": "IPY_MODEL_0d47c484701e4db9861ed75e590a88bf",
       "value": "3"
      }
     },
     "8ee8ac2d6f0640e185c31f4d9d1c7923": {
      "model_module": "@jupyter-widgets/controls",
      "model_module_version": "1.4.0",
      "model_name": "TextModel",
      "state": {
       "_dom_classes": [
        "gridcell"
       ],
       "_view_module": "sage-combinat-widgets",
       "_view_module_version": "^0.2.0",
       "_view_name": "TextWithTooltipView",
       "continuous_update": false,
       "description_tooltip": "",
       "layout": "IPY_MODEL_766582b5db4b44c3b9eb63d9400a6c69",
       "style": "IPY_MODEL_e8982d1dfb2544479de25c0ed7b68e51",
       "value": "9"
      }
     },
     "8fe1d8e22a27482c9174449e6922baf7": {
      "model_module": "@jupyter-widgets/base",
      "model_module_version": "1.1.0",
      "model_name": "LayoutModel",
      "state": {}
     },
     "929a1cf78e36431cac790dcd428897a6": {
      "model_module": "@jupyter-widgets/controls",
      "model_module_version": "1.4.0",
      "model_name": "TextModel",
      "state": {
       "_dom_classes": [
        "gridcell"
       ],
       "_view_module": "sage-combinat-widgets",
       "_view_module_version": "^0.2.0",
       "_view_name": "TextWithTooltipView",
       "continuous_update": false,
       "description_tooltip": "",
       "layout": "IPY_MODEL_766582b5db4b44c3b9eb63d9400a6c69",
       "style": "IPY_MODEL_f1ad8835839e43fb921b665305aa6d51",
       "value": "5"
      }
     },
     "9702568a212241118a1a2b1ae292d6a4": {
      "model_module": "@jupyter-widgets/base",
      "model_module_version": "1.1.0",
      "model_name": "LayoutModel",
      "state": {}
     },
     "a23219e9d95c4c70bd87989962277f00": {
      "model_module": "@jupyter-widgets/controls",
      "model_module_version": "1.4.0",
      "model_name": "TextModel",
      "state": {
       "_dom_classes": [
        "gridcell"
       ],
       "_view_module": "sage-combinat-widgets",
       "_view_module_version": "^0.2.0",
       "_view_name": "TextWithTooltipView",
       "continuous_update": false,
       "description_tooltip": "",
       "layout": "IPY_MODEL_766582b5db4b44c3b9eb63d9400a6c69",
       "style": "IPY_MODEL_c5bb0943d19d4991a75ff92104c2a75a",
       "value": "6"
      }
     },
     "a2fb39ad2d4549f8836e29dc175b8c12": {
      "model_module": "@jupyter-widgets/controls",
      "model_module_version": "1.4.0",
      "model_name": "DescriptionStyleModel",
      "state": {
       "description_width": ""
      }
     },
     "aa0583fd9fc743e39935a7d72fd32ba2": {
      "model_module": "@jupyter-widgets/controls",
      "model_module_version": "1.4.0",
      "model_name": "TextModel",
      "state": {
       "_dom_classes": [
        "gridcell",
        "removablecell"
       ],
       "_view_module": "sage-combinat-widgets",
       "_view_module_version": "^0.2.0",
       "_view_name": "TextWithTooltipView",
       "continuous_update": false,
       "description_tooltip": "",
       "layout": "IPY_MODEL_766582b5db4b44c3b9eb63d9400a6c69",
       "style": "IPY_MODEL_50b19b09436949b4b2e0cb8eb18cc412",
       "value": "14"
      }
     },
     "aa206614759943bf93595f422b9385c4": {
      "model_module": "@jupyter-widgets/base",
      "model_module_version": "1.1.0",
      "model_name": "LayoutModel",
      "state": {}
     },
     "ab55b19437d84c7da59502c04aaf8900": {
      "model_module": "@jupyter-widgets/controls",
      "model_module_version": "1.4.0",
      "model_name": "DescriptionStyleModel",
      "state": {
       "description_width": ""
      }
     },
     "ab74d16804104aee92590ffa3c3df3b0": {
      "model_module": "@jupyter-widgets/controls",
      "model_module_version": "1.4.0",
      "model_name": "TextModel",
      "state": {
       "_dom_classes": [
        "gridcell",
        "addablecell"
       ],
       "_view_module": "sage-combinat-widgets",
       "_view_module_version": "^0.2.0",
       "_view_name": "TextWithTooltipView",
       "continuous_update": false,
       "description_tooltip": "",
       "layout": "IPY_MODEL_766582b5db4b44c3b9eb63d9400a6c69",
       "style": "IPY_MODEL_efe88b46c9a34ab4aa6457bbf3d7808f"
      }
     },
     "b4305207fd8941e6b0c1203a41a4852f": {
      "model_module": "@jupyter-widgets/base",
      "model_module_version": "1.1.0",
      "model_name": "LayoutModel",
      "state": {}
     },
     "b60dad98d40740ca958415febec617c4": {
      "model_module": "@jupyter-widgets/controls",
      "model_module_version": "1.4.0",
      "model_name": "DescriptionStyleModel",
      "state": {
       "description_width": ""
      }
     },
     "b98a117d428349f68dbb684b5e86bb28": {
      "model_module": "@jupyter-widgets/controls",
      "model_module_version": "1.4.0",
      "model_name": "TextModel",
      "state": {
       "_dom_classes": [
        "gridcell",
        "addablecell"
       ],
       "_view_module": "sage-combinat-widgets",
       "_view_module_version": "^0.2.0",
       "_view_name": "TextWithTooltipView",
       "continuous_update": false,
       "description_tooltip": "",
       "layout": "IPY_MODEL_766582b5db4b44c3b9eb63d9400a6c69",
       "style": "IPY_MODEL_213b0e08a64148889c08b1c146eebdf2"
      }
     },
     "c077ba372e0c40e8adc9e561d416a7a8": {
      "model_module": "@jupyter-widgets/controls",
      "model_module_version": "1.4.0",
      "model_name": "HBoxModel",
      "state": {
       "children": [
        "IPY_MODEL_b98a117d428349f68dbb684b5e86bb28"
       ],
       "layout": "IPY_MODEL_528ad1670456423b96d861b52b9ca0c6"
      }
     },
     "c5bb0943d19d4991a75ff92104c2a75a": {
      "model_module": "@jupyter-widgets/controls",
      "model_module_version": "1.4.0",
      "model_name": "DescriptionStyleModel",
      "state": {
       "description_width": ""
      }
     },
     "d2ff4a3623b5453ab6bc87825536b0b5": {
      "model_module": "@jupyter-widgets/base",
      "model_module_version": "1.1.0",
      "model_name": "LayoutModel",
      "state": {
       "height": "3em",
       "margin": "0",
       "padding": "0",
       "width": "7em"
      }
     },
     "dbf82955328746739a7297ba75d4aa8f": {
      "model_module": "@jupyter-widgets/controls",
      "model_module_version": "1.4.0",
      "model_name": "DescriptionStyleModel",
      "state": {
       "description_width": ""
      }
     },
     "e108450830d3437bb5a480fa0661cd23": {
      "model_module": "@jupyter-widgets/base",
      "model_module_version": "1.1.0",
      "model_name": "LayoutModel",
      "state": {}
     },
     "e3aac6e588a548228e3a788a18c99004": {
      "model_module": "@jupyter-widgets/controls",
      "model_module_version": "1.4.0",
      "model_name": "DescriptionStyleModel",
      "state": {
       "description_width": ""
      }
     },
     "e8785768bfb64333a1db30476b6cbf1e": {
      "model_module": "@jupyter-widgets/base",
      "model_module_version": "1.1.0",
      "model_name": "LayoutModel",
      "state": {}
     },
     "e8982d1dfb2544479de25c0ed7b68e51": {
      "model_module": "@jupyter-widgets/controls",
      "model_module_version": "1.4.0",
      "model_name": "DescriptionStyleModel",
      "state": {
       "description_width": ""
      }
     },
     "ed68013f703446a4b6a109bca5a60e76": {
      "model_module": "@jupyter-widgets/controls",
      "model_module_version": "1.4.0",
      "model_name": "HTMLModel",
      "state": {
       "layout": "IPY_MODEL_01fa182c05da4dbe82a69a6084bd4c0d",
       "style": "IPY_MODEL_e3aac6e588a548228e3a788a18c99004",
       "value": "<style>.widget-text INPUT {border-collapse: collapse !important}\n.gridbutton {margin:0; padding:0; width:2em; height:2em; border:1px solid #999; color:#666}\n.blankbutton, .addablebutton {background-color:white; color:#666}\n.blankbutton {border:0px !important}\n.blankcell INPUT {border:0px !important}\n.addablecell INPUT, .removablecell INPUT {background-position: right top; background-size: 1em; background-repeat: no-repeat}\n.addablecell INPUT {background-image: url('data:image/png;base64,iVBORw0KGgoAAAANSUhEUgAAAEYAAAA8BAAAAAA7DH7+AAAABGdBTUEAALGPC/xhBQAAACBjSFJNAAB6JgAAgIQAAPoAAACA6AAAdTAAAOpgAAA6mAAAF3CculE8AAAAAnRSTlMAAHaTzTgAAAACYktHRAAPOjI+owAAAAlwSFlzAAAN1wAADdcBQiibeAAAAAd0SU1FB+MCBRIvKscf5nsAAAAtSURBVEjHY2AYBaSBmTNnThhVM6pmaKvhnIkVTBjqagZbOI+qGVVDHTXDAwAAnSews7vfUfkAAAAldEVYdGRhdGU6Y3JlYXRlADIwMTktMDItMDVUMTc6NDc6NDIrMDE6MDDD7zGLAAAAJXRFWHRkYXRlOm1vZGlmeQAyMDE5LTAyLTA1VDE3OjQ3OjQyKzAxOjAwsrKJNwAAAABJRU5ErkJggg==')}\n.addablecell INPUT, .addablebutton INPUT {border:1px dashed #999 !important}\n.removablecell INPUT {background-image: url('data:image/png;base64,iVBORw0KGgoAAAANSUhEUgAAAEYAAAA8BAAAAAA7DH7+AAAABGdBTUEAALGPC/xhBQAAACBjSFJNAAB6JgAAgIQAAPoAAACA6AAAdTAAAOpgAAA6mAAAF3CculE8AAAAAnRSTlMAAHaTzTgAAAACYktHRAAPOjI+owAAAAlwSFlzAAAN1wAADdcBQiibeAAAAAd0SU1FB+MCBRIvL7d1EvQAAAAgSURBVEjHY2AYBaNgFIwwwDkTK5gw1NWMglEwCgYxAAAoCFJ7GFQEKQAAACV0RVh0ZGF0ZTpjcmVhdGUAMjAxOS0wMi0wNVQxNzo0Nzo0NyswMTowMJHXHiwAAAAldEVYdGRhdGU6bW9kaWZ5ADIwMTktMDItMDVUMTc6NDc6NDcrMDE6MDDgiqaQAAAAAElFTkSuQmCC')}\n.dirty INPUT {background-color: pink !important}</style>"
      }
     },
     "eeb5b03c2d074d6d834c4214c655a614": {
      "model_module": "@jupyter-widgets/controls",
      "model_module_version": "1.4.0",
      "model_name": "HBoxModel",
      "state": {
       "children": [
        "IPY_MODEL_3a50ebe290dd46d29d83ba56744ea38e",
        "IPY_MODEL_aa0583fd9fc743e39935a7d72fd32ba2",
        "IPY_MODEL_8b855f47ba784b4799d57dcfe451ddf0"
       ],
       "layout": "IPY_MODEL_596f9e2a2fea48ab8f7abe57be3bea18"
      }
     },
     "efe88b46c9a34ab4aa6457bbf3d7808f": {
      "model_module": "@jupyter-widgets/controls",
      "model_module_version": "1.4.0",
      "model_name": "DescriptionStyleModel",
      "state": {
       "description_width": ""
      }
     },
     "f1ad8835839e43fb921b665305aa6d51": {
      "model_module": "@jupyter-widgets/controls",
      "model_module_version": "1.4.0",
      "model_name": "DescriptionStyleModel",
      "state": {
       "description_width": ""
      }
     },
     "f25e2cbf2bcb42b1a0723441c77d9dc0": {
      "model_module": "@jupyter-widgets/controls",
      "model_module_version": "1.4.0",
      "model_name": "TextModel",
      "state": {
       "_dom_classes": [
        "gridcell"
       ],
       "_view_module": "sage-combinat-widgets",
       "_view_module_version": "^0.2.0",
       "_view_name": "TextWithTooltipView",
       "continuous_update": false,
       "description_tooltip": "",
       "layout": "IPY_MODEL_766582b5db4b44c3b9eb63d9400a6c69",
       "style": "IPY_MODEL_72c2600611694e49b734c23f4260bb98",
       "value": "12"
      }
     },
     "f588ebc55a65419ebf39ece21db946b3": {
      "model_module": "@jupyter-widgets/base",
      "model_module_version": "1.1.0",
      "model_name": "LayoutModel",
      "state": {}
     },
     "fa07fee4e5b447e0ae99e4eed1d46547": {
      "model_module": "@jupyter-widgets/controls",
      "model_module_version": "1.4.0",
      "model_name": "TextModel",
      "state": {
       "_dom_classes": [
        "gridcell"
       ],
       "_view_module": "sage-combinat-widgets",
       "_view_module_version": "^0.2.0",
       "_view_name": "TextWithTooltipView",
       "continuous_update": false,
       "description_tooltip": "",
       "layout": "IPY_MODEL_766582b5db4b44c3b9eb63d9400a6c69",
       "style": "IPY_MODEL_708755f9b47b4af981a1ee789a213846",
       "value": "7"
      }
     },
     "fa8ec538c8c54e93a3d0f7d605dc0e94": {
      "model_module": "@jupyter-widgets/base",
      "model_module_version": "1.1.0",
      "model_name": "LayoutModel",
      "state": {}
     },
     "fb3cfbee9b224aeba7d9d2b24a6d94d7": {
      "model_module": "@jupyter-widgets/base",
      "model_module_version": "1.1.0",
      "model_name": "LayoutModel",
      "state": {}
     }
    },
    "version_major": 2,
    "version_minor": 0
   }
  }
 },
 "nbformat": 4,
 "nbformat_minor": 2
}
