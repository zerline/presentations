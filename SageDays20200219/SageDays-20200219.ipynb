{
 "cells": [
  {
   "cell_type": "markdown",
   "metadata": {
    "slideshow": {
     "slide_type": "slide"
    }
   },
   "source": [
    "# Visualisation interactive d'objets mathématiques avec *ipywidgets* et construction d'applications\n",
    "\n",
    "### Odile Bénassy\n",
    "\n",
    "### Projet OpenDreamKit, LRI & Université Paris Sud\n",
    "\n",
    "### Sage Days, 19 février 2020\n",
    "\n"
   ]
  },
  {
   "cell_type": "markdown",
   "metadata": {
    "slideshow": {
     "slide_type": "fragment"
    }
   },
   "source": [
    "* **visual** representations: plots, ..\n",
    "* interactivity: interactive **widgets**\n",
    "* how to build **small applications** with only a few lines of code"
   ]
  },
  {
   "cell_type": "markdown",
   "metadata": {
    "slideshow": {
     "slide_type": "slide"
    }
   },
   "source": [
    "Suppose we want to study how Taylor series can approximate the $sinus$ function.\n",
    "\n",
    "$$sin: x \\mapsto sin(x)$$"
   ]
  },
  {
   "cell_type": "code",
   "execution_count": null,
   "metadata": {
    "slideshow": {
     "slide_type": "fragment"
    }
   },
   "outputs": [],
   "source": [
    "s = taylor(sin(x), x, 0, 5)"
   ]
  },
  {
   "cell_type": "code",
   "execution_count": null,
   "metadata": {
    "slideshow": {
     "slide_type": "fragment"
    }
   },
   "outputs": [],
   "source": [
    "plot([x, s,sin], xmin=-5, xmax=5, ymin=-2, ymax=2, color=[\"gray\", \"blue\",\"red\"])"
   ]
  },
  {
   "cell_type": "code",
   "execution_count": null,
   "metadata": {
    "slideshow": {
     "slide_type": "subslide"
    }
   },
   "outputs": [],
   "source": [
    "@interact(degree=(1,25,2))\n",
    "def f(degree=1):\n",
    "    s = taylor(sin(x), x, 0, degree)\n",
    "    display(plot([x, s,sin], xmin=-5, xmax=5, ymin=-2, ymax=2, color=[\"gray\", \"blue\",\"red\"]))\n",
    "    "
   ]
  },
  {
   "cell_type": "markdown",
   "metadata": {
    "slideshow": {
     "slide_type": "slide"
    }
   },
   "source": [
    "`@interact` permet d'obtenir très rapidement une petite application interactive, avec déjà des possibilités de paramétrage riches.\n",
    "\n",
    "Cependant, il n'est pas possible de l'utiliser ensuite comme **brique de base** pour une application.\n",
    "\n",
    "Voici un exemple d'une telle application. Nous allons mélanger une liste en plusieurs étapes."
   ]
  },
  {
   "cell_type": "code",
   "execution_count": null,
   "metadata": {
    "slideshow": {
     "slide_type": "subslide"
    }
   },
   "outputs": [],
   "source": [
    "import random\n",
    "\n",
    "def melange(l, duration):\n",
    "    for t in range(duration):\n",
    "        i = random.randint(0, len(l)-1)\n",
    "        j = random.randint(0, len(l)-1)\n",
    "        l[i], l[j] = l[j], l[i] \n",
    "        \n",
    "l = list(range(10)) ; l"
   ]
  },
  {
   "cell_type": "code",
   "execution_count": null,
   "metadata": {},
   "outputs": [],
   "source": [
    "melange(l, 10); l"
   ]
  },
  {
   "cell_type": "markdown",
   "metadata": {
    "slideshow": {
     "slide_type": "subslide"
    }
   },
   "source": [
    "Mieux comprendre l'algorithme? Traçons l'exécution visuellement:"
   ]
  },
  {
   "cell_type": "code",
   "execution_count": null,
   "metadata": {
    "slideshow": {
     "slide_type": "fragment"
    }
   },
   "outputs": [],
   "source": [
    "import copy\n",
    "\n",
    "def melange(l, duration):\n",
    "    history = [copy.copy(l)]\n",
    "    for t in range(duration):\n",
    "        i = random.randint(0, len(l)-1)\n",
    "        j = random.randint(0, len(l)-1)\n",
    "        l[i], l[j] = l[j], l[i]\n",
    "        history.append(copy.copy(l))\n",
    "    return history\n",
    "\n",
    "l = list(range(10))\n",
    "history = melange(l, 100)"
   ]
  },
  {
   "cell_type": "markdown",
   "metadata": {
    "slideshow": {
     "slide_type": "subslide"
    }
   },
   "source": [
    "## Notre petite application"
   ]
  },
  {
   "cell_type": "code",
   "execution_count": null,
   "metadata": {
    "scrolled": false,
    "slideshow": {
     "slide_type": "fragment"
    }
   },
   "outputs": [],
   "source": [
    "import warnings\n",
    "warnings.filterwarnings('ignore')\n",
    "from bqplot import Bars, LinearScale, Figure\n",
    "from ipywidgets import IntSlider, Button, HTML, VBox\n",
    "\n",
    "l = history[0]\n",
    "bars = Bars(x=range(len(l)), y = l, scales={'x': LinearScale(), 'y': LinearScale()})\n",
    "w1 = Figure(marks=[bars])\n",
    "slider = IntSlider(0, 0, 99) # equiv. IntSlider(min=0, max=99)\n",
    "def update(change):\n",
    "    w1.marks[0].y = history[change[\"new\"]]\n",
    "slider.observe(update, names='value')\n",
    "VBox((slider, w1))"
   ]
  },
  {
   "cell_type": "code",
   "execution_count": null,
   "metadata": {
    "scrolled": false,
    "slideshow": {
     "slide_type": "slide"
    }
   },
   "outputs": [],
   "source": [
    "current_index2 = 0\n",
    "bars = Bars(x=range(len(l)), y = history[current_index2], scales={'x': LinearScale(), 'y': LinearScale()})\n",
    "w2 = Figure(marks=[bars])\n",
    "button =  Button(description=\"Next\")\n",
    "label1 = HTML()\n",
    "def button_clicked(b):\n",
    "    global current_index2\n",
    "    current_index2 += 1\n",
    "    w2.marks[0].y = history[current_index2]\n",
    "    label1.value = '<p style=\"font-size:24px; color:tomato\">Step #%d</p>' % current_index2\n",
    "button.on_click(button_clicked)\n",
    "VBox((button, w2, label1))"
   ]
  },
  {
   "cell_type": "code",
   "execution_count": null,
   "metadata": {
    "slideshow": {
     "slide_type": "skip"
    }
   },
   "outputs": [],
   "source": [
    "from ipywidgets import HTML\n",
    "from traitlets import Int, observe\n",
    "class Indicator(HTML):\n",
    "    step= Int()\n",
    "    @observe('step')\n",
    "    def step_changed(self, change):\n",
    "        self.value = '<p style=\"font-size:24px; color:tomato\">Step #%d</p>' % self.step "
   ]
  },
  {
   "cell_type": "code",
   "execution_count": null,
   "metadata": {
    "slideshow": {
     "slide_type": "skip"
    }
   },
   "outputs": [],
   "source": [
    "current_index = 0\n",
    "bars = Bars(x=range(len(l)), y = history[current_index], scales={'x': LinearScale(), 'y': LinearScale()})\n",
    "w = Figure(marks=[bars])\n",
    "button =  Button(description=\"Next\")\n",
    "label2 = Indicator()\n",
    "def button_clicked(b):\n",
    "    global current_index\n",
    "    current_index += 1\n",
    "    w.marks[0].y = history[current_index]\n",
    "    label2.step = int(current_index)\n",
    "button.on_click(button_clicked)\n",
    "VBox((button, w, label2))"
   ]
  },
  {
   "cell_type": "markdown",
   "metadata": {
    "slideshow": {
     "slide_type": "skip"
    }
   },
   "source": [
    "## Composition de _widgets_ "
   ]
  },
  {
   "cell_type": "code",
   "execution_count": null,
   "metadata": {
    "slideshow": {
     "slide_type": "skip"
    }
   },
   "outputs": [],
   "source": [
    "from ipywidgets import *\n",
    "b = Button(description=\"My button\")\n",
    "t = Textarea()\n",
    "s = Select(options=(\"1\", \"2\", \"3\"))\n",
    "d = Dropdown(options=(\"1\", \"2\", \"3\"))\n",
    "#HBox((b,t,s))"
   ]
  },
  {
   "cell_type": "code",
   "execution_count": null,
   "metadata": {
    "slideshow": {
     "slide_type": "skip"
    }
   },
   "outputs": [],
   "source": [
    "#VBox((b,d,t))"
   ]
  },
  {
   "cell_type": "markdown",
   "metadata": {
    "slideshow": {
     "slide_type": "slide"
    }
   },
   "source": [
    "* IntText, ToggleButton, FloatRangeSlider ..\n",
    "* HBox, VBox, GridBox, Accordion, Tabs .. \n",
    "\n",
    "Liste des widgets `ipywidgets` disponibles\n",
    "\n",
    "* https://ipywidgets.readthedocs.io/en/stable/examples/Widget%20List.html\n",
    "\n",
    "* 'ipywidgets list'"
   ]
  },
  {
   "cell_type": "code",
   "execution_count": null,
   "metadata": {
    "slideshow": {
     "slide_type": "skip"
    }
   },
   "outputs": [],
   "source": [
    "#GridBox((b,b,b,d,d,d,t,t,t), layout=Layout(grid_template_columns=\"repeat(3, 300px)\"))"
   ]
  },
  {
   "cell_type": "markdown",
   "metadata": {
    "slideshow": {
     "slide_type": "slide"
    }
   },
   "source": [
    "# Composition et héritage"
   ]
  },
  {
   "cell_type": "markdown",
   "metadata": {
    "slideshow": {
     "slide_type": "subslide"
    }
   },
   "source": [
    "## Sage Combinat Widgets"
   ]
  },
  {
   "cell_type": "code",
   "execution_count": null,
   "metadata": {
    "slideshow": {
     "slide_type": "skip"
    }
   },
   "outputs": [],
   "source": [
    "#from sage_combinat_widgets import GridViewWidget\n",
    "#t = StandardTableaux(15).random_element()\n",
    "#GridViewWidget(t)"
   ]
  },
  {
   "cell_type": "code",
   "execution_count": null,
   "metadata": {},
   "outputs": [],
   "source": [
    "%display unicode_art\n",
    "Sym = SymmetricFunctions(QQ['t']);\n",
    "s = Sym.s()\n",
    "s[3,1].coproduct()"
   ]
  },
  {
   "cell_type": "code",
   "execution_count": null,
   "metadata": {},
   "outputs": [],
   "source": [
    "from sage_combinat_widgets.grid_view_widget import PartitionGridViewWidget\n",
    "@interact\n",
    "def f(p1 = PartitionGridViewWidget(Partition([2,1]))): \n",
    "      return s[p1].coproduct()"
   ]
  },
  {
   "cell_type": "markdown",
   "metadata": {
    "slideshow": {
     "slide_type": "slide"
    }
   },
   "source": [
    "## Sage Explorer"
   ]
  },
  {
   "cell_type": "code",
   "execution_count": null,
   "metadata": {
    "slideshow": {
     "slide_type": "skip"
    }
   },
   "outputs": [],
   "source": [
    "from sage_explorer import explore\n",
    "#sp = SkewPartition()\n",
    "#sin?\n",
    "#explore(sin)\n",
    "#dir(sin)"
   ]
  },
  {
   "cell_type": "code",
   "execution_count": null,
   "metadata": {
    "slideshow": {
     "slide_type": "subslide"
    }
   },
   "outputs": [],
   "source": [
    "from sage_explorer import explore\n",
    "%display unicode_art\n",
    "p = Partition([7, 4, 2, 1])\n",
    "explore(p)"
   ]
  },
  {
   "cell_type": "markdown",
   "metadata": {
    "slideshow": {
     "slide_type": "subslide"
    }
   },
   "source": [
    "## Francy"
   ]
  },
  {
   "cell_type": "code",
   "execution_count": null,
   "metadata": {
    "slideshow": {
     "slide_type": "fragment"
    }
   },
   "outputs": [],
   "source": [
    "import networkx\n",
    "E = FiniteSetMaps(4)\n",
    "f1 = E([0,0,2,3])\n",
    "f2 = E([0,1,1,3])\n",
    "f3 = E([0,1,2,2])\n",
    "H = E.submonoid([f1, f2, f3])\n",
    "g = H.cayley_graph(side='twosided', simple=True)\n",
    "G = networkx.DiGraph()\n",
    "G.add_edges_from([(e[0], e[1]) for e in g.edges()])"
   ]
  },
  {
   "cell_type": "code",
   "execution_count": null,
   "metadata": {},
   "outputs": [],
   "source": [
    "from francy_widget import FrancyWidget\n",
    "llvs = g.level_sets()\n",
    "levels = {}\n",
    "for lvs in llvs:\n",
    "    for n in lvs:\n",
    "        levels[n] = llvs.index(lvs)\n",
    "\n",
    "def node_options(n):\n",
    "    options = {}\n",
    "    if n.is_idempotent():\n",
    "        options['type'] = 'diamond'       \n",
    "    else:\n",
    "        options['type'] = 'circle'\n",
    "    options['layer'] = levels[n]\n",
    "    options['modal_menus'] = [{\n",
    "        'title': 'cardinality',\n",
    "        'funcname': 'cardinality',\n",
    "        'is_method': True\n",
    "    }]\n",
    "    return options\n",
    "\n",
    "fw = FrancyWidget(G, \n",
    "                  title=\"NDPF4\", height=600, weight=0, graphType=\"directed\",\n",
    "                  node_options=node_options)\n",
    "fw"
   ]
  },
  {
   "cell_type": "markdown",
   "metadata": {
    "slideshow": {
     "slide_type": "skip"
    }
   },
   "source": [
    "## Emmy Noether's descent"
   ]
  },
  {
   "cell_type": "markdown",
   "metadata": {
    "slideshow": {
     "slide_type": "slide"
    }
   },
   "source": [
    "Modules utilisés dans cette présentation :\n",
    "    * ipywidgets\n",
    "    * bqplot\n",
    "    * random\n",
    "    * copy\n",
    "    * traitlets\n",
    "    * sage_combinat_widgets\n",
    "    * sage_explorer\n",
    "    * networkx\n",
    "    * francy\n",
    "    * RISE"
   ]
  },
  {
   "cell_type": "markdown",
   "metadata": {
    "slideshow": {
     "slide_type": "slide"
    }
   },
   "source": [
    "## Questions ?\n",
    "\n",
    "    odile.benassy@u-psud.fr\n",
    "    \n",
    "`zerline` sur Github"
   ]
  }
 ],
 "metadata": {
  "celltoolbar": "Slideshow",
  "kernelspec": {
   "display_name": "SageMath 9.0",
   "language": "sage",
   "name": "sagemath"
  },
  "language_info": {
   "codemirror_mode": {
    "name": "ipython",
    "version": 3
   },
   "file_extension": ".py",
   "mimetype": "text/x-python",
   "name": "python",
   "nbconvert_exporter": "python",
   "pygments_lexer": "ipython3",
   "version": "3.7.3"
  },
  "rise": {
   "autolaunch": true,
   "scroll": true,
   "start_slideshow_at": "selected",
   "transtion": "none"
  }
 },
 "nbformat": 4,
 "nbformat_minor": 2
}
